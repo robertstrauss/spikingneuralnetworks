{
 "cells": [
  {
   "cell_type": "markdown",
   "metadata": {},
   "source": [
    "# Example for training Spiking CNN on subset of NMNIST digits\n",
    "\n",
    "## The problem:\n",
    "Training digit classifier(0-9) on a subset(1000 training and 100 testing) of NMNIST digit spikes recorded using DVS camera. Just chagne the training list to for full NMNIST training."
   ]
  },
  {
   "cell_type": "markdown",
   "metadata": {},
   "source": [
    "## Load proper paths for SLAYER Pytorch source modules"
   ]
  },
  {
   "cell_type": "code",
   "execution_count": 1,
   "metadata": {},
   "outputs": [],
   "source": [
    "import sys, os\n",
    "CODE_DIR = os.getcwd()\n",
    "DATA_DIR = os.path.join(CODE_DIR, '../data')\n",
    "RESULTS_DIR = os.path.join(CODE_DIR, '../results')\n",
    "sys.path.append(CODE_DIR + \"/slayerPytorch/src\")"
   ]
  },
  {
   "cell_type": "markdown",
   "metadata": {},
   "source": [
    "## Load required modules\n",
    "\n",
    "SLAYER modules are available as `snn`\n",
    "* The `spike-layer` module will be available as `snn.layer`.\n",
    "* The `yaml-parameter` module will be availabe as `snn.params`.\n",
    "* The `spike-loss` module will be available as `snn.loss`.\n",
    "* The `spike-classifier` module will be available as `snn.predict`.\n",
    "* The `spike-IO` module will be available as `snn.io`.\n"
   ]
  },
  {
   "cell_type": "code",
   "execution_count": 20,
   "metadata": {},
   "outputs": [],
   "source": [
    "from datetime import datetime\n",
    "import tqdm.notebook as tqdm\n",
    "import numpy as np\n",
    "import matplotlib.pyplot as plt\n",
    "import torch\n",
    "from torch.utils.data import Dataset, DataLoader\n",
    "import slayerSNN as snn\n",
    "from learningStats import learningStats\n",
    "from IPython.display import HTML\n",
    "import zipfile\n",
    "from torch.utils.tensorboard import SummaryWriter\n",
    "import torchvision"
   ]
  },
  {
   "cell_type": "markdown",
   "metadata": {},
   "source": [
    "## Read SNN configuration from yaml file\n",
    "See the file for all the configuration parameters. This configuration file will be used to describe the SNN. We will ignore the network configuration  describe in the yaml file here."
   ]
  },
  {
   "cell_type": "code",
   "execution_count": 3,
   "metadata": {},
   "outputs": [],
   "source": [
    "netParams = snn.params(os.path.join(CODE_DIR, 'network-moredata.yaml'))"
   ]
  },
  {
   "cell_type": "code",
   "execution_count": 4,
   "metadata": {},
   "outputs": [
    {
     "data": {
      "text/plain": [
       "{'error': {'type': 'NumSpikes',\n",
       "  'probSlidingWin': 20,\n",
       "  'tgtSpikeRegion': {'start': 0, 'stop': 300},\n",
       "  'tgtSpikeCount': {True: 60, False: 10}},\n",
       " 'path': {'train': {'data': 'NMNIST/Train',\n",
       "   'labels': 'NMNIST/Train/labels.txt'},\n",
       "  'test': {'data': 'NMNIST/Test', 'labels': 'NMNIST/Test/labels.txt'}}}"
      ]
     },
     "execution_count": 4,
     "metadata": {},
     "output_type": "execute_result"
    }
   ],
   "source": [
    "netParams['training']"
   ]
  },
  {
   "cell_type": "markdown",
   "metadata": {},
   "source": [
    "# define base of spiking networks"
   ]
  },
  {
   "cell_type": "raw",
   "metadata": {},
   "source": [
    "class PSPLayer(torch.nn.Module):\n",
    "    def __init__(self, netParams=netParams):\n",
    "        super(PSPLayer, self).__init__()\n",
    "        self.slayer = snn.layer(netParams['neuron'], netParams['simulation'])\n",
    "    def forward(self, x):\n",
    "        return self.slayer.psp(x)"
   ]
  },
  {
   "cell_type": "raw",
   "metadata": {},
   "source": [
    "class ApplySpikeLayer(torch.nn.Module):\n",
    "    def __init__(self, netParams=netParams):\n",
    "        super(ApplySpikeLayer, self).__init__()\n",
    "        self.slayer = snn.layer(netParams['neuron'], netParams['simulation'])\n",
    "    def forward(self, x):\n",
    "        return self.slayer.spike(x)"
   ]
  },
  {
   "cell_type": "raw",
   "metadata": {},
   "source": [
    "class SpikingNetwork(torch.nn.Module):\n",
    "    def __init__(self, device=torch.device(\"cuda:0\"), netParams=netParams):\n",
    "        super(SpikingNetwork, self).__init__()\n",
    "       "
   ]
  },
  {
   "cell_type": "markdown",
   "metadata": {},
   "source": [
    "## Defne the dataset class\n",
    "The dataset definition follows standard PyTorch dataset definition.\n",
    "Internally, it utilizes snn.io modules to read spikes and returns the spike in correct tensor format (CHWT).\n",
    "* `datasetPath`: the path where the spike files are stored.\n",
    "* `sampleFile`: the file that contains a list of sample indices and its corresponding clases.\n",
    "* `samplingTime`: the sampling time (in ms) to bin the spikes.\n",
    "* `sampleLength`: the length of the sample (in ms)\n",
    "\n",
    "Note: This is a simple dataset class. A dataset that utilizes the folder hierarchy or xml list is easy to create."
   ]
  },
  {
   "cell_type": "markdown",
   "metadata": {},
   "source": [
    "## classifier datasets"
   ]
  },
  {
   "cell_type": "raw",
   "metadata": {},
   "source": [
    "# Dataset definition\n",
    "class nmnistDataset(Dataset):\n",
    "    def __init__(self, datasetPath, sampleFile, samplingTime, sampleLength):\n",
    "        self.path = os.path.join(DATA_DIR, datasetPath)\n",
    "        self.samples = np.loadtxt(os.path.join(DATA_DIR, sampleFile)).astype('int')\n",
    "        self.samplingTime = samplingTime\n",
    "        self.nTimeBins    = int(sampleLength / samplingTime)\n",
    "\n",
    "    def __getitem__(self, index):\n",
    "        inputIndex  = self.samples[index, 0]\n",
    "        classLabel  = self.samples[index, 1]\n",
    "\n",
    "        inputSpikes = snn.io.read2Dspikes(\n",
    "                        os.path.join(self.path, str(classLabel), format(inputIndex.item(), '05d') + '.bin')\n",
    "                        ).toSpikeTensor(torch.zeros((2,34,34,self.nTimeBins)),\n",
    "                        samplingTime=self.samplingTime)\n",
    "#         sparseInputSpikes = torch.sparse_coo_tensor([inputSpikes.p, inputSpikes.y, inputSpikes.x, inputSpikes.t],\n",
    "#                                                         np.ones_like(inputSpikes.p), (2, 34, 34, 306))\n",
    "\n",
    "        desiredClass = torch.zeros((10, 1, 1, 1))\n",
    "        desiredClass[classLabel,...] = 1\n",
    "        return inputSpikes, desiredClass, classLabel\n",
    "\n",
    "    def __len__(self):\n",
    "        return self.samples.shape[0]"
   ]
  },
  {
   "cell_type": "raw",
   "metadata": {},
   "source": [
    "# Dataset definition\n",
    "class nmnistDatasetNoisy(nmnistDataset):\n",
    "    def __init__(self, datasetPath, sampleFile, samplingTime, sampleLength, percentNoise=0.001):\n",
    "        super().__init__(datasetPath, sampleFile, samplingTime, sampleLength)\n",
    "        self.numNoise = int(percentNoise*2*34*34*300)\n",
    "        # generate binary (boolean) noise with percentNoise 1s\n",
    "#         self.noise = torch.cuda.FloatTensor(len(self.samples), 2, 34, 34, self.nTimeBins).uniform_() < percentNoise\n",
    "    def __getitem__(self, index):\n",
    "        inputSpikes, desiredClass, classLabel = super().__getitem__(index)\n",
    "#         for i in range(int(self.percentNoise*torch.numel(inputSpikes))):\n",
    "        p = torch.randint(0, 2, (self.numNoise,))\n",
    "        x, y = torch.randint(0, 34, (2,self.numNoise))\n",
    "        t = torch.randint(0, 300, (self.numNoise,))\n",
    "        inputSpikes[p, x, y, t] = 1-inputSpikes[p, x, y, t]\n",
    "        # noise = torch.FloatTensor(2, 34, 34, self.nTimeBins).uniform_() < self.percentNoise #self.noise[index] # get pre-generated noise for this example\n",
    "        # inputSpikes[noise] = 1-inputSpikes[noise] # invert 1s and 0s where noise=True\n",
    "        return inputSpikes, desiredClass, classLabel"
   ]
  },
  {
   "cell_type": "markdown",
   "metadata": {},
   "source": [
    "## MNIST and MNIST->MNIST datasets"
   ]
  },
  {
   "cell_type": "code",
   "execution_count": 212,
   "metadata": {
    "scrolled": false
   },
   "outputs": [],
   "source": [
    "trainMNIST = torchvision.datasets.MNIST(\n",
    "    root=os.path.join(DATA_DIR,'MNIST'),\n",
    "    train=True,\n",
    "    download=True,\n",
    "    transform=torchvision.transforms.ToTensor())"
   ]
  },
  {
   "cell_type": "code",
   "execution_count": 213,
   "metadata": {},
   "outputs": [],
   "source": [
    "testMNIST = torchvision.datasets.MNIST(\n",
    "    root=os.path.join(DATA_DIR,'MNIST'),\n",
    "    train=False,\n",
    "    download=True,\n",
    "    transform=torchvision.transforms.ToTensor())"
   ]
  },
  {
   "cell_type": "code",
   "execution_count": 214,
   "metadata": {},
   "outputs": [],
   "source": [
    "# Dataset definition\n",
    "class NMNIST_MNIST(Dataset):\n",
    "    def __init__(self, MNIST, datasetPath, sampleFile, samplingTime, sampleLength):\n",
    "        self.path = os.path.join(DATA_DIR, datasetPath)\n",
    "        self.samples = np.loadtxt(os.path.join(DATA_DIR, sampleFile)).astype('int')\n",
    "        self.samplingTime = samplingTime\n",
    "        self.nTimeBins    = int(sampleLength / samplingTime)\n",
    "        self.MNIST = MNIST\n",
    "\n",
    "    def __getitem__(self, index):\n",
    "        inputIndex  = self.samples[index, 0]\n",
    "        classLabel  = self.samples[index, 1]\n",
    "\n",
    "        inputSpikes = snn.io.read2Dspikes(\n",
    "                        os.path.join(self.path, str(classLabel), format(inputIndex.item(), '05d') + '.bin')\n",
    "                        ).toSpikeTensor(torch.zeros((2,34,34,self.nTimeBins)),\n",
    "                        samplingTime=self.samplingTime)\n",
    "#         sparseInputSpikes = torch.sparse_coo_tensor([inputSpikes.p, inputSpikes.y, inputSpikes.x, inputSpikes.t],\n",
    "#                                                         np.ones_like(inputSpikes.p), (2, 34, 34, 306))\n",
    "\n",
    "#         desiredClass = torch.zeros((10, 1, 1, 1))\n",
    "#         desiredClass[classLabel,...] = 1\n",
    "        return inputSpikes, self.MNIST[inputIndex-1][0]\n",
    "\n",
    "    def __len__(self):\n",
    "        return self.samples.shape[0]"
   ]
  },
  {
   "cell_type": "markdown",
   "metadata": {},
   "source": [
    "## Visualize the spike data"
   ]
  },
  {
   "cell_type": "code",
   "execution_count": 215,
   "metadata": {},
   "outputs": [],
   "source": [
    "trainNMNIST = NMNIST_MNIST(trainMNIST,\n",
    "                           datasetPath =netParams['training']['path']['train']['data'], \n",
    "                            sampleFile  =netParams['training']['path']['train']['labels'],\n",
    "                            samplingTime=netParams['simulation']['Ts'],\n",
    "                            sampleLength=netParams['simulation']['tSample'])"
   ]
  },
  {
   "cell_type": "code",
   "execution_count": 216,
   "metadata": {},
   "outputs": [],
   "source": [
    "testNMNIST = NMNIST_MNIST(testMNIST,\n",
    "                          datasetPath =netParams['training']['path']['test']['data'], \n",
    "                            sampleFile  =netParams['training']['path']['test']['labels'],\n",
    "                            samplingTime=netParams['simulation']['Ts'],\n",
    "                            sampleLength=netParams['simulation']['tSample'])"
   ]
  },
  {
   "cell_type": "code",
   "execution_count": 217,
   "metadata": {
    "scrolled": false
   },
   "outputs": [
    {
     "data": {
      "text/html": [
       "\n",
       "<link rel=\"stylesheet\"\n",
       "href=\"https://maxcdn.bootstrapcdn.com/font-awesome/4.4.0/\n",
       "css/font-awesome.min.css\">\n",
       "<script language=\"javascript\">\n",
       "  /* Define the Animation class */\n",
       "  function Animation(frames, img_id, slider_id, interval, loop_select_id){\n",
       "    this.img_id = img_id;\n",
       "    this.slider_id = slider_id;\n",
       "    this.loop_select_id = loop_select_id;\n",
       "    this.interval = interval;\n",
       "    this.current_frame = 0;\n",
       "    this.direction = 0;\n",
       "    this.timer = null;\n",
       "    this.frames = new Array(frames.length);\n",
       "\n",
       "    for (var i=0; i<frames.length; i++)\n",
       "    {\n",
       "     this.frames[i] = new Image();\n",
       "     this.frames[i].src = frames[i];\n",
       "    }\n",
       "    document.getElementById(this.slider_id).max = this.frames.length - 1;\n",
       "    this.set_frame(this.current_frame);\n",
       "  }\n",
       "\n",
       "  Animation.prototype.get_loop_state = function(){\n",
       "    var button_group = document[this.loop_select_id].state;\n",
       "    for (var i = 0; i < button_group.length; i++) {\n",
       "        var button = button_group[i];\n",
       "        if (button.checked) {\n",
       "            return button.value;\n",
       "        }\n",
       "    }\n",
       "    return undefined;\n",
       "  }\n",
       "\n",
       "  Animation.prototype.set_frame = function(frame){\n",
       "    this.current_frame = frame;\n",
       "    document.getElementById(this.img_id).src =\n",
       "            this.frames[this.current_frame].src;\n",
       "    document.getElementById(this.slider_id).value = this.current_frame;\n",
       "  }\n",
       "\n",
       "  Animation.prototype.next_frame = function()\n",
       "  {\n",
       "    this.set_frame(Math.min(this.frames.length - 1, this.current_frame + 1));\n",
       "  }\n",
       "\n",
       "  Animation.prototype.previous_frame = function()\n",
       "  {\n",
       "    this.set_frame(Math.max(0, this.current_frame - 1));\n",
       "  }\n",
       "\n",
       "  Animation.prototype.first_frame = function()\n",
       "  {\n",
       "    this.set_frame(0);\n",
       "  }\n",
       "\n",
       "  Animation.prototype.last_frame = function()\n",
       "  {\n",
       "    this.set_frame(this.frames.length - 1);\n",
       "  }\n",
       "\n",
       "  Animation.prototype.slower = function()\n",
       "  {\n",
       "    this.interval /= 0.7;\n",
       "    if(this.direction > 0){this.play_animation();}\n",
       "    else if(this.direction < 0){this.reverse_animation();}\n",
       "  }\n",
       "\n",
       "  Animation.prototype.faster = function()\n",
       "  {\n",
       "    this.interval *= 0.7;\n",
       "    if(this.direction > 0){this.play_animation();}\n",
       "    else if(this.direction < 0){this.reverse_animation();}\n",
       "  }\n",
       "\n",
       "  Animation.prototype.anim_step_forward = function()\n",
       "  {\n",
       "    this.current_frame += 1;\n",
       "    if(this.current_frame < this.frames.length){\n",
       "      this.set_frame(this.current_frame);\n",
       "    }else{\n",
       "      var loop_state = this.get_loop_state();\n",
       "      if(loop_state == \"loop\"){\n",
       "        this.first_frame();\n",
       "      }else if(loop_state == \"reflect\"){\n",
       "        this.last_frame();\n",
       "        this.reverse_animation();\n",
       "      }else{\n",
       "        this.pause_animation();\n",
       "        this.last_frame();\n",
       "      }\n",
       "    }\n",
       "  }\n",
       "\n",
       "  Animation.prototype.anim_step_reverse = function()\n",
       "  {\n",
       "    this.current_frame -= 1;\n",
       "    if(this.current_frame >= 0){\n",
       "      this.set_frame(this.current_frame);\n",
       "    }else{\n",
       "      var loop_state = this.get_loop_state();\n",
       "      if(loop_state == \"loop\"){\n",
       "        this.last_frame();\n",
       "      }else if(loop_state == \"reflect\"){\n",
       "        this.first_frame();\n",
       "        this.play_animation();\n",
       "      }else{\n",
       "        this.pause_animation();\n",
       "        this.first_frame();\n",
       "      }\n",
       "    }\n",
       "  }\n",
       "\n",
       "  Animation.prototype.pause_animation = function()\n",
       "  {\n",
       "    this.direction = 0;\n",
       "    if (this.timer){\n",
       "      clearInterval(this.timer);\n",
       "      this.timer = null;\n",
       "    }\n",
       "  }\n",
       "\n",
       "  Animation.prototype.play_animation = function()\n",
       "  {\n",
       "    this.pause_animation();\n",
       "    this.direction = 1;\n",
       "    var t = this;\n",
       "    if (!this.timer) this.timer = setInterval(function() {\n",
       "        t.anim_step_forward();\n",
       "    }, this.interval);\n",
       "  }\n",
       "\n",
       "  Animation.prototype.reverse_animation = function()\n",
       "  {\n",
       "    this.pause_animation();\n",
       "    this.direction = -1;\n",
       "    var t = this;\n",
       "    if (!this.timer) this.timer = setInterval(function() {\n",
       "        t.anim_step_reverse();\n",
       "    }, this.interval);\n",
       "  }\n",
       "</script>\n",
       "\n",
       "<div class=\"animation\" align=\"center\">\n",
       "    <img id=\"_anim_img2f3c185a0faa4adf895b36b04592e75d\">\n",
       "    <br>\n",
       "    <input id=\"_anim_slider2f3c185a0faa4adf895b36b04592e75d\" type=\"range\" style=\"width:350px\"\n",
       "           name=\"points\" min=\"0\" max=\"1\" step=\"1\" value=\"0\"\n",
       "           onchange=\"anim2f3c185a0faa4adf895b36b04592e75d.set_frame(parseInt(this.value));\"></input>\n",
       "    <br>\n",
       "    <button onclick=\"anim2f3c185a0faa4adf895b36b04592e75d.slower()\"><i class=\"fa fa-minus\"></i></button>\n",
       "    <button onclick=\"anim2f3c185a0faa4adf895b36b04592e75d.first_frame()\"><i class=\"fa fa-fast-backward\">\n",
       "        </i></button>\n",
       "    <button onclick=\"anim2f3c185a0faa4adf895b36b04592e75d.previous_frame()\">\n",
       "        <i class=\"fa fa-step-backward\"></i></button>\n",
       "    <button onclick=\"anim2f3c185a0faa4adf895b36b04592e75d.reverse_animation()\">\n",
       "        <i class=\"fa fa-play fa-flip-horizontal\"></i></button>\n",
       "    <button onclick=\"anim2f3c185a0faa4adf895b36b04592e75d.pause_animation()\"><i class=\"fa fa-pause\">\n",
       "        </i></button>\n",
       "    <button onclick=\"anim2f3c185a0faa4adf895b36b04592e75d.play_animation()\"><i class=\"fa fa-play\"></i>\n",
       "        </button>\n",
       "    <button onclick=\"anim2f3c185a0faa4adf895b36b04592e75d.next_frame()\"><i class=\"fa fa-step-forward\">\n",
       "        </i></button>\n",
       "    <button onclick=\"anim2f3c185a0faa4adf895b36b04592e75d.last_frame()\"><i class=\"fa fa-fast-forward\">\n",
       "        </i></button>\n",
       "    <button onclick=\"anim2f3c185a0faa4adf895b36b04592e75d.faster()\"><i class=\"fa fa-plus\"></i></button>\n",
       "  <form action=\"#n\" name=\"_anim_loop_select2f3c185a0faa4adf895b36b04592e75d\" class=\"anim_control\">\n",
       "    <input type=\"radio\" name=\"state\"\n",
       "           value=\"once\" > Once </input>\n",
       "    <input type=\"radio\" name=\"state\"\n",
       "           value=\"loop\" checked> Loop </input>\n",
       "    <input type=\"radio\" name=\"state\"\n",
       "           value=\"reflect\" > Reflect </input>\n",
       "  </form>\n",
       "</div>\n",
       "\n",
       "\n",
       "<script language=\"javascript\">\n",
       "  /* Instantiate the Animation class. */\n",
       "  /* The IDs given should match those used in the template above. */\n",
       "  (function() {\n",
       "    var img_id = \"_anim_img2f3c185a0faa4adf895b36b04592e75d\";\n",
       "    var slider_id = \"_anim_slider2f3c185a0faa4adf895b36b04592e75d\";\n",
       "    var loop_select_id = \"_anim_loop_select2f3c185a0faa4adf895b36b04592e75d\";\n",
       "    var frames = new Array(0);\n",
       "    \n",
       "  frames[0] = \"data:image/png;base64,iVBORw0KGgoAAAANSUhEUgAAAbAAAAEgCAYAAADVKCZpAAAABHNCSVQICAgIfAhkiAAAAAlwSFlz\\\n",
       "AAALEgAACxIB0t1+/AAAADl0RVh0U29mdHdhcmUAbWF0cGxvdGxpYiB2ZXJzaW9uIDIuMi4zLCBo\\\n",
       "dHRwOi8vbWF0cGxvdGxpYi5vcmcvIxREBQAAE3pJREFUeJzt3V1sFGX7x/Hf0EZPgGCjhc1WaaAV\\\n",
       "+8pKF3oksZIVY2pRQQQ1qSkRw6Hg25GUxGiNJ5CgiRtNbGKCISaUA7GRBKuSYJqiq4FEg5XGtm4q\\\n",
       "SBuLEVvq/Rzwp3947O5D63Zmru33Qyah2+7c1+zL/HrPXJ31nHNOAAAYMy/oAgAAmAkCDABgEgEG\\\n",
       "ADCJAAMAmESAAQBMIsAAACYRYAAAkwgwAIBJBBgAwCQCDABgEgEGADCJAAMAmESAAQBMIsAAACYR\\\n",
       "YAAAkwgwAIBJBBgAwCQCDABgEgEGADCJAAMAmESAAQBMIsAAACYRYAAAkwgwAIBJBBgAwCQCDABg\\\n",
       "EgEGADCJAAMAmESAAQBMIsAAACYRYAAAkwgwAIBJBBgAwCQCLIQ6Ozu1YsUKlZWVqa2tLehyACCU\\\n",
       "POecC7oI/L+JiQndeeedOnr0qEpKSrR69WodOHBAlZWVGe/jeZ6PFQJzE7vK8GEGFjLd3d0qKyvT\\\n",
       "smXLdNNNN2nLli06fPhw0GUBQOgQYCEzODio22+/ffLrkpISDQ4OBlgRAIRTYdAFYGaSyaSSyWTQ\\\n",
       "ZQBAYAiwkIlGo+rv75/8emBgQNFo9B8/t337dm3fvl0S58AAzE0cQgyZ1atX68yZMzp79qzGxsb0\\\n",
       "4YcfqqmpKeiygJxyWRbgRjEDC5nCwkLt379f69ev18TEhFpaWlRVVRV0WQAQOrTR5wEOIcKabDud\\\n",
       "sL6a2VWGD4cQAQAmEWAAAJMIMACASQQYAMAkuhAB+C6sjRqwhRkYAMAkAgwAYBIBBgAwiQADAJhE\\\n",
       "gAEATKILEQCuMdUFo+K+V4EbwQwMAGASAQYAMIkAAwCYRIABAEwiwAAAJhFgAACTaKMHgGtwoWE7\\\n",
       "mIEBAEwiwAAAJhFgAACTCDAAgEkEGADAJLoQQ6i0tFQLFixQQUGBCgsL1dPTE3RJQF6Z6oK9V9GF\\\n",
       "aAcBFlKfffaZbr311qDLAIDQ4hAiAMAkAiyEPM/T/fffr7q6OiWTyaDLAYBQ4hBiCB0/flzRaFS/\\\n",
       "/vqrEomE7rrrLq1du/a6n0kmk4QbgDnNc85lO5+JgLW2tmr+/Pl6/vnnM/6M53HaGZiOmTRxsKsM\\\n",
       "Hw4hhswff/yh0dHRyf9/+umnqq6uDriqK1yGBdOX6bEM85JPvCwL7OAQYsgMDQ3pkUcekSRdvnxZ\\\n",
       "TzzxhB544IGAqwKA8OEQYh7w6xBiphcKv7VOn8U33Vx/ntlVhg+HEAEAJhFgAACTCDAAgEkEGADA\\\n",
       "JLoQccPy6SQ+p+MB+5iBAQBMIsAAACYRYAAAkwgwAIBJBBgAwCS6EGEeHw+fu57K7I/X3Hg0YQcz\\\n",
       "MACASQQYAMAkAgwAYBIBBgAwiQADAJhEgAEATKKNHqGS64vsTvdTpP27yK9fre+YrqmembjvVeBG\\\n",
       "MAMDAJhEgAEATCLAAAAmEWAAAJMIMACASQRYQFpaWlRcXKzq6urJ2y5cuKBEIqHy8nIlEgkNDw8H\\\n",
       "WGEwvCxLbrmcLd6MluzbOp0lt/wbKaym2vKTgVaETAiwgDz99NPq7Oy87ra2tjatW7dOZ86c0bp1\\\n",
       "69TW1hZQdQAQfp5zzr8/fcF1+vr61NjYqFOnTkmSVqxYoa6uLkUiEaXTad1777364Ycf/ud6PG9u\\\n",
       "/Hacyxeql2FtMxkjvx79/NqaXGJXGT7MwEJkaGhIkUhEkrRkyRINDQ0FXBEAhBdX4ggpz/OyzqyS\\\n",
       "yaSSyaSPFQFAuDADC5HFixcrnU5LktLptIqLizP+7Pbt29XT06Oenh6/ygOAUCHAQqSpqUnt7e2S\\\n",
       "pPb2dm3YsCHgigAgvGjiCMjWrVvV1dWl8+fPa/HixdqzZ48efvhhbd68WT///LOWLl2qgwcPqqio\\\n",
       "6H+uK6xNHNleWDOreCaNF1OPlKmJA/68lnL/2ph97CrDhwDLAwRYNgTY9BBgmbCrDB8OIQIATCLA\\\n",
       "AAAmEWAAAJMIMACASfwhM2ZNWE/GS/q/y+n+U7ibO8L8iE5P/mwJgsQMDABgEgEGADCJAAMAmESA\\\n",
       "AQBMIsAAACYRYHmgTlN/2P1cMdVHwF9dpsvJy7jMbJRs95vuAuBaBBgAwCQCDABgEgEGADCJAAMA\\\n",
       "mESAAQBMIsAAACZxMV/ktUwX5810Md+ZyLYumt+B2cMMDABgEgEGADCJAAMAmESAAQBMIsAAACYR\\\n",
       "YAFpaWlRcXGxqqurJ29rbW1VNBpVLBZTLBbTkSNHbmhdJ2Xv0q8uw7/scnmR26kuf5x9/OnfA8Bs\\\n",
       "IsAC8vTTT6uzs/Mftz/33HNKpVJKpVJ68MEHA6gMAGwgwAKydu1aFRUVBV0GAJhFgIXM/v37VVtb\\\n",
       "q5aWFg0PDwddDgCEFgEWIjt27FBvb69SqZQikYh27dqV8WeTyaTi8bji8biPFQJAeHjOOc5DB6Sv\\\n",
       "r0+NjY06derUtL733zwv7C0b/5SpYcOb4eco5+4euX0s7T0zyIRdZfgwAwuRdDo9+f9Dhw5d16EI\\\n",
       "ALgeF/MNyNatW9XV1aXz58+rpKREe/bsUVdXl1KplDzPU2lpqd55552gy5w1M5tpZV5bZplmetP5\\\n",
       "aQBhxCHEPGDxEKJ/pvfyzuVV6iUOIeYTdpXhwyFEAIBJBBgAwCQCDABgEgEGADCJLkTgGl6Wpo9c\\\n",
       "N3gA+HeYgQEATCLAAAAmEWAAAJMIMACASQQYAMAkuhCR54K96mGmUehnBP49ZmAAAJMIMACASQQY\\\n",
       "AMAkAgwAYBIBBgAwiQADAJhEG/0cRXv39AXbkA+/TPV8xn2vAjeCGRgAwCQCDABgEgEGADCJAAMA\\\n",
       "mESAAQBMIsAC0t/fr4aGBlVWVqqqqkr79u2TJF24cEGJRELl5eVKJBIaHh6elfG9DAuycRmWzDI9\\\n",
       "ztNfE/wy1fN1MtCKkInnnON9E4B0Oq10Oq1Vq1ZpdHRUdXV16ujo0Pvvv6+ioiK9/PLLamtr0/Dw\\\n",
       "sN54442s6/I8omf6cveyd1mif7qt9zyT4cWuMnyYgQUkEolo1apVkqQFCxaooqJCg4ODOnz4sJqb\\\n",
       "myVJzc3N6ujoCLJMAAgtZmAh0NfXp7Vr1+rUqVO64447NDIyIunKb3y33HLL5NeZMAObCWZgmB52\\\n",
       "leHDlTgCdvHiRW3cuFF79+7VwoULr/ue53kZwymZTCqZTPpRIgCEEjOwAI2Pj6uxsVHr16/Xzp07\\\n",
       "JUkrVqxQV1eXIpGI0um07r33Xv3www9Z18MMbCaYgWF62FWGD+fAAuKc07Zt21RRUTEZXpLU1NSk\\\n",
       "9vZ2SVJ7e7s2bNgQVIkAEGrMwAJy/Phx3XPPPaqpqdG8eVd+j3jttddUX1+vzZs36+eff9bSpUt1\\\n",
       "8OBBFRUVZV0XM7Bcmsnbgcd/LmBXGT4EWB4gwHKJAMPU2FWGD4cQAQAmEWAAAJMIMACASQQYAMAk\\\n",
       "/pAZgcjl6fBctlDM5G+6AASDGRgAwCQCDABgEgEGADCJAAMAmESAAQBMogsRAcnd9dj9usAPV5AH\\\n",
       "woUZGADAJAIMAGASAQYAMIkAAwCYRIABAEwiwAAAJtFGj0Bkbj3P3BSf+Tv+NLLPpGY/agt2dCA4\\\n",
       "zMAAACYRYAAAkwgwAIBJBBgAwCQCDABgEgEWkP7+fjU0NKiyslJVVVXat2+fJKm1tVXRaFSxWEyx\\\n",
       "WExHjhwJuNLZ4mVYZnIPF/CSzUzuMz2ZHhc6EJHvPOecXxfzxjXS6bTS6bRWrVql0dFR1dXVqaOj\\\n",
       "QwcPHtT8+fP1/PPP3/C6PC+fdlXTfzn69QLO7aOcT8/Z3MCuMnz4O7CARCIRRSIRSdKCBQtUUVGh\\\n",
       "wcHBgKsCADs4hBgCfX19+uabb1RfXy9J2r9/v2pra9XS0qLh4eGAqwOAcCLAAnbx4kVt3LhRe/fu\\\n",
       "1cKFC7Vjxw719vYqlUopEolo165dU94vmUwqHo8rHo/7XDEAhAPnwAI0Pj6uxsZGrV+/Xjt37vzH\\\n",
       "9/v6+tTY2KhTp05lXQ/nwPzBObC5jV1l+DADC4hzTtu2bVNFRcV14ZVOpyf/f+jQIVVXVwdRHgCE\\\n",
       "HjOwgBw/flz33HOPampqNG/eld8jXnvtNR04cECpVEqe56m0tFTvvPPOZLNHJnN9BhZu+fTczG3s\\\n",
       "KsOHAMsDBFiY5dNzM7exqwwfDiECAEwiwAAAJhFgAACTCDAAgElcSgohk63pgZPoyI1sryTabuxg\\\n",
       "BgYAMIkAAwCYRIABAEwiwAAAJhFgAACTCDAAgEm00cOQTA3OQbfX03htDc9YfmAGBgAwiQADAJhE\\\n",
       "gAEATCLAAAAmEWAAAJPoQkQeoKcMmIuYgQEATCLAAAAmEWAAAJMIMACASQQYAMAkAiwgly5d0po1\\\n",
       "a7Ry5UpVVVVp9+7dkqSzZ8+qvr5eZWVlevzxxzU2NhZwpfCXy7IAuBYBFpCbb75Zx44d07fffqtU\\\n",
       "KqXOzk599dVXeumll/Tcc8/pxx9/1C233KL33nsv6FIBIJQIsIB4nqf58+dLksbHxzU+Pi7P83Ts\\\n",
       "2DFt2rRJktTc3KyOjo4gywSA0CLAAjQxMaFYLKbi4mIlEgktX75cixYtUmHhlb8vLykp0eDgYMBV\\\n",
       "AkA4EWABKigoUCqV0sDAgLq7u/X999/f8H2TyaTi8bji8fgsVggA4UWAhcCiRYvU0NCgEydOaGRk\\\n",
       "RJcvX5YkDQwMKBqNTnmf7du3q6enRz09PX6WCgChQYAF5Ny5cxoZGZEk/fnnnzp69KgqKirU0NCg\\\n",
       "jz76SJLU3t6uDRs2BFkmAISW55yjPzcA3333nZqbmzUxMaG///5bmzdv1iuvvKKffvpJW7Zs0YUL\\\n",
       "F3T33Xfrgw8+0M0335x1XZ7HxWwxtUxv7pm8YnK5LovYVYYPAZYHCDBkQoDlDrvK8OEQIgDAJAIM\\\n",
       "AGASAQYAMIkAAwCYVBh0AQBmTy4bLOZKswbsYAYGADCJAAMAmESAAQBMIsAAACYRYAAAkwgwAIBJ\\\n",
       "tNEDxmW7Qt90W99zuS5gtjEDAwCYRIABAEwiwAAAJhFgAACTCDAAgEl8InMeuPXWW1VaWipJOnfu\\\n",
       "nG677bbAamF8xs/H8fv6+nT+/Pmcrxf/DgGWZ+LxuHp6ehif8RkfeY9DiAAAkwgwAIBJBa2tra1B\\\n",
       "F4HcqqurY3zGZ3zkPc6BAQBM4hAiAMAkAixPdHZ2asWKFSorK1NbW5vv45eWlqqmpkaxWEzxeNyX\\\n",
       "MVtaWlRcXKzq6urJ2y5cuKBEIqHy8nIlEgkNDw/7On5ra6ui0ahisZhisZiOHDkyK2P39/eroaFB\\\n",
       "lZWVqqqq0r59+yT5t/2Zxvdr+y9duqQ1a9Zo5cqVqqqq0u7duyVJZ8+eVX19vcrKyvT4449rbGxs\\\n",
       "VsZHSDiYd/nyZbds2TLX29vr/vrrL1dbW+tOnz7taw1Lly51586d83XMzz//3J08edJVVVVN3vbC\\\n",
       "Cy+4119/3Tnn3Ouvv+5efPFFX8ffvXu3e/PNN2dtzKt++eUXd/LkSeecc7///rsrLy93p0+f9m37\\\n",
       "M43v1/b//fffbnR01Dnn3NjYmFuzZo07ceKEe+yxx9yBAwecc849++yz7u233571WhAcZmB5oLu7\\\n",
       "W2VlZVq2bJluuukmbdmyRYcPHw66rFm3du1aFRUVXXfb4cOH1dzcLElqbm5WR0eHr+P7JRKJaNWq\\\n",
       "VZKkBQsWqKKiQoODg75tf6bx/eJ5nubPny9JGh8f1/j4uDzP07Fjx7Rp0yZJs//8I3gEWB4YHBzU\\\n",
       "7bffPvl1SUmJrzsT6coO5f7771ddXZ2SyaSvY19raGhIkUhEkrRkyRINDQ35XsP+/ftVW1urlpaW\\\n",
       "WT2EeVVfX5+++eYb1dfXB7L9144v+bf9ExMTisViKi4uViKR0PLly7Vo0SIVFl75mMMg3gfwFwGG\\\n",
       "nDh+/Li+/vprffLJJ3rrrbf0xRdfBF2SPM+T5/n7MYw7duxQb2+vUqmUIpGIdu3aNavjXbx4URs3\\\n",
       "btTevXu1cOHC677nx/b/9/h+bn9BQYFSqZQGBgbU3d2t77//ftbGQjgRYHkgGo2qv79/8uuBgQFF\\\n",
       "o1Hfa5Ck4uJiPfLII+ru7vZ1/KsWL16sdDotSUqn0youLvZ9/IKCAs2bN0/PPPPMrD4O4+Pj2rhx\\\n",
       "o5588kk9+uijk+P7tf2Zxvdr+69atGiRGhoadOLECY2MjOjy5cuSgnkfwF8EWB5YvXq1zpw5o7Nn\\\n",
       "z2psbEwffvihmpqafBv/jz/+0Ojo6OT/P/300+s68/zU1NSk9vZ2SVJ7e7s2bNjg6/hXw0OSDh06\\\n",
       "NGuPg3NO27ZtU0VFhXbu3Dl5u1/bn2l8v7b/3LlzGhkZkST9+eefOnr0qCoqKtTQ0KCPPvpIUjDP\\\n",
       "P3wWdBcJcuPjjz925eXlbtmyZe7VV1/1deze3l5XW1vramtrXWVlpW/jb9myxS1ZssQVFha6aDTq\\\n",
       "3n33XXf+/Hl33333ubKyMrdu3Tr322+/+Tr+U0895aqrq11NTY176KGH3C+//DIrY3/55ZdOkqup\\\n",
       "qXErV650K1eudB9//LFv259pfL+2/9tvv3WxWMzV1NS4qqoqt2fPHufcldfi6tWr3fLly92mTZvc\\\n",
       "pUuXZmV8hANX4gAAmMQhRACASQQYAMAkAgwAYBIBBgAwiQADAJhEgAEATCLAAAAmEWAAAJMIMACA\\\n",
       "SQQYAMAkAgwAYBIBBgAwiQADAJhEgAEATCLAAAAmEWAAAJMIMACASQQYAMAkAgwAYBIBBgAw6T9X\\\n",
       "1zcnymSYdAAAAABJRU5ErkJggg==\\\n",
       "\"\n",
       "  frames[1] = \"data:image/png;base64,iVBORw0KGgoAAAANSUhEUgAAAbAAAAEgCAYAAADVKCZpAAAABHNCSVQICAgIfAhkiAAAAAlwSFlz\\\n",
       "AAALEgAACxIB0t1+/AAAADl0RVh0U29mdHdhcmUAbWF0cGxvdGxpYiB2ZXJzaW9uIDIuMi4zLCBo\\\n",
       "dHRwOi8vbWF0cGxvdGxpYi5vcmcvIxREBQAAE4VJREFUeJzt3V9sVGX+x/HPoY3eAMFGC5OpSwOt\\\n",
       "bP8ySwd6JbFLRjamFhUWcTWpKZENl4L752opyUa72RtI2E2crIlNNsEQE8qF2EjCdl0SNk1Zxw0m\\\n",
       "GrbS2NZJBWmzxci21Od3QexvcXuqrdNznu/0/WpO0k4783zPzPR8+pz59pnAOecEAIAxK+IuAACA\\\n",
       "xSDAAAAmEWAAAJMIMACASQQYAMAkAgwAYBIBBgAwiQADAJhEgAEATCLAAAAmEWAAAJMIMACASQQY\\\n",
       "AMAkAgwAYBIBBgAwiQADAJhEgAEATCLAAAAmEWAAAJMIMACASQQYAMAkAgwAYBIBBgAwiQADAJhE\\\n",
       "gAEATCLAAAAmEWAAAJMIMACASQQYAMAkAgwAYBIBBgAwiQADAJhEgAEATCLAPNTb26tNmzapqqpK\\\n",
       "XV1dcZcDAF4KnHMu7iLw/2ZmZvTQQw/p3Llzqqio0NatW3Xy5EnV1taGXicIgggrBJYnDpX+YQbm\\\n",
       "mf7+flVVVWnDhg265557tG/fPp05cybusgDAOwSYZ0ZHR/Xggw/Ofl1RUaHR0dEYKwIAP5XGXQAW\\\n",
       "J5vNKpvNxl0GAMSGAPNMMpnU8PDw7NcjIyNKJpP/83MHDhzQgQMHJPEaGIDliVOIntm6dauuXLmi\\\n",
       "q1evampqSm+88Yba2triLgsAvMMMzDOlpaU6ceKEdu7cqZmZGXV0dKiuri7usgDAO7TRFwFOIQJL\\\n",
       "j0OlfziFCAAwiQADAJhEgAEATCLAAAAmEWAAAJMIMACASQQYAMAkAgwAYBIBBgAwiQADAJjEWohA\\\n",
       "DMIWJWJRMOC7YwYGADCJAAMAmESAAQBMIsAAACYRYAAAkwgwAIBJtNEDMaBdHvj+mIEBAEwiwAAA\\\n",
       "JhFgAACTCDAAgEkEGADAJLoQPVRZWalVq1appKREpaWlGhgYiLskAPAOAeapv/zlL7r//vvjLgMA\\\n",
       "vMUpRACASQSYh4Ig0KOPPqqmpiZls9m4ywEAL3EK0UMXLlxQMpnUZ599pkwmox/+8Ifavn37XT+T\\\n",
       "zWYJNwDLWuCcC3tzWHigs7NTK1eu1EsvvRT6M0HAwkTAUuNQ6R9OIXrmiy++0OTk5Ozn77zzjurr\\\n",
       "62OuCgD8wylEz4yNjenJJ5+UJN2+fVs/+9nP9JOf/CTmqgDAP5xCLAKcQgSWHodK/3AKEQBgEgEG\\\n",
       "ADCJAAMAmESAAQBMogsRMCKshWC+Fp6Fth3QDgRLmIEBAEwiwAAAJhFgAACTCDAAgEkEGADAJLoQ\\\n",
       "i9h8HWjLvdtsMYsCLeY+i2LxoUKOwXMGljADAwCYRIABAEwiwAAAJhFgAACTCDAAgEkEGADAJNro\\\n",
       "i1ixtT1H1fpeyPEBLB1mYAAAkwgwAIBJBBgAwCQCDABgEgEGADCJAItJR0eHysvLVV9fP3vZjRs3\\\n",
       "lMlkVF1drUwmo/Hx8RgrtCOYZ0MYt4gN8AsBFpPnn39evb29d13W1dWlHTt26MqVK9qxY4e6urpi\\\n",
       "qg4A/Bc45/jTKiZDQ0NqbW3V5cuXJUmbNm1SX1+fEomE8vm8HnnkEX300UffejtBsDzmGmFPVF/f\\\n",
       "5sRvC78HgmU+p+VQ6R9mYB4ZGxtTIpGQJK1bt05jY2MxVwQA/mIlDk8FQTDvzCqbzSqbzUZYEQD4\\\n",
       "hRmYR9auXat8Pi9JyufzKi8vD/3ZAwcOaGBgQAMDA1GVBwBeIcA80tbWpu7ubklSd3e3du3aFXNF\\\n",
       "AOAvmjhi8swzz6ivr0/Xr1/X2rVrdfToUT3xxBPau3evPvnkE61fv16nTp1SWVnZt97Wcm/isGkx\\\n",
       "LSnx3gM0cRTXM7AYEGBFgACziACzhkOlfziFCAAwiQADAJhEgAEATCLAAAAm8Y/MwF3me6E+rImh\\\n",
       "kC/uF7ZRoLBtF4VczAv4/piBAQBMIsAAACYRYAAAkwgwAIBJBBgAwCS6EIHvrHAdgvTtAd8fMzAA\\\n",
       "gEkEGADAJAIMAGASAQYAMIkAAwCYRIABAEyijR6GFG4x2UIuy7t8WuKXz57CBmZgAACTCDAAgEkE\\\n",
       "GADAJAIMAGASAQYAMIkAi0lHR4fKy8tVX18/e1lnZ6eSyaRSqZRSqZTOnj0bY4X+CUK2O72Dc29h\\\n",
       "1wm7RjDvR9j4PgurejFb8Qh/xsASAiwmzz//vHp7e//n8hdffFG5XE65XE6PPfZYDJUBgA0EWEy2\\\n",
       "b9+usrKyuMsAALMIMM+cOHFCjY2N6ujo0Pj4eNzlAIC3CDCPHDx4UIODg8rlckokEjp8+HDoz2az\\\n",
       "WaXTaaXT6QgrBAB/BM45XreMydDQkFpbW3X58uUFfe+bgqC4XmAPN/dTdb4ncBDSfLC4Raks/qos\\\n",
       "l+fGwsz/nAm5DodK7zAD80g+n5/9/PTp03d1KAIA7sZivjF55pln1NfXp+vXr6uiokJHjx5VX1+f\\\n",
       "crmcgiBQZWWlXn311bjL9Ewhl+ANm82Fz1jCZnNRKdxSxuA+Kw6cQiwCy+cU4tzcPAEWfgpx4XEQ\\\n",
       "971MgMWLQ6V/OIUIADCJAAMAmESAAQBMIsAAACYRYEWgSSxKGsaFfIQv1+uv4l9iF1gYAgwAYBIB\\\n",
       "BgAwiQADAJhEgAEATCLAAAAmsZRUEVjuS0nNZ75lpua28PuSe3954FDpH2ZgAACTCDAAgEkEGADA\\\n",
       "JAIMAGASAQYAMIkAAwCYVBp3AcBSCmtxX8y7G4e15DuP38UZc5uvIZ7HzA5mYAAAkwgwAIBJBBgA\\\n",
       "wCQCDABgEgEGADCJAIvJ8PCwWlpaVFtbq7q6Oh0/flySdOPGDWUyGVVXVyuTyWh8fDzmSq0L5tzm\\\n",
       "vvROp2HYRzgXuoV9B/EKe/zpQLSF1ehjks/nlc/ntWXLFk1OTqqpqUk9PT16/fXXVVZWpl//+tfq\\\n",
       "6urS+Pi4fve73817W6xGvxhhLfGFNvdjwyNmD4dK/zADi0kikdCWLVskSatWrVJNTY1GR0d15swZ\\\n",
       "tbe3S5La29vV09MTZ5kA4C1mYB4YGhrS9u3bdfnyZf3gBz/QxMSEpDt/8d13332zX4dhBrYYzMCw\\\n",
       "MBwq/cNKHDG7efOmdu/erWPHjmn16tV3fS8IgtBwymazymazUZQIAF5iBhaj6elptba2aufOnTp0\\\n",
       "6JAkadOmTerr61MikVA+n9cjjzyijz76aN7bYQa2GMzAsDAcKv3Da2Axcc5p//79qqmpmQ0vSWpr\\\n",
       "a1N3d7ckqbu7W7t27YqrRADwGjOwmFy4cEEPP/ywGhoatGLFnb8jXn75ZTU3N2vv3r365JNPtH79\\\n",
       "ep06dUplZWXz3lY6CDQwx+X8lR9u/rb4uQUh9+j8t7WwR4HHzF8cKv1DgBUBAmzhCDAsFIdK/3AK\\\n",
       "EQBgEgEGADCJAAMAmESAAQBMoomjCPB/YNEI/0UpXEMI/MWh0j/MwAAAJhFgAACTCDAAgEkEGADA\\\n",
       "JAIMAGASb6cCrxRuUabCjx9m/o5COteApcIMDABgEgEGADCJAAMAmESAAQBMIsAAACYRYAAAkwiw\\\n",
       "ItCkO83a39x8Nle931ZzIa+zmNtazBgLvxaA74oAAwCYRIABAEwiwAAAJhFgAACTCDAAgEkEWEyG\\\n",
       "h4fV0tKi2tpa1dXV6fjx45Kkzs5OJZNJpVIppVIpnT179ltv65LuLHT7zc1vhevCK3RXocUKgOUo\\\n",
       "cM7xWxaDfD6vfD6vLVu2aHJyUk1NTerp6dGpU6e0cuVKvfTSS9/5toLA/7j6Jhd6cLe3L/MF1cL3\\\n",
       "xuL+Lw8cKv3D26nEJJFIKJFISJJWrVqlmpoajY6OxlwVANjBKUQPDA0N6b333lNzc7Mk6cSJE2ps\\\n",
       "bFRHR4fGx8djrg4A/ESAxezmzZvavXu3jh07ptWrV+vgwYMaHBxULpdTIpHQ4cOH57xeNptVOp1W\\\n",
       "Op2OuGIA8AOvgcVoenpara2t2rlzpw4dOvQ/3x8aGlJra6suX7487+3wGljceA1sOeBQ6R9mYDFx\\\n",
       "zmn//v2qqam5K7zy+fzs56dPn1Z9fX0c5QGA95iBxeTChQt6+OGH1dDQoBUr7vwd8fLLL+vkyZPK\\\n",
       "5XIKgkCVlZV69dVXZ5s9whTXDGw+vu7n8p6BzfdI2tubcBwq/UOAFQECLG4EWBh7exOOQ6V/OIUI\\\n",
       "ADCJAAMAmESAAQBMIsAAACaxlBRiEYS+vB/+QvniGj/CK1jo+NFYLi0RwPfHDAwAYBIBBgAwiQAD\\\n",
       "AJhEgAEATCLAAAAmEWAAAJNoo4cZhW18j7tdPoy9Vnl7FaNYMAMDAJhEgAEATCLAAAAmEWAAAJMI\\\n",
       "MACASXQhwjOLeQ9jXzsKASwlZmAAAJMIMACASQQYAMAkAgwAYBIBBgAwiQCLya1bt7Rt2zZt3rxZ\\\n",
       "dXV1OnLkiCTp6tWram5uVlVVlZ5++mlNTU3FXKkFwTzb3FzIFr+wyvyoDvAJARaTe++9V+fPn9f7\\\n",
       "77+vXC6n3t5e/f3vf9evfvUrvfjii/rXv/6l++67T6+99lrcpQKAlwiwmARBoJUrV0qSpqenNT09\\\n",
       "rSAIdP78ee3Zs0eS1N7erp6enjjLBABvEWAxmpmZUSqVUnl5uTKZjDZu3Kg1a9aotPTO/5dXVFRo\\\n",
       "dHQ05ioBwE8EWIxKSkqUy+U0MjKi/v5+ffjhh9/5utlsVul0Wul0egkrBAB/EWAeWLNmjVpaWnTx\\\n",
       "4kVNTEzo9u3bkqSRkRElk8k5r3PgwAENDAxoYGAgylIBwBsEWEyuXbumiYkJSdKXX36pc+fOqaam\\\n",
       "Ri0tLXrzzTclSd3d3dq1a1ecZQKAtwLnHP25MfjnP/+p9vZ2zczM6KuvvtLevXv1m9/8Rh9//LH2\\\n",
       "7dunGzdu6Ec/+pH+/Oc/69577533toKAN3UvnMX8OnD/LwccKv1DgBUBAqyQCDDMjUOlfziFCAAw\\\n",
       "iQADAJhEgAEATCLAAAAmlcZdAOAXfxsywloI/K0YWFrMwAAAJhFgAACTCDAAgEkEGADAJAIMAGAS\\\n",
       "AQYAMIkAKwJNutNi/c0NxSUI2YDligADAJhEgAEATCLAAAAmEWAAAJMIMACASbwjcxG4//77VVlZ\\\n",
       "KUm6du2aHnjggdhqYXzGL8bxh4aGdP369YLfLr4fAqzIpNNpDQwMMD7jMz6KHqcQAQAmEWAAAJNK\\\n",
       "Ojs7O+MuAoXV1NTE+IzP+Ch6vAYGADCJU4gAAJMIsCLR29urTZs2qaqqSl1dXZGPX1lZqYaGBqVS\\\n",
       "KaXT6UjG7OjoUHl5uerr62cvu3HjhjKZjKqrq5XJZDQ+Ph7p+J2dnUomk0qlUkqlUjp79uySjD08\\\n",
       "PKyWlhbV1taqrq5Ox48flxTd/oeNH9X+37p1S9u2bdPmzZtVV1enI0eOSJKuXr2q5uZmVVVV6emn\\\n",
       "n9bU1NSSjA9POJh3+/Ztt2HDBjc4OOj+85//uMbGRvfBBx9EWsP69evdtWvXIh3zr3/9q7t06ZKr\\\n",
       "q6ubvewXv/iFe+WVV5xzzr3yyivul7/8ZaTjHzlyxP3+979fsjG/9umnn7pLly4555z797//7aqr\\\n",
       "q90HH3wQ2f6HjR/V/n/11VducnLSOefc1NSU27Ztm7t48aL76U9/6k6ePOmcc+7nP/+5++Mf/7jk\\\n",
       "tSA+zMCKQH9/v6qqqrRhwwbdc8892rdvn86cORN3WUtu+/btKisru+uyM2fOqL29XZLU3t6unp6e\\\n",
       "SMePSiKR0JYtWyRJq1atUk1NjUZHRyPb/7DxoxIEgVauXClJmp6e1vT0tIIg0Pnz57Vnzx5JS//4\\\n",
       "I34EWBEYHR3Vgw8+OPt1RUVFpAcT6c4B5dFHH1VTU5Oy2WykY/+3sbExJRIJSdK6des0NjYWeQ0n\\\n",
       "TpxQY2OjOjo6lvQU5teGhob03nvvqbm5OZb9/+/xpej2f2ZmRqlUSuXl5cpkMtq4caPWrFmj0tJS\\\n",
       "SfH8HiBaBBgK4sKFC/rHP/6ht99+W3/4wx/07rvvxl2SgiBQEET7lo8HDx7U4OCgcrmcEomEDh8+\\\n",
       "vKTj3bx5U7t379axY8e0evXqu74Xxf5/c/wo97+kpES5XE4jIyPq7+/Xhx9+uGRjwU8EWBFIJpMa\\\n",
       "Hh6e/XpkZETJZDLyGiSpvLxcTz75pPr7+yMd/2tr165VPp+XJOXzeZWXl0c+fklJiVasWKEXXnhh\\\n",
       "Se+H6elp7d69W88++6yeeuqp2fGj2v+w8aPa/6+tWbNGLS0tunjxoiYmJnT79m1J8fweIFoEWBHY\\\n",
       "unWrrly5oqtXr2pqakpvvPGG2traIhv/iy++0OTk5Ozn77zzzl2deVFqa2tTd3e3JKm7u1u7du2K\\\n",
       "dPyvw0OSTp8+vWT3g3NO+/fvV01NjQ4dOjR7eVT7HzZ+VPt/7do1TUxMSJK+/PJLnTt3TjU1NWpp\\\n",
       "adGbb74pKZ7HHxGLu4sEhfHWW2+56upqt2HDBvfb3/420rEHBwddY2Oja2xsdLW1tZGNv2/fPrdu\\\n",
       "3TpXWlrqksmk+9Of/uSuX7/ufvzjH7uqqiq3Y8cO9/nnn0c6/nPPPefq6+tdQ0ODe/zxx92nn366\\\n",
       "JGP/7W9/c5JcQ0OD27x5s9u8ebN76623Itv/sPGj2v/333/fpVIp19DQ4Orq6tzRo0edc3eei1u3\\\n",
       "bnUbN250e/bscbdu3VqS8eEHVuIAAJjEKUQAgEkEGADAJAIMAGASAQYAMIkAAwCYRIABAEwiwAAA\\\n",
       "JhFgAACTCDAAgEkEGADAJAIMAGASAQYAMIkAAwCYRIABAEwiwAAAJhFgAACTCDAAgEkEGADAJAIM\\\n",
       "AGASAQYAMOn/AJrVNDiUyT5AAAAAAElFTkSuQmCC\\\n",
       "\"\n",
       "  frames[2] = \"data:image/png;base64,iVBORw0KGgoAAAANSUhEUgAAAbAAAAEgCAYAAADVKCZpAAAABHNCSVQICAgIfAhkiAAAAAlwSFlz\\\n",
       "AAALEgAACxIB0t1+/AAAADl0RVh0U29mdHdhcmUAbWF0cGxvdGxpYiB2ZXJzaW9uIDIuMi4zLCBo\\\n",
       "dHRwOi8vbWF0cGxvdGxpYi5vcmcvIxREBQAAEw9JREFUeJzt3W9olfX/x/HX5YbdUdFV08OZOXTL\\\n",
       "9teTm+5W4pKjEWtWmtkfWEwyvJnan1s5IWzRHQULPBQ0CBQJnDeykWCrBGOsOoVBYcvRtg5Lc6MZ\\\n",
       "2ub8/G6I++m3znLrnOu63sfnAw5sZzvn876ubddrn+t6n8/xnHNOAAAYMyPoAgAAmA4CDABgEgEG\\\n",
       "ADCJAAMAmESAAQBMIsAAACYRYAAAkwgwAIBJBBgAwCQCDABgEgEGADCJAAMAmESAAQBMIsAAACYR\\\n",
       "YAAAkwgwAIBJBBgAwCQCDABgEgEGADCJAAMAmESAAQBMIsAAACYRYAAAkwgwAIBJBBgAwCQCDABg\\\n",
       "EgEGADCJAAMAmESAAQBMIsAAACYRYAAAkwgwAIBJBBgAwCQCLIQ6Ojq0dOlSlZSUqLW1NehyACCU\\\n",
       "POecC7oI/L/x8XHde++9On78uIqKirRixQodPHhQ5eXlaR/jeZ6PFQK3Jw6V4cMMLGS6urpUUlKi\\\n",
       "xYsXa+bMmdq8ebOOHj0adFkAEDoEWMgMDAxo4cKFE58XFRVpYGAgwIoAIJzygy4A05NIJJRIJIIu\\\n",
       "AwACQ4CFTDQaVV9f38Tn/f39ikajf/u+rVu3auvWrZK4Bgbg9sQpxJBZsWKFzpw5o7Nnz2p0dFSH\\\n",
       "Dh1SY2Nj0GUBQOgwAwuZ/Px87d+/X+vWrdP4+Liam5tVUVERdFkAEDq00ecATiEC2cehMnw4hQgA\\\n",
       "MIkAAwCYRIABAEwiwAAAJhFgAACTCDAAgEkEGADAJAIMAGASAQYAMIkAAwCYxFqIQBalW3yIxb+A\\\n",
       "/44ZGADAJAIMAGASAQYAMIkAAwCYRIABAEwiwAAAJtFGD2QR7fJA9jADAwCYRIABAEwiwAAAJhFg\\\n",
       "AACTCDAAgEl0IYZQcXGxZs+erby8POXn56u7uzvokgAgdAiwkPr000911113BV0GAIQWpxABACYR\\\n",
       "YCHkeZ7Wrl2rmpoaJRKJoMsBgFDiFGIInTx5UtFoVL/99pvi8bjuu+8+rVq16qbvSSQShBuA25rn\\\n",
       "nEv3prEIgZaWFs2aNUs7d+5M+z2ex4JFQLZxqAwfTiGGzJ9//qmRkZGJjz/55BNVVlYGXBUkyaW5\\\n",
       "AQgGpxBDZnBwUI899pgk6cqVK3r66af10EMPBVwVAIQPpxBzAKcQ/ZHuD4W9f3vgUBk+nEIEAJhE\\\n",
       "gAEATCLAAAAmEWAAAJPoQgRuEc0aQLgwAwMAmESAAQBMIsAAACYRYAAAkwgwAIBJdCHCDJZyAnAj\\\n",
       "ZmAAAJMIMACASQQYAMAkAgwAYBIBBgAwiQADAJhEGz3MoF0ewI2YgQEATCLAAAAmEWAAAJMIMACA\\\n",
       "SQQYAMAkAiwgzc3NKiwsVGVl5cR9Fy5cUDweV2lpqeLxuIaGhgKsENnk0twA3DoCLCDPPfecOjo6\\\n",
       "brqvtbVVa9as0ZkzZ7RmzRq1trYGVB0AhJ/nnOMfv4D09vaqoaFBp0+fliQtXbpUnZ2dikQiSqVS\\\n",
       "Wr16tX788cd/fR7P4xVS1vDWMPZwqAwfZmAhMjg4qEgkIklasGCBBgcHA64IAMKLlThCyvO8SWdW\\\n",
       "iURCiUTCx4oAIFyYgYXI/PnzlUqlJEmpVEqFhYVpv3fr1q3q7u5Wd3e3X+UBQKgQYCHS2NiotrY2\\\n",
       "SVJbW5vWr18fcEUAEF40cQTkqaeeUmdnp86fP6/58+dr9+7devTRR7Vp0yb98ssvWrRokQ4fPqyC\\\n",
       "goJ/fa7bvYljsl/gsO6Z6TRxBN/4MZ1DRVh/AlPHoTJ8CLAcQIClF9Y9Q4DZw6EyfDiFCAAwiQAD\\\n",
       "AJhEgAEATCLAAAAm8UJm3JaCboiYzjj+1JbpRoWg9zRyGTMwAIBJBBgAwCQCDABgEgEGADCJAAMA\\\n",
       "mEQXIszzq6Mv+IWUpt7R59I8xkv7mOksZjUZug2RPczAAAAmEWAAAJMIMACASQQYAMAkAgwAYBIB\\\n",
       "BgAwiTZ65LTcWkp26lVndjtt7rV/YvFdvPF3zMAAACYRYAAAkwgwAIBJBBgAwCQCDABgEgEWkObm\\\n",
       "ZhUWFqqysnLivpaWFkWjUcViMcViMR07dizACu1wk9ym/qj0vDS3zJre1qTnT9XWpNsr7BlbCLCA\\\n",
       "PPfcc+ro6Pjb/S+++KKSyaSSyaQefvjhACoDABsIsICsWrVKBQUFQZcBAGYRYCGzf/9+VVdXq7m5\\\n",
       "WUNDQ0GXAwChRYCFyLZt29TT06NkMqlIJKIdO3ak/d5EIqHa2lrV1tb6WCEAhIfnnJvu1WH8R729\\\n",
       "vWpoaNDp06en9LX/5Xm396Xn6b1PcOYWmcrsskQschRWHCrDhxlYiKRSqYmPjxw5clOHIgDgZizm\\\n",
       "G5CnnnpKnZ2dOn/+vIqKirR79251dnYqmUzK8zwVFxfrwIEDQZd5S3Jrwdypz4BYMBcIBqcQc0DQ\\\n",
       "pxCDDrDMnkKc/FG4fXGoDB9OIQIATCLAAAAmEWAAAJMIMACASXQh4j8LurVhsvHTXXZ3aTsKJ7tQ\\\n",
       "H3S7CoAbMQMDAJhEgAEATCLAAAAmEWAAAJMIMACASXQhAjeY3lrwmVtBnrXop459dvtiBgYAMIkA\\\n",
       "AwCYRIABAEwiwAAAJhFgAACTCDAAgEm00SOnpWujTt96PZ2lgTOHtu+pY5/dvpiBAQBMIsAAACYR\\\n",
       "YAAAkwgwAIBJBBgAwCQCLCB9fX2qr69XeXm5KioqtG/fPknShQsXFI/HVVpaqng8rqGhoYAr9Zeb\\\n",
       "5BY0J+8fb//2qHBuTXhN9jvAnsSNPOccvwMBSKVSSqVSWr58uUZGRlRTU6P29na9//77Kigo0Kuv\\\n",
       "vqrW1lYNDQ3pzTffnPS5PC93Gon9Wlk8k7/03rSeLXd+Zpk21b3p157kUBk+zMACEolEtHz5cknS\\\n",
       "7NmzVVZWpoGBAR09elRNTU2SpKamJrW3twdZJgCEFjOwEOjt7dWqVat0+vRp3XPPPRoeHpZ07T++\\\n",
       "efPmTXyeDjOwzI4zVczAMosZGG4VK3EE7OLFi9qwYYP27t2rOXPm3PQ1z/PShlMikVAikfCjRAAI\\\n",
       "JWZgARobG1NDQ4PWrVun7du3S5KWLl2qzs5ORSIRpVIprV69Wj/++OOkz8MMLLPjTBUzsMxiBoZb\\\n",
       "xTWwgDjntGXLFpWVlU2ElyQ1Njaqra1NktTW1qb169cHVSIAhBozsICcPHlSDzzwgKqqqjRjxrX/\\\n",
       "I/bs2aO6ujpt2rRJv/zyixYtWqTDhw+roKBg0ufKpRlY0KY3l8rsfA7hxKEyfAiwHECAZQ4BhnQ4\\\n",
       "VIYPpxABACYRYAAAkwgwAIBJBBgAwCReyAzz/HrtWPrx04+S2QYPADdiBgYAMIkAAwCYRIABAEwi\\\n",
       "wAAAJhFgAACT6EKEeZnsNJzsufzpJwy6pzK3pNub7MncwAwMAGASAQYAMIkAAwCYRIABAEwiwAAA\\\n",
       "JhFgAACTaKMHsog27mCxn3MbMzAAgEkEGADAJAIMAGASAQYAMIkAAwCYRIAFpK+vT/X19SovL1dF\\\n",
       "RYX27dsnSWppaVE0GlUsFlMsFtOxY8cCrhTXeWlu2XgUgH/nOef8WWQbN0mlUkqlUlq+fLlGRkZU\\\n",
       "U1Oj9vZ2HT58WLNmzdLOnTtv+bk8jwNikKbzB+RN81EIDofK8OF1YAGJRCKKRCKSpNmzZ6usrEwD\\\n",
       "AwMBVwUAdnAKMQR6e3v1zTffqK6uTpK0f/9+VVdXq7m5WUNDQwFXBwDhRIAF7OLFi9qwYYP27t2r\\\n",
       "OXPmaNu2berp6VEymVQkEtGOHTv+8XGJREK1tbWqra31uWIACAeugQVobGxMDQ0NWrdunbZv3/63\\\n",
       "r/f29qqhoUGnT5+e9Hm4BhYsroHdHjhUhg8zsIA457RlyxaVlZXdFF6pVGri4yNHjqiysjKI8gAg\\\n",
       "9JiBBeTkyZN64IEHVFVVpRkzrv0fsWfPHh08eFDJZFKe56m4uFgHDhyYaPZIJ5dmYJP9Mga9lZn8\\\n",
       "Q2EGZg+HyvAhwHIAAeYPAuz2xqEyfDiFCAAwiQADAJhEgAEATCLAAAAmsZQUzEh3CT2TrQ2ZvkxP\\\n",
       "28XU+fFzRm5gBgYAMIkAAwCYRIABAEwiwAAAJhFgAACTCDAAgEm00SNUJmuVTtdePfn6iVNryp5O\\\n",
       "qzYr5GUW7fK4VczAAAAmEWAAAJMIMACASQQYAMAkAgwAYBJdiDAjXXfaZF2ALoPdhunQNQcEgxkY\\\n",
       "AMAkAgwAYBIBBgAwiQADAJhEgAEATCLAAnL58mWtXLlSy5YtU0VFhXbt2iVJOnv2rOrq6lRSUqIn\\\n",
       "n3xSo6OjAVcaft4kt3RcmlvmTW0kJy/tDcDNCLCA3HHHHTpx4oS+/fZbJZNJdXR06Msvv9Qrr7yi\\\n",
       "F198UT/99JPmzZun9957L+hSASCUCLCAeJ6nWbNmSZLGxsY0NjYmz/N04sQJbdy4UZLU1NSk9vb2\\\n",
       "IMsEgNAiwAI0Pj6uWCymwsJCxeNxLVmyRHPnzlV+/rXXlxcVFWlgYCDgKgEgnAiwAOXl5SmZTKq/\\\n",
       "v19dXV364YcfbvmxiURCtbW1qq2tzWKFABBeBFgIzJ07V/X19Tp16pSGh4d15coVSVJ/f7+i0eg/\\\n",
       "Pmbr1q3q7u5Wd3e3n6UCQGgQYAE5d+6choeHJUmXLl3S8ePHVVZWpvr6en344YeSpLa2Nq1fvz7I\\\n",
       "MgEgtDznHO+IHoDvvvtOTU1NGh8f19WrV7Vp0ya99tpr+vnnn7V582ZduHBB999/vz744APdcccd\\\n",
       "kz6X59FiDWQbh8rwIcByAAEGZB+HyvDhFCIAwCQCDABgEgEGADCJAAMAmESAAQBMIsAAACYRYAAA\\\n",
       "kwgwAIBJBBgAwCQCDABgEgEGADCJAAMAmESAAQBMIsAAACYRYAAAkwgwAIBJBBgAwKT8oAvAf3fn\\\n",
       "nXequLhYknTu3DndfffdgdXC+Iyfi+P39vZm/Dnx33mO98nOKbW1teru7mZ8xmd85DxOIQIATCLA\\\n",
       "AAAm5bW0tLQEXQQyq6amhvEZn/GR87gGBgAwiVOIAACTCLAc0dHRoaVLl6qkpEStra2+j19cXKyq\\\n",
       "qirFYjHV1tb6MmZzc7MKCwtVWVk5cd+FCxcUj8dVWlqqeDyuoaEhX8dvaWlRNBpVLBZTLBbTsWPH\\\n",
       "sjJ2X1+f6uvrVV5eroqKCu3bt0+Sf9ufbny/tv/y5ctauXKlli1bpoqKCu3atUuSdPbsWdXV1amk\\\n",
       "pERPPvmkRkdHszI+QsLBvCtXrrjFixe7np4e99dff7nq6mr3/fff+1rDokWL3Llz53wd87PPPnNf\\\n",
       "ffWVq6iomLjvpZdecm+88YZzzrk33njDvfzyy76Ov2vXLvfWW29lbczrfv31V/fVV18555z7448/\\\n",
       "XGlpqfv+++992/504/u1/VevXnUjIyPOOedGR0fdypUr3alTp9wTTzzhDh486Jxz7oUXXnDvvPNO\\\n",
       "1mtBcJiB5YCuri6VlJRo8eLFmjlzpjZv3qyjR48GXVbWrVq1SgUFBTfdd/ToUTU1NUmSmpqa1N7e\\\n",
       "7uv4folEIlq+fLkkafbs2SorK9PAwIBv259ufL94nqdZs2ZJksbGxjQ2NibP83TixAlt3LhRUvZ/\\\n",
       "/ggeAZYDBgYGtHDhwonPi4qKfD2YSNcOKGvXrlVNTY0SiYSvY99ocHBQkUhEkrRgwQINDg76XsP+\\\n",
       "/ftVXV2t5ubmrJ7CvK63t1fffPON6urqAtn+G8eX/Nv+8fFxxWIxFRYWKh6Pa8mSJZo7d67y868t\\\n",
       "MBTE3wH8RYAhI06ePKmvv/5aH3/8sd5++219/vnnQZckz/PkeZ6vY27btk09PT1KJpOKRCLasWNH\\\n",
       "Vse7ePGiNmzYoL1792rOnDk3fc2P7f/f8f3c/ry8PCWTSfX396urq0s//PBD1sZCOBFgOSAajaqv\\\n",
       "r2/i8/7+fkWjUd9rkKTCwkI99thj6urq8nX86+bPn69UKiVJSqVSKiws9H38vLw8zZgxQ88//3xW\\\n",
       "98PY2Jg2bNigZ555Ro8//vjE+H5tf7rx/dr+6+bOnav6+nqdOnVKw8PDunLliqRg/g7gLwIsB6xY\\\n",
       "sUJnzpzR2bNnNTo6qkOHDqmxsdG38f/880+NjIxMfPzJJ5/c1Jnnp8bGRrW1tUmS2tratH79el/H\\\n",
       "vx4eknTkyJGs7QfnnLZs2aKysjJt37594n6/tj/d+H5t/7lz5zQ8PCxJunTpko4fP66ysjLV19fr\\\n",
       "ww8/lBTMzx8+C7qLBJnx0UcfudLSUrd48WL3+uuv+zp2T0+Pq66udtXV1a68vNy38Tdv3uwWLFjg\\\n",
       "8vPzXTQade+++647f/68e/DBB11JSYlbs2aN+/33330d/9lnn3WVlZWuqqrKPfLII+7XX3/Nythf\\\n",
       "fPGFk+SqqqrcsmXL3LJly9xHH33k2/anG9+v7f/2229dLBZzVVVVrqKiwu3evds5d+13ccWKFW7J\\\n",
       "kiVu48aN7vLly1kZH+HAShwAAJM4hQgAMIkAAwCYRIABAEwiwAAAJhFgAACTCDAAgEkEGADAJAIM\\\n",
       "AGASAQYAMIkAAwCYRIABAEwiwAAAJhFgAACTCDAAgEkEGADAJAIMAGASAQYAMIkAAwCYRIABAEwi\\\n",
       "wAAAJv0fFPDJMN1j4F4AAAAASUVORK5CYII=\\\n",
       "\"\n",
       "  frames[3] = \"data:image/png;base64,iVBORw0KGgoAAAANSUhEUgAAAbAAAAEgCAYAAADVKCZpAAAABHNCSVQICAgIfAhkiAAAAAlwSFlz\\\n",
       "AAALEgAACxIB0t1+/AAAADl0RVh0U29mdHdhcmUAbWF0cGxvdGxpYiB2ZXJzaW9uIDIuMi4zLCBo\\\n",
       "dHRwOi8vbWF0cGxvdGxpYi5vcmcvIxREBQAAEx9JREFUeJzt3V1sFGX7x/Hf0EZPgGB9LGy2SAOt\\\n",
       "2FdWutAjiZUsGFOLCiK+JDUlYjgU8OVISmKkxhNI0ISNJjYxwRATyoHYSIJVSTBN0dVAgsFKY1s3\\\n",
       "FaSNhYAt5f4fEPuXR7bSPtuZubbfT7JJu+3Ofc12d36977k69ZxzTgAAGDMr6AIAAJgKAgwAYBIB\\\n",
       "BgAwiQADAJhEgAEATCLAAAAmEWAAAJMIMACASQQYAMAkAgwAYBIBBgAwiQADAJhEgAEATCLAAAAm\\\n",
       "EWAAAJMIMACASQQYAMAkAgwAYBIBBgAwiQADAJhEgAEATCLAAAAmEWAAAJMIMACASQQYAMAkAgwA\\\n",
       "YBIBBgAwiQADAJhEgAEATCLAAAAmEWAAAJMIMACASQQYAMAkAiyE2tvbtXTpUpWUlKilpSXocgAg\\\n",
       "lDznnAu6CPy/sbEx3XfffTp69KiKioq0YsUKHThwQOXl5Rkf43mejxUCt68mw/0nfa1icm5Vc4+k\\\n",
       "CxwqQyc/6AJws87OTpWUlGjx4sWSpE2bNunw4cMTBhgQVl0Z7g/zr1y3qjnuexW4HSwhhkx/f78W\\\n",
       "Llw4/nlRUZH6+/sDrAgAwokZmFHJZFLJZDLoMgAgMARYyESjUfX29o5/3tfXp2g0+o/v27Jli7Zs\\\n",
       "2SKJc2AAZiaWEENmxYoVOnv2rM6dO6eRkRF9/PHHamhoCLosYEq8DLcwu1W9YW46mcmYgYVMfn6+\\\n",
       "9u3bp7Vr12psbExNTU2qqKgIuiwACB3a6HMAS4jA9ONQGT4sIQIATCLAAAAmEWAAAJMIMACASQQY\\\n",
       "AMAkAgwAYBIBBgAwiQADAJhEgAEATCLAAAAmcS1EADkr08WfuPhabmAGBgAwiQADAJhEgAEATCLA\\\n",
       "AAAmEWAAAJMIMACASbTRA8hZtMvnNmZgAACTCDAAgEkEGADAJAIMAGASAQYAMIkuxBAqLi7WnDlz\\\n",
       "lJeXp/z8fHV1dQVdEnIOl7mFfQRYSH3xxRf6z3/+E3QZABBaLCECAEwiwELI8zytWbNGNTU1SiaT\\\n",
       "QZcDAKHEEmIIHT9+XNFoVL/99psSiYTuv/9+rVq16qbvSSaThBuAGc1zzmU6m4sQaG5u1uzZs7Vj\\\n",
       "x46M3+N5nHjHZNHEMVkcKsOHJcSQuXz5soaHh8c//vzzz1VZWRlwVcg9XoYbYAdLiCEzMDCgJ554\\\n",
       "QpJ07do1Pfvss3rkkUcCrgoAwoclxBzAEiIw/ThUhg9LiAAAkwgwAIBJBBgAwCQCDABgEl2IwIwU\\\n",
       "5oYEmpJwe5iBAQBMIsAAACYRYAAAkwgwAIBJBBgAwCS6EIHblN3rt4e5CxCwgRkYAMAkAgwAYBIB\\\n",
       "BgAwiQADAJhEgAEATCLAAAAm0UYP3KaZfonZbDb+z/TnEtnBDAwAYBIBBgAwiQADAJhEgAEATCLA\\\n",
       "AAAmEWABaWpqUmFhoSorK8fvu3jxohKJhEpLS5VIJDQ4OBhghTOVm8JtKtvzx1T2xp+KvQluwO0h\\\n",
       "wALywgsvqL29/ab7WlpatHr1ap09e1arV69WS0tLQNUBQPh5zjn+r0NAenp6VF9fr1OnTkmSli5d\\\n",
       "qo6ODkUiEaXTaT300EP68ccf/3U7nsdvrdkzlbfDRM9/sG+vsL65PYMzLQ6V4cMMLEQGBgYUiUQk\\\n",
       "SQsWLNDAwEDAFQFAeHEljpDyPG/CmVUymVQymfSxIgAIF2ZgITJ//nyl02lJUjqdVmFhYcbv3bJl\\\n",
       "i7q6utTV1eVXeQAQKgRYiDQ0NKi1tVWS1NraqnXr1gVcEQCEF00cAXnmmWfU0dGhCxcuaP78+dq1\\\n",
       "a5cef/xxbdy4Ub/88osWLVqkgwcPqqCg4F+35VcTR6YXir3T8RMJtoljprwZaeJANhBgOYAAyyYC\\\n",
       "zA8EGLKBJUQAgEkEGADAJAIMAGASAQYAMIk/ZMZts3faffImOk2fef8zP8plfFRYGwKm8lMO674g\\\n",
       "1zEDAwCYRIABAEwiwAAAJhFgAACTCDAAgEl0ISKnTdQfmL1tTeVRfvV0Bju+xUtGwQ5mYAAAkwgw\\\n",
       "AIBJBBgAwCQCDABgEgEGADCJAAMAmEQbPcybWnu7tYvsTlX22tgzb4lWeQSDGRgAwCQCDABgEgEG\\\n",
       "ADCJAAMAmESAAQBMIsAC0tTUpMLCQlVWVo7f19zcrGg0qlgsplgspiNHjgRYoR3eBLfwchlu2TXR\\\n",
       "czPZGxA2BFhAXnjhBbW3t//j/pdfflmpVEqpVEqPPvpoAJUBgA0EWEBWrVqlgoKCoMsAALMIsJDZ\\\n",
       "t2+fqqur1dTUpMHBwaDLAYDQIsBCZOvWreru7lYqlVIkEtH27dszfm8ymVQ8Hlc8HvexQgAID885\\\n",
       "l2vXzjGjp6dH9fX1OnXq1KS+9t88j1Psmfj1f5ezJ7s/S14Z2cOhMnyYgYVIOp0e//jQoUM3dSgC\\\n",
       "AG7GxXwD8swzz6ijo0MXLlxQUVGRdu3apY6ODqVSKXmep+LiYu3fvz/oMvE/mvwMaKLf8plPAX/H\\\n",
       "EmIOYAkxs6CXEFkQzB0cKsOHJUQAgEkEGADAJAIMAGASAQYAMIkuROS0TG0PmU/HT9Qokb2WkKm1\\\n",
       "Y2R3a4B1zMAAACYRYAAAkwgwAIBJBBgAwCQCDABgEl2IwG2bfE9jNtGDCNyMGRgAwCQCDABgEgEG\\\n",
       "ADCJAAMAmESAAQBMIsAAACbRRg8YkbldfqI2fprskbuYgQEATCLAAAAmEWAAAJMIMACASQQYAMAk\\\n",
       "Aiwgvb29qqurU3l5uSoqKrR3715J0sWLF5VIJFRaWqpEIqHBwcGAK8W/8ya43ZrLcANw+zznHO+b\\\n",
       "AKTTaaXTaS1fvlzDw8OqqalRW1ubPvzwQxUUFOj1119XS0uLBgcH9fbbb0+4Lc+jVXqy/HvRT26k\\\n",
       "7P8keW1kC4fK8GEGFpBIJKLly5dLkubMmaOysjL19/fr8OHDamxslCQ1Njaqra0tyDIBILSYgYVA\\\n",
       "T0+PVq1apVOnTunee+/V0NCQpBu/8d11113jn2fCDGzymIFhsjhUhg9X4gjYpUuXtH79eu3Zs0dz\\\n",
       "58696Wue52UMp2QyqWQy6UeJABBKzMACNDo6qvr6eq1du1bbtm2TJC1dulQdHR2KRCJKp9N66KGH\\\n",
       "9OOPP064HWZgk8cMDJPFoTJ8OAcWEOecNm/erLKysvHwkqSGhga1trZKklpbW7Vu3bqgSgSAUGMG\\\n",
       "FpDjx4/rwQcfVFVVlWbNuvF7xFtvvaXa2lpt3LhRv/zyixYtWqSDBw+qoKBgwm0xA8ue7L8ZmIHl\\\n",
       "Cg6V4UOA5QACLHsIMGTCoTJ8WEIEAJhEgAEATCLAAAAmEWAAAJP4Q2ZgWmVqorh1Q8BEbQK0YwA3\\\n",
       "YwYGADCJAAMAmESAAQBMIsAAACYRYAAAk+hCRI7L3uV/vAx9gNm8wBCdhsDtYwYGADCJAAMAmESA\\\n",
       "AQBMIsAAACYRYAAAkwgwAIBJtNEDfzNxGzv/kRcIE2ZgAACTCDAAgEkEGADAJAIMAGASAQYAMIkA\\\n",
       "C0hvb6/q6upUXl6uiooK7d27V5LU3NysaDSqWCymWCymI0eOBFypdd4tb06a9A1AuHjOOd6bAUin\\\n",
       "00qn01q+fLmGh4dVU1OjtrY2HTx4ULNnz9aOHTtue1uexzXMJ8tNIZIyPcvhvho9r41s4VAZPvwd\\\n",
       "WEAikYgikYgkac6cOSorK1N/f3/AVQGAHSwhhkBPT4++++471dbWSpL27dun6upqNTU1aXBwMODq\\\n",
       "ACCcCLCAXbp0SevXr9eePXs0d+5cbd26Vd3d3UqlUopEItq+ffstH5dMJhWPxxWPx32uGADCgXNg\\\n",
       "ARodHVV9fb3Wrl2rbdu2/ePrPT09qq+v16lTpybcDufAJo9zYJgsDpXhwwwsIM45bd68WWVlZTeF\\\n",
       "VzqdHv/40KFDqqysDKI8AAg9ZmABOX78uB588EFVVVVp1qwbv0e89dZbOnDggFKplDzPU3Fxsfbv\\\n",
       "3z/e7JHJTJ+BTWU2FTQvw8xoajPDmf3z9wuHyvAhwHIAAWbvJUyA2cOhMnxYQgQAmESAAQBMIsAA\\\n",
       "ACYRYAAAk7iUFMzIpVPoM2VfaC/BdGIGBgAwiQADAJhEgAEATCLAAAAmEWAAAJMIMACASbTRI1Sm\\\n",
       "1l4+lWZtvxrZc7+RPOg9pI1/5mIGBgAwiQADAJhEgAEATCLAAAAmEWAAAJPoQkSo+NdPaK8/zV7F\\\n",
       "/uB5mbmYgQEATCLAAAAmEWAAAJMIMACASQQYAMAkAiwgV69e1cqVK7Vs2TJVVFRo586dkqRz586p\\\n",
       "trZWJSUlevrppzUyMhJwpeHnTXCzZ6K9yZ29BLKBAAvInXfeqWPHjun7779XKpVSe3u7vvnmG732\\\n",
       "2mt6+eWX9dNPP+muu+7SBx98EHSpABBKBFhAPM/T7NmzJUmjo6MaHR2V53k6duyYNmzYIElqbGxU\\\n",
       "W1tbkGUCQGgRYAEaGxtTLBZTYWGhEomElixZonnz5ik//8bflxcVFam/vz/gKgEgnAiwAOXl5SmV\\\n",
       "Sqmvr0+dnZ06c+bMbT82mUwqHo8rHo9PY4UAEF4EWAjMmzdPdXV1OnHihIaGhnTt2jVJUl9fn6LR\\\n",
       "6C0fs2XLFnV1damrq8vPUgEgNAiwgJw/f15DQ0OSpCtXrujo0aMqKytTXV2dPvnkE0lSa2ur1q1b\\\n",
       "F2SZABBannPOr/+tjr/54Ycf1NjYqLGxMV2/fl0bN27UG2+8oZ9//lmbNm3SxYsX9cADD+ijjz7S\\\n",
       "nXfeOeG2PI9W6myZypuBZ39m4FAZPgRYDiDAsocAQyYcKsOHJUQAgEkEGADAJAIMAGASAQYAMCk/\\\n",
       "6AKAMKEhA7CDGRgAwCQCDABgEgEGADCJAAMAmESAAQBMIsAAACYRYAAAkwgwAIBJBBgAwCQCDABg\\\n",
       "EgEGADCJAAMAmMTFfHPA3XffreLiYknS+fPndc899wRWC+Mzfi6O39PTk/Vt4n/nOf5Pdk6Jx+Pq\\\n",
       "6upifMZnfOQ8lhABACYRYAAAk/Kam5ubgy4C2VVTU8P4jM/4yHmcAwMAmMQSIgDAJAIsR7S3t2vp\\\n",
       "0qUqKSlRS0uL7+MXFxerqqpKsVhM8XjclzGbmppUWFioysrK8fsuXryoRCKh0tJSJRIJDQ4O+jp+\\\n",
       "c3OzotGoYrGYYrGYjhw5Mi1j9/b2qq6uTuXl5aqoqNDevXsl+bf/mcb3a/+vXr2qlStXatmyZaqo\\\n",
       "qNDOnTslSefOnVNtba1KSkr09NNPa2RkZFrGR0g4mHft2jW3ePFi193d7f78809XXV3tTp8+7WsN\\\n",
       "ixYtcufPn/d1zC+//NKdPHnSVVRUjN/3yiuvuN27dzvnnNu9e7d79dVXfR1/586d7p133pm2Mf/y\\\n",
       "66+/upMnTzrnnPvjjz9caWmpO336tG/7n2l8v/b/+vXrbnh42Dnn3MjIiFu5cqU7ceKEe+qpp9yB\\\n",
       "Awecc8699NJL7r333pv2WhAcZmA5oLOzUyUlJVq8eLHuuOMObdq0SYcPHw66rGm3atUqFRQU3HTf\\\n",
       "4cOH1djYKElqbGxUW1ubr+P7JRKJaPny5ZKkOXPmqKysTP39/b7tf6bx/eJ5nmbPni1JGh0d1ejo\\\n",
       "qDzP07Fjx7RhwwZJ0//zR/AIsBzQ39+vhQsXjn9eVFTk68FEunFAWbNmjWpqapRMJn0d++8GBgYU\\\n",
       "iUQkSQsWLNDAwIDvNezbt0/V1dVqamqa1iXMv/T09Oi7775TbW1tIPv/9/El//Z/bGxMsVhMhYWF\\\n",
       "SiQSWrJkiebNm6f8/BsXGArifQB/EWDIiuPHj+vbb7/VZ599pnfffVdfffVV0CXJ8zx5nufrmFu3\\\n",
       "blV3d7dSqZQikYi2b98+reNdunRJ69ev1549ezR37tybvubH/v/3+H7uf15enlKplPr6+tTZ2akz\\\n",
       "Z85M21gIJwIsB0SjUfX29o5/3tfXp2g06nsNklRYWKgnnnhCnZ2dvo7/l/nz5yudTkuS0um0CgsL\\\n",
       "fR8/Ly9Ps2bN0osvvjitz8Po6KjWr1+v5557Tk8++eT4+H7tf6bx/dr/v8ybN091dXU6ceKEhoaG\\\n",
       "dO3aNUnBvA/gLwIsB6xYsUJnz57VuXPnNDIyoo8//lgNDQ2+jX/58mUNDw+Pf/z555/f1Jnnp4aG\\\n",
       "BrW2tkqSWltbtW7dOl/H/ys8JOnQoUPT9jw457R582aVlZVp27Zt4/f7tf+Zxvdr/8+fP6+hoSFJ\\\n",
       "0pUrV3T06FGVlZWprq5On3zyiaRgfv7wWdBdJMiOTz/91JWWlrrFixe7N99809exu7u7XXV1tauu\\\n",
       "rnbl5eW+jb9p0ya3YMECl5+f76LRqHv//ffdhQsX3MMPP+xKSkrc6tWr3e+//+7r+M8//7yrrKx0\\\n",
       "VVVV7rHHHnO//vrrtIz99ddfO0muqqrKLVu2zC1btsx9+umnvu1/pvH92v/vv//exWIxV1VV5Soq\\\n",
       "KtyuXbucczdeiytWrHBLlixxGzZscFevXp2W8REOXIkDAGASS4gAAJMIMACASQQYAMAkAgwAYBIB\\\n",
       "BgAwiQADAJhEgAEATCLAAAAmEWAAAJMIMACASQQYAMAkAgwAYBIBBgAwiQADAJhEgAEATCLAAAAm\\\n",
       "EWAAAJMIMACASQQYAMAkAgwAYNL/AYejuGCnJ0MUAAAAAElFTkSuQmCC\\\n",
       "\"\n",
       "  frames[4] = \"data:image/png;base64,iVBORw0KGgoAAAANSUhEUgAAAbAAAAEgCAYAAADVKCZpAAAABHNCSVQICAgIfAhkiAAAAAlwSFlz\\\n",
       "AAALEgAACxIB0t1+/AAAADl0RVh0U29mdHdhcmUAbWF0cGxvdGxpYiB2ZXJzaW9uIDIuMi4zLCBo\\\n",
       "dHRwOi8vbWF0cGxvdGxpYi5vcmcvIxREBQAAE01JREFUeJzt3V1sFOX7xvFraIMnQLDxV9hslQZa\\\n",
       "sa+stNAjiZWsGFOLCPKiJiUlYjgUfDuSkhit8QQSNGGjiU1MMMSEciA2kmBVEkxTZDGQaLDS0NZN\\\n",
       "BWljMWJLff4HxP6pspWW7czc2++nmaTd7s5zz3Z3rj6z9856zjknAACMmRV0AQAATAUBBgAwiQAD\\\n",
       "AJhEgAEATCLAAAAmEWAAAJMIMACASQQYAMAkAgwAYBIBBgAwiQADAJhEgAEATCLAAAAmEWAAAJMI\\\n",
       "MACASQQYAMAkAgwAYBIBBgAwiQADAJhEgAEATCLAAAAmEWAAAJMIMACASQQYAMAkAgwAYBIBBgAw\\\n",
       "iQADAJhEgAEATCLAAAAmEWAAAJMIMACASQQYAMAkAgwAYBIBFkJtbW1aunSpioqK1NzcHHQ5ABBK\\\n",
       "nnPOBV0E/t/o6Kjuv/9+HTt2TAUFBVqxYoUOHjyo0tLStLfxPM/HCoGZiV1l+DADC5mOjg4VFRVp\\\n",
       "8eLFmj17tjZv3qwjR44EXRYAhA4BFjJ9fX269957x34uKChQX19fgBUBQDjlBl0ApiaRSCiRSARd\\\n",
       "BgAEhgALmWg0qp6enrGfe3t7FY1G/3W97du3a/v27ZJ4DQzAzMQhxJBZsWKFzp8/rwsXLmh4eFgf\\\n",
       "f/yx6uvrgy4r5NwEC4BsxQwsZHJzc7V//36tWbNGo6OjamxsVFlZWdBlAUDo0EafBTiEONFDeKbf\\\n",
       "N8gUdpXhwyFEAIBJBBgAwCQCDABgEgEGADCJLkTcsam8tJ3Z1goaNYCZiBkYAMAkAgwAYBIBBgAw\\\n",
       "iQADAJhEgAEATKILEXeMHkAEiROJzVzMwAAAJhFgAACTCDAAgEkEGADAJAIMAGASAQYAMIk2egCm\\\n",
       "0So/czEDAwCYRIABAEwiwAAAJhFgAACTCDAAgEl0IYZQYWGh5s6dq5ycHOXm5qqzszPokgAgdAiw\\\n",
       "kPriiy90zz33BF0GAIQWhxABACYRYCHkeZ4effRRVVVVKZFIBF0OAIQShxBD6MSJE4pGo/rll18U\\\n",
       "j8f1wAMPaNWqVeOuk0gkCDcAM5rnnJvoA00RsKamJs2ZM0cvvfRS2ut4HifTAaYbu8rw4RBiyPz+\\\n",
       "++8aGhoa+/7zzz9XeXl5wFUh+ziDCzAehxBDpr+/X+vWrZMkXb9+Xc8884wee+yxgKsCgPDhEGIW\\\n",
       "4BAiJs/i0z7Yxzm7yvDhECIAwCQCDABgEgEGADCJAAMAmEQXInCb0r2En9nWgsw2CvhTMxAMZmAA\\\n",
       "AJMIMACASQQYAMAkAgwAYBIBBgAwiS5E4DZlsnPPTaHbcCrj+9NtOJVR/DktE12Y2Y0ZGADAJAIM\\\n",
       "AGASAQYAMIkAAwCYRIABAEwiwAAAJtFGD9wk8+3t6X6b7vKJxs/cbaaynZnkhbjBH3YwAwMAmESA\\\n",
       "AQBMIsAAACYRYAAAkwgwAIBJBFhAGhsblZ+fr/Ly8rHLrly5ong8ruLiYsXjcQ0MDARY4UzlTbBM\\\n",
       "hUuzTH78dGty8iZYbv01te3P5P0C3DkCLCBbt25VW1vbuMuam5u1evVqnT9/XqtXr1Zzc3NA1QFA\\\n",
       "+HnOuWDfEDKDdXd3q66uTmfPnpUkLV26VO3t7YpEIkqlUnr44Yf1ww8//Od6PI//gjNl4ifDrX87\\\n",
       "tQ8T8etvNtmnN+/PSoddZfgwAwuR/v5+RSIRSdLChQvV398fcEUAEF6ciSOkPM+bcGaVSCSUSCR8\\\n",
       "rAgAwoUZWIgsWLBAqVRKkpRKpZSfn5/2utu3b1dnZ6c6Ozv9Kg8AQoUAC5H6+nq1tLRIklpaWrR2\\\n",
       "7dqAKwKA8KKJIyBbtmxRe3u7Ll++rAULFmjPnj168skntXHjRl28eFGLFi3SoUOHlJeX95/rookj\\\n",
       "c6byZPCmcCv/mjgyJ5OnH7aIXWX4EGBZgADLHAIsPQKMXWXYcAgRAGASAQYAMIkAAwCYRIABAEzi\\\n",
       "jczAHZpaE0O601JNvu0h6CaKbGrUgC3MwAAAJhFgAACTCDAAgEkEGADAJAIMAGASXYjAHZuo13Cy\\\n",
       "H4I5+Z7CiboA061tah/Cmbl1AZnADAwAYBIBBgAwiQADAJhEgAEATCLAAAAmEWAAAJNoowduMpWW\\\n",
       "dP9MvpE9ky3utMsjbJiBAQBMIsAAACYRYAAAkwgwAIBJBBgAwCQCLCCNjY3Kz89XeXn52GVNTU2K\\\n",
       "RqOKxWKKxWI6evRogBVOL5fmK/t4t1ycdMsFwO0jwAKydetWtbW1/evyF198UclkUslkUo8//ngA\\\n",
       "lQGADQRYQFatWqW8vLygywAAswiwkNm/f78qKyvV2NiogYGBoMsBgNAiwEJkx44d6urqUjKZVCQS\\\n",
       "0a5du9JeN5FIqLq6WtXV1T5WCADh4TnneO04IN3d3aqrq9PZs2cn9bt/8jx7J/lJ/0nF4d2WzD5R\\\n",
       "JvtJzRMJ732WTdhVhg8zsBBJpVJj3x8+fHhchyIAYDxO5huQLVu2qL29XZcvX1ZBQYH27Nmj9vZ2\\\n",
       "JZNJeZ6nwsJCHThwIOgyp02YZ1rppKt4av+XZ3JtE93G3v0M3C4OIWYBi4cQs0kmn0Bext8NxmMj\\\n",
       "U9hVhg+HEAEAJhFgAACTCDAAgEkEGADAJLoQgZsE3c8X9PiAJczAAAAmEWAAAJMIMACASQQYAMAk\\\n",
       "AgwAYBJdiMBNJur08+dEQpmuIN1t6GmEfczAAAAmEWAAAJMIMACASQQYAMAkAgwAYBIBBgAwiTZ6\\\n",
       "4Dalazz363N6aYgHxmMGBgAwiQADAJhEgAEATCLAAAAmEWAAAJMIsID09PSotrZWpaWlKisr0759\\\n",
       "+yRJV65cUTweV3FxseLxuAYGBgKuFP/Fm2DxZ6SpcGkWwA7POcejNgCpVEqpVErLly/X0NCQqqqq\\\n",
       "1Nraqg8//FB5eXl67bXX1NzcrIGBAb399tsTrsvzaKQOKz+eXF5GR+GxlA67yvBhBhaQSCSi5cuX\\\n",
       "S5Lmzp2rkpIS9fX16ciRI2poaJAkNTQ0qLW1NcgyASC0mIGFQHd3t1atWqWzZ8/qvvvu0+DgoKQb\\\n",
       "//HdfffdYz+nwwwsvJiBZQ92leHDmTgCdvXqVa1fv1579+7VvHnzxv3O87y04ZRIJJRIJPwoEQBC\\\n",
       "iRlYgEZGRlRXV6c1a9Zo586dkqSlS5eqvb1dkUhEqVRKDz/8sH744YcJ18MMLLyYgWUPdpXhw2tg\\\n",
       "AXHOadu2bSopKRkLL0mqr69XS0uLJKmlpUVr164NqkQACDVmYAE5ceKEHnroIVVUVGjWrBv/R7z5\\\n",
       "5puqqanRxo0bdfHiRS1atEiHDh1SXl7ehOtiBhZe4Z2B8ZiZLHaV4UOAZQECLLwIsOzBrjJ8OIQI\\\n",
       "ADCJAAMAmESAAQBMIsAAACbxRmbMULx3CrCOGRgAwCQCDABgEgEGADCJAAMAmESAAQBMogsRWS19\\\n",
       "r2G6zsHJ32Jqt0m3pvS3oNcRGI8ZGADAJAIMAGASAQYAMIkAAwCYRIABAEwiwAAAJtFGD4wz+Wb5\\\n",
       "qX0i8mRHB/BPzMAAACYRYAAAkwgwAIBJBBgAwCQCDABgEgEWkJ6eHtXW1qq0tFRlZWXat2+fJKmp\\\n",
       "qUnRaFSxWEyxWExHjx4NuNLs5KVZpsLJy+CiCZZbf6XfmokWwD7POZe5HmDctlQqpVQqpeXLl2to\\\n",
       "aEhVVVVqbW3VoUOHNGfOHL300ku3vS7PY4eUTvrW98ldPxxuXZ1HIPmCXWX48D6wgEQiEUUiEUnS\\\n",
       "3LlzVVJSor6+voCrAgA7OIQYAt3d3Tp9+rRqamokSfv371dlZaUaGxs1MDAQcHUAEE4EWMCuXr2q\\\n",
       "9evXa+/evZo3b5527Nihrq4uJZNJRSIR7dq165a3SyQSqq6uVnV1tc8VA0A48BpYgEZGRlRXV6c1\\\n",
       "a9Zo586d//p9d3e36urqdPbs2QnXw2tg6fEaGDKFXWX4MAMLiHNO27ZtU0lJybjwSqVSY98fPnxY\\\n",
       "5eXlQZQHAKHHDCwgJ06c0EMPPaSKigrNmnXj/4g333xTBw8eVDKZlOd5Kiws1IEDB8aaPdKZKTOw\\\n",
       "yc6mMjlGmM2Mv37w2FWGDwGWBQiw6R8jzGbGXz947CrDh0OIAACTCDAAgEkEGADAJAIMAGASp5KC\\\n",
       "GTO9WWGmbz/wT8zAAAAmEWAAAJMIMACASQQYAMAkAgwAYBIBBgAwiTZ64CZTaVWfyhnyaIkH7hwz\\\n",
       "MACASQQYAMAkAgwAYBIBBgAwiQADAJhEFyJwk6A7Cican85FYDxmYAAAkwgwAIBJBBgAwCQCDABg\\\n",
       "EgEGADCJAAvItWvXtHLlSi1btkxlZWXavXu3JOnChQuqqalRUVGRNm3apOHh4YArzU4uzeJNYckk\\\n",
       "Ty7tAmA8Aiwgd911l44fP64zZ84omUyqra1N33zzjV599VW9+OKL+vHHH3X33Xfrgw8+CLpUAAgl\\\n",
       "Aiwgnudpzpw5kqSRkRGNjIzI8zwdP35cGzZskCQ1NDSotbU1yDIBILQIsACNjo4qFospPz9f8Xhc\\\n",
       "S5Ys0fz585Wbe+P95QUFBerr6wu4SgAIJwIsQDk5OUomk+rt7VVHR4e+//77275tIpFQdXW1qqur\\\n",
       "p7FCAAgvAiwE5s+fr9raWp08eVKDg4O6fv26JKm3t1fRaPSWt9m+fbs6OzvV2dnpZ6kAEBoEWEAu\\\n",
       "XbqkwcFBSdIff/yhY8eOqaSkRLW1tfrkk08kSS0tLVq7dm2QZQJAaHnOOfpzA/Ddd9+poaFBo6Oj\\\n",
       "+uuvv7Rx40a9/vrr+umnn7R582ZduXJFDz74oD766CPdddddE67L8zjNK2yxeNJidpXhQ4BlAQIM\\\n",
       "1hBgyAQOIQIATCLAAAAmEWAAAJMIMACASblBFwDAf+naEfxqoAhrowZsYQYGADCJAAMAmESAAQBM\\\n",
       "IsAAACYRYAAAkwgwAIBJtNEDM1Am29gtntcQ2YEZGADAJAIMAGASAQYAMIkAAwCYRIABAEziE5mz\\\n",
       "wD333KPCwkJJ0qVLl/S///0vsFoYn/Gzcfzu7m5dvnw54+vFnSHAskx1dbU6OzsZn/EZH1mPQ4gA\\\n",
       "AJMIMACASTlNTU1NQReBzKqqqmJ8xmd8ZD1eAwMAmMQhRACASQRYlmhra9PSpUtVVFSk5uZm38cv\\\n",
       "LCxURUWFYrGYqqurfRmzsbFR+fn5Ki8vH7vsypUrisfjKi4uVjwe18DAgK/jNzU1KRqNKhaLKRaL\\\n",
       "6ejRo9Mydk9Pj2pra1VaWqqysjLt27dPkn/bn258v7b/2rVrWrlypZYtW6aysjLt3r1bknThwgXV\\\n",
       "1NSoqKhImzZt0vDw8LSMj5BwMO/69etu8eLFrqury/3555+usrLSnTt3ztcaFi1a5C5duuTrmF9+\\\n",
       "+aU7deqUKysrG7vs5Zdfdm+99ZZzzrm33nrLvfLKK76Ov3v3bvfOO+9M25h/+/nnn92pU6ecc879\\\n",
       "9ttvrri42J07d8637U83vl/b/9dff7mhoSHnnHPDw8Nu5cqV7uTJk+7pp592Bw8edM4598ILL7j3\\\n",
       "3ntv2mtBcJiBZYGOjg4VFRVp8eLFmj17tjZv3qwjR44EXda0W7VqlfLy8sZdduTIETU0NEiSGhoa\\\n",
       "1Nra6uv4folEIlq+fLkkae7cuSopKVFfX59v259ufL94nqc5c+ZIkkZGRjQyMiLP83T8+HFt2LBB\\\n",
       "0vT//RE8AiwL9PX16d577x37uaCgwNediXRjh/Loo4+qqqpKiUTC17Fv1t/fr0gkIklauHCh+vv7\\\n",
       "fa9h//79qqysVGNj47Qewvxbd3e3Tp8+rZqamkC2/+bxJf+2f3R0VLFYTPn5+YrH41qyZInmz5+v\\\n",
       "3NwbH3MYxPMA/iLAkBEnTpzQt99+q88++0zvvvuuvvrqq6BLkud58jx/P1Jxx44d6urqUjKZVCQS\\\n",
       "0a5du6Z1vKtXr2r9+vXau3ev5s2bN+53fmz/P8f3c/tzcnKUTCbV29urjo4Off/999M2FsKJAMsC\\\n",
       "0WhUPT09Yz/39vYqGo36XoMk5efna926dero6PB1/L8tWLBAqVRKkpRKpZSfn+/7+Dk5OZo1a5ae\\\n",
       "f/75ab0fRkZGtH79ej377LN66qmnxsb3a/vTje/X9v9t/vz5qq2t1cmTJzU4OKjr169LCuZ5AH8R\\\n",
       "YFlgxYoVOn/+vC5cuKDh4WF9/PHHqq+v923833//XUNDQ2Pff/755+M68/xUX1+vlpYWSVJLS4vW\\\n",
       "rl3r6/h/h4ckHT58eNruB+ectm3bppKSEu3cuXPscr+2P934fm3/pUuXNDg4KEn6448/dOzYMZWU\\\n",
       "lKi2tlaffPKJpGD+/vBZ0F0kyIxPP/3UFRcXu8WLF7s33njD17G7urpcZWWlq6ysdKWlpb6Nv3nz\\\n",
       "Zrdw4UKXm5vrotGoe//9993ly5fdI4884oqKitzq1avdr7/+6uv4zz33nCsvL3cVFRXuiSeecD//\\\n",
       "/PO0jP311187Sa6iosItW7bMLVu2zH366ae+bX+68f3a/jNnzrhYLOYqKipcWVmZ27Nnj3PuxmNx\\\n",
       "xYoVbsmSJW7Dhg3u2rVr0zI+woEzcQAATOIQIgDAJAIMAGASAQYAMIkAAwCYRIABAEwiwAAAJhFg\\\n",
       "AACTCDAAgEkEGADAJAIMAGASAQYAMIkAAwCYRIABAEwiwAAAJhFgAACTCDAAgEkEGADAJAIMAGAS\\\n",
       "AQYAMIkAAwCY9H9kfCH0kF4lXgAAAABJRU5ErkJggg==\\\n",
       "\"\n",
       "  frames[5] = \"data:image/png;base64,iVBORw0KGgoAAAANSUhEUgAAAbAAAAEgCAYAAADVKCZpAAAABHNCSVQICAgIfAhkiAAAAAlwSFlz\\\n",
       "AAALEgAACxIB0t1+/AAAADl0RVh0U29mdHdhcmUAbWF0cGxvdGxpYiB2ZXJzaW9uIDIuMi4zLCBo\\\n",
       "dHRwOi8vbWF0cGxvdGxpYi5vcmcvIxREBQAAE2RJREFUeJzt3V1sFOX7xvFraCMnQLD+LGy2SAOt\\\n",
       "ta+stNAjiZWsGFOLCCK+JDUlYjgU8OVISmK0xhNI0MSNJjYxwRATygHYSIJVSTBN1dVgosFKY1s3\\\n",
       "FaSNxYgt5fkfEPsXZVe6bmfmXr6fZpN2tzPPPfsyV5/Ze6eec84JAABj5gRdAAAA2SDAAAAmEWAA\\\n",
       "AJMIMACASQQYAMAkAgwAYBIBBgAwiQADAJhEgAEATCLAAAAmEWAAAJMIMACASQQYAMAkAgwAYBIB\\\n",
       "BgAwiQADAJhEgAEATCLAAAAmEWAAAJMIMACASQQYAMAkAgwAYBIBBgAwiQADAJhEgAEATCLAAAAm\\\n",
       "EWAAAJMIMACASQQYAMAkAgwAYBIBBgAwiQADAJhEgAEATCLAQqi7u1sVFRUqKytTR0dH0OUAQCh5\\\n",
       "zjkXdBH4f1NTU7r99tt17NgxlZSUaNWqVTpw4ICqqqrSLuN5no8VAjcmdpXhwwwsZHp7e1VWVqZl\\\n",
       "y5bppptu0pYtW3T48OGgywKA0CHAQmZ4eFhLliyZ/rmkpETDw8MBVgQA4VQYdAHITiKRUCKRCLoM\\\n",
       "AAgMARYy0WhUg4OD0z8PDQ0pGo3+4/e2bdumbdu2SeI9MAA3Jg4hhsyqVat0+vRpnTlzRhMTE3rv\\\n",
       "vffU0tISdFlmuTQXAPYxAwuZwsJC7d+/X+vWrdPU1JTa2tpUXV0ddFkAEDq00ecBDiGml+7JzT2G\\\n",
       "mWJXGT4cQgQAmESAAQBMIsAAACYRYAAAk+hCRF6jWQPIX8zAAAAmEWAAAJMIMACASQQYAMAkAgwA\\\n",
       "YBIBBgAwiQADAJhEgAEATCLAAAAmEWAAAJMIMACASQQYAMAkAgwAYBIBBgAwiQADAJhEgAEATCLA\\\n",
       "AAAmEWAAAJMKgy4A/1RaWqr58+eroKBAhYWF6uvr821sl+E2z7cqAODfEWAh9dFHH+l///tf0GUA\\\n",
       "QGhxCBEAYBIBFkKe5+nee+9VfX29EolE0OUAQChxCDGETpw4oWg0qp9//lnxeFx33HGH1qxZc9Xv\\\n",
       "JBIJwg3ADc1zzmV63x4Ba29v17x587Rr1660v+N5uWuvoIkDuDZ2leHDIcSQ+e233zQ+Pj79/Ycf\\\n",
       "fqiamhrfxvcyXGCRm9El01dwVWX+wwo3Lg4hhszIyIg2bNggSbp06ZIee+wx3XfffQFXBQDhwyHE\\\n",
       "PJDLQ4jINzN7eWc+hOzPoer04weLXWX4cAgRAGASAQYAMIkAAwCYRIABAEyiCxEIxLUbAvz6HF66\\\n",
       "cXLZqJFpHJttHAgbZmAAAJMIMACASQQYAMAkAgwAYBIBBgAwiS7EG1T6LjTk1sy67TLd/7nsHMzm\\\n",
       "cc7tiZSy2VLgaszAAAAmEWAAAJMIMACASQQYAMAkAgwAYBIBBgAwiTb6GxTt8rk7mWw2J+DN5mMM\\\n",
       "2bTLB92QPtPtv7IMz05cH2ZgAACTCDAAgEkEGADAJAIMAGASAQYAMIkAC0hbW5uKi4tVU1Mzfd35\\\n",
       "8+cVj8dVXl6ueDyu0dHRACvE37k0X5mXufbFS3PJrq70l5lKV1e2l2zGAa4XARaQJ598Ut3d3Vdd\\\n",
       "19HRobVr1+r06dNau3atOjo6AqoOAMLPc84F/VGRG9bAwICam5t16tQpSVJFRYV6enoUiUSUSqV0\\\n",
       "991367vvvvvX9Xgef7fO3Myf9umXmPm/BsnuEZv559ByMwIkiV1l+DADC5GRkRFFIhFJ0uLFizUy\\\n",
       "MhJwRQAQXpyJI6Q8z8s4s0okEkokEj5WBADhwgwsRBYtWqRUKiVJSqVSKi4uTvu727ZtU19fn/r6\\\n",
       "+vwqDwBChQALkZaWFnV2dkqSOjs7tX79+oArAoDwookjII8++qh6enp07tw5LVq0SHv27NGDDz6o\\\n",
       "zZs368cff9TSpUt18OBBFRUV/eu6aOLIpVw2d0gzbYvgkQwvdpXhQ4DlAQIslwgwXBu7yvDhECIA\\\n",
       "wCQCDABgEgEGADCJAAMAmMQHmYH/aOYnksp0C20cwPViBgYAMIkAAwCYRIABAEwiwAAAJhFgAACT\\\n",
       "6ELMa5lOfTP73W7Bjp4dl6EyL80WZT7B0My6DV0W91pY70tgtjEDAwCYRIABAEwiwAAAJhFgAACT\\\n",
       "CDAAgEkEGADAJNro81qwDdYW27uzqTmbZbL7376cABj4K2ZgAACTCDAAgEkEGADAJAIMAGASAQYA\\\n",
       "MIkAC0hbW5uKi4tVU1MzfV17e7ui0ahisZhisZiOHj0aYIWzy6X5CjcvzSWbNblrXtKPQach8HcE\\\n",
       "WECefPJJdXd3/+P6Z555RslkUslkUvfff38AlQGADQRYQNasWaOioqKgywAAswiwkNm/f7/q6urU\\\n",
       "1tam0dHRoMsBgNAiwEJk+/bt6u/vVzKZVCQS0c6dO9P+biKRUENDgxoaGnysEADCw3POhf2d87w1\\\n",
       "MDCg5uZmnTp1aka3/Z3n2XuDP13DhmeyWSF3L6FM/xE63Tg27zN72FWGDzOwEEmlUtPfHzp06KoO\\\n",
       "RQDA1TiZb0AeffRR9fT06Ny5cyopKdGePXvU09OjZDIpz/NUWlqqN998M+gyZw2zhtzJNC/gXkY+\\\n",
       "4xBiHrB4CDG/BHsIMVNM8czIHXaV4cMhRACASQQYAMAkAgwAYBIBBgAwiS5E4D/LpvEim9+nJQP4\\\n",
       "K2ZgAACTCDAAgEkEGADAJAIMAGASAQYAMIkuRCCP5ddZ/4GrMQMDAJhEgAEATCLAAAAmEWAAAJMI\\\n",
       "MACASQQYAMAk2uiBWZWuXT2b/+478//IDOQzZmAAAJMIMACASQQYAMAkAgwAYBIBBgAwiQALyODg\\\n",
       "oJqamlRVVaXq6mrt27dPknT+/HnF43GVl5crHo9rdHQ04Ephm5fmAtjnOeey6efFf5RKpZRKpbRy\\\n",
       "5UqNj4+rvr5eXV1deuedd1RUVKQXXnhBHR0dGh0d1auvvppxXZ7HDsmea7/ssnsxzvzx5xkzc+wq\\\n",
       "w4cZWEAikYhWrlwpSZo/f74qKys1PDysw4cPq7W1VZLU2tqqrq6uIMsEgNBiBhYCAwMDWrNmjU6d\\\n",
       "OqXbbrtNY2Njkq78xXfzzTdP/5wOMzCLmIFZw64yfDgTR8AuXLigjRs3au/evVqwYMFVt3melzac\\\n",
       "EomEEomEHyUCQCgxAwvQ5OSkmpubtW7dOu3YsUOSVFFRoZ6eHkUiEaVSKd1999367rvvMq6HGZhF\\\n",
       "zMCsYVcZPrwHFhDnnLZu3arKysrp8JKklpYWdXZ2SpI6Ozu1fv36oEoEgFBjBhaQEydO6K677lJt\\\n",
       "ba3mzLnyd8TLL7+sxsZGbd68WT/++KOWLl2qgwcPqqioKOO6spmBcVrYoM38ZZd+iUyP2szG8TKs\\\n",
       "60Z/zrCrDB8CLA8QYBYRYNawqwwfDiECAEwiwAAAJhFgAACTCDAAgEl8kPkGlV9vvGfz5vq174FM\\\n",
       "a8ruPgvnG/+ZmjXSLwOECzMwAIBJBBgAwCQCDABgEgEGADCJAAMAmEQXIvJANqdSuvb12XXaZVoq\\\n",
       "3W2565zMZhmXdvvpNYQdzMAAACYRYAAAkwgwAIBJBBgAwCQCDABgEgEGADCJNnrkuVy2saeTzSmA\\\n",
       "aVcH/itmYAAAkwgwAIBJBBgAwCQCDABgEgEGADCJAAvI4OCgmpqaVFVVperqau3bt0+S1N7ermg0\\\n",
       "qlgsplgspqNHjwZcab7y0lz84bK4ZLO2dFvppfkCLPGcc7nsJ8Z1SqVSSqVSWrlypcbHx1VfX6+u\\\n",
       "ri4dPHhQ8+bN065du657XZ7Hjid3cv1ySHc2+FxKvzZCKXfYVYYPnwMLSCQSUSQSkSTNnz9flZWV\\\n",
       "Gh4eDrgqALCDQ4ghMDAwoC+//FKNjY2SpP3796uurk5tbW0aHR0NuDoACCcCLGAXLlzQxo0btXfv\\\n",
       "Xi1YsEDbt29Xf3+/ksmkIpGIdu7cec3lEomEGhoa1NDQ4HPFABAOvAcWoMnJSTU3N2vdunXasWPH\\\n",
       "P24fGBhQc3OzTp06lXE9vAeWS7wHhmtjVxk+zMAC4pzT1q1bVVlZeVV4pVKp6e8PHTqkmpqaIMoD\\\n",
       "gNBjBhaQEydO6K677lJtba3mzLnyd8TLL7+sAwcOKJlMyvM8lZaW6s0335xu9kiHGdjMpXvSZ7on\\\n",
       "s1kml4Ie/0bHrjJ8CLA8QIDNHAGGmWJXGT4cQgQAmESAAQBMIsAAACYRYAAAkziVFPJaLhsfgm6W\\\n",
       "CHp8IGyYgQEATCLAAAAmEWAAAJMIMACASQQYAMAkAgwAYBJt9Mhr6VrPOa8gYB8zMACASQQYAMAk\\\n",
       "AgwAYBIBBgAwiQADAJhEFyJuSHQbAvYxAwMAmESAAQBMIsAAACYRYAAAkwgwAIBJBFhALl68qNWr\\\n",
       "V2vFihWqrq7W7t27JUlnzpxRY2OjysrK9Mgjj2hiYiLgSuEvl+EC4K8IsIDMnTtXx48f11dffaVk\\\n",
       "Mqnu7m599tlnev755/XMM8/o+++/180336y333476FIBIJQIsIB4nqd58+ZJkiYnJzU5OSnP83T8\\\n",
       "+HFt2rRJktTa2qqurq4gywSA0CLAAjQ1NaVYLKbi4mLF43EtX75cCxcuVGHhlc+Xl5SUaHh4OOAq\\\n",
       "ASCcCLAAFRQUKJlMamhoSL29vfr222+ve9lEIqGGhgY1NDTMYoUAEF4EWAgsXLhQTU1NOnnypMbG\\\n",
       "xnTp0iVJ0tDQkKLR6DWX2bZtm/r6+tTX1+dnqQAQGgRYQM6ePauxsTFJ0u+//65jx46psrJSTU1N\\\n",
       "ev/99yVJnZ2dWr9+fZBlAkBoec45+nMD8PXXX6u1tVVTU1O6fPmyNm/erBdffFE//PCDtmzZovPn\\\n",
       "z+vOO+/Uu+++q7lz52Zcl+dxatogZXoB8cjkD3aV4UOA5QECLFgE2I2BXWX4cAgRAGASAQYAMIkA\\\n",
       "AwCYRIABAEwqDLoAwDoaNYBgMAMDAJhEgAEATCLAAAAmEWAAAJMIMACASQQYAMAkAgwAYBIBBgAw\\\n",
       "iQADAJhEgAEATCLAAAAmEWAAAJM4mW8euOWWW1RaWipJOnv2rG699dbAamF8xs/H8QcGBnK+Tvx3\\\n",
       "nuP/ZOeVhoYG9fX1MT7jMz7yHocQAQAmEWAAAJMK2tvb24MuArlVX1/P+IzP+Mh7vAcGADCJQ4gA\\\n",
       "AJMIsDzR3d2tiooKlZWVqaOjw/fxS0tLVVtbq1gspoaGBl/GbGtrU3FxsWpqaqavO3/+vOLxuMrL\\\n",
       "yxWPxzU6Ourr+O3t7YpGo4rFYorFYjp69OisjD04OKimpiZVVVWpurpa+/btk+Tf9qcb36/tv3jx\\\n",
       "olavXq0VK1aourpau3fvliSdOXNGjY2NKisr0yOPPKKJiYlZGR8h4WDepUuX3LJly1x/f7/7448/\\\n",
       "XF1dnfvmm298rWHp0qXu7Nmzvo758ccfu88//9xVV1dPX/fss8+6V155xTnn3CuvvOKee+45X8ff\\\n",
       "vXu3e+2112ZtzD/99NNP7vPPP3fOOffrr7+68vJy98033/i2/enG92v7L1++7MbHx51zzk1MTLjV\\\n",
       "q1e7kydPuocfftgdOHDAOefc008/7d54441ZrwXBYQaWB3p7e1VWVqZly5bppptu0pYtW3T48OGg\\\n",
       "y5p1a9asUVFR0VXXHT58WK2trZKk1tZWdXV1+Tq+XyKRiFauXClJmj9/viorKzU8POzb9qcb3y+e\\\n",
       "52nevHmSpMnJSU1OTsrzPB0/flybNm2SNPuPP4JHgOWB4eFhLVmyZPrnkpISX3cm0pUdyr333qv6\\\n",
       "+nolEglfx/6rkZERRSIRSdLixYs1MjLiew379+9XXV2d2traZvUQ5p8GBgb05ZdfqrGxMZDt/+v4\\\n",
       "kn/bPzU1pVgspuLiYsXjcS1fvlwLFy5UYeGVEwwF8TqAvwgw5MSJEyf0xRdf6IMPPtDrr7+uTz75\\\n",
       "JOiS5HmePM/zdczt27erv79fyWRSkUhEO3funNXxLly4oI0bN2rv3r1asGDBVbf5sf1/H9/P7S8o\\\n",
       "KFAymdTQ0JB6e3v17bffztpYCCcCLA9Eo1ENDg5O/zw0NKRoNOp7DZJUXFysDRs2qLe319fx/7Ro\\\n",
       "0SKlUilJUiqVUnFxse/jFxQUaM6cOXrqqadm9X6YnJzUxo0b9fjjj+uhhx6aHt+v7U83vl/b/6eF\\\n",
       "CxeqqalJJ0+e1NjYmC5duiQpmNcB/EWA5YFVq1bp9OnTOnPmjCYmJvTee++ppaXFt/F/++03jY+P\\\n",
       "T3//4YcfXtWZ56eWlhZ1dnZKkjo7O7V+/Xpfx/8zPCTp0KFDs3Y/OOe0detWVVZWaseOHdPX+7X9\\\n",
       "6cb3a/vPnj2rsbExSdLvv/+uY8eOqbKyUk1NTXr//fclBfP4w2dBd5EgN44cOeLKy8vdsmXL3Esv\\\n",
       "veTr2P39/a6urs7V1dW5qqoq38bfsmWLW7x4sSssLHTRaNS99dZb7ty5c+6ee+5xZWVlbu3ate6X\\\n",
       "X37xdfwnnnjC1dTUuNraWvfAAw+4n376aVbG/vTTT50kV1tb61asWOFWrFjhjhw54tv2pxvfr+3/\\\n",
       "6quvXCwWc7W1ta66utrt2bPHOXflubhq1Sq3fPlyt2nTJnfx4sVZGR/hwJk4AAAmcQgRAGASAQYA\\\n",
       "MIkAAwCYRIABAEwiwAAAJhFgAACTCDAAgEkEGADAJAIMAGASAQYAMIkAAwCYRIABAEwiwAAAJhFg\\\n",
       "AACTCDAAgEkEGADAJAIMAGASAQYAMIkAAwCYRIABAEz6P0pT+TYDypuOAAAAAElFTkSuQmCC\\\n",
       "\"\n",
       "  frames[6] = \"data:image/png;base64,iVBORw0KGgoAAAANSUhEUgAAAbAAAAEgCAYAAADVKCZpAAAABHNCSVQICAgIfAhkiAAAAAlwSFlz\\\n",
       "AAALEgAACxIB0t1+/AAAADl0RVh0U29mdHdhcmUAbWF0cGxvdGxpYiB2ZXJzaW9uIDIuMi4zLCBo\\\n",
       "dHRwOi8vbWF0cGxvdGxpYi5vcmcvIxREBQAAEt5JREFUeJzt3V1sVGXXxvFr0wZOgEDVwmSqNNCK\\\n",
       "/WSkhR5JqGTAmFpUkA81KSkRw6Hg15GUxGiNJ5CgCRNNbGICISaUA7GBBKuSYJqqo4EEgpWGtkwq\\\n",
       "SBuLEVvq/R4Q+z59ZPpIne691/T/I5O003avtWem++q9ZzHjOeecAAAwZkbQDQAAMBkEGADAJAIM\\\n",
       "AGASAQYAMIkAAwCYRIABAEwiwAAAJhFgAACTCDAAgEkEGADAJAIMAGASAQYAMIkAAwCYRIABAEwi\\\n",
       "wAAAJhFgAACTCDAAgEkEGADAJAIMAGASAQYAMIkAAwCYRIABAEwiwAAAJhFgAACTCDAAgEkEGADA\\\n",
       "JAIMAGASAQYAMIkAAwCYRIABAEwiwAAAJhFgAACTCDAAgEkEWAi1tbVp6dKlKioqUnNzc9DtAEAo\\\n",
       "ec45F3QT+H+jo6N68MEHdfLkSRUUFGjFihU6dOiQSktL0/6M53k+dghMTxwqw4cVWMh0dHSoqKhI\\\n",
       "ixcv1syZM7VlyxYdO3Ys6LYAIHQIsJDp6+vT/fffP/Z5QUGB+vr6AuwIAMIpN+gGMDmJREKJRCLo\\\n",
       "NgAgMARYyESjUfX09Ix93tvbq2g0+rfv27Fjh3bs2CGJ58AATE+cQgyZFStW6OLFi7p06ZKGh4d1\\\n",
       "+PBh1dfXB90WAIQOK7CQyc3N1YEDB7Ru3TqNjo6qsbFRZWVlQbcFAKHDGH0W4BQiMPU4VIYPpxAB\\\n",
       "ACYRYAAAkwgwAIBJBBgAwCQCDABgEgEGADCJAAMAmESAAQBMIsAAACYRYAAAkwgwAIBJBBgAwCQC\\\n",
       "DABgEgEGADCJAAMAmESAAQBMIsAAACYRYAAAkwgwAIBJBBgAwCQCDABgEgEGADCJAAMAmJQbdAP4\\\n",
       "u8LCQs2ZM0c5OTnKzc1VZ2dn0C0BQOgQYCH1+eef69577w26DQAILU4hAgBMIsBCyPM8rV27VlVV\\\n",
       "VUokEkG3AwChxCnEEDp9+rSi0ah+/vlnxeNxPfTQQ1q1atW470kkEoQbgGnNc865oJtAek1NTZo9\\\n",
       "e7ZefvnltN/jeZ6PHQHTE4fK8OEUYsj89ttvGhoaGvv4xIkTKi8vD7grZJ4L6cWfjoFM4BRiyPT3\\\n",
       "9+upp56SJN26dUvPPvusHnvssYC7AoDw4RRiFuAUokVh/bVL/1jKZMcWH7EcKsOHU4gAAJMIMACA\\\n",
       "SQQYAMAkAgwAYBJTiMA40/uJer/2fqI6Fgc8EAxWYAAAkwgwAIBJBBgAwCQCDABgEgEGADCJKUTA\\\n",
       "jDvP503vuUkmGqczVmAAAJMIMACASQQYAMAkAgwAYBIBBgAwiQADAJjEGD0MydzAeNDvLpy+fnYN\\\n",
       "fvuxN9l1i+FusAIDAJhEgAEATCLAAAAmEWAAAJMIMACASQRYQBobG5Wfn6/y8vKx665fv654PK7i\\\n",
       "4mLF43ENDAwE2GF2cGku6XmTuGSyvj/ufk8yfcsA/x4BFpBt27apra1t3HXNzc1as2aNLl68qDVr\\\n",
       "1qi5uTmg7gAg/DznXBj+IJyWuru7VVdXp7Nnz0qSli5dqvb2dkUiEaVSKa1evVoXLlz4n9vxvOny\\\n",
       "t+7dP1Tv/ifu/rb0JqjiR/3JSFeFtyZJj0Nl+LACC5H+/n5FIhFJ0sKFC9Xf3x9wRwAQXrwSR0h5\\\n",
       "njfhyiqRSCiRSPjYEQCECyuwEFmwYIFSqZQkKZVKKT8/P+337tixQ52dners7PSrPQAIFQIsROrr\\\n",
       "69XS0iJJamlp0fr16wPuCADCiyGOgGzdulXt7e26du2aFixYoL179+rJJ5/Upk2bdPnyZS1atEhH\\\n",
       "jhxRXl7e/9zW9BniSMeP4Q5pcgMed2cyfU33e98vHCrDhwDLAgQYAYapx6EyfDiFCAAwiQADAJhE\\\n",
       "gAEATCLAAAAm8R+ZgSl0t0/7M5AB/HOswAAAJhFgAACTCDAAgEkEGADAJAIMAGASU4iYlibzho7p\\\n",
       "v8rsIBAEVmAAAJMIMACASQQYAMAkAgwAYBIBBgAwiQADAJjEGD2ywERj7Hf3crqT29JENe5uxH4y\\\n",
       "W8pcdcAWVmAAAJMIMACASQQYAMAkAgwAYBIBBgAwiQALSGNjo/Lz81VeXj52XVNTk6LRqGKxmGKx\\\n",
       "mI4fPx5gh1PLpbkgvXS3mTfBBchmBFhAtm3bpra2tr9d/9JLLymZTCqZTOrxxx8PoDMAsIEAC8iq\\\n",
       "VauUl5cXdBsAYBYBFjIHDhxQZWWlGhsbNTAwEHQ7ABBaBFiI7Ny5U11dXUomk4pEItq9e3fa700k\\\n",
       "EqqurlZ1dbWPHQJAeHjOOZ47D0h3d7fq6up09uzZu/raf/M8e0/X+/fexpl7eE9uS1N/39i7923i\\\n",
       "UBk+rMBCJJVKjX189OjRcROKAIDxeDHfgGzdulXt7e26du2aCgoKtHfvXrW3tyuZTMrzPBUWFurg\\\n",
       "wYNBtzll/Fs1TOYlcDO5Jf/WmsB0wynELGDxFGLwsufUIve+PzhUhg+nEAEAJhFgAACTCDAAgEkE\\\n",
       "GADAJKYQMQ5vT28P9xmmK1ZgAACTCDAAgEkEGADAJAIMAGASAQYAMIkpRIwzfabWpv41EifeGq+R\\\n",
       "CPxbrMAAACYRYAAAkwgwAIBJBBgAwCQCDABgEgEGADCJMXrAOAbvMV2xAgMAmESAAQBMIsAAACYR\\\n",
       "YAAAkwgwAIBJBFhAenp6VFtbq9LSUpWVlWn//v2SpOvXrysej6u4uFjxeFwDAwMBd4qwcxNcgGzm\\\n",
       "Oed4nAcglUoplUpp+fLlGhoaUlVVlVpbW/XRRx8pLy9Pr7/+upqbmzUwMKB33nlnwm15HoPUmZPZ\\\n",
       "X4fMvrb93eORkTkcKsOHFVhAIpGIli9fLkmaM2eOSkpK1NfXp2PHjqmhoUGS1NDQoNbW1iDbBIDQ\\\n",
       "YgUWAt3d3Vq1apXOnj2rBx54QIODg5Ju/8U3f/78sc/TYQWWSazAcGccKsOHV+II2I0bN7Rhwwbt\\\n",
       "27dPc+fOHfc1z/PShlMikVAikfCjRQAIJVZgARoZGVFdXZ3WrVunXbt2SZKWLl2q9vZ2RSIRpVIp\\\n",
       "rV69WhcuXJhwO6zAMokVGO6MQ2X48BxYQJxz2r59u0pKSsbCS5Lq6+vV0tIiSWppadH69euDahEA\\\n",
       "Qo0VWEBOnz6tRx55RBUVFZox4/bfEW+99ZZqamq0adMmXb58WYsWLdKRI0eUl5c34bZYgWUSKzDc\\\n",
       "GYfK8CHAsgABlkkEGO6MQ2X4cAoRAGASAQYAMIkAAwCYRIABAEziPzIjZDI9RJG5MQaLAxGZvDUt\\\n",
       "7j+yGyswAIBJBBgAwCQCDABgEgEGADCJAAMAmMQUIrKal+GpxszxZ6aPyUFkM1ZgAACTCDAAgEkE\\\n",
       "GADAJAIMAGASAQYAMIkAAwCYxBg9Qmaiwe+gR+Lv3FvQXWXSRPvCSD7ChhUYAMAkAgwAYBIBBgAw\\\n",
       "iQADAJhEgAEATCLAAtLT06Pa2lqVlpaqrKxM+/fvlyQ1NTUpGo0qFospFovp+PHjAXcaJl6aiz9c\\\n",
       "mn+a8GJLuluYCUSEkeecs/dblgVSqZRSqZSWL1+uoaEhVVVVqbW1VUeOHNHs2bP18ssv/+Nted50\\\n",
       "P7z48xCeXJVg75vp/sjIJA6V4cP/AwtIJBJRJBKRJM2ZM0clJSXq6+sLuCsAsINTiCHQ3d2t7777\\\n",
       "TjU1NZKkAwcOqLKyUo2NjRoYGAi4OwAIJwIsYDdu3NCGDRu0b98+zZ07Vzt37lRXV5eSyaQikYh2\\\n",
       "7959x59LJBKqrq5WdXW1zx0DQDjwHFiARkZGVFdXp3Xr1mnXrl1/+3p3d7fq6up09uzZCbfDc2A8\\\n",
       "BxbO6tmFQ2X4sAILiHNO27dvV0lJybjwSqVSYx8fPXpU5eXlQbQHAKHHCiwgp0+f1iOPPKKKigrN\\\n",
       "mHH774i33npLhw4dUjKZlOd5Kiws1MGDB8eGPdJhBRZemfzlyuS9nK4vHknpcagMHwIsCxBg4UWA\\\n",
       "ZQ8OleHDKUQAgEkEGADAJAIMAGASAQYAMImXkspivD188MJ6O4e1L+BusAIDAJhEgAEATCLAAAAm\\\n",
       "EWAAAJMIMACASQQYAMAkxuizGKPSALIZKzAAgEkEGADAJAIMAGASAQYAMIkAAwCYxBQikMV452Vk\\\n",
       "M1ZgAACTCDAAgEkEGADAJAIMAGASAQYAMIkAC8jNmze1cuVKLVu2TGVlZdqzZ48k6dKlS6qpqVFR\\\n",
       "UZE2b96s4eHhgDvFX1yaix81JlvHS3MBsgEBFpBZs2bp1KlT+v7775VMJtXW1qavv/5ar732ml56\\\n",
       "6SX9+OOPmj9/vj788MOgWwWAUCLAAuJ5nmbPni1JGhkZ0cjIiDzP06lTp7Rx40ZJUkNDg1pbW4Ns\\\n",
       "EwBCiwAL0OjoqGKxmPLz8xWPx7VkyRLNmzdPubm3/395QUGB+vr6Au4SAMKJAAtQTk6Oksmkent7\\\n",
       "1dHRofPnz//jn00kEqqurlZ1dfUUdggA4UWAhcC8efNUW1urM2fOaHBwULdu3ZIk9fb2KhqN3vFn\\\n",
       "duzYoc7OTnV2dvrZKgCEBgEWkKtXr2pwcFCS9Pvvv+vkyZMqKSlRbW2tPvnkE0lSS0uL1q9fH2Sb\\\n",
       "ABBannMu05PA+Ad++OEHNTQ0aHR0VH/++ac2bdqkN954Qz/99JO2bNmi69ev6+GHH9bHH3+sWbNm\\\n",
       "Tbgtz2MwejrghXmDxaEyfAiwLECATQ8EWLA4VIYPpxABACYRYAAAkwgwAIBJBBgAwKTcoBsA8M8w\\\n",
       "rAGMxwoMAGASAQYAMIkAAwCYRIABAEwiwAAAJhFgAACTCDAAgEkEGADAJAIMAGASAQYAMIkAAwCY\\\n",
       "RIABAEzixXyzwD333KPCwkJJ0tWrV3XfffcF1gv1qZ+N9bu7uzO+Tfx7nuN9srNKdXW1Ojs7qU99\\\n",
       "6iPrcQoRAGASAQYAMCmnqampKegmkFlVVVXUpz71kfV4DgwAYBKnEAEAJhFgWaKtrU1Lly5VUVGR\\\n",
       "mpubfa9fWFioiooKxWIxVVdX+1KzsbFR+fn5Ki8vH7vu+vXrisfjKi4uVjwe18DAgK/1m5qaFI1G\\\n",
       "FYvFFIvFdPz48Smp3dPTo9raWpWWlqqsrEz79++X5N/+p6vv1/7fvHlTK1eu1LJly1RWVqY9e/ZI\\\n",
       "ki5duqSamhoVFRVp8+bNGh4enpL6CAkH827duuUWL17surq63B9//OEqKyvduXPnfO1h0aJF7urV\\\n",
       "q77W/OKLL9w333zjysrKxq575ZVX3Ntvv+2cc+7tt992r776qq/19+zZ4959990pq/mXK1euuG++\\\n",
       "+cY559yvv/7qiouL3blz53zb/3T1/dr/P//80w0NDTnnnBseHnYrV650Z86ccc8884w7dOiQc865\\\n",
       "F1980b3//vtT3guCwwosC3R0dKioqEiLFy/WzJkztWXLFh07dizotqbcqlWrlJeXN+66Y8eOqaGh\\\n",
       "QZLU0NCg1tZWX+v7JRKJaPny5ZKkOXPmqKSkRH19fb7tf7r6fvE8T7Nnz5YkjYyMaGRkRJ7n6dSp\\\n",
       "U9q4caOkqb//ETwCLAv09fXp/vvvH/u8oKDA14OJdPuAsnbtWlVVVSmRSPha+z/19/crEolIkhYu\\\n",
       "XKj+/n7fezhw4IAqKyvV2Ng4pacw/9Ld3a3vvvtONTU1gez/f9aX/Nv/0dFRxWIx5efnKx6Pa8mS\\\n",
       "JZo3b55yc2+/wFAQvwfwFwGGjDh9+rS+/fZbffbZZ3rvvff05ZdfBt2SPM+T53m+1ty5c6e6urqU\\\n",
       "TCYViUS0e/fuKa1348YNbdiwQfv27dPcuXPHfc2P/f/v+n7uf05OjpLJpHp7e9XR0aHz589PWS2E\\\n",
       "EwGWBaLRqHp6esY+7+3tVTQa9b0HScrPz9dTTz2ljo4OX+v/ZcGCBUqlUpKkVCql/Px83+vn5ORo\\\n",
       "xowZeuGFF6b0dhgZGdGGDRv03HPP6emnnx6r79f+p6vv1/7/Zd68eaqtrdWZM2c0ODioW7duSQrm\\\n",
       "9wD+IsCywIoVK3Tx4kVdunRJw8PDOnz4sOrr632r/9tvv2loaGjs4xMnToybzPNTfX29WlpaJEkt\\\n",
       "LS1av369r/X/Cg9JOnr06JTdDs45bd++XSUlJdq1a9fY9X7tf7r6fu3/1atXNTg4KEn6/fffdfLk\\\n",
       "SZWUlKi2tlaffPKJpGDuf/gs6CkSZMann37qiouL3eLFi92bb77pa+2uri5XWVnpKisrXWlpqW/1\\\n",
       "t2zZ4hYuXOhyc3NdNBp1H3zwgbt27Zp79NFHXVFRkVuzZo375ZdffK3//PPPu/LycldRUeGeeOIJ\\\n",
       "d+XKlSmp/dVXXzlJrqKiwi1btswtW7bMffrpp77tf7r6fu3/999/72KxmKuoqHBlZWVu7969zrnb\\\n",
       "j8UVK1a4JUuWuI0bN7qbN29OSX2EA6/EAQAwiVOIAACTCDAAgEkEGADAJAIMAGASAQYAMIkAAwCY\\\n",
       "RIABAEwiwAAAJhFgAACTCDAAgEkEGADAJAIMAGASAQYAMIkAAwCYRIABAEwiwAAAJhFgAACTCDAA\\\n",
       "gEkEGADAJAIMAGDS/wHWieMDZABiKgAAAABJRU5ErkJggg==\\\n",
       "\"\n",
       "  frames[7] = \"data:image/png;base64,iVBORw0KGgoAAAANSUhEUgAAAbAAAAEgCAYAAADVKCZpAAAABHNCSVQICAgIfAhkiAAAAAlwSFlz\\\n",
       "AAALEgAACxIB0t1+/AAAADl0RVh0U29mdHdhcmUAbWF0cGxvdGxpYiB2ZXJzaW9uIDIuMi4zLCBo\\\n",
       "dHRwOi8vbWF0cGxvdGxpYi5vcmcvIxREBQAAEjJJREFUeJzt3W9MlfX/x/HXJczuqCMq9OxQMoWM\\\n",
       "v54A5ZZOckdbI8g0xWqj4bJ5U+3frcStGa07ulmbZ7XF1qZzbsKNjOVmVG42RnVsuOmMZAGekSYs\\\n",
       "bBlIn9+NFr/89j18y+S6rvfh+djOxt/z+VzguZ58Lj4cPeecEwAAxswJegIAANwOAgYAMImAAQBM\\\n",
       "ImAAAJMIGADAJAIGADCJgAEATCJgAACTCBgAwCQCBgAwiYABAEwiYAAAkwgYAMAkAgYAMImAAQBM\\\n",
       "ImAAAJMIGADAJAIGADCJgAEATCJgAACTCBgAwCQCBgAwiYABAEwiYAAAkwgYAMAkAgYAMImAAQBM\\\n",
       "ImAAAJMIGADAJAIGADCJgAEATCJgAACTCBgAwCQCFkKdnZ1atmyZCgsL1draGvR0ACCUPOecC3oS\\\n",
       "+H+Tk5N68MEHdfLkSeXn52vFihU6fPiwSkpK0n6O53k+zhCYnThVhg8rsJDp7u5WYWGhlixZorlz\\\n",
       "56qxsVEdHR1BTwsAQoeAhczQ0JDuv//+qdfz8/M1NDQU4IwAIJyyg54Abk8ikVAikQh6GgAQGAIW\\\n",
       "MtFoVAMDA1OvDw4OKhqN/uXjtm/fru3bt0vid2AAZicuIYbMihUrdPHiRV26dEnj4+M6cuSI6uvr\\\n",
       "g54WfOKmuQG4FSuwkMnOztbBgwe1fv16TU5Oqrm5WaWlpUFPCwBCh230GYBLiJljugcj3+VgcaoM\\\n",
       "Hy4hAgBMImAAAJMIGADAJAIGADCJXYhAiLBRA/j7WIEBAEwiYAAAkwgYAMAkAgYAMImAAQBMImAA\\\n",
       "AJMIGADAJAIGADCJgAEATCJgAACTCBgAwCQCBgAwiYABAEwiYAAAkwgYAMAkAgYAMImAAQBMImAA\\\n",
       "AJOyg54A/qqgoEDz589XVlaWsrOz1dPTE/SUACB0CFhIffLJJ7r33nuDngYAhBaXEAEAJhGwEPI8\\\n",
       "T+vWrVNVVZUSiUTQ0wGAUOISYgidPn1a0WhUP/zwg+LxuB566CGtXr36lo9JJBLEDcCs5jnnXNCT\\\n",
       "QHotLS2aN2+eXnzxxbQf43mejzMCZidOleHDJcSQ+fnnnzU2Njb18scff6yysrKAZwX/uGlu9kYP\\\n",
       "7kgwG3AJMWSGh4e1YcMGSdLNmzf19NNP69FHHw14VgAQPlxCzABcQswk0z0cZ/77fKdHT3d/Fv/F\\\n",
       "cqoMHy4hAgBMImAAAJMIGADAJAIGADCJXYhAqAS7vWG60W9nQ4bFzRqwgxUYAMAkAgYAMImAAQBM\\\n",
       "ImAAAJMIGADAJHYhYpa6nacFyvw9dcE+kRXwz7ACAwCYRMAAACYRMACASQQMAGASAQMAmETAAAAm\\\n",
       "sY0es9Ts/v+FM+dIMJuxAgMAmETAAAAmETAAgEkEDABgEgEDAJhEwALS3NysvLw8lZWVTb3t2rVr\\\n",
       "isfjKioqUjwe18jISIAzDCOX5uYXL83Nnsw5EsxmBCwgzz33nDo7O295W2trq9auXauLFy9q7dq1\\\n",
       "am1tDWh2ABB+nnPOzx9h8Sf9/f2qq6tTb2+vJGnZsmXq6upSJBJRKpXSmjVrdOHChf95P543W352\\\n",
       "5q+XEBxOleHDCixEhoeHFYlEJEmLFi3S8PBwwDMCgPDimThCyvO8aVdWiURCiUTCxxkBQLiwAguR\\\n",
       "hQsXKpVKSZJSqZTy8vLSfuz27dvV09Ojnp4ev6YHAKFCwEKkvr5ebW1tkqS2tjY1NDQEPCMACC82\\\n",
       "cQRk69at6urq0tWrV7Vw4ULt3btXTzzxhDZv3qzvv/9eixcv1tGjR5Wbm/s/72v2bOJIZ7p/wv/s\\\n",
       "a3Pn7gmZhlNl+BCwDEDACBhmHqfK8OESIgDAJAIGADCJgAEATCJgAACT+ENm4E/YqAHYwQoMAGAS\\\n",
       "AQMAmETAAAAmETAAgEkEDABgErsQkQHYOwjMRqzAAAAmETAAgEkEDABgEgEDAJhEwAAAJhEwAIBJ\\\n",
       "bKMH/qZ0/x8vm/iBYLACAwCYRMAAACYRMACASQQMAGASAQMAmETAAtLc3Ky8vDyVlZVNva2lpUXR\\\n",
       "aFSxWEyxWEwnTpwIcIbh49Lc/OKluaWbl59zA2YjAhaQ5557Tp2dnX95+86dO5VMJpVMJvXYY48F\\\n",
       "MDMAsIGABWT16tXKzc0NehoAYBYBC5mDBw+qoqJCzc3NGhkZCXo6ABBaBCxEduzYob6+PiWTSUUi\\\n",
       "Ee3evTvtxyYSCVVXV6u6utrHGQJAeHjOOX7XHJD+/n7V1dWpt7f3H73vP3ne7Hgyo7A+ldN0D6Cg\\\n",
       "54Y7h1Nl+LACC5FUKjX18vHjx2/ZoQgAuBVP5huQrVu3qqurS1evXlV+fr727t2rrq4uJZNJeZ6n\\\n",
       "goICHTp0KOhphkrQqxl+/gbChUuIGWC2XEIM2u08UPjOZA5OleHDJUQAgEkEDABgEgEDAJhEwAAA\\\n",
       "JrELEfib2JABhAsrMACASQQMAGASAQMAmETAAAAmETAAgEkEDABgEgEDAJhEwAAAJhEwAIBJBAwA\\\n",
       "YBIBAwCYRMAAACbxZL7ADEr3f/jyxMDAv8cKDABgEgEDAJhEwAAAJhEwAIBJBAwAYBIBC8jAwIBq\\\n",
       "a2tVUlKi0tJSHThwQJJ07do1xeNxFRUVKR6Pa2RkJOCZAkA4ec65dDt9MYNSqZRSqZQqKys1Njam\\\n",
       "qqoqtbe36/3331dubq5effVVtba2amRkRG+++ea09+V5bMoOK7bRZw5OleHDCiwgkUhElZWVkqT5\\\n",
       "8+eruLhYQ0ND6ujoUFNTkySpqalJ7e3tQU4TAEKLFVgI9Pf3a/Xq1ert7dUDDzyg0dFRSb//xHf3\\\n",
       "3XdPvZ4OK7DwYgWWOThVhg/PxBGw69eva+PGjdq/f78WLFhwy/s8z0sbp0QioUQi4ccUASCUWIEF\\\n",
       "aGJiQnV1dVq/fr127dolSVq2bJm6uroUiUSUSqW0Zs0aXbhwYdr7YQUWXqzAMgenyvDhd2ABcc5p\\\n",
       "27ZtKi4unoqXJNXX16utrU2S1NbWpoaGhqCmCAChxgosIKdPn9aqVatUXl6uOXN+/zli3759qqmp\\\n",
       "0ebNm/X9999r8eLFOnr0qHJzc6e9L1Zg4fVPV2DTPRj5LgeLU2X4ELAMQMDCi4BlDk6V4cMlRACA\\\n",
       "SQQMAGASAQMAmETAAAAm8YfMCEhY/0Iq2G0UQR89YAkrMACASQQMAGASAQMAmETAAAAmETAAgEns\\\n",
       "QkRAwrrf7s7O658+ZVRYvypAGLECAwCYRMAAACYRMACASQQMAGASAQMAmETAAAAmsY0ehoRz8/nt\\\n",
       "PP0v2+WBf48VGADAJAIGADCJgAEATCJgAACTCBgAwCQCFpCBgQHV1taqpKREpaWlOnDggCSppaVF\\\n",
       "0WhUsVhMsVhMJ06cCHimYeKlufnDpbkBCIbnnOMxGIBUKqVUKqXKykqNjY2pqqpK7e3tOnr0qObN\\\n",
       "m6cXX3zxb9+X57Ep2w+380DhO5M5OFWGD38HFpBIJKJIJCJJmj9/voqLizU0NBTwrADADi4hhkB/\\\n",
       "f7++/vpr1dTUSJIOHjyoiooKNTc3a2RkJODZAUA4EbCAXb9+XRs3btT+/fu1YMEC7dixQ319fUom\\\n",
       "k4pEItq9e/d//bxEIqHq6mpVV1f7PGMACAd+BxagiYkJ1dXVaf369dq1a9df3t/f36+6ujr19vZO\\\n",
       "ez/8Dswf/A5sduNUGT6swALinNO2bdtUXFx8S7xSqdTUy8ePH1dZWVkQ0wOA0GMFFpDTp09r1apV\\\n",
       "Ki8v15w5v/8csW/fPh0+fFjJZFKe56mgoECHDh2a2uyRDiswYOZxqgwfApYBCBgw8zhVhg+XEAEA\\\n",
       "JhEwAIBJBAwAYBIBAwCYRMAAACYRMACASQQMAGASAQMAmETAAAAmETAAgEkEDABgEgEDAJhEwAAA\\\n",
       "JhEwAIBJBAwAYBIBAwCYRMAAACYRMACASQQMAGASAQMAmETAAAAmETAAgEkEDABgEgELyI0bN7Ry\\\n",
       "5UotX75cpaWl2rNnjyTp0qVLqqmpUWFhobZs2aLx8fGAZwoA4UTAAnLXXXfp1KlTOnv2rJLJpDo7\\\n",
       "O/XFF1/olVde0c6dO/Xtt9/q7rvv1nvvvRf0VAEglAhYQDzP07x58yRJExMTmpiYkOd5OnXqlDZt\\\n",
       "2iRJampqUnt7e5DTBIDQImABmpycVCwWU15enuLxuJYuXaqcnBxlZ2dLkvLz8zU0NBTwLAEgnAhY\\\n",
       "gLKyspRMJjU4OKju7m6dP3/+b39uIpFQdXW1qqurZ3CGABBeBCwEcnJyVFtbqzNnzmh0dFQ3b96U\\\n",
       "JA0ODioajf7Xz9m+fbt6enrU09Pj51QBIDQIWECuXLmi0dFRSdIvv/yikydPqri4WLW1tTp27Jgk\\\n",
       "qa2tTQ0NDUFOEwBCy3POuaAnMRt98803ampq0uTkpH777Tdt3rxZr732mr777js1Njbq2rVrevjh\\\n",
       "h/XBBx/orrvumva+PM/zadbA7MWpMnwIWAYgYMDM41QZPlxCBACYRMAAACYRMACASQQMAGASAQMA\\\n",
       "mETAAAAmETAAgEkEDABgEgEDAJhEwAAAJhEwAIBJBAwAYBIBAwCYRMAAACYRMACASQQMAGASAQMA\\\n",
       "mJQd9ATw791zzz0qKCiQJF25ckX33XdfYHNhfMbPxPH7+/vv+H3i3/Mc/092RqmurlZPTw/jMz7j\\\n",
       "I+NxCREAYBIBAwCYlNXS0tIS9CRwZ1VVVTE+4zM+Mh6/AwMAmMQlRACASQQsQ3R2dmrZsmUqLCxU\\\n",
       "a2ur7+MXFBSovLxcsVhM1dXVvozZ3NysvLw8lZWVTb3t2rVrisfjKioqUjwe18jIiK/jt7S0KBqN\\\n",
       "KhaLKRaL6cSJEzMy9sDAgGpra1VSUqLS0lIdOHBAkn/Hn258v47/xo0bWrlypZYvX67S0lLt2bNH\\\n",
       "knTp0iXV1NSosLBQW7Zs0fj4+IyMj5BwMO/mzZtuyZIlrq+vz/3666+uoqLCnTt3ztc5LF682F25\\\n",
       "csXXMT/99FP35ZdfutLS0qm3vfTSS+6NN95wzjn3xhtvuJdfftnX8ffs2ePeeuutGRvzD5cvX3Zf\\\n",
       "fvmlc865n376yRUVFblz5875dvzpxvfr+H/77Tc3NjbmnHNufHzcrVy50p05c8Y99dRT7vDhw845\\\n",
       "51544QX3zjvvzPhcEBxWYBmgu7tbhYWFWrJkiebOnavGxkZ1dHQEPa0Zt3r1auXm5t7yto6ODjU1\\\n",
       "NUmSmpqa1N7e7uv4folEIqqsrJQkzZ8/X8XFxRoaGvLt+NON7xfP8zRv3jxJ0sTEhCYmJuR5nk6d\\\n",
       "OqVNmzZJmvnvP4JHwDLA0NCQ7r///qnX8/PzfT2ZSL+fUNatW6eqqiolEglfx/6z4eFhRSIRSdKi\\\n",
       "RYs0PDzs+xwOHjyoiooKNTc3z+glzD/09/fr66+/Vk1NTSDH/+fxJf+Of3JyUrFYTHl5eYrH41q6\\\n",
       "dKlycnKUnf37EwwF8TiAvwgY7ojTp0/rq6++0kcffaS3335bn332WdBTkud58jzP1zF37Nihvr4+\\\n",
       "JZNJRSIR7d69e0bHu379ujZu3Kj9+/drwYIFt7zPj+P/z/H9PP6srCwlk0kNDg6qu7tb58+fn7Gx\\\n",
       "EE4ELANEo1ENDAxMvT44OKhoNOr7HCQpLy9PGzZsUHd3t6/j/2HhwoVKpVKSpFQqpby8PN/Hz8rK\\\n",
       "0pw5c/T888/P6NdhYmJCGzdu1DPPPKMnn3xyany/jj/d+H4d/x9ycnJUW1urM2fOaHR0VDdv3pQU\\\n",
       "zOMA/iJgGWDFihW6ePGiLl26pPHxcR05ckT19fW+jf/zzz9rbGxs6uWPP/74lp15fqqvr1dbW5sk\\\n",
       "qa2tTQ0NDb6O/0c8JOn48eMz9nVwzmnbtm0qLi7Wrl27pt7u1/GnG9+v479y5YpGR0clSb/88otO\\\n",
       "njyp4uJi1dbW6tixY5KC+f7DZ0HvIsGd8eGHH7qioiK3ZMkS9/rrr/s6dl9fn6uoqHAVFRWupKTE\\\n",
       "t/EbGxvdokWLXHZ2totGo+7dd991V69edY888ogrLCx0a9eudT/++KOv4z/77LOurKzMlZeXu8cf\\\n",
       "f9xdvnx5Rsb+/PPPnSRXXl7uli9f7pYvX+4+/PBD344/3fh+Hf/Zs2ddLBZz5eXlrrS01O3du9c5\\\n",
       "9/u/xRUrVrilS5e6TZs2uRs3bszI+AgHnokDAGASlxABACYRMACASQQMAGASAQMAmETAAAAmETAA\\\n",
       "gEkEDABgEgEDAJhEwAAAJhEwAIBJBAwAYBIBAwCYRMAAACYRMACASQQMAGASAQMAmETAAAAmETAA\\\n",
       "gEkEDABgEgEDAJj0fxdqeiKZUlwgAAAAAElFTkSuQmCC\\\n",
       "\"\n",
       "\n",
       "\n",
       "    /* set a timeout to make sure all the above elements are created before\n",
       "       the object is initialized. */\n",
       "    setTimeout(function() {\n",
       "        anim2f3c185a0faa4adf895b36b04592e75d = new Animation(frames, img_id, slider_id, 41.0,\n",
       "                                 loop_select_id);\n",
       "    }, 0);\n",
       "  })()\n",
       "</script>\n"
      ],
      "text/plain": [
       "<IPython.core.display.HTML object>"
      ]
     },
     "execution_count": 217,
     "metadata": {},
     "output_type": "execute_result"
    }
   ],
   "source": [
    "spikes, image = testNMNIST[5234]\n",
    "anim = snn.io.animTD(snn.io.spikeArrayToEvent(spikes.reshape((2, 34, 34, -1)).cpu().data.numpy()))\n",
    "# anim = snn.io.animTD(snn.io.spikeArrayToEvent(input.to_dense().reshape((2, 34, 34, -1)).cpu().data.numpy()))\n",
    "HTML(anim.to_jshtml())"
   ]
  },
  {
   "cell_type": "code",
   "execution_count": 229,
   "metadata": {},
   "outputs": [
    {
     "data": {
      "text/plain": [
       "<matplotlib.image.AxesImage at 0x7fc326adabd0>"
      ]
     },
     "execution_count": 229,
     "metadata": {},
     "output_type": "execute_result"
    },
    {
     "data": {
      "image/png": "[encoded data removed]",
      "text/plain": [
       "<Figure size 432x288 with 1 Axes>"
      ]
     },
     "metadata": {
      "needs_background": "light"
     },
     "output_type": "display_data"
    }
   ],
   "source": [
    "plt.imshow(image.numpy()[0], cmap='gray')"
   ]
  },
  {
   "cell_type": "markdown",
   "metadata": {},
   "source": [
    "## Noisy data"
   ]
  },
  {
   "cell_type": "raw",
   "metadata": {},
   "source": [
    "trainingSetNoisy = nmnistDatasetNoisy(datasetPath =netParams['training']['path']['train']['data'], \n",
    "                            sampleFile  =netParams['training']['path']['train']['labels'],\n",
    "                            samplingTime=netParams['simulation']['Ts'],\n",
    "                            sampleLength=netParams['simulation']['tSample'],\n",
    "                            percentNoise = 0.001)"
   ]
  },
  {
   "cell_type": "raw",
   "metadata": {
    "scrolled": false
   },
   "source": [
    "input2, target2, label2 = trainingSetNoisy[4]\n",
    "anim = snn.io.animTD(snn.io.spikeArrayToEvent(input2.reshape((2, 34, 34, -1)).cpu().data.numpy()))\n",
    "HTML(anim.to_jshtml())"
   ]
  },
  {
   "cell_type": "code",
   "execution_count": 17,
   "metadata": {},
   "outputs": [],
   "source": [
    "# Delete the rogue temp-file\n",
    "try:\n",
    "    os.remove('None0000000.png')\n",
    "except FileNotFoundError:\n",
    "    pass"
   ]
  },
  {
   "cell_type": "code",
   "execution_count": 128,
   "metadata": {},
   "outputs": [],
   "source": [
    "# Define the cuda device to run the code on.\n",
    "# device = torch.device('cuda')\n",
    "# Use multiple GPU's if available\n",
    "device = torch.device('cuda:0')#:2') # should be the first GPU of deviceIDs \n",
    "deviceIds = [0]#2, 3]"
   ]
  },
  {
   "cell_type": "markdown",
   "metadata": {},
   "source": [
    "## Define the network\n",
    "The network definition follows similar style as standard PyTorch network definition, but it utilizes snn modules."
   ]
  },
  {
   "cell_type": "code",
   "execution_count": 243,
   "metadata": {},
   "outputs": [],
   "source": [
    "class SpikeToImageNMNIST(torch.nn.Module):\n",
    "    def __init__(self, netParams=netParams):\n",
    "        super(SpikeToImageNMNIST, self).__init__()\n",
    "         # initialize slayer\n",
    "        self.slayer = snn.layer(netParams['neuron'], netParams['simulation'])\n",
    "        \n",
    "        # Create snn loss instance.\n",
    "        self.error = snn.loss(netParams).to(device)\n",
    "        \n",
    "        # define layers\n",
    "        self.conv1 = self.slayer.conv(2, 10, 5, padding=1)\n",
    "        self.conv2 = self.slayer.conv(10, 10, 3, padding=1)\n",
    "        self.conv3 = self.slayer.conv(10, 5, 3)\n",
    "        self.conv4 = self.slayer.conv(5, 1, 3)\n",
    "        \n",
    "    def forward(self, x):\n",
    "        x = self.slayer.spike(self.conv1(self.slayer.psp(x)))\n",
    "        x = self.slayer.spike(self.conv2(self.slayer.psp(x)))\n",
    "        x = self.slayer.spike(self.conv3(self.slayer.psp(x)))\n",
    "        x = self.slayer.spike(self.conv4(self.slayer.psp(x)))\n",
    "        print(x.size())\n",
    "        return x"
   ]
  },
  {
   "cell_type": "markdown",
   "metadata": {},
   "source": [
    "# create instance of network, dataloaders, and optimizer"
   ]
  },
  {
   "cell_type": "code",
   "execution_count": 244,
   "metadata": {},
   "outputs": [],
   "source": [
    "# Instantiate network\n",
    "net = SpikeToImageNMNIST()\n",
    "device = torch.device(\"cuda:0\") # for training on GPU\n",
    "net = net.to(device) # move it to device\n",
    "\n",
    "# Dataset and dataLoader instances.\n",
    "trainingSet = trainNMNIST\n",
    "trainingsubset = torch.LongTensor(6000).random_(0, len(trainingSet))\n",
    "trainLoader = DataLoader(dataset=trainingSet, batch_size=8, # shuffle=True,\n",
    "                         sampler=torch.utils.data.SubsetRandomSampler(trainingsubset),\n",
    "                         num_workers=4)\n",
    "\n",
    "testingSet = testNMNIST\n",
    "testingsubset = torch.LongTensor(2).random_(0, len(testingSet))\n",
    "testLoader = DataLoader(dataset=testingSet, batch_size=8, # shuffle=True, \n",
    "                        sampler=torch.utils.data.SubsetRandomSampler(testingsubset),\n",
    "                        num_workers=4)\n",
    "\n",
    "# Set the loss function\n",
    "error = snn.loss(netParams).to(device)\n",
    "\n",
    "# Define optimizer module.\n",
    "optimizer = torch.optim.Adam(net.parameters(), lr = 0.01, amsgrad = True)\n",
    "\n",
    "# Create writer for logging to tensorboard\n",
    "writer = SummaryWriter(os.path.join(RESULTS_DIR, 'trainingstats', 'model1'))"
   ]
  },
  {
   "cell_type": "code",
   "execution_count": null,
   "metadata": {},
   "outputs": [],
   "source": []
  },
  {
   "cell_type": "code",
   "execution_count": 245,
   "metadata": {
    "scrolled": true
   },
   "outputs": [
    {
     "name": "stdout",
     "output_type": "stream",
     "text": [
      "torch.Size([8, 1, 28, 28, 300])\n",
      "tensor([[[[ 46.,  32., 136.,  ...,  63.,  97.,  42.],\n",
      "          [104., 129., 144.,  ..., 110.,  64., 148.],\n",
      "          [131.,  94., 110.,  ...,  95.,  97., 172.],\n",
      "          ...,\n",
      "          [ 51., 214.,  79.,  ..., 159., 111., 140.],\n",
      "          [161., 137., 220.,  ..., 138., 239., 145.],\n",
      "          [222., 113., 181.,  ..., 153.,   0., 185.]]],\n",
      "\n",
      "\n",
      "        [[[143.,  90., 104.,  ..., 128., 184., 150.],\n",
      "          [  0., 219.,  71.,  ..., 140., 254., 185.],\n",
      "          [157.,  57., 151.,  ..., 181., 148.,  81.],\n",
      "          ...,\n",
      "          [ 90., 116., 142.,  ..., 109.,  93.,  73.],\n",
      "          [138., 240.,  96.,  ...,  94., 166., 158.],\n",
      "          [ 66., 133.,  91.,  ..., 187., 166.,  35.]]],\n",
      "\n",
      "\n",
      "        [[[197., 137., 110.,  ..., 161., 113., 202.],\n",
      "          [199.,  34., 177.,  ..., 124., 230., 101.],\n",
      "          [123.,  55., 128.,  ..., 109., 110., 208.],\n",
      "          ...,\n",
      "          [162., 197., 228.,  ..., 192.,  96., 255.],\n",
      "          [228., 124., 119.,  ..., 196.,  98., 182.],\n",
      "          [ 94., 172.,  91.,  ..., 152., 202., 128.]]],\n",
      "\n",
      "\n",
      "        ...,\n",
      "\n",
      "\n",
      "        [[[ 52.,  80., 122.,  ..., 107., 177., 120.],\n",
      "          [ 92., 122., 222.,  ...,  70.,  20.,  65.],\n",
      "          [ 78.,  60.,  87.,  ..., 134.,  90., 151.],\n",
      "          ...,\n",
      "          [ 89., 163.,  78.,  ..., 153., 114., 198.],\n",
      "          [ 24., 150., 109.,  ..., 175.,  52., 169.],\n",
      "          [198., 106., 154.,  ..., 159., 184.,  71.]]],\n",
      "\n",
      "\n",
      "        [[[147., 175., 123.,  ..., 144., 198., 148.],\n",
      "          [ 12., 143., 118.,  ...,  97.,  34., 177.],\n",
      "          [259.,  68., 175.,  ..., 115., 165., 126.],\n",
      "          ...,\n",
      "          [189., 207., 117.,  ..., 161.,   0.,  17.],\n",
      "          [170.,  45., 212.,  ...,  68., 134.,  10.],\n",
      "          [156., 211., 195.,  ...,  17.,  98.,  29.]]],\n",
      "\n",
      "\n",
      "        [[[127.,  80., 267.,  ..., 146.,  24., 155.],\n",
      "          [155., 163., 160.,  ..., 183., 184., 136.],\n",
      "          [137., 102., 188.,  ..., 168., 164., 224.],\n",
      "          ...,\n",
      "          [222., 113., 172.,  ..., 142., 143., 151.],\n",
      "          [152., 174.,  67.,  ..., 176.,  91., 160.],\n",
      "          [119., 120., 166.,  ..., 148., 229., 116.]]]], device='cuda:0',\n",
      "       grad_fn=<SumBackward1>)\n"
     ]
    }
   ],
   "source": [
    "for spike, image in testLoader:\n",
    "    spikes = spikes.to(device)\n",
    "    print(net(spikes).sum(dim=4))"
   ]
  },
  {
   "cell_type": "markdown",
   "metadata": {},
   "source": [
    "# Train it!"
   ]
  },
  {
   "cell_type": "code",
   "execution_count": 246,
   "metadata": {},
   "outputs": [
    {
     "data": {
      "application/vnd.jupyter.widget-view+json": {
       "model_id": "9228bcb5c7ad42fd9b2e531a16086f1e",
       "version_major": 2,
       "version_minor": 0
      },
      "text/plain": [
       "HBox(children=(FloatProgress(value=0.0, description='epochs', style=ProgressStyle(description_width='initial')…"
      ]
     },
     "metadata": {},
     "output_type": "display_data"
    },
    {
     "data": {
      "application/vnd.jupyter.widget-view+json": {
       "model_id": "5461d172353f4093bc5aba6b79c60396",
       "version_major": 2,
       "version_minor": 0
      },
      "text/plain": [
       "HBox(children=(FloatProgress(value=0.0, description='training loop', max=750.0, style=ProgressStyle(descriptio…"
      ]
     },
     "metadata": {},
     "output_type": "display_data"
    },
    {
     "name": "stdout",
     "output_type": "stream",
     "text": [
      "torch.Size([8, 1, 28, 28, 300])\n"
     ]
    },
    {
     "ename": "ValueError",
     "evalue": "operands could not be broadcast together with shapes (8,8,28,28,28) (8,1,28,28,300) ",
     "output_type": "error",
     "traceback": [
      "\u001b[0;31m---------------------------------------------------------------------------\u001b[0m",
      "\u001b[0;31mValueError\u001b[0m                                Traceback (most recent call last)",
      "\u001b[0;32m<ipython-input-246-ab36dc3a5abc>\u001b[0m in \u001b[0;36m<module>\u001b[0;34m\u001b[0m\n\u001b[1;32m     21\u001b[0m \u001b[0;34m\u001b[0m\u001b[0m\n\u001b[1;32m     22\u001b[0m             \u001b[0;31m# Calculate loss.\u001b[0m\u001b[0;34m\u001b[0m\u001b[0;34m\u001b[0m\u001b[0;34m\u001b[0m\u001b[0m\n\u001b[0;32m---> 23\u001b[0;31m             \u001b[0mloss\u001b[0m \u001b[0;34m=\u001b[0m \u001b[0merror\u001b[0m\u001b[0;34m.\u001b[0m\u001b[0mnumSpikes\u001b[0m\u001b[0;34m(\u001b[0m\u001b[0moutput\u001b[0m\u001b[0;34m,\u001b[0m \u001b[0mimage\u001b[0m\u001b[0;34m)\u001b[0m\u001b[0;34m\u001b[0m\u001b[0;34m\u001b[0m\u001b[0m\n\u001b[0m\u001b[1;32m     24\u001b[0m \u001b[0;34m\u001b[0m\u001b[0m\n\u001b[1;32m     25\u001b[0m             \u001b[0;31m# Reset gradients to zero.\u001b[0m\u001b[0;34m\u001b[0m\u001b[0;34m\u001b[0m\u001b[0;34m\u001b[0m\u001b[0m\n",
      "\u001b[0;32m~/anaconda3/envs/snn3/lib/python3.7/site-packages/slayerSNN-0.0.0-py3.7.egg/slayerSNN/spikeLoss.py\u001b[0m in \u001b[0;36mnumSpikes\u001b[0;34m(self, spikeOut, desiredClass, numSpikesScale)\u001b[0m\n\u001b[1;32m    100\u001b[0m         \u001b[0;31m# error = self.psp(spikeOut - spikeDesired)\u001b[0m\u001b[0;34m\u001b[0m\u001b[0;34m\u001b[0m\u001b[0;34m\u001b[0m\u001b[0m\n\u001b[1;32m    101\u001b[0m         \u001b[0merror\u001b[0m \u001b[0;34m=\u001b[0m \u001b[0mself\u001b[0m\u001b[0;34m.\u001b[0m\u001b[0mslayer\u001b[0m\u001b[0;34m.\u001b[0m\u001b[0mpsp\u001b[0m\u001b[0;34m(\u001b[0m\u001b[0mspikeOut\u001b[0m \u001b[0;34m-\u001b[0m \u001b[0mspikeDesired\u001b[0m\u001b[0;34m)\u001b[0m\u001b[0;34m\u001b[0m\u001b[0;34m\u001b[0m\u001b[0m\n\u001b[0;32m--> 102\u001b[0;31m         \u001b[0merror\u001b[0m \u001b[0;34m+=\u001b[0m \u001b[0mtorch\u001b[0m\u001b[0;34m.\u001b[0m\u001b[0mFloatTensor\u001b[0m\u001b[0;34m(\u001b[0m\u001b[0merrorSpikeCount\u001b[0m \u001b[0;34m*\u001b[0m \u001b[0mtargetRegion\u001b[0m\u001b[0;34m)\u001b[0m\u001b[0;34m.\u001b[0m\u001b[0mto\u001b[0m\u001b[0;34m(\u001b[0m\u001b[0mspikeOut\u001b[0m\u001b[0;34m.\u001b[0m\u001b[0mdevice\u001b[0m\u001b[0;34m)\u001b[0m\u001b[0;34m\u001b[0m\u001b[0;34m\u001b[0m\u001b[0m\n\u001b[0m\u001b[1;32m    103\u001b[0m \u001b[0;34m\u001b[0m\u001b[0m\n\u001b[1;32m    104\u001b[0m         \u001b[0;32mreturn\u001b[0m \u001b[0;36m1\u001b[0m\u001b[0;34m/\u001b[0m\u001b[0;36m2\u001b[0m \u001b[0;34m*\u001b[0m \u001b[0mtorch\u001b[0m\u001b[0;34m.\u001b[0m\u001b[0msum\u001b[0m\u001b[0;34m(\u001b[0m\u001b[0merror\u001b[0m\u001b[0;34m**\u001b[0m\u001b[0;36m2\u001b[0m\u001b[0;34m)\u001b[0m \u001b[0;34m*\u001b[0m \u001b[0mself\u001b[0m\u001b[0;34m.\u001b[0m\u001b[0msimulation\u001b[0m\u001b[0;34m[\u001b[0m\u001b[0;34m'Ts'\u001b[0m\u001b[0;34m]\u001b[0m\u001b[0;34m\u001b[0m\u001b[0;34m\u001b[0m\u001b[0m\n",
      "\u001b[0;31mValueError\u001b[0m: operands could not be broadcast together with shapes (8,8,28,28,28) (8,1,28,28,300) "
     ]
    }
   ],
   "source": [
    "# epoch loop.\n",
    "for epoch in tqdm.trange(100, desc='epochs'):\n",
    "        # Reset training stats.\n",
    "#         stats.training.reset()\n",
    "#         tSt = datetime.now()\n",
    "#         trainCorrectSamples = 0\n",
    "#         trainNumSamples = 0\n",
    "        trainLoss = 0\n",
    "        # Training loop.\n",
    "        for i, (spikes, image) in enumerate(tqdm.tqdm(trainLoader, desc='training loop', leave=False), 0):\n",
    "            # Move the input and target to correct GPU.\n",
    "            spikes = spikes.to(device)\n",
    "            image  = image.to(device)\n",
    "\n",
    "            # Forward pass of the network.\n",
    "            output = net.forward(spikes)\n",
    "\n",
    "            # Gather the training stats.\n",
    "#             trainCorrectSamples += torch.sum( snn.predict.getClass(output) == label ).data.item()\n",
    "#             trainNumSamples     += len(label)\n",
    "\n",
    "            # Calculate loss.\n",
    "            loss = error.numSpikes(output, image)\n",
    "\n",
    "            # Reset gradients to zero.\n",
    "            optimizer.zero_grad()\n",
    "\n",
    "            # Backward pass of the network.\n",
    "            loss.backward()\n",
    "\n",
    "            # Update weights.\n",
    "            optimizer.step()\n",
    "\n",
    "            # Gather training loss stats.\n",
    "            trainLoss += loss.cpu().data.item()\n",
    "\n",
    "            # Display training stats. (Suitable for normal python implementation)\n",
    "            # stats.print(epoch, i, (datetime.now() - tSt).total_seconds())\n",
    "\n",
    "\n",
    "\n",
    "            if i%100 == 0:\n",
    "                # Update training stats.\n",
    "#                 try: stats.training.update()\n",
    "#                 except TypeError: print('train acc should be 0', TypeError)\n",
    "                # Reset testing stats.\n",
    "#                 stats.testing.reset()\n",
    "\n",
    "                # Testing loop.\n",
    "                # Same steps as Training loops except loss backpropagation and weight update.\n",
    "                \n",
    "                for i, (spikes, image) in tqdm.tqdm(enumerate(testLoader, 0), desc='testing loop', leave=False):\n",
    "                    spikes = spikes.to(device)\n",
    "                    image  = image.to(device)\n",
    "\n",
    "                    output = net.forward(spikes)\n",
    "\n",
    "#                     testCorrectSamples += torch.sum( snn.predict.getClass(output) == label ).data.item()\n",
    "#                     testNumSamples     += len(label)\n",
    "\n",
    "                    loss = net.error.numSpikes(output, image)\n",
    "                    stats.testing.lossSum += loss.cpu().data.item()\n",
    "                    # stats.print(epoch, i)\n",
    "                \n",
    "                \n",
    "                # Update testing stats.\n",
    "#                 try: stats.testing.update()\n",
    "#                 except TypeError: print('test acc should be 0?', TypeError)\n",
    "#                 writer.add_scalar('Accuracy/train', stats.training.accuracy() or 0, epoch+i/60000)\n",
    "#                 writer.add_scalar('Accuracy/test',  stats.testing.accuracy() or 0,  epoch+i/60000)\n",
    "                \n",
    "                # display sample output in tensorboard\n",
    "                spikegrid = torchvision.utils.make_grid(output.sum(dim=4)) # grid of output spikes summed in time\n",
    "                mnistgrid = torchvision.utils.make_grid(image) # grid of all mnist images in a batch\n",
    "                writer.add_image('Total spikes', spikegrid)\n",
    "                writer.add_scalar('Loss/train',     trainLoss,     epoch+i/len(trainLoader))\n",
    "                writer.add_scalar('Loss/test',      testLoss,      epoch+i/len(trainLoader))\n",
    "\n",
    "                # Reset training stats.\n",
    "                stats.training.reset()\n",
    "writer.close()"
   ]
  },
  {
   "cell_type": "markdown",
   "metadata": {},
   "source": [
    "# create networks"
   ]
  },
  {
   "cell_type": "code",
   "execution_count": 118,
   "metadata": {},
   "outputs": [],
   "source": [
    "Network0 = SpikingNetwork()\n",
    "slayer = Network0.slayer\n",
    "Network0.setLayers([\n",
    "            slayer.conv(2, 10, 5, padding=1),\n",
    "            slayer.conv(10, 20, 3, padding=1),\n",
    "            slayer.conv(20, 10, 3, padding=1),\n",
    "            slayer.conv(10, 5, 3, padding=1),\n",
    "            slayer.conv(5, 1, 3, padding=1)\n",
    "        ])"
   ]
  },
  {
   "cell_type": "code",
   "execution_count": 45,
   "metadata": {},
   "outputs": [],
   "source": [
    "Network1 = SpikingNetwork()\n",
    "slayer = Network1.slayer\n",
    "Network1.setLayers([\n",
    "            slayer.conv(2, 6, 5, padding=1),\n",
    "            slayer.pool(2),\n",
    "            slayer.conv(6, 12, 3, padding=1),\n",
    "            slayer.pool(2),\n",
    "            slayer.conv(12, 12, 3, padding=1),\n",
    "            slayer.dense((8,8,12), 10)\n",
    "        ])"
   ]
  },
  {
   "cell_type": "code",
   "execution_count": 127,
   "metadata": {},
   "outputs": [
    {
     "ename": "TypeError",
     "evalue": "readyTraining() missing 2 required positional arguments: 'device' and 'deviceIds'",
     "output_type": "error",
     "traceback": [
      "\u001b[0;31m---------------------------------------------------------------------------\u001b[0m",
      "\u001b[0;31mTypeError\u001b[0m                                 Traceback (most recent call last)",
      "\u001b[0;32m<ipython-input-127-6eb70dc5b5ca>\u001b[0m in \u001b[0;36m<module>\u001b[0;34m\u001b[0m\n\u001b[0;32m----> 1\u001b[0;31m \u001b[0mNetwork0\u001b[0m\u001b[0;34m.\u001b[0m\u001b[0mreadyTraining\u001b[0m\u001b[0;34m(\u001b[0m\u001b[0;34m)\u001b[0m\u001b[0;34m\u001b[0m\u001b[0;34m\u001b[0m\u001b[0m\n\u001b[0m",
      "\u001b[0;31mTypeError\u001b[0m: readyTraining() missing 2 required positional arguments: 'device' and 'deviceIds'"
     ]
    }
   ],
   "source": [
    "Network0.readyTraining()"
   ]
  },
  {
   "cell_type": "code",
   "execution_count": 126,
   "metadata": {
    "scrolled": false
   },
   "outputs": [
    {
     "ename": "RuntimeError",
     "evalue": "input.type().is_cuda() INTERNAL ASSERT FAILED at src/cuda/slayerKernels.cu:43, please report a bug to PyTorch. input must be a CUDA tensor (convCuda at src/cuda/slayerKernels.cu:43)\nframe #0: c10::Error::Error(c10::SourceLocation, std::string const&) + 0x47 (0x7fc348981627 in /home/rrs/anaconda3/envs/snn3/lib/python3.7/site-packages/torch/lib/libc10.so)\nframe #1: convCuda(at::Tensor, at::Tensor, float) + 0x57b (0x7fc32e7ec4bb in /home/rrs/anaconda3/envs/snn3/lib/python3.7/site-packages/slayerCuda-0.0.0-py3.7-linux-x86_64.egg/slayerCuda.cpython-37m-x86_64-linux-gnu.so)\nframe #2: <unknown function> + 0x2ad9d (0x7fc32e806d9d in /home/rrs/anaconda3/envs/snn3/lib/python3.7/site-packages/slayerCuda-0.0.0-py3.7-linux-x86_64.egg/slayerCuda.cpython-37m-x86_64-linux-gnu.so)\nframe #3: <unknown function> + 0x26965 (0x7fc32e802965 in /home/rrs/anaconda3/envs/snn3/lib/python3.7/site-packages/slayerCuda-0.0.0-py3.7-linux-x86_64.egg/slayerCuda.cpython-37m-x86_64-linux-gnu.so)\nframe #4: _PyMethodDef_RawFastCallKeywords + 0x274 (0x5588884a7914 in /home/rrs/anaconda3/envs/snn3/bin/python)\nframe #5: _PyCFunction_FastCallKeywords + 0x21 (0x5588884a7a31 in /home/rrs/anaconda3/envs/snn3/bin/python)\nframe #6: _PyEval_EvalFrameDefault + 0x4e1d (0x558888513ebd in /home/rrs/anaconda3/envs/snn3/bin/python)\nframe #7: _PyFunction_FastCallDict + 0x10b (0x55888845785b in /home/rrs/anaconda3/envs/snn3/bin/python)\nframe #8: THPFunction_apply(_object*, _object*) + 0xa0f (0x7fc3800b9a3f in /home/rrs/anaconda3/envs/snn3/lib/python3.7/site-packages/torch/lib/libtorch_python.so)\nframe #9: _PyMethodDef_RawFastCallKeywords + 0x1e4 (0x5588884a7884 in /home/rrs/anaconda3/envs/snn3/bin/python)\nframe #10: _PyCFunction_FastCallKeywords + 0x21 (0x5588884a7a31 in /home/rrs/anaconda3/envs/snn3/bin/python)\nframe #11: _PyEval_EvalFrameDefault + 0x4e1d (0x558888513ebd in /home/rrs/anaconda3/envs/snn3/bin/python)\nframe #12: _PyFunction_FastCallKeywords + 0xfb (0x5588884a6e7b in /home/rrs/anaconda3/envs/snn3/bin/python)\nframe #13: _PyEval_EvalFrameDefault + 0x4a89 (0x558888513b29 in /home/rrs/anaconda3/envs/snn3/bin/python)\nframe #14: _PyFunction_FastCallDict + 0x10b (0x55888845785b in /home/rrs/anaconda3/envs/snn3/bin/python)\nframe #15: _PyObject_Call_Prepend + 0x63 (0x5588884764d3 in /home/rrs/anaconda3/envs/snn3/bin/python)\nframe #16: PyObject_Call + 0x6e (0x558888468ffe in /home/rrs/anaconda3/envs/snn3/bin/python)\nframe #17: _PyEval_EvalFrameDefault + 0x1e4a (0x558888510eea in /home/rrs/anaconda3/envs/snn3/bin/python)\nframe #18: _PyEval_EvalCodeWithName + 0x2f9 (0x558888456829 in /home/rrs/anaconda3/envs/snn3/bin/python)\nframe #19: _PyFunction_FastCallDict + 0x1d5 (0x558888457925 in /home/rrs/anaconda3/envs/snn3/bin/python)\nframe #20: _PyObject_Call_Prepend + 0x63 (0x5588884764d3 in /home/rrs/anaconda3/envs/snn3/bin/python)\nframe #21: <unknown function> + 0x16be1a (0x5588884ade1a in /home/rrs/anaconda3/envs/snn3/bin/python)\nframe #22: _PyObject_FastCallKeywords + 0x48b (0x5588884aeccb in /home/rrs/anaconda3/envs/snn3/bin/python)\nframe #23: _PyEval_EvalFrameDefault + 0x49e6 (0x558888513a86 in /home/rrs/anaconda3/envs/snn3/bin/python)\nframe #24: _PyFunction_FastCallDict + 0x10b (0x55888845785b in /home/rrs/anaconda3/envs/snn3/bin/python)\nframe #25: _PyObject_Call_Prepend + 0x63 (0x5588884764d3 in /home/rrs/anaconda3/envs/snn3/bin/python)\nframe #26: PyObject_Call + 0x6e (0x558888468ffe in /home/rrs/anaconda3/envs/snn3/bin/python)\nframe #27: _PyEval_EvalFrameDefault + 0x1e4a (0x558888510eea in /home/rrs/anaconda3/envs/snn3/bin/python)\nframe #28: _PyEval_EvalCodeWithName + 0x2f9 (0x558888456829 in /home/rrs/anaconda3/envs/snn3/bin/python)\nframe #29: _PyFunction_FastCallDict + 0x1d5 (0x558888457925 in /home/rrs/anaconda3/envs/snn3/bin/python)\nframe #30: _PyObject_Call_Prepend + 0x63 (0x5588884764d3 in /home/rrs/anaconda3/envs/snn3/bin/python)\nframe #31: <unknown function> + 0x16be1a (0x5588884ade1a in /home/rrs/anaconda3/envs/snn3/bin/python)\nframe #32: _PyObject_FastCallKeywords + 0x48b (0x5588884aeccb in /home/rrs/anaconda3/envs/snn3/bin/python)\nframe #33: _PyEval_EvalFrameDefault + 0x52fe (0x55888851439e in /home/rrs/anaconda3/envs/snn3/bin/python)\nframe #34: _PyFunction_FastCallDict + 0x10b (0x55888845785b in /home/rrs/anaconda3/envs/snn3/bin/python)\nframe #35: _PyObject_Call_Prepend + 0x63 (0x5588884764d3 in /home/rrs/anaconda3/envs/snn3/bin/python)\nframe #36: PyObject_Call + 0x6e (0x558888468ffe in /home/rrs/anaconda3/envs/snn3/bin/python)\nframe #37: _PyEval_EvalFrameDefault + 0x1e4a (0x558888510eea in /home/rrs/anaconda3/envs/snn3/bin/python)\nframe #38: _PyEval_EvalCodeWithName + 0x2f9 (0x558888456829 in /home/rrs/anaconda3/envs/snn3/bin/python)\nframe #39: _PyFunction_FastCallDict + 0x1d5 (0x558888457925 in /home/rrs/anaconda3/envs/snn3/bin/python)\nframe #40: _PyObject_Call_Prepend + 0x63 (0x5588884764d3 in /home/rrs/anaconda3/envs/snn3/bin/python)\nframe #41: <unknown function> + 0x16be1a (0x5588884ade1a in /home/rrs/anaconda3/envs/snn3/bin/python)\nframe #42: _PyObject_FastCallKeywords + 0x48b (0x5588884aeccb in /home/rrs/anaconda3/envs/snn3/bin/python)\nframe #43: _PyEval_EvalFrameDefault + 0x49e6 (0x558888513a86 in /home/rrs/anaconda3/envs/snn3/bin/python)\nframe #44: _PyEval_EvalCodeWithName + 0x2f9 (0x558888456829 in /home/rrs/anaconda3/envs/snn3/bin/python)\nframe #45: PyEval_EvalCodeEx + 0x44 (0x558888457714 in /home/rrs/anaconda3/envs/snn3/bin/python)\nframe #46: PyEval_EvalCode + 0x1c (0x55888845773c in /home/rrs/anaconda3/envs/snn3/bin/python)\nframe #47: <unknown function> + 0x1dcf1d (0x55888851ef1d in /home/rrs/anaconda3/envs/snn3/bin/python)\nframe #48: _PyMethodDef_RawFastCallKeywords + 0xe9 (0x5588884a7789 in /home/rrs/anaconda3/envs/snn3/bin/python)\nframe #49: _PyCFunction_FastCallKeywords + 0x21 (0x5588884a7a31 in /home/rrs/anaconda3/envs/snn3/bin/python)\nframe #50: _PyEval_EvalFrameDefault + 0x46f5 (0x558888513795 in /home/rrs/anaconda3/envs/snn3/bin/python)\nframe #51: _PyGen_Send + 0x2a2 (0x5588884af982 in /home/rrs/anaconda3/envs/snn3/bin/python)\nframe #52: _PyEval_EvalFrameDefault + 0x1a84 (0x558888510b24 in /home/rrs/anaconda3/envs/snn3/bin/python)\nframe #53: _PyGen_Send + 0x2a2 (0x5588884af982 in /home/rrs/anaconda3/envs/snn3/bin/python)\nframe #54: _PyEval_EvalFrameDefault + 0x1a84 (0x558888510b24 in /home/rrs/anaconda3/envs/snn3/bin/python)\nframe #55: _PyGen_Send + 0x2a2 (0x5588884af982 in /home/rrs/anaconda3/envs/snn3/bin/python)\nframe #56: _PyMethodDef_RawFastCallKeywords + 0x8d (0x5588884a772d in /home/rrs/anaconda3/envs/snn3/bin/python)\nframe #57: _PyMethodDescr_FastCallKeywords + 0x4f (0x5588884ae7af in /home/rrs/anaconda3/envs/snn3/bin/python)\nframe #58: _PyEval_EvalFrameDefault + 0x4bdc (0x558888513c7c in /home/rrs/anaconda3/envs/snn3/bin/python)\nframe #59: _PyFunction_FastCallKeywords + 0xfb (0x5588884a6e7b in /home/rrs/anaconda3/envs/snn3/bin/python)\nframe #60: _PyEval_EvalFrameDefault + 0x416 (0x55888850f4b6 in /home/rrs/anaconda3/envs/snn3/bin/python)\nframe #61: _PyFunction_FastCallKeywords + 0xfb (0x5588884a6e7b in /home/rrs/anaconda3/envs/snn3/bin/python)\nframe #62: _PyEval_EvalFrameDefault + 0x6a0 (0x55888850f740 in /home/rrs/anaconda3/envs/snn3/bin/python)\nframe #63: _PyEval_EvalCodeWithName + 0x2f9 (0x558888456829 in /home/rrs/anaconda3/envs/snn3/bin/python)\n",
     "output_type": "error",
     "traceback": [
      "\u001b[0;31m---------------------------------------------------------------------------\u001b[0m",
      "\u001b[0;31mRuntimeError\u001b[0m                              Traceback (most recent call last)",
      "\u001b[0;32m<ipython-input-126-3121a1dd34a7>\u001b[0m in \u001b[0;36m<module>\u001b[0;34m\u001b[0m\n\u001b[0;32m----> 1\u001b[0;31m \u001b[0mNetwork0\u001b[0m\u001b[0;34m(\u001b[0m\u001b[0mtrainNMNIST\u001b[0m\u001b[0;34m[\u001b[0m\u001b[0;36m0\u001b[0m\u001b[0;34m]\u001b[0m\u001b[0;34m[\u001b[0m\u001b[0;36m0\u001b[0m\u001b[0;34m]\u001b[0m\u001b[0;34m)\u001b[0m\u001b[0;34m\u001b[0m\u001b[0;34m\u001b[0m\u001b[0m\n\u001b[0m",
      "\u001b[0;32m~/anaconda3/envs/snn3/lib/python3.7/site-packages/torch/nn/modules/module.py\u001b[0m in \u001b[0;36m__call__\u001b[0;34m(self, *input, **kwargs)\u001b[0m\n\u001b[1;32m    530\u001b[0m             \u001b[0mresult\u001b[0m \u001b[0;34m=\u001b[0m \u001b[0mself\u001b[0m\u001b[0;34m.\u001b[0m\u001b[0m_slow_forward\u001b[0m\u001b[0;34m(\u001b[0m\u001b[0;34m*\u001b[0m\u001b[0minput\u001b[0m\u001b[0;34m,\u001b[0m \u001b[0;34m**\u001b[0m\u001b[0mkwargs\u001b[0m\u001b[0;34m)\u001b[0m\u001b[0;34m\u001b[0m\u001b[0;34m\u001b[0m\u001b[0m\n\u001b[1;32m    531\u001b[0m         \u001b[0;32melse\u001b[0m\u001b[0;34m:\u001b[0m\u001b[0;34m\u001b[0m\u001b[0;34m\u001b[0m\u001b[0m\n\u001b[0;32m--> 532\u001b[0;31m             \u001b[0mresult\u001b[0m \u001b[0;34m=\u001b[0m \u001b[0mself\u001b[0m\u001b[0;34m.\u001b[0m\u001b[0mforward\u001b[0m\u001b[0;34m(\u001b[0m\u001b[0;34m*\u001b[0m\u001b[0minput\u001b[0m\u001b[0;34m,\u001b[0m \u001b[0;34m**\u001b[0m\u001b[0mkwargs\u001b[0m\u001b[0;34m)\u001b[0m\u001b[0;34m\u001b[0m\u001b[0;34m\u001b[0m\u001b[0m\n\u001b[0m\u001b[1;32m    533\u001b[0m         \u001b[0;32mfor\u001b[0m \u001b[0mhook\u001b[0m \u001b[0;32min\u001b[0m \u001b[0mself\u001b[0m\u001b[0;34m.\u001b[0m\u001b[0m_forward_hooks\u001b[0m\u001b[0;34m.\u001b[0m\u001b[0mvalues\u001b[0m\u001b[0;34m(\u001b[0m\u001b[0;34m)\u001b[0m\u001b[0;34m:\u001b[0m\u001b[0;34m\u001b[0m\u001b[0;34m\u001b[0m\u001b[0m\n\u001b[1;32m    534\u001b[0m             \u001b[0mhook_result\u001b[0m \u001b[0;34m=\u001b[0m \u001b[0mhook\u001b[0m\u001b[0;34m(\u001b[0m\u001b[0mself\u001b[0m\u001b[0;34m,\u001b[0m \u001b[0minput\u001b[0m\u001b[0;34m,\u001b[0m \u001b[0mresult\u001b[0m\u001b[0;34m)\u001b[0m\u001b[0;34m\u001b[0m\u001b[0;34m\u001b[0m\u001b[0m\n",
      "\u001b[0;32m<ipython-input-116-1ad6a202dade>\u001b[0m in \u001b[0;36mforward\u001b[0;34m(self, spikeInput)\u001b[0m\n\u001b[1;32m     13\u001b[0m \u001b[0;31m#             x = self.slayer.spike(layer(self.slayer.psp(x)))\u001b[0m\u001b[0;34m\u001b[0m\u001b[0;34m\u001b[0m\u001b[0;34m\u001b[0m\u001b[0m\n\u001b[1;32m     14\u001b[0m \u001b[0;31m#         return x\u001b[0m\u001b[0;34m\u001b[0m\u001b[0;34m\u001b[0m\u001b[0;34m\u001b[0m\u001b[0m\n\u001b[0;32m---> 15\u001b[0;31m         \u001b[0;32mreturn\u001b[0m \u001b[0mself\u001b[0m\u001b[0;34m.\u001b[0m\u001b[0mlayers\u001b[0m\u001b[0;34m(\u001b[0m\u001b[0mspikeInput\u001b[0m\u001b[0;34m)\u001b[0m\u001b[0;34m\u001b[0m\u001b[0;34m\u001b[0m\u001b[0m\n\u001b[0m\u001b[1;32m     16\u001b[0m \u001b[0;34m\u001b[0m\u001b[0m\n\u001b[1;32m     17\u001b[0m     \u001b[0;32mdef\u001b[0m \u001b[0msetLayers\u001b[0m\u001b[0;34m(\u001b[0m\u001b[0mself\u001b[0m\u001b[0;34m,\u001b[0m \u001b[0mlayers\u001b[0m\u001b[0;34m)\u001b[0m\u001b[0;34m:\u001b[0m\u001b[0;34m\u001b[0m\u001b[0;34m\u001b[0m\u001b[0m\n",
      "\u001b[0;32m~/anaconda3/envs/snn3/lib/python3.7/site-packages/torch/nn/modules/module.py\u001b[0m in \u001b[0;36m__call__\u001b[0;34m(self, *input, **kwargs)\u001b[0m\n\u001b[1;32m    530\u001b[0m             \u001b[0mresult\u001b[0m \u001b[0;34m=\u001b[0m \u001b[0mself\u001b[0m\u001b[0;34m.\u001b[0m\u001b[0m_slow_forward\u001b[0m\u001b[0;34m(\u001b[0m\u001b[0;34m*\u001b[0m\u001b[0minput\u001b[0m\u001b[0;34m,\u001b[0m \u001b[0;34m**\u001b[0m\u001b[0mkwargs\u001b[0m\u001b[0;34m)\u001b[0m\u001b[0;34m\u001b[0m\u001b[0;34m\u001b[0m\u001b[0m\n\u001b[1;32m    531\u001b[0m         \u001b[0;32melse\u001b[0m\u001b[0;34m:\u001b[0m\u001b[0;34m\u001b[0m\u001b[0;34m\u001b[0m\u001b[0m\n\u001b[0;32m--> 532\u001b[0;31m             \u001b[0mresult\u001b[0m \u001b[0;34m=\u001b[0m \u001b[0mself\u001b[0m\u001b[0;34m.\u001b[0m\u001b[0mforward\u001b[0m\u001b[0;34m(\u001b[0m\u001b[0;34m*\u001b[0m\u001b[0minput\u001b[0m\u001b[0;34m,\u001b[0m \u001b[0;34m**\u001b[0m\u001b[0mkwargs\u001b[0m\u001b[0;34m)\u001b[0m\u001b[0;34m\u001b[0m\u001b[0;34m\u001b[0m\u001b[0m\n\u001b[0m\u001b[1;32m    533\u001b[0m         \u001b[0;32mfor\u001b[0m \u001b[0mhook\u001b[0m \u001b[0;32min\u001b[0m \u001b[0mself\u001b[0m\u001b[0;34m.\u001b[0m\u001b[0m_forward_hooks\u001b[0m\u001b[0;34m.\u001b[0m\u001b[0mvalues\u001b[0m\u001b[0;34m(\u001b[0m\u001b[0;34m)\u001b[0m\u001b[0;34m:\u001b[0m\u001b[0;34m\u001b[0m\u001b[0;34m\u001b[0m\u001b[0m\n\u001b[1;32m    534\u001b[0m             \u001b[0mhook_result\u001b[0m \u001b[0;34m=\u001b[0m \u001b[0mhook\u001b[0m\u001b[0;34m(\u001b[0m\u001b[0mself\u001b[0m\u001b[0;34m,\u001b[0m \u001b[0minput\u001b[0m\u001b[0;34m,\u001b[0m \u001b[0mresult\u001b[0m\u001b[0;34m)\u001b[0m\u001b[0;34m\u001b[0m\u001b[0;34m\u001b[0m\u001b[0m\n",
      "\u001b[0;32m~/anaconda3/envs/snn3/lib/python3.7/site-packages/torch/nn/modules/container.py\u001b[0m in \u001b[0;36mforward\u001b[0;34m(self, input)\u001b[0m\n\u001b[1;32m     98\u001b[0m     \u001b[0;32mdef\u001b[0m \u001b[0mforward\u001b[0m\u001b[0;34m(\u001b[0m\u001b[0mself\u001b[0m\u001b[0;34m,\u001b[0m \u001b[0minput\u001b[0m\u001b[0;34m)\u001b[0m\u001b[0;34m:\u001b[0m\u001b[0;34m\u001b[0m\u001b[0;34m\u001b[0m\u001b[0m\n\u001b[1;32m     99\u001b[0m         \u001b[0;32mfor\u001b[0m \u001b[0mmodule\u001b[0m \u001b[0;32min\u001b[0m \u001b[0mself\u001b[0m\u001b[0;34m:\u001b[0m\u001b[0;34m\u001b[0m\u001b[0;34m\u001b[0m\u001b[0m\n\u001b[0;32m--> 100\u001b[0;31m             \u001b[0minput\u001b[0m \u001b[0;34m=\u001b[0m \u001b[0mmodule\u001b[0m\u001b[0;34m(\u001b[0m\u001b[0minput\u001b[0m\u001b[0;34m)\u001b[0m\u001b[0;34m\u001b[0m\u001b[0;34m\u001b[0m\u001b[0m\n\u001b[0m\u001b[1;32m    101\u001b[0m         \u001b[0;32mreturn\u001b[0m \u001b[0minput\u001b[0m\u001b[0;34m\u001b[0m\u001b[0;34m\u001b[0m\u001b[0m\n\u001b[1;32m    102\u001b[0m \u001b[0;34m\u001b[0m\u001b[0m\n",
      "\u001b[0;32m~/anaconda3/envs/snn3/lib/python3.7/site-packages/torch/nn/modules/module.py\u001b[0m in \u001b[0;36m__call__\u001b[0;34m(self, *input, **kwargs)\u001b[0m\n\u001b[1;32m    530\u001b[0m             \u001b[0mresult\u001b[0m \u001b[0;34m=\u001b[0m \u001b[0mself\u001b[0m\u001b[0;34m.\u001b[0m\u001b[0m_slow_forward\u001b[0m\u001b[0;34m(\u001b[0m\u001b[0;34m*\u001b[0m\u001b[0minput\u001b[0m\u001b[0;34m,\u001b[0m \u001b[0;34m**\u001b[0m\u001b[0mkwargs\u001b[0m\u001b[0;34m)\u001b[0m\u001b[0;34m\u001b[0m\u001b[0;34m\u001b[0m\u001b[0m\n\u001b[1;32m    531\u001b[0m         \u001b[0;32melse\u001b[0m\u001b[0;34m:\u001b[0m\u001b[0;34m\u001b[0m\u001b[0;34m\u001b[0m\u001b[0m\n\u001b[0;32m--> 532\u001b[0;31m             \u001b[0mresult\u001b[0m \u001b[0;34m=\u001b[0m \u001b[0mself\u001b[0m\u001b[0;34m.\u001b[0m\u001b[0mforward\u001b[0m\u001b[0;34m(\u001b[0m\u001b[0;34m*\u001b[0m\u001b[0minput\u001b[0m\u001b[0;34m,\u001b[0m \u001b[0;34m**\u001b[0m\u001b[0mkwargs\u001b[0m\u001b[0;34m)\u001b[0m\u001b[0;34m\u001b[0m\u001b[0;34m\u001b[0m\u001b[0m\n\u001b[0m\u001b[1;32m    533\u001b[0m         \u001b[0;32mfor\u001b[0m \u001b[0mhook\u001b[0m \u001b[0;32min\u001b[0m \u001b[0mself\u001b[0m\u001b[0;34m.\u001b[0m\u001b[0m_forward_hooks\u001b[0m\u001b[0;34m.\u001b[0m\u001b[0mvalues\u001b[0m\u001b[0;34m(\u001b[0m\u001b[0;34m)\u001b[0m\u001b[0;34m:\u001b[0m\u001b[0;34m\u001b[0m\u001b[0;34m\u001b[0m\u001b[0m\n\u001b[1;32m    534\u001b[0m             \u001b[0mhook_result\u001b[0m \u001b[0;34m=\u001b[0m \u001b[0mhook\u001b[0m\u001b[0;34m(\u001b[0m\u001b[0mself\u001b[0m\u001b[0;34m,\u001b[0m \u001b[0minput\u001b[0m\u001b[0;34m,\u001b[0m \u001b[0mresult\u001b[0m\u001b[0;34m)\u001b[0m\u001b[0;34m\u001b[0m\u001b[0;34m\u001b[0m\u001b[0m\n",
      "\u001b[0;32m<ipython-input-103-e104fc323493>\u001b[0m in \u001b[0;36mforward\u001b[0;34m(self, x)\u001b[0m\n\u001b[1;32m      4\u001b[0m         \u001b[0mself\u001b[0m\u001b[0;34m.\u001b[0m\u001b[0mslayer\u001b[0m \u001b[0;34m=\u001b[0m \u001b[0msnn\u001b[0m\u001b[0;34m.\u001b[0m\u001b[0mlayer\u001b[0m\u001b[0;34m(\u001b[0m\u001b[0mnetParams\u001b[0m\u001b[0;34m[\u001b[0m\u001b[0;34m'neuron'\u001b[0m\u001b[0;34m]\u001b[0m\u001b[0;34m,\u001b[0m \u001b[0mnetParams\u001b[0m\u001b[0;34m[\u001b[0m\u001b[0;34m'simulation'\u001b[0m\u001b[0;34m]\u001b[0m\u001b[0;34m)\u001b[0m\u001b[0;34m\u001b[0m\u001b[0;34m\u001b[0m\u001b[0m\n\u001b[1;32m      5\u001b[0m     \u001b[0;32mdef\u001b[0m \u001b[0mforward\u001b[0m\u001b[0;34m(\u001b[0m\u001b[0mself\u001b[0m\u001b[0;34m,\u001b[0m \u001b[0mx\u001b[0m\u001b[0;34m)\u001b[0m\u001b[0;34m:\u001b[0m\u001b[0;34m\u001b[0m\u001b[0;34m\u001b[0m\u001b[0m\n\u001b[0;32m----> 6\u001b[0;31m         \u001b[0;32mreturn\u001b[0m \u001b[0mself\u001b[0m\u001b[0;34m.\u001b[0m\u001b[0mslayer\u001b[0m\u001b[0;34m.\u001b[0m\u001b[0mpsp\u001b[0m\u001b[0;34m(\u001b[0m\u001b[0mx\u001b[0m\u001b[0;34m)\u001b[0m\u001b[0;34m\u001b[0m\u001b[0;34m\u001b[0m\u001b[0m\n\u001b[0m",
      "\u001b[0;32m~/anaconda3/envs/snn3/lib/python3.7/site-packages/slayerSNN-0.0.0-py3.7.egg/slayerSNN/slayer.py\u001b[0m in \u001b[0;36mpsp\u001b[0;34m(self, spike)\u001b[0m\n\u001b[1;32m    140\u001b[0m         \u001b[0;34m>>\u001b[0m\u001b[0;34m>\u001b[0m \u001b[0mfilteredSpike\u001b[0m \u001b[0;34m=\u001b[0m \u001b[0msnnLayer\u001b[0m\u001b[0;34m.\u001b[0m\u001b[0mpsp\u001b[0m\u001b[0;34m(\u001b[0m\u001b[0mspike\u001b[0m\u001b[0;34m)\u001b[0m\u001b[0;34m\u001b[0m\u001b[0;34m\u001b[0m\u001b[0m\n\u001b[1;32m    141\u001b[0m         '''\n\u001b[0;32m--> 142\u001b[0;31m         \u001b[0;32mreturn\u001b[0m \u001b[0m_pspFunction\u001b[0m\u001b[0;34m.\u001b[0m\u001b[0mapply\u001b[0m\u001b[0;34m(\u001b[0m\u001b[0mspike\u001b[0m\u001b[0;34m,\u001b[0m \u001b[0mself\u001b[0m\u001b[0;34m.\u001b[0m\u001b[0msrmKernel\u001b[0m\u001b[0;34m,\u001b[0m \u001b[0mself\u001b[0m\u001b[0;34m.\u001b[0m\u001b[0msimulation\u001b[0m\u001b[0;34m[\u001b[0m\u001b[0;34m'Ts'\u001b[0m\u001b[0;34m]\u001b[0m\u001b[0;34m)\u001b[0m\u001b[0;34m\u001b[0m\u001b[0;34m\u001b[0m\u001b[0m\n\u001b[0m\u001b[1;32m    143\u001b[0m \u001b[0;34m\u001b[0m\u001b[0m\n\u001b[1;32m    144\u001b[0m     \u001b[0;32mdef\u001b[0m \u001b[0mpspLayer\u001b[0m\u001b[0;34m(\u001b[0m\u001b[0mself\u001b[0m\u001b[0;34m)\u001b[0m\u001b[0;34m:\u001b[0m\u001b[0;34m\u001b[0m\u001b[0;34m\u001b[0m\u001b[0m\n",
      "\u001b[0;32m~/anaconda3/envs/snn3/lib/python3.7/site-packages/slayerSNN-0.0.0-py3.7.egg/slayerSNN/slayer.py\u001b[0m in \u001b[0;36mforward\u001b[0;34m(ctx, spike, filter, Ts)\u001b[0m\n\u001b[1;32m    880\u001b[0m         \u001b[0mdevice\u001b[0m \u001b[0;34m=\u001b[0m \u001b[0mspike\u001b[0m\u001b[0;34m.\u001b[0m\u001b[0mdevice\u001b[0m\u001b[0;34m\u001b[0m\u001b[0;34m\u001b[0m\u001b[0m\n\u001b[1;32m    881\u001b[0m         \u001b[0mdtype\u001b[0m  \u001b[0;34m=\u001b[0m \u001b[0mspike\u001b[0m\u001b[0;34m.\u001b[0m\u001b[0mdtype\u001b[0m\u001b[0;34m\u001b[0m\u001b[0;34m\u001b[0m\u001b[0m\n\u001b[0;32m--> 882\u001b[0;31m         \u001b[0mpsp\u001b[0m \u001b[0;34m=\u001b[0m \u001b[0mslayerCuda\u001b[0m\u001b[0;34m.\u001b[0m\u001b[0mconv\u001b[0m\u001b[0;34m(\u001b[0m\u001b[0mspike\u001b[0m\u001b[0;34m.\u001b[0m\u001b[0mcontiguous\u001b[0m\u001b[0;34m(\u001b[0m\u001b[0;34m)\u001b[0m\u001b[0;34m,\u001b[0m \u001b[0mfilter\u001b[0m\u001b[0;34m,\u001b[0m \u001b[0mTs\u001b[0m\u001b[0;34m)\u001b[0m\u001b[0;34m\u001b[0m\u001b[0;34m\u001b[0m\u001b[0m\n\u001b[0m\u001b[1;32m    883\u001b[0m         \u001b[0mTs\u001b[0m \u001b[0;34m=\u001b[0m \u001b[0mtorch\u001b[0m\u001b[0;34m.\u001b[0m\u001b[0mautograd\u001b[0m\u001b[0;34m.\u001b[0m\u001b[0mVariable\u001b[0m\u001b[0;34m(\u001b[0m\u001b[0mtorch\u001b[0m\u001b[0;34m.\u001b[0m\u001b[0mtensor\u001b[0m\u001b[0;34m(\u001b[0m\u001b[0mTs\u001b[0m\u001b[0;34m,\u001b[0m \u001b[0mdevice\u001b[0m\u001b[0;34m=\u001b[0m\u001b[0mdevice\u001b[0m\u001b[0;34m,\u001b[0m \u001b[0mdtype\u001b[0m\u001b[0;34m=\u001b[0m\u001b[0mdtype\u001b[0m\u001b[0;34m)\u001b[0m\u001b[0;34m,\u001b[0m \u001b[0mrequires_grad\u001b[0m\u001b[0;34m=\u001b[0m\u001b[0;32mFalse\u001b[0m\u001b[0;34m)\u001b[0m\u001b[0;34m\u001b[0m\u001b[0;34m\u001b[0m\u001b[0m\n\u001b[1;32m    884\u001b[0m         \u001b[0mctx\u001b[0m\u001b[0;34m.\u001b[0m\u001b[0msave_for_backward\u001b[0m\u001b[0;34m(\u001b[0m\u001b[0mfilter\u001b[0m\u001b[0;34m,\u001b[0m \u001b[0mTs\u001b[0m\u001b[0;34m)\u001b[0m\u001b[0;34m\u001b[0m\u001b[0;34m\u001b[0m\u001b[0m\n",
      "\u001b[0;31mRuntimeError\u001b[0m: input.type().is_cuda() INTERNAL ASSERT FAILED at src/cuda/slayerKernels.cu:43, please report a bug to PyTorch. input must be a CUDA tensor (convCuda at src/cuda/slayerKernels.cu:43)\nframe #0: c10::Error::Error(c10::SourceLocation, std::string const&) + 0x47 (0x7fc348981627 in /home/rrs/anaconda3/envs/snn3/lib/python3.7/site-packages/torch/lib/libc10.so)\nframe #1: convCuda(at::Tensor, at::Tensor, float) + 0x57b (0x7fc32e7ec4bb in /home/rrs/anaconda3/envs/snn3/lib/python3.7/site-packages/slayerCuda-0.0.0-py3.7-linux-x86_64.egg/slayerCuda.cpython-37m-x86_64-linux-gnu.so)\nframe #2: <unknown function> + 0x2ad9d (0x7fc32e806d9d in /home/rrs/anaconda3/envs/snn3/lib/python3.7/site-packages/slayerCuda-0.0.0-py3.7-linux-x86_64.egg/slayerCuda.cpython-37m-x86_64-linux-gnu.so)\nframe #3: <unknown function> + 0x26965 (0x7fc32e802965 in /home/rrs/anaconda3/envs/snn3/lib/python3.7/site-packages/slayerCuda-0.0.0-py3.7-linux-x86_64.egg/slayerCuda.cpython-37m-x86_64-linux-gnu.so)\nframe #4: _PyMethodDef_RawFastCallKeywords + 0x274 (0x5588884a7914 in /home/rrs/anaconda3/envs/snn3/bin/python)\nframe #5: _PyCFunction_FastCallKeywords + 0x21 (0x5588884a7a31 in /home/rrs/anaconda3/envs/snn3/bin/python)\nframe #6: _PyEval_EvalFrameDefault + 0x4e1d (0x558888513ebd in /home/rrs/anaconda3/envs/snn3/bin/python)\nframe #7: _PyFunction_FastCallDict + 0x10b (0x55888845785b in /home/rrs/anaconda3/envs/snn3/bin/python)\nframe #8: THPFunction_apply(_object*, _object*) + 0xa0f (0x7fc3800b9a3f in /home/rrs/anaconda3/envs/snn3/lib/python3.7/site-packages/torch/lib/libtorch_python.so)\nframe #9: _PyMethodDef_RawFastCallKeywords + 0x1e4 (0x5588884a7884 in /home/rrs/anaconda3/envs/snn3/bin/python)\nframe #10: _PyCFunction_FastCallKeywords + 0x21 (0x5588884a7a31 in /home/rrs/anaconda3/envs/snn3/bin/python)\nframe #11: _PyEval_EvalFrameDefault + 0x4e1d (0x558888513ebd in /home/rrs/anaconda3/envs/snn3/bin/python)\nframe #12: _PyFunction_FastCallKeywords + 0xfb (0x5588884a6e7b in /home/rrs/anaconda3/envs/snn3/bin/python)\nframe #13: _PyEval_EvalFrameDefault + 0x4a89 (0x558888513b29 in /home/rrs/anaconda3/envs/snn3/bin/python)\nframe #14: _PyFunction_FastCallDict + 0x10b (0x55888845785b in /home/rrs/anaconda3/envs/snn3/bin/python)\nframe #15: _PyObject_Call_Prepend + 0x63 (0x5588884764d3 in /home/rrs/anaconda3/envs/snn3/bin/python)\nframe #16: PyObject_Call + 0x6e (0x558888468ffe in /home/rrs/anaconda3/envs/snn3/bin/python)\nframe #17: _PyEval_EvalFrameDefault + 0x1e4a (0x558888510eea in /home/rrs/anaconda3/envs/snn3/bin/python)\nframe #18: _PyEval_EvalCodeWithName + 0x2f9 (0x558888456829 in /home/rrs/anaconda3/envs/snn3/bin/python)\nframe #19: _PyFunction_FastCallDict + 0x1d5 (0x558888457925 in /home/rrs/anaconda3/envs/snn3/bin/python)\nframe #20: _PyObject_Call_Prepend + 0x63 (0x5588884764d3 in /home/rrs/anaconda3/envs/snn3/bin/python)\nframe #21: <unknown function> + 0x16be1a (0x5588884ade1a in /home/rrs/anaconda3/envs/snn3/bin/python)\nframe #22: _PyObject_FastCallKeywords + 0x48b (0x5588884aeccb in /home/rrs/anaconda3/envs/snn3/bin/python)\nframe #23: _PyEval_EvalFrameDefault + 0x49e6 (0x558888513a86 in /home/rrs/anaconda3/envs/snn3/bin/python)\nframe #24: _PyFunction_FastCallDict + 0x10b (0x55888845785b in /home/rrs/anaconda3/envs/snn3/bin/python)\nframe #25: _PyObject_Call_Prepend + 0x63 (0x5588884764d3 in /home/rrs/anaconda3/envs/snn3/bin/python)\nframe #26: PyObject_Call + 0x6e (0x558888468ffe in /home/rrs/anaconda3/envs/snn3/bin/python)\nframe #27: _PyEval_EvalFrameDefault + 0x1e4a (0x558888510eea in /home/rrs/anaconda3/envs/snn3/bin/python)\nframe #28: _PyEval_EvalCodeWithName + 0x2f9 (0x558888456829 in /home/rrs/anaconda3/envs/snn3/bin/python)\nframe #29: _PyFunction_FastCallDict + 0x1d5 (0x558888457925 in /home/rrs/anaconda3/envs/snn3/bin/python)\nframe #30: _PyObject_Call_Prepend + 0x63 (0x5588884764d3 in /home/rrs/anaconda3/envs/snn3/bin/python)\nframe #31: <unknown function> + 0x16be1a (0x5588884ade1a in /home/rrs/anaconda3/envs/snn3/bin/python)\nframe #32: _PyObject_FastCallKeywords + 0x48b (0x5588884aeccb in /home/rrs/anaconda3/envs/snn3/bin/python)\nframe #33: _PyEval_EvalFrameDefault + 0x52fe (0x55888851439e in /home/rrs/anaconda3/envs/snn3/bin/python)\nframe #34: _PyFunction_FastCallDict + 0x10b (0x55888845785b in /home/rrs/anaconda3/envs/snn3/bin/python)\nframe #35: _PyObject_Call_Prepend + 0x63 (0x5588884764d3 in /home/rrs/anaconda3/envs/snn3/bin/python)\nframe #36: PyObject_Call + 0x6e (0x558888468ffe in /home/rrs/anaconda3/envs/snn3/bin/python)\nframe #37: _PyEval_EvalFrameDefault + 0x1e4a (0x558888510eea in /home/rrs/anaconda3/envs/snn3/bin/python)\nframe #38: _PyEval_EvalCodeWithName + 0x2f9 (0x558888456829 in /home/rrs/anaconda3/envs/snn3/bin/python)\nframe #39: _PyFunction_FastCallDict + 0x1d5 (0x558888457925 in /home/rrs/anaconda3/envs/snn3/bin/python)\nframe #40: _PyObject_Call_Prepend + 0x63 (0x5588884764d3 in /home/rrs/anaconda3/envs/snn3/bin/python)\nframe #41: <unknown function> + 0x16be1a (0x5588884ade1a in /home/rrs/anaconda3/envs/snn3/bin/python)\nframe #42: _PyObject_FastCallKeywords + 0x48b (0x5588884aeccb in /home/rrs/anaconda3/envs/snn3/bin/python)\nframe #43: _PyEval_EvalFrameDefault + 0x49e6 (0x558888513a86 in /home/rrs/anaconda3/envs/snn3/bin/python)\nframe #44: _PyEval_EvalCodeWithName + 0x2f9 (0x558888456829 in /home/rrs/anaconda3/envs/snn3/bin/python)\nframe #45: PyEval_EvalCodeEx + 0x44 (0x558888457714 in /home/rrs/anaconda3/envs/snn3/bin/python)\nframe #46: PyEval_EvalCode + 0x1c (0x55888845773c in /home/rrs/anaconda3/envs/snn3/bin/python)\nframe #47: <unknown function> + 0x1dcf1d (0x55888851ef1d in /home/rrs/anaconda3/envs/snn3/bin/python)\nframe #48: _PyMethodDef_RawFastCallKeywords + 0xe9 (0x5588884a7789 in /home/rrs/anaconda3/envs/snn3/bin/python)\nframe #49: _PyCFunction_FastCallKeywords + 0x21 (0x5588884a7a31 in /home/rrs/anaconda3/envs/snn3/bin/python)\nframe #50: _PyEval_EvalFrameDefault + 0x46f5 (0x558888513795 in /home/rrs/anaconda3/envs/snn3/bin/python)\nframe #51: _PyGen_Send + 0x2a2 (0x5588884af982 in /home/rrs/anaconda3/envs/snn3/bin/python)\nframe #52: _PyEval_EvalFrameDefault + 0x1a84 (0x558888510b24 in /home/rrs/anaconda3/envs/snn3/bin/python)\nframe #53: _PyGen_Send + 0x2a2 (0x5588884af982 in /home/rrs/anaconda3/envs/snn3/bin/python)\nframe #54: _PyEval_EvalFrameDefault + 0x1a84 (0x558888510b24 in /home/rrs/anaconda3/envs/snn3/bin/python)\nframe #55: _PyGen_Send + 0x2a2 (0x5588884af982 in /home/rrs/anaconda3/envs/snn3/bin/python)\nframe #56: _PyMethodDef_RawFastCallKeywords + 0x8d (0x5588884a772d in /home/rrs/anaconda3/envs/snn3/bin/python)\nframe #57: _PyMethodDescr_FastCallKeywords + 0x4f (0x5588884ae7af in /home/rrs/anaconda3/envs/snn3/bin/python)\nframe #58: _PyEval_EvalFrameDefault + 0x4bdc (0x558888513c7c in /home/rrs/anaconda3/envs/snn3/bin/python)\nframe #59: _PyFunction_FastCallKeywords + 0xfb (0x5588884a6e7b in /home/rrs/anaconda3/envs/snn3/bin/python)\nframe #60: _PyEval_EvalFrameDefault + 0x416 (0x55888850f4b6 in /home/rrs/anaconda3/envs/snn3/bin/python)\nframe #61: _PyFunction_FastCallKeywords + 0xfb (0x5588884a6e7b in /home/rrs/anaconda3/envs/snn3/bin/python)\nframe #62: _PyEval_EvalFrameDefault + 0x6a0 (0x55888850f740 in /home/rrs/anaconda3/envs/snn3/bin/python)\nframe #63: _PyEval_EvalCodeWithName + 0x2f9 (0x558888456829 in /home/rrs/anaconda3/envs/snn3/bin/python)\n"
     ]
    }
   ],
   "source": [
    "Network0(trainNMNIST[0][0])"
   ]
  },
  {
   "cell_type": "code",
   "execution_count": 46,
   "metadata": {},
   "outputs": [],
   "source": [
    "Network0.readyTraining(device, deviceIds)"
   ]
  },
  {
   "cell_type": "code",
   "execution_count": 47,
   "metadata": {},
   "outputs": [
    {
     "data": {
      "text/plain": [
       "125"
      ]
     },
     "execution_count": 47,
     "metadata": {},
     "output_type": "execute_result"
    }
   ],
   "source": [
    "len(Network0.netVars['testLoader'])"
   ]
  },
  {
   "cell_type": "markdown",
   "metadata": {},
   "source": [
    "# Train the network\n",
    "Train the network for 100 epochs."
   ]
  },
  {
   "cell_type": "code",
   "execution_count": 49,
   "metadata": {},
   "outputs": [],
   "source": [
    "# first move to a new directory to not overwrite anything\n",
    "dt_string = datetime.now().strftime(\"%d-%m-%Y_%Hh%Mm%S\")\n",
    "dirname = dt_string\n",
    "i = 0\n",
    "while os.path.exists(os.path.join(RESULTS_DIR, 'data', dirname)):\n",
    "    dirname = dt_string + '_' + str(++i)\n",
    "os.mkdir(os.path.join(RESULTS_DIR, 'data', dirname))"
   ]
  },
  {
   "cell_type": "code",
   "execution_count": 50,
   "metadata": {
    "scrolled": false
   },
   "outputs": [
    {
     "data": {
      "application/vnd.jupyter.widget-view+json": {
       "model_id": "0fa62c3b8526428781b325484483c1e8",
       "version_major": 2,
       "version_minor": 0
      },
      "text/plain": [
       "HBox(children=(FloatProgress(value=0.0, description='epochs', max=20.0, style=ProgressStyle(description_width=…"
      ]
     },
     "metadata": {},
     "output_type": "display_data"
    },
    {
     "data": {
      "application/vnd.jupyter.widget-view+json": {
       "model_id": "2cb5dcd7d1b948dba33c83fc59bbac0e",
       "version_major": 2,
       "version_minor": 0
      },
      "text/plain": [
       "HBox(children=(FloatProgress(value=0.0, description='training loop', max=7500.0, style=ProgressStyle(descripti…"
      ]
     },
     "metadata": {},
     "output_type": "display_data"
    },
    {
     "data": {
      "application/vnd.jupyter.widget-view+json": {
       "model_id": "",
       "version_major": 2,
       "version_minor": 0
      },
      "text/plain": [
       "HBox(children=(FloatProgress(value=1.0, bar_style='info', description='testing loop', max=1.0, style=ProgressS…"
      ]
     },
     "metadata": {},
     "output_type": "display_data"
    },
    {
     "data": {
      "application/vnd.jupyter.widget-view+json": {
       "model_id": "",
       "version_major": 2,
       "version_minor": 0
      },
      "text/plain": [
       "HBox(children=(FloatProgress(value=1.0, bar_style='info', description='testing loop', max=1.0, style=ProgressS…"
      ]
     },
     "metadata": {},
     "output_type": "display_data"
    },
    {
     "data": {
      "application/vnd.jupyter.widget-view+json": {
       "model_id": "",
       "version_major": 2,
       "version_minor": 0
      },
      "text/plain": [
       "HBox(children=(FloatProgress(value=1.0, bar_style='info', description='testing loop', max=1.0, style=ProgressS…"
      ]
     },
     "metadata": {},
     "output_type": "display_data"
    },
    {
     "name": "stderr",
     "output_type": "stream",
     "text": [
      "IOPub message rate exceeded.\n",
      "The notebook server will temporarily stop sending output\n",
      "to the client in order to avoid crashing it.\n",
      "To change this limit, set the config variable\n",
      "`--NotebookApp.iopub_msg_rate_limit`.\n",
      "\n",
      "Current values:\n",
      "NotebookApp.iopub_msg_rate_limit=1000.0 (msgs/sec)\n",
      "NotebookApp.rate_limit_window=3.0 (secs)\n",
      "\n"
     ]
    },
    {
     "data": {
      "application/vnd.jupyter.widget-view+json": {
       "model_id": "",
       "version_major": 2,
       "version_minor": 0
      },
      "text/plain": [
       "HBox(children=(FloatProgress(value=1.0, bar_style='info', description='testing loop', max=1.0, style=ProgressS…"
      ]
     },
     "metadata": {},
     "output_type": "display_data"
    },
    {
     "data": {
      "application/vnd.jupyter.widget-view+json": {
       "model_id": "",
       "version_major": 2,
       "version_minor": 0
      },
      "text/plain": [
       "HBox(children=(FloatProgress(value=1.0, bar_style='info', description='testing loop', max=1.0, style=ProgressS…"
      ]
     },
     "metadata": {},
     "output_type": "display_data"
    },
    {
     "data": {
      "application/vnd.jupyter.widget-view+json": {
       "model_id": "",
       "version_major": 2,
       "version_minor": 0
      },
      "text/plain": [
       "HBox(children=(FloatProgress(value=1.0, bar_style='info', description='testing loop', max=1.0, style=ProgressS…"
      ]
     },
     "metadata": {},
     "output_type": "display_data"
    },
    {
     "name": "stderr",
     "output_type": "stream",
     "text": [
      "IOPub message rate exceeded.\n",
      "The notebook server will temporarily stop sending output\n",
      "to the client in order to avoid crashing it.\n",
      "To change this limit, set the config variable\n",
      "`--NotebookApp.iopub_msg_rate_limit`.\n",
      "\n",
      "Current values:\n",
      "NotebookApp.iopub_msg_rate_limit=1000.0 (msgs/sec)\n",
      "NotebookApp.rate_limit_window=3.0 (secs)\n",
      "\n"
     ]
    },
    {
     "data": {
      "application/vnd.jupyter.widget-view+json": {
       "model_id": "",
       "version_major": 2,
       "version_minor": 0
      },
      "text/plain": [
       "HBox(children=(FloatProgress(value=1.0, bar_style='info', description='testing loop', max=1.0, style=ProgressS…"
      ]
     },
     "metadata": {},
     "output_type": "display_data"
    },
    {
     "data": {
      "application/vnd.jupyter.widget-view+json": {
       "model_id": "",
       "version_major": 2,
       "version_minor": 0
      },
      "text/plain": [
       "HBox(children=(FloatProgress(value=1.0, bar_style='info', description='testing loop', max=1.0, style=ProgressS…"
      ]
     },
     "metadata": {},
     "output_type": "display_data"
    },
    {
     "data": {
      "application/vnd.jupyter.widget-view+json": {
       "model_id": "",
       "version_major": 2,
       "version_minor": 0
      },
      "text/plain": [
       "HBox(children=(FloatProgress(value=1.0, bar_style='info', description='testing loop', max=1.0, style=ProgressS…"
      ]
     },
     "metadata": {},
     "output_type": "display_data"
    },
    {
     "name": "stderr",
     "output_type": "stream",
     "text": [
      "IOPub message rate exceeded.\n",
      "The notebook server will temporarily stop sending output\n",
      "to the client in order to avoid crashing it.\n",
      "To change this limit, set the config variable\n",
      "`--NotebookApp.iopub_msg_rate_limit`.\n",
      "\n",
      "Current values:\n",
      "NotebookApp.iopub_msg_rate_limit=1000.0 (msgs/sec)\n",
      "NotebookApp.rate_limit_window=3.0 (secs)\n",
      "\n"
     ]
    },
    {
     "data": {
      "application/vnd.jupyter.widget-view+json": {
       "model_id": "",
       "version_major": 2,
       "version_minor": 0
      },
      "text/plain": [
       "HBox(children=(FloatProgress(value=1.0, bar_style='info', description='testing loop', max=1.0, style=ProgressS…"
      ]
     },
     "metadata": {},
     "output_type": "display_data"
    },
    {
     "data": {
      "application/vnd.jupyter.widget-view+json": {
       "model_id": "",
       "version_major": 2,
       "version_minor": 0
      },
      "text/plain": [
       "HBox(children=(FloatProgress(value=1.0, bar_style='info', description='testing loop', max=1.0, style=ProgressS…"
      ]
     },
     "metadata": {},
     "output_type": "display_data"
    },
    {
     "name": "stderr",
     "output_type": "stream",
     "text": [
      "IOPub message rate exceeded.\n",
      "The notebook server will temporarily stop sending output\n",
      "to the client in order to avoid crashing it.\n",
      "To change this limit, set the config variable\n",
      "`--NotebookApp.iopub_msg_rate_limit`.\n",
      "\n",
      "Current values:\n",
      "NotebookApp.iopub_msg_rate_limit=1000.0 (msgs/sec)\n",
      "NotebookApp.rate_limit_window=3.0 (secs)\n",
      "\n"
     ]
    },
    {
     "data": {
      "application/vnd.jupyter.widget-view+json": {
       "model_id": "",
       "version_major": 2,
       "version_minor": 0
      },
      "text/plain": [
       "HBox(children=(FloatProgress(value=1.0, bar_style='info', description='testing loop', max=1.0, style=ProgressS…"
      ]
     },
     "metadata": {},
     "output_type": "display_data"
    },
    {
     "data": {
      "application/vnd.jupyter.widget-view+json": {
       "model_id": "",
       "version_major": 2,
       "version_minor": 0
      },
      "text/plain": [
       "HBox(children=(FloatProgress(value=1.0, bar_style='info', description='testing loop', max=1.0, style=ProgressS…"
      ]
     },
     "metadata": {},
     "output_type": "display_data"
    },
    {
     "name": "stderr",
     "output_type": "stream",
     "text": [
      "IOPub message rate exceeded.\n",
      "The notebook server will temporarily stop sending output\n",
      "to the client in order to avoid crashing it.\n",
      "To change this limit, set the config variable\n",
      "`--NotebookApp.iopub_msg_rate_limit`.\n",
      "\n",
      "Current values:\n",
      "NotebookApp.iopub_msg_rate_limit=1000.0 (msgs/sec)\n",
      "NotebookApp.rate_limit_window=3.0 (secs)\n",
      "\n"
     ]
    },
    {
     "data": {
      "application/vnd.jupyter.widget-view+json": {
       "model_id": "",
       "version_major": 2,
       "version_minor": 0
      },
      "text/plain": [
       "HBox(children=(FloatProgress(value=1.0, bar_style='info', description='testing loop', max=1.0, style=ProgressS…"
      ]
     },
     "metadata": {},
     "output_type": "display_data"
    },
    {
     "data": {
      "application/vnd.jupyter.widget-view+json": {
       "model_id": "",
       "version_major": 2,
       "version_minor": 0
      },
      "text/plain": [
       "HBox(children=(FloatProgress(value=1.0, bar_style='info', description='testing loop', max=1.0, style=ProgressS…"
      ]
     },
     "metadata": {},
     "output_type": "display_data"
    },
    {
     "name": "stderr",
     "output_type": "stream",
     "text": [
      "IOPub message rate exceeded.\n",
      "The notebook server will temporarily stop sending output\n",
      "to the client in order to avoid crashing it.\n",
      "To change this limit, set the config variable\n",
      "`--NotebookApp.iopub_msg_rate_limit`.\n",
      "\n",
      "Current values:\n",
      "NotebookApp.iopub_msg_rate_limit=1000.0 (msgs/sec)\n",
      "NotebookApp.rate_limit_window=3.0 (secs)\n",
      "\n"
     ]
    },
    {
     "data": {
      "application/vnd.jupyter.widget-view+json": {
       "model_id": "",
       "version_major": 2,
       "version_minor": 0
      },
      "text/plain": [
       "HBox(children=(FloatProgress(value=1.0, bar_style='info', description='testing loop', max=1.0, style=ProgressS…"
      ]
     },
     "metadata": {},
     "output_type": "display_data"
    },
    {
     "ename": "KeyboardInterrupt",
     "evalue": "",
     "output_type": "error",
     "traceback": [
      "\u001b[0;31m---------------------------------------------------------------------------\u001b[0m",
      "\u001b[0;31mKeyboardInterrupt\u001b[0m                         Traceback (most recent call last)",
      "\u001b[0;32m<ipython-input-50-78dad0846a5a>\u001b[0m in \u001b[0;36m<module>\u001b[0;34m\u001b[0m\n\u001b[1;32m      1\u001b[0m \u001b[0mNetwork0\u001b[0m\u001b[0;34m.\u001b[0m\u001b[0mreadyTraining\u001b[0m\u001b[0;34m(\u001b[0m\u001b[0mdevice\u001b[0m\u001b[0;34m,\u001b[0m \u001b[0mdeviceIds\u001b[0m\u001b[0;34m)\u001b[0m\u001b[0;34m\u001b[0m\u001b[0;34m\u001b[0m\u001b[0m\n\u001b[0;32m----> 2\u001b[0;31m \u001b[0mNetwork0\u001b[0m\u001b[0;34m.\u001b[0m\u001b[0mdoTrain\u001b[0m\u001b[0;34m(\u001b[0m\u001b[0mdevice\u001b[0m\u001b[0;34m,\u001b[0m \u001b[0mepochcount\u001b[0m\u001b[0;34m=\u001b[0m\u001b[0;36m20\u001b[0m\u001b[0;34m,\u001b[0m \u001b[0mwriter\u001b[0m\u001b[0;34m=\u001b[0m\u001b[0mSummaryWriter\u001b[0m\u001b[0;34m(\u001b[0m\u001b[0mos\u001b[0m\u001b[0;34m.\u001b[0m\u001b[0mpath\u001b[0m\u001b[0;34m.\u001b[0m\u001b[0mjoin\u001b[0m\u001b[0;34m(\u001b[0m\u001b[0mRESULTS_DIR\u001b[0m\u001b[0;34m,\u001b[0m\u001b[0;34m'data'\u001b[0m\u001b[0;34m,\u001b[0m\u001b[0mdirname\u001b[0m\u001b[0;34m,\u001b[0m\u001b[0;34m\"moredata\"\u001b[0m\u001b[0;34m)\u001b[0m\u001b[0;34m)\u001b[0m\u001b[0;34m)\u001b[0m\u001b[0;34m\u001b[0m\u001b[0;34m\u001b[0m\u001b[0m\n\u001b[0m",
      "\u001b[0;32m<ipython-input-43-2f0c98f89c93>\u001b[0m in \u001b[0;36mdoTrain\u001b[0;34m(self, device, epochcount, writer)\u001b[0m\n\u001b[1;32m     86\u001b[0m             \u001b[0;32mfor\u001b[0m \u001b[0mi\u001b[0m\u001b[0;34m,\u001b[0m \u001b[0;34m(\u001b[0m\u001b[0minput\u001b[0m\u001b[0;34m,\u001b[0m \u001b[0mtarget\u001b[0m\u001b[0;34m,\u001b[0m \u001b[0mlabel\u001b[0m\u001b[0;34m)\u001b[0m \u001b[0;32min\u001b[0m \u001b[0menumerate\u001b[0m\u001b[0;34m(\u001b[0m\u001b[0mtqdm\u001b[0m\u001b[0;34m.\u001b[0m\u001b[0mtqdm\u001b[0m\u001b[0;34m(\u001b[0m\u001b[0mtrainLoader\u001b[0m\u001b[0;34m,\u001b[0m \u001b[0mdesc\u001b[0m\u001b[0;34m=\u001b[0m\u001b[0;34m'training loop'\u001b[0m\u001b[0;34m,\u001b[0m \u001b[0mleave\u001b[0m\u001b[0;34m=\u001b[0m\u001b[0;32mFalse\u001b[0m\u001b[0;34m)\u001b[0m\u001b[0;34m,\u001b[0m \u001b[0;36m0\u001b[0m\u001b[0;34m)\u001b[0m\u001b[0;34m:\u001b[0m\u001b[0;34m\u001b[0m\u001b[0;34m\u001b[0m\u001b[0m\n\u001b[1;32m     87\u001b[0m                 \u001b[0;31m# Move the input and target to correct GPU.\u001b[0m\u001b[0;34m\u001b[0m\u001b[0;34m\u001b[0m\u001b[0;34m\u001b[0m\u001b[0m\n\u001b[0;32m---> 88\u001b[0;31m                 \u001b[0minput\u001b[0m  \u001b[0;34m=\u001b[0m \u001b[0minput\u001b[0m\u001b[0;34m.\u001b[0m\u001b[0mto\u001b[0m\u001b[0;34m(\u001b[0m\u001b[0mdevice\u001b[0m\u001b[0;34m)\u001b[0m\u001b[0;34m\u001b[0m\u001b[0;34m\u001b[0m\u001b[0m\n\u001b[0m\u001b[1;32m     89\u001b[0m                 \u001b[0mtarget\u001b[0m \u001b[0;34m=\u001b[0m \u001b[0mtarget\u001b[0m\u001b[0;34m.\u001b[0m\u001b[0mto\u001b[0m\u001b[0;34m(\u001b[0m\u001b[0mdevice\u001b[0m\u001b[0;34m)\u001b[0m\u001b[0;34m\u001b[0m\u001b[0;34m\u001b[0m\u001b[0m\n\u001b[1;32m     90\u001b[0m \u001b[0;34m\u001b[0m\u001b[0m\n",
      "\u001b[0;31mKeyboardInterrupt\u001b[0m: "
     ]
    }
   ],
   "source": [
    "Network0.readyTraining(device, deviceIds)\n",
    "Network0.doTrain(device, epochcount=20, writer=SummaryWriter(os.path.join(RESULTS_DIR,'data',dirname,\"moredata\")))"
   ]
  },
  {
   "cell_type": "code",
   "execution_count": 51,
   "metadata": {},
   "outputs": [],
   "source": [
    "os.makedirs(os.path.join(RESULTS_DIR, 'models', dirname, 'moredata'))"
   ]
  },
  {
   "cell_type": "code",
   "execution_count": 52,
   "metadata": {},
   "outputs": [],
   "source": [
    "torch.save(Network0.state_dict(), os.path.join(RESULTS_DIR, 'models', dirname, 'moredata', 'originalmodel'))"
   ]
  },
  {
   "cell_type": "code",
   "execution_count": null,
   "metadata": {
    "scrolled": true
   },
   "outputs": [],
   "source": [
    "Network1.readyTraining(device, deviceIds)\n",
    "Network1.doTrain(device, epochcount=20, writer=SummaryWriter(os.path.join(RESULTS_DIR,'data',dirname,\"moredata2\")))"
   ]
  },
  {
   "cell_type": "code",
   "execution_count": null,
   "metadata": {},
   "outputs": [],
   "source": [
    "os.makedirs(os.path.join(RESULTS_DIR, 'models', dirname, 'moredata2'))"
   ]
  },
  {
   "cell_type": "code",
   "execution_count": null,
   "metadata": {},
   "outputs": [],
   "source": [
    "torch.save(Network1.state_dict(), os.path.join(RESULTS_DIR, 'models', dirname, 'moredata2', 'model1'))"
   ]
  },
  {
   "cell_type": "code",
   "execution_count": null,
   "metadata": {},
   "outputs": [],
   "source": []
  },
  {
   "cell_type": "code",
   "execution_count": null,
   "metadata": {},
   "outputs": [],
   "source": []
  },
  {
   "cell_type": "code",
   "execution_count": null,
   "metadata": {},
   "outputs": [],
   "source": []
  },
  {
   "cell_type": "code",
   "execution_count": null,
   "metadata": {},
   "outputs": [],
   "source": []
  },
  {
   "cell_type": "code",
   "execution_count": null,
   "metadata": {},
   "outputs": [],
   "source": []
  },
  {
   "cell_type": "code",
   "execution_count": null,
   "metadata": {},
   "outputs": [],
   "source": []
  },
  {
   "cell_type": "markdown",
   "metadata": {},
   "source": [
    "# testing newly trained network with old testing set to make sure accuracy results are valid and comparable"
   ]
  },
  {
   "cell_type": "code",
   "execution_count": 68,
   "metadata": {},
   "outputs": [],
   "source": [
    "netParamsOld = snn.params('network.yaml')"
   ]
  },
  {
   "cell_type": "code",
   "execution_count": 59,
   "metadata": {},
   "outputs": [],
   "source": [
    "with zipfile.ZipFile('../data/NMNISTsmall.zip') as zip_file:\n",
    "    for member in zip_file.namelist():\n",
    "        if not os.path.exists('./' + member):\n",
    "            zip_file.extract(member, '../data/')"
   ]
  },
  {
   "cell_type": "code",
   "execution_count": 60,
   "metadata": {},
   "outputs": [],
   "source": [
    "# Dataset definition\n",
    "class nmnistDatasetOld(Dataset):\n",
    "    def __init__(self, datasetPath, sampleFile, samplingTime, sampleLength):\n",
    "        self.path = datasetPath \n",
    "        self.samples = np.loadtxt(sampleFile).astype('int')\n",
    "        self.samplingTime = samplingTime\n",
    "        self.nTimeBins    = int(sampleLength / samplingTime)\n",
    "\n",
    "    def __getitem__(self, index):\n",
    "        inputIndex  = self.samples[index, 0]\n",
    "        classLabel  = self.samples[index, 1]\n",
    "\n",
    "        inputSpikes = snn.io.read2Dspikes(\n",
    "                        self.path + str(inputIndex.item()) + '.bs2'\n",
    "                        ).toSpikeTensor(torch.zeros((2,34,34,self.nTimeBins)),\n",
    "                        samplingTime=self.samplingTime)\n",
    "        desiredClass = torch.zeros((10, 1, 1, 1))\n",
    "        desiredClass[classLabel,...] = 1\n",
    "        return inputSpikes, desiredClass, classLabel\n",
    "\n",
    "    def __len__(self):\n",
    "        return self.samples.shape[0]"
   ]
  },
  {
   "cell_type": "code",
   "execution_count": 67,
   "metadata": {},
   "outputs": [],
   "source": [
    "net = Network0.netVars['net']\n",
    "stats = Network0.netVars['stats']\n",
    "error = Network0.netVars['error']"
   ]
  },
  {
   "cell_type": "code",
   "execution_count": 69,
   "metadata": {},
   "outputs": [],
   "source": [
    "testingSet = nmnistDatasetOld(datasetPath  =netParamsOld['training']['path']['in'], \n",
    "                            sampleFile  =netParamsOld['training']['path']['test'],\n",
    "                            samplingTime=netParamsOld['simulation']['Ts'],\n",
    "                            sampleLength=netParamsOld['simulation']['tSample'])\n",
    "testLoader = DataLoader(dataset=testingSet, batch_size=8, shuffle=False, num_workers=4)"
   ]
  },
  {
   "cell_type": "code",
   "execution_count": 70,
   "metadata": {},
   "outputs": [
    {
     "data": {
      "application/vnd.jupyter.widget-view+json": {
       "model_id": "b59dc8896c0e408a83bb5626a59c0429",
       "version_major": 2,
       "version_minor": 0
      },
      "text/plain": [
       "HBox(children=(FloatProgress(value=0.0, description='test', max=13.0, style=ProgressStyle(description_width='i…"
      ]
     },
     "metadata": {},
     "output_type": "display_data"
    },
    {
     "name": "stdout",
     "output_type": "stream",
     "text": [
      "\n"
     ]
    }
   ],
   "source": [
    "# Reset testing stats.\n",
    "stats.testing.reset()\n",
    "\n",
    "# Testing loop.\n",
    "# Same steps as Training loops except loss backpropagation and weight update.\n",
    "for i, (input, target, label) in enumerate(tqdm.tqdm(testLoader, desc='test'), 0):\n",
    "    input  = input.to(device)\n",
    "    target = target.to(device) \n",
    "\n",
    "    output = net.forward(input)\n",
    "\n",
    "    stats.testing.correctSamples += torch.sum( snn.predict.getClass(output) == label ).data.item()\n",
    "    stats.testing.numSamples     += len(label)\n",
    "\n",
    "    loss = error.numSpikes(output, target)\n",
    "    stats.testing.lossSum += loss.cpu().data.item()\n",
    "    # stats.print(epoch, i)\n",
    "\n",
    "# Update testing stats.\n",
    "stats.testing.update()"
   ]
  },
  {
   "cell_type": "code",
   "execution_count": 71,
   "metadata": {},
   "outputs": [
    {
     "name": "stdout",
     "output_type": "stream",
     "text": [
      "\u001b[0A\n",
      "Epoch :          0(i =       0)\n",
      "loss = 1.0278      (min = 0.51917    )    accuracy = 0.87023  (max = 1       )\n",
      "loss = 0.9149      (min = 0.9149     )    accuracy = 0.88     (max = 0.88    )\n"
     ]
    }
   ],
   "source": [
    "stats.print(0, 0)"
   ]
  },
  {
   "cell_type": "code",
   "execution_count": null,
   "metadata": {},
   "outputs": [],
   "source": []
  },
  {
   "cell_type": "code",
   "execution_count": null,
   "metadata": {},
   "outputs": [],
   "source": []
  },
  {
   "cell_type": "code",
   "execution_count": null,
   "metadata": {},
   "outputs": [],
   "source": []
  },
  {
   "cell_type": "code",
   "execution_count": null,
   "metadata": {},
   "outputs": [],
   "source": []
  },
  {
   "cell_type": "markdown",
   "metadata": {},
   "source": [
    "## ~~Plot the Results~~"
   ]
  },
  {
   "cell_type": "raw",
   "metadata": {},
   "source": [
    "plt.figure(1)\n",
    "plt.semilogy(stats.training.lossLog, label='Training')\n",
    "plt.semilogy(stats.testing .lossLog, label='Testing')\n",
    "plt.xlabel('Epoch')\n",
    "plt.ylabel('Loss')\n",
    "plt.legend()\n",
    "\n",
    "plt.figure(2)\n",
    "plt.plot(stats.training.accuracyLog, label='Training')\n",
    "plt.plot(stats.testing .accuracyLog, label='Testing')\n",
    "plt.xlabel('Epoch')\n",
    "plt.ylabel('Accuracy')\n",
    "plt.legend()\n",
    "\n",
    "plt.show()"
   ]
  },
  {
   "cell_type": "code",
   "execution_count": null,
   "metadata": {},
   "outputs": [],
   "source": []
  }
 ],
 "metadata": {
  "kernelspec": {
   "display_name": "Python 3",
   "language": "python",
   "name": "python3"
  },
  "language_info": {
   "codemirror_mode": {
    "name": "ipython",
    "version": 3
   },
   "file_extension": ".py",
   "mimetype": "text/x-python",
   "name": "python",
   "nbconvert_exporter": "python",
   "pygments_lexer": "ipython3",
   "version": "3.7.9"
  }
 },
 "nbformat": 4,
 "nbformat_minor": 4
}
