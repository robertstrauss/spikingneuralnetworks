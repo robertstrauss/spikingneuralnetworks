{
 "cells": [
  {
   "cell_type": "markdown",
   "metadata": {},
   "source": [
    "# Example for training Spiking CNN on subset of NMNIST digits\n",
    "\n",
    "## The problem:\n",
    "Training digit classifier(0-9) on a subset(1000 training and 100 testing) of NMNIST digit spikes recorded using DVS camera. Just chagne the training list to for full NMNIST training."
   ]
  },
  {
   "cell_type": "markdown",
   "metadata": {},
   "source": [
    "## Load proper paths for SLAYER Pytorch source modules"
   ]
  },
  {
   "cell_type": "code",
   "execution_count": 1,
   "metadata": {},
   "outputs": [],
   "source": [
    "import sys, os\n",
    "CODE_DIR = os.getcwd()\n",
    "DATA_DIR = os.path.join(CODE_DIR, '../data')\n",
    "RESULTS_DIR = os.path.join(CODE_DIR, '../results')\n",
    "sys.path.append(CODE_DIR + \"/slayerPytorch/src\")"
   ]
  },
  {
   "cell_type": "markdown",
   "metadata": {},
   "source": [
    "## Load required modules\n",
    "\n",
    "SLAYER modules are available as `snn`\n",
    "* The `spike-layer` module will be available as `snn.layer`.\n",
    "* The `yaml-parameter` module will be availabe as `snn.params`.\n",
    "* The `spike-loss` module will be available as `snn.loss`.\n",
    "* The `spike-classifier` module will be available as `snn.predict`.\n",
    "* The `spike-IO` module will be available as `snn.io`.\n"
   ]
  },
  {
   "cell_type": "code",
   "execution_count": 2,
   "metadata": {},
   "outputs": [],
   "source": [
    "from datetime import datetime\n",
    "import tqdm.notebook as tqdm\n",
    "import numpy as np\n",
    "import matplotlib.pyplot as plt\n",
    "import torch\n",
    "from torch.utils.data import Dataset, DataLoader\n",
    "import slayerSNN as snn\n",
    "from learningStats import learningStats\n",
    "from IPython.display import HTML\n",
    "import zipfile\n",
    "from torch.utils.tensorboard import SummaryWriter"
   ]
  },
  {
   "cell_type": "markdown",
   "metadata": {},
   "source": [
    "## Read SNN configuration from yaml file\n",
    "See the file for all the configuration parameters. This configuration file will be used to describe the SNN. We will ignore the network configuration  describe in the yaml file here."
   ]
  },
  {
   "cell_type": "code",
   "execution_count": 3,
   "metadata": {},
   "outputs": [],
   "source": [
    "netParams = snn.params(os.path.join(CODE_DIR, 'network.yaml'))"
   ]
  },
  {
   "cell_type": "code",
   "execution_count": 4,
   "metadata": {},
   "outputs": [
    {
     "data": {
      "text/plain": [
       "{'error': {'type': 'NumSpikes',\n",
       "  'probSlidingWin': 20,\n",
       "  'tgtSpikeRegion': {'start': 0, 'stop': 300},\n",
       "  'tgtSpikeCount': {True: 60, False: 10}},\n",
       " 'path': {'in': '../data/NMNISTsmall/',\n",
       "  'train': '../data/NMNISTsmall/train1K.txt',\n",
       "  'test': '../data/NMNISTsmall/test100.txt'}}"
      ]
     },
     "execution_count": 4,
     "metadata": {},
     "output_type": "execute_result"
    }
   ],
   "source": [
    "netParams['training']"
   ]
  },
  {
   "cell_type": "markdown",
   "metadata": {},
   "source": [
    "## Extract NMNISTsmall dataset\n",
    "This is a subset of NMNIST dataset containing first 1000 training samples and first 100 testing samples. The original NMNSIT dataset consists of full MNIST samples converted into spikes using DVS sensor moved in three repeatable saccadic motion. For details and full dataset download links, refer to [https://www.garrickorchard.com/datasets/n-mnist](https://www.garrickorchard.com/datasets/n-mnist)"
   ]
  },
  {
   "cell_type": "code",
   "execution_count": 5,
   "metadata": {},
   "outputs": [],
   "source": [
    "# extract data from zip only necessary if data is not already extracted\n",
    "with zipfile.ZipFile(os.path.join(DATA_DIR, 'NMNISTsmall.zip')) as zip_file:\n",
    "    for member in zip_file.namelist():\n",
    "        if not os.path.exists(os.path.join(DATA_DIR, member)):\n",
    "            zip_file.extract(member, DATA_DIR)"
   ]
  },
  {
   "cell_type": "markdown",
   "metadata": {},
   "source": [
    "## Defne the dataset class\n",
    "The dataset definition follows standard PyTorch dataset definition.\n",
    "Internally, it utilizes snn.io modules to read spikes and returns the spike in correct tensor format (CHWT).\n",
    "* `datasetPath`: the path where the spike files are stored.\n",
    "* `sampleFile`: the file that contains a list of sample indices and its corresponding clases.\n",
    "* `samplingTime`: the sampling time (in ms) to bin the spikes.\n",
    "* `sampleLength`: the length of the sample (in ms)\n",
    "\n",
    "Note: This is a simple dataset class. A dataset that utilizes the folder hierarchy or xml list is easy to create."
   ]
  },
  {
   "cell_type": "code",
   "execution_count": 6,
   "metadata": {},
   "outputs": [],
   "source": [
    "# Dataset definition\n",
    "class nmnistDataset(Dataset):\n",
    "    def __init__(self, datasetPath, sampleFile, samplingTime, sampleLength):\n",
    "        self.path = datasetPath \n",
    "        self.samples = np.loadtxt(sampleFile).astype('int')\n",
    "        self.samplingTime = samplingTime\n",
    "        self.nTimeBins    = int(sampleLength / samplingTime)\n",
    "\n",
    "    def __getitem__(self, index):\n",
    "        inputIndex  = self.samples[index, 0]\n",
    "        classLabel  = self.samples[index, 1]\n",
    "\n",
    "        inputSpikes = snn.io.read2Dspikes(\n",
    "                        self.path + str(inputIndex.item()) + '.bs2'\n",
    "                        ).toSpikeTensor(torch.zeros((2,34,34,self.nTimeBins)),\n",
    "                        samplingTime=self.samplingTime)\n",
    "#         sparseInputSpikes = torch.sparse_coo_tensor([inputSpikes.p, inputSpikes.y, inputSpikes.x, inputSpikes.t],\n",
    "#                                                         np.ones_like(inputSpikes.p), (2, 34, 34, 306))\n",
    "\n",
    "        desiredClass = torch.zeros((10, 1, 1, 1))\n",
    "        desiredClass[classLabel,...] = 1\n",
    "        return inputSpikes, desiredClass, classLabel\n",
    "\n",
    "    def __len__(self):\n",
    "        return self.samples.shape[0]"
   ]
  },
  {
   "cell_type": "code",
   "execution_count": 7,
   "metadata": {},
   "outputs": [],
   "source": [
    "# Dataset definition\n",
    "class nmnistDatasetNoisy(nmnistDataset):\n",
    "    def __init__(self, datasetPath, sampleFile, samplingTime, sampleLength, percentNoise=0.001):\n",
    "        super().__init__(datasetPath, sampleFile, samplingTime, sampleLength)\n",
    "        self.numNoise = int(percentNoise*2*34*34*300)\n",
    "        # generate binary (boolean) noise with percentNoise 1s\n",
    "#         self.noise = torch.cuda.FloatTensor(len(self.samples), 2, 34, 34, self.nTimeBins).uniform_() < percentNoise\n",
    "    def __getitem__(self, index):\n",
    "        inputSpikes, desiredClass, classLabel = super().__getitem__(index)\n",
    "#         for i in range(int(self.percentNoise*torch.numel(inputSpikes))):\n",
    "        p = torch.randint(0, 2, (self.numNoise,))\n",
    "        x, y = torch.randint(0, 34, (2,self.numNoise))\n",
    "        t = torch.randint(0, 300, (self.numNoise,))\n",
    "        inputSpikes[p, x, y, t] = 1-inputSpikes[p, x, y, t]\n",
    "        # noise = torch.FloatTensor(2, 34, 34, self.nTimeBins).uniform_() < self.percentNoise #self.noise[index] # get pre-generated noise for this example\n",
    "        # inputSpikes[noise] = 1-inputSpikes[noise] # invert 1s and 0s where noise=True\n",
    "        return inputSpikes, desiredClass, classLabel"
   ]
  },
  {
   "cell_type": "markdown",
   "metadata": {},
   "source": [
    "## Visualize the spike data"
   ]
  },
  {
   "cell_type": "code",
   "execution_count": 8,
   "metadata": {},
   "outputs": [],
   "source": [
    "trainingSet = nmnistDataset(datasetPath =netParams['training']['path']['in'], \n",
    "                            sampleFile  =netParams['training']['path']['train'],\n",
    "                            samplingTime=netParams['simulation']['Ts'],\n",
    "                            sampleLength=netParams['simulation']['tSample'])"
   ]
  },
  {
   "cell_type": "code",
   "execution_count": 9,
   "metadata": {},
   "outputs": [
    {
     "data": {
      "text/plain": [
       "1000"
      ]
     },
     "execution_count": 9,
     "metadata": {},
     "output_type": "execute_result"
    }
   ],
   "source": [
    "len(trainingSet.samples)"
   ]
  },
  {
   "cell_type": "code",
   "execution_count": 10,
   "metadata": {
    "scrolled": false
   },
   "outputs": [
    {
     "data": {
      "text/html": [
       "\n",
       "<link rel=\"stylesheet\"\n",
       "href=\"https://maxcdn.bootstrapcdn.com/font-awesome/4.4.0/\n",
       "css/font-awesome.min.css\">\n",
       "<script language=\"javascript\">\n",
       "  /* Define the Animation class */\n",
       "  function Animation(frames, img_id, slider_id, interval, loop_select_id){\n",
       "    this.img_id = img_id;\n",
       "    this.slider_id = slider_id;\n",
       "    this.loop_select_id = loop_select_id;\n",
       "    this.interval = interval;\n",
       "    this.current_frame = 0;\n",
       "    this.direction = 0;\n",
       "    this.timer = null;\n",
       "    this.frames = new Array(frames.length);\n",
       "\n",
       "    for (var i=0; i<frames.length; i++)\n",
       "    {\n",
       "     this.frames[i] = new Image();\n",
       "     this.frames[i].src = frames[i];\n",
       "    }\n",
       "    document.getElementById(this.slider_id).max = this.frames.length - 1;\n",
       "    this.set_frame(this.current_frame);\n",
       "  }\n",
       "\n",
       "  Animation.prototype.get_loop_state = function(){\n",
       "    var button_group = document[this.loop_select_id].state;\n",
       "    for (var i = 0; i < button_group.length; i++) {\n",
       "        var button = button_group[i];\n",
       "        if (button.checked) {\n",
       "            return button.value;\n",
       "        }\n",
       "    }\n",
       "    return undefined;\n",
       "  }\n",
       "\n",
       "  Animation.prototype.set_frame = function(frame){\n",
       "    this.current_frame = frame;\n",
       "    document.getElementById(this.img_id).src =\n",
       "            this.frames[this.current_frame].src;\n",
       "    document.getElementById(this.slider_id).value = this.current_frame;\n",
       "  }\n",
       "\n",
       "  Animation.prototype.next_frame = function()\n",
       "  {\n",
       "    this.set_frame(Math.min(this.frames.length - 1, this.current_frame + 1));\n",
       "  }\n",
       "\n",
       "  Animation.prototype.previous_frame = function()\n",
       "  {\n",
       "    this.set_frame(Math.max(0, this.current_frame - 1));\n",
       "  }\n",
       "\n",
       "  Animation.prototype.first_frame = function()\n",
       "  {\n",
       "    this.set_frame(0);\n",
       "  }\n",
       "\n",
       "  Animation.prototype.last_frame = function()\n",
       "  {\n",
       "    this.set_frame(this.frames.length - 1);\n",
       "  }\n",
       "\n",
       "  Animation.prototype.slower = function()\n",
       "  {\n",
       "    this.interval /= 0.7;\n",
       "    if(this.direction > 0){this.play_animation();}\n",
       "    else if(this.direction < 0){this.reverse_animation();}\n",
       "  }\n",
       "\n",
       "  Animation.prototype.faster = function()\n",
       "  {\n",
       "    this.interval *= 0.7;\n",
       "    if(this.direction > 0){this.play_animation();}\n",
       "    else if(this.direction < 0){this.reverse_animation();}\n",
       "  }\n",
       "\n",
       "  Animation.prototype.anim_step_forward = function()\n",
       "  {\n",
       "    this.current_frame += 1;\n",
       "    if(this.current_frame < this.frames.length){\n",
       "      this.set_frame(this.current_frame);\n",
       "    }else{\n",
       "      var loop_state = this.get_loop_state();\n",
       "      if(loop_state == \"loop\"){\n",
       "        this.first_frame();\n",
       "      }else if(loop_state == \"reflect\"){\n",
       "        this.last_frame();\n",
       "        this.reverse_animation();\n",
       "      }else{\n",
       "        this.pause_animation();\n",
       "        this.last_frame();\n",
       "      }\n",
       "    }\n",
       "  }\n",
       "\n",
       "  Animation.prototype.anim_step_reverse = function()\n",
       "  {\n",
       "    this.current_frame -= 1;\n",
       "    if(this.current_frame >= 0){\n",
       "      this.set_frame(this.current_frame);\n",
       "    }else{\n",
       "      var loop_state = this.get_loop_state();\n",
       "      if(loop_state == \"loop\"){\n",
       "        this.last_frame();\n",
       "      }else if(loop_state == \"reflect\"){\n",
       "        this.first_frame();\n",
       "        this.play_animation();\n",
       "      }else{\n",
       "        this.pause_animation();\n",
       "        this.first_frame();\n",
       "      }\n",
       "    }\n",
       "  }\n",
       "\n",
       "  Animation.prototype.pause_animation = function()\n",
       "  {\n",
       "    this.direction = 0;\n",
       "    if (this.timer){\n",
       "      clearInterval(this.timer);\n",
       "      this.timer = null;\n",
       "    }\n",
       "  }\n",
       "\n",
       "  Animation.prototype.play_animation = function()\n",
       "  {\n",
       "    this.pause_animation();\n",
       "    this.direction = 1;\n",
       "    var t = this;\n",
       "    if (!this.timer) this.timer = setInterval(function() {\n",
       "        t.anim_step_forward();\n",
       "    }, this.interval);\n",
       "  }\n",
       "\n",
       "  Animation.prototype.reverse_animation = function()\n",
       "  {\n",
       "    this.pause_animation();\n",
       "    this.direction = -1;\n",
       "    var t = this;\n",
       "    if (!this.timer) this.timer = setInterval(function() {\n",
       "        t.anim_step_reverse();\n",
       "    }, this.interval);\n",
       "  }\n",
       "</script>\n",
       "\n",
       "<div class=\"animation\" align=\"center\">\n",
       "    <img id=\"_anim_imgadd69af6546d44f59214a442209b8811\">\n",
       "    <br>\n",
       "    <input id=\"_anim_slideradd69af6546d44f59214a442209b8811\" type=\"range\" style=\"width:350px\"\n",
       "           name=\"points\" min=\"0\" max=\"1\" step=\"1\" value=\"0\"\n",
       "           onchange=\"animadd69af6546d44f59214a442209b8811.set_frame(parseInt(this.value));\"></input>\n",
       "    <br>\n",
       "    <button onclick=\"animadd69af6546d44f59214a442209b8811.slower()\"><i class=\"fa fa-minus\"></i></button>\n",
       "    <button onclick=\"animadd69af6546d44f59214a442209b8811.first_frame()\"><i class=\"fa fa-fast-backward\">\n",
       "        </i></button>\n",
       "    <button onclick=\"animadd69af6546d44f59214a442209b8811.previous_frame()\">\n",
       "        <i class=\"fa fa-step-backward\"></i></button>\n",
       "    <button onclick=\"animadd69af6546d44f59214a442209b8811.reverse_animation()\">\n",
       "        <i class=\"fa fa-play fa-flip-horizontal\"></i></button>\n",
       "    <button onclick=\"animadd69af6546d44f59214a442209b8811.pause_animation()\"><i class=\"fa fa-pause\">\n",
       "        </i></button>\n",
       "    <button onclick=\"animadd69af6546d44f59214a442209b8811.play_animation()\"><i class=\"fa fa-play\"></i>\n",
       "        </button>\n",
       "    <button onclick=\"animadd69af6546d44f59214a442209b8811.next_frame()\"><i class=\"fa fa-step-forward\">\n",
       "        </i></button>\n",
       "    <button onclick=\"animadd69af6546d44f59214a442209b8811.last_frame()\"><i class=\"fa fa-fast-forward\">\n",
       "        </i></button>\n",
       "    <button onclick=\"animadd69af6546d44f59214a442209b8811.faster()\"><i class=\"fa fa-plus\"></i></button>\n",
       "  <form action=\"#n\" name=\"_anim_loop_selectadd69af6546d44f59214a442209b8811\" class=\"anim_control\">\n",
       "    <input type=\"radio\" name=\"state\"\n",
       "           value=\"once\" > Once </input>\n",
       "    <input type=\"radio\" name=\"state\"\n",
       "           value=\"loop\" checked> Loop </input>\n",
       "    <input type=\"radio\" name=\"state\"\n",
       "           value=\"reflect\" > Reflect </input>\n",
       "  </form>\n",
       "</div>\n",
       "\n",
       "\n",
       "<script language=\"javascript\">\n",
       "  /* Instantiate the Animation class. */\n",
       "  /* The IDs given should match those used in the template above. */\n",
       "  (function() {\n",
       "    var img_id = \"_anim_imgadd69af6546d44f59214a442209b8811\";\n",
       "    var slider_id = \"_anim_slideradd69af6546d44f59214a442209b8811\";\n",
       "    var loop_select_id = \"_anim_loop_selectadd69af6546d44f59214a442209b8811\";\n",
       "    var frames = new Array(0);\n",
       "    \n",
       "  frames[0] = \"data:image/png;base64,iVBORw0KGgoAAAANSUhEUgAAAbAAAAEgCAYAAADVKCZpAAAABHNCSVQICAgIfAhkiAAAAAlwSFlz\\\n",
       "AAALEgAACxIB0t1+/AAAADl0RVh0U29mdHdhcmUAbWF0cGxvdGxpYiB2ZXJzaW9uIDIuMi4zLCBo\\\n",
       "dHRwOi8vbWF0cGxvdGxpYi5vcmcvIxREBQAAE1FJREFUeJzt3V1sFGX7x/Hf0EZPgGB9LGy2SAOt\\\n",
       "2FdWutAjiZWsGFOLCgK+JDUlYjgU8OVISmK0xhNI0MSNJjYxwRATyoHYSIJVSTBN0cVAgsFKY1s3\\\n",
       "FaSNhYAt5f4fEPqXR7YPrduZubbfD5mkXbpzX7M7O7/es9dOPeecEwAAxswKugAAAKaCAAMAmESA\\\n",
       "AQBMIsAAACYRYAAAkwgwAIBJBBgAwCQCDABgEgEGADCJAAMAmESAAQBMIsAAACYRYAAAkwgwAIBJ\\\n",
       "BBgAwCQCDABgEgEGADCJAAMAmESAAQBMIsAAACYRYAAAkwgwAIBJBBgAwCQCDABgEgEGADCJAAMA\\\n",
       "mESAAQBMIsAAACYRYAAAkwgwAIBJBBgAwCQCDABgEgEGADCJAAuh9vZ2LV26VCUlJWppaQm6HAAI\\\n",
       "Jc8554IuAv9vbGxM9913nw4fPqyioiKtWLFC+/btU3l5ecb7eJ7nY4XAzMShMnyYgYVMZ2enSkpK\\\n",
       "tHjxYt1xxx3atGmTDh48GHRZABA6BFjI9Pf3a+HChePfFxUVqb+/P8CKACCc8oMuAFOTTCaVTCaD\\\n",
       "LgMAAkOAhUw0GlVvb+/49319fYpGo//4uS1btmjLli2SeA8MwMzEKcSQWbFihc6cOaOzZ89qZGRE\\\n",
       "n376qRoaGoIuCwBChxlYyOTn52vv3r1as2aNxsbG1NTUpIqKiqDLAoDQoY0+B3AKEZh+HCrDh1OI\\\n",
       "AACTCDAAgEkEGADAJAIMAGASAQYAMIkAAwCYRIABAEwiwAAAJhFgAACTCDAAgEkEGADAJAIMAGAS\\\n",
       "AQYAMIkAAwCYRIABAEwiwAAAJhFgAACTCDAAgEkEGADAJAIMAGASAQYAMIkAAwCYRIABAEzKD7oA\\\n",
       "/FNxcbHmzJmjvLw85efnq6urK+iSACB0CLCQ+uqrr/Sf//wn6DIAILQ4hQgAMIkACyHP8/TII4+o\\\n",
       "pqZGyWQy6HIAIJQ4hRhCR48eVTQa1e+//65EIqH7779fq1atuulnkskk4QZgRvOccy7oIpBZc3Oz\\\n",
       "Zs+erR07dmT8Gc/zfKwImJk4VIYPpxBD5tKlSxoeHh7/+ssvv1RlZWXAVc0cboIl2+uztgBhwynE\\\n",
       "kBkYGNCTTz4pSbp69aqeffZZPfroowFXBQDhwynEHMApxOyZ6MUwlUc5l15cM30v41AZPpxCBACY\\\n",
       "RIABAEwiwAAAJhFgAACT6EKEeX69tc5b+EC4MAMDAJhEgAEATCLAAAAmEWAAAJMIMACASXQhIlTo\\\n",
       "9JtI0I9OOC8mle3Lf8EOZmAAAJMIMACASQQYAMAkAgwAYBIBBgAwiQADAJhEGz1CZiqt4hM1S2da\\\n",
       "XzYbrLPX3h70llg007d/JmMGBgAwiQADAJhEgAEATCLAAAAmEWAAAJMIsIA0NTWpsLBQlZWV47dd\\\n",
       "uHBBiURCpaWlSiQSGhwcDLDCYHhTWK7352VaMpnoPpNbplJz5m2Z/GOTXVOt7tYm+6wAk0GABeSF\\\n",
       "F15Qe3v7Tbe1tLRo9erVOnPmjFavXq2WlpaAqgOA8POcc/xCFJCenh7V19fr5MmTkqSlS5eqo6ND\\\n",
       "kUhE6XRaDz30kH766af/uR7Py6VPwkx+dwx6B86lRz/bW5NLn13jUBk+zMBCZGBgQJFIRJK0YMEC\\\n",
       "DQwMBFwRAIQXV+IIKc/zJpxZJZNJJZNJHysCgHBhBhYi8+fPVzqdliSl02kVFhZm/NktW7aoq6tL\\\n",
       "XV1dfpUHAKFCgIVIQ0ODWltbJUmtra1au3ZtwBUBQHjRxBGQZ555Rh0dHTp//rzmz5+vXbt26Ykn\\\n",
       "ntCGDRv066+/atGiRdq/f78KCgr+57pmehMHgn3+J3rGcmrP5FAZOgRYDiDAZjoCzA8cKsOHU4gA\\\n",
       "AJMIMACASQQYAMAkAgwAYBIfZAb+ZioNCdltYrDX9mCvYuQKZmAAAJMIMACASQQYAMAkAgwAYBIB\\\n",
       "BgAwiS5EhMxUetqyd4kfb4LxLf5xRos1A7eLGRgAwCQCDABgEgEGADCJAAMAmESAAQBMIsAAACbR\\\n",
       "Ro8ckM3W+8lfmncqTfx+tbHP9HZ5PkaQ25iBAQBMIsAAACYRYAAAkwgwAIBJBBgAwCQCLCBNTU0q\\\n",
       "LCxUZWXl+G3Nzc2KRqOKxWKKxWI6dOhQgBXin1yGJcg1YSJehgW5gQALyAsvvKD29vZ/3P7yyy8r\\\n",
       "lUoplUrpscceC6AyALCBAAvIqlWrVFBQEHQZAGAWARYye/fuVXV1tZqamjQ4OBh0OQAQWgRYiGzd\\\n",
       "ulXd3d1KpVKKRCLavn17xp9NJpOKx+OKx+M+VggA4eE553jvOCA9PT2qr6/XyZMnJ/V//83zeFt6\\\n",
       "8ia/22e+R/Yef57J8OJQGT7MwEIknU6Pf33gwIGbOhQBADfjYr4BeeaZZ9TR0aHz58+rqKhIu3bt\\\n",
       "UkdHh1KplDzPU3FxsT744IPbWleNpK5b3M5v837J3uV8J38p4andB5nd6vHkRH04cQoxB8Q9jwCb\\\n",
       "tGyeQpyKyT87BJg/MgVYF4fK0OEUIgDAJAIMAGASAQYAMIkAAwCYRBNHDuBzYNmU3ZeDH58dmwh7\\\n",
       "RvZwqAwfZmAAAJMIMACASQQYAMAkAgwAYBIBBgAwiWshAjeZqG9v8l1omS//lGld2e0b9GcUIBjM\\\n",
       "wAAAJhFgAACTCDAAgEkEGADAJAIMAGASAQYAMIk2euC2Tb75PFO7/FT+uvJU0C4/eZn+IjPChxkY\\\n",
       "AMAkAgwAYBIBBgAwiQADAJhEgAEATCLAAtLb26u6ujqVl5eroqJCe/bskSRduHBBiURCpaWlSiQS\\\n",
       "GhwcnJbxXYZlpsv0uEx1ud4H+M/FZVhu/dM3ugl51vxwq8f+eKAVIRPPOccrIADpdFrpdFrLly/X\\\n",
       "8PCwampq1NbWpo8//lgFBQV6/fXX1dLSosHBQb3zzjsTrsvzptLenWFdk15Tbgn6xTDxtfAn/6zN\\\n",
       "9OczmzhUhg8zsIBEIhEtX75ckjRnzhyVlZWpv79fBw8eVGNjoySpsbFRbW1tQZYJAKHFDCwEenp6\\\n",
       "tGrVKp08eVL33nuvhoaGJF3/je+uu+4a/z4TZmDZE/SLgRlYeHGoDB+uxBGwixcvat26ddq9e7fm\\\n",
       "zp170/95npcxnJLJpJLJpB8lAkAoMQML0OjoqOrr67VmzRpt27ZNkrR06VJ1dHQoEokonU7roYce\\\n",
       "0k8//TThepiBZU/QLwZmYOHFoTJ8eA8sIM45bd68WWVlZePhJUkNDQ1qbW2VJLW2tmrt2rVBlQgA\\\n",
       "ocYMLCBHjx7Vgw8+qKqqKs2adf33iLfeeku1tbXasGGDfv31Vy1atEj79+9XQUHBhOuaygxsprC2\\\n",
       "c3tTqpjn3w8cKsOHAMsBBFhm1nZuAiy8OFSGD6cQAQAmEWAAAJMIMACASQQYAMAkPsgMM8L7Fnp4\\\n",
       "KwNyGTMwAIBJBBgAwCQCDABgEgEGADCJAAMAmEQXIqZN7vXm3XqLuJATEAxmYAAAkwgwAIBJBBgA\\\n",
       "wCQCDABgEgEGADCJAAMAmEQbPf41m+3yFlviw10d4DdmYAAAkwgwAIBJBBgAwCQCDABgEgEGADCJ\\\n",
       "AAtIb2+v6urqVF5eroqKCu3Zs0eS1NzcrGg0qlgsplgspkOHDvlal5tgCb6CyS9exkW3XLIv00hT\\\n",
       "WQD8neecs9kFbVw6nVY6ndby5cs1PDysmpoatbW1af/+/Zo9e7Z27Nhx2+vyvOwd3CbaGTKNkt0d\\\n",
       "KLtrC/6wH3wFyA4OleHD58ACEolEFIlEJElz5sxRWVmZ+vv7A64KAOzgFGII9PT06IcfflBtba0k\\\n",
       "ae/evaqurlZTU5MGBwcDrg4AwokAC9jFixe1bt067d69W3PnztXWrVvV3d2tVCqlSCSi7du33/J+\\\n",
       "yWRS8Xhc8Xjc54oBIBx4DyxAo6Ojqq+v15o1a7Rt27Z//H9PT4/q6+t18uTJCdfDe2CZBf8OVPAV\\\n",
       "IDs4VIYPM7CAOOe0efNmlZWV3RRe6XR6/OsDBw6osrIyiPIAIPSYgQXk6NGjevDBB1VVVaVZs67/\\\n",
       "HvHWW29p3759SqVS8jxPxcXF+uCDD8abPTLJ5gxsYpPbVfzascI9xwl3dbh9HCrDhwDLAQRYmIW7\\\n",
       "Otw+DpXhwylEAIBJBBgAwCQCDABgEgEGADCJS0lh2thsX7BZdVhlanvgUUY2MAMDAJhEgAEATCLA\\\n",
       "AAAmEWAAAJMIMACASQQYAMAk2ugxCf78QZXsomE7SDz6mE7MwAAAJhFgAACTCDAAgEkEGADAJAIM\\\n",
       "AGASXYi4yUT9hJk7yug1A+A/ZmAAAJMIMACASQQYAMAkAgwAYBIBBgAwiQALyJUrV7Ry5UotW7ZM\\\n",
       "FRUV2rlzpyTp7Nmzqq2tVUlJiTZu3KiRkRFf6/ImWDD93AT/ANyMAAvInXfeqSNHjujEiRNKpVJq\\\n",
       "b2/Xd999p9dee00vv/yyfv75Z91111366KOPgi4VAEKJAAuI53maPXu2JGl0dFSjo6PyPE9HjhzR\\\n",
       "+vXrJUmNjY1qa2sLskwACC0CLEBjY2OKxWIqLCxUIpHQkiVLNG/ePOXnX/98eVFRkfr7+wOuEgDC\\\n",
       "iQALUF5enlKplPr6+tTZ2anTp0/f9n2TyaTi8bji8fg0VggA4UWAhcC8efNUV1enY8eOaWhoSFev\\\n",
       "XpUk9fX1KRqN3vI+W7ZsUVdXl7q6uvwsFQBCgwALyLlz5zQ0NCRJunz5sg4fPqyysjLV1dXps88+\\\n",
       "kyS1trZq7dq1QZYJAKHlOefozw3Ajz/+qMbGRo2NjenatWvasGGD3njjDf3yyy/atGmTLly4oAce\\\n",
       "eECffPKJ7rzzzgnX5Xk0uQPTjUNl+BBgOYAAA6Yfh8rw4RQiAMAkAgwAYBIBBgAwiQADAJhEgAEA\\\n",
       "TCLAAAAmEWAAAJMIMACASQQYAMAkAgwAYBIBBgAwiQADAJhEgAEATCLAAAAmEWAAAJMIMACASQQY\\\n",
       "AMCk/KALwL939913q7i4WJJ07tw53XPPPYHVwviMn4vj9/T0ZH2d+Pc8x9/JzinxeFxdXV2Mz/iM\\\n",
       "j5zHKUQAgEkEGADApLzm5ubmoItAdtXU1DA+4zM+ch7vgQEATOIUIgDAJAIsR7S3t2vp0qUqKSlR\\\n",
       "S0uL7+MXFxerqqpKsVhM8XjclzGbmppUWFioysrK8dsuXLigRCKh0tJSJRIJDQ4O+jp+c3OzotGo\\\n",
       "YrGYYrGYDh06NC1j9/b2qq6uTuXl5aqoqNCePXsk+bf9mcb3a/uvXLmilStXatmyZaqoqNDOnTsl\\\n",
       "SWfPnlVtba1KSkq0ceNGjYyMTMv4CAkH865eveoWL17suru73V9//eWqq6vdqVOnfK1h0aJF7ty5\\\n",
       "c76O+fXXX7vjx4+7ioqK8dteeeUV9/bbbzvnnHv77bfdq6++6uv4O3fudO++++60jXnDb7/95o4f\\\n",
       "P+6cc+7PP/90paWl7tSpU75tf6bx/dr+a9euueHhYeeccyMjI27lypXu2LFj7umnn3b79u1zzjn3\\\n",
       "0ksvuffff3/aa0FwmIHlgM7OTpWUlGjx4sW64447tGnTJh08eDDosqbdqlWrVFBQcNNtBw8eVGNj\\\n",
       "oySpsbFRbW1tvo7vl0gkouXLl0uS5syZo7KyMvX39/u2/ZnG94vneZo9e7YkaXR0VKOjo/I8T0eO\\\n",
       "HNH69eslTf/zj+ARYDmgv79fCxcuHP++qKjI14OJdP2A8sgjj6impkbJZNLXsf9uYGBAkUhEkrRg\\\n",
       "wQINDAz4XsPevXtVXV2tpqamaT2FeUNPT49++OEH1dbWBrL9fx9f8m/7x8bGFIvFVFhYqEQioSVL\\\n",
       "lmjevHnKz79+gaEgXgfwFwGGrDh69Ki+//57ffHFF3rvvff0zTffBF2SPM+T53m+jrl161Z1d3cr\\\n",
       "lUopEolo+/bt0zrexYsXtW7dOu3evVtz58696f/82P7/Ht/P7c/Ly1MqlVJfX586Ozt1+vTpaRsL\\\n",
       "4USA5YBoNKre3t7x7/v6+hSNRn2vQZIKCwv15JNPqrOz09fxb5g/f77S6bQkKZ1Oq7Cw0Pfx8/Ly\\\n",
       "NGvWLL344ovT+jiMjo5q3bp1eu655/TUU0+Nj+/X9mca36/tv2HevHmqq6vTsWPHNDQ0pKtXr0oK\\\n",
       "5nUAfxFgOWDFihU6c+aMzp49q5GREX366adqaGjwbfxLly5peHh4/Osvv/zyps48PzU0NKi1tVWS\\\n",
       "1NraqrVr1/o6/o3wkKQDBw5M2+PgnNPmzZtVVlambdu2jd/u1/ZnGt+v7T937pyGhoYkSZcvX9bh\\\n",
       "w4dVVlamuro6ffbZZ5KCef7hs6C7SJAdn3/+uSstLXWLFy92b775pq9jd3d3u+rqalddXe3Ky8t9\\\n",
       "G3/Tpk1uwYIFLj8/30WjUffhhx+68+fPu4cfftiVlJS41atXuz/++MPX8Z9//nlXWVnpqqqq3OOP\\\n",
       "P+5+++23aRn722+/dZJcVVWVW7ZsmVu2bJn7/PPPfdv+TOP7tf0nTpxwsVjMVVVVuYqKCrdr1y7n\\\n",
       "3PV9ccWKFW7JkiVu/fr17sqVK9MyPsKBK3EAAEziFCIAwCQCDABgEgEGADCJAAMAmESAAQBMIsAA\\\n",
       "ACYRYAAAkwgwAIBJBBgAwCQCDABgEgEGADCJAAMAmESAAQBMIsAAACYRYAAAkwgwAIBJBBgAwCQC\\\n",
       "DABgEgEGADCJAAMAmPR//tI7LVm6r7cAAAAASUVORK5CYII=\\\n",
       "\"\n",
       "  frames[1] = \"data:image/png;base64,iVBORw0KGgoAAAANSUhEUgAAAbAAAAEgCAYAAADVKCZpAAAABHNCSVQICAgIfAhkiAAAAAlwSFlz\\\n",
       "AAALEgAACxIB0t1+/AAAADl0RVh0U29mdHdhcmUAbWF0cGxvdGxpYiB2ZXJzaW9uIDIuMi4zLCBo\\\n",
       "dHRwOi8vbWF0cGxvdGxpYi5vcmcvIxREBQAAE7RJREFUeJzt3V9sVGX+x/HPoY3eAGEbtzCZGhpo\\\n",
       "ZfuXWTrQK4ldMrLZdIsKi7hrUlMiGy4F/10tJdloN3sDCbuJkzWxySYYYkK5EBtJsCoJm6bKaDDR\\\n",
       "YKWxrZNapGSLkW2pz++C2N+izGhnp+c83+n7RSZpp53zfM+ZmfPhOefbM4FzzgkAAGOWRV0AAACF\\\n",
       "IMAAACYRYAAAkwgwAIBJBBgAwCQCDABgEgEGADCJAAMAmESAAQBMIsAAACYRYAAAkwgwAIBJBBgA\\\n",
       "wCQCDABgEgEGADCJAAMAmESAAQBMIsAAACYRYAAAkwgwAIBJBBgAwCQCDABgEgEGADCJAAMAmESA\\\n",
       "AQBMIsAAACYRYAAAkwgwAIBJBBgAwCQCDABgEgEGADCJAAMAmESAAQBMIsA81N/frw0bNqimpkY9\\\n",
       "PT1RlwMAXgqccy7qIvD/5ubmdN999+nMmTOqqqrS5s2bdfz4cdXX1+d8TBAEIVYILE3sKv3DDMwz\\\n",
       "g4ODqqmp0bp163TXXXdpz549OnXqVNRlAYB3CDDPjI+P6957753/vqqqSuPj4xFWBAB+Ko+6ABQm\\\n",
       "nU4rnU5HXQYARIYA80w8Htfo6Oj892NjY4rH4z/4vX379mnfvn2SOAcGYGniEKJnNm/erEuXLuny\\\n",
       "5cuamZnRq6++qo6OjqjLAorK5bkthfFRHMzAPFNeXq5jx45p+/btmpubU1dXlxoaGqIuCwC8Qxt9\\\n",
       "CeAQIqzJt9MJ49VcyPjsKv3DIUQAgEkEGADAJAIMAGASAQYAMIkuRAChC6vtKFfbBW1PpYEZGADA\\\n",
       "JAIMAGASAQYAMIkAAwCYRIABAEyiCxFAyaLbsLQxAwMAmESAAQBMIsAAACYRYAAAkwgwAIBJBBgA\\\n",
       "wCTa6AHjov50YyAqzMAAACYRYAAAkwgwAIBJBBgAwCQCDABgEl2IHqqurtaKFStUVlam8vJyDQ0N\\\n",
       "RV0SPEanIZYqAsxTb731lu65556oywAAb3EIEQBgEgHmoSAI9OCDD6qlpUXpdDrqcgDASxxC9NC5\\\n",
       "c+cUj8f15ZdfKpVK6Re/+IW2bt162++k02nCDcCSFjjn8l2JBhHr7u7W8uXL9fTTT+f8nSDgND6w\\\n",
       "2NhV+odDiJ75+uuvNT09Pf/1m2++qcbGxtDGd3luiFa+56ZYzxnPPyzhEKJnJiYm9PDDD0uSbt68\\\n",
       "qd///vf69a9/HXFVAOAfDiGWgGIeQuTK5v4q5I260OeM5z83dpX+4RAiAMAkAgwAYBIBBgAwiQAD\\\n",
       "AJhEFyJus9RP1FuU7znL1XaQ6zE8/7CEGRgAwCQCDABgEgEGADCJAAMAmESAAQBMogsRiEAxL0pU\\\n",
       "6EV7F4oORfiGGRgAwCQCDABgEgEGADCJAAMAmESAAQBMIsAAACbRRg/z+JxcYGliBgYAMIkAAwCY\\\n",
       "RIABAEwiwAAAJhFgAACTCLCIdHV1qbKyUo2NjfP3Xb16ValUSrW1tUqlUpqamoqwwmi4Am7Ip5At\\\n",
       "ypaGDQRYRJ544gn19/ffdl9PT4+2bdumS5cuadu2berp6YmoOgDwX+Cc479WERkZGVF7e7suXrwo\\\n",
       "SdqwYYMGBgYUi8WUzWb1wAMP6JNPPvnR5QRB6XzQBS/GYiveFg2W+AeqsKv0DzMwj0xMTCgWi0mS\\\n",
       "1qxZo4mJiYgrAgB/cSUOTwVBkHdmlU6nlU6nQ6wIAPzCDMwjq1evVjablSRls1lVVlbm/N19+/Zp\\\n",
       "aGhIQ0NDYZUHAF4hwDzS0dGh3t5eSVJvb6927NgRcUUA4C+aOCLy2GOPaWBgQFeuXNHq1at1+PBh\\\n",
       "PfTQQ9q9e7c+//xzrV27VidOnFBFRcWPLosmjlLi7xbI/SorndefdOdnIClpiF2ldwiwEkCAlRJ/\\\n",
       "twAB5u9zs1RxCBEAYBIBBgAwiQADAJhEgAEATOIPmWFIISfRczUY2Dsh72+rRL5tufCqcy3N3/VH\\\n",
       "VJiBAQBMIsAAACYRYAAAkwgwAIBJBBgAwCS6EOGVfJ1mhfUNFvMDHXFnxd0yUW/nqMfHT8cMDABg\\\n",
       "EgEGADCJAAMAmESAAQBMIsAAACYRYAAAk2ijR0kLoyW6uJeyLbboKwAWCzMwAIBJBBgAwCQCDABg\\\n",
       "EgEGADCJAAMAmESARaSrq0uVlZVqbGycv6+7u1vxeFyJREKJREKnT5+OsML/nctzy/eTXIKc/5Tz\\\n",
       "Foaox/ehAiAKBFhEnnjiCfX39//g/qeeekqZTEaZTEa/+c1vIqgMAGwgwCKydetWVVRURF0GAJhF\\\n",
       "gHnm2LFjam5uVldXl6ampqIuBwC8RYB5ZP/+/RoeHlYmk1EsFtPBgwdz/m46nVYymVQymQyxQgDw\\\n",
       "R+CcK95H1mJBRkZG1N7erosXLy7oZ98XBH6erM9/iaVcPy1kXZb6S9jP57/UsKv0DzMwj2Sz2fmv\\\n",
       "T548eVuHIgDgdlzMNyKPPfaYBgYGdOXKFVVVVenw4cMaGBhQJpNREASqrq7WSy+9FHWZi6iYs4aF\\\n",
       "L8vlmLUFeZd158f8WPP/T78XwEJwCLEE2DyEGC0CDAvFrtI/HEIEAJhEgAEATCLAAAAmEWAAAJPo\\\n",
       "QsSiKXajQjH/ciz3GLlP1Bd3nIWj8QO4HTMwAIBJBBgAwCQCDABgEgEGADCJAAMAmEQXIswo7tUT\\\n",
       "77y0fF2IAPzCDAwAYBIBBgAwiQADAJhEgAEATCLAAAAmEWAAAJNoowf+SyGfyJz/EcW7BHEhSwrj\\\n",
       "AshAVJiBAQBMIsAAACYRYAAAkwgwAIBJBBgAwCQCLCKjo6Nqa2tTfX29GhoadPToUUnS1atXlUql\\\n",
       "VFtbq1QqpampqR9dVotudZt9/1Zsdxqj1C59m2sdb61nkOOWW65HBHJ3vBW75oVXDNgROOdKbR9k\\\n",
       "QjabVTab1aZNmzQ9Pa2Wlhb19fXplVdeUUVFhZ5//nn19PRoampKf/nLX/IuKxkEGrrD/cXeUS2F\\\n",
       "lux8b4bc61m8t5Ar8tYspecmauwq/cMMLCKxWEybNm2SJK1YsUJ1dXUaHx/XqVOn1NnZKUnq7OxU\\\n",
       "X19flGUCgLcIMA+MjIzowoULam1t1cTEhGKxmCRpzZo1mpiYiLg6APATV+KI2PXr17Vz504dOXJE\\\n",
       "K1euvO1nQRAoCO58ECidTiudTkuSJhe9SgDwD+fAIjQ7O6v29nZt375dBw4ckCRt2LBBAwMDisVi\\\n",
       "ymazeuCBB/TJJ5/kXQ7nwIqHc2DIhV2lfziEGBHnnPbu3au6urr58JKkjo4O9fb2SpJ6e3u1Y8eO\\\n",
       "qEoEAK8xA4vIuXPndP/996upqUnLlt36f8QLL7yg1tZW7d69W59//rnWrl2rEydOqKKiIu+ych1m\\\n",
       "jFphs5loFVJz/jfQwi4AXMgMzNdtWWrYVfqHACsBBFjxEGDIhV2lfziECAAwiQADAJhEgAEATCLA\\\n",
       "AAAm8YfMWJIKOR1f2Cn8O7dYFLKswi72S4sHShczMACASQQYAMAkAgwAYBIBBgAwiQADAJhEF+IS\\\n",
       "FcaV5bkafiFydxoWtv5LY6thaWIGBgAwiQADAJhEgAEATCLAAAAmEWAAAJMIMACASbTRL1EWm6gL\\\n",
       "+0TkqPla3cLb64vZkG/x07rhH2ZgAACTCDAAgEkEGADAJAIMAGASAQYAMIkAi8jo6Kja2tpUX1+v\\\n",
       "hoYGHT16VJLU3d2teDyuRCKhRCKh06dPR1zp4nBFvPlddfEEOW5hLa2Y4+daFh2IWIjAOedrn29J\\\n",
       "y2azymaz2rRpk6anp9XS0qK+vj6dOHFCy5cv19NPP/2TlxUE9t72Nl900VZd3GfZ3msmauwq/cPf\\\n",
       "gUUkFospFotJklasWKG6ujqNj49HXBUA2MEhRA+MjIzowoULam1tlSQdO3ZMzc3N6urq0tTUVMTV\\\n",
       "AYCfCLCIXb9+XTt37tSRI0e0cuVK7d+/X8PDw8pkMorFYjp48OAdH5dOp5VMJpVMJkOuGAD8wDmw\\\n",
       "CM3Ozqq9vV3bt2/XgQMHfvDzkZERtbe36+LFi3mXwzmwsHAObCljV+kfZmARcc5p7969qquruy28\\\n",
       "stns/NcnT55UY2NjFOUBgPeYgUXk3Llzuv/++9XU1KRly279P+KFF17Q8ePHlclkFASBqqur9dJL\\\n",
       "L803e+QS1gystF4o4ayNv/McfyvzFbtK/xBgJYAAKwQBhoVhV+kfDiECAEwiwAAAJhFgAACTCDAA\\\n",
       "gElcSgqG+HkSPfp2iOgrAKLADAwAYBIBBgAwiQADAJhEgAEATCLAAAAmEWAAAJNoo8dPlqtZ23na\\\n",
       "3l4IvxvS/a6uVNzp1cyn7vmJGRgAwCQCDABgEgEGADCJAAMAmESAAQBMogsR5vndm+d3dUtVvr5Z\\\n",
       "njE7mIEBAEwiwAAAJhFgAACTCDAAgEkEGADAJAIsIjdu3NCWLVu0ceNGNTQ06NChQ5Kky5cvq7W1\\\n",
       "VTU1NXr00Uc1MzMTcaWFC0K6Ra941bk8/wDcjgCLyN13362zZ8/qgw8+UCaTUX9/v/71r3/pueee\\\n",
       "01NPPaVPP/1UP/vZz/Tyyy9HXSoAeIkAi0gQBFq+fLkkaXZ2VrOzswqCQGfPntWuXbskSZ2dnerr\\\n",
       "64uyTADwFgEWobm5OSUSCVVWViqVSmn9+vVatWqVystv/X15VVWVxsfHI64SAPxEgEWorKxMmUxG\\\n",
       "Y2NjGhwc1Mcff/yTH5tOp5VMJpVM8klFAJYmAswDq1atUltbm86fP69r167p5s2bkqSxsTHF4/E7\\\n",
       "Pmbfvn0aGhrS0NBQmKUCgDcIsIhMTk7q2rVrkqRvvvlGZ86cUV1dndra2vTaa69Jknp7e7Vjx44o\\\n",
       "ywQAbwXOOfpzI/Dhhx+qs7NTc3Nz+vbbb7V792796U9/0meffaY9e/bo6tWr+uUvf6l//vOfuvvu\\\n",
       "u/MuKwj8aCb/IZ9fWr5us9KS6xVQyNYv5rIKwa7SPwRYCSDACuHrNistBBgWE4cQAQAmEWAAAJMI\\\n",
       "MACASQQYAMCk8qgLQCmjUWKpK+YrgFcTvo8ZGADAJAIMAGASAQYAMIkAAwCYRIABAEwiwAAAJtFG\\\n",
       "DyB0+a4qSLs8fipmYAAAkwgwAIBJBBgAwCQCDABgEgEGADCJT2QuAffcc4+qq6slSZOTk/r5z38e\\\n",
       "WS2Mz/ilOP7IyIiuXLlS9OXif0OAlZhkMqmhoSHGZ3zGR8njECIAwCQCDABgUll3d3d31EWguFpa\\\n",
       "Whif8RkfJY9zYAAAkziECAAwiQArEf39/dqwYYNqamrU09MT+vjV1dVqampSIpFQMpkMZcyuri5V\\\n",
       "VlaqsbFx/r6rV68qlUqptrZWqVRKU1NToY7f3d2teDyuRCKhRCKh06dPL8rYo6OjamtrU319vRoa\\\n",
       "GnT06FFJ4a1/rvHDWv8bN25oy5Yt2rhxoxoaGnTo0CFJ0uXLl9Xa2qqamho9+uijmpmZWZTx4QkH\\\n",
       "827evOnWrVvnhoeH3X/+8x/X3NzsPvroo1BrWLt2rZucnAx1zLffftu99957rqGhYf6+Z555xr34\\\n",
       "4ovOOedefPFF9+yzz4Y6/qFDh9xf//rXRRvzO1988YV77733nHPO/fvf/3a1tbXuo48+Cm39c40f\\\n",
       "1vp/++23bnp62jnn3MzMjNuyZYs7f/68+93vfueOHz/unHPuj3/8o/v73/++6LUgOszASsDg4KBq\\\n",
       "amq0bt063XXXXdqzZ49OnToVdVmLbuvWraqoqLjtvlOnTqmzs1OS1NnZqb6+vlDHD0ssFtOmTZsk\\\n",
       "SStWrFBdXZ3Gx8dDW/9c44clCAItX75ckjQ7O6vZ2VkFQaCzZ89q165dkhb/+Uf0CLASMD4+rnvv\\\n",
       "vXf++6qqqlB3JtKtHcqDDz6olpYWpdPpUMf+bxMTE4rFYpKkNWvWaGJiIvQajh07pubmZnV1dS3q\\\n",
       "IczvjIyM6MKFC2ptbY1k/f97fCm89Z+bm1MikVBlZaVSqZTWr1+vVatWqbz81sccRvE+QLgIMBTF\\\n",
       "uXPn9P777+uNN97Q3/72N73zzjtRl6QgCBQE4X484v79+zU8PKxMJqNYLKaDBw8u6njXr1/Xzp07\\\n",
       "deTIEa1cufK2n4Wx/t8fP8z1LysrUyaT0djYmAYHB/Xxxx8v2ljwEwFWAuLxuEZHR+e/HxsbUzwe\\\n",
       "D70GSaqsrNTDDz+swcHBUMf/zurVq5XNZiVJ2WxWlZWVoY9fVlamZcuW6cknn1zU7TA7O6udO3fq\\\n",
       "D3/4gx555JH58cNa/1zjh7X+31m1apXa2tp0/vx5Xbt2TTdv3pQUzfsA4SLASsDmzZt16dIlXb58\\\n",
       "WTMzM3r11VfV0dER2vhff/21pqen579+8803b+vMC1NHR4d6e3slSb29vdqxY0eo438XHpJ08uTJ\\\n",
       "RdsOzjnt3btXdXV1OnDgwPz9Ya1/rvHDWv/JyUldu3ZNkvTNN9/ozJkzqqurU1tbm1577TVJ0Tz/\\\n",
       "CFnUXSQojtdff93V1ta6devWuT//+c+hjj08POyam5tdc3Ozq6+vD238PXv2uDVr1rjy8nIXj8fd\\\n",
       "P/7xD3flyhX3q1/9ytXU1Lht27a5r776KtTxH3/8cdfY2Oiamprcb3/7W/fFF18sytjvvvuuk+Sa\\\n",
       "mprcxo0b3caNG93rr78e2vrnGj+s9f/ggw9cIpFwTU1NrqGhwR0+fNg5d+u1uHnzZrd+/Xq3a9cu\\\n",
       "d+PGjUUZH37gShwAAJM4hAgAMIkAAwCYRIABAEwiwAAAJhFgAACTCDAAgEkEGADAJAIMAGASAQYA\\\n",
       "MIkAAwCYRIABAEwiwAAAJhFgAACTCDAAgEkEGADAJAIMAGASAQYAMIkAAwCYRIABAEwiwAAAJv0f\\\n",
       "b20tAy6zPCMAAAAASUVORK5CYII=\\\n",
       "\"\n",
       "  frames[2] = \"data:image/png;base64,iVBORw0KGgoAAAANSUhEUgAAAbAAAAEgCAYAAADVKCZpAAAABHNCSVQICAgIfAhkiAAAAAlwSFlz\\\n",
       "AAALEgAACxIB0t1+/AAAADl0RVh0U29mdHdhcmUAbWF0cGxvdGxpYiB2ZXJzaW9uIDIuMi4zLCBo\\\n",
       "dHRwOi8vbWF0cGxvdGxpYi5vcmcvIxREBQAAEvhJREFUeJzt3W9olfX/x/HX5UbeUdHRd3o4K4du\\\n",
       "2f56ctPdSlpyMmLNTFP7A4tJhjfT/t3KCVGL7ihY4KGgQaCI4LyRDQVbJRhj5ikMElsOt3VYmhvN\\\n",
       "yDbn53dD3C/Lc8q1Xdf1Puf5gAu2s+36vK9zzj6vfa7z3nU855wTAADGzAi6AAAAJoMAAwCYRIAB\\\n",
       "AEwiwAAAJhFgAACTCDAAgEkEGADAJAIMAGASAQYAMIkAAwCYRIABAEwiwAAAJhFgAACTCDAAgEkE\\\n",
       "GADAJAIMAGASAQYAMIkAAwCYRIABAEwiwAAAJhFgAACTCDAAgEkEGADAJAIMAGASAQYAMIkAAwCY\\\n",
       "RIABAEwiwAAAJhFgAACTCDAAgEkEGADAJAIMAGASAQYAMIkAC6GOjg4tWbJEJSUlam1tDbocAAgl\\\n",
       "zznngi4C/298fFz33Xefjh07pqKiIi1fvlz79u1TeXl52p/xPM/HCoHcxFQZPqzAQqarq0slJSVa\\\n",
       "tGiR7rrrLm3atEmHDx8OuiwACB0CLGQGBgZ0zz33THxeVFSkgYGBACsCgHDKD7oATE4ikVAikQi6\\\n",
       "DAAIDAEWMtFoVH19fROf9/f3KxqN/u37tmzZoi1btkjiNTAAuYlTiCGzfPlynTt3TufPn9fo6Kj2\\\n",
       "79+vxsbGoMsCQsCl2ZCrWIGFTH5+vvbs2aPVq1drfHxczc3NqqioCLosAAgd2uizAKcQkRvSTVX+\\\n",
       "PP+ZKsOHU4gAAJMIMACASQQYAMAkAgwAYBJdiACMoFkJt2IFBgAwiQADAJhEgAEATCLAAAAmEWAA\\\n",
       "AJPoQgSQtYK9+BSmGyswAIBJBBgAwCQCDABgEgEGADCJAAMAmESAAQBMoo0eQNZK1y6f6b2VabG3\\\n",
       "gxUYAMAkAgwAYBIBBgAwiQADAJhEgAEATKILMYSKi4s1e/Zs5eXlKT8/X93d3UGXBGQVOg2zAwEW\\\n",
       "Up999pnuvvvuoMsAgNDiFCIAwCQCLIQ8z9MjjzyimpoaJRKJoMsBgFDiFGIInThxQtFoVD///LPi\\\n",
       "8bjuv/9+rVy58pbvSSQShBuAnOY55zJdVQUBa2lp0axZs/Tyyy+n/R7P4yVpYLoxVYYPpxBD5rff\\\n",
       "ftPIyMjEx0ePHlVlZWXAVcEvLsM2lfsDsgGnEENmcHBQa9eulSRdu3ZNzzzzjB599NGAqwKA8OEU\\\n",
       "YhbgFGL2mOqrpKfbH8+YO8dUGT6cQgQAmESAAQBMIsAAACYRYAAAk+hCBEJkqpsraNZANmMFBgAw\\\n",
       "iQADAJhEgAEATCLAAAAmEWAAAJMIsCxQIy7YCiD3EGAAAJMIMACASQQYAMAkAgwAYBIBBgAwiQAD\\\n",
       "AJjEOzJnAd6R+c7xTsW4U0yV4cMKDABgEgEGADCJAAMAmESAAQBMIsAAACYRYAFpbm5WYWGhKisr\\\n",
       "J267fPmy4vG4SktLFY/HNTQ0FGCF2c1Ls+W6210UOhsvDp0rx5ntCLCAPP/88+ro6LjlttbWVq1a\\\n",
       "tUrnzp3TqlWr1NraGlB1ABB+/B9YgHp7e9XQ0KAzZ85IkpYsWaLOzk5FIhGlUik99NBDOnv27D/u\\\n",
       "h/8Dw1TJNBlk07NsMsfJVBk+rMBCZHBwUJFIRJK0YMECDQ4OBlwRAIRXftAF4PY8z8u4skokEkok\\\n",
       "Ej5WBADhwgosRObPn69UKiVJSqVSKiwsTPu9W7ZsUXd3t7q7u/0qDwBChQALkcbGRrW1tUmS2tra\\\n",
       "tGbNmoArAoDwookjIE8//bQ6Ozt16dIlzZ8/Xzt37tQTTzyhDRs26MKFC1q4cKEOHDiggoKCf9wX\\\n",
       "TRxIz4/LFudG6wdTZfgQYFmAAEN6BNhUYaoMH04hAgBMIsAAACYRYAAAkwgwAIBJ/CMzcpIfrQ3+\\\n",
       "jURzAXITKzAAgEkEGADAJAIMAGASAQYAMIkAAwCYRBcizJhMr126Xj//LnAU9KWUgh4fmD6swAAA\\\n",
       "JhFgAACTCDAAgEkEGADAJAIMAGASAQYAMIk2epiRriE8U3u9fxftzWXcmwgGKzAAgEkEGADAJAIM\\\n",
       "AGASAQYAMIkAAwCYRIAFpLm5WYWFhaqsrJy4raWlRdFoVLFYTLFYTEeOHPlPY7gMW67LdN/c+X0W\\\n",
       "9D3tZdiA7EWABeT5559XR0fH325/6aWXlEwmlUwm9dhjjwVQGQDYQIAFZOXKlSooKAi6DAAwiwAL\\\n",
       "mT179qi6ulrNzc0aGhoKuhwACC0CLES2bt2qnp4eJZNJRSIRbd++Pe33JhIJ1dbWqra21scKASA8\\\n",
       "POccr+kHpLe3Vw0NDTpz5swdfe2vPO/2L9ZnemCz6eV9P1sl7ryCbLqncxtTZfiwAguRVCo18fGh\\\n",
       "Q4du6VAEANyKi/kG5Omnn1ZnZ6cuXbqkoqIi7dy5U52dnUomk/I8T8XFxdq7d+9/GiNX/vafzHFO\\\n",
       "5m/pyV0YmMsJA9OFU4hZIN0pRKQ3lU96b1J74zGzhqkyfDiFCAAwiQADAJhEgAEATCLAAAAm0YWY\\\n",
       "xfjvpPTSHf/Uv0yf6/c0MH1YgQEATCLAAAAmEWAAAJMIMACASQQYAMAkuhCzGP1vfsl0T3MtRGC6\\\n",
       "sAIDAJhEgAEATCLAAAAmEWAAAJMIMACASQQYAMAk2uiBP5lMQzyAYLACAwCYRIABAEwiwAAAJhFg\\\n",
       "AACTCDAAgEkEWED6+vpUX1+v8vJyVVRUaPfu3ZKky5cvKx6Pq7S0VPF4XENDQwFXipu8NJvLuHm3\\\n",
       "3dLLvLfbb0Bu8pxz/AYEIJVKKZVKadmyZRoZGVFNTY3a29v10UcfqaCgQK+//rpaW1s1NDSkd955\\\n",
       "J+O+PI8rmwdpMr9A6R+xqd0bpg5TZfiwAgtIJBLRsmXLJEmzZ89WWVmZBgYGdPjwYTU1NUmSmpqa\\\n",
       "1N7eHmSZABBarMBCoLe3VytXrtSZM2d07733anh4WNKNv/jmzZs38Xk6rMCCxQosNzBVhg9X4gjY\\\n",
       "lStXtG7dOu3atUtz5sy55Wue56UNp0QioUQi4UeJABBKrMACNDY2poaGBq1evVrbtm2TJC1ZskSd\\\n",
       "nZ2KRCJKpVJ66KGHdPbs2Yz7YQUWLFZguYGpMnx4DSwgzjlt3rxZZWVlE+ElSY2NjWpra5MktbW1\\\n",
       "ac2aNUGVCAChxgosICdOnNCDDz6oqqoqzZhx4++It956S3V1ddqwYYMuXLighQsX6sCBAyooKMi4\\\n",
       "L1Zg4XWnv1yZH0lWZ0FiqgwfAiwLEGDhRYBlD6bK8OEUIgDAJAIMAGASAQYAMIkAAwCYxD8yA9Mo\\\n",
       "XQtFunaAzG0Ct9+bl/Gn0n2N5g7YxwoMAGASAQYAMIkAAwCYRIABAEwiwAAAJtGFiP8s6D63TD14\\\n",
       "Ye21u9PuxMntLdMeg37UgP+OFRgAwCQCDABgEgEGADCJAAMAmESAAQBMIsAAACbRRo//LOjG66DH\\\n",
       "n0qTaYgHchUrMACASQQYAMAkAgwAYBIBBgAwiQADAJhEgAWkr69P9fX1Ki8vV0VFhXbv3i1Jamlp\\\n",
       "UTQaVSwWUywW05EjRwKuFNPBpdky8dJsQK7ynHN05wYglUoplUpp2bJlGhkZUU1Njdrb23XgwAHN\\\n",
       "mjVLL7/88r/el+cxjVnj37Xg7/TXm+dSOkyV4cP/gQUkEokoEolIkmbPnq2ysjINDAwEXBUA2MEp\\\n",
       "xBDo7e3V6dOnVVdXJ0nas2ePqqur1dzcrKGhoYCrA4BwIsACduXKFa1bt067du3SnDlztHXrVvX0\\\n",
       "9CiZTCoSiWj79u23/blEIqHa2lrV1tb6XDEAhAOvgQVobGxMDQ0NWr16tbZt2/a3r/f29qqhoUFn\\\n",
       "zpzJuB9eA7OH18DsYaoMH1ZgAXHOafPmzSorK7slvFKp1MTHhw4dUmVlZRDlAUDosQILyIkTJ/Tg\\\n",
       "gw+qqqpKM2bc+Dvirbfe0r59+5RMJuV5noqLi7V3796JZo90WIHlCv/Wbfg7psrwIcCyAAGWKwiw\\\n",
       "IDFVhg+nEAEAJhFgAACTCDAAgEkEGADAJC4lBfxLwbdQ0KwB/BkrMACASQQYAMAkAgwAYBIBBgAw\\\n",
       "iQADAJhEgAEATKKNHviXaGIHwoUVGADAJAIMAGASAQYAMIkAAwCYRIABAEwiwLJAjW5caPavG6ba\\\n",
       "7e5l7mkgKAQYAMAkAgwAYBIBBgAwiQADAJhEgAEATCLAAnL16lWtWLFCS5cuVUVFhXbs2CFJOn/+\\\n",
       "vOrq6lRSUqKNGzdqdHT0H/d1Sjeu0/fXLWjpevYmuwXvdvdyGO5pIDcRYAGZOXOmjh8/rm+++UbJ\\\n",
       "ZFIdHR366quv9Nprr+mll17SDz/8oHnz5unDDz8MulQACCUCLCCe52nWrFmSpLGxMY2NjcnzPB0/\\\n",
       "flzr16+XJDU1Nam9vT3IMgEgtAiwAI2PjysWi6mwsFDxeFyLFy/W3LlzlZ9/411uioqKNDAwEHCV\\\n",
       "ABBOBFiA8vLylEwm1d/fr66uLn3//ff/+mcTiYRqa2tVW1s7jRUCQHgRYCEwd+5c1dfX6+TJkxoe\\\n",
       "Hta1a9ckSf39/YpGo7f9mS1btqi7u1vd3d1+lgoAoUGABeTixYsaHh6WJP3+++86duyYysrKVF9f\\\n",
       "r4MHD0qS2tratGbNmiDLBIDQ8pxz4ehQzjHffvutmpqaND4+ruvXr2vDhg1644039OOPP2rTpk26\\\n",
       "fPmyHnjgAX388ceaOXNmxn15Xva0cmd6MmbPUcIipsrwIcCyAAEGTD+myvDhFCIAwCQCDABgEgEG\\\n",
       "ADCJAAMAmJQfdAHAn9GoAeDfYgUGADCJAAMAmESAAQBMIsAAACYRYAAAkwgwAIBJtNEDyDlcczM7\\\n",
       "sAIDAJhEgAEATCLAAAAmEWAAAJMIMACASbwjcxa4++67VVxcLEm6ePGi/ve//wVWC+MzfjaO39vb\\\n",
       "q0uXLk35fvHfEGBZpra2Vt3d3YzP+IyPrMcpRACASQQYAMCkvJaWlpagi8DUqqmpYXzGZ3xkPV4D\\\n",
       "AwCYxClEAIBJBFiW6Ojo0JIlS1RSUqLW1lbfxy8uLlZVVZVisZhqa2t9GbO5uVmFhYWqrKycuO3y\\\n",
       "5cuKx+MqLS1VPB7X0NCQr+O3tLQoGo0qFospFovpyJEj0zJ2X1+f6uvrVV5eroqKCu3evVuSf8ef\\\n",
       "bny/jv/q1atasWKFli5dqoqKCu3YsUOSdP78edXV1amkpEQbN27U6OjotIyPkHAw79q1a27RokWu\\\n",
       "p6fH/fHHH666utp99913vtawcOFCd/HiRV/H/Pzzz92pU6dcRUXFxG2vvPKKe/vtt51zzr399tvu\\\n",
       "1Vdf9XX8HTt2uHfffXfaxrzpp59+cqdOnXLOOffrr7+60tJS99133/l2/OnG9+v4r1+/7kZGRpxz\\\n",
       "zo2OjroVK1a4kydPuqeeesrt27fPOefciy++6N5///1prwXBYQWWBbq6ulRSUqJFixbprrvu0qZN\\\n",
       "m3T48OGgy5p2K1euVEFBwS23HT58WE1NTZKkpqYmtbe3+zq+XyKRiJYtWyZJmj17tsrKyjQwMODb\\\n",
       "8acb3y+e52nWrFmSpLGxMY2NjcnzPB0/flzr16+XNP2PP4JHgGWBgYEB3XPPPROfFxUV+TqZSDcm\\\n",
       "lEceeUQ1NTVKJBK+jv1ng4ODikQikqQFCxZocHDQ9xr27Nmj6upqNTc3T+spzJt6e3t1+vRp1dXV\\\n",
       "BXL8fx5f8u/4x8fHFYvFVFhYqHg8rsWLF2vu3LnKz7/xNodB/B7AXwQYpsSJEyf09ddf69NPP9V7\\\n",
       "772nL774IuiS5HmePM/ftyfcunWrenp6lEwmFYlEtH379mkd78qVK1q3bp127dqlOXPm3PI1P47/\\\n",
       "r+P7efx5eXlKJpPq7+9XV1eXvv/++2kbC+FEgGWBaDSqvr6+ic/7+/sVjUZ9r0GSCgsLtXbtWnV1\\\n",
       "dfk6/k3z589XKpWSJKVSKRUWFvo+fl5enmbMmKEXXnhhWu+HsbExrVu3Ts8++6yefPLJifH9Ov50\\\n",
       "4/t1/DfNnTtX9fX1OnnypIaHh3Xt2jVJwfwewF8EWBZYvny5zp07p/Pnz2t0dFT79+9XY2Ojb+P/\\\n",
       "9ttvGhkZmfj46NGjt3Tm+amxsVFtbW2SpLa2Nq1Zs8bX8W+GhyQdOnRo2u4H55w2b96ssrIybdu2\\\n",
       "beJ2v44/3fh+Hf/Fixc1PDwsSfr999917NgxlZWVqb6+XgcPHpQUzOMPnwXdRYKp8cknn7jS0lK3\\\n",
       "aNEi9+abb/o6dk9Pj6uurnbV1dWuvLzct/E3bdrkFixY4PLz8100GnUffPCBu3Tpknv44YddSUmJ\\\n",
       "W7Vqlfvll198Hf+5555zlZWVrqqqyj3++OPup59+mpaxv/zySyfJVVVVuaVLl7qlS5e6Tz75xLfj\\\n",
       "Tze+X8f/zTffuFgs5qqqqlxFRYXbuXOnc+7Gc3H58uVu8eLFbv369e7q1avTMj7CgStxAABM4hQi\\\n",
       "AMAkAgwAYBIBBgAwiQADAJhEgAEATCLAAAAmEWAAAJMIMACASQQYAMAkAgwAYBIBBgAwiQADAJhE\\\n",
       "gAEATCLAAAAmEWAAAJMIMACASQQYAMAkAgwAYBIBBgAwiQADAJj0f7sc7uSH1TDJAAAAAElFTkSu\\\n",
       "QmCC\\\n",
       "\"\n",
       "  frames[3] = \"data:image/png;base64,iVBORw0KGgoAAAANSUhEUgAAAbAAAAEgCAYAAADVKCZpAAAABHNCSVQICAgIfAhkiAAAAAlwSFlz\\\n",
       "AAALEgAACxIB0t1+/AAAADl0RVh0U29mdHdhcmUAbWF0cGxvdGxpYiB2ZXJzaW9uIDIuMi4zLCBo\\\n",
       "dHRwOi8vbWF0cGxvdGxpYi5vcmcvIxREBQAAEzlJREFUeJzt3W9olfX/x/HX5UbdUbFR08NZOXTL\\\n",
       "9teTm+5W0pKTEWtWmtkfWEwyvJn271ZOiFp0R8GCDgUNAkMC541sJNgqwRirjqFQ2HK0rcPS3GhG\\\n",
       "trk+vxvSfvnte/Zt6+y6Pu+z50MObMftfN7XOdc+r32u632uBc45JwAAjFkQdQEAAMwGAQYAMIkA\\\n",
       "AwCYRIABAEwiwAAAJhFgAACTCDAAgEkEGADAJAIMAGASAQYAMIkAAwCYRIABAEwiwAAAJhFgAACT\\\n",
       "CDAAgEkEGADAJAIMAGASAQYAMIkAAwCYRIABAEwiwAAAJhFgAACTCDAAgEkEGADAJAIMAGASAQYA\\\n",
       "MIkAAwCYRIABAEwiwAAAJhFgAACTCDAAgEkEGADAJAIMAGASAeahrq4urVq1SmVlZWpvb4+6HADw\\\n",
       "UuCcc1EXgf83OTmpW2+9VceOHVNJSYnWrl2rgwcPqrKyMuv3BEEQYoXA/MRU6R9WYJ7p6elRWVmZ\\\n",
       "VqxYoeuuu07btm3TkSNHoi4LALxDgHlmaGhIN99889TnJSUlGhoairAiAPBTYdQFYHZSqZRSqVTU\\\n",
       "ZQBAZAgwz8TjcQ0MDEx9Pjg4qHg8/rev27Fjh3bs2CGJc2AA5icOIXpm7dq1Onv2rM6dO6fx8XG9\\\n",
       "9957am5ujrosAPAOKzDPFBYW6sCBA9q4caMmJyfV2tqqqqqqqMsCAO/QRp8HOIQIzD2mSv9wCBEA\\\n",
       "YBIBBgAwiQADAJhEgAEATKILEfNSttPxtMMAdrACAwCYRIABAEwiwAAAJhFgAACTCDAAgEl0IWJe\\\n",
       "otsQsI8VGADAJAIMAGASAQYAMIkAAwCYRIABAEwiwAAAJhFgAACTCDAAgEkEGADAJAIMAGASAQYA\\\n",
       "MIkAAwCYxMV8PVRaWqpFixapoKBAhYWF6u3tjbok5JjLcr/PFxm2WDPyGwHmqY8//lg33nhj1GUA\\\n",
       "gLc4hAgAMIkA81AQBLr77rtVV1enVCoVdTkA4CUOIXroxIkTisfj+umnn5RMJnXbbbdp/fr113xN\\\n",
       "KpUi3ADMa4FzLtu5WXigra1NCxcu1DPPPJP1a4KA0+jWWGyIsFhzLjFV+odDiJ759ddfNTY2NvXx\\\n",
       "Rx99pOrq6oirQq4FWW4+s1gz8huHED0zPDysBx54QJJ05coVPfroo7rnnnsirgoA/MMhxDzAIURg\\\n",
       "7jFV+odDiAAAkwgwAIBJBBgAwCQCDABgEl2IQF7LZeNBtmahsJobaFbCtViBAQBMIsAAACYRYAAA\\\n",
       "kwgwAIBJBBgAwCS6EIF/bL5fSmi+bz98wwoMAGASAQYAMIkAAwCYRIABAEwiwAAAJhFgAACTaKPH\\\n",
       "PEVL+EyFd8leLtqLf4YVGADAJAIMAGASAQYAMIkAAwCYRIABAEwiwCLS2tqq4uJiVVdXT9138eJF\\\n",
       "JZNJlZeXK5lMamRkJMIK4RuXw9tsxgB8Q4BF5IknnlBXV9c197W3t2vDhg06e/asNmzYoPb29oiq\\\n",
       "AwD/Bc45frmKSH9/v5qamnT69GlJ0qpVq9Td3a1YLKZMJqM777xT33777f98nCDgfTMzZ2+3z2XF\\\n",
       "2fYYH54VX98HxlTpH1ZgHhkeHlYsFpMkLVu2TMPDwxFXBAD+4kocngqCYNqVVSqVUiqVCrEiAPAL\\\n",
       "KzCPLF26VJlMRpKUyWRUXFyc9Wt37Nih3t5e9fb2hlUeAHiFAPNIc3OzOjo6JEkdHR3atGlTxBUB\\\n",
       "gL9o4ojII488ou7ubl24cEFLly7V3r17df/992vr1q364YcftHz5ch06dEhFRUX/87Fo4pg5F3G7\\\n",
       "gs9NFGHwtVFjOkyV/iHA8gABNnMEWLQIMOQChxABACYRYAAAkwgwAIBJBBgAwCTeyIy85utp9+jr\\\n",
       "CqeJwl6rBixhBQYAMIkAAwCYRIABAEwiwAAAJhFgAACT6EKEeeF19M2mpy5bdbO5mNR8vwAVcC1W\\\n",
       "YAAAkwgwAIBJBBgAwCQCDABgEgEGADCJAAMAmEQbPeapsC4z62fre1hbP9M3EQAzwQoMAGASAQYA\\\n",
       "MIkAAwCYRIABAEwiwAAAJhFgEWltbVVxcbGqq6un7mtra1M8HlcikVAikdDRo0cjrNCOYJpb9FyW\\\n",
       "W+4ea7rtj/p5iXp85DcCLCJPPPGEurq6/nb/008/rXQ6rXQ6rXvvvTeCygDABgIsIuvXr1dRUVHU\\\n",
       "ZQCAWQSYZw4cOKDa2lq1trZqZGQk6nIAwFsEmEd27typvr4+pdNpxWIx7d69O+vXplIp1dfXq76+\\\n",
       "PsQKAcAfgXOOP+cakf7+fjU1Nen06dMz+r//FAScFs8m+p177iuY3avPPjNTTJX+YQXmkUwmM/Xx\\\n",
       "4cOHr+lQBABci4v5RuSRRx5Rd3e3Lly4oJKSEu3du1fd3d1Kp9MKgkClpaV68803oy7TvJmuM2b3\\\n",
       "O3Y4v5nnds3EZXZhH4cQ8wCHEHNn/gRYtKNYxFTpHw4hAgBMIsAAACYRYAAAkwgwAIBJdCEC/9p0\\\n",
       "jQ+5O/E/m0eaeUvGdKPQ4AG/sAIDAJhEgAEATCLAAAAmEWAAAJMIMACASXQhAn8RTj9heHJ7xUOu\\\n",
       "nwi/sAIDAJhEgAEATCLAAAAmEWAAAJMIMACASQQYAMAk2uiBOZWtxdxiU342XAAY0WAFBgAwiQAD\\\n",
       "AJhEgAEATCLAAAAmEWAAAJMIsIgMDAyosbFRlZWVqqqq0v79+yVJFy9eVDKZVHl5uZLJpEZGRiKu\\\n",
       "FH8Kstxy+2jT3XxlsWbkg8A5l0/9vGZkMhllMhmtWbNGY2NjqqurU2dnp9555x0VFRXphRdeUHt7\\\n",
       "u0ZGRvTqq69O+1hBwEQRpfB+gHI3Um73mPmx/zFV+ocVWERisZjWrFkjSVq0aJEqKio0NDSkI0eO\\\n",
       "qKWlRZLU0tKizs7OKMsEAG+xAvNAf3+/1q9fr9OnT+uWW27R6OiopKu/8d1www1Tn2fDCixarMDm\\\n",
       "x/7HVOkfrsQRsUuXLmnz5s3at2+fFi9efM3/BUGQNZxSqZRSqVQYJQKAl1iBRWhiYkJNTU3auHGj\\\n",
       "du3aJUlatWqVuru7FYvFlMlkdOedd+rbb7+d9nFYgUWLFdj82P+YKv3DObCIOOe0fft2VVRUTIWX\\\n",
       "JDU3N6ujo0OS1NHRoU2bNkVVIgB4jRVYRE6cOKE77rhDNTU1WrDg6u8RL7/8shoaGrR161b98MMP\\\n",
       "Wr58uQ4dOqSioqJpH4sVmL9y+8PFCixKTJX+IcDyAAHmLwIsfzBV+odDiAAAkwgwAIBJBBgAwCQC\\\n",
       "DABgEm9kBuZQkKXxIqx2gGztFbMZf360asASVmAAAJMIMACASQQYAMAkAgwAYBIBBgAwiS5E4F+b\\\n",
       "eU/fbDr6ZtM56HLahwj4hRUYAMAkAgwAYBIBBgAwiQADAJhEgAEATCLAAAAm0UaPecrPNvLZVRXW\\\n",
       "ZXa5nC/8wgoMAGASAQYAMIkAAwCYRIABAEwiwAAAJhFgERkYGFBjY6MqKytVVVWl/fv3S5La2toU\\\n",
       "j8eVSCSUSCR09OjRORnfZbnZlG1rprv5Wdn0giy32VSQbYTs/wDfBM45u/OWYZlMRplMRmvWrNHY\\\n",
       "2Jjq6urU2dmpQ4cOaeHChXrmmWf+8WMFwcwnl2wvus1pyt9dOLeVzf017Amq7Jgq/cP7wCISi8UU\\\n",
       "i8UkSYsWLVJFRYWGhoYirgoA7OAQogf6+/v11VdfqaGhQZJ04MAB1dbWqrW1VSMjIxFXBwB+IsAi\\\n",
       "dunSJW3evFn79u3T4sWLtXPnTvX19SmdTisWi2n37t3/9ftSqZTq6+tVX18fcsUA4AfOgUVoYmJC\\\n",
       "TU1N2rhxo3bt2vW3/+/v71dTU5NOnz497eNwDszfXZhzYPmDqdI/rMAi4pzT9u3bVVFRcU14ZTKZ\\\n",
       "qY8PHz6s6urqKMoDAO+xAovIiRMndMcdd6impkYLFlz9PeLll1/WwYMHlU6nFQSBSktL9eabb041\\\n",
       "e2QzmxVYGKbbsWZX8dzvqrkfwc/Xxs+q/MZU6R8CLA8QYLlDgCEbpkr/cAgRAGASAQYAMIkAAwCY\\\n",
       "RIABAEziUlKYM7luFPD3FHq0LRE0ZGC+YgUGADCJAAMAmESAAQBMIsAAACYRYAAAkwgwAIBJtNHD\\\n",
       "Ky7yZnla4gErWIEBAEwiwAAAJhFgAACTCDAAgEkEGADAJLoQEYnsvYb51YeXX1sD+IUVGADAJAIM\\\n",
       "AGASAQYAMIkAAwCYRIABAEwiwCJy+fJlrVu3TqtXr1ZVVZX27NkjSTp37pwaGhpUVlamhx9+WOPj\\\n",
       "4xFXOntumls+Caa5zdx8edaAf48Ai8j111+v48eP69SpU0qn0+rq6tLnn3+u559/Xk8//bS+++47\\\n",
       "3XDDDXr77bejLhUAvESARSQIAi1cuFCSNDExoYmJCQVBoOPHj2vLli2SpJaWFnV2dkZZJgB4iwCL\\\n",
       "0OTkpBKJhIqLi5VMJrVy5UotWbJEhYVX319eUlKioaGhiKsEAD8RYBEqKChQOp3W4OCgenp69M03\\\n",
       "3/zj702lUqqvr1d9ff0cVggA/iLAPLBkyRI1Njbq5MmTGh0d1ZUrVyRJg4ODisfj//V7duzYod7e\\\n",
       "XvX29oZZKgB4gwCLyPnz5zU6OipJ+u2333Ts2DFVVFSosbFR77//viSpo6NDmzZtirJMAPBW4Jyj\\\n",
       "PzcCX3/9tVpaWjQ5Oak//vhDW7du1Ysvvqjvv/9e27Zt08WLF3X77bfr3Xff1fXXXz/tYwWBn5eM\\\n",
       "9XnH8vMZg8+YKv1DgOUBAmzm/HzG4DOmSv9wCBEAYBIBBgAwiQADAJhEgAEATCqMugDkL58bJbKd\\\n",
       "jve5Zswcr3N+YwUGADCJAAMAmESAAQBMIsAAACYRYAAAkwgwAIBJtNHjGtNd7S2fWo/zaVvmy2s2\\\n",
       "G/N9+/MdKzAAgEkEGADAJAIMAGASAQYAMIkAAwCYxF9kzgM33nijSktLJUnnz5/XTTfdFFktjM/4\\\n",
       "+Th+f3+/Lly4kPPHxb9DgOWZ+vp69fb2Mj7jMz7yHocQAQAmEWAAAJMK2tra2qIuArlVV1fH+IzP\\\n",
       "+Mh7nAMDAJjEIUQAgEkEWJ7o6urSqlWrVFZWpvb29tDHLy0tVU1NjRKJhOrr60MZs7W1VcXFxaqu\\\n",
       "rp667+LFi0omkyovL1cymdTIyEio47e1tSkejyuRSCiRSOjo0aNzMvbAwIAaGxtVWVmpqqoq7d+/\\\n",
       "X1J4259t/LC2//Lly1q3bp1Wr16tqqoq7dmzR5J07tw5NTQ0qKysTA8//LDGx8fnZHx4wsG8K1eu\\\n",
       "uBUrVri+vj73+++/u9raWnfmzJlQa1i+fLk7f/58qGN+8skn7osvvnBVVVVT9z377LPulVdecc45\\\n",
       "98orr7jnnnsu1PH37NnjXnvttTkb808//vij++KLL5xzzv3yyy+uvLzcnTlzJrTtzzZ+WNv/xx9/\\\n",
       "uLGxMeecc+Pj427dunXu5MmT7qGHHnIHDx50zjn31FNPuTfeeGPOa0F0WIHlgZ6eHpWVlWnFihW6\\\n",
       "7rrrtG3bNh05ciTqsubc+vXrVVRUdM19R44cUUtLiySppaVFnZ2doY4fllgspjVr1kiSFi1apIqK\\\n",
       "Cg0NDYW2/dnGD0sQBFq4cKEkaWJiQhMTEwqCQMePH9eWLVskzf3rj+gRYHlgaGhIN99889TnJSUl\\\n",
       "oU4m0tUJ5e6771ZdXZ1SqVSoY//V8PCwYrGYJGnZsmUaHh4OvYYDBw6otrZWra2tc3oI80/9/f36\\\n",
       "6quv1NDQEMn2/3V8Kbztn5ycVCKRUHFxsZLJpFauXKklS5aosPDqnzmM4ucA4SLAkBMnTpzQl19+\\\n",
       "qQ8//FCvv/66Pv3006hLUhAECoJw/6Thzp071dfXp3Q6rVgspt27d8/peJcuXdLmzZu1b98+LV68\\\n",
       "+Jr/C2P7/3P8MLe/oKBA6XRag4OD6unp0TfffDNnY8FPBFgeiMfjGhgYmPp8cHBQ8Xg89Bokqbi4\\\n",
       "WA888IB6enpCHf9PS5cuVSaTkSRlMhkVFxeHPn5BQYEWLFigJ598ck6fh4mJCW3evFmPPfaYHnzw\\\n",
       "wanxw9r+bOOHtf1/WrJkiRobG3Xy5EmNjo7qypUrkqL5OUC4CLA8sHbtWp09e1bnzp3T+Pi43nvv\\\n",
       "PTU3N4c2/q+//qqxsbGpjz/66KNrOvPC1NzcrI6ODklSR0eHNm3aFOr4f4aHJB0+fHjOngfnnLZv\\\n",
       "366Kigrt2rVr6v6wtj/b+GFt//nz5zU6OipJ+u2333Ts2DFVVFSosbFR77//vqRoXn+ELOouEuTG\\\n",
       "Bx984MrLy92KFSvcSy+9FOrYfX19rra21tXW1rrKysrQxt+2bZtbtmyZKywsdPF43L311lvuwoUL\\\n",
       "7q677nJlZWVuw4YN7ueffw51/Mcff9xVV1e7mpoad99997kff/xxTsb+7LPPnCRXU1PjVq9e7Vav\\\n",
       "Xu0++OCD0LY/2/hhbf+pU6dcIpFwNTU1rqqqyu3du9c5d3VfXLt2rVu5cqXbsmWLu3z58pyMDz9w\\\n",
       "JQ4AgEkcQgQAmESAAQBMIsAAACYRYAAAkwgwAIBJBBgAwCQCDABgEgEGADCJAAMAmESAAQBMIsAA\\\n",
       "ACYRYAAAkwgwAIBJBBgAwCQCDABgEgEGADCJAAMAmESAAQBMIsAAACYRYAAAk/4PcznaBfbIPQIA\\\n",
       "AAAASUVORK5CYII=\\\n",
       "\"\n",
       "  frames[4] = \"data:image/png;base64,iVBORw0KGgoAAAANSUhEUgAAAbAAAAEgCAYAAADVKCZpAAAABHNCSVQICAgIfAhkiAAAAAlwSFlz\\\n",
       "AAALEgAACxIB0t1+/AAAADl0RVh0U29mdHdhcmUAbWF0cGxvdGxpYiB2ZXJzaW9uIDIuMi4zLCBo\\\n",
       "dHRwOi8vbWF0cGxvdGxpYi5vcmcvIxREBQAAE69JREFUeJzt3V9sVHX6x/HPoc16AwS7a2EydWmg\\\n",
       "XexfRjrQK4ldMrDZdIsKIqhJTYlsuATU3SspidFu9gYSNGGym2yTTSCEhHIh20iCVUkwTdHRYCLB\\\n",
       "SmNbJhWkzRYjttTv74LYn9XOaGen55xn+n41J2lnOud5zvTM+fR75ttTzznnBACAMYuCbgAAgFwQ\\\n",
       "YAAAkwgwAIBJBBgAwCQCDABgEgEGADCJAAMAmESAAQBMIsAAACYRYAAAkwgwAIBJBBgAwCQCDABg\\\n",
       "EgEGADCJAAMAmESAAQBMIsAAACYRYAAAkwgwAIBJBBgAwCQCDABgEgEGADCJAAMAmESAAQBMIsAA\\\n",
       "ACYRYAAAkwgwAIBJBBgAwCQCDABgEgEGADCJAAMAmESAAQBMIsAAACYRYCHU3d2tNWvWqKKiQh0d\\\n",
       "HUG3AwCh5DnnXNBN4P9NTU3pd7/7nc6dO6eysjKtX79ex48fV3V1dcbHeJ7nY4fATA1Z7rvkQ51s\\\n",
       "NXJ5TCYcKsOnOOgGMFNvb68qKiq0atUqSdLOnTt15syZrAEGBKkvy335/NUqU51sNXJ5DOzgFGLI\\\n",
       "DA8P68EHH5z+uqysTMPDwwF2BADhxAjMqGQyqWQyGXQbABAYAixkotGoBgcHp78eGhpSNBr9yfft\\\n",
       "2bNHe/bskcR7YAAWJk4hhsz69et19epVXbt2TRMTEzpx4oRaWlqCbgvIyMuy+FEn349xsyzZJqog\\\n",
       "OIzAQqa4uFhHjx7Vli1bNDU1pba2NtXU1ATdFgCEDtPoCwCnEIH8me2AGJfUx6EydDiFCAAwiQAD\\\n",
       "AJhEgAEATCLAAAAmMQsRAH6AKVF2MAIDAJhEgAEATCLAAAAmEWAAAJMIMACASQQYAMAkAgwAYBIB\\\n",
       "BgAwiQADAJhEgAEATCLAAAAmEWAAAJMIMACASQQYAMAkAgwAYBIBBgAwiQADAJhEgAEATCoOugH8\\\n",
       "VHl5uZYsWaKioiIVFxerr68v6JYAIHQIsJB6++239Zvf/CboNgAgtDiFCAAwiQALIc/ztHnzZjU0\\\n",
       "NCiZTAbdDgCEEqcQQ+jChQuKRqP68ssvlUgk9NBDD2njxo0zvieZTBJuABY0zznngm4CmbW3t2vx\\\n",
       "4sV64YUXMn6P53k+dgQsTBwqw4dTiCHz9ddfa3x8fPrzt956S7W1tQF3BbucD4tf9YGZOIUYMiMj\\\n",
       "I3r88cclSXfv3tXTTz+tP/zhDwF3BQDhwynEAsApRGTmx8s72/6Xz/rB7uccKsOHU4gAAJMIMACA\\\n",
       "SQQYAMAkAgwAYBKzEIF5Nbc3/rN9d3in6mTuOtM9uW1LftcG+xiBAQBMIsAAACYRYAAAkwgwAIBJ\\\n",
       "BBgAwCRmIQIzBHu5oHDPp5u9u1yeMZuzLRE2jMAAACYRYAAAkwgwAIBJBBgAwCQCDABgEgEGADCJ\\\n",
       "afTAD7gcJnHn98K0+a0018vfuix9Mb0dYcMIDABgEgEGADCJAAMAmESAAQBMIsAAACYRYAFpa2tT\\\n",
       "aWmpamtrp2+7deuWEomEKisrlUgkNDo6GmCHhc1lWPK5rmzLvTl9c1tcDh9z7dnL8pHJ3Lck+wL8\\\n",
       "UgRYQJ577jl1d3fPuK2jo0ObNm3S1atXtWnTJnV0dATUHQCEn+ecC/b/RyxgAwMDam5u1uXLlyVJ\\\n",
       "a9asUU9PjyKRiNLptB599FFduXLlZ9fjefzeOldB7/S5/MSyjajyVYk9KTMOleHDCCxERkZGFIlE\\\n",
       "JEkrVqzQyMhIwB0BQHhxJY6Q8jwv68gqmUwqmUz62BEAhAsjsBBZvny50um0JCmdTqu0tDTj9+7Z\\\n",
       "s0d9fX3q6+vzqz0ACBUCLERaWlrU2dkpSers7NTWrVsD7ggAwotJHAHZtWuXenp6dPPmTS1fvlyH\\\n",
       "Dh3SY489ph07duiLL77QypUrdfLkSZWUlPzsupjEkT9Bvxi8rB3M/nPOZ8/sSZlxqAwfAqwAEGD5\\\n",
       "E/SLgQALLw6V4cMpRACASQQYAMAkAgwAYBIBBgAwiT9kBn4gt0s8+WX2StkutJufCt/XAcKFERgA\\\n",
       "wCQCDABgEgEGADCJAAMAmESAAQBMYhYiFqRMs+1ymWmX7TFBX3xortvJTENYwggMAGASAQYAMIkA\\\n",
       "AwCYRIABAEwiwAAAJhFgAACTmEaPBSms08Vzu5hu5kdlfkxYnwHgl2MEBgAwiQADAJhEgAEATCLA\\\n",
       "AAAmEWAAAJMIsIC0tbWptLRUtbW107e1t7crGo0qFospFovp7NmzAXY4v1yGxWqd/PEyLvndFnvP\\\n",
       "DPBjBFhAnnvuOXV3d//k9n379imVSimVSumPf/xjAJ0BgA0EWEA2btyokpKSoNsAALMIsJA5evSo\\\n",
       "6uvr1dbWptHR0aDbAYDQIsBCZO/everv71cqlVIkEtGBAwcyfm8ymVQ8Hlc8HvexQwAID885xzu3\\\n",
       "ARkYGFBzc7MuX748p/t+zPPsXRYon/8ROQx15lo/n2vL77bY25f8wqEyfBiBhUg6nZ7+/PTp0zNm\\\n",
       "KAIAZuJivgHZtWuXenp6dPPmTZWVlenQoUPq6elRKpWS53kqLy/XsWPHgm5z3vj1e37Q44m51s/+\\\n",
       "O/7sa8v+mLmO2nK7nDAQBE4hFgCLpxAxu/y/GPN52nFh72ccKsOHU4gAAJMIMACASQQYAMAkAgwA\\\n",
       "YBKzEIEQyTZNIrcpBHObuehlrZJLB+Gc+MFcy8LACAwAYBIBBgAwiQADAJhEgAEATCLAAAAmMQux\\\n",
       "gDHTKr+CvrJ9LnXmOm9woewzhbQtCxkjMACASQQYAMAkAgwAYBIBBgAwiQADAJhEgAEATGIafQFj\\\n",
       "qnB+LYTn05uHywkD84URGADAJAIMAGASAQYAMIkAAwCYRIABAEwiwAIyODiopqYmVVdXq6amRkeO\\\n",
       "HJEk3bp1S4lEQpWVlUokEhodHQ24U4SHm3XJ9uHNcQEs8Zxz7LUBSKfTSqfTWrduncbHx9XQ0KCu\\\n",
       "ri7961//UklJif7617+qo6NDo6Oj+tvf/pZ1XZ63ECZ4I9M09vxeQT7f0+gLZ9/kUBk+jMACEolE\\\n",
       "tG7dOknSkiVLVFVVpeHhYZ05c0atra2SpNbWVnV1dQXZJgCEFiOwEBgYGNDGjRt1+fJl/fa3v9XY\\\n",
       "2Jike7/x3X///dNfZ8IIbKFgBBYkDpXhw5U4Anb79m1t27ZNhw8f1tKlS2fc53lexnBKJpNKJpN+\\\n",
       "tAgAocQILECTk5Nqbm7Wli1btH//fknSmjVr1NPTo0gkonQ6rUcffVRXrlzJuh5GYAsFI7AgcagM\\\n",
       "H94DC4hzTrt371ZVVdV0eElSS0uLOjs7JUmdnZ3aunVrUC0CQKgxAgvIhQsX9Mgjj6iurk6LFt37\\\n",
       "PeLVV19VY2OjduzYoS+++EIrV67UyZMnVVJSknVdjMAsmvvLLtMjsv/057ZvuCx95baXFc6+yaEy\\\n",
       "fAiwAkCAWUSAWcOhMnw4hQgAMIkAAwCYRIABAEwiwAAAJvGHzMC8musb/5knPeQyHSLzpIzZ1+Zl\\\n",
       "qZLbJBJg/jACAwCYRIABAEwiwAAAJhFgAACTCDAAgEnMQgRmyN8lnqT8zimc64zCXOrk98r2wPxi\\\n",
       "BAYAMIkAAwCYRIABAEwiwAAAJhFgAACTCDAAgElMo0cB8Ou/G+fymNnvzfafj3OtlI9H8D+HYQkj\\\n",
       "MACASQQYAMAkAgwAYBIBBgAwiQADAJhEgAVkcHBQTU1Nqq6uVk1NjY4cOSJJam9vVzQaVSwWUywW\\\n",
       "09mzZwPutDB5GT6UZXE5LZp1yVYn8+LH8xJkdWBuPOccM2cDkE6nlU6ntW7dOo2Pj6uhoUFdXV06\\\n",
       "efKkFi9erBdeeOEXr8vzFvrhxZ8p6RZfKAt9z8gnDpXhw9+BBSQSiSgSiUiSlixZoqqqKg0PDwfc\\\n",
       "FQDYwSnEEBgYGNCHH36oxsZGSdLRo0dVX1+vtrY2jY6OBtwdAIQTARaw27dva9u2bTp8+LCWLl2q\\\n",
       "vXv3qr+/X6lUSpFIRAcOHJj1cclkUvF4XPF43OeOASAceA8sQJOTk2pubtaWLVu0f//+n9w/MDCg\\\n",
       "5uZmXb58Oet6eA+M98AyWeh7Rj5xqAwfRmABcc5p9+7dqqqqmhFe6XR6+vPTp0+rtrY2iPYAIPQY\\\n",
       "gQXkwoULeuSRR1RXV6dFi+79HvHqq6/q+PHjSqVS8jxP5eXlOnbs2PRkj0wWyggsrDtqtmd/rj3n\\\n",
       "sq6F8dMPHofK8CHACgABFiwCbGHgUBk+nEIEAJhEgAEATCLAAAAmEWAAAJO4lBQWpEwTH7K9TZ/P\\\n",
       "yRK5rIvJGsBMjMAAACYRYAAAkwgwAIBJBBgAwCQCDABgEgEGADCJafQww49p5PmuMdfp+kyVB345\\\n",
       "RmAAAJMIMACASQQYAMAkAgwAYBIBBgAwiVmIwC/EzEEgXBiBAQBMIsAAACYRYAAAkwgwAIBJBBgA\\\n",
       "wCQCLCB37tzRhg0btHbtWtXU1OjgwYOSpGvXrqmxsVEVFRV66qmnNDExEXCnhcnlsHgZlmyPySSf\\\n",
       "6wIWKgIsIPfdd5/Onz+vjz76SKlUSt3d3Xr//ff1l7/8Rfv27dNnn32m+++/X//85z+DbhUAQokA\\\n",
       "C4jneVq8eLEkaXJyUpOTk/I8T+fPn9f27dslSa2trerq6gqyTQAILQIsQFNTU4rFYiotLVUikdDq\\\n",
       "1au1bNkyFRff+/vysrIyDQ8PB9wlAIQTARagoqIipVIpDQ0Nqbe3V59++ukvfmwymVQ8Hlc8Hp/H\\\n",
       "DgEgvAiwEFi2bJmampp08eJFjY2N6e7du5KkoaEhRaPRWR+zZ88e9fX1qa+vz89WASA0CLCA3Lhx\\\n",
       "Q2NjY5Kkb775RufOnVNVVZWampp06tQpSVJnZ6e2bt0aZJsAEFqec44ZugH4+OOP1draqqmpKX33\\\n",
       "3XfasWOHXn75ZX3++efauXOnbt26pYcfflj//ve/dd9992Vdl+dxOVlgvnGoDB8CrAAQYMD841AZ\\\n",
       "PpxCBACYRIABAEwiwAAAJhFgAACTioNuAPhf/dxFcwEUJkZgAACTCDAAgEkEGADAJAIMAGASAQYA\\\n",
       "MIkAAwCYxDR6mMdUeWBhYgQGADCJAAMAmESAAQBMIsAAACYRYAAAk5iFWAB+/etfq7y8XJJ048YN\\\n",
       "PfDAA4H1Qn3qF2L9gYGBvK8T/zvP8X+yC0o8HldfXx/1qU99FDxOIQIATCLAAAAmFbW3t7cH3QTy\\\n",
       "q6GhgfrUpz4KHu+BAQBM4hQiAMAkAqxAdHd3a82aNaqoqFBHR4fv9cvLy1VXV6dYLKZ4PO5Lzba2\\\n",
       "NpWWlqq2tnb6tlu3bimRSKiyslKJREKjo6O+1m9vb1c0GlUsFlMsFtPZs2fnpfbg4KCamppUXV2t\\\n",
       "mpoaHTlyRJJ/25+pvl/bf+fOHW3YsEFr165VTU2NDh48KEm6du2aGhsbVVFRoaeeekoTExPzUh8h\\\n",
       "4WDe3bt33apVq1x/f7/79ttvXX19vfvkk0987WHlypXuxo0bvtZ855133KVLl1xNTc30bS+++KJ7\\\n",
       "7bXXnHPOvfbaa+6ll17ytf7Bgwfd3//+93mr+b3r16+7S5cuOeec++9//+sqKyvdJ5984tv2Z6rv\\\n",
       "1/Z/9913bnx83Dnn3MTEhNuwYYO7ePGie/LJJ93x48edc879+c9/dm+88ca894LgMAIrAL29vaqo\\\n",
       "qNCqVav0q1/9Sjt37tSZM2eCbmvebdy4USUlJTNuO3PmjFpbWyVJra2t6urq8rW+XyKRiNatWydJ\\\n",
       "WrJkiaqqqjQ8POzb9meq7xfP87R48WJJ0uTkpCYnJ+V5ns6fP6/t27dLmv+fP4JHgBWA4eFhPfjg\\\n",
       "g9Nfl5WV+Xowke4dUDZv3qyGhgYlk0lfa//QyMiIIpGIJGnFihUaGRnxvYejR4+qvr5ebW1t83oK\\\n",
       "83sDAwP68MMP1djYGMj2/7C+5N/2T01NKRaLqbS0VIlEQqtXr9ayZctUXHzvAkNBvA7gLwIMeXHh\\\n",
       "wgV98MEH+s9//qPXX39d7777btAtyfM8eZ6//+5y79696u/vVyqVUiQS0YEDB+a13u3bt7Vt2zYd\\\n",
       "PnxYS5cunXGfH9v/4/p+bn9RUZFSqZSGhobU29urTz/9dN5qIZwIsAIQjUY1ODg4/fXQ0JCi0ajv\\\n",
       "PUhSaWmpHn/8cfX29vpa/3vLly9XOp2WJKXTaZWWlvpev6ioSIsWLdLzzz8/r8/D5OSktm3bpmee\\\n",
       "eUZPPPHEdH2/tj9Tfb+2/3vLli1TU1OTLl68qLGxMd29e1dSMK8D+IsAKwDr16/X1atXde3aNU1M\\\n",
       "TOjEiRNqaWnxrf7XX3+t8fHx6c/feuutGTPz/NTS0qLOzk5JUmdnp7Zu3epr/e/DQ5JOnz49b8+D\\\n",
       "c067d+9WVVWV9u/fP327X9ufqb5f23/jxg2NjY1Jkr755hudO3dOVVVVampq0qlTpyQF8/OHz4Ke\\\n",
       "RYL8ePPNN11lZaVbtWqVe+WVV3yt3d/f7+rr6119fb2rrq72rf7OnTvdihUrXHFxsYtGo+4f//iH\\\n",
       "u3nzpvv973/vKioq3KZNm9xXX33la/1nn33W1dbWurq6OvenP/3JXb9+fV5qv/fee06Sq6urc2vX\\\n",
       "rnVr1651b775pm/bn6m+X9v/0UcfuVgs5urq6lxNTY07dOiQc+7evrh+/Xq3evVqt337dnfnzp15\\\n",
       "qY9w4EocAACTOIUIADCJAAMAmESAAQBMIsAAACYRYAAAkwgwAIBJBBgAwCQCDABgEgEGADCJAAMA\\\n",
       "mESAAQBMIsAAACYRYAAAkwgwAIBJBBgAwCQCDABgEgEGADCJAAMAmESAAQBMIsAAACb9H7L9VjFR\\\n",
       "2c9HAAAAAElFTkSuQmCC\\\n",
       "\"\n",
       "  frames[5] = \"data:image/png;base64,iVBORw0KGgoAAAANSUhEUgAAAbAAAAEgCAYAAADVKCZpAAAABHNCSVQICAgIfAhkiAAAAAlwSFlz\\\n",
       "AAALEgAACxIB0t1+/AAAADl0RVh0U29mdHdhcmUAbWF0cGxvdGxpYiB2ZXJzaW9uIDIuMi4zLCBo\\\n",
       "dHRwOi8vbWF0cGxvdGxpYi5vcmcvIxREBQAAE7FJREFUeJzt3V1sFGUbxvFraKMnQLBqYbNVGmjF\\\n",
       "frLSQo8kVrJiTC0qCPiRlJSI4VDw60hKYrTGE0jQxI0mNjHBEBPKgdhIglVJME3RxWCiwUpDWzcV\\\n",
       "pI3FiC31eQ+IfV+U3Zcu25m5t/9fMkm77c5zT3dnrj6z9856zjknAACMmRN0AQAAZIMAAwCYRIAB\\\n",
       "AEwiwAAAJhFgAACTCDAAgEkEGADAJAIMAGASAQYAMIkAAwCYRIABAEwiwAAAJhFgAACTCDAAgEkE\\\n",
       "GADAJAIMAGASAQYAMIkAAwCYRIABAEwiwAAAJhFgAACTCDAAgEkEGADAJAIMAGASAQYAMIkAAwCY\\\n",
       "RIABAEwiwAAAJhFgAACTCDAAgEkEGADAJAIMAGASAQYAMIkAC6Guri4tW7ZMZWVlam9vD7ocAAgl\\\n",
       "zznngi4C/zU5Oam77rpLR44cUUlJiVauXKn9+/ersrIy7X08z/OxwvxWl+FnJ3yrAmHEoTJ8CoMu\\\n",
       "AFfr6elRWVmZlixZIknavHmzDh06lDHAkDu9GX7GvwlAuHAKMWSGhoZ0xx13TH1fUlKioaGhACsC\\\n",
       "gHBiBmZUIpFQIpEIugwACAwBFjLRaFQDAwNT3w8ODioajf7r97Zt26Zt27ZJ4jUwALMTpxBDZuXK\\\n",
       "lTp9+rTOnDmj8fFxffjhh2pubg66rFnDy7BY5NIsQD5gBhYyhYWF2rdvn9auXavJyUm1traqqqoq\\\n",
       "6LIAIHRoo88DnEJEOul2bp4x08ehMnw4hQgAMIkAAwCYRIABAEwiwAAAJhFgeaBOtErj2vLpLQHA\\\n",
       "PxFgAACTCDAAgEkEGADAJAIMAGASAQYAMIlLSeWBbC4lxSWGgOnhUBk+zMAAACYRYAAAkwgwAIBJ\\\n",
       "BBgAwCQCDABgEgEGADCpMOgCEIyg2+Vp4wdwo5iBAQBMIsAAACYRYAAAkwgwAIBJBBgAwCS6EEOo\\\n",
       "tLRU8+bNU0FBgQoLC9Xb2xt0STlHtyFyJdMldnme5TcCLKQ+++wz3XbbbUGXAQChxSlEAIBJBFgI\\\n",
       "eZ6nBx54QHV1dUokEkGXAwChxCnEEDp27Jii0ah++eUXxeNx3X333Vq9evVVv5NIJAg3ALMan8gc\\\n",
       "cm1tbZo7d66ef/75tL+TzScyA/nCryYODpXhwynEkPn99981NjY29fWnn36q6urqgKtCuLkslumv\\\n",
       "KbvxZ7riKyGVbkF+4xRiyAwPD+vRRx+VJF2+fFlPPvmkHnzwwYCrAoDw4RRiHuAU4myXzS587edM\\\n",
       "dqfjpn+v3FXsHw6V4cMpRACASQQYAMAkAgwAYBIBBgAwiS5E4Lrl8kX8dC0J4b00rUtTW6aq0t0n\\\n",
       "m23J3ZqQL5iBAQBMIsAAACYRYAAAkwgwAIBJBBgAwCS6EJHn/Lj8T+Y+vCDHz+3o0+/3y6bXMnej\\\n",
       "I98xAwMAmESAAQBMIsAAACYRYAAAkwgwAIBJBBgAwCTa6IEblrtmdZfDVvVcy+U4tMQjF5iBAQBM\\\n",
       "IsAAACYRYAAAkwgwAIBJBBgAwCQCLCCtra0qLi5WdXX11G0XLlxQPB5XeXm54vG4RkZGAqwwfFya\\\n",
       "JTMvzeLP+Onuk9225LLq3FXg7/YA/0WABWTLli3q6uq66rb29natWbNGp0+f1po1a9Te3h5QdQAQ\\\n",
       "fp5zjn+UAtLf36+mpiadOnVKkrRs2TJ1d3crEokolUrpvvvu0w8//PB/1+N5s+NdNemeqNnPp2Z+\\\n",
       "/PSj5O4xyzz+dLcz/dqy+WiUfHpmcqgMH2ZgITI8PKxIJCJJWrRokYaHhwOuCADCiytxhJTneRln\\\n",
       "VolEQolEwseKACBcmIGFyMKFC5VKpSRJqVRKxcXFaX9327Zt6u3tVW9vr1/lAUCoEGAh0tzcrI6O\\\n",
       "DklSR0eH1q1bF3BFABBeNHEE5IknnlB3d7fOnz+vhQsXavfu3XrkkUe0ceNGnT17VosXL9aBAwdU\\\n",
       "VFT0f9c1W5o4gpfLi/amM/2WEC+vWiXCi0Nl+BBgeYAA8wsBNptxqAwfTiECAEwiwAAAJhFgAACT\\\n",
       "CDAAgEm8kRm4btlcTMmP8dPL5eW3cnspL+DGMQMDAJhEgAEATCLAAAAmEWAAAJMIMACASXQhAtft\\\n",
       "2n14uf1Ax9yuzcth7yDdhggbZmAAAJMIMACASQQYAMAkAgwAYBIBBgAwiQADAJhEGz1w3a7dSJ65\\\n",
       "vTzdpyhP57czy3yf6TW/0yoPS5iBAQBMIsAAACYRYAAAkwgwAIBJBBgAwCQCLCCtra0qLi5WdXX1\\\n",
       "1G1tbW2KRqOKxWKKxWI6fPhwgBXin1yaJZe8DEtuK/Bja4CZRYAFZMuWLerq6vrX7c8995ySyaSS\\\n",
       "yaQeeuihACoDABsIsICsXr1aRUVFQZcBAGYRYCGzb98+1dbWqrW1VSMjI0GXAwChRYCFyPbt29XX\\\n",
       "16dkMqlIJKKdO3em/d1EIqH6+nrV19f7WCEAhIfnnOOV24D09/erqalJp06dmtbP/snzuACQH7L7\\\n",
       "bOPc7V7p15TN45/uElc8l9LhUBk+zMBCJJVKTX198ODBqzoUAQBX42K+AXniiSfU3d2t8+fPq6Sk\\\n",
       "RLt371Z3d7eSyaQ8z1NpaaneeeedoMvEDZvujGb6/+V7Ge4z3Vlb5tFzN2vLNA5zQFwvTiHmAU4h\\\n",
       "+iO7U4i5GiW78cN62tFigHGoDB9OIQIATCLAAAAmEWAAAJMIMACASXQhAtfJn+aC9KNk6jac7tpc\\\n",
       "DltSsmnICGujBmxhBgYAMIkAAwCYRIABAEwiwAAAJhFgAACT6EIEbpB/l0VK31OYuzWF9yJP/lzK\\\n",
       "C5YwAwMAmESAAQBMIsAAACYRYAAAkwgwAIBJBBgAwCTa6IEblF9t3Ln7pObs1zfTa0K+YAYGADCJ\\\n",
       "AAMAmESAAQBMIsAAACYRYAAAkwiwgAwMDKixsVGVlZWqqqrS3r17JUkXLlxQPB5XeXm54vG4RkZG\\\n",
       "Aq4UM8PlcMmGl2bJ5broG8TM8pxz2e4BuAGpVEqpVEorVqzQ2NiY6urq1NnZqffff19FRUV6+eWX\\\n",
       "1d7erpGREb3xxhsZ1+V5HCjsCXq3u/ZzJtdV5dMzk0Nl+DADC0gkEtGKFSskSfPmzVNFRYWGhoZ0\\\n",
       "6NAhtbS0SJJaWlrU2dkZZJkAEFrMwEKgv79fq1ev1qlTp3TnnXdqdHRU0pX/+G655Zap79NhBmZR\\\n",
       "0LsdM7Dp4lAZPlyJI2AXL17U+vXrtWfPHs2fP/+qn3melzacEomEEomEHyUCQCgxAwvQxMSEmpqa\\\n",
       "tHbtWu3YsUOStGzZMnV3dysSiSiVSum+++7TDz/8kHE9zMAsCnq3YwY2XRwqw4fXwALinNPWrVtV\\\n",
       "UVExFV6S1NzcrI6ODklSR0eH1q1bF1SJABBqzMACcuzYMd17772qqanRnDlX/o947bXX1NDQoI0b\\\n",
       "N+rs2bNavHixDhw4oKKioozrYgYWZtfevdLtdNk9kunvFfTOnU/PTA6V4UOA5QECLMwIsHzBoTJ8\\\n",
       "OIUIADCJAAMAmESAAQBMIsAAACbxRmbgKv68UJ++uSHYhox8arpA/mMGBgAwiQADAJhEgAEATCLA\\\n",
       "AAAmEWAAAJPoQkQeCPMlfvy56vt0ZdNtmNvLXwE3jhkYAMAkAgwAYBIBBgAwiQADAJhEgAEATCLA\\\n",
       "AAAm0UYPQ8LZfB7OquyOA1wvZmAAAJMIMACASQQYAMAkAgwAYBIBBgAwiQALyMDAgBobG1VZWamq\\\n",
       "qirt3btXktTW1qZoNKpYLKZYLKbDhw8HXKnfXIYlm3t401pcxmU6VWVnetXSGYjZzXPOBd0FPCul\\\n",
       "UimlUimtWLFCY2NjqqurU2dnpw4cOKC5c+fq+eefv+51eV4+Hcam/3TMdA9vmof4oHeGfHok8w2H\\\n",
       "yvDhfWABiUQiikQikqR58+apoqJCQ0NDAVcFAHZwCjEE+vv79c0336ihoUGStG/fPtXW1qq1tVUj\\\n",
       "IyMBVwcA4USABezixYtav3699uzZo/nz52v79u3q6+tTMplUJBLRzp07r3m/RCKh+vp61dfX+1wx\\\n",
       "AIQDr4EFaGJiQk1NTVq7dq127Njxr5/39/erqalJp06dyrgeXgNLj9fAkCscKsOHGVhAnHPaunWr\\\n",
       "KioqrgqvVCo19fXBgwdVXV0dRHkAEHrMwAJy7Ngx3XvvvaqpqdGcOVf+j3jttde0f/9+JZNJeZ6n\\\n",
       "0tJSvfPOO1PNHunk1wwsk3RPVX+2P5sdZbY8MrMBh8rwIcDyAAFGgGHmcagMH04hAgBMIsAAACYR\\\n",
       "YAAAkwgwAIBJXEoKhgTbEhHWhozM74MD8hczMACASQQYAMAkAgwAYBIBBgAwiQADAJhEgAEATKKN\\\n",
       "HgiRbFriaZXHbMUMDABgEgEGADCJAAMAmESAAQBMIsAAACbRhYhZKdjPdk4v6PEBS5iBAQBMIsAA\\\n",
       "ACYRYAAAkwgwAIBJBBgAwCQCLCCXLl3SqlWrtHz5clVVVWnXrl2SpDNnzqihoUFlZWXatGmTxsfH\\\n",
       "A67UXy7DkktemgWAHQRYQG6++WYdPXpUJ0+eVDKZVFdXl7766iu99NJLeu655/Tjjz/qlltu0Xvv\\\n",
       "vRd0qQAQSgRYQDzP09y5cyVJExMTmpiYkOd5Onr0qDZs2CBJamlpUWdnZ5BlAkBoEWABmpycVCwW\\\n",
       "U3FxseLxuJYuXaoFCxaosPDK+8tLSko0NDQUcJUAEE4EWIAKCgqUTCY1ODionp4eff/999d930Qi\\\n",
       "ofr6etXX189ghQAQXgRYCCxYsECNjY06fvy4RkdHdfnyZUnS4OCgotHoNe+zbds29fb2qre3189S\\\n",
       "ASA0CLCAnDt3TqOjo5KkP/74Q0eOHFFFRYUaGxv10UcfSZI6Ojq0bt26IMsEgNDynHO57lDGdfj2\\\n",
       "22/V0tKiyclJ/fXXX9q4caNeeeUV/fTTT9q8ebMuXLige+65Rx988IFuvvnmjOvyPBrAgZnGoTJ8\\\n",
       "CLA8QIABM49DZfhwChEAYBIBBgAwiQADAJhEgAEATCLAAAAmEWAAAJMIMACASQQYAMAkAgwAYBIB\\\n",
       "BgAwiQADAJhEgAEATCLAAAAmEWAAAJMIMACASQQYAMAkAgwAYFJh0AXgxt16660qLS2VJJ07d063\\\n",
       "3357YLUwPuPn4/j9/f05XydunOf4nOy8Ul9fr97eXsZnfMZH3uMUIgDAJAIMAGBSQVtbW1vQRSC3\\\n",
       "6urqGJ/xGR95j9fAAAAmcQoRAGASAZYnurq6tGzZMpWVlam9vd338UtLS1VTU6NYLKb6+npfxmxt\\\n",
       "bVVxcbGqq6unbrtw4YLi8bjKy8sVj8c1MjLi6/htbW2KRqOKxWKKxWI6fPjwjIw9MDCgxsZGVVZW\\\n",
       "qqqqSnv37pXk3/anG9+v7b906ZJWrVql5cuXq6qqSrt27ZIknTlzRg0NDSorK9OmTZs0Pj4+I+Mj\\\n",
       "JBzMu3z5sluyZInr6+tzf/75p6utrXXfffedrzUsXrzYnTt3ztcxP//8c3fixAlXVVU1ddsLL7zg\\\n",
       "Xn/9deecc6+//rp78cUXfR1/165d7s0335yxMf/2888/uxMnTjjnnPvtt99ceXm5++6773zb/nTj\\\n",
       "+7X9f/31lxsbG3POOTc+Pu5WrVrljh8/7h5//HG3f/9+55xzzz77rHv77bdnvBYEhxlYHujp6VFZ\\\n",
       "WZmWLFmim266SZs3b9ahQ4eCLmvGrV69WkVFRVfddujQIbW0tEiSWlpa1NnZ6ev4folEIlqxYoUk\\\n",
       "ad68eaqoqNDQ0JBv259ufL94nqe5c+dKkiYmJjQxMSHP83T06FFt2LBB0sw//ggeAZYHhoaGdMcd\\\n",
       "d0x9X1JS4uvBRLpyQHnggQdUV1enRCLh69j/a3h4WJFIRJK0aNEiDQ8P+17Dvn37VFtbq9bW1hk9\\\n",
       "hfm3/v5+ffPNN2poaAhk+/93fMm/7Z+cnFQsFlNxcbHi8biWLl2qBQsWqLDwygWGgtgP4C8CDDlx\\\n",
       "7Ngxff311/rkk0/01ltv6Ysvvgi6JHmeJ8/zfB1z+/bt6uvrUzKZVCQS0c6dO2d0vIsXL2r9+vXa\\\n",
       "s2eP5s+ff9XP/Nj+f47v5/YXFBQomUxqcHBQPT09+v7772dsLIQTAZYHotGoBgYGpr4fHBxUNBr1\\\n",
       "vQZJKi4u1qOPPqqenh5fx//bwoULlUqlJEmpVErFxcW+j19QUKA5c+bomWeemdG/w8TEhNavX6+n\\\n",
       "nnpKjz322NT4fm1/uvH92v6/LViwQI2NjTp+/LhGR0d1+fJlScHsB/AXAZYHVq5cqdOnT+vMmTMa\\\n",
       "Hx/Xhx9+qObmZt/G//333zU2Njb19aeffnpVZ56fmpub1dHRIUnq6OjQunXrfB3/7/CQpIMHD87Y\\\n",
       "38E5p61bt6qiokI7duyYut2v7U83vl/bf+7cOY2OjkqS/vjjDx05ckQVFRVqbGzURx99JCmYxx8+\\\n",
       "C7qLBLnx8ccfu/LycrdkyRL36quv+jp2X1+fq62tdbW1ta6ystK38Tdv3uwWLVrkCgsLXTQade++\\\n",
       "+647f/68u//++11ZWZlbs2aN+/XXX30d/+mnn3bV1dWupqbGPfzww+7nn3+ekbG//PJLJ8nV1NS4\\\n",
       "5cuXu+XLl7uPP/7Yt+1PN75f23/y5EkXi8VcTU2Nq6qqcrt373bOXXkurly50i1dutRt2LDBXbp0\\\n",
       "aUbGRzhwJQ4AgEmcQgQAmESAAQBMIsAAACYRYAAAkwgwAIBJBBgAwCQCDABgEgEGADCJAAMAmESA\\\n",
       "AQBMIsAAACYRYAAAkwgwAIBJBBgAwCQCDABgEgEGADCJAAMAmESAAQBMIsAAACYRYAAAk/4DUiE5\\\n",
       "c/B8KbAAAAAASUVORK5CYII=\\\n",
       "\"\n",
       "  frames[6] = \"data:image/png;base64,iVBORw0KGgoAAAANSUhEUgAAAbAAAAEgCAYAAADVKCZpAAAABHNCSVQICAgIfAhkiAAAAAlwSFlz\\\n",
       "AAALEgAACxIB0t1+/AAAADl0RVh0U29mdHdhcmUAbWF0cGxvdGxpYiB2ZXJzaW9uIDIuMi4zLCBo\\\n",
       "dHRwOi8vbWF0cGxvdGxpYi5vcmcvIxREBQAAEzVJREFUeJzt3V9sU/X/x/HXYQveAMGpg6ZTFtjE\\\n",
       "/aWywa4gTFIxZg4RRPyTzIyI4VLAP1cyEoMz3kCCJjaauMQEQ0wYF+IiCU4lwSxDq8FEg5PFbTYT\\\n",
       "ZIvDgBvz87sg7vdFab9u3/ac8+6eD9JkK+t5v097el79nH566jnnnAAAMGZO0A0AADATBBgAwCQC\\\n",
       "DABgEgEGADCJAAMAmESAAQBMIsAAACYRYAAAkwgwAIBJBBgAwCQCDABgEgEGADCJAAMAmESAAQBM\\\n",
       "IsAAACYRYAAAkwgwAIBJBBgAwCQCDABgEgEGADCJAAMAmESAAQBMIsAAACYRYAAAkwgwAIBJBBgA\\\n",
       "wCQCDABgEgEGADCJAAMAmESAAQBMIsAAACYRYAAAkwgwAIBJBFgIdXV1afny5SorK1N7e3vQ7QBA\\\n",
       "KHnOORd0E/h/k5OTuvvuu3XixAmVlJRo1apVOnz4sCorK9PexvM8HzsEZid2leHDCCxkenp6VFZW\\\n",
       "pqVLl2ru3Lnatm2bjh07FnRbABA6BFjIDA0N6c4775z6vaSkRENDQwF2BADhVBh0A5iZRCKhRCIR\\\n",
       "dBsAEBgCLGSi0agGBgamfh8cHFQ0Gv3H3+3YsUM7duyQxHtgAGYnDiGGzKpVq3Tu3DmdP39e4+Pj\\\n",
       "ev/999Xc3Bx0WwAQOozAQqawsFCHDh3Shg0bNDk5qdbWVlVVVQXdFgCEDtPo8wCHEIHcY1cZPhxC\\\n",
       "BACYRIABAEwiwAAAJhFgAACTmIUIwLRMUyuY3pTfGIEBAEwiwAAAJhFgAACTCDAAgEkEGADAJGYh\\\n",
       "AjCNmYazFyMwAIBJBBgAwCQCDABgEgEGADCJAAMAmESAAQBMIsAAACYRYAAAkwgwAIBJBBgAwCQC\\\n",
       "DABgEgEGADCJk/mGUGlpqebPn6+CggIVFhaqt7c36JYAIHQIsJD65JNPdPvttwfdBgCEFocQAQAm\\\n",
       "EWAh5Hme7r//ftXV1SmRSATdDgCEEocQQ+jUqVOKRqP65ZdfFI/Hdc8992jt2rU3/E0ikSDcAMxq\\\n",
       "nnPOBd0E0mtra9O8efO0Z8+etH/jeXwnLZBr7CrDh0OIIfP7779rbGxs6uePP/5Y1dXVAXeF7HNZ\\\n",
       "u2T6l836mar4cQH+jkOIITM8PKxNmzZJkq5du6YnnnhCDzzwQMBdAUD4cAgxD3AI0aLsPe0yLclT\\\n",
       "um1j+vXT38Kf7S/orZxdZfhwCBEAYBIBBgAwiQADAJhEgAEATGIWIvLAbH9zPf30hsxT6cMp6Mka\\\n",
       "sIMRGADAJAIMAGASAQYAMIkAAwCYRIABAExiFiJCxt6sucymN6cu+2vPnD7kL0ZgAACTCDAAgEkE\\\n",
       "GADAJAIMAGASAQYAMIkAAwCYxDR64F8K+huJ/ZBpTdKtf/6sPaxhBAYAMIkAAwCYRIABAEwiwAAA\\\n",
       "JhFgAACTCLCAtLa2qri4WNXV1VPXXbp0SfF4XOXl5YrH4xoZGfG9L5fh4g8vwyX/hXntw9oXZi8C\\\n",
       "LCBPP/20urq6briuvb1d69ev17lz57R+/Xq1t7cH1B0AhJ/nnMu3768wo7+/X01NTTp79qwkafny\\\n",
       "5eru7lYkElEqldK6dev0/fff/9fleF72Xgdn2hiCf7Ud7Kbqx+fAZvI5rGwK/jEOL3aV4cMILESG\\\n",
       "h4cViUQkSYsXL9bw8HDAHQFAeHEmjpDyPC/jyCqRSCiRSPjYEQCECyOwEFm0aJFSqZQkKZVKqbi4\\\n",
       "OO3f7tixQ729vert7fWrPQAIFQIsRJqbm9XR0SFJ6ujo0MaNGwPuCADCi0kcAXn88cfV3d2tixcv\\\n",
       "atGiRdq3b58efvhhbd26VT/99JOWLFmiI0eOqKio6L8ua/ZM4piJ6W3eM3sy+DOJI5s4Me/0sasM\\\n",
       "HwIsDxBgmRBgN0OATR+7yvDhECIAwCQCDABgEgEGADCJAAMAmMQHmXGD/HsTP90a3fwN+Zmdysne\\\n",
       "1JdwduUfe48YboYRGADAJAIMAGASAQYAMIkAAwCYRIABAExiFmIeY6aVPdl+zDhl1M3N9vXPF4zA\\\n",
       "AAAmEWAAAJMIMACASQQYAMAkAgwAYBIBBgAwiWn0eYypwplM7yS/mW6RicviRPaZLIltAPmMERgA\\\n",
       "wCQCDABgEgEGADCJAAMAmESAAQBMIsAC0traquLiYlVXV09d19bWpmg0qlgsplgspuPHjwfY4Wzl\\\n",
       "Zbhkb2nX5xTe7DJ96ZY0k6Vlc1lArhFgAXn66afV1dX1j+ufe+45JZNJJZNJPfjggwF0BgA2EGAB\\\n",
       "Wbt2rYqKioJuAwDMIsBC5tChQ6qtrVVra6tGRkaCbgcAQosAC5GdO3eqr69PyWRSkUhEu3fvTvu3\\\n",
       "iURC9fX1qq+v97FDAAgPzznH+7MB6e/vV1NTk86ePTut//s7z+OEQf7I3lMluyesSm+6S+NbvNNj\\\n",
       "Vxk+jMBCJJVKTf189OjRG2YoAgBuxMl8A/L444+ru7tbFy9eVElJifbt26fu7m4lk0l5nqfS0lK9\\\n",
       "9dZbvvfFK3B/pD+V8Exe5ad/ZKa7NB5jWMIhxDyQzUOIBFgmuX+qzKxC9h4ZHuP02FWGD4cQAQAm\\\n",
       "EWAAAJMIMACASQQYAMAkZiHiBryJn8lM7p3pvfE/swrZm3rDJB5YwggMAGASAQYAMIkAAwCYRIAB\\\n",
       "AEwiwAAAJjELEcip9Gc99Ee6OswphH2MwAAAJhFgAACTCDAAgEkEGADAJAIMAGASAQYAMIlp9HmM\\\n",
       "E7OGQdDf4pv7b+tmW0JQGIEBAEwiwAAAJhFgAACTCDAAgEkEGADAJAIsIAMDA2psbFRlZaWqqqp0\\\n",
       "8OBBSdKlS5cUj8dVXl6ueDyukZGRGdfwMlyQjsvyJfed8UhjtvKcc0HP852VUqmUUqmUVq5cqbGx\\\n",
       "MdXV1amzs1PvvvuuioqK9NJLL6m9vV0jIyN67bXXMi7L89hRZU94nw7pOwv28Z8tWx+7yvBhBBaQ\\\n",
       "SCSilStXSpLmz5+viooKDQ0N6dixY2ppaZEktbS0qLOzM8g2ASC0GIGFQH9/v9auXauzZ8/qrrvu\\\n",
       "0ujoqKTrr/huvfXWqd/TYQSWTeF9OjACCxa7yvDhTBwBu3z5sjZv3qwDBw5owYIFN/yf53lpwymR\\\n",
       "SCiRSPjRIgCEEiOwAE1MTKipqUkbNmzQrl27JEnLly9Xd3e3IpGIUqmU1q1bp++//z7jchiBZVN4\\\n",
       "nw6MwILFrjJ8eA8sIM45bd++XRUVFVPhJUnNzc3q6OiQJHV0dGjjxo1BtQgAocYILCCnTp3SmjVr\\\n",
       "VFNTozlzrr+O2L9/vxoaGrR161b99NNPWrJkiY4cOaKioqKMy2IENhPh3OxdiMcz4e3MH+wqw4cA\\\n",
       "ywME2EyEc7MnwMKLXWX4cAgRAGASAQYAMIkAAwCYRIABAEzig8zIA+F9c93aZ7fCe08C/8QIDABg\\\n",
       "EgEGADCJAAMAmESAAQBMIsAAACYxCxEhE+w8uMzVZzJ3L/ezDbNZYbafLgq2MAIDAJhEgAEATCLA\\\n",
       "AAAmEWAAAJMIMACASQQYAMAkptEjC+ydAja7J9nN3uTzTEuydy8DucUIDABgEgEGADCJAAMAmESA\\\n",
       "AQBMIsAAACYRYAEZGBhQY2OjKisrVVVVpYMHD0qS2traFI1GFYvFFIvFdPz48YA7zQ2X5jKT2zh5\\\n",
       "074o7cUfM6kebMdA+HjOOWbnBiCVSimVSmnlypUaGxtTXV2dOjs7deTIEc2bN0979uz518vyvKB3\\\n",
       "Y9PfhNLdYmbTyINe/+mz1zHYVYYPnwMLSCQSUSQSkSTNnz9fFRUVGhoaCrgrALCDQ4gh0N/fr6++\\\n",
       "+koNDQ2SpEOHDqm2tlatra0aGRkJuDsACCcCLGCXL1/W5s2bdeDAAS1YsEA7d+5UX1+fksmkIpGI\\\n",
       "du/efdPbJRIJ1dfXq76+3ueOASAceA8sQBMTE2pqatKGDRu0a9euf/x/f3+/mpqadPbs2YzL4T2w\\\n",
       "oNd/+ux1DHaV4cMILCDOOW3fvl0VFRU3hFcqlZr6+ejRo6qurg6iPQAIPUZgATl16pTWrFmjmpoa\\\n",
       "zZlz/XXE/v37dfjwYSWTSXmep9LSUr311ltTkz3SCX4Els5MNq3srks2N+6w3svwB7vK8CHA8gAB\\\n",
       "lt0O0gnrvQx/sKsMHw4hAgBMIsAAACYRYAAAkwgwAIBJnEoKORT8tIfgOwCQK4zAAAAmEWAAAJMI\\\n",
       "MACASQQYAMAkAgwAYBIBBgAwiQADAJhEgAEATCLAAAAmEWAAAJMIMACASQQYAMAkAgwAYBIBBgAw\\\n",
       "iQADAJhEgAEATCLAAAAmEWAAAJMIsIBcvXpVq1ev1ooVK1RVVaW9e/dKks6fP6+GhgaVlZXpscce\\\n",
       "0/j4eMCdAkA4EWABueWWW3Ty5El9/fXXSiaT6urq0hdffKEXX3xRzz33nH744Qfdeuuteuedd4Ju\\\n",
       "FQBCiQALiOd5mjdvniRpYmJCExMT8jxPJ0+e1JYtWyRJLS0t6uzsDLJNAAgtAixAk5OTisViKi4u\\\n",
       "Vjwe17Jly7Rw4UIVFhZKkkpKSjQ0NBRwlwAQTgRYgAoKCpRMJjU4OKienh599913//q2iURC9fX1\\\n",
       "qq+vz2GHABBeBFgILFy4UI2NjTp9+rRGR0d17do1SdLg4KCi0ehNb7Njxw719vaqt7fXz1YBIDQI\\\n",
       "sIBcuHBBo6OjkqQrV67oxIkTqqioUGNjoz744ANJUkdHhzZu3BhkmwAQWp5zzgXdxGz0zTffqKWl\\\n",
       "RZOTk/rzzz+1detWvfzyy/rxxx+1bds2Xbp0Sffee6/ee+893XLLLRmX5XmeT10Dsxe7yvAhwPIA\\\n",
       "AQbkHrvK8OEQIgDAJAIMAGASAQYAMIkAAwCYRIABAEwiwAAAJhFgAACTCDAAgEkEGADAJAIMAGAS\\\n",
       "AQYAMIkAAwCYRIABAEwiwAAAJhFgAACTCDAAgEkEGADApMKgG8D/7rbbblNpaakk6cKFC7rjjjsC\\\n",
       "64X61M/H+v39/VlfJv53nuN7svNKfX29ent7qU996iPvcQgRAGASAQYAMKmgra2tLegmkF11dXXU\\\n",
       "pz71kfd4DwwAYBKHEAEAJhFgeaKrq0vLly9XWVmZ2tvbfa9fWlqqmpoaxWIx1dfX+1KztbVVxcXF\\\n",
       "qq6unrru0qVLisfjKi8vVzwe18jIiK/129raFI1GFYvFFIvFdPz48ZzUHhgYUGNjoyorK1VVVaWD\\\n",
       "Bw9K8m/909X3a/2vXr2q1atXa8WKFaqqqtLevXslSefPn1dDQ4PKysr02GOPaXx8PCf1ERIO5l27\\\n",
       "ds0tXbrU9fX1uT/++MPV1ta6b7/91tcelixZ4i5cuOBrzU8//dSdOXPGVVVVTV33/PPPu1dffdU5\\\n",
       "59yrr77qXnjhBV/r7927173++us5q/mXn3/+2Z05c8Y559xvv/3mysvL3bfffuvb+qer79f6//nn\\\n",
       "n25sbMw559z4+LhbvXq1O336tHv00Ufd4cOHnXPOPfvss+7NN9/MeS8IDiOwPNDT06OysjItXbpU\\\n",
       "c+fO1bZt23Ts2LGg28q5tWvXqqio6Ibrjh07ppaWFklSS0uLOjs7fa3vl0gkopUrV0qS5s+fr4qK\\\n",
       "Cg0NDfm2/unq+8XzPM2bN0+SNDExoYmJCXmep5MnT2rLli2Scv/4I3gEWB4YGhrSnXfeOfV7SUmJ\\\n",
       "rzsT6foO5f7771ddXZ0SiYSvtf/T8PCwIpGIJGnx4sUaHh72vYdDhw6ptrZWra2tOT2E+Zf+/n59\\\n",
       "9dVXamhoCGT9/7O+5N/6T05OKhaLqbi4WPF4XMuWLdPChQtVWHj9BENBPA/gLwIMWXHq1Cl9+eWX\\\n",
       "+uijj/TGG2/os88+C7oleZ4nz/N8rblz50719fUpmUwqEolo9+7dOa13+fJlbd68WQcOHNCCBQtu\\\n",
       "+D8/1v/v9f1c/4KCAiWTSQ0ODqqnp0ffffddzmohnAiwPBCNRjUwMDD1++DgoKLRqO89SFJxcbE2\\\n",
       "bdqknp4eX+v/ZdGiRUqlUpKkVCql4uJi3+sXFBRozpw5euaZZ3J6P0xMTGjz5s168skn9cgjj0zV\\\n",
       "92v909X3a/3/snDhQjU2Nur06dMaHR3VtWvXJAXzPIC/CLA8sGrVKp07d07nz5/X+Pi43n//fTU3\\\n",
       "N/tW//fff9fY2NjUzx9//PENM/P81NzcrI6ODklSR0eHNm7c6Gv9v8JDko4ePZqz+8E5p+3bt6ui\\\n",
       "okK7du2aut6v9U9X36/1v3DhgkZHRyVJV65c0YkTJ1RRUaHGxkZ98MEHkoJ5/OGzoGeRIDs+/PBD\\\n",
       "V15e7pYuXepeeeUVX2v39fW52tpaV1tb6yorK32rv23bNrd48WJXWFjootGoe/vtt93Fixfdfffd\\\n",
       "58rKytz69evdr7/+6mv9p556ylVXV7uamhr30EMPuZ9//jkntT///HMnydXU1LgVK1a4FStWuA8/\\\n",
       "/NC39U9X36/1//rrr10sFnM1NTWuqqrK7du3zzl3fVtctWqVW7ZsmduyZYu7evVqTuojHDgTBwDA\\\n",
       "JA4hAgBMIsAAACYRYAAAkwgwAIBJBBgAwCQCDABgEgEGADCJAAMAmESAAQBMIsAAACYRYAAAkwgw\\\n",
       "AIBJBBgAwCQCDABgEgEGADCJAAMAmESAAQBMIsAAACYRYAAAkwgwAIBJ/wf3KBj708Se+gAAAABJ\\\n",
       "RU5ErkJggg==\\\n",
       "\"\n",
       "  frames[7] = \"data:image/png;base64,iVBORw0KGgoAAAANSUhEUgAAAbAAAAEgCAYAAADVKCZpAAAABHNCSVQICAgIfAhkiAAAAAlwSFlz\\\n",
       "AAALEgAACxIB0t1+/AAAADl0RVh0U29mdHdhcmUAbWF0cGxvdGxpYiB2ZXJzaW9uIDIuMi4zLCBo\\\n",
       "dHRwOi8vbWF0cGxvdGxpYi5vcmcvIxREBQAAEhBJREFUeJzt3X9MVfUfx/HXEab/qFMq9O5SMoWM\\\n",
       "n94E5S+d5G62RlhpptVGw2XzT3/046/ErSWtf3SzNu9qi63N5trEPzKmm1G52RjVrdGmM4IJdEea\\\n",
       "sNBpIH6+f7j4fqkuXyvvOed9eT62u8kF7ud9rnCenMMBPOecEwAAxswIegAAAP4JAgYAMImAAQBM\\\n",
       "ImAAAJMIGADAJAIGADCJgAEATCJgAACTCBgAwCQCBgAwiYABAEwiYAAAkwgYAMAkAgYAMImAAQBM\\\n",
       "ImAAAJMIGADAJAIGADCJgAEATCJgAACTCBgAwCQCBgAwiYABAEwiYAAAkwgYAMAkAgYAMImAAQBM\\\n",
       "ImAAAJMIGADAJAIGADCJgAEATCJgAACTCBgAwCQCFkJtbW1aunSpioqK1NzcHPQ4ABBKnnPOBT0E\\\n",
       "/mt8fFz333+/Tp48qYKCAq1YsUKHDx9WaWlp2vfxPM/HCYHpiV1l+HAEFjIdHR0qKirS4sWLNXPm\\\n",
       "TG3evFnHjh0LeiwACB0CFjIDAwO69957J14uKCjQwMBAgBMBQDjlBj0A/plEIqFEIhH0GAAQGAIW\\\n",
       "MtFoVH19fRMv9/f3KxqN/unttm3bpm3btknie2AApidOIYbMihUrdP78efX09Gh0dFQffvih6uvr\\\n",
       "gx4LAEKHI7CQyc3N1cGDB7Vu3TqNj4+rsbFRZWVlQY8FAKHDZfRZgFOIQOaxqwwfTiECAEwiYAAA\\\n",
       "kwgYAMAkAgYAMImAAQBMImAAAJMIGADAJAIGADCJgAEATCJgAACTCBgAwCQCBgAwiYABAEwiYAAA\\\n",
       "kwgYAMAkAgYAMImAAQBMImAAAJMIGADAJAIGADCJgAEATCJgAACTCBgAwKTcoAfAnxUWFmrOnDnK\\\n",
       "yclRbm6uOjs7gx4JAEKHgIXUp59+qrvvvjvoMQAgtDiFCAAwiYCFkOd5evjhh1VVVaVEIhH0OAAQ\\\n",
       "SpxCDKHTp08rGo3q559/Vjwe1wMPPKDVq1dPeptEIkHcAExrnnPOBT0E0mtqatLs2bO1e/futG/j\\\n",
       "eZ6PEwHTE7vK8OEUYshcvXpVIyMjE/8+ceKEysvLA54Kdrk0N8A+TiGGzODgoJ544glJ0o0bN/TM\\\n",
       "M8/okUceCXgqAAgfTiFmAU4hIr10n958zPxd7CrDh1OIAACTCBgAwCQCBgAwiYABAEziKkTAiH92\\\n",
       "OQYXayB7cQQGADCJgAEATCJgAACTCBgAwCQCBgAwiasQASO4nhCYjCMwAIBJBAwAYBIBAwCYRMAA\\\n",
       "ACYRMACASQQMAGASl9EjC0z1l3JtXXwe9JYEvT7wd3AEBgAwiYABAEwiYAAAkwgYAMAkAgYAMImA\\\n",
       "BaSxsVH5+fkqLy+fuO/y5cuKx+MqLi5WPB7X0NBQgBOGkUtz86a43ZkVpro6706aakv8mOvOPZNA\\\n",
       "5hGwgDz//PNqa2ubdF9zc7PWrl2r8+fPa+3atWpubg5oOgAIP88559cXl/iD3t5e1dXVqaurS5K0\\\n",
       "dOlStbe3KxKJKJVKac2aNTp37tz/fRzPmy5fH6f7UL1z2x/mn4PK/NZjKuwqw4cjsBAZHBxUJBKR\\\n",
       "JC1cuFCDg4MBTwQA4cVv4ggpz/OmPLJKJBJKJBI+TgQA4cIRWIgsWLBAqVRKkpRKpZSfn5/2bbdt\\\n",
       "26bOzk51dnb6NR4AhAoBC5H6+nq1tLRIklpaWrR+/fqAJwKA8OIijoBs2bJF7e3tunTpkhYsWKC9\\\n",
       "e/fq8ccf16ZNm3ThwgUtWrRIR44cUV5e3v99rOlzEQcQHHaV4UPAsgABAzKPXWX4cAoRAGASAQMA\\\n",
       "mETAAAAmETAAgEn8IDOy3N/9xjsXxABWcAQGADCJgAEATCJgAACTCBgAwCQCBgAwiasQkeUy/8cu\\\n",
       "w33dos2pgdvBERgAwCQCBgAwiYABAEwiYAAAkwgYAMAkAgYAMInL6IFJ0v/yX8/kpecWZwZuD0dg\\\n",
       "AACTCBgAwCQCBgAwiYABAEwiYAAAkwhYQBobG5Wfn6/y8vKJ+5qamhSNRhWLxRSLxXT8+PEAJ8w0\\\n",
       "l+YWNG+KW+ale1bC8MwAYUPAAvL888+rra3tT/fv2LFDyWRSyWRSjz76aACTAYANBCwgq1evVl5e\\\n",
       "XtBjAIBZBCxkDh48qMrKSjU2NmpoaCjocQAgtAhYiGzfvl3d3d1KJpOKRCLatWtX2rdNJBKqrq5W\\\n",
       "dXW1jxMCQHh4zjm+PxyQ3t5e1dXVqaur62+97o88z+KvC+IvBf+VqT4Zp/czEzx2leHDEViIpFKp\\\n",
       "iX8fPXp00hWKAIDJ+GW+AdmyZYva29t16dIlFRQUaO/evWpvb1cymZTneSosLNShQ4eCHjODOJ74\\\n",
       "KzwrwO3jFGIWsHkKEbCFXWX4cAoRAGASAQMAmETAAAAmETAAgElchQgYwU/OAZNxBAYAMImAAQBM\\\n",
       "ImAAAJMIGADAJAIGADCJqxABI7jaEJiMIzAAgEkEDABgEgEDAJhEwAAAJhEwAIBJBAwAYBIBAwCY\\\n",
       "RMAAACYRMACASQQMAGASAQMAmETAAAAmEbCA9PX1qba2VqWlpSorK9OBAwckSZcvX1Y8HldxcbHi\\\n",
       "8biGhoYCnhT/5dLcAATBc87xGRiAVCqlVCql5cuXa2RkRFVVVWptbdX777+vvLw8vfrqq2pubtbQ\\\n",
       "0JDefPPNKR/L8/g95f5I96nC8z8dsKsMH47AAhKJRLR8+XJJ0pw5c1RSUqKBgQEdO3ZMDQ0NkqSG\\\n",
       "hga1trYGOSYAhBZHYCHQ29ur1atXq6urS/fdd5+Gh4cl3fqKb/78+RMvp8MRmF84ApvO2FWGD3/Q\\\n",
       "MmBXrlzRhg0btH//fs2dO3fS6zzPSxunRCKhRCLhx4gAEEocgQVobGxMdXV1WrdunXbu3ClJWrp0\\\n",
       "qdrb2xWJRJRKpbRmzRqdO3duysfhCMwvHIFNZ+wqw4fvgQXEOaetW7eqpKRkIl6SVF9fr5aWFklS\\\n",
       "S0uL1q9fH9SIABBqHIEF5PTp01q1apUqKio0Y8atryPeeOMN1dTUaNOmTbpw4YIWLVqkI0eOKC8v\\\n",
       "b8rH4ggse0z1ycj/crDYVYYPAcsCBCx7ELDwYlcZPpxCBACYRMAAACYRMACASQQMAGASP8iMLPBP\\\n",
       "Ln0I5890caEGcPs4AgMAmETAAAAmETAAgEkEDABgEgEDAJjEVYjIAv/k2j2u9wOs4wgMAGASAQMA\\\n",
       "mETAAAAmETAAgEkEDABgEgEDAJjEZfTAv8RfUQaCwREYAMAkAgYAMImAAQBMImAAAJMIGADAJAIW\\\n",
       "kL6+PtXW1qq0tFRlZWU6cOCAJKmpqUnRaFSxWEyxWEzHjx8PeNLb4dLcpgdvihuAzPGcc9NnTxMi\\\n",
       "qVRKqVRKy5cv18jIiKqqqtTa2qojR45o9uzZ2r17920/lucFvatM9yEU9FzAncOuMnz4ObCARCIR\\\n",
       "RSIRSdKcOXNUUlKigYGBgKcCADs4hRgCvb29+uabb1RTUyNJOnjwoCorK9XY2KihoaGApwOAcCJg\\\n",
       "Abty5Yo2bNig/fv3a+7cudq+fbu6u7uVTCYViUS0a9euv3y/RCKh6upqVVdX+zwxAIQD3wML0NjY\\\n",
       "mOrq6rRu3Trt3LnzT6/v7e1VXV2durq6pnwcvgcGZB67yvDhCCwgzjlt3bpVJSUlk+KVSqUm/n30\\\n",
       "6FGVl5cHMR4AhB5HYAE5ffq0Vq1apYqKCs2YcevriDfeeEOHDx9WMpmU53kqLCzUoUOHJi72SCf4\\\n",
       "IzAg+7GrDB8ClgUIGJB57CrDh1OIAACTCBgAwCQCBgAwiYABAEwiYAAAkwgYAMAkAgYAMImAAQBM\\\n",
       "ImAAAJMIGADAJAIGADCJgAEATCJgAACTCBgAwCQCBgAwiYABAEwiYAAAkwgYAMAkAgYAMImAAQBM\\\n",
       "ImAAAJMIGADAJAIGADCJgAXk+vXrWrlypZYtW6aysjLt2bNHktTT06OamhoVFRXp6aef1ujoaMCT\\\n",
       "AkA4EbCAzJo1S6dOndK3336rZDKptrY2ffnll3rllVe0Y8cO/fDDD5o/f77ee++9oEcFgFAiYAHx\\\n",
       "PE+zZ8+WJI2NjWlsbEye5+nUqVPauHGjJKmhoUGtra1BjgkAoUXAAjQ+Pq5YLKb8/HzF43EtWbJE\\\n",
       "8+bNU25uriSpoKBAAwMDAU8JAOFEwAKUk5OjZDKp/v5+dXR06OzZs7f9volEQtXV1aqurs7ghAAQ\\\n",
       "XgQsBObNm6fa2lqdOXNGw8PDunHjhiSpv79f0Wj0L99n27Zt6uzsVGdnp5+jAkBoELCAXLx4UcPD\\\n",
       "w5Kka9eu6eTJkyopKVFtba0++ugjSVJLS4vWr18f5JgAEFqec84FPcR09N1336mhoUHj4+O6efOm\\\n",
       "Nm3apNdee00//vijNm/erMuXL+vBBx/UBx98oFmzZk35WJ7n+TQ1MH2xqwwfApYFCBiQeewqw4dT\\\n",
       "iAAAkwgYAMAkAgYAMImAAQBMImAAAJMIGADAJAIGADCJgAEATCJgAACTCBgAwCQCBgAwiYABAEwi\\\n",
       "YAAAkwgYAMAkAgYAMImAAQBMImAAAJNygx4A/95dd92lwsJCSdLFixd1zz33BDYL67N+Nq7f29t7\\\n",
       "xx8T/57n+DvZWaW6ulqdnZ2sz/qsj6zHKUQAgEkEDABgUk5TU1NT0EPgzqqqqmJ91md9ZD2+BwYA\\\n",
       "MIlTiAAAkwhYlmhra9PSpUtVVFSk5uZm39cvLCxURUWFYrGYqqurfVmzsbFR+fn5Ki8vn7jv8uXL\\\n",
       "isfjKi4uVjwe19DQkK/rNzU1KRqNKhaLKRaL6fjx4xlZu6+vT7W1tSotLVVZWZkOHDggyb/tT7e+\\\n",
       "X9t//fp1rVy5UsuWLVNZWZn27NkjSerp6VFNTY2Kior09NNPa3R0NCPrIyQczLtx44ZbvHix6+7u\\\n",
       "dr/99purrKx033//va8zLFq0yF28eNHXNT/77DP31VdfubKyson7XnrpJbdv3z7nnHP79u1zL7/8\\\n",
       "sq/r79mzx7311lsZW/N3P/30k/vqq6+cc879+uuvrri42H3//fe+bX+69f3a/ps3b7qRkRHnnHOj\\\n",
       "o6Nu5cqV7syZM+6pp55yhw8fds459+KLL7p33nkn47MgOByBZYGOjg4VFRVp8eLFmjlzpjZv3qxj\\\n",
       "x44FPVbGrV69Wnl5eZPuO3bsmBoaGiRJDQ0Nam1t9XV9v0QiES1fvlySNGfOHJWUlGhgYMC37U+3\\\n",
       "vl88z9Ps2bMlSWNjYxobG5PneTp16pQ2btwoKfP//wgeAcsCAwMDuvfeeydeLigo8HVnIt3aoTz8\\\n",
       "8MOqqqpSIpHwde3/NTg4qEgkIklauHChBgcHfZ/h4MGDqqysVGNjY0ZPYf6ut7dX33zzjWpqagLZ\\\n",
       "/v9dX/Jv+8fHxxWLxZSfn694PK4lS5Zo3rx5ys299QuGgvg8gL8IGO6I06dP6+uvv9Ynn3yit99+\\\n",
       "W59//nnQI8nzPHme5+ua27dvV3d3t5LJpCKRiHbt2pXR9a5cuaINGzZo//79mjt37qTX+bH9f1zf\\\n",
       "z+3PyclRMplUf3+/Ojo6dPbs2YythXAiYFkgGo2qr69v4uX+/n5Fo1HfZ5Ck/Px8PfHEE+ro6PB1\\\n",
       "/d8tWLBAqVRKkpRKpZSfn+/7+jk5OZoxY4ZeeOGFjD4PY2Nj2rBhg5599lk9+eSTE+v7tf3p1vdr\\\n",
       "+383b9481dbW6syZMxoeHtaNGzckBfN5AH8RsCywYsUKnT9/Xj09PRodHdWHH36o+vp639a/evWq\\\n",
       "RkZGJv594sSJSVfm+am+vl4tLS2SpJaWFq1fv97X9X+PhyQdPXo0Y8+Dc05bt25VSUmJdu7cOXG/\\\n",
       "X9ufbn2/tv/ixYsaHh6WJF27dk0nT55USUmJamtr9dFHH0kK5v8fPgv6KhLcGR9//LErLi52ixcv\\\n",
       "dq+//rqva3d3d7vKykpXWVnpSktLfVt/8+bNbuHChS43N9dFo1H37rvvukuXLrmHHnrIFRUVubVr\\\n",
       "17pffvnF1/Wfe+45V15e7ioqKtxjjz3mfvrpp4ys/cUXXzhJrqKiwi1btswtW7bMffzxx75tf7r1\\\n",
       "/dr+b7/91sViMVdRUeHKysrc3r17nXO3PhZXrFjhlixZ4jZu3OiuX7+ekfURDvwmDgCASZxCBACY\\\n",
       "RMAAACYRMACASQQMAGASAQMAmETAAAAmETAAgEkEDABgEgEDAJhEwAAAJhEwAIBJBAwAYBIBAwCY\\\n",
       "RMAAACYRMACASQQMAGASAQMAmETAAAAmETAAgEkEDABg0n8Ae6hvKwE1dNoAAAAASUVORK5CYII=\\\n",
       "\"\n",
       "\n",
       "\n",
       "    /* set a timeout to make sure all the above elements are created before\n",
       "       the object is initialized. */\n",
       "    setTimeout(function() {\n",
       "        animadd69af6546d44f59214a442209b8811 = new Animation(frames, img_id, slider_id, 41.0,\n",
       "                                 loop_select_id);\n",
       "    }, 0);\n",
       "  })()\n",
       "</script>\n"
      ],
      "text/plain": [
       "<IPython.core.display.HTML object>"
      ]
     },
     "execution_count": 10,
     "metadata": {},
     "output_type": "execute_result"
    }
   ],
   "source": [
    "input, target, label = trainingSet[0]\n",
    "anim = snn.io.animTD(snn.io.spikeArrayToEvent(input.reshape((2, 34, 34, -1)).cpu().data.numpy()))\n",
    "# anim = snn.io.animTD(snn.io.spikeArrayToEvent(input.to_dense().reshape((2, 34, 34, -1)).cpu().data.numpy()))\n",
    "HTML(anim.to_jshtml())"
   ]
  },
  {
   "cell_type": "code",
   "execution_count": 11,
   "metadata": {},
   "outputs": [
    {
     "data": {
      "text/plain": [
       "tensor(4670.)"
      ]
     },
     "execution_count": 11,
     "metadata": {},
     "output_type": "execute_result"
    }
   ],
   "source": [
    "torch.sum(input)"
   ]
  },
  {
   "cell_type": "code",
   "execution_count": 12,
   "metadata": {},
   "outputs": [
    {
     "data": {
      "text/plain": [
       "693600"
      ]
     },
     "execution_count": 12,
     "metadata": {},
     "output_type": "execute_result"
    }
   ],
   "source": [
    "34*34*300*2"
   ]
  },
  {
   "cell_type": "code",
   "execution_count": 13,
   "metadata": {},
   "outputs": [
    {
     "data": {
      "text/plain": [
       "0.006732987312572087"
      ]
     },
     "execution_count": 13,
     "metadata": {},
     "output_type": "execute_result"
    }
   ],
   "source": [
    "4670/693600"
   ]
  },
  {
   "cell_type": "markdown",
   "metadata": {},
   "source": [
    "## Noisy data"
   ]
  },
  {
   "cell_type": "code",
   "execution_count": 14,
   "metadata": {},
   "outputs": [],
   "source": [
    "trainingSetNoisy = nmnistDatasetNoisy(datasetPath =netParams['training']['path']['in'], \n",
    "                            sampleFile  =netParams['training']['path']['train'],\n",
    "                            samplingTime=netParams['simulation']['Ts'],\n",
    "                            sampleLength=netParams['simulation']['tSample'],\n",
    "                            percentNoise = 0.001)"
   ]
  },
  {
   "cell_type": "code",
   "execution_count": 15,
   "metadata": {
    "scrolled": false
   },
   "outputs": [
    {
     "data": {
      "text/html": [
       "\n",
       "<link rel=\"stylesheet\"\n",
       "href=\"https://maxcdn.bootstrapcdn.com/font-awesome/4.4.0/\n",
       "css/font-awesome.min.css\">\n",
       "<script language=\"javascript\">\n",
       "  /* Define the Animation class */\n",
       "  function Animation(frames, img_id, slider_id, interval, loop_select_id){\n",
       "    this.img_id = img_id;\n",
       "    this.slider_id = slider_id;\n",
       "    this.loop_select_id = loop_select_id;\n",
       "    this.interval = interval;\n",
       "    this.current_frame = 0;\n",
       "    this.direction = 0;\n",
       "    this.timer = null;\n",
       "    this.frames = new Array(frames.length);\n",
       "\n",
       "    for (var i=0; i<frames.length; i++)\n",
       "    {\n",
       "     this.frames[i] = new Image();\n",
       "     this.frames[i].src = frames[i];\n",
       "    }\n",
       "    document.getElementById(this.slider_id).max = this.frames.length - 1;\n",
       "    this.set_frame(this.current_frame);\n",
       "  }\n",
       "\n",
       "  Animation.prototype.get_loop_state = function(){\n",
       "    var button_group = document[this.loop_select_id].state;\n",
       "    for (var i = 0; i < button_group.length; i++) {\n",
       "        var button = button_group[i];\n",
       "        if (button.checked) {\n",
       "            return button.value;\n",
       "        }\n",
       "    }\n",
       "    return undefined;\n",
       "  }\n",
       "\n",
       "  Animation.prototype.set_frame = function(frame){\n",
       "    this.current_frame = frame;\n",
       "    document.getElementById(this.img_id).src =\n",
       "            this.frames[this.current_frame].src;\n",
       "    document.getElementById(this.slider_id).value = this.current_frame;\n",
       "  }\n",
       "\n",
       "  Animation.prototype.next_frame = function()\n",
       "  {\n",
       "    this.set_frame(Math.min(this.frames.length - 1, this.current_frame + 1));\n",
       "  }\n",
       "\n",
       "  Animation.prototype.previous_frame = function()\n",
       "  {\n",
       "    this.set_frame(Math.max(0, this.current_frame - 1));\n",
       "  }\n",
       "\n",
       "  Animation.prototype.first_frame = function()\n",
       "  {\n",
       "    this.set_frame(0);\n",
       "  }\n",
       "\n",
       "  Animation.prototype.last_frame = function()\n",
       "  {\n",
       "    this.set_frame(this.frames.length - 1);\n",
       "  }\n",
       "\n",
       "  Animation.prototype.slower = function()\n",
       "  {\n",
       "    this.interval /= 0.7;\n",
       "    if(this.direction > 0){this.play_animation();}\n",
       "    else if(this.direction < 0){this.reverse_animation();}\n",
       "  }\n",
       "\n",
       "  Animation.prototype.faster = function()\n",
       "  {\n",
       "    this.interval *= 0.7;\n",
       "    if(this.direction > 0){this.play_animation();}\n",
       "    else if(this.direction < 0){this.reverse_animation();}\n",
       "  }\n",
       "\n",
       "  Animation.prototype.anim_step_forward = function()\n",
       "  {\n",
       "    this.current_frame += 1;\n",
       "    if(this.current_frame < this.frames.length){\n",
       "      this.set_frame(this.current_frame);\n",
       "    }else{\n",
       "      var loop_state = this.get_loop_state();\n",
       "      if(loop_state == \"loop\"){\n",
       "        this.first_frame();\n",
       "      }else if(loop_state == \"reflect\"){\n",
       "        this.last_frame();\n",
       "        this.reverse_animation();\n",
       "      }else{\n",
       "        this.pause_animation();\n",
       "        this.last_frame();\n",
       "      }\n",
       "    }\n",
       "  }\n",
       "\n",
       "  Animation.prototype.anim_step_reverse = function()\n",
       "  {\n",
       "    this.current_frame -= 1;\n",
       "    if(this.current_frame >= 0){\n",
       "      this.set_frame(this.current_frame);\n",
       "    }else{\n",
       "      var loop_state = this.get_loop_state();\n",
       "      if(loop_state == \"loop\"){\n",
       "        this.last_frame();\n",
       "      }else if(loop_state == \"reflect\"){\n",
       "        this.first_frame();\n",
       "        this.play_animation();\n",
       "      }else{\n",
       "        this.pause_animation();\n",
       "        this.first_frame();\n",
       "      }\n",
       "    }\n",
       "  }\n",
       "\n",
       "  Animation.prototype.pause_animation = function()\n",
       "  {\n",
       "    this.direction = 0;\n",
       "    if (this.timer){\n",
       "      clearInterval(this.timer);\n",
       "      this.timer = null;\n",
       "    }\n",
       "  }\n",
       "\n",
       "  Animation.prototype.play_animation = function()\n",
       "  {\n",
       "    this.pause_animation();\n",
       "    this.direction = 1;\n",
       "    var t = this;\n",
       "    if (!this.timer) this.timer = setInterval(function() {\n",
       "        t.anim_step_forward();\n",
       "    }, this.interval);\n",
       "  }\n",
       "\n",
       "  Animation.prototype.reverse_animation = function()\n",
       "  {\n",
       "    this.pause_animation();\n",
       "    this.direction = -1;\n",
       "    var t = this;\n",
       "    if (!this.timer) this.timer = setInterval(function() {\n",
       "        t.anim_step_reverse();\n",
       "    }, this.interval);\n",
       "  }\n",
       "</script>\n",
       "\n",
       "<div class=\"animation\" align=\"center\">\n",
       "    <img id=\"_anim_img42490c4979ac48e79d09cd3de38796ec\">\n",
       "    <br>\n",
       "    <input id=\"_anim_slider42490c4979ac48e79d09cd3de38796ec\" type=\"range\" style=\"width:350px\"\n",
       "           name=\"points\" min=\"0\" max=\"1\" step=\"1\" value=\"0\"\n",
       "           onchange=\"anim42490c4979ac48e79d09cd3de38796ec.set_frame(parseInt(this.value));\"></input>\n",
       "    <br>\n",
       "    <button onclick=\"anim42490c4979ac48e79d09cd3de38796ec.slower()\"><i class=\"fa fa-minus\"></i></button>\n",
       "    <button onclick=\"anim42490c4979ac48e79d09cd3de38796ec.first_frame()\"><i class=\"fa fa-fast-backward\">\n",
       "        </i></button>\n",
       "    <button onclick=\"anim42490c4979ac48e79d09cd3de38796ec.previous_frame()\">\n",
       "        <i class=\"fa fa-step-backward\"></i></button>\n",
       "    <button onclick=\"anim42490c4979ac48e79d09cd3de38796ec.reverse_animation()\">\n",
       "        <i class=\"fa fa-play fa-flip-horizontal\"></i></button>\n",
       "    <button onclick=\"anim42490c4979ac48e79d09cd3de38796ec.pause_animation()\"><i class=\"fa fa-pause\">\n",
       "        </i></button>\n",
       "    <button onclick=\"anim42490c4979ac48e79d09cd3de38796ec.play_animation()\"><i class=\"fa fa-play\"></i>\n",
       "        </button>\n",
       "    <button onclick=\"anim42490c4979ac48e79d09cd3de38796ec.next_frame()\"><i class=\"fa fa-step-forward\">\n",
       "        </i></button>\n",
       "    <button onclick=\"anim42490c4979ac48e79d09cd3de38796ec.last_frame()\"><i class=\"fa fa-fast-forward\">\n",
       "        </i></button>\n",
       "    <button onclick=\"anim42490c4979ac48e79d09cd3de38796ec.faster()\"><i class=\"fa fa-plus\"></i></button>\n",
       "  <form action=\"#n\" name=\"_anim_loop_select42490c4979ac48e79d09cd3de38796ec\" class=\"anim_control\">\n",
       "    <input type=\"radio\" name=\"state\"\n",
       "           value=\"once\" > Once </input>\n",
       "    <input type=\"radio\" name=\"state\"\n",
       "           value=\"loop\" checked> Loop </input>\n",
       "    <input type=\"radio\" name=\"state\"\n",
       "           value=\"reflect\" > Reflect </input>\n",
       "  </form>\n",
       "</div>\n",
       "\n",
       "\n",
       "<script language=\"javascript\">\n",
       "  /* Instantiate the Animation class. */\n",
       "  /* The IDs given should match those used in the template above. */\n",
       "  (function() {\n",
       "    var img_id = \"_anim_img42490c4979ac48e79d09cd3de38796ec\";\n",
       "    var slider_id = \"_anim_slider42490c4979ac48e79d09cd3de38796ec\";\n",
       "    var loop_select_id = \"_anim_loop_select42490c4979ac48e79d09cd3de38796ec\";\n",
       "    var frames = new Array(0);\n",
       "    \n",
       "  frames[0] = \"data:image/png;base64,iVBORw0KGgoAAAANSUhEUgAAAbAAAAEgCAYAAADVKCZpAAAABHNCSVQICAgIfAhkiAAAAAlwSFlz\\\n",
       "AAALEgAACxIB0t1+/AAAADl0RVh0U29mdHdhcmUAbWF0cGxvdGxpYiB2ZXJzaW9uIDIuMi4zLCBo\\\n",
       "dHRwOi8vbWF0cGxvdGxpYi5vcmcvIxREBQAAFQpJREFUeJzt3V1sFOfZxvFrwEpOABG3MazWKRbY\\\n",
       "Jf5kixd8FKsu2lBV1DSFEtJWcmRUKg4D6cdRMVKVuOoJSLRSVq1US5WIUCTsg1ArSJS2SESWaTYV\\\n",
       "kVJRFyu2s3Kh2KqJQm2c5z1A8Vs3nhW7nZ2Ze/3/oZFg8c5zz+x4Lj+zt2c955wTAADGrIm6AAAA\\\n",
       "SkGAAQBMIsAAACYRYAAAkwgwAIBJBBgAwCQCDABgEgEGADCJAAMAmESAAQBMIsAAACYRYAAAkwgw\\\n",
       "AIBJBBgAwCQCDABgEgEGADCJAAMAmESAAQBMIsAAACYRYAAAkwgwAIBJBBgAwCQCDABgEgEGADCJ\\\n",
       "AAMAmESAAQBMIsAAACYRYAAAkwgwAIBJBBgAwCQCDABgEgEGADCJAAMAmESAxdDw8LC2b9+u+vp6\\\n",
       "9ff3R10OAMSS55xzUReB/7e4uKgvfvGLunTpkmpra7Vr1y6dO3dOTU1Nvs/xPC/ECoHViVNl/DAD\\\n",
       "i5mRkRHV19dr69ateuyxx3T48GENDQ1FXRYAxA4BFjNTU1N66qmnlv5dW1urqampCCsCgHiqiroA\\\n",
       "lCabzSqbzUZdBgBEhgCLmWQyqYmJiaV/T05OKplMfubrjh49qqNHj0riPTAAqxOXEGNm165dunnz\\\n",
       "pm7duqX5+Xm9/vrr6u7ujrqsMnA+i8VRAESBGVjMVFVV6ezZs9q7d68WFxfV29ur5ubmqMsCgNih\\\n",
       "jb4C2LyE6HfYBbst4YyC1YBTZfxwCREAYBIBBgAwiQADAJhEgAEATKILERFZuY2i0NvkpTReFP+c\\\n",
       "oCsIUvEtKcE9o/CzKslKeyAdehV4FMzAAAAmEWAAAJMIMACASQQYAMAkAgwAYBJdiIiV6Pvcoq/A\\\n",
       "X/G1Rb01Fm/lFefasBwzMACASQQYAMAkAgwAYBIBBgAwiQADAJhEgAEATKKNHjAinJb0OK8NWI4Z\\\n",
       "GADAJAIMAGASAQYAMIkAAwCYRIABAEyiCzGG6urqtH79eq1du1ZVVVUaHR2NuqSYsHhr2OCsjq0M\\\n",
       "2uo+ZiodARZTv//97/X5z38+6jIAILa4hAgAMIkAiyHP8/Tss8+qvb1d2Ww26nIAIJa4hBhDV69e\\\n",
       "VTKZ1D/+8Q9lMhk9/fTT6uzsXPY12WyWcAOwqnnOOb93OREDfX19WrdunV5++WXfr/G81fKGNG/I\\\n",
       "o1jBHTOcKuOHS4gx89FHH2lubm7p72+99ZZaWloiriouPJ8lOK7AEvT6rC02lXLMrLT17WWsEaXi\\\n",
       "EmLMTE9P67nnnpMkPXjwQN/+9rf11a9+NeKqACB+uIRYAVbPJcTyK/TNUMperqRvrtVzlK30qqXl\\\n",
       "HL+PGTdcQgQAmESAAQBMIsAAACYRYAAAk+hCrGBBNyTEVbCNEv5rcxW11ypJKUdAodeS19kKZmAA\\\n",
       "AJMIMACASQQYAMAkAgwAYBIBBgAwiS7EChZ1L1UpXZDR33op6r1WSNR7J577plB3aDwrRlCYgQEA\\\n",
       "TCLAAAAmEWAAAJMIMACASQQYAMAkAgwAYBJt9Cib0lqYg74xq9/6gmywDq69PeotCZp/zcH9kkXh\\\n",
       "7Y/z3sH/ihkYAMAkAgwAYBIBBgAwiQADAJhEgAEATCLAItLb26uamhq1tLQsPXb37l1lMhk1NDQo\\\n",
       "k8loZmbmkdbVrof9WcUsceWVsJS2pcXuMf+llJr9t6X4fRMs/+qCPZZK2QtB71FYR4BF5MUXX9Tw\\\n",
       "8PCyx/r7+7Vnzx7dvHlTe/bsUX9/f0TVAUD8EWAR6ezsVHV19bLHhoaG1NPTI0nq6enR4OBgFKUB\\\n",
       "gAkEWIxMT08rkUhIkjZv3qzp6emIKwKA+OJOHDHleZ48z/8afjabVTablSTdDqsoAIgRZmAxsmnT\\\n",
       "JuXzeUlSPp9XTU2N79cePXpUo6OjGh0d1ZNhFQgAMUKAxUh3d7cGBgYkSQMDA9q/f3/EFQFAfHnO\\\n",
       "uTh3VVesF154QVeuXNGdO3e0adMmnTp1St/4xjd06NAhffDBB9qyZYvOnz//mUaPlfhdaizldqnR\\\n",
       "43AsXliv5sqvjSswfnyPs+JxqowfAqwCEGCrHQEWBk6V8cMlRACASQQYAMAkAgwAYBIBBgAwiQCr\\\n",
       "AH438+UWp8UL+rbAxYv6hrWFtmbl8TnOEBUCDABgEgEGADCJAAMAmESAAQBMIsAAACZxK6kKUOhj\\\n",
       "V/z4vejBdo6FdTOrIA9h/7pK2WfB7ufi1xbO61yKaG90VsronCrjhxkYAMAkAgwAYBIBBgAwiQAD\\\n",
       "AJhEgAEATCLAAAAmVUVdAKIRTht1WM3apYzj1xJdfIO1C60lvPh1Rd0u79/GH05l/uPb/LxyLMcM\\\n",
       "DABgEgEGADCJAAMAmESAAQBMIsAAACYRYBHp7e1VTU2NWlpalh7r6+tTMplUKpVSKpXSxYsXI6wQ\\\n",
       "n+V8Fq/AUtyaKk1xeyXM8Yt/zRA/BFhEXnzxRQ0PD3/m8Zdeekm5XE65XE5f+9rXIqgMAGwgwCLS\\\n",
       "2dmp6urqqMsAALMIsJg5e/as2tra1Nvbq5mZmajLAYDYIsBi5NixYxobG1Mul1MikdCJEyd8vzab\\\n",
       "zSqdTiudTodYIQDEB5/IHKHx8XHt27dPN27cKOr//lspn8iM4g97/2cEt/95JeOLU2X8MAOLkXw+\\\n",
       "v/T3CxcuLOtQBAAsx818I/LCCy/oypUrunPnjmpra3Xq1ClduXJFuVxOnueprq5Or7322iOtq13S\\\n",
       "6AqP89N8WEr5ydzvxsDFPqO051SWYPfASmvjQn08cQmxAqQ9jwArWpCXEEsR3J3lCbBwAmyUU2Xs\\\n",
       "cAkRAGASAQYAMIkAAwCYRIABAEyiiaMC8HtgQQr22yGM3x0rJMhR/LZltRx9nCrjhxkYAMAkAgwA\\\n",
       "YBIBBgAwiQADAJhEgAEATOJeiKtWXHvKir8tULA3Eir0jOK70Pxv/1TK/i/+OUG+ylEfGcB/YwYG\\\n",
       "ADCJAAMAmESAAQBMIsAAACYRYAAAkwgwAIBJtNGvWmE0RZfS4B5s43uwSvl035X3QSmfrhzvfROk\\\n",
       "Ypv/w/lEZsQPMzAAgEkEGADAJAIMAGASAQYAMIkAAwCYRIBFZGJiQl1dXWpqalJzc7POnDkjSbp7\\\n",
       "964ymYwaGhqUyWQ0MzNTlvGdzxIsz3cJZ/zi+dVV6uK//Ssv/nusUHXBbWfwShnJfw8U9/Wl9WCu\\\n",
       "tJbrJa0J5eY55+Jw3lh18vm88vm8du7cqbm5ObW3t2twcFC/+c1vVF1drR//+Mfq7+/XzMyMfvaz\\\n",
       "nxVcl+cF0yoshdd2HfX4fqL+Zih8L/ri91qxjefB7/+4vtLF41QZP8zAIpJIJLRz505J0vr169XY\\\n",
       "2KipqSkNDQ2pp6dHktTT06PBwcEoywSA2GIGFgPj4+Pq7OzUjRs39IUvfEGzs7OSHv7E98QTTyz9\\\n",
       "2w8zsOBE/c3ADCy+OFXGD3fiiNi9e/d04MABnT59Whs2bFj2f57n+YZTNptVNpsNo0QAiCVmYBFa\\\n",
       "WFjQvn37tHfvXh0/flyStH37dl25ckWJREL5fF5f/vKX9de//rXgepiBBSfqbwZmYPHFqTJ+eA8s\\\n",
       "Is45HTlyRI2NjUvhJUnd3d0aGBiQJA0MDGj//v1RlQgAscYMLCJXr17VM888o9bWVq1Z8/DniFde\\\n",
       "eUUdHR06dOiQPvjgA23ZskXnz59XdXV1wXWVMgNbLawd3F5JFfP6F6/4GwBzqowfAqwCEGD+rB3c\\\n",
       "BFhYCLBKwCVEAIBJBBgAwCQCDABgEgEGADCJX2SGGaX8HlTQFSA6pb36UR8zKCdmYAAAkwgwAIBJ\\\n",
       "BBgAwCQCDABgEgEGADCJLkSUTfA9e/HsHIu6BzKee+VTpVS98nO8mG8pwscMDABgEgEGADCJAAMA\\\n",
       "mESAAQBMIsAAACYRYAAAk2ijx/8svFvcBtlI7teqHV9+beT+NzmOQ+t5KeMHWXPU249yYgYGADCJ\\\n",
       "AAMAmESAAQBMIsAAACYRYAAAkwiwiExMTKirq0tNTU1qbm7WmTNnJEl9fX1KJpNKpVJKpVK6ePFi\\\n",
       "yWO4AkuQzwlWsFV7votWXEqprDC/kVZeClXsN75X4A9QyTznXHjnJizJ5/PK5/PauXOn5ubm1N7e\\\n",
       "rsHBQZ0/f17r1q3Tyy+//Mjr8jy/9uoCz/F5POjnFC/YtQV5Ci+tib+4CkrZemIqHJwq44ffA4tI\\\n",
       "IpFQIpGQJK1fv16NjY2ampqKuCoAsINLiDEwPj6ud955Rx0dHZKks2fPqq2tTb29vZqZmYm4OgCI\\\n",
       "JwIsYvfu3dOBAwd0+vRpbdiwQceOHdPY2JhyuZwSiYROnDix4vOy2azS6bTS6XTIFQNAPPAeWIQW\\\n",
       "Fha0b98+7d27V8ePH//M/4+Pj2vfvn26ceNGwfXwHpg/3gNDUDhVxg8zsIg453TkyBE1NjYuC698\\\n",
       "Pr/09wsXLqilpSWK8gAg9piBReTq1at65pln1NraqjVrHv4c8corr+jcuXPK5XLyPE91dXV67bXX\\\n",
       "lpo9/PjNwAorZT5R3KES1oEV7xlIvKvDo+NUGT8EWAUgwOIs3tXh0XGqjB8uIQIATCLAAAAmEWAA\\\n",
       "AJMIMACASdxKatUqf3OBzfYFm1UHp5TfBCx+bVHv5WC3ElFhBgYAMIkAAwCYRIABAEwiwAAAJhFg\\\n",
       "AACTCDAAgEm00aMI4XygSrAqpyk6nJb04FrlS1tbOOJaF4rDDAwAYBIBBgAwiQADAJhEgAEATCLA\\\n",
       "AAAm0YWIZUrrKItvT1f0N5MNroK47uWo67LYBYlgMAMDAJhEgAEATCLAAAAmEWAAAJMIMACASQRY\\\n",
       "RO7fv6/du3drx44dam5u1smTJyVJt27dUkdHh+rr6/X8889rfn6+5DFcgcWPV2CxyG9bit0vhRTe\\\n",
       "z8XtTVfgD1bey5V2zOLREWARefzxx3X58mW9++67yuVyGh4e1ttvv60f/ehHeumll/S3v/1NTzzx\\\n",
       "hH79619HXSoAxBIBFhHP87Ru3TpJ0sLCghYWFuR5ni5fvqyDBw9Kknp6ejQ4OBhlmQAQWwRYhBYX\\\n",
       "F5VKpVRTU6NMJqNt27Zp48aNqqp6+PvltbW1mpqairhKAIgnAixCa9euVS6X0+TkpEZGRvT+++8/\\\n",
       "8nOz2azS6bTS6XQZKwSA+CLAYmDjxo3q6urStWvXNDs7qwcPHkiSJicnlUwmV3zO0aNHNTo6qtHR\\\n",
       "0TBLBYDYIMAicvv2bc3OzkqSPv74Y126dEmNjY3q6urSG2+8IUkaGBjQ/v37oywTAGLLc87RnxuB\\\n",
       "v/zlL+rp6dHi4qI++eQTHTp0SD/5yU/097//XYcPH9bdu3f1pS99Sb/97W/1+OOPF1yX562WhuHy\\\n",
       "35o36hvDRj1+WCxuJ6fK+CHAKgABRoBZY3E7OVXGD5cQAQAmEWAAAJMIMACASQQYAMCkqqgLQOUK\\\n",
       "/o368r+9X8oIQW5nXBsYSlX+thusZszAAAAmEWAAAJMIMACASQQYAMAkAgwAYBIBBgAwiTZ6lM1q\\\n",
       "aZVeLdtZCvYNyokZGADAJAIMAGASAQYAMIkAAwCYRIABAEyiC7ECfO5zn1NdXZ0k6fbt23ryyScj\\\n",
       "q4XxGb8Sxx8fHw98nfjfeY7Pya4o6XRao6OjjM/4jI+KxyVEAIBJBBgAwKS1fX19fVEXgWC1t7cz\\\n",
       "PuMzPioe74EBAEziEiIAwCQCrEIMDw9r+/btqq+vV39/f+jj19XVqbW1ValUSul0OpQxe3t7VVNT\\\n",
       "o5aWlqXH7t69q0wmo4aGBmUyGc3MzIQ6fl9fn5LJpFKplFKplC5evFiWsScmJtTV1aWmpiY1Nzfr\\\n",
       "zJkzksLbfr/xw9r++/fva/fu3dqxY4eam5t18uRJSdKtW7fU0dGh+vp6Pf/885qfny/L+IgJB/Me\\\n",
       "PHjgtm7d6sbGxty///1v19bW5t57771Qa9iyZYu7fft2qGP+4Q9/cNevX3fNzc1Lj/3gBz9wr776\\\n",
       "qnPOuVdffdX98Ic/DHX8kydPup///OdlG/NTH374obt+/bpzzrl//etfrqGhwb333nuhbb/f+GFt\\\n",
       "/yeffOLm5uacc87Nz8+73bt3u2vXrrlvfetb7ty5c845577//e+7X/7yl2WvBdFhBlYBRkZGVF9f\\\n",
       "r61bt+qxxx7T4cOHNTQ0FHVZZdfZ2anq6upljw0NDamnp0eS1NPTo8HBwVDHD0sikdDOnTslSevX\\\n",
       "r1djY6OmpqZC236/8cPieZ7WrVsnSVpYWNDCwoI8z9Ply5d18OBBSeV//RE9AqwCTE1N6amnnlr6\\\n",
       "d21tbagnE+nhCeXZZ59Ve3u7stlsqGP/p+npaSUSCUnS5s2bNT09HXoNZ8+eVVtbm3p7e8t6CfNT\\\n",
       "4+Pjeuedd9TR0RHJ9v/n+FJ427+4uKhUKqWamhplMhlt27ZNGzduVFXVwxsMRfF9gHARYAjE1atX\\\n",
       "9ec//1m/+93v9Itf/EJ//OMfoy5JnufJ88L9SMVjx45pbGxMuVxOiURCJ06cKOt49+7d04EDB3T6\\\n",
       "9Glt2LBh2f+Fsf3/PX6Y27927VrlcjlNTk5qZGRE77//ftnGQjwRYBUgmUxqYmJi6d+Tk5NKJpOh\\\n",
       "1yBJNTU1eu655zQyMhLq+J/atGmT8vm8JCmfz6umpib08deuXas1a9boe9/7Xln3w8LCgg4cOKDv\\\n",
       "fOc7+uY3v7k0fljb7zd+WNv/qY0bN6qrq0vXrl3T7OysHjx4ICma7wOEiwCrALt27dLNmzd169Yt\\\n",
       "zc/P6/XXX1d3d3do43/00Ueam5tb+vtbb721rDMvTN3d3RoYGJAkDQwMaP/+/aGO/2l4SNKFCxfK\\\n",
       "th+cczpy5IgaGxt1/PjxpcfD2n6/8cPa/tu3b2t2dlaS9PHHH+vSpUtqbGxUV1eX3njjDUnRvP4I\\\n",
       "WdRdJAjGm2++6RoaGtzWrVvdT3/601DHHhsbc21tba6trc01NTWFNv7hw4fd5s2bXVVVlUsmk+5X\\\n",
       "v/qVu3PnjvvKV77i6uvr3Z49e9w///nPUMf/7ne/61paWlxra6v7+te/7j788MOyjP2nP/3JSXKt\\\n",
       "ra1ux44dbseOHe7NN98Mbfv9xg9r+999912XSqVca2ura25udqdOnXLOPTwWd+3a5bZt2+YOHjzo\\\n",
       "7t+/X5bxEQ/ciQMAYBKXEAEAJhFgAACTCDAAgEkEGADAJAIMAGASAQYAMIkAAwCYRIABAEwiwAAA\\\n",
       "JhFgAACTCDAAgEkEGADAJAIMAGASAQYAMIkAAwCYRIABAEwiwAAAJhFgAACTCDAAgEkEGADApP8D\\\n",
       "eXABkvK4s4MAAAAASUVORK5CYII=\\\n",
       "\"\n",
       "  frames[1] = \"data:image/png;base64,iVBORw0KGgoAAAANSUhEUgAAAbAAAAEgCAYAAADVKCZpAAAABHNCSVQICAgIfAhkiAAAAAlwSFlz\\\n",
       "AAALEgAACxIB0t1+/AAAADl0RVh0U29mdHdhcmUAbWF0cGxvdGxpYiB2ZXJzaW9uIDIuMi4zLCBo\\\n",
       "dHRwOi8vbWF0cGxvdGxpYi5vcmcvIxREBQAAFYdJREFUeJzt3X9oVff9x/HXMWH9R8UFG73cFIMm\\\n",
       "dfnpnYnmr0ozSR0j03U6a7dBSmQO/6x2P/6aEUabsX8U3KCXDRYYc0jB+EddqMxmm+AIcd4OCy1d\\\n",
       "ZmiSXrI4I4ulziT9fP+Q5jtnzl1ze3I+533zfMgFveaez49zcl75nPPJ5wTOOScAAIxZ5bsCAAAU\\\n",
       "gwADAJhEgAEATCLAAAAmEWAAAJMIMACASQQYAMAkAgwAYBIBBgAwiQADAJhEgAEATCLAAAAmEWAA\\\n",
       "AJMIMACASQQYAMAkAgwAYBIBBgAwiQADAJhEgAEATCLAAAAmEWAAAJMIMACASQQYAMAkAgwAYBIB\\\n",
       "BgAwiQADAJhEgAEATCLAAAAmEWAAAJMIMACASQQYAMAkAgwAYBIBBgAwiQBLoIGBAW3dulU1NTXq\\\n",
       "7e31XR0ASKTAOed8VwL/b35+Xk8++aQuXbqkqqoq7dixQ2fPnlV9fX3oZ9YH61Wt6kfev6Zry1jT\\\n",
       "lagl5H17/WyzJWG1LmTxFhXaUlgfcKpMnnLfFcDDhoaGVFNTo82bN0uSDh06pAsXLhQMsGpVa1jD\\\n",
       "j7wfKFi2eq5Mj/bxA/b62WZLwmpdyOItKrSlZPcB/hOXEBNmYmJCTzzxxMK/q6qqNDEx4bFGAJBM\\\n",
       "jMCMymazymazkqQpTXmuDQDEjxFYwqTTaY2NjS38e3x8XOl0+pGvO3LkiIaHhzU8PKzH9XicVQSA\\\n",
       "RGASR8LMzc3pySef1O9//3ul02nt2LFDv/nNb9TQ0BD6mSBY/Kp9oR0bfp2/uE+tDGF9s9L7Zel8\\\n",
       "H2XFlM+pMnm4hJgw5eXlOnPmjPbs2aP5+Xl1d3cXDC8AWKkYgZUARmBxYQQWFd9HGSOw0sA9MACA\\\n",
       "SQQYAMAkAgwAYBIBBgAwiVmIJayYm+GuwKdW+lSFsL5Jdr8kc+JJXKUns/WICiMwAIBJBBgAwCQC\\\n",
       "DABgEgEGADCJAAMAmMQsRDwk2bOz/M4pS3bfhLFZ66is7NaXPkZgAACTCDAAgEkEGADAJAIMAGAS\\\n",
       "AQYAMIkAAwCYxDR6GMKk6MX4frox4AsjMACASQQYAMAkAgwAYBIBBgAwiQADAJjELMQEqq6u1po1\\\n",
       "a1RWVqby8nINDw/7rlLCrex5eIVbuPwLILsC/R8ktv9X9jFTKgiwhHrzzTe1fv1639UAgMTiEiIA\\\n",
       "wCQCLIGCINAzzzyjlpYWZbNZ39UBgETiEmICXblyRel0Wv/4xz/U0dGhL3zhC9q1a9dDX5PNZgk3\\\n",
       "ACta4JwrdDcTnvX09Gj16tV66aWXQr8mCFb6TWduyIdjEsfiln7McKpMHi4hJsyHH36omZmZhb+/\\\n",
       "8cYbamxsjK18V+CVXEGBV+kotG/C99nS+qWYMoICf5J7LK2MY6bUcQkxYSYnJ/Xss89Kkubm5vTN\\\n",
       "b35TX/7ylz3XCgCSh0uIJSDKS4hcjEuuYr5Rl7rPoi5j+S9gxodTZfJwCREAYBIBBgAwiQADAJhE\\\n",
       "gAEATGIWIh5i8eb6ShflJIqo93+U2yulCSGIBiMwAIBJBBgAwCQCDABgEgEGADCJAAMAmMQsRMCD\\\n",
       "KBclKmZbcSxLVbikpc+dTO7K9vCFERgAwCQCDABgEgEGADCJAAMAmESAAQBMIsAAACYxjR7m8Zzc\\\n",
       "JCtm6vvyP2GcCfmlgREYAMAkAgwAYBIBBgAwiQADAJhEgAEATCLAPOnu7lZlZaUaGxsX3rt9+7Y6\\\n",
       "OjpUW1urjo4OTU9Pf8ZSXIFXMhWqsa2WJEUxPZrUnl56nQNp0RdKAwHmyQsvvKCBgYGH3uvt7dXu\\\n",
       "3bv13nvvaffu3ert7fVUOwBIvsA5l4QfrVak0dFRdXZ26saNG5KkrVu3anBwUKlUSvl8Xk8//bTe\\\n",
       "fffd/7mdIAj7mbLQrk3mz6EcjFGLrkf9P84kvofALFo6p8rEYQSWIJOTk0qlUpKkjRs3anJy0nON\\\n",
       "ACC5WIkjoYIgKDCykrLZrLLZbIw1AoBkYQSWIBs2bFA+n5ck5fN5VVZWhn7tkSNHNDw8rOHh4biq\\\n",
       "BwCJQoAlyN69e9XX1ydJ6uvr0759+zzXCACSi0kcnjz//PMaHBzUrVu3tGHDBp08eVJf+9rXdPDg\\\n",
       "Qb3//vvatGmTzp07p4qKiv+5rUKXGpfK97QPDsbk9kD4/vc9uSNai+2BVknDnCoThwArAQRYKUlu\\\n",
       "DxBgyd03KxWXEAEAJhFgAACTCDAAgEkEGADAJH6ReYUKf9S672kchUS5lJC9G/K+ez9ctMdM+LEZ\\\n",
       "pSQf5/i0GIEBAEwiwAAAJhFgAACTCDAAgEkEGADAJGYhrlBJXRaoUOnFzRuM8oGOyeR/Pl20pfiu\\\n",
       "c1L3Mx7FCAwAYBIBBgAwiQADAJhEgAEATCLAAAAmEWAAAJOYRo8IRLf8atRL7Pp+inQc5Rcug0nh\\\n",
       "KF2MwAAAJhFgAACTCDAAgEkEGADAJAIMAGASAeZJd3e3Kisr1djYuPBeT0+P0um0MpmMMpmMLl68\\\n",
       "6LGGSxEs+nJS6Cvsfxbf0ievsD/hn4lDXOWH96XvHgD8IMA8eeGFFzQwMPDI+y+++KJyuZxyuZy+\\\n",
       "8pWveKgZANhAgHmya9cuVVRU+K4GAJhFgCXMmTNn1NzcrO7ubk1PT/uuDgAkFgGWIEePHtXIyIhy\\\n",
       "uZxSqZSOHz8e+rXZbFatra1qbW2NsYYAkByBcy7q1XvwKY2Ojqqzs1M3btxY0v/9tyBI5s36wkss\\\n",
       "Rbf8VPQLUCVTeI8lc/+XGk6VycMILEHy+fzC38+fP//QDEUAwMNYzNeT559/XoODg7p165aqqqp0\\\n",
       "8uRJDQ4OKpfLKQgCVVdX69VXX/VdzWXjQkYNxY0lilk0ePGfpqMf/y2tnVEvDBzlOLeU+F6AGdHg\\\n",
       "EmIJsHgJMUxcLSHAVrZi+plTZfJwCREAYBIBBgAwiQADAJhEgAEATGIWYglokTS8yPuFbtSH39yP\\\n",
       "bhrBcixmu9zlxDU7LdrpAOFb43fEFkevlAZGYAAAkwgwAIBJBBgAwCQCDABgEgEGADCJpaRKQFKX\\\n",
       "kiqO31XqwpaYKlR6MUtJFapB+JYW35bvdf18lx8XTpXJwwgMAGASAQYAMIkAAwCYRIABAEwiwAAA\\\n",
       "JhFgAACTWMy3JBSznG90ol1kN/xTcSzmW3jx26U/xTl8Wn7Yp6Jt/1InfhfTl6U0VR62MAIDAJhE\\\n",
       "gAEATCLAAAAmEWAAAJMIMACASQSYJ2NjY2pvb1d9fb0aGhp0+vRpSdLt27fV0dGh2tpadXR0aHp6\\\n",
       "+n9uq0XX5BQ88oqaC3kFIa+oxVFOWBtdkTUI+8Sje+vBK+o6h5cfzz4r1JvAZ8Vq9J7k83nl83lt\\\n",
       "375dMzMzamlpUX9/v371q1+poqJCP/zhD9Xb26vp6Wn95Cc/Kbit1iCIZRJ9HNPYfStuZfXovoWi\\\n",
       "/sHD/74pnaOGU2XyMALzJJVKafv27ZKkNWvWqK6uThMTE7pw4YK6urokSV1dXerv7/dZTQBILAIs\\\n",
       "AUZHR3X9+nW1tbVpcnJSqVRKkrRx40ZNTk56rh0AJBMrcXh29+5d7d+/X6dOndLatWsf+r8gCEIf\\\n",
       "VpnNZpXNZiVJU8teSwBIHu6BeTQ7O6vOzk7t2bNHx44dkyRt3bpVg4ODSqVSyufzevrpp/Xuu+8W\\\n",
       "3A73wKLDPbColc5Rw6kyebiE6IlzTocPH1ZdXd1CeEnS3r171dfXJ0nq6+vTvn37fFURABKNEZgn\\\n",
       "V65c0VNPPaWmpiatWvXg54iXX35ZbW1tOnjwoN5//31t2rRJ586dU0VFRcFthV1mLEZxI5Dl31Zc\\\n",
       "iqlz4W+gpS0AXMwILKl9mWRF7WdOlYlDgJUAAiw6BNjKQICVBi4hAgBMIsAAACYRYAAAkwgwAIBJ\\\n",
       "/CIzHrJSJgQUczu+uFv4i/doMdsqdrHfsK2tZCu79aWDERgAwCQCDABgEgEGADCJAAMAmESAAQBM\\\n",
       "YhbiClXcGuFL+1RxM73CZ9qFLbNUWjPKCrV/cYXav9R5i6XVlyh1jMAAACYRYAAAkwgwAIBJBBgA\\\n",
       "wCQCDABgEgEGADCJafQrVPjCsIUmUvudZB1W52KeYhwfv0/xDe+Zpe//4n71YmnbKnZ71spHNBiB\\\n",
       "AQBMIsAAACYRYAAAkwgwAIBJBBgAwCQCzJOxsTG1t7ervr5eDQ0NOn36tCSpp6dH6XRamUxGmUxG\\\n",
       "Fy9eXKYaBCGveLjQV7DkV3zCax3+ik60e2zpWwvbA1GWHtfeLHREwY7AOcce8yCfzyufz2v79u2a\\\n",
       "mZlRS0uL+vv7de7cOa1evVovvfTSp95WENib+GvzoEvqlPi4thblRHrflj6RnlNl8vB7YJ6kUiml\\\n",
       "UilJ0po1a1RXV6eJiQnPtQIAO7iEmACjo6O6fv262traJElnzpxRc3Ozuru7NT097bl2AJBMBJhn\\\n",
       "d+/e1f79+3Xq1CmtXbtWR48e1cjIiHK5nFKplI4fP77o57LZrFpbW9Xa2hpzjQEgGbgH5tHs7Kw6\\\n",
       "Ozu1Z88eHTt27JH/Hx0dVWdnp27cuFFwO9wDiwv3wKLblm/cAysFjMA8cc7p8OHDqqureyi88vn8\\\n",
       "wt/Pnz+vxsZGH9UDgMRjBObJlStX9NRTT6mpqUmrVj34OeLll1/W2bNnlcvlFASBqqur9eqrry5M\\\n",
       "9ggT1wistA6UeFqT3LFJcmuWVJwqk4cAKwEEWDEIMCwNp8rk4RIiAMAkAgwAYBIBBgAwiQADAJjE\\\n",
       "UlIwJJk30f1Ph/BfA8AHRmAAAJMIMACASQQYAMAkAgwAYBIBBgAwiQADAJjENPoS5gpMOw+KmHod\\\n",
       "9olC5VgT5UNGoi6nmE+V0gNQ4rJYn/HUvWRiBAYAMIkAAwCYRIABAEwiwAAAJhFgAACTmIVYwoqZ\\\n",
       "aWiR71YWLt9v7Xz3TbSim1NZOvNmVzZGYAAAkwgwAIBJBBgAwCQCDABgEgEGADCJAPPk3r172rlz\\\n",
       "p7Zt26aGhgadOHFCknTz5k21tbWppqZGzz33nO7fv++5psULYnr5F13tXIE/UXIhr2SL5wgI5B55\\\n",
       "XVNL5OXgsyPAPHnsscd0+fJlvfXWW8rlchoYGNCf//xn/eAHP9CLL76ov/3tb/r85z+vX/7yl76r\\\n",
       "CgCJRIB5EgSBVq9eLUmanZ3V7OysgiDQ5cuXdeDAAUlSV1eX+vv7fVYTABKLAPNofn5emUxGlZWV\\\n",
       "6ujo0JYtW7Ru3TqVlz/4/fKqqipNTEx4riUAJBMB5lFZWZlyuZzGx8c1NDSkd95551N/NpvNqrW1\\\n",
       "Va2tPKkIwMpEgCXAunXr1N7erqtXr+rOnTuam5uTJI2PjyudTi/6mSNHjmh4eFjDw8NxVhUAEoMA\\\n",
       "82Rqakp37tyRJH300Ue6dOmS6urq1N7ertdee02S1NfXp3379vmsJgAkVuCcS/7s2RL017/+VV1d\\\n",
       "XZqfn9fHH3+sgwcP6kc/+pH+/ve/69ChQ7p9+7a++MUv6te//rUee+yxgtsKgmRMJn9Ukg+t6Pqs\\\n",
       "UCv975noFsD1XbrflkicKpOHACsBBFgxCDBrpRNg+G9cQgQAmESAAQBMIsAAACYRYAAAk8p9VwCl\\\n",
       "zN4UhmImZPhvZSF+axdl6cnuZ/jACAwAYBIBBgAwiQADAJhEgAEATCLAAAAmEWAAAJOYRo+SttSp\\\n",
       "1/6nake9sqLvFQQXl+z1I2EFIzAAgEkEGADAJAIMAGASAQYAMIkAAwCYxBOZS8D69etVXV0tSZqa\\\n",
       "mtLjjz/urS6UT/mlWP7o6Khu3boV+Xbx2RBgJaa1tVXDw8OUT/mUj5LHJUQAgEkEGADApLKenp4e\\\n",
       "35VAtFpaWiif8ikfJY97YAAAk7iECAAwiQArEQMDA9q6datqamrU29sbe/nV1dVqampSJpNRa2tr\\\n",
       "LGV2d3ersrJSjY2NC+/dvn1bHR0dqq2tVUdHh6anp2Mtv6enR+l0WplMRplMRhcvXlyWssfGxtTe\\\n",
       "3q76+no1NDTo9OnTkuJrf1j5cbX/3r172rlzp7Zt26aGhgadOHFCknTz5k21tbWppqZGzz33nO7f\\\n",
       "v78s5SMhHMybm5tzmzdvdiMjI+7f//63a25udm+//Xasddi0aZObmpqKtcw//OEP7tq1a66hoWHh\\\n",
       "ve9973vulVdecc4598orr7jvf//7sZZ/4sQJ99Of/nTZyvzEBx984K5du+acc+5f//qXq62tdW+/\\\n",
       "/XZs7Q8rP672f/zxx25mZsY559z9+/fdzp073dWrV903vvENd/bsWeecc9/97nfdz3/+82WvC/xh\\\n",
       "BFYChoaGVFNTo82bN+tzn/ucDh06pAsXLviu1rLbtWuXKioqHnrvwoUL6urqkiR1dXWpv78/1vLj\\\n",
       "kkqltH37dknSmjVrVFdXp4mJidjaH1Z+XIIg0OrVqyVJs7Ozmp2dVRAEunz5sg4cOCBp+fc//CPA\\\n",
       "SsDExISeeOKJhX9XVVXFejKRHpxQnnnmGbW0tCibzcZa9n+anJxUKpWSJG3cuFGTk5Ox1+HMmTNq\\\n",
       "bm5Wd3f3sl7C/MTo6KiuX7+utrY2L+3/z/Kl+No/Pz+vTCajyspKdXR0aMuWLVq3bp3Kyx885tDH\\\n",
       "9wHiRYAhEleuXNFf/vIX/e53v9PPfvYz/fGPf/RdJQVBoCCI9/GIR48e1cjIiHK5nFKplI4fP76s\\\n",
       "5d29e1f79+/XqVOntHbt2of+L472/3f5cba/rKxMuVxO4+PjGhoa0jvvvLNsZSGZCLASkE6nNTY2\\\n",
       "tvDv8fFxpdPp2OsgSZWVlXr22Wc1NDQUa/mf2LBhg/L5vCQpn8+rsrIy9vLLysq0atUqfec731nW\\\n",
       "fpidndX+/fv1rW99S1//+tcXyo+r/WHlx9X+T6xbt07t7e26evWq7ty5o7m5OUl+vg8QLwKsBOzY\\\n",
       "sUPvvfeebt68qfv37+u3v/2t9u7dG1v5H374oWZmZhb+/sYbbzw0My9Oe/fuVV9fnySpr69P+/bt\\\n",
       "i7X8T8JDks6fP79s/eCc0+HDh1VXV6djx44tvB9X+8PKj6v9U1NTunPnjiTpo48+0qVLl1RXV6f2\\\n",
       "9na99tprkvzsf8TM9ywSROP11193tbW1bvPmze7HP/5xrGWPjIy45uZm19zc7Orr62Mr/9ChQ27j\\\n",
       "xo2uvLzcpdNp94tf/MLdunXLfelLX3I1NTVu9+7d7p///Ges5X/72992jY2NrqmpyX31q191H3zw\\\n",
       "wbKU/ac//clJck1NTW7btm1u27Zt7vXXX4+t/WHlx9X+t956y2UyGdfU1OQaGhrcyZMnnXMPjsUd\\\n",
       "O3a4LVu2uAMHDrh79+4tS/lIBlbiAACYxCVEAIBJBBgAwCQCDABgEgEGADCJAAMAmESAAQBMIsAA\\\n",
       "ACYRYAAAkwgwAIBJBBgAwCQCDABgEgEGADCJAAMAmESAAQBMIsAAACYRYAAAkwgwAIBJBBgAwCQC\\\n",
       "DABgEgEGADDp/wDGItOMVCwcYQAAAABJRU5ErkJggg==\\\n",
       "\"\n",
       "  frames[2] = \"data:image/png;base64,iVBORw0KGgoAAAANSUhEUgAAAbAAAAEgCAYAAADVKCZpAAAABHNCSVQICAgIfAhkiAAAAAlwSFlz\\\n",
       "AAALEgAACxIB0t1+/AAAADl0RVh0U29mdHdhcmUAbWF0cGxvdGxpYiB2ZXJzaW9uIDIuMi4zLCBo\\\n",
       "dHRwOi8vbWF0cGxvdGxpYi5vcmcvIxREBQAAFNlJREFUeJzt3V1sFNfdx/HfgNXcACJWYlitUyyw\\\n",
       "S/3KFht8FasucqgqappCCGkrOTIqFZeB9OWqGKlKXPUGJFopq1aqpUpEKBL2RagVJEpbJCLLNJuK\\\n",
       "SKmoixXbWblQbNVEoTbOeS6i+CllZ4OX9Zz5734/aCR77Z3zP7O78/OZPZwNnHNOAAAYs8p3AQAA\\\n",
       "FIIAAwCYRIABAEwiwAAAJhFgAACTCDAAgEkEGADAJAIMAGASAQYAMIkAAwCYRIABAEwiwAAAJhFg\\\n",
       "AACTCDAAgEkEGADAJAIMAGASAQYAMIkAAwCYRIABAEwiwAAAJhFgAACTCDAAgEkEGADAJAIMAGAS\\\n",
       "AQYAMIkAAwCYRIABAEwiwAAAJhFgAACTCDAAgEkEGADAJAIMAGASAQYAMIkAi6Hh4WFt3bpVtbW1\\\n",
       "6u/v910OAMRS4JxzvovA/1tcXNSXvvQlXbhwQdXV1dqxY4fOnDmjhoaG0PsEQRBhhcXRGnL71Uir\\\n",
       "KI6wvkg2+4PcOFXGT4XvAnC/kZER1dbWavPmzZKkgwcPamhoKG+AWTQacru9KA7vi2SzP4AVXEKM\\\n",
       "mampKT311FNL31dXV2tqaspjRQAQT4zAjEqn00qn077LAABvCLCYSSaTmpiYWPp+cnJSyWTygd87\\\n",
       "fPiwDh8+LMnme2AA8Ki4hBgzO3bs0PXr13Xjxg3Nz8/r9ddfV3d3t++yii4I2SwK60t0/XF5tlJS\\\n",
       "Dn3EcjACi5mKigqdPn1au3fv1uLionp7e9XY2Oi7LACIHabRlwAuIZa7fC/hUnpuhPUzmj5yqowf\\\n",
       "LiECAEwiwAAAJhFgAACTCDAAgEnMQsRD8/sWenkobDpGuTwC5dJPPCxGYAAAkwgwAIBJBBgAwCQC\\\n",
       "DABgEgEGADCJACsBrYpmidNSWoA3rvwvDLx8hSwlnP8+xVu0l+V/SxsBBgAwiQADAJhEgAEATCLA\\\n",
       "AAAmEWAAAJMIMACASXwicwkI/0Tmcvmk3lJi7zGzV3FhNXOqjB9GYAAAkwgwAIBJBBgAwCQCDABg\\\n",
       "EgEGADCpwncBeFBNTY3Wrl2r1atXq6KiQqOjowXuKa5zwPwLm0/GEQufaedCjo7FY2axZjyIAIup\\\n",
       "P/zhD3riiSd8lwEAscUlRACASQRYDAVBoGeeeUatra1Kp9O+ywGAWOISYgxdvnxZyWRS//znP9XV\\\n",
       "1aUvf/nL6ujouO930uk04QagrLGUVMz19fVpzZo1evnll0N/J3wpKYSJ7yQO3wszlcckjkJwqowf\\\n",
       "LiHGzEcffaS5ubmlr9966y01NTV5rgpRcQpCt8L2l3sLF4RuYT8BfOESYsxMT0/r2WeflSTdu3dP\\\n",
       "3/nOd/T1r3/dc1UAED9cQiwBXEJcvrheQiz2BcS49tMiTpXxwyVEAIBJBBgAwCQCDABgEgEGADCJ\\\n",
       "WYgoS74nMUQ1ucJ3P4GVxAgMAGASAQYAMIkAAwCYRIABAEwiwAAAJhFgJaBVy12wFb6xMC7w6Agw\\\n",
       "AIBJBBgAwCQCDABgEgEGADCJAAMAmESAAQBM4hOZS0Ahn8hc7p/UW0j/i3nM4nv8i/2Z0KWDU2X8\\\n",
       "MAIDAJhEgAEATCLAAAAmEWAAAJMIMACASQSYJ729vaqqqlJTU9PSbbdv31ZXV5fq6urU1dWlmZmZ\\\n",
       "h9pXIYv5hi0mm2s/pbg4cCGL6RZzAd7wffl9BJyC0M2/4h2XcnmelzoCzJMXX3xRw8PD993W39+v\\\n",
       "Xbt26fr169q1a5f6+/s9VQcA8UeAedLR0aHKysr7bhsaGlJPT48kqaenR4ODgz5KAwATCLAYmZ6e\\\n",
       "ViKRkCRt3LhR09PTnisCgPiq8F0AcguCIO8KG+l0Wul0WpJ0M6qiACBGGIHFyIYNG5TNZiVJ2WxW\\\n",
       "VVVVob97+PBhjY6OanR0VE9GVSAAxAgBFiPd3d0aGBiQJA0MDGjv3r2eKwKA+GIxX09eeOEFXbp0\\\n",
       "Sbdu3dKGDRt04sQJfetb39KBAwf0wQcfaNOmTTp79uwDEz1yaQsCjea4PQ4Tn+FbFMsGl8cCwJwq\\\n",
       "44cAKwEEGMIRYMXCqTJ+uIQIADCJAAMAmESAAQBMIsAAACYxiaME5PsPz8itkKkNhU2HWO69wl+O\\\n",
       "YQvqBgUtQVsekziKOYWFU2X8MAIDAJhEgAEATCLAAAAmEWAAAJMIMACASXycCoogiuWKJFdAO2E/\\\n",
       "KaSywnqz3Hstvy/55wCW9wzVwo4ZrGAEBgAwiQADAJhEgAEATCLAAAAmEWAAAJMIMACASUyjRxEU\\\n",
       "tDTqsvcVNiU835ToaCb4++W/L/4rWC57FSMXRmAAAJMIMACASQQYAMAkAgwAYBIBBgAwiQDzpLe3\\\n",
       "V1VVVWpqalq6ra+vT8lkUqlUSqlUSufPn3+kNlyezb8g5xZVzS70XyHtF3KvfPdZ7r5yH0vm2qHU\\\n",
       "EWCevPjiixoeHn7g9pdeekmZTEaZTEbf+MY3PFQGADYQYJ50dHSosrLSdxkAYBYBFjOnT59WS0uL\\\n",
       "ent7NTMz47scAIgtAixGjhw5orGxMWUyGSUSCR07diz0d9PptNra2tTW1hZhhQAQH4FzLh7v6Zeh\\\n",
       "8fFx7dmzR9euXVvWz/5XECx/iaW4vr1fSM2FPYGL9+nO0VUd10etPHCqjB9GYDGSzWaXvj537tx9\\\n",
       "MxQBAPdjMV9PXnjhBV26dEm3bt1SdXW1Tpw4oUuXLimTySgIAtXU1Oi11157qH21ShrNcbvFv9cL\\\n",
       "qTkoYATkCmipsIWBS385YYsj/Xxy9YcL9fHEJcQS0BYEJRNghSkkwIonf4CG36tUlEuAjXKqjB0u\\\n",
       "IQIATCLAAAAmEWAAAJMIMACASUziKAGl9P/AfCtsOkbxJpHwuMQXp8r4YQQGADCJAAMAmESAAQBM\\\n",
       "IsAAACYRYAAAk1gLsYSVz4w23/Mt87WRu7Ygpo+O7yMJLAcjMACASQQYAMAkAgwAYBIBBgAwiQAD\\\n",
       "AJhEgAEATGIaPWKlsGnchUzwDpvenu8efieSR7EAMFPlpfDPZEbcMAIDAJhEgAEATCLAAAAmEWAA\\\n",
       "AJMIMACASQSYJxMTE+rs7FRDQ4MaGxt16tQpSdLt27fV1dWluro6dXV1aWZmxnOl0QrybNG1lHsL\\\n",
       "+4nLuwU5t3DL3RMfc198uR7lq14rQm6Bc45XgAfZbFbZbFbbt2/X3NycWltbNTg4qN/+9reqrKzU\\\n",
       "T37yE/X392tmZkY///nP8+4rCJj87FMhL6DwR6y4e0PxcKqMH0ZgniQSCW3fvl2StHbtWtXX12tq\\\n",
       "akpDQ0Pq6emRJPX09GhwcNBnmQAQW4zAYmB8fFwdHR26du2avvjFL2p2dlbSp3/xPf7440vfh2EE\\\n",
       "5hcjsPLAqTJ+WInDszt37mjfvn06efKk1q1bd9/PgiAIDad0Oq10Oh1FiQAQS4zAPFpYWNCePXu0\\\n",
       "e/duHT16VJK0detWXbp0SYlEQtlsVl/96lf1t7/9Le9+GIH5xQisPHCqjB/eA/PEOadDhw6pvr5+\\\n",
       "Kbwkqbu7WwMDA5KkgYEB7d2711eJABBrjMA8uXz5sp5++mk1Nzdr1apP/4545ZVX1N7ergMHDuiD\\\n",
       "Dz7Qpk2bdPbsWVVWVubdVyEjsCgWhi1MYcv5xtVyX1z5e2hxdOb7mVa89jlVxg8BVgIIsPgiwHw/\\\n",
       "0wiwUsYlRACASQQYAMAkAgwAYBIBBgAwif/IXKZ8v7Uf7vMWul3efXxPIQhrJ6yu/NMEcu8t/4K+\\\n",
       "cT0C0QhbODm+z38sByMwAIBJBBgAwCQCDABgEgEGADCJAAMAmMQsRDyyYs5zy7+QVO49Wlx8armz\\\n",
       "EwvbW749+p6dGI3S6g3+FyMwAIBJBBgAwCQCDABgEgEGADCJAAMAmESAAQBMYho9Hlkxp8sXsq9S\\\n",
       "mipdzAnxn7c/hMl1RNsirwKfjxEYAMAkAgwAYBIBBgAwiQADAJhEgAEATCLAPJmYmFBnZ6caGhrU\\\n",
       "2NioU6dOSZL6+vqUTCaVSqWUSqV0/vx5z5U+Che6BVLOrVyEHZl8wo5Zvg2FyHUkr3qtCLkFzrnC\\\n",
       "FsDGI8lms8pms9q+fbvm5ubU2tqqwcFBnT17VmvWrNHLL7/80PsKgrieqpjgHSa6teCX+/Iu78cl\\\n",
       "H06V8cP/A/MkkUgokUhIktauXav6+npNTU15rgoA7OASYgyMj4/rnXfeUXt7uyTp9OnTamlpUW9v\\\n",
       "r2ZmZjxXBwDxRIB5dufOHe3bt08nT57UunXrdOTIEY2NjSmTySiRSOjYsWM575dOp9XW1qa2NlYI\\\n",
       "AFCeeA/Mo4WFBe3Zs0e7d+/W0aNHH/j5+Pi49uzZo2vXruXdD++B2cN7YPZwqowfRmCeOOd06NAh\\\n",
       "1dfX3xde2Wx26etz586pqanJR3kAEHuMwDy5fPmynn76aTU3N2vVqk//jnjllVd05swZZTIZBUGg\\\n",
       "mpoavfbaa0uTPcLEdwSG4opu3IYHcaqMHwKsBBBg5YIA84lTZfxwCREAYBIBBgAwiQADAJhEgAEA\\\n",
       "TCLASkKrlr80LJarkAV4C71XbizZWyzhy0zn3lr9lInPQYABAEwiwAAAJhFgAACTCDAAgEkEGADA\\\n",
       "JAIMAGASayGWgPJZC5G1ALE8xXzGcKqMH0ZgAACTCDAAgEkEGADAJAIMAGASAQYAMIkAKwG+l/It\\\n",
       "5nK1+flezHb5PY3u2CAX388YrCwCDABgEgEGADCJAAMAmESAAQBMIsAAACYRYJ7cvXtXO3fu1LZt\\\n",
       "29TY2Kjjx49Lkm7cuKH29nbV1tbq+eef1/z8/Ofu66rCZlrl+5D04gmb6bXcj23/dAv/539O3/Ln\\\n",
       "tDELDlg5BJgnjz32mC5evKh3331XmUxGw8PDevvtt/XjH/9YL730kv7+97/r8ccf129+8xvfpQJA\\\n",
       "LBFgngRBoDVr1kiSFhYWtLCwoCAIdPHiRe3fv1+S1NPTo8HBQZ9lAkBsEWAeLS4uKpVKqaqqSl1d\\\n",
       "XdqyZYvWr1+viooKSVJ1dbWmpqY8VwkA8USAebR69WplMhlNTk5qZGRE77///kPfN51Oq62tTW1t\\\n",
       "bStYIQDEFwEWA+vXr1dnZ6euXLmi2dlZ3bt3T5I0OTmpZDKZ8z6HDx/W6OioRkdHoywVAGKDAPPk\\\n",
       "5s2bmp2dlSR9/PHHunDhgurr69XZ2ak33nhDkjQwMKC9e/f6LBMAYitwfE62F3/961/V09OjxcVF\\\n",
       "ffLJJzpw4IB++tOf6h//+IcOHjyo27dv6ytf+Yp+97vf6bHHHsu7ryDIPTE73wMb16ncFmtGcYU9\\\n",
       "B3w//pwq44cAKwEEGEoJAYaHxSVEAIBJBBgAwCQCDABgEgEGADCJACsBrcq9xG3YQrLRvRm+/AV4\\\n",
       "/ddc7vwvmszjj4dFgAEATCLAAAAmEWAAAJMIMACASQQYAMAkAgwAYBJrIZaAIGiTlOtjVYo7+Tia\\\n",
       "Ner8robIWozloZDHmVNl/DACAwCYRIABAEwiwAAAJhFgAACTCDAAgEnMQiwBTzzxhGpqaiRJN2/e\\\n",
       "1JNPPumtFtqn/VJsf3x8XLdu3Sr6fvFoCLAS09bWptHRXFPqaZ/2aR+lhUuIAACTCDAAgEmr+/r6\\\n",
       "+nwXgeJqbW2lfdqnfZQ83gMDAJjEJUQAgEkEWIkYHh7W1q1bVVtbq/7+/sjbr6mpUXNzs1KplNra\\\n",
       "2iJps7e3V1VVVWpqalq67fbt2+rq6lJdXZ26uro0MzMTaft9fX1KJpNKpVJKpVI6f/78irQ9MTGh\\\n",
       "zs5ONTQ0qLGxUadOnZIUXf/D2o+q/3fv3tXOnTu1bds2NTY26vjx45KkGzduqL29XbW1tXr++ec1\\\n",
       "Pz+/Iu0jJhzMu3fvntu8ebMbGxtz//nPf1xLS4t77733Iq1h06ZN7ubNm5G2+cc//tFdvXrVNTY2\\\n",
       "Lt32wx/+0L366qvOOedeffVV96Mf/SjS9o8fP+5+8YtfrFibn/nwww/d1atXnXPO/fvf/3Z1dXXu\\\n",
       "vffei6z/Ye1H1f9PPvnEzc3NOeecm5+fdzt37nRXrlxxzz33nDtz5oxzzrkf/OAH7le/+tWK1wJ/\\\n",
       "GIGVgJGREdXW1mrz5s36whe+oIMHD2poaMh3WSuuo6NDlZWV9902NDSknp4eSVJPT48GBwcjbT8q\\\n",
       "iURC27dvlyStXbtW9fX1mpqaiqz/Ye1HJQgCrVmzRpK0sLCghYUFBUGgixcvav/+/ZJW/vGHfwRY\\\n",
       "CZiamtJTTz219H11dXWkJxPp0xPKM888o9bWVqXT6Ujb/m/T09NKJBKSpI0bN2p6ejryGk6fPq2W\\\n",
       "lhb19vau6CXMz4yPj+udd95Re3u7l/7/d/tSdP1fXFxUKpVSVVWVurq6tGXLFq1fv14VFRWS/LwO\\\n",
       "EC0CDEVx+fJl/eUvf9Hvf/97/fKXv9Sf/vQn3yUpCAIFQbQfQ3nkyBGNjY0pk8kokUjo2LFjK9re\\\n",
       "nTt3tG/fPp08eVLr1q2772dR9P9/24+y/6tXr1Ymk9Hk5KRGRkb0/vvvr1hbiCcCrAQkk0lNTEws\\\n",
       "fT85OalkMhl5DZJUVVWlZ599ViMjI5G2/5kNGzYom81KkrLZrKqqqiJvf/Xq1Vq1apW+//3vr+hx\\\n",
       "WFhY0L59+/Td735X3/72t5faj6r/Ye1H1f/PrF+/Xp2dnbpy5YpmZ2d17949SX5eB4gWAVYCduzY\\\n",
       "oevXr+vGjRuan5/X66+/ru7u7sja/+ijjzQ3N7f09VtvvXXfzLwodXd3a2BgQJI0MDCgvXv3Rtr+\\\n",
       "Z+EhSefOnVux4+Cc06FDh1RfX6+jR48u3R5V/8Paj6r/N2/e1OzsrCTp448/1oULF1RfX6/Ozk69\\\n",
       "8cYbkvw8/oiY71kkKI4333zT1dXVuc2bN7uf/exnkbY9NjbmWlpaXEtLi2toaIis/YMHD7qNGze6\\\n",
       "iooKl0wm3a9//Wt369Yt97Wvfc3V1ta6Xbt2uX/961+Rtv+9733PNTU1uebmZvfNb37TffjhhyvS\\\n",
       "9p///GcnyTU3N7tt27a5bdu2uTfffDOy/oe1H1X/3333XZdKpVxzc7NrbGx0J06ccM59+lzcsWOH\\\n",
       "27Jli9u/f7+7e/fuirSPeGAlDgCASVxCBACYRIABAEwiwAAAJhFgAACTCDAAgEkEGADAJAIMAGAS\\\n",
       "AQYAMIkAAwCYRIABAEwiwAAAJhFgAACTCDAAgEkEGADAJAIMAGASAQYAMIkAAwCYRIABAEwiwAAA\\\n",
       "JhFgAACT/g/bFAR76Qq3WAAAAABJRU5ErkJggg==\\\n",
       "\"\n",
       "  frames[3] = \"data:image/png;base64,iVBORw0KGgoAAAANSUhEUgAAAbAAAAEgCAYAAADVKCZpAAAABHNCSVQICAgIfAhkiAAAAAlwSFlz\\\n",
       "AAALEgAACxIB0t1+/AAAADl0RVh0U29mdHdhcmUAbWF0cGxvdGxpYiB2ZXJzaW9uIDIuMi4zLCBo\\\n",
       "dHRwOi8vbWF0cGxvdGxpYi5vcmcvIxREBQAAFORJREFUeJzt3X9oVff9x/HX0bD+o+JCF73cFIMm\\\n",
       "c/npnYnmr0ozSR0ji+t01m6DlMgc/lntfvw1I4w2Y/8ouEEvGywwsEjB+EddqOCyTXCEOG+HhRaX\\\n",
       "GZqkl0xnZLHUJaaf7x/SfOeWk5rbm/P5vG+eD7kQ8+N83ufek/PK59z3/dzIOecEAIAxq3wXAABA\\\n",
       "IQgwAIBJBBgAwCQCDABgEgEGADCJAAMAmESAAQBMIsAAACYRYAAAkwgwAIBJBBgAwCQCDABgEgEG\\\n",
       "ADCJAAMAmESAAQBMIsAAACYRYAAAkwgwAIBJBBgAwCQCDABgEgEGADCJAAMAmESAAQBMIsAAACYR\\\n",
       "YAAAkwgwAIBJBBgAwCQCDABgEgEGADCJAAMAmESAAQBMIsAAACYRYAAAkwiwAA0MDGjr1q2qrq5W\\\n",
       "b2+v73IAIEiRc875LgL/b25uTl/84hd18eJFVVZWaseOHTpz5ozq6upifyaKogQrBIqheZGvXU2s\\\n",
       "iqXgVBmeMt8F4FFDQ0Oqrq7W5s2bJUkHDx7U+fPnFw0wwJ7hRb7GH2R4PFxCDMzExISeeuqp+f9X\\\n",
       "VlZqYmLCY0UAECZmYEZls1lls1nfZQCANwRYYNLptMbGxub/Pz4+rnQ6/T/fd/jwYR0+fFgSz4EB\\\n",
       "WJm4hBiYHTt26MaNG7p586ZmZmb0+uuvq7Oz03dZKDoXc1spokVuwONhBhaYsrIynT59Wnv27NHc\\\n",
       "3Jy6u7tVX1/vuywACA5t9CWAS4gWxf3a8ViGilNleLiECAAwiQADAJhEgAEATCLAAAAm0YWIFamQ\\\n",
       "Foritl0Ur1ljsdYCWkJQypiBAQBMIsAAACYRYAAAkwgwAIBJBBgAwCS6EFEE9pZFKqSyUPcm1LqS\\\n",
       "QhfmysUMDABgEgEGADCJAAMAmESAAQBMIsAAACYRYAAAk2ijRxEk1axsr10/VKV0T1qsGcXBDAwA\\\n",
       "YBIBBgAwiQADAJhEgAEATCLAAAAm0YUYoKqqKq1du1arV69WWVmZhoeHExw95KVRfY9fvN69YnYB\\\n",
       "FvKIFXOcxbdlsd9xoZpbEq8Cn44AC9Tvf/97Pfnkk77LAIBgcQkRAGASARagKIr07LPPqrm5Wdls\\\n",
       "1nc5ABAkLiEG6PLly0qn0/rHP/6h9vZ2felLX9KuXbse+Z5sNku4AVjRIufcYs8Bw7Oenh6tWbNG\\\n",
       "L7/8cuz3RFExnxAPuYnDt9Jp4ijESm/icC7JZio8Di4hBubDDz/U9PT0/MdvvfWWGhoaEqwgir05\\\n",
       "acFbcnxXEHffJLOluL2Pf8SKq7Axkqis2Baq96rXirAwLiEGZnJyUs8995wk6cGDB/r2t7+tr371\\\n",
       "q56rAoDwcAmxBBT3EmI8/xeD/Ffg08ree/84VYaHS4gAAJMIMACASQQYAMAkAgwAYBJdiHhs8c0C\\\n",
       "ybQXuJjt2WxiWPp9VthrxBYep/Dm/4VHSYbNRxrLhxkYAMAkAgwAYBIBBgAwiQADAJhEgAEATKIL\\\n",
       "EUWQTHeY3wWzklLc8YvdBwqEhBkYAMAkAgwAYBIBBgAwiQADAJhEgAEATCLAAAAm0UYPT3y/vzAt\\\n",
       "4UuV3D0Wt2iz72MGoWEGBgAwiQADAJhEgAEATCLAAAAmEWAAAJMIME+6u7tVUVGhhoaG+c/duXNH\\\n",
       "7e3tqqmpUXt7u6ampjxWuNyimBviuCLeChnDv4WPmbBrxnIiwDx58cUXNTAw8Mjnent7tXv3bt24\\\n",
       "cUO7d+9Wb2+vp+oAIHyRc44/VDwZHR1VR0eHrl+/LknaunWrBgcHlUqllM/n9cwzz+i999771O1E\\\n",
       "ETOXpbN32Bez4rgjJox7Je51YAtbrOZi/mZwqgwPM7CATE5OKpVKSZI2btyoyclJzxUBQLhYiSNQ\\\n",
       "URQtOrPKZrPKZrMJVgQAYWEGFpANGzYon89LkvL5vCoqKmK/9/DhwxoeHtbw8HBS5QFAUAiwgHR2\\\n",
       "dqqvr0+S1NfXp71793quCADCRROHJy+88IIGBwd1+/ZtbdiwQSdOnNA3vvENHThwQO+//742bdqk\\\n",
       "s2fPqry8/FO3RRPH0jnP7QphN1Esv8jgSyY4VYaHACsBBNjSEWB+EWAoBi4hAgBMIsAAACYRYAAA\\\n",
       "kwgwAIBJvJAZQSn2skChPu3uv65kmijstWrAEmZgAACTCDAAgEkEGADAJAIMAGASAQYAMIkAKwHN\\\n",
       "ins7dXtvtr7wm8Yv3s2W3F4uVt1Sq17q9xf6M0DpIsAAACYRYAAAkwgwAIBJBBgAwCQCDABgEgEG\\\n",
       "ADCJd2QuAcV9R+ZiL6e7/BZ/d2XfNRfz16t47+Oc1Dsix1Xm+1EpBKfK8DADAwCYRIABAEwiwAAA\\\n",
       "JhFgAACTCDAAgEkEmCfd3d2qqKhQQ0PD/Od6enqUTqeVyWSUyWR04cIFD5UVsjCtX9Ei/0rLwksW\\\n",
       "F3OJ4WLzPX4ce8tcYyEEmCcvvviiBgYG/ufzL730knK5nHK5nL72ta95qAwAbCDAPNm1a5fKy8t9\\\n",
       "lwEAZhFggTl9+rSamprU3d2tqakp3+UAQLAIsIAcOXJEIyMjyuVySqVSOnbsWOz3ZrNZtbS0qKWl\\\n",
       "JcEKASAcLCXl0ejoqDo6OnT9+vUlfe2/FXcpqdLi/+Be/goKe/RX9jFTyOJjnCrDwwwsIPl8fv7j\\\n",
       "c+fOPdKhCAB4VJnvAlaqF154QYODg7p9+7YqKyt14sQJDQ4OKpfLKYoiVVVV6bXXXvNdpgnFXMq3\\\n",
       "sL+xk/nLvLhLNi9cc+m99GBhUdALQONxcQmxBKz0S4gE2NLFrxK/Uo6lpR81nCrDwyVEAIBJBBgA\\\n",
       "wCQCDABgEgEGADCJLkSYEe7b0y9WQfGe+C9kS3GVxVecVHee7y5A/0cNPjtmYAAAkwgwAIBJBBgA\\\n",
       "wCQCDABgEgEGADCJLkSYUdy+saWvBRjfNxfuEkPF7dwsZGvh9o7CPmZgAACTCDAAgEkEGADAJAIM\\\n",
       "AGASAQYAMIkAAwCYRBs9VqhitnEXsq1wW++XzvfCvFipmIEBAEwiwAAAJhFgAACTCDAAgEkEGADA\\\n",
       "JALMk7GxMbW1tamurk719fU6deqUJOnOnTtqb29XTU2N2tvbNTU19anbatbDPrD/vvm3UFXhVLdU\\\n",
       "UcwthK35FbcvVvcHVkTOOZtnE+Py+bzy+by2b9+u6elpNTc3q7+/X7/5zW9UXl6uH//4x+rt7dXU\\\n",
       "1JR+9rOfLbqtlijS8AKf93/6WBnt1cX9BUrm17G4937pPJaL4VQZHmZgnqRSKW3fvl2StHbtWtXW\\\n",
       "1mpiYkLnz59XV1eXJKmrq0v9/f0+ywSAYBFgARgdHdW1a9fU2tqqyclJpVIpSdLGjRs1OTnpuToA\\\n",
       "CBMrcXh279497du3TydPntS6dese+VoURYqihS/PZLNZZbNZSdKtZa8SAMLDc2Aezc7OqqOjQ3v2\\\n",
       "7NHRo0clSVu3btXg4KBSqZTy+byeeeYZvffee4tuh+fA/OI5sNJ5LBfDqTI8XEL0xDmnQ4cOqba2\\\n",
       "dj68JKmzs1N9fX2SpL6+Pu3du9dXiQAQNGZgnly+fFlPP/20GhsbtWrVw78jXnnlFbW2turAgQN6\\\n",
       "//33tWnTJp09e1bl5eWLbivuMiPi5zNJ3WOhzs6Sm4H5fgSKh1NleAiwEkCAxfN9+iTAfD8CxcOp\\\n",
       "MjxcQgQAmESAAQBMIsAAACYRYAAAk3ghM0qa71aBKKaJIal2gLj9L+b4i9/Hvh8BlDJmYAAAkwgw\\\n",
       "AIBJBBgAwCQCDABgEgEGADCJLkSUgKWvel/YAkd+l3IqZHRXxD5Ei/2EpbOQFRbCDAwAYBIBBgAw\\\n",
       "iQADAJhEgAEATCLAAAAmEWAAAJNoo0cJWHpTdNwiu74VVlVSTeF+m88LaYmnXb60MQMDAJhEgAEA\\\n",
       "TCLAAAAmEWAAAJMIMACASQSYJ2NjY2pra1NdXZ3q6+t16tQpSVJPT4/S6bQymYwymYwuXLjwGUZx\\\n",
       "sbe4r9gUv5/xtzArW1wUcyukgrgR4v/5Vsjeo7RFzjm75y3D8vm88vm8tm/frunpaTU3N6u/v19n\\\n",
       "z57VmjVr9PLLLz/2tqJo6SuOx61SbvOEEO4hXNzKln8N+xCCKlScKsPD68A8SaVSSqVSkqS1a9eq\\\n",
       "trZWExMTnqsCADu4hBiA0dFRXbt2Ta2trZKk06dPq6mpSd3d3ZqamvJcHQCEiQDz7N69e9q3b59O\\\n",
       "njypdevW6ciRIxoZGVEul1MqldKxY8cW/LlsNquWlha1tLQkXDEAhIHnwDyanZ1VR0eH9uzZo6NH\\\n",
       "j/7P10dHR9XR0aHr168vuh2eAwv3EOY5sNLBqTI8zMA8cc7p0KFDqq2tfSS88vn8/Mfnzp1TQ0OD\\\n",
       "j/IAIHjMwDy5fPmynn76aTU2NmrVqod/R7zyyis6c+aMcrmcoihSVVWVXnvttflmjzjxMzC/Fjuw\\\n",
       "Cqt4+Q/V4o8Q5mOTVFWFLMAbKk6V4SHASgABVjwEWHERYFhOXEIEAJhEgAEATCLAAAAmEWAAAJNY\\\n",
       "SgrLpthP1If7FLrfloTkRl/4EYh7TaHk+55ZTPFbjJA8ZmAAAJMIMACASQQYAMAkAgwAYBIBBgAw\\\n",
       "iQADAJhEGz2C4rw3y6+UlvhClNJb8NisGo9iBgYAMIkAAwCYRIABAEwiwAAAJhFgAACT6ELEZ1bI\\\n",
       "u+7G9xqWVndYae3NSrHQ0dmSeBX4dMzAAAAmEWAAAJMIMACASQQYAMAkAgwAYBIB5sn9+/e1c+dO\\\n",
       "bdu2TfX19Tp+/Lgk6ebNm2ptbVV1dbWef/55zczMeK7000UxN7fIrZTE7X9hHYh+77Xij27xCFjo\\\n",
       "kbzqtSIsjADz5IknntClS5f09ttvK5fLaWBgQH/+85/1ox/9SC+99JL+9re/6fOf/7x+/etf+y4V\\\n",
       "AIJEgHkSRZHWrFkjSZqdndXs7KyiKNKlS5e0f/9+SVJXV5f6+/t9lgkAwSLAPJqbm1Mmk1FFRYXa\\\n",
       "29u1ZcsWrV+/XmVlD19fXllZqYmJCc9VAkCYCDCPVq9erVwup/HxcQ0NDendd9997J/NZrNqaWlR\\\n",
       "SwsrBABYmQiwAKxfv15tbW26cuWK7t69qwcPHkiSxsfHlU6nF/yZw4cPa3h4WMPDw0mWCgDBIMA8\\\n",
       "uXXrlu7evStJ+uijj3Tx4kXV1taqra1Nb7zxhiSpr69Pe/fu9VkmAAQrcs6F3tNakv7617+qq6tL\\\n",
       "c3Nz+vjjj3XgwAH95Cc/0d///ncdPHhQd+7c0Ze//GX99re/1RNPPLHotqIozCVjQz6wwrzHCrPY\\\n",
       "/VxK++kbp8rwEGAlgABbujDvscIQYMngVBkeLiECAEwiwAAAJhFgAACTCDAAgEllvgtA6Qq5gSDu\\\n",
       "6fiQa46rOgq86oUk1XgS/zjT+lIKmIEBAEwiwAAAJhFgAACTCDAAgEkEGADAJAIMAGASbfR4xEpp\\\n",
       "Lo7bl7D3f+EKwq55YUnVFT9OqPcMloIZGADAJAIMAGASAQYAMIkAAwCYRIABAEziHZlLwJNPPqmq\\\n",
       "qipJ0q1bt/SFL3zBWy2Mz/ilOP7o6Khu375d9O3isyHASkxLS4uGh4cZn/EZHyWPS4gAAJMIMACA\\\n",
       "Sat7enp6fBeB4mpubmZ8xmd8lDyeAwMAmMQlRACASQRYiRgYGNDWrVtVXV2t3t7exMevqqpSY2Oj\\\n",
       "MpmMWlpaEhmzu7tbFRUVamhomP/cnTt31N7erpqaGrW3t2tqairR8Xt6epROp5XJZJTJZHThwoVl\\\n",
       "GXtsbExtbW2qq6tTfX29Tp06JSm5/Y8bP6n9v3//vnbu3Klt27apvr5ex48flyTdvHlTra2tqq6u\\\n",
       "1vPPP6+ZmZllGR+BcDDvwYMHbvPmzW5kZMT9+9//dk1NTe6dd95JtIZNmza5W7duJTrmH/7wB3f1\\\n",
       "6lVXX18//7kf/OAH7tVXX3XOOffqq6+6H/7wh4mOf/z4cffzn/982cb8xAcffOCuXr3qnHPuX//6\\\n",
       "l6upqXHvvPNOYvsfN35S+//xxx+76elp55xzMzMzbufOne7KlSvuW9/6ljtz5oxzzrnvf//77pe/\\\n",
       "/OWy1wJ/mIGVgKGhIVVXV2vz5s363Oc+p4MHD+r8+fO+y1p2u3btUnl5+SOfO3/+vLq6uiRJXV1d\\\n",
       "6u/vT3T8pKRSKW3fvl2StHbtWtXW1mpiYiKx/Y8bPylRFGnNmjWSpNnZWc3OziqKIl26dEn79++X\\\n",
       "tPyPP/wjwErAxMSEnnrqqfn/V1ZWJnoykR6eUJ599lk1Nzcrm80mOvZ/mpycVCqVkiRt3LhRk5OT\\\n",
       "iddw+vRpNTU1qbu7e1kvYX5idHRU165dU2trq5f9/8/xpeT2f25uTplMRhUVFWpvb9eWLVu0fv16\\\n",
       "lZU9fJtDH78HSBYBhqK4fPmy/vKXv+h3v/udfvGLX+iPf/yj75IURZGiKNk3Ljxy5IhGRkaUy+WU\\\n",
       "SqV07NixZR3v3r172rdvn06ePKl169Y98rUk9v+/x09y/1evXq1cLqfx8XENDQ3p3XffXbaxECYC\\\n",
       "rASk02mNjY3N/398fFzpdDrxGiSpoqJCzz33nIaGhhId/xMbNmxQPp+XJOXzeVVUVCQ+/urVq7Vq\\\n",
       "1Sp973vfW9b7YXZ2Vvv27dN3vvMdffOb35wfP6n9jxs/qf3/xPr169XW1qYrV67o7t27evDggSQ/\\\n",
       "vwdIFgFWAnbs2KEbN27o5s2bmpmZ0euvv67Ozs7Exv/www81PT09//Fbb731SGdekjo7O9XX1ydJ\\\n",
       "6uvr0969exMd/5PwkKRz584t2/3gnNOhQ4dUW1uro0ePzn8+qf2PGz+p/b9165bu3r0rSfroo490\\\n",
       "8eJF1dbWqq2tTW+88YYkP48/Eua7iwTF8eabb7qamhq3efNm99Of/jTRsUdGRlxTU5NrampydXV1\\\n",
       "iY1/8OBBt3HjRldWVubS6bT71a9+5W7fvu2+8pWvuOrqard79273z3/+M9Hxv/vd77qGhgbX2Njo\\\n",
       "vv71r7sPPvhgWcb+05/+5CS5xsZGt23bNrdt2zb35ptvJrb/ceMntf9vv/22y2QyrrGx0dXX17sT\\\n",
       "J0445x4eizt27HBbtmxx+/fvd/fv31+W8REGVuIAAJjEJUQAgEkEGADAJAIMAGASAQYAMIkAAwCY\\\n",
       "RIABAEwiwAAAJhFgAACTCDAAgEkEGADAJAIMAGASAQYAMIkAAwCYRIABAEwiwAAAJhFgAACTCDAA\\\n",
       "gEkEGADAJAIMAGASAQYAMOn/AP6fcYsrJCI1AAAAAElFTkSuQmCC\\\n",
       "\"\n",
       "  frames[4] = \"data:image/png;base64,iVBORw0KGgoAAAANSUhEUgAAAbAAAAEgCAYAAADVKCZpAAAABHNCSVQICAgIfAhkiAAAAAlwSFlz\\\n",
       "AAALEgAACxIB0t1+/AAAADl0RVh0U29mdHdhcmUAbWF0cGxvdGxpYiB2ZXJzaW9uIDIuMi4zLCBo\\\n",
       "dHRwOi8vbWF0cGxvdGxpYi5vcmcvIxREBQAAFYFJREFUeJzt3V1sFNfdx/HfgNXcACJWalitUyyw\\\n",
       "S/3KFht8FRQXbagq1zSFEtJWcmRUKi4D6ctVMVKVuOoNSLRSVq1US5WIUCTMRagVJOq2SFSWaTYV\\\n",
       "kRJRFyu2s3Kh2KqJQm2c81zwxK0T76a7Gc+Z//r7sVay1945/zM7Oz+f2bMzgXPOCQAAY9b4LgAA\\\n",
       "gFIQYAAAkwgwAIBJBBgAwCQCDABgEgEGADCJAAMAmESAAQBMIsAAACYRYAAAkwgwAIBJBBgAwCQC\\\n",
       "DABgEgEGADCJAAMAmESAAQBMIsAAACYRYAAAkwgwAIBJBBgAwCQCDABgEgEGADCJAAMAmESAAQBM\\\n",
       "IsAAACYRYAAAkwgwAIBJBBgAwCQCDABgEgEGADCJAAMAmESAAQBMIsAAACYRYDE0ODio7du3q7a2\\\n",
       "Vn19fb7LAYBYCpxzzncR+I+FhQV98Ytf1OXLl1VdXa1du3bp3LlzamhoyPuYIAgiqq41z/3XI2o/\\\n",
       "Cvn6KJVTP/M/k8X3P6o1VsrWF+YWy64yfip8F4ClhoeHVVtbq61bt0qSDh8+rIsXLxYMsOiM5Lk/\\\n",
       "qgCNQr4+SuXUz/zPZPH9j2qNlbL1rYYtdjXjEGLMTE5O6vHHH1/8ubq6WpOTkx4rAoB4YgRmVCaT\\\n",
       "USaT8V0GAHhDgMVMMpnU+Pj44s8TExNKJpOf+LujR4/q6NGjkqJ8DwwA4oNDiDGza9cu3bx5U7du\\\n",
       "3dLc3JxeeeUVdXV1+S7r/wV5bmFyBW5RyNfHcPvps4dSoR4W3/9o1lhpbZTymOWel0ITVeAPI7CY\\\n",
       "qaio0NmzZ7Vv3z4tLCyop6dHjY2NvssCgNhhGn0ZKK9DiIU2x/LpZ75elk8P7VruuWmTNMKuMnY4\\\n",
       "hAgAMIkAAwCYRIABAEwiwAAAJjELsaxZnBAR17rCtTp6aRPPjR2MwAAAJhFgAACTCDAAgEkEGADA\\\n",
       "JAIMAGASsxBR5jhpE5ZjcYYuPo4RGADAJAIMAGASAQYAMIkAAwCYRIABAEwiwAAAJjGNvqyV23Tg\\\n",
       "UqbEl9s6QDjYLsoBIzAAgEkEGADAJAIMAGASAQYAMIkAAwCYxCzEGKqpqdH69eu1du1aVVRUaGRk\\\n",
       "xHdJMcHMMQD/QYDF1O9//3s99thjvssAgNjiECIAwCQCLIaCINBTTz2l1tZWZTIZ3+UAQCxxCDGG\\\n",
       "rl69qmQyqX/84x9Kp9P60pe+pD179iz5m0wmQ7gBWNUC51yhS5PCs97eXq1bt04vvPBC3r8JAiY3\\\n",
       "ACuNXWX8cAgxZt5//33Nzs4ufv/666+rqanJc1WlcgVuYT7Gr3hXXKi6sG5RtQ8sxSHEmJmamtLT\\\n",
       "Tz8tSXrw4IG+/e1v66tf/arnqgAgfjiEWAbiewix0KaVr+ZSHuNXvCuO4uVdqJdhtu93bbKrjB8O\\\n",
       "IQIATCLAAAAmEWAAAJMIMACAScxCxAoq5U13/9MeihWEOFEhqgkh+doprY38VUfTjr1tBuFgBAYA\\\n",
       "MIkAAwCYRIABAEwiwAAAJhFgAACTmIW4SsV3Ppfv00/5PV1QVOu/tHaWf1Qpayzep9+CFYzAAAAm\\\n",
       "EWAAAJMIMACASQQYAMAkAgwAYBIBBgAwiWn0q1R8pyr7PQGwK2FZYZ8AN8yWiv24hCtQV3y3GaxW\\\n",
       "jMAAACYRYAAAkwgwAIBJBBgAwCQCDABgEgHmSU9Pj6qqqtTU1LR43927d5VOp1VXV6d0Oq3p6WmP\\\n",
       "FZYLt+xt+XvDbKHw7eGcvuJuroSvYmsuVEE+xfektHYKrU2sTgSYJ88995wGBweX3NfX16e9e/fq\\\n",
       "5s2b2rt3r/r6+jxVBwDxFzjn+BfGk7GxMXV2durGjRuSpO3bt2toaEiJREK5XE5PPvmk3nnnnU9d\\\n",
       "ThDwCZ38lt+8S/m8V5hKab3QiCqsloJYX+jE70WA2FXGDyOwGJmamlIikZAkbd68WVNTU54rAoD4\\\n",
       "4kwcMRUEQcGRVSaTUSaTibAiAIgXRmAxsmnTJuVyOUlSLpdTVVVV3r89evSoRkZGNDIyElV5ABAr\\\n",
       "BFiMdHV1qb+/X5LU39+v/fv3e64IAOKLSRyePPvssxoaGtKdO3e0adMmnTp1St/4xjd06NAhvfvu\\\n",
       "u9qyZYvOnz+vysrKT11WfCdxxHlCwPJ8vxhKmUQRZs3xfFbigV1l/BBgZYAAC4/vFwMBFl/sKuOH\\\n",
       "Q4gAAJMIMACASQQYAMAkAgwAYBIfZMYKKjQlIKrTAhXXTmmneIrK8i0Vrrm4HtmbdlOq1dPTcsYI\\\n",
       "DABgEgEGADCJAAMAmESAAQBMIsAAACYxCxFLRDc3K6qZXsWdfqmUqkqZaxmVYvtpcf5dadts/t8s\\\n",
       "t7y2/70cRIgRGADAJAIMAGASAQYAMIkAAwCYRIABAEwiwAAAJjGNHkv4nkYd1TR+3/3MJ+z+57/C\\\n",
       "c1zXQPHC7kn5rJnyxwgMAGASAQYAMIkAAwCYRIABAEwiwAAAJhFgnvT09KiqqkpNTU2L9/X29iqZ\\\n",
       "TCqVSimVSunSpUseKnMFbivfSlDgVkrFK9+TsOVfA+H2xd6aAT6OAPPkueee0+Dg4Cfuf/7555XN\\\n",
       "ZpXNZvW1r33NQ2UAYAMB5smePXtUWVnpuwwAMIsAi5mzZ8+qpaVFPT09mp6e9l0OAMQWARYjx44d\\\n",
       "0+joqLLZrBKJhE6cOJH3bzOZjNra2tTWxqX2AKxOgXOOd249GRsbU2dnp27cuFHU7z4uCMI8+U00\\\n",
       "J3MK8wRHpWzAUZ0uKPypL59k80rZ9rCrjB9GYDGSy+UWv79w4cKSGYoAgKU4ma8nzz77rIaGhnTn\\\n",
       "zh1VV1fr1KlTGhoaUjabVRAEqqmp0csvv+yhsvDGQK7Askr7Pz/fCMT3qCH/f+bF1lb4f/zll1X4\\\n",
       "McWO2sIdgfs+lXAp7S/3GA7UxxOHEMtAuIcQS+E3wPwf9gpvpx/+izHMw46rO8BG2FXGDocQAQAm\\\n",
       "EWAAAJMIMACASQQYAMAkJnGUAf+TOBCFKF6oQWQn9PW7zZYy7YZdZfwwAgMAmESAAQBMIsAAACYR\\\n",
       "YAAAkwgwAIBJBFgZaFX+C8Rz4fjw+F6XQQm3YoW/zRRfWRTrOcx1Bn8IMACASQQYAMAkAgwAYBIB\\\n",
       "BgAwiQADAJhEgAEATKrwXQA+u+uyeK1ce1bDmgmKvlbxStTgV74rMiN+GIEBAEwiwAAAJhFgAACT\\\n",
       "CDAAgEkEGADAJALMk/HxcXV0dKihoUGNjY06c+aMJOnu3btKp9Oqq6tTOp3W9PT0ClWw/KlM43wC\\\n",
       "4LjWVViYVS+/rEJfQZG38lP8+l/ulXF9RWtEqQLnXDlutbGXy+WUy+W0c+dOzc7OqrW1VQMDA/rN\\\n",
       "b36jyspK/fjHP1ZfX5+mp6f1s5/9rOCygiC8iceFNoY4Tm+W/NdVWJhVL7+scJ+zsKfR+352wlv/\\\n",
       "7CrjhxGYJ4lEQjt37pQkrV+/XvX19ZqcnNTFixfV3d0tSeru7tbAwIDPMgEgthiBxcDY2Jj27Nmj\\\n",
       "Gzdu6Atf+IJmZmYkPfyP79FHH138OR9GYHHGCMwvRmDljDNxeHbv3j0dOHBAp0+f1oYNG5b8LgiC\\\n",
       "vOGUyWSUyWSiKBEAYokRmEfz8/Pq7OzUvn37dPz4cUnS9u3bNTQ0pEQioVwupyeffFLvvPNOweUw\\\n",
       "AoszRmB+MQIrZ7wH5olzTkeOHFF9ff1ieElSV1eX+vv7JUn9/f3av3+/rxIBINYYgXly9epVPfHE\\\n",
       "E2pubtaaNQ//j3jxxRfV3t6uQ4cO6d1339WWLVt0/vx5VVZWFlxWvhFYnEdT+fmuOqr2i3/ZlTaW\\\n",
       "KK5mV6Cu0nof3y2tWOwq44cAKwMEmMX2CTBr2FXGD4cQAQAmEWAAAJMIMACASQQYAMAkPshcxmy+\\\n",
       "fe676rDbL/aN//ztl/bJseKmfhT+FFjxj4kv35OFEAZGYAAAkwgwAIBJBBgAwCQCDABgEgEGADCJ\\\n",
       "WYjAEuGd4kkKd05hsTMKS2kn30zD4pf00fLCW1a4/FeAz44RGADAJAIMAGASAQYAMIkAAwCYRIAB\\\n",
       "AEwiwAAAJjGNHmUgqqsbl/KYfFfLLuXqvsVXV+wjwr7msM3J6suthbbIq8CnYwQGADCJAAMAmESA\\\n",
       "AQBMIsAAACYRYAAAkwgwT8bHx9XR0aGGhgY1NjbqzJkzkqTe3l4lk0mlUimlUildunRphSpweW6r\\\n",
       "Q5DnSwVurqRbsWu5UA0rz2/rUcr3zDgt3/vrfspEQYFzbvXstWIkl8spl8tp586dmp2dVWtrqwYG\\\n",
       "BnT+/HmtW7dOL7zwwv+8rCAor/OEFy+aKenhvlCiWf8Wn81oFH8NAXaV8cPnwDxJJBJKJBKSpPXr\\\n",
       "16u+vl6Tk5OeqwIAOziEGANjY2N644031N7eLkk6e/asWlpa1NPTo+npac/VAUA8EWCe3bt3TwcO\\\n",
       "HNDp06e1YcMGHTt2TKOjo8pms0okEjpx4sSyj8tkMmpra1NbG2cIALA68R6YR/Pz8+rs7NS+fft0\\\n",
       "/PjxT/x+bGxMnZ2dunHjRsHl8B4Y74HlY/HZjAbvgZUDRmCeOOd05MgR1dfXLwmvXC63+P2FCxfU\\\n",
       "1NTkozwAiD1GYJ5cvXpVTzzxhJqbm7VmzcP/I1588UWdO3dO2WxWQRCopqZGL7/88uJkj3xKG4HZ\\\n",
       "E9cNtdDaL7bmUpYV3bPvvwKf2FXGDwFWBggwvwiwVbL9sauMHQ4hAgBMIsAAACYRYAAAkwgwAIBJ\\\n",
       "nEqqrBX/WZfyab2wfO1HVXMpy/K9zuJQAfDfGIEBAEwiwAAAJhFgAACTCDAAgEkEGADAJAIMAGAS\\\n",
       "0+jLmt8z6xVeUvHtRzGJO+w2ip2u73+iepw//AAsxQgMAGASAQYAMIkAAwCYRIABAEwiwAAAJjEL\\\n",
       "sYwVnk/me0aZ7/aL5/Ks0ajWZTQzF+09L1i9GIEBAEwiwAAAJhFgAACTCDAAgEkEGADAJALMk/v3\\\n",
       "72v37t3asWOHGhsbdfLkSUnSrVu31N7ertraWj3zzDOam5sruY2gwO3hnLblbqtDvt4XugV5vgo9\\\n",
       "Jp98z0vh9vM9l+EppS/xVl69wVIEmCePPPKIrly5ojfffFPZbFaDg4P685//rB/96Ed6/vnn9be/\\\n",
       "/U2PPvqofv3rX/suFQBiiQDzJAgCrVu3TpI0Pz+v+fl5BUGgK1eu6ODBg5Kk7u5uDQwM+CwTAGKL\\\n",
       "APNoYWFBqVRKVVVVSqfT2rZtmzZu3KiKioefL6+urtbk5KTnKgEgnggwj9auXatsNquJiQkNDw/r\\\n",
       "7bff/p8fm8lk1NbWpra2thWsEADiiwCLgY0bN6qjo0PXrl3TzMyMHjx4IEmamJhQMplc9jFHjx7V\\\n",
       "yMiIRkZGoiwVAGKDAPPk9u3bmpmZkSR98MEHunz5surr69XR0aFXX31VktTf36/9+/f7LBMAYitw\\\n",
       "zjGn1IO//vWv6u7u1sLCgj788EMdOnRIP/nJT/T3v/9dhw8f1t27d/XlL39Zv/3tb/XII48UXFZb\\\n",
       "EGi5cRinZUV8fdqHDHwtq0Ar7CpjhwArAwQY7CHA8NlxCBEAYBIBBgAwiQADAJhEgAEATGISRxkI\\\n",
       "gtU9XSOat/Cx2rGrjB9GYAAAkwgwAIBJBBgAwCQCDABgEgEGADCJAAMAmFThuwCsTvkmJBea9l7K\\\n",
       "Y7C6lbbNLPcorrsXR4zAAAAmEWAAAJMIMACASQQYAMAkAgwAYBIn8y0Djz32mGpqaiRJt2/f1uc/\\\n",
       "/3lvtdA+7Zdj+2NjY7pz507oy8VnQ4CVmba2No2MjNA+7dM+yh6HEAEAJhFgAACT1vb29vb6LgLh\\\n",
       "am1tpX3ap32UPd4DAwCYxCFEAIBJBFiZGBwc1Pbt21VbW6u+vr7I26+pqVFzc7NSqZTa2qI58WlP\\\n",
       "T4+qqqrU1NS0eN/du3eVTqdVV1endDqt6enpSNvv7e1VMplUKpVSKpXSpUuXVqTt8fFxdXR0qKGh\\\n",
       "QY2NjTpz5oyk6Pqfr/2o+n///n3t3r1bO3bsUGNjo06ePClJunXrltrb21VbW6tnnnlGc3NzK9I+\\\n",
       "YsLBvAcPHritW7e60dFR9+9//9u1tLS4t956K9IatmzZ4m7fvh1pm3/4wx/c9evXXWNj4+J9P/jB\\\n",
       "D9xLL73knHPupZdecj/84Q8jbf/kyZPu5z//+Yq1+ZH33nvPXb9+3Tnn3L/+9S9XV1fn3nrrrcj6\\\n",
       "n6/9qPr/4YcfutnZWeecc3Nzc2737t3u2rVr7lvf+pY7d+6cc86573//++6Xv/zlitcCfxiBlYHh\\\n",
       "4WHV1tZq69at+tznPqfDhw/r4sWLvstacXv27FFlZeWS+y5evKju7m5JUnd3twYGBiJtPyqJREI7\\\n",
       "d+6UJK1fv1719fWanJyMrP/52o9KEARat26dJGl+fl7z8/MKgkBXrlzRwYMHJa388w//CLAyMDk5\\\n",
       "qccff3zx5+rq6kh3JtLDHcpTTz2l1tZWZTKZSNv+b1NTU0okEpKkzZs3a2pqKvIazp49q5aWFvX0\\\n",
       "9KzoIcyPjI2N6Y033lB7e7uX/v93+1J0/V9YWFAqlVJVVZXS6bS2bdumjRs3qqLi4WUOfbwOEC0C\\\n",
       "DKG4evWq/vKXv+h3v/udfvGLX+iPf/yj75IUBIGCINrLXR47dkyjo6PKZrNKJBI6ceLEirZ37949\\\n",
       "HThwQKdPn9aGDRuW/C6K/n+8/Sj7v3btWmWzWU1MTGh4eFhvv/32irWFeCLAykAymdT4+PjizxMT\\\n",
       "E0omk5HXIElVVVV6+umnNTw8HGn7H9m0aZNyuZwkKZfLqaqqKvL2165dqzVr1uh73/veiq6H+fl5\\\n",
       "HThwQN/5znf0zW9+c7H9qPqfr/2o+v+RjRs3qqOjQ9euXdPMzIwePHggyc/rANEiwMrArl27dPPm\\\n",
       "Td26dUtzc3N65ZVX1NXVFVn777//vmZnZxe/f/3115fMzItSV1eX+vv7JUn9/f3av39/pO1/FB6S\\\n",
       "dOHChRVbD845HTlyRPX19Tp+/Pji/VH1P1/7UfX/9u3bmpmZkSR98MEHunz5surr69XR0aFXX31V\\\n",
       "kp/nHxHzPYsE4XjttddcXV2d27p1q/vpT38aadujo6OupaXFtbS0uIaGhsjaP3z4sNu8ebOrqKhw\\\n",
       "yWTS/epXv3J37txxX/nKV1xtba3bu3ev++c//xlp+9/97nddU1OTa25udl//+tfde++9tyJt/+lP\\\n",
       "f3KSXHNzs9uxY4fbsWOHe+211yLrf772o+r/m2++6VKplGtubnaNjY3u1KlTzrmH2+KuXbvctm3b\\\n",
       "3MGDB939+/dXpH3EA2fiAACYxCFEAIBJBBgAwCQCDABgEgEGADCJAAMAmESAAQBMIsAAACYRYAAA\\\n",
       "kwgwAIBJBBgAwCQCDABgEgEGADCJAAMAmESAAQBMIsAAACYRYAAAkwgwAIBJBBgAwCQCDABgEgEG\\\n",
       "ADDp/wB44FydhAqf6QAAAABJRU5ErkJggg==\\\n",
       "\"\n",
       "  frames[5] = \"data:image/png;base64,iVBORw0KGgoAAAANSUhEUgAAAbAAAAEgCAYAAADVKCZpAAAABHNCSVQICAgIfAhkiAAAAAlwSFlz\\\n",
       "AAALEgAACxIB0t1+/AAAADl0RVh0U29mdHdhcmUAbWF0cGxvdGxpYiB2ZXJzaW9uIDIuMi4zLCBo\\\n",
       "dHRwOi8vbWF0cGxvdGxpYi5vcmcvIxREBQAAFcFJREFUeJzt3V1sFNf9xvFnwGpuABErNazWKRbY\\\n",
       "pX5lixd8FRQXOVSVa5pCCGkrOTIqFZeB9OWqGKlKXPUGJFopq1aqpUpEKBLmItQKEnVbJCLLNJuK\\\n",
       "SImoixXbWblQbNVEoTbO+V+g+F+IZ5OdjGfmt/5+pJX8tnPOmdmdZ8/sz2c955wTAADGrIq7AwAA\\\n",
       "BEGAAQBMIsAAACYRYAAAkwgwAIBJBBgAwCQCDABgEgEGADCJAAMAmESAAQBMIsAAACYRYAAAkwgw\\\n",
       "AIBJBBgAwCQCDABgEgEGADCJAAMAmESAAQBMIsAAACYRYAAAkwgwAIBJBBgAwCQCDABgEgEGADCJ\\\n",
       "AAMAmESAAQBMIsAAACYRYAAAkwgwAIBJBBgAwCQCDABgEgEGADCJAAMAmESAJdDg4KC2bt2q2tpa\\\n",
       "9fX1xd0dAEgkzznn4u4E/t/CwoK++tWv6uLFi6qurtaOHTt05swZNTQ0+N7H87wIe1jeWov87mpk\\\n",
       "vcDSlj46rUWOTJjHjFNl8lTE3QE8aHh4WLW1tdq8ebMk6eDBgzp//nzRAEN4Ror8jpcJcVv66IwU\\\n",
       "OTIcs/LGJcSEmZyc1OOPP774fXV1tSYnJ2PsEQAkEzMwo3K5nHK5XNzdAIDYEGAJk06nNT4+vvj9\\\n",
       "xMSE0un0p/7u8OHDOnz4sCTeAwOwMnEJMWF27Nih69ev68aNG5qbm9Orr76qrq6ugFtzRW7lJLxx\\\n",
       "ekVuFoV59ON/JC19ZMI/ZkuNslh5D+LCDCxhKioqdPr0ae3Zs0cLCwvq6elRY2Nj3N0CgMShjL4M\\\n",
       "+F9CLHZorc4plrJSxlk6vz0TZK+Eua1kW2qkWTlXrEYVceASIgDAJAIMAGASAQYAMIkAAwCYRBVi\\\n",
       "GWjV0ovseBG9vR7Vm/srp4ggPF6Ie83ifg42eosjXZmYgQEATCLAAAAmEWAAAJMIMACASQQYAMAk\\\n",
       "lpIqA0FWo6eiD6Va6Y8ZTpXJwwwMAGASAQYAMIkAAwCYRIABAEwiwAAAJhFgAACTCLCy0Kr7Rc4P\\\n",
       "3/x5PreoLNXbz7oF2RbCE/djBngYAQYAMIkAAwCYRIABAEwiwAAAJhFgAACTWMw3gWpqarR27Vqt\\\n",
       "Xr1aFRUVGhkZKfr3QRbzRbxW+sK4YSp2Agtzf3KqTJ6KuDuApf3pT3/SY489Fnc3ACCxuIQIADCJ\\\n",
       "AEsgz/P01FNPqbW1VblcLu7uAEAicQkxgS5fvqx0Oq1//etf6ujo0Ne+9jXt2rXrgb/J5XKEG4AV\\\n",
       "jSKOhOvt7dWaNWv04osv+v4NRRz2UMQRHoo4Vi4uISbMhx9+qNnZ2cWv33jjDTU1NcXcq+JYh7B0\\\n",
       "QdYV9N/P4a0sGWxdyXDbKbV9v33pFW0J5YBLiAkzNTWlp59+WpJ07949fe9739M3v/nNmHsFAMnD\\\n",
       "JcQyEPclRC6HRcN/Pwd5Ci99dIJdjiv9XuH1+LOE9+jkVJk8XEIEAJhEgAEATCLAAAAmEWAAAJOo\\\n",
       "QsTnRrFGmG/i++01/za8mPe08+lbsV753SdQEUWgLZW+n1fSI9o6ZmAAAJMIMACASQQYAMAkAgwA\\\n",
       "YBIBBgAwiSpEfG42a7OiWP6neB1eWPyr8IIt8lS60h8B/jWApVcBhvv4s/loxoOYgQEATCLAAAAm\\\n",
       "EWAAAJMIMACASQQYAMAkAgwAYBJl9GUt3gVLo2s97k/KDbNUPuzjEt5iumH2LP6Fif1RYG8HMzAA\\\n",
       "gEkEGADAJAIMAGASAQYAMIkAAwCYRIDFpKenR1VVVWpqalr82e3bt9XR0aG6ujp1dHRoenr6C7bi\\\n",
       "Fbktv7Bbdz63qMbp337p9wmyrXCF14NkjKc08T4zEBYCLCbPP/+8BgcHH/hZX1+fdu/erevXr2v3\\\n",
       "7t3q6+uLqXcAkHyecy7JL5TK2tjYmDo7O3Xt2jVJ0tatWzU0NKRUKqVCoaAnn3xS77333mdux/NW\\\n",
       "xuvGYP/RFMXHmQRpPbxjVrz9UsfvvzX/j0YJsjV7OFUmDzOwBJmamlIqlZIkbdy4UVNTUzH3CACS\\\n",
       "i5U4EsrzvKIzq1wup1wuF2GPACBZmIElyIYNG1QoFCRJhUJBVVVVvn97+PBhjYyMaGRkJKruAUCi\\\n",
       "EGAJ0tXVpf7+fklSf3+/9u7dG3OPACC5KOKIyXPPPaehoSHdunVLGzZs0IkTJ/Sd73xHBw4c0Pvv\\\n",
       "v69Nmzbp7Nmzqqys/MxtBSviCG+R15XCryAizL0fpCQk7oVxg5RxhFn4EeQEFuiYcapMHAKsDBBg\\\n",
       "0SDA/BBgiAeXEAEAJhFgAACTCDAAgEkEGADAJP6RecWK+43/pSV5WSL/Yomo3twvvSCitC0V35rz\\\n",
       "uVeQIpKojmXcjxksL2ZgAACTCDAAgEkEGADAJAIMAGASAQYAMIkqxLLQKmmpVent1WAlu8dLV+iF\\\n",
       "WzkZ7ta8kpcMK/0DLYMo9kGbpVZ7xr+UFuLCDAwAYBIBBgAwiQADAJhEgAEATCLAAAAmEWAAAJP4\\\n",
       "ROYyEOwTmUvHZzgHUdrTq/hfL/+e5lj641SZPMzAAAAmEWAAAJMIMACASQQYAMAkAgwAYBIBFpOe\\\n",
       "nh5VVVWpqalp8We9vb1Kp9PKZDLKZDK6cOHCsrXvfG7FeD63UtsIu5Yr7nbC5LePvdB7EMVoomwH\\\n",
       "KxEBFpPnn39eg4ODn/r5Cy+8oHw+r3w+r29961sx9AwAbCDAYrJr1y5VVlbG3Q0AMIsAS5jTp0+r\\\n",
       "paVFPT09mp6ejrs7AJBYBFiCHDlyRKOjo8rn80qlUjp27Jjv3+ZyOWWzWWWz2Qh7CADJwVJSMRob\\\n",
       "G1NnZ6euXbtW0u8eFmQpqSiWhQr3s4WT207xNsJ7ehX7DOOwthb+pxuXzwJknCqThxlYghQKhcWv\\\n",
       "z50790CFIgDgQRVxd2Cleu655zQ0NKRbt26purpaJ06c0NDQkPL5vDzPU01NjV555ZVlaz+K179R\\\n",
       "vcZO9mv5UntX+qt8r8h9Sp21FW89yKyt9HaSfTyRJFxCLANRrUa/0kVzMaz0MPqs/8Ur/V6lbS3I\\\n",
       "ZUeLAcapMnm4hAgAMIkAAwCYRIABAEwiwAAAJlGFCHxO0fxPmX8rftWGQQoiXIglKf7b8h9PUgs1\\\n",
       "YAszMACASQQYAMAkAgwAYBIBBgAwiQADAJhEFSIeEvciP3G3X7roeuxX0Rdk/cSlFasoDHP5qWDV\\\n",
       "jmFtCeWCGRgAwCQCDABgEgEGADCJAAMAmESAAQBMIsAAACZRRo+HxF2UHHf7xYT3icTJHWWYpfJB\\\n",
       "txfelii9L2/MwAAAJhFgAACTCDAAgEkEGADAJAIMAGASARaT8fFxtbe3q6GhQY2NjTp16pQk6fbt\\\n",
       "2+ro6FBdXZ06Ojo0PT0dab9ckVvcW4tC8R57PrewWyr1FkSYY/HbVvy1fv69svfYxKd5zjmOWAwK\\\n",
       "hYIKhYK2b9+u2dlZtba2amBgQL///e9VWVmpn/3sZ+rr69P09LR++ctfFt2W54V3ogi3IJqV5YO1\\\n",
       "FIWlRxN2r5J5lKUgR5pTZfIwA4tJKpXS9u3bJUlr165VfX29Jicndf78eXV3d0uSuru7NTAwEGc3\\\n",
       "ASCxmIElwNjYmHbt2qVr167pK1/5imZmZiTdf8X36KOPLn7vhxlYeJiBRdFKEjADKwesxBGzO3fu\\\n",
       "aN++fTp58qTWrVv3wO88z/MNp1wup1wuF0UXASCRmIHFaH5+Xp2dndqzZ4+OHj0qSdq6dauGhoaU\\\n",
       "SqVUKBT05JNP6r333iu6HWZg4WEGFkUrScAMrBzwHlhMnHM6dOiQ6uvrF8NLkrq6utTf3y9J6u/v\\\n",
       "1969e+PqIgAkGjOwmFy+fFlPPPGEmpubtWrV/dcRL730ktra2nTgwAG9//772rRpk86ePavKysqi\\\n",
       "2wpzBoawLf30CneRWf97RfPk9m8lyELHScWpMnkIsDJAgCUZAVYuOFUmD5cQAQAmEWAAAJMIMACA\\\n",
       "SQQYAMAk/pEZsUjuR71H80a9/ziDFGSE999rYReRAMuJGRgAwCQCDABgEgEGADCJAAMAmESAAQBM\\\n",
       "ogoRsQi2+JHfvZK8xE8Uq76XXgUYpG4wuZWjWKmYgQEATCLAAAAmEWAAAJMIMACASQQYAMAkAgwA\\\n",
       "YBJl9EiYYkXZcZfLh1kSH15RelRl7CulXH6pI5ONvBf4PJiBAQBMIsAAACYRYAAAkwgwAIBJBBgA\\\n",
       "wCQCLCbj4+Nqb29XQ0ODGhsbderUKUlSb2+v0um0MpmMMpmMLly48JnbatX9yqmHbzYtNZLiIyp+\\\n",
       "D6+kmyt682uj9D77tR+kdwjXUvv+aqw9gh/POcczIAaFQkGFQkHbt2/X7OysWltbNTAwoLNnz2rN\\\n",
       "mjV68cUXP/e2sp6nkSV+brPsufSHY/GYKG0vhFsSf78HpSj+16wHHydOlcnD/4HFJJVKKZVKSZLW\\\n",
       "rl2r+vp6TU5OxtwrALCDS4gJMDY2prfeekttbW2SpNOnT6ulpUU9PT2anp6OuXcAkEwEWMzu3Lmj\\\n",
       "ffv26eTJk1q3bp2OHDmi0dFR5fN5pVIpHTt2bMn75XI5ZbNZZbNZ3Yy4zwCQBLwHFqP5+Xl1dnZq\\\n",
       "z549Onr06Kd+PzY2ps7OTl27dq3odngPzB/vgSEsnCqThxlYTJxzOnTokOrr6x8Ir0KhsPj1uXPn\\\n",
       "1NTUFEf3ACDxmIHF5PLly3riiSfU3NysVavuv4546aWXdObMGeXzeXmep5qaGr3yyiuLxR5+PM/e\\\n",
       "K/Agcwnnc69SZ1lBBXmixN8ze48Nf/HOQDlVJg8BVgYIsPhjwk/8PbP32PBHgOFBXEIEAJhEgAEA\\\n",
       "TCLAAAAmEWAAAJNYSgrLyP9N7yCFF+EWa5ReEJDUcghnsM/BlNdo8MUxAwMAmESAAQBMIsAAACYR\\\n",
       "YAAAkwgwAIBJBBgAwCTK6LGMkrwSYDJLslfKqobxjzTu9hEGZmAAAJMIMACASQQYAMAkAgwAYBIB\\\n",
       "BgAwiSpEmBekZizez/b1F6R9m+O3uKeRNMzAAAAmEWAAAJMIMACASQQYAMAkAgwAYBIBFpO7d+9q\\\n",
       "586d2rZtmxobG3X8+HFJ0o0bN9TW1qba2lo9++yzmpubi7mnX4QrcgvrHsF4PjebSt9ryR5/FI8A\\\n",
       "lAMCLCaPPPKILl26pLffflv5fF6Dg4N688039dOf/lQvvPCC/vGPf+jRRx/V7373u7i7CgCJRIDF\\\n",
       "xPM8rVmzRpI0Pz+v+fl5eZ6nS5cuaf/+/ZKk7u5uDQwMxNlNAEgsAixGCwsLymQyqqqqUkdHh7Zs\\\n",
       "2aL169erouL+/5dXV1drcnIy5l4CQDIRYDFavXq18vm8JiYmNDw8rHffffdz3zeXyymbzSqbzS5j\\\n",
       "DwEguQiwBFi/fr3a29t15coVzczM6N69e5KkiYkJpdPpJe9z+PBhjYyMaGRkJMquAkBiEGAxuXnz\\\n",
       "pmZmZiRJH330kS5evKj6+nq1t7frtddekyT19/dr7969cXYTABLLc85RnxqDv//97+ru7tbCwoI+\\\n",
       "/vhjHThwQD//+c/1z3/+UwcPHtTt27f19a9/XX/4wx/0yCOPFN2W59lczjUsQR7A9kYZTPkc5fhx\\\n",
       "qkweAqwMEGClszfKYMrnKMePU2XycAkRAGASAQYAMIkAAwCYRIABAEyqiLsDiEtS38Yv9kb50n1O\\\n",
       "6kiiU2zRXnt7J5rCk9IfZ0geZmAAAJMIMACASQQYAMAkAgwAYBIBBgAwiQADAJhEGT1CEGbh88ou\\\n",
       "YQ5W3F1e+6z00QTZa+W1z1YqZmAAAJMIMACASQQYAMAkAgwAYBIBBgAwiU9kLgOPPfaYampqJEk3\\\n",
       "b97Ul7/85dj6Qvu0X47tj42N6datW6FvF18MAVZmstmsRkZGaJ/2aR9lj0uIAACTCDAAgEmre3t7\\\n",
       "e+PuBMLV2tpK+7RP+yh7vAcGADCJS4gAAJMIsDIxODiorVu3qra2Vn19fZG3X1NTo+bmZmUyGWWz\\\n",
       "2Uja7OnpUVVVlZqamhZ/dvv2bXV0dKiurk4dHR2anp6OtP3e3l6l02llMhllMhlduHBhWdoeHx9X\\\n",
       "e3u7Ghoa1NjYqFOnTkmKbvx+7Uc1/rt372rnzp3atm2bGhsbdfz4cUnSjRs31NbWptraWj377LOa\\\n",
       "m5tblvaREA7m3bt3z23evNmNjo66//73v66lpcW98847kfZh06ZN7ubNm5G2+ec//9ldvXrVNTY2\\\n",
       "Lv7sxz/+sXv55Zedc869/PLL7ic/+Umk7R8/ftz96le/WrY2P/HBBx+4q1evOuec+89//uPq6urc\\\n",
       "O++8E9n4/dqPavwff/yxm52ddc45Nzc353bu3OmuXLninnnmGXfmzBnnnHM/+tGP3G9+85tl7wvi\\\n",
       "wwysDAwPD6u2tlabN2/Wl770JR08eFDnz5+Pu1vLbteuXaqsrHzgZ+fPn1d3d7ckqbu7WwMDA5G2\\\n",
       "H5VUKqXt27dLktauXav6+npNTk5GNn6/9qPieZ7WrFkjSZqfn9f8/Lw8z9OlS5e0f/9+Sct//BE/\\\n",
       "AqwMTE5O6vHHH1/8vrq6OtKTiXT/hPLUU0+ptbVVuVwu0rb/19TUlFKplCRp48aNmpqairwPp0+f\\\n",
       "VktLi3p6epb1EuYnxsbG9NZbb6mtrS2W8f9v+1J0419YWFAmk1FVVZU6Ojq0ZcsWrV+/XhUV9z/m\\\n",
       "MI7nAaJFgCEUly9f1t/+9jf98Y9/1K9//Wv95S9/ibtL8jxPnhftBxceOXJEo6OjyufzSqVSOnbs\\\n",
       "2LK2d+fOHe3bt08nT57UunXrHvhdFON/uP0ox7969Wrl83lNTExoeHhY77777rK1hWQiwMpAOp3W\\\n",
       "+Pj44vcTExNKp9OR90GSqqqq9PTTT2t4eDjS9j+xYcMGFQoFSVKhUFBVVVXk7a9evVqrVq3SD3/4\\\n",
       "w2XdD/Pz89q3b5++//3v67vf/e5i+1GN36/9qMb/ifXr16u9vV1XrlzRzMyM7t27Jyme5wGiRYCV\\\n",
       "gR07duj69eu6ceOG5ubm9Oqrr6qrqyuy9j/88EPNzs4ufv3GG288UJkXpa6uLvX390uS+vv7tXfv\\\n",
       "3kjb/yQ8JOncuXPLth+cczp06JDq6+t19OjRxZ9HNX6/9qMa/82bNzUzMyNJ+uijj3Tx4kXV19er\\\n",
       "vb1dr732mqR4jj8iFncVCcLx+uuvu7q6Ord582b3i1/8ItK2R0dHXUtLi2tpaXENDQ2RtX/w4EG3\\\n",
       "ceNGV1FR4dLptPvtb3/rbt265b7xjW+42tpat3v3bvfvf/870vZ/8IMfuKamJtfc3Oy+/e1vuw8+\\\n",
       "+GBZ2v7rX//qJLnm5ma3bds2t23bNvf6669HNn6/9qMa/9tvv+0ymYxrbm52jY2N7sSJE865+4/F\\\n",
       "HTt2uC1btrj9+/e7u3fvLkv7SAZW4gAAmMQlRACASQQYAMAkAgwAYBIBBgAwiQADAJhEgAEATCLA\\\n",
       "AAAmEWAAAJMIMACASQQYAMAkAgwAYBIBBgAwiQADAJhEgAEATCLAAAAmEWAAAJMIMACASQQYAMAk\\\n",
       "AgwAYBIBBgAw6f8A9lpQBmLDqucAAAAASUVORK5CYII=\\\n",
       "\"\n",
       "  frames[6] = \"data:image/png;base64,iVBORw0KGgoAAAANSUhEUgAAAbAAAAEgCAYAAADVKCZpAAAABHNCSVQICAgIfAhkiAAAAAlwSFlz\\\n",
       "AAALEgAACxIB0t1+/AAAADl0RVh0U29mdHdhcmUAbWF0cGxvdGxpYiB2ZXJzaW9uIDIuMi4zLCBo\\\n",
       "dHRwOi8vbWF0cGxvdGxpYi5vcmcvIxREBQAAFTxJREFUeJzt3V1sFOfZxvFrwEpOABErMazWKRbY\\\n",
       "pf5kiw0+CoqLNlSVa5pCCWkrOTIqFYeB9OOoGKlKXPUEJFopq1aqpUpEKBLmINQKEnVbJCrLNJuK\\\n",
       "SImoixXbWblQbNVEoTbO8x6g+C3Es8lOxjNzr/8/tBJee+e5n931XH5m7531nHNOAAAYsyruAgAA\\\n",
       "CIIAAwCYRIABAEwiwAAAJhFgAACTCDAAgEkEGADAJAIMAGASAQYAMIkAAwCYRIABAEwiwAAAJhFg\\\n",
       "AACTCDAAgEkEGADAJAIMAGASAQYAMIkAAwCYRIABAEwiwAAAJhFgAACTCDAAgEkEGADAJAIMAGAS\\\n",
       "AQYAMIkAAwCYRIABAEwiwAAAJhFgAACTCDAAgEkEGADAJAIMAGASAQYAMIkAS6DBwUFt3bpVtbW1\\\n",
       "6uvri7scAEgkzznn4i4C/29hYUFf/vKXdfHiRVVXV2vHjh06c+aMGhoafG/jeV6EFQIrE7vK5GEF\\\n",
       "ljDDw8Oqra3V5s2b9cgjj+jgwYM6f/583GUBQOIQYAkzOTmpJ598cvHr6upqTU5OxlgRACRTRdwF\\\n",
       "IJhcLqdcLhd3GQAQGwIsYdLptMbHxxe/npiYUDqd/tTPHT58WIcPH5bEa2AAViYOISbMjh07dP36\\\n",
       "dd24cUNzc3N67bXX1NXVFXdZgCTnc7HIby5W57MysQJLmIqKCp0+fVp79uzRwsKCenp61NjYGHdZ\\\n",
       "AJA4tNGXAQ4hIhp+uwqLz79iu72l58OuMnk4hAgAMIkAAwCYRIABAEwiwAAAJtGFCJhXekNCsG0l\\\n",
       "U7DZW2w8wcNYgQEATCLAAAAmEWAAAJMIMACASQQYAMAkuhBR1srp5Ef+wpxNkG2F2QVZ+ijl9Vii\\\n",
       "FKzAAAAmEWAAAJMIMACASQQYAMAkAgwAYBIBBgAwiTZ6xCSapmharKMQzb3MY4mHsQIDAJhEgAEA\\\n",
       "TCLAAAAmEWAAAJMIMACASXQhJlBNTY3Wrl2r1atXq6KiQiMjI3GXtAz8esqiOTFsmOxVDJQHAiyh\\\n",
       "/vjHP+rxxx+PuwwASCwOIQIATCLAEsjzPD3zzDNqbW1VLpeLuxwASCQOISbQ5cuXlU6n9a9//UvZ\\\n",
       "bFZf+cpXtGvXrgd+JpfLEW4AVjTPOVfsNWjErLe3V2vWrNFLL73k+zOeV06tAvZaIuxVjCDYVSYP\\\n",
       "hxAT5sMPP9Ts7Ozi/9988001NTXFXFWUvCKX8DifSxDBKvaroPRLsX/+o/v9fJBxwq86rMcG5Y1D\\\n",
       "iAkzNTWlZ599VpJ07949ffe739XXv/71mKsCgOThEGIZKK9DiNGI5lz4QSoId0uez4z8VmfF5u8/\\\n",
       "TpB7rfQDr3E/y9lVJg+HEAEAJhFgAACTCDAAgEkEGADAJLoQUQZKf3E97oaAcPnPplgr/dI/HxX/\\\n",
       "msvrscFyYgUGADCJAAMAmESAAQBMIsAAACYRYAAAk+hCxBcW7mmZyu10PaXdC+HP3l5Pn/9pruzN\\\n",
       "BcuLFRgAwCQCDABgEgEGADCJAAMAmESAAQBMIsAAACbRRl8GWiWNLHF9VE3HK6W5OdxPJI5KaW9y\\\n",
       "CPKJzOHPPsn3J5KEFRgAwCQCDABgEgEGADCJAAMAmESAAQBMIsBi0tPTo6qqKjU1NS1ed/v2bWWz\\\n",
       "WdXV1SmbzWp6evpzbeuq7vdtPXwJwhW5hMl/jKVmEnxGUcwlTMFmX+xRC+++9OSWvABxIcBi8sIL\\\n",
       "L2hwcPCB6/r6+rR7925dv35du3fvVl9fX0zVAUDyec45/oSKydjYmDo7O3Xt2jVJ0tatWzU0NKRU\\\n",
       "KqVCoaCnn35a77333mdux/PCe99MsSdDmO/OCfaeotKfqmG+dymK94EFeR9WmI9asPt/Zbxvi11l\\\n",
       "8rACS5CpqSmlUilJ0saNGzU1NRVzRQCQXJyJI6E8zyu6ssrlcsrlchFWBADJwgosQTZs2KBCoSBJ\\\n",
       "KhQKqqqq8v3Zw4cPa2RkRCMjS51ECgDKHwGWIF1dXerv75ck9ff3a+/evTFXBADJRRNHTJ5//nkN\\\n",
       "DQ3p1q1b2rBhg06cOKFvfetbOnDggN5//31t2rRJZ8+eVWVl5WduK/4mjmhaJVyAE9CW2vgR/i9D\\\n",
       "mE0U4VnZ7RjBsKtMHgKsDBBgwbb3xX/68yDAygW7yuThECIAwCQCDABgEgEGADCJAAMAmMQbmVes\\\n",
       "pV+Q9gK9jL/0bYI1hAT5TjF+tfnN3185vYQfbrNGkEc6SLNOeK0nUZ0yDcuLFRgAwCQCDABgEgEG\\\n",
       "ADCJAAMAmESAAQBMoguxjBXvtCq9Oyypp0UKIsjsoxB2d1w0p4wKr3M16Hf8hdlti6RhBQYAMIkA\\\n",
       "AwCYRIABAEwiwAAAJhFgAACTCDAAgEm00ZeFVkkjn7o2zBPzSjY/xde/5lJPGBt0/GhOQOun1FHK\\\n",
       "7yS34dzPbV+8ECwDVmAAAJMIMACASQQYAMAkAgwAYBIBBgAwiQCLSU9Pj6qqqtTU1LR4XW9vr9Lp\\\n",
       "tDKZjDKZjC5cuPA5t3ZV97utHr6Ea6kRkt6ZVnrNfrcINlP/LTmfC+K21ON1NdaK4IcAi8kLL7yg\\\n",
       "wcHBT13/4osvKp/PK5/P6xvf+EYMlQGADQRYTHbt2qXKysq4ywAAswiwhDl9+rRaWlrU09Oj6enp\\\n",
       "uMsBgMQiwBLkyJEjGh0dVT6fVyqV0rFjx3x/NpfLqa2tTW1tnCMAwMrkOed45TgmY2Nj6uzs1LVr\\\n",
       "10r63sM8L+mtFOUivF8V/y3F+1nJ5XcqqfCwq0weVmAJUigUFv9/7ty5BzoUAQAP4mS+MXn++ec1\\\n",
       "NDSkW7duqbq6WidOnNDQ0JDy+bw8z1NNTY1effXVyOtK9l/gFk8nvDS/iv1P/htka6WvGe3dk8uB\\\n",
       "0/lawSHEMhDmIUQCLMj4cY8Q3vzjf4yTYOkAc+7Tn/iAeHEIEQBgEgEGADCJAAMAmESAAQBMogsR\\\n",
       "D0j2i/hxVxdk/NLaMoKNEF7rTbKbeKLhlpgpPYjJxAoMAGASAQYAMIkAAwCYRIABAEwiwAAAJtGF\\\n",
       "iDIX9+mn/M96WKpgp5mKe/6li7vi5N4zeBgrMACASQQYAMAkAgwAYBIBBgAwiQADAJhEgAEATKKN\\\n",
       "voxFd2LWuBufiwmzhiDzDO9TnMNryA8myDhB7v0kPGtgAyswAIBJBBgAwCQCDABgEgEGADCJAAMA\\\n",
       "mESAxWR8fFwdHR1qaGhQY2OjTp06JUm6ffu2stms6urqlM1mNT09HXgMr8glCOdzCTKK/7bi5ldZ\\\n",
       "seqC3Ca8yoo/0mE+A5YWzSjAp3nOuWTsN1aYQqGgQqGg7du3a3Z2Vq2trRoYGNDvfvc7VVZW6qc/\\\n",
       "/an6+vo0PT2tX/ziF0W35XnR7CrCbJZPbuN9cn8d/CuL916L/zGLBrvK5GEFFpNUKqXt27dLktau\\\n",
       "Xav6+npNTk7q/Pnz6u7uliR1d3drYGAgzjIBILFYgSXA2NiYdu3apWvXrulLX/qSZmZmJN3/i++x\\\n",
       "xx5b/NoPK7AwJffXgRVYvNhVJg9n4ojZnTt3tG/fPp08eVLr1q174Hue5/mGUy6XUy6Xi6JEAEgk\\\n",
       "VmAxmp+fV2dnp/bs2aOjR49KkrZu3aqhoSGlUikVCgU9/fTTeu+994puhxVYmJL768AKLF7sKpOH\\\n",
       "18Bi4pzToUOHVF9fvxhektTV1aX+/n5JUn9/v/bu3RtXiQCQaKzAYnL58mU99dRTam5u1qpV9/+O\\\n",
       "ePnll9Xe3q4DBw7o/fff16ZNm3T27FlVVlYW3ZbntUkaWeo74RdeNpL5tHcJfsySW1k02FUmDwFW\\\n",
       "BgiwIJL5tCfAkotdZfJwCBEAYBIBBgAwiQADAJhEgAEATKKJowxE9T6w5EruU9jae7dc0YpX9vOM\\\n",
       "XWXysAIDAJhEgAEATCLAAAAmEWAAAJMIMACASXycCh5SrNMqii60eDu9io/u37tX+m2CVLD0toqP\\\n",
       "UNp5/1d6pyFsYQUGADCJAAMAmESAAQBMIsAAACYRYAAAkwgwAIBJtNHjIUHaqO2d5DS5J9n1Hz/Y\\\n",
       "vVzafOJ+E0Uxpb0hACsBKzAAgEkEGADAJAIMAGASAQYAMIkAAwCYRIDFZHx8XB0dHWpoaFBjY6NO\\\n",
       "nTolSert7VU6nVYmk1Emk9GFCxdirnR5OJ9LkNs4eSVf5HsJovTtBRk9zIpLHSMJnX5JrQvx8Zxz\\\n",
       "9nqgy0ChUFChUND27ds1Ozur1tZWDQwM6OzZs1qzZo1eeumlz70tz4v717j0p1CQluiktr4HYa9i\\\n",
       "sKtMHt4HFpNUKqVUKiVJWrt2rerr6zU5ORlzVQBgB4cQE2BsbExvvfWW2tvbJUmnT59WS0uLenp6\\\n",
       "ND09HXN1AJBMBFjM7ty5o3379unkyZNat26djhw5otHRUeXzeaVSKR07dmzJ2+VyObW1tamtrS3i\\\n",
       "igEgGXgNLEbz8/Pq7OzUnj17dPTo0U99f2xsTJ2dnbp27VrR7fAaWNzzL529isGuMnlYgcXEOadD\\\n",
       "hw6pvr7+gfAqFAqL/z937pyampriKA8AEo8VWEwuX76sp556Ss3NzVq16v7fES+//LLOnDmjfD4v\\\n",
       "z/NUU1OjV199dbHZw0/8KzA/QZ5aYZ/MNjxJvZcRDXaVyUOAlQECLBpJvZcRDXaVycMhRACASQQY\\\n",
       "AMAkAgwAYBIBBgAwiVNJYRmF2/ZAE0UQQd5xB9jACgwAYBIBBgAwiQADAJhEgAEATCLAAAAmEWAA\\\n",
       "AJNoo8cDip3tLf7G6zA/hCX+2URjpcyzVMl+puPzYQUGADCJAAMAmESAAQBMIsAAACYRYAAAk+hC\\\n",
       "xAOK91/F3dEXZJyV0FEWXkfdyunNK6/ZrFSswAAAJhFgAACTCDAAgEkEGADAJAIMAGASARaTu3fv\\\n",
       "aufOndq2bZsaGxt1/PhxSdKNGzfU3t6u2tpaPffcc5qbm/vMbbXqfvfYw5fweT6XMC01k8+aUZDb\\\n",
       "lBO/x6X0xya8LX0W/8dsJT+SKA0BFpNHH31Uly5d0ttvv618Pq/BwUH99a9/1U9+8hO9+OKL+sc/\\\n",
       "/qHHHntMv/3tb+MuFQASiQCLied5WrNmjSRpfn5e8/Pz8jxPly5d0v79+yVJ3d3dGhgYiLNMAEgs\\\n",
       "AixGCwsLymQyqqqqUjab1ZYtW7R+/XpVVNx/f3l1dbUmJydjrhIAkokAi9Hq1auVz+c1MTGh4eFh\\\n",
       "vfvuu5/7trlcTm1tbWpra9PNZawRAJKKAEuA9evXq6OjQ1euXNHMzIzu3bsnSZqYmFA6nV7yNocP\\\n",
       "H9bIyIhGRkb0RJTFAkBCEGAxuXnzpmZmZiRJH330kS5evKj6+np1dHTo9ddflyT19/dr7969cZYJ\\\n",
       "AInlOefoUI3B3//+d3V3d2thYUEff/yxDhw4oJ/97Gf65z//qYMHD+r27dv66le/qt///vd69NFH\\\n",
       "i27L81bKiUnDPJlw3CcmhjXsKpOHACsDBBgBhuXHrjJ5OIQIADCJAAMAmESAAQBMIsAAACZVxF0A\\\n",
       "8PmF2WBBs8ZKQKtOeWMFBgAwiQADAJhEgAEATCLAAAAmEWAAAJMIMACASbTRAyhbfu3yxc5qSIu9\\\n",
       "HazAAAAmEWAAAJMIMACASQQYAMAkAgwAYBKfyFwGHn/8cdXU1EiSbt68qSeeeCK2Whif8ctx/LGx\\\n",
       "Md26dSv07eKLIcDKTFtbm0ZGRhif8RkfZY9DiAAAkwgwAIBJq3t7e3vjLgLham1tZXzGZ3yUPV4D\\\n",
       "AwCYxCFEAIBJBFiZGBwc1NatW1VbW6u+vr7Ix6+pqVFzc7MymYza2toiGbOnp0dVVVVqampavO72\\\n",
       "7dvKZrOqq6tTNpvV9PR0pOP39vYqnU4rk8kok8nowoULyzL2+Pi4Ojo61NDQoMbGRp06dUpSdPP3\\\n",
       "Gz+q+d+9e1c7d+7Utm3b1NjYqOPHj0uSbty4ofb2dtXW1uq5557T3NzcsoyPhHAw7969e27z5s1u\\\n",
       "dHTU/fe//3UtLS3unXfeibSGTZs2uZs3b0Y65p/+9Cd39epV19jYuHjdj370I/fKK68455x75ZVX\\\n",
       "3I9//ONIxz9+/Lj75S9/uWxjfuKDDz5wV69edc4595///MfV1dW5d955J7L5+40f1fw//vhjNzs7\\\n",
       "65xzbm5uzu3cudNduXLFfec733Fnzpxxzjn3wx/+0P36179e9loQH1ZgZWB4eFi1tbXavHmzHnnk\\\n",
       "ER08eFDnz5+Pu6xlt2vXLlVWVj5w3fnz59Xd3S1J6u7u1sDAQKTjRyWVSmn79u2SpLVr16q+vl6T\\\n",
       "k5ORzd9v/Kh4nqc1a9ZIkubn5zU/Py/P83Tp0iXt379f0vI//ogfAVYGJicn9eSTTy5+XV1dHenO\\\n",
       "RLq/Q3nmmWfU2tqqXC4X6dj/a2pqSqlUSpK0ceNGTU1NRV7D6dOn1dLSop6enmU9hPmJsbExvfXW\\\n",
       "W2pvb49l/v87vhTd/BcWFpTJZFRVVaVsNqstW7Zo/fr1qqi4/zGHcfweIFoEGEJx+fJl/e1vf9Mf\\\n",
       "/vAH/epXv9Kf//znuEuS53nyvGg/nvDIkSMaHR1VPp9XKpXSsWPHlnW8O3fuaN++fTp58qTWrVv3\\\n",
       "wPeimP/D40c5/9WrVyufz2tiYkLDw8N69913l20sJBMBVgbS6bTGx8cXv56YmFA6nY68BkmqqqrS\\\n",
       "s88+q+Hh4UjH/8SGDRtUKBQkSYVCQVVVVZGPv3r1aq1atUo/+MEPlvV+mJ+f1759+/S9731P3/72\\\n",
       "txfHj2r+fuNHNf9PrF+/Xh0dHbpy5YpmZmZ07949SfH8HiBaBFgZ2LFjh65fv64bN25obm5Or732\\\n",
       "mrq6uiIb/8MPP9Ts7Ozi/998880HOvOi1NXVpf7+fklSf3+/9u7dG+n4n4SHJJ07d27Z7gfnnA4d\\\n",
       "OqT6+nodPXp08fqo5u83flTzv3nzpmZmZiRJH330kS5evKj6+np1dHTo9ddflxTP44+Ixd1FgnC8\\\n",
       "8cYbrq6uzm3evNn9/Oc/j3Ts0dFR19LS4lpaWlxDQ0Nk4x88eNBt3LjRVVRUuHQ67X7zm9+4W7du\\\n",
       "ua997WuutrbW7d692/373/+OdPzvf//7rqmpyTU3N7tvfvOb7oMPPliWsf/yl784Sa65udlt27bN\\\n",
       "bdu2zb3xxhuRzd9v/Kjm//bbb7tMJuOam5tdY2OjO3HihHPu/nNxx44dbsuWLW7//v3u7t27yzI+\\\n",
       "koEzcQAATOIQIgDAJAIMAGASAQYAMIkAAwCYRIABAEwiwAAAJhFgAACTCDAAgEkEGADAJAIMAGAS\\\n",
       "AQYAMIkAAwCYRIABAEwiwAAAJhFgAACTCDAAgEkEGADAJAIMAGASAQYAMIkAAwCY9H+8vtAq67cn\\\n",
       "RgAAAABJRU5ErkJggg==\\\n",
       "\"\n",
       "  frames[7] = \"data:image/png;base64,iVBORw0KGgoAAAANSUhEUgAAAbAAAAEgCAYAAADVKCZpAAAABHNCSVQICAgIfAhkiAAAAAlwSFlz\\\n",
       "AAALEgAACxIB0t1+/AAAADl0RVh0U29mdHdhcmUAbWF0cGxvdGxpYiB2ZXJzaW9uIDIuMi4zLCBo\\\n",
       "dHRwOi8vbWF0cGxvdGxpYi5vcmcvIxREBQAAEthJREFUeJzt3X9oVfUfx/HXcUP/UbFV08tdOXTL\\\n",
       "9tObu7q/EpdcjVgz09R+wGKS4Z9pv/7KCWGL/lGwwEtBg0CRwPlHNhRslWCMVdcwKGw52tZlaW40\\\n",
       "I9tcn+8f0r7f1e6+WrvnnPfd8wEXtrvd+3mfs+3z2ufc9z3Hc845AQBgzKygCwAA4J8gwAAAJhFg\\\n",
       "AACTCDAAgEkEGADAJAIMAGASAQYAMIkAAwCYRIABAEwiwAAAJhFgAACTCDAAgEkEGADAJAIMAGAS\\\n",
       "AQYAMIkAAwCYRIABAEwiwAAAJhFgAACTCDAAgEkEGADAJAIMAGASAQYAMIkAAwCYRIABAEwiwAAA\\\n",
       "JhFgAACTCDAAgEkEGADAJAIMAGASAQYAMIkAAwCYRIABAEwiwEKovb1dy5YtU0lJiVpaWoIuBwBC\\\n",
       "yXPOuaCLwH+NjY3pnnvu0alTp1RUVKSVK1fq8OHDKi8vz/gYz/N8rBCYmZgqw4cVWMh0dnaqpKRE\\\n",
       "S5Ys0ezZs7Vt2zYdP3486LIAIHQIsJDp7+/XXXfdNf55UVGR+vv7A6wIAMIpP+gC8M8kk0klk8mg\\\n",
       "ywCAwBBgIRONRtXb2zv+eV9fn6LR6N++b8eOHdqxY4ckXgMDMDNxCDFkVq5cqQsXLujixYsaGRnR\\\n",
       "kSNH1NDQEHRZABA6rMBCJj8/XwcPHtT69es1NjampqYmVVRUBF0WAIQObfQ5gEOIQPYxVYYPhxAB\\\n",
       "ACYRYAAAkwgwAIBJBBgAwCS6EAHcpExNDJmbiG79EcDNYwUGADCJAAMAmESAAQBMIsAAACYRYAAA\\\n",
       "k+hCxF9Mdbocesdmtlv/+fMbg2xiBQYAMIkAAwCYRIABAEwiwAAAJhFgAACTCDAAgEm00eMvaHzG\\\n",
       "5DgxL8KGFRgAwCQCDABgEgEGADCJAAMAmESAAQBMogsxhIqLizVv3jzl5eUpPz9fXV1dQZc07eho\\\n",
       "s4efDcKGAAupjz76SHfccUfQZQBAaHEIEQBgEgEWQp7nad26daqpqVEymQy6HAAIJQ4hhtCZM2cU\\\n",
       "jUb1008/KZFI6N5779Xq1asnfE8ymSTcAMxonnNuqkvwImDNzc2aO3eunn/++Yzf43n2Xl6niQPW\\\n",
       "MFWGD4cQQ+bXX3/V8PDw+McnT55UZWVlwFVNPy/DDdPNZbghs8n2V02gFWFyHEIMmYGBAW3cuFGS\\\n",
       "dP36dT3xxBN68MEHA64KAMKHQ4g5wOIhRPiFg7W3brJ9Fpdzufd+TOs4hAgAMIkAAwCYRIABAEwi\\\n",
       "wAAAJtGFCBjxz9oxaNa4dewzK1iBAQBMIsAAACYRYAAAkwgwAIBJBBgAwCS6EIGbFuxpmeiNAyZi\\\n",
       "BQYAMIkAAwCYRIABAEwiwAAAJhFgAACTCDAAgEm00SMHTHVR8elsPs9+I7tfWxLW8YFbwQoMAGAS\\\n",
       "AQYAMIkAAwCYRIABAEwiwAAAJhFgAWlqalJhYaEqKyvH77ty5YoSiYRKS0uVSCQ0ODgYYIVh5DLc\\\n",
       "vClu0zPCVN1502mqLfGjrunbk0D2EWABefrpp9Xe3j7hvpaWFq1du1YXLlzQ2rVr1dLSElB1ABB+\\\n",
       "nnPOr38u8Rc9PT2qr6/X+fPnJUnLli1TR0eHIpGI0um01qxZo2+//fb/Po/nzZT/j7N/OZMwvw8q\\\n",
       "2Iu5gKkyfFiBhcjAwIAikYgkadGiRRoYGAi4IgAIL87EEVKe5025skomk0omkz5WBADhwgosRBYu\\\n",
       "XKh0Oi1JSqfTKiwszPi9O3bsUFdXl7q6uvwqDwBChQALkYaGBrW2tkqSWltbtWHDhoArAoDwookj\\\n",
       "II8//rg6Ojp0+fJlLVy4UHv37tUjjzyiLVu26IcfftDixYt19OhRFRQU/N/nmjlNHPbQeDGdgt2b\\\n",
       "TJXhQ4DlAAIsvAiw6USAYSIOIQIATCLAAAAmEWAAAJMIMACASbyRGTnuVl94n96GAJo1phN7ExOx\\\n",
       "AgMAmESAAQBMIsAAACYRYAAAkwgwAIBJdCEix2X/Ypfh7o2zWfXkcmlbMB1YgQEATCLAAAAmEWAA\\\n",
       "AJMIMACASQQYAMAkAgwAYBJt9MAEmU/+65ls17ZYcya5tC2YDqzAAAAmEWAAAJMIMACASQQYAMAk\\\n",
       "AgwAYBIBFpCmpiYVFhaqsrJy/L7m5mZFo1HFYjHFYjGdOHEiwAqzzWW4Bc2b4pZ9mfZKGPYMEDYE\\\n",
       "WECefvpptbe3/+3+5557TqlUSqlUSg899FAAlQGADQRYQFavXq2CgoKgywAAswiwkDl48KCqq6vV\\\n",
       "1NSkwcHBoMsBgNAiwEJk586d6u7uViqVUiQS0e7duzN+bzKZVDweVzwe97FCAAgPzznH68MB6enp\\\n",
       "UX19vc6fP39LX/srz7N4ih2urjuZqf4YZ/aeCR5TZfiwAguRdDo9/vGxY8cmdCgCACbiZL4Befzx\\\n",
       "x9XR0aHLly+rqKhIe/fuVUdHh1KplDzPU3FxsQ4dOhR0mVkU9HoinCvAoPfKzMFaNxdwCDEH2DyE\\\n",
       "GLRwBhj8cusBxlQZPhxCBACYRIABAEwiwAAAJhFgAACT6ELEDGWvWYO2k+nEXssFrMAAACYRYAAA\\\n",
       "kwgwAIBJBBgAwCQCDABgEl2IgBH0zfllsn5PLlsURqzAAAAmEWAAAJMIMACASQQYAMAkAgwAYBIB\\\n",
       "BgAwiTZ6AJiANyxYwQoMAGASAQYAMIkAAwCYRIABAEwiwAAAJhFgAent7VVdXZ3Ky8tVUVGhAwcO\\\n",
       "SJKuXLmiRCKh0tJSJRIJDQ4OBlwp/stluOWOTFvo51YGPT7s8Jxz/G4EIJ1OK51Oa8WKFRoeHlZN\\\n",
       "TY3a2tr07rvvqqCgQC+//LJaWlo0ODio119/fcrn8jzafv2R6U8ld/b/VJOBX1sZ1r3MVBk+rMAC\\\n",
       "EolEtGLFCknSvHnzVFZWpv7+fh0/flyNjY2SpMbGRrW1tQVZJgCEFiuwEOjp6dHq1at1/vx53X33\\\n",
       "3RoaGpJ04z++2267bfzzTFiB+SWsa4PpwwosM6bK8OFMHAG7evWqNm3apP3792v+/PkTvuZ5XsZw\\\n",
       "SiaTSiaTfpQIAKHECixAo6Ojqq+v1/r167Vr1y5J0rJly9TR0aFIJKJ0Oq01a9bo22+/nfJ5WIH5\\\n",
       "Jaxrg+nDCiwzpsrw4TWwgDjntH37dpWVlY2HlyQ1NDSotbVVktTa2qoNGzYEVSIAhBorsICcOXNG\\\n",
       "999/v6qqqjRr1o3/I/bt26fa2lpt2bJFP/zwgxYvXqyjR4+qoKBgyudiBZY7wrACwuSYKsOHAMsB\\\n",
       "BFjuIMDCi6kyfDiECAAwiQADAJhEgAEATCLAAAAm8UZmhMw/aWOYzscE2ypBowZw81iBAQBMIsAA\\\n",
       "ACYRYAAAkwgwAIBJBBgAwCS6EGescHbh/bPx/XoMgDBhBQYAMIkAAwCYRIABAEwiwAAAJhFgAACT\\\n",
       "CDAAgEm00c9YtJFPF66iDASDFRgAwCQCDABgEgEGADCJAAMAmESAAQBMIsAC0tvbq7q6OpWXl6ui\\\n",
       "okIHDhyQJDU3NysajSoWiykWi+nEiRMBV3ozXIbbzOBNcQOQPZ5zbubMNCGSTqeVTqe1YsUKDQ8P\\\n",
       "q6amRm1tbTp69Kjmzp2r559//qafy/OCnirDemZ7YPowVYYP7wMLSCQSUSQSkSTNmzdPZWVl6u/v\\\n",
       "D7gqALCDQ4gh0NPToy+//FK1tbWSpIMHD6q6ulpNTU0aHBwMuDoACCcCLGBXr17Vpk2btH//fs2f\\\n",
       "P187d+5Ud3e3UqmUIpGIdu/ePenjksmk4vG44vG4zxUDQDjwGliARkdHVV9fr/Xr12vXrl1/+3pP\\\n",
       "T4/q6+t1/vz5KZ+H18CA7GOqDB9WYAFxzmn79u0qKyubEF7pdHr842PHjqmysjKI8gAg9FiBBeTM\\\n",
       "mTO6//77VVVVpVmzbvwfsW/fPh0+fFipVEqe56m4uFiHDh0ab/bIJPgVWC7h1LyYHFNl+BBgOYAA\\\n",
       "m04EGCbHVBk+HEIEAJhEgAEATCLAAAAmEWAAAJM4lRT+tdx6F5jNqoGZiBUYAMAkAgwAYBIBBgAw\\\n",
       "iQADAJhEgAEATCLAAAAm0UaPf43GcwBBYAUGADCJAAMAmESAAQBMIsAAACYRYAAAkwgwAIBJBBgA\\\n",
       "wCQCDABgEgEGADCJAAMAmESAAQBMIsACcu3aNa1atUrLly9XRUWF9uzZI0m6ePGiamtrVVJSoq1b\\\n",
       "t2pkZCTgSgEgnAiwgMyZM0enT5/WuXPnlEql1N7ers8++0wvvfSSnnvuOX333Xe67bbb9M477wRd\\\n",
       "KgCEEgEWEM/zNHfuXEnS6OioRkdH5XmeTp8+rc2bN0uSGhsb1dbWFmSZABBaBFiAxsbGFIvFVFhY\\\n",
       "qEQioaVLl2rBggXKz79xlZuioiL19/cHXCUAhBMBFqC8vDylUin19fWps7NT33zzzU0/NplMKh6P\\\n",
       "Kx6PZ7FCAAgvAiwEFixYoLq6Op09e1ZDQ0O6fv26JKmvr0/RaHTSx+zYsUNdXV3q6urys1QACA0C\\\n",
       "LCCXLl3S0NCQJOm3337TqVOnVFZWprq6Or3//vuSpNbWVm3YsCHIMgEgtDznnAu6iJnoq6++UmNj\\\n",
       "o8bGxvTHH39oy5YteuWVV/T9999r27ZtunLliu677z699957mjNnzpTP5XmeT1UDMxdTZfgQYDmA\\\n",
       "AAOyj6kyfDiECAAwiQADAJhEgAEATCLAAAAm5QddADDRVC+U06wyOfYZZiZWYAAAkwgwAIBJBBgA\\\n",
       "wCQCDABgEgEGADCJAAMAmEQbPUKGtu9bxz7DzMQKDABgEgEGADCJAAMAmESAAQBMIsAAACbRhZgD\\\n",
       "br/9dhUXF0uSLl26pDvvvDOwWhif8XNx/J6enml/Tvx7nuM62TklHo+rq6uL8Rmf8ZHzOIQIADCJ\\\n",
       "AAMAmJTX3NzcHHQRmF41NTWMz/iMj5zHa2AAAJM4hAgAMIkAyxHt7e1atmyZSkpK1NLS4vv4xcXF\\\n",
       "qqqqUiwWUzwe92XMpqYmFRYWqrKycvy+K1euKJFIqLS0VIlEQoODg76O39zcrGg0qlgsplgsphMn\\\n",
       "TmRl7N7eXtXV1am8vFwVFRU6cOCAJP+2P9P4fm3/tWvXtGrVKi1fvlwVFRXas2ePJOnixYuqra1V\\\n",
       "SUmJtm7dqpGRkayMj5BwMO/69etuyZIlrru72/3++++uurraff31177WsHjxYnfp0iVfx/z444/d\\\n",
       "559/7ioqKsbve+GFF9xrr73mnHPutddecy+++KKv4+/Zs8e98cYbWRvzTz/++KP7/PPPnXPO/fLL\\\n",
       "L660tNR9/fXXvm1/pvH92v4//vjDDQ8PO+ecGxkZcatWrXJnz551jz32mDt8+LBzzrlnn33WvfXW\\\n",
       "W1mvBcFhBZYDOjs7VVJSoiVLlmj27Nnatm2bjh8/HnRZWbd69WoVFBRMuO/48eNqbGyUJDU2Nqqt\\\n",
       "rc3X8f0SiUS0YsUKSdK8efNUVlam/v5+37Y/0/h+8TxPc+fOlSSNjo5qdHRUnufp9OnT2rx5s6Ts\\\n",
       "//wRPAIsB/T39+uuu+4a/7yoqMjXyUS6MaGsW7dONTU1SiaTvo79vwYGBhSJRCRJixYt0sDAgO81\\\n",
       "HDx4UNXV1WpqasrqIcw/9fT06Msvv1RtbW0g2/+/40v+bf/Y2JhisZgKCwuVSCS0dOlSLViwQPn5\\\n",
       "N04wFMTfAfxFgGFanDlzRl988YU+/PBDvfnmm/rkk0+CLkme58nz/L3Y486dO9Xd3a1UKqVIJKLd\\\n",
       "u3dndbyrV69q06ZN2r9/v+bPnz/ha35s/1/H93P78/LylEql1NfXp87OTn3zzTdZGwvhRIDlgGg0\\\n",
       "qt7e3vHP+/r6FI1Gfa9BkgoLC7Vx40Z1dnb6Ov6fFi5cqHQ6LUlKp9MqLCz0ffy8vDzNmjVLzzzz\\\n",
       "TFb3w+joqDZt2qQnn3xSjz766Pj4fm1/pvH92v4/LViwQHV1dTp79qyGhoZ0/fp1ScH8HcBfBFgO\\\n",
       "WLlypS5cuKCLFy9qZGRER44cUUNDg2/j//rrrxoeHh7/+OTJkxM68/zU0NCg1tZWSVJra6s2bNjg\\\n",
       "6/h/hockHTt2LGv7wTmn7du3q6ysTLt27Rq/36/tzzS+X9t/6dIlDQ0NSZJ+++03nTp1SmVlZaqr\\\n",
       "q9P7778vKZifP3wWdBcJpscHH3zgSktL3ZIlS9yrr77q69jd3d2uurraVVdXu/Lyct/G37Ztm1u0\\\n",
       "aJHLz8930WjUvf322+7y5cvugQcecCUlJW7t2rXu559/9nX8p556ylVWVrqqqir38MMPux9//DEr\\\n",
       "Y3/66adOkquqqnLLly93y5cvdx988IFv259pfL+2/9y5cy4Wi7mqqipXUVHh9u7d65y78bu4cuVK\\\n",
       "t3TpUrd582Z37dq1rIyPcOBMHAAAkziECAAwiQADAJhEgAEATCLAAAAmEWAAAJMIMACASQQYAMAk\\\n",
       "AgwAYBIBBgAwiQADAJhEgAEATCLAAAAmEWAAAJMIMACASQQYAMAkAgwAYBIBBgAwiQADAJhEgAEA\\\n",
       "TCLAAAAm/Qf/waCn4nuVUwAAAABJRU5ErkJggg==\\\n",
       "\"\n",
       "\n",
       "\n",
       "    /* set a timeout to make sure all the above elements are created before\n",
       "       the object is initialized. */\n",
       "    setTimeout(function() {\n",
       "        anim42490c4979ac48e79d09cd3de38796ec = new Animation(frames, img_id, slider_id, 41.0,\n",
       "                                 loop_select_id);\n",
       "    }, 0);\n",
       "  })()\n",
       "</script>\n"
      ],
      "text/plain": [
       "<IPython.core.display.HTML object>"
      ]
     },
     "execution_count": 15,
     "metadata": {},
     "output_type": "execute_result"
    }
   ],
   "source": [
    "input2, target2, label2 = trainingSetNoisy[0]\n",
    "anim = snn.io.animTD(snn.io.spikeArrayToEvent(input2.reshape((2, 34, 34, -1)).cpu().data.numpy()))\n",
    "HTML(anim.to_jshtml())"
   ]
  },
  {
   "cell_type": "code",
   "execution_count": 16,
   "metadata": {},
   "outputs": [],
   "source": [
    "# Delete the rogue temp-file\n",
    "try:\n",
    "    os.remove('None0000000.png')\n",
    "except FileNotFoundError:\n",
    "    pass"
   ]
  },
  {
   "cell_type": "markdown",
   "metadata": {},
   "source": [
    "## Define the network\n",
    "The network definition follows similar style as standard PyTorch network definition, but it utilizes snn modules."
   ]
  },
  {
   "cell_type": "code",
   "execution_count": 17,
   "metadata": {},
   "outputs": [],
   "source": [
    "class PSPLayer(torch.nn.Module):\n",
    "    def __init__(self, netParams=netParams):\n",
    "        super(PSPLayer, self).__init__()\n",
    "        self.slayer = snn.layer(netParams['neuron'], netParams['simulation'])\n",
    "    def forward(self, x):\n",
    "        return self.slayer.psp(x)"
   ]
  },
  {
   "cell_type": "code",
   "execution_count": 18,
   "metadata": {},
   "outputs": [],
   "source": [
    "class ApplySpikeLayer(torch.nn.Module):\n",
    "    def __init__(self, netParams=netParams):\n",
    "        super(ApplySpikeLayer, self).__init__()\n",
    "        self.slayer = snn.layer(netParams['neuron'], netParams['simulation'])\n",
    "    def forward(self, x):\n",
    "        return self.slayer.spike(x)"
   ]
  },
  {
   "cell_type": "code",
   "execution_count": 32,
   "metadata": {},
   "outputs": [],
   "source": [
    "class SpikingNetwork(torch.nn.Module):\n",
    "    def __init__(self, netParams=netParams):\n",
    "        super(SpikingNetwork, self).__init__()\n",
    "        # initialize slayer\n",
    "        self.slayer = snn.layer(netParams['neuron'], netParams['simulation'])\n",
    "        self.psplayer = PSPLayer(netParams)\n",
    "        self.applyspikelayer = ApplySpikeLayer(netParams)\n",
    "        # self.slayer = slayer\n",
    "        \n",
    "    def forward(self, spikeInput):\n",
    "#         x = spikeInput\n",
    "#         for layer in self.layers:\n",
    "#             x = self.slayer.spike(layer(self.slayer.psp(x)))\n",
    "#         return x\n",
    "        return self.layers(spikeInput)\n",
    "    \n",
    "    def setLayers(self, layers):\n",
    "        if isinstance(layers, list):\n",
    "            self.layers = []\n",
    "            for layer in layers:\n",
    "                self.layers.append(self.psplayer)\n",
    "                self.layers.append(layer)\n",
    "                self.layers.append(self.applyspikelayer)\n",
    "            self.layers = torch.nn.Sequential(*self.layers)\n",
    "        else:\n",
    "            raise Exception(\"layers should be a list of layers\")\n",
    "    def readyTraining(self, device, deviceIds):\n",
    "        # Create network instance.\n",
    "        # net = Network(netParams).to(device)\n",
    "        # Split the network to run over multiple GPUs\n",
    "        net = torch.nn.DataParallel(self.to(device), device_ids=deviceIds)\n",
    "        \n",
    "        # Create snn loss instance.\n",
    "        error = snn.loss(netParams).to(device)\n",
    "\n",
    "        # Define optimizer module.\n",
    "        optimizer = torch.optim.Adam(net.parameters(), lr = 0.01, amsgrad = True)\n",
    "\n",
    "        # Dataset and dataLoader instances.\n",
    "        trainingSet = nmnistDatasetNoisy(datasetPath =netParams['training']['path']['in'], \n",
    "                                    sampleFile  =netParams['training']['path']['train'],\n",
    "                                    samplingTime=netParams['simulation']['Ts'],\n",
    "                                    sampleLength=netParams['simulation']['tSample'],\n",
    "                                    percentNoise=0)\n",
    "        trainLoader = DataLoader(dataset=trainingSet, batch_size=8, shuffle=True, num_workers=4)\n",
    "\n",
    "        testingSet = nmnistDatasetNoisy(datasetPath  =netParams['training']['path']['in'], \n",
    "                                    sampleFile  =netParams['training']['path']['test'],\n",
    "                                    samplingTime=netParams['simulation']['Ts'],\n",
    "                                    sampleLength=netParams['simulation']['tSample'],\n",
    "                                    percentNoise=0)\n",
    "        testLoader = DataLoader(dataset=testingSet, batch_size=8, shuffle=True, num_workers=4)\n",
    "\n",
    "        # Learning stats instance.\n",
    "        stats = learningStats()\n",
    "        \n",
    "        self.netVars = {\n",
    "            'net': net,\n",
    "            'error': error,\n",
    "            'optimizer': optimizer,\n",
    "            'trainingSet': trainingSet,\n",
    "            'trainLoader': trainLoader,\n",
    "            'testingSet': testingSet,\n",
    "            'testLoader': testLoader,\n",
    "            'stats': stats\n",
    "        }\n",
    "    def doTrain(self, device, epochcount=1, writer=SummaryWriter()):\n",
    "        stats = self.netVars['stats']\n",
    "        net = self.netVars['net']\n",
    "        trainLoader = self.netVars['trainLoader']\n",
    "        testLoader = self.netVars['testLoader']\n",
    "        error = self.netVars['error']\n",
    "        optimizer = self.netVars['optimizer']\n",
    "        for epoch in tqdm.trange(epochcount, desc='epochs', leave=False):\n",
    "            # Reset training stats.\n",
    "            stats.training.reset()\n",
    "            tSt = datetime.now()\n",
    "\n",
    "            # Training loop.\n",
    "            for i, (input, target, label) in enumerate(tqdm.tqdm(trainLoader, desc='training loop', leave=False), 0):\n",
    "                # Move the input and target to correct GPU.\n",
    "                input  = input.to(device)\n",
    "                target = target.to(device) \n",
    "\n",
    "                # Forward pass of the network.\n",
    "                output = net.forward(input)\n",
    "\n",
    "                # Gather the training stats.\n",
    "                stats.training.correctSamples += torch.sum( snn.predict.getClass(output) == label ).data.item()\n",
    "                stats.training.numSamples     += len(label)\n",
    "\n",
    "                # Calculate loss.\n",
    "                loss = error.numSpikes(output, target)\n",
    "\n",
    "                # Reset gradients to zero.\n",
    "                optimizer.zero_grad()\n",
    "\n",
    "                # Backward pass of the network.\n",
    "                loss.backward()\n",
    "\n",
    "                # Update weights.\n",
    "                optimizer.step()\n",
    "\n",
    "                # Gather training loss stats.\n",
    "                stats.training.lossSum += loss.cpu().data.item()\n",
    "\n",
    "                # Display training stats. (Suitable for normal python implementation)\n",
    "                # stats.print(epoch, i, (datetime.now() - tSt).total_seconds())\n",
    "\n",
    "            # Update training stats.\n",
    "            stats.training.update()\n",
    "            # Reset testing stats.\n",
    "            stats.testing.reset()\n",
    "\n",
    "            # Testing loop.\n",
    "            # Same steps as Training loops except loss backpropagation and weight update.\n",
    "            for i, (input, target, label) in tqdm(enumerate(testLoader, 0), desc='testing loop', leave=False):\n",
    "                input  = input.to(device)\n",
    "                target = target.to(device) \n",
    "\n",
    "                output = net.forward(input)\n",
    "\n",
    "                stats.testing.correctSamples += torch.sum( snn.predict.getClass(output) == label ).data.item()\n",
    "                stats.testing.numSamples     += len(label)\n",
    "\n",
    "                loss = error.numSpikes(output, target)\n",
    "                stats.testing.lossSum += loss.cpu().data.item()\n",
    "                # stats.print(epoch, i)\n",
    "\n",
    "            # Update testing stats.\n",
    "            stats.testing.update()\n",
    "            writer.add_scalar('Accuracy/train', stats.training.accuracy(), epoch)\n",
    "            writer.add_scalar('Accuracy/test',  stats.testing.accuracy(),  epoch)\n",
    "            writer.add_scalar('Loss/train',     stats.training.loss(),     epoch)\n",
    "            writer.add_scalar('Loss/test',      stats.testing.loss(),      epoch)\n",
    "\n",
    "            # if epoch%10==0:  stats.print(epoch, timeElapsed=(datetime.now() - tSt).total_seconds())\n",
    "        writer.close()"
   ]
  },
  {
   "cell_type": "markdown",
   "metadata": {},
   "source": [
    "# create several networks with different architectures"
   ]
  },
  {
   "cell_type": "code",
   "execution_count": 33,
   "metadata": {},
   "outputs": [],
   "source": [
    "Networks = []"
   ]
  },
  {
   "cell_type": "code",
   "execution_count": 34,
   "metadata": {},
   "outputs": [],
   "source": [
    "Networks.append(SpikingNetwork())\n",
    "slayer = Networks[0].slayer\n",
    "Networks[0].setLayers([\n",
    "            slayer.conv(2, 16, 5, padding=1),\n",
    "            slayer.pool(2),\n",
    "            slayer.conv(16, 32, 3, padding=1),\n",
    "            slayer.pool(2),\n",
    "            slayer.conv(32, 64, 3, padding=1),\n",
    "            slayer.dense((8,8,64), 10)\n",
    "        ])"
   ]
  },
  {
   "cell_type": "code",
   "execution_count": 35,
   "metadata": {},
   "outputs": [],
   "source": [
    "Networks.append(SpikingNetwork())\n",
    "slayer = Networks[1].slayer\n",
    "Networks[1].setLayers([\n",
    "            slayer.conv(2, 6, 5, padding=1),\n",
    "            slayer.pool(2),\n",
    "            slayer.conv(6, 12, 3, padding=1),\n",
    "            slayer.pool(2),\n",
    "            slayer.conv(12, 12, 3, padding=1),\n",
    "            slayer.dense((8,8,12), 10)\n",
    "        ])"
   ]
  },
  {
   "cell_type": "code",
   "execution_count": 36,
   "metadata": {},
   "outputs": [],
   "source": [
    "Networks.append(SpikingNetwork())\n",
    "slayer = Networks[2].slayer\n",
    "Networks[2].setLayers([\n",
    "            slayer.conv(2, 6, 5, padding=1),\n",
    "            slayer.pool(4),\n",
    "            slayer.conv(6, 12, 3, padding=1),\n",
    "            slayer.pool(4),\n",
    "            slayer.conv(12, 12, 3, padding=1),\n",
    "            slayer.dense((2,2,12), 10)\n",
    "        ])"
   ]
  },
  {
   "cell_type": "markdown",
   "metadata": {},
   "source": [
    "# Train the network\n",
    "Train the network for 100 epochs."
   ]
  },
  {
   "cell_type": "code",
   "execution_count": 37,
   "metadata": {},
   "outputs": [],
   "source": [
    "# first move to a new directory to not overwrite anything\n",
    "dt_string = datetime.now().strftime(\"%d-%m-%Y_%Hh%Mm%S\")\n",
    "dirname = dt_string\n",
    "i = 0\n",
    "while os.path.exists(os.path.join(RESULTS_DIR, dirname)):\n",
    "    dirname = dt_string + '_' + str(++i)\n",
    "os.mkdir(os.path.join(RESULTS_DIR, dirname))"
   ]
  },
  {
   "cell_type": "code",
   "execution_count": 38,
   "metadata": {},
   "outputs": [],
   "source": [
    "# Define the cuda device to run the code on.\n",
    "# device = torch.device('cuda')\n",
    "# Use multiple GPU's if available\n",
    "device = torch.device('cuda:0')#:2') # should be the first GPU of deviceIDs \n",
    "deviceIds = [0]#2, 3]"
   ]
  },
  {
   "cell_type": "code",
   "execution_count": 39,
   "metadata": {
    "scrolled": false
   },
   "outputs": [
    {
     "data": {
      "application/vnd.jupyter.widget-view+json": {
       "model_id": "3a8942dcae71450098941b8c05a9703a",
       "version_major": 2,
       "version_minor": 0
      },
      "text/plain": [
       "HBox(children=(FloatProgress(value=0.0, description='network', max=3.0, style=ProgressStyle(description_width=…"
      ]
     },
     "metadata": {},
     "output_type": "display_data"
    },
    {
     "data": {
      "application/vnd.jupyter.widget-view+json": {
       "model_id": "d5d117fa738d43ffb9372df13d19e65a",
       "version_major": 2,
       "version_minor": 0
      },
      "text/plain": [
       "HBox(children=(FloatProgress(value=0.0, description='epoch', style=ProgressStyle(description_width='initial'))…"
      ]
     },
     "metadata": {},
     "output_type": "display_data"
    },
    {
     "data": {
      "application/vnd.jupyter.widget-view+json": {
       "model_id": "4d4a88f64fbb4b39b59ab684df160bd3",
       "version_major": 2,
       "version_minor": 0
      },
      "text/plain": [
       "HBox(children=(FloatProgress(value=0.0, description='batch', max=125.0, style=ProgressStyle(description_width=…"
      ]
     },
     "metadata": {},
     "output_type": "display_data"
    },
    {
     "name": "stdout",
     "output_type": "stream",
     "text": [
      "\n"
     ]
    },
    {
     "data": {
      "application/vnd.jupyter.widget-view+json": {
       "model_id": "54884bde627242a8b87473dd933bfe1e",
       "version_major": 2,
       "version_minor": 0
      },
      "text/plain": [
       "HBox(children=(FloatProgress(value=0.0, description='batch', max=125.0, style=ProgressStyle(description_width=…"
      ]
     },
     "metadata": {},
     "output_type": "display_data"
    },
    {
     "name": "stdout",
     "output_type": "stream",
     "text": [
      "\n"
     ]
    },
    {
     "data": {
      "application/vnd.jupyter.widget-view+json": {
       "model_id": "73c2bd2aee54435cb86fadc7bd793222",
       "version_major": 2,
       "version_minor": 0
      },
      "text/plain": [
       "HBox(children=(FloatProgress(value=0.0, description='batch', max=125.0, style=ProgressStyle(description_width=…"
      ]
     },
     "metadata": {},
     "output_type": "display_data"
    },
    {
     "name": "stdout",
     "output_type": "stream",
     "text": [
      "\n"
     ]
    },
    {
     "data": {
      "application/vnd.jupyter.widget-view+json": {
       "model_id": "9f067cfdcfb342a0b6c0483f10b96539",
       "version_major": 2,
       "version_minor": 0
      },
      "text/plain": [
       "HBox(children=(FloatProgress(value=0.0, description='batch', max=125.0, style=ProgressStyle(description_width=…"
      ]
     },
     "metadata": {},
     "output_type": "display_data"
    },
    {
     "name": "stdout",
     "output_type": "stream",
     "text": [
      "\n"
     ]
    },
    {
     "data": {
      "application/vnd.jupyter.widget-view+json": {
       "model_id": "668da0f7140b47f3a55e509819ffe41d",
       "version_major": 2,
       "version_minor": 0
      },
      "text/plain": [
       "HBox(children=(FloatProgress(value=0.0, description='batch', max=125.0, style=ProgressStyle(description_width=…"
      ]
     },
     "metadata": {},
     "output_type": "display_data"
    },
    {
     "name": "stdout",
     "output_type": "stream",
     "text": [
      "\n"
     ]
    },
    {
     "data": {
      "application/vnd.jupyter.widget-view+json": {
       "model_id": "44afa607400c4ca184658f304ffbdf37",
       "version_major": 2,
       "version_minor": 0
      },
      "text/plain": [
       "HBox(children=(FloatProgress(value=0.0, description='batch', max=125.0, style=ProgressStyle(description_width=…"
      ]
     },
     "metadata": {},
     "output_type": "display_data"
    },
    {
     "name": "stdout",
     "output_type": "stream",
     "text": [
      "\n"
     ]
    },
    {
     "data": {
      "application/vnd.jupyter.widget-view+json": {
       "model_id": "e0ebd5ff339e4ce693d209f5653ec179",
       "version_major": 2,
       "version_minor": 0
      },
      "text/plain": [
       "HBox(children=(FloatProgress(value=0.0, description='batch', max=125.0, style=ProgressStyle(description_width=…"
      ]
     },
     "metadata": {},
     "output_type": "display_data"
    },
    {
     "name": "stdout",
     "output_type": "stream",
     "text": [
      "\n"
     ]
    },
    {
     "data": {
      "application/vnd.jupyter.widget-view+json": {
       "model_id": "ab862f34b7f442daa6b7121a0b50d437",
       "version_major": 2,
       "version_minor": 0
      },
      "text/plain": [
       "HBox(children=(FloatProgress(value=0.0, description='batch', max=125.0, style=ProgressStyle(description_width=…"
      ]
     },
     "metadata": {},
     "output_type": "display_data"
    },
    {
     "name": "stdout",
     "output_type": "stream",
     "text": [
      "\n"
     ]
    },
    {
     "data": {
      "application/vnd.jupyter.widget-view+json": {
       "model_id": "1d3663658c7e43fcb60540e71e611e29",
       "version_major": 2,
       "version_minor": 0
      },
      "text/plain": [
       "HBox(children=(FloatProgress(value=0.0, description='batch', max=125.0, style=ProgressStyle(description_width=…"
      ]
     },
     "metadata": {},
     "output_type": "display_data"
    },
    {
     "name": "stdout",
     "output_type": "stream",
     "text": [
      "\n"
     ]
    },
    {
     "data": {
      "application/vnd.jupyter.widget-view+json": {
       "model_id": "6eff88ddfb3f40ef88e8ab1c2638b03a",
       "version_major": 2,
       "version_minor": 0
      },
      "text/plain": [
       "HBox(children=(FloatProgress(value=0.0, description='batch', max=125.0, style=ProgressStyle(description_width=…"
      ]
     },
     "metadata": {},
     "output_type": "display_data"
    },
    {
     "name": "stdout",
     "output_type": "stream",
     "text": [
      "\n"
     ]
    },
    {
     "data": {
      "application/vnd.jupyter.widget-view+json": {
       "model_id": "a4c8b5488f7a4116900da3433019dad4",
       "version_major": 2,
       "version_minor": 0
      },
      "text/plain": [
       "HBox(children=(FloatProgress(value=0.0, description='batch', max=125.0, style=ProgressStyle(description_width=…"
      ]
     },
     "metadata": {},
     "output_type": "display_data"
    },
    {
     "name": "stdout",
     "output_type": "stream",
     "text": [
      "\n"
     ]
    },
    {
     "data": {
      "application/vnd.jupyter.widget-view+json": {
       "model_id": "373d5801315640b388285d554a4ce3fd",
       "version_major": 2,
       "version_minor": 0
      },
      "text/plain": [
       "HBox(children=(FloatProgress(value=0.0, description='batch', max=125.0, style=ProgressStyle(description_width=…"
      ]
     },
     "metadata": {},
     "output_type": "display_data"
    },
    {
     "name": "stdout",
     "output_type": "stream",
     "text": [
      "\n"
     ]
    },
    {
     "data": {
      "application/vnd.jupyter.widget-view+json": {
       "model_id": "eb24be1786e3422b81f75183b1f846fd",
       "version_major": 2,
       "version_minor": 0
      },
      "text/plain": [
       "HBox(children=(FloatProgress(value=0.0, description='batch', max=125.0, style=ProgressStyle(description_width=…"
      ]
     },
     "metadata": {},
     "output_type": "display_data"
    },
    {
     "name": "stdout",
     "output_type": "stream",
     "text": [
      "\n"
     ]
    },
    {
     "data": {
      "application/vnd.jupyter.widget-view+json": {
       "model_id": "994e0d012b03412e9fbf4b72f4f43c97",
       "version_major": 2,
       "version_minor": 0
      },
      "text/plain": [
       "HBox(children=(FloatProgress(value=0.0, description='batch', max=125.0, style=ProgressStyle(description_width=…"
      ]
     },
     "metadata": {},
     "output_type": "display_data"
    },
    {
     "name": "stderr",
     "output_type": "stream",
     "text": [
      "IOPub message rate exceeded.\n",
      "The notebook server will temporarily stop sending output\n",
      "to the client in order to avoid crashing it.\n",
      "To change this limit, set the config variable\n",
      "`--NotebookApp.iopub_msg_rate_limit`.\n",
      "\n",
      "Current values:\n",
      "NotebookApp.iopub_msg_rate_limit=1000.0 (msgs/sec)\n",
      "NotebookApp.rate_limit_window=3.0 (secs)\n",
      "\n"
     ]
    },
    {
     "name": "stdout",
     "output_type": "stream",
     "text": [
      "\n"
     ]
    },
    {
     "data": {
      "application/vnd.jupyter.widget-view+json": {
       "model_id": "4decbbd1eda841b2a545e98e78125ee2",
       "version_major": 2,
       "version_minor": 0
      },
      "text/plain": [
       "HBox(children=(FloatProgress(value=0.0, description='batch', max=125.0, style=ProgressStyle(description_width=…"
      ]
     },
     "metadata": {},
     "output_type": "display_data"
    },
    {
     "name": "stdout",
     "output_type": "stream",
     "text": [
      "\n"
     ]
    },
    {
     "data": {
      "application/vnd.jupyter.widget-view+json": {
       "model_id": "8f850ffc7ca44ceba8edc9d1889e4ae1",
       "version_major": 2,
       "version_minor": 0
      },
      "text/plain": [
       "HBox(children=(FloatProgress(value=0.0, description='batch', max=125.0, style=ProgressStyle(description_width=…"
      ]
     },
     "metadata": {},
     "output_type": "display_data"
    },
    {
     "name": "stdout",
     "output_type": "stream",
     "text": [
      "\n"
     ]
    },
    {
     "data": {
      "application/vnd.jupyter.widget-view+json": {
       "model_id": "69b6923497474d8ca9e73272ff44f24f",
       "version_major": 2,
       "version_minor": 0
      },
      "text/plain": [
       "HBox(children=(FloatProgress(value=0.0, description='batch', max=125.0, style=ProgressStyle(description_width=…"
      ]
     },
     "metadata": {},
     "output_type": "display_data"
    },
    {
     "name": "stdout",
     "output_type": "stream",
     "text": [
      "\n"
     ]
    },
    {
     "data": {
      "application/vnd.jupyter.widget-view+json": {
       "model_id": "4daad0be738746cd8bedff22fc3ae4bc",
       "version_major": 2,
       "version_minor": 0
      },
      "text/plain": [
       "HBox(children=(FloatProgress(value=0.0, description='batch', max=125.0, style=ProgressStyle(description_width=…"
      ]
     },
     "metadata": {},
     "output_type": "display_data"
    },
    {
     "name": "stdout",
     "output_type": "stream",
     "text": [
      "\n"
     ]
    },
    {
     "data": {
      "application/vnd.jupyter.widget-view+json": {
       "model_id": "64a6f3ab08a54a6793b9bcc977ff8226",
       "version_major": 2,
       "version_minor": 0
      },
      "text/plain": [
       "HBox(children=(FloatProgress(value=0.0, description='batch', max=125.0, style=ProgressStyle(description_width=…"
      ]
     },
     "metadata": {},
     "output_type": "display_data"
    },
    {
     "name": "stdout",
     "output_type": "stream",
     "text": [
      "\n"
     ]
    },
    {
     "data": {
      "application/vnd.jupyter.widget-view+json": {
       "model_id": "0f1943c8b4b0408d863e0d150ae9125f",
       "version_major": 2,
       "version_minor": 0
      },
      "text/plain": [
       "HBox(children=(FloatProgress(value=0.0, description='batch', max=125.0, style=ProgressStyle(description_width=…"
      ]
     },
     "metadata": {},
     "output_type": "display_data"
    },
    {
     "name": "stdout",
     "output_type": "stream",
     "text": [
      "\n"
     ]
    },
    {
     "data": {
      "application/vnd.jupyter.widget-view+json": {
       "model_id": "ba9fce430c72405e86e5e3a4cae8922b",
       "version_major": 2,
       "version_minor": 0
      },
      "text/plain": [
       "HBox(children=(FloatProgress(value=0.0, description='batch', max=125.0, style=ProgressStyle(description_width=…"
      ]
     },
     "metadata": {},
     "output_type": "display_data"
    },
    {
     "name": "stdout",
     "output_type": "stream",
     "text": [
      "\n"
     ]
    },
    {
     "data": {
      "application/vnd.jupyter.widget-view+json": {
       "model_id": "489656a0e79b4a6d89db4bab8007b5b0",
       "version_major": 2,
       "version_minor": 0
      },
      "text/plain": [
       "HBox(children=(FloatProgress(value=0.0, description='batch', max=125.0, style=ProgressStyle(description_width=…"
      ]
     },
     "metadata": {},
     "output_type": "display_data"
    },
    {
     "name": "stderr",
     "output_type": "stream",
     "text": [
      "IOPub message rate exceeded.\n",
      "The notebook server will temporarily stop sending output\n",
      "to the client in order to avoid crashing it.\n",
      "To change this limit, set the config variable\n",
      "`--NotebookApp.iopub_msg_rate_limit`.\n",
      "\n",
      "Current values:\n",
      "NotebookApp.iopub_msg_rate_limit=1000.0 (msgs/sec)\n",
      "NotebookApp.rate_limit_window=3.0 (secs)\n",
      "\n"
     ]
    },
    {
     "name": "stdout",
     "output_type": "stream",
     "text": [
      "\n"
     ]
    },
    {
     "data": {
      "application/vnd.jupyter.widget-view+json": {
       "model_id": "c30b8a3d49234dd088df5150a4cc5394",
       "version_major": 2,
       "version_minor": 0
      },
      "text/plain": [
       "HBox(children=(FloatProgress(value=0.0, description='batch', max=125.0, style=ProgressStyle(description_width=…"
      ]
     },
     "metadata": {},
     "output_type": "display_data"
    },
    {
     "name": "stdout",
     "output_type": "stream",
     "text": [
      "\n"
     ]
    },
    {
     "data": {
      "application/vnd.jupyter.widget-view+json": {
       "model_id": "b708916b6a6540cabbdecbc779560cf4",
       "version_major": 2,
       "version_minor": 0
      },
      "text/plain": [
       "HBox(children=(FloatProgress(value=0.0, description='batch', max=125.0, style=ProgressStyle(description_width=…"
      ]
     },
     "metadata": {},
     "output_type": "display_data"
    },
    {
     "name": "stdout",
     "output_type": "stream",
     "text": [
      "\n"
     ]
    },
    {
     "data": {
      "application/vnd.jupyter.widget-view+json": {
       "model_id": "22d44e7c02674317a638fcd8d77696fa",
       "version_major": 2,
       "version_minor": 0
      },
      "text/plain": [
       "HBox(children=(FloatProgress(value=0.0, description='batch', max=125.0, style=ProgressStyle(description_width=…"
      ]
     },
     "metadata": {},
     "output_type": "display_data"
    },
    {
     "name": "stdout",
     "output_type": "stream",
     "text": [
      "\n",
      "\n"
     ]
    },
    {
     "data": {
      "application/vnd.jupyter.widget-view+json": {
       "model_id": "1667210b9b3740e5bd95b8f0f91cd745",
       "version_major": 2,
       "version_minor": 0
      },
      "text/plain": [
       "HBox(children=(FloatProgress(value=0.0, description='epoch', style=ProgressStyle(description_width='initial'))…"
      ]
     },
     "metadata": {},
     "output_type": "display_data"
    },
    {
     "data": {
      "application/vnd.jupyter.widget-view+json": {
       "model_id": "1ae60ad047544fd2b80c69821ab12da3",
       "version_major": 2,
       "version_minor": 0
      },
      "text/plain": [
       "HBox(children=(FloatProgress(value=0.0, description='batch', max=125.0, style=ProgressStyle(description_width=…"
      ]
     },
     "metadata": {},
     "output_type": "display_data"
    },
    {
     "name": "stdout",
     "output_type": "stream",
     "text": [
      "\n"
     ]
    },
    {
     "data": {
      "application/vnd.jupyter.widget-view+json": {
       "model_id": "48489b7d45364a248d741871c4a35ff5",
       "version_major": 2,
       "version_minor": 0
      },
      "text/plain": [
       "HBox(children=(FloatProgress(value=0.0, description='batch', max=125.0, style=ProgressStyle(description_width=…"
      ]
     },
     "metadata": {},
     "output_type": "display_data"
    },
    {
     "name": "stdout",
     "output_type": "stream",
     "text": [
      "\n"
     ]
    },
    {
     "data": {
      "application/vnd.jupyter.widget-view+json": {
       "model_id": "5a7d8277c91a4b9fb6cee7be6952c0f6",
       "version_major": 2,
       "version_minor": 0
      },
      "text/plain": [
       "HBox(children=(FloatProgress(value=0.0, description='batch', max=125.0, style=ProgressStyle(description_width=…"
      ]
     },
     "metadata": {},
     "output_type": "display_data"
    },
    {
     "name": "stdout",
     "output_type": "stream",
     "text": [
      "\n"
     ]
    },
    {
     "data": {
      "application/vnd.jupyter.widget-view+json": {
       "model_id": "7d1ac62df6f943f6acff6c7a556d4e52",
       "version_major": 2,
       "version_minor": 0
      },
      "text/plain": [
       "HBox(children=(FloatProgress(value=0.0, description='batch', max=125.0, style=ProgressStyle(description_width=…"
      ]
     },
     "metadata": {},
     "output_type": "display_data"
    },
    {
     "name": "stdout",
     "output_type": "stream",
     "text": [
      "\n"
     ]
    },
    {
     "data": {
      "application/vnd.jupyter.widget-view+json": {
       "model_id": "2252ef6ffc2948f28e8bf85f2a95cd59",
       "version_major": 2,
       "version_minor": 0
      },
      "text/plain": [
       "HBox(children=(FloatProgress(value=0.0, description='batch', max=125.0, style=ProgressStyle(description_width=…"
      ]
     },
     "metadata": {},
     "output_type": "display_data"
    },
    {
     "name": "stdout",
     "output_type": "stream",
     "text": [
      "\n"
     ]
    },
    {
     "data": {
      "application/vnd.jupyter.widget-view+json": {
       "model_id": "df93ed454b3c447b97e11d855eb18edb",
       "version_major": 2,
       "version_minor": 0
      },
      "text/plain": [
       "HBox(children=(FloatProgress(value=0.0, description='batch', max=125.0, style=ProgressStyle(description_width=…"
      ]
     },
     "metadata": {},
     "output_type": "display_data"
    },
    {
     "name": "stderr",
     "output_type": "stream",
     "text": [
      "IOPub message rate exceeded.\n",
      "The notebook server will temporarily stop sending output\n",
      "to the client in order to avoid crashing it.\n",
      "To change this limit, set the config variable\n",
      "`--NotebookApp.iopub_msg_rate_limit`.\n",
      "\n",
      "Current values:\n",
      "NotebookApp.iopub_msg_rate_limit=1000.0 (msgs/sec)\n",
      "NotebookApp.rate_limit_window=3.0 (secs)\n",
      "\n"
     ]
    },
    {
     "name": "stdout",
     "output_type": "stream",
     "text": [
      "\n"
     ]
    },
    {
     "data": {
      "application/vnd.jupyter.widget-view+json": {
       "model_id": "38a300a343f041fba04783ae5328434b",
       "version_major": 2,
       "version_minor": 0
      },
      "text/plain": [
       "HBox(children=(FloatProgress(value=0.0, description='batch', max=125.0, style=ProgressStyle(description_width=…"
      ]
     },
     "metadata": {},
     "output_type": "display_data"
    },
    {
     "name": "stdout",
     "output_type": "stream",
     "text": [
      "\n"
     ]
    },
    {
     "data": {
      "application/vnd.jupyter.widget-view+json": {
       "model_id": "9b3812e6f6834a9ebe4852cf5011c4ed",
       "version_major": 2,
       "version_minor": 0
      },
      "text/plain": [
       "HBox(children=(FloatProgress(value=0.0, description='batch', max=125.0, style=ProgressStyle(description_width=…"
      ]
     },
     "metadata": {},
     "output_type": "display_data"
    },
    {
     "name": "stdout",
     "output_type": "stream",
     "text": [
      "\n"
     ]
    },
    {
     "data": {
      "application/vnd.jupyter.widget-view+json": {
       "model_id": "6994d3dafc4d4a929d15cf3035ec4816",
       "version_major": 2,
       "version_minor": 0
      },
      "text/plain": [
       "HBox(children=(FloatProgress(value=0.0, description='batch', max=125.0, style=ProgressStyle(description_width=…"
      ]
     },
     "metadata": {},
     "output_type": "display_data"
    },
    {
     "name": "stdout",
     "output_type": "stream",
     "text": [
      "\n"
     ]
    },
    {
     "data": {
      "application/vnd.jupyter.widget-view+json": {
       "model_id": "a6b5db9c0f1748599bcb7781e42f1508",
       "version_major": 2,
       "version_minor": 0
      },
      "text/plain": [
       "HBox(children=(FloatProgress(value=0.0, description='batch', max=125.0, style=ProgressStyle(description_width=…"
      ]
     },
     "metadata": {},
     "output_type": "display_data"
    },
    {
     "name": "stdout",
     "output_type": "stream",
     "text": [
      "\n"
     ]
    },
    {
     "data": {
      "application/vnd.jupyter.widget-view+json": {
       "model_id": "a555a9a0bb3f4194900b4293f57cb22f",
       "version_major": 2,
       "version_minor": 0
      },
      "text/plain": [
       "HBox(children=(FloatProgress(value=0.0, description='batch', max=125.0, style=ProgressStyle(description_width=…"
      ]
     },
     "metadata": {},
     "output_type": "display_data"
    },
    {
     "name": "stdout",
     "output_type": "stream",
     "text": [
      "\n"
     ]
    },
    {
     "data": {
      "application/vnd.jupyter.widget-view+json": {
       "model_id": "f7bdcc4d6c924b2ea8fc8ce681ada452",
       "version_major": 2,
       "version_minor": 0
      },
      "text/plain": [
       "HBox(children=(FloatProgress(value=0.0, description='batch', max=125.0, style=ProgressStyle(description_width=…"
      ]
     },
     "metadata": {},
     "output_type": "display_data"
    },
    {
     "name": "stdout",
     "output_type": "stream",
     "text": [
      "\n"
     ]
    },
    {
     "data": {
      "application/vnd.jupyter.widget-view+json": {
       "model_id": "31d988a3f077423182086f8d24b661bd",
       "version_major": 2,
       "version_minor": 0
      },
      "text/plain": [
       "HBox(children=(FloatProgress(value=0.0, description='batch', max=125.0, style=ProgressStyle(description_width=…"
      ]
     },
     "metadata": {},
     "output_type": "display_data"
    },
    {
     "name": "stdout",
     "output_type": "stream",
     "text": [
      "\n"
     ]
    },
    {
     "data": {
      "application/vnd.jupyter.widget-view+json": {
       "model_id": "fb0e77a964974831b5fc8f10ae40a1ab",
       "version_major": 2,
       "version_minor": 0
      },
      "text/plain": [
       "HBox(children=(FloatProgress(value=0.0, description='batch', max=125.0, style=ProgressStyle(description_width=…"
      ]
     },
     "metadata": {},
     "output_type": "display_data"
    },
    {
     "name": "stdout",
     "output_type": "stream",
     "text": [
      "\n"
     ]
    },
    {
     "data": {
      "application/vnd.jupyter.widget-view+json": {
       "model_id": "1c398dd9cf384c7f92b5e9baff15ff44",
       "version_major": 2,
       "version_minor": 0
      },
      "text/plain": [
       "HBox(children=(FloatProgress(value=0.0, description='batch', max=125.0, style=ProgressStyle(description_width=…"
      ]
     },
     "metadata": {},
     "output_type": "display_data"
    },
    {
     "name": "stdout",
     "output_type": "stream",
     "text": [
      "\n"
     ]
    },
    {
     "data": {
      "application/vnd.jupyter.widget-view+json": {
       "model_id": "fda45b76edc24812af9bbb2eb4e61a0a",
       "version_major": 2,
       "version_minor": 0
      },
      "text/plain": [
       "HBox(children=(FloatProgress(value=0.0, description='batch', max=125.0, style=ProgressStyle(description_width=…"
      ]
     },
     "metadata": {},
     "output_type": "display_data"
    },
    {
     "name": "stdout",
     "output_type": "stream",
     "text": [
      "\n"
     ]
    },
    {
     "data": {
      "application/vnd.jupyter.widget-view+json": {
       "model_id": "b54256ce7f574313ba8fd92ee3bec6a5",
       "version_major": 2,
       "version_minor": 0
      },
      "text/plain": [
       "HBox(children=(FloatProgress(value=0.0, description='batch', max=125.0, style=ProgressStyle(description_width=…"
      ]
     },
     "metadata": {},
     "output_type": "display_data"
    },
    {
     "name": "stdout",
     "output_type": "stream",
     "text": [
      "\n"
     ]
    },
    {
     "data": {
      "application/vnd.jupyter.widget-view+json": {
       "model_id": "34a84fc50e3e478caa54ea2fe79ce4a6",
       "version_major": 2,
       "version_minor": 0
      },
      "text/plain": [
       "HBox(children=(FloatProgress(value=0.0, description='batch', max=125.0, style=ProgressStyle(description_width=…"
      ]
     },
     "metadata": {},
     "output_type": "display_data"
    },
    {
     "name": "stdout",
     "output_type": "stream",
     "text": [
      "\n"
     ]
    },
    {
     "data": {
      "application/vnd.jupyter.widget-view+json": {
       "model_id": "511879a6c19a48179601f5e3bf535831",
       "version_major": 2,
       "version_minor": 0
      },
      "text/plain": [
       "HBox(children=(FloatProgress(value=0.0, description='batch', max=125.0, style=ProgressStyle(description_width=…"
      ]
     },
     "metadata": {},
     "output_type": "display_data"
    },
    {
     "name": "stdout",
     "output_type": "stream",
     "text": [
      "\n"
     ]
    },
    {
     "data": {
      "application/vnd.jupyter.widget-view+json": {
       "model_id": "2cf0ce6083bb4ad49e4afc19d0361101",
       "version_major": 2,
       "version_minor": 0
      },
      "text/plain": [
       "HBox(children=(FloatProgress(value=0.0, description='batch', max=125.0, style=ProgressStyle(description_width=…"
      ]
     },
     "metadata": {},
     "output_type": "display_data"
    },
    {
     "name": "stdout",
     "output_type": "stream",
     "text": [
      "\n"
     ]
    },
    {
     "data": {
      "application/vnd.jupyter.widget-view+json": {
       "model_id": "46d4ea6a9530467aa25febc67860fb5b",
       "version_major": 2,
       "version_minor": 0
      },
      "text/plain": [
       "HBox(children=(FloatProgress(value=0.0, description='batch', max=125.0, style=ProgressStyle(description_width=…"
      ]
     },
     "metadata": {},
     "output_type": "display_data"
    },
    {
     "name": "stdout",
     "output_type": "stream",
     "text": [
      "\n"
     ]
    },
    {
     "data": {
      "application/vnd.jupyter.widget-view+json": {
       "model_id": "eac7b55a6a6841e49d104f3e0b630708",
       "version_major": 2,
       "version_minor": 0
      },
      "text/plain": [
       "HBox(children=(FloatProgress(value=0.0, description='batch', max=125.0, style=ProgressStyle(description_width=…"
      ]
     },
     "metadata": {},
     "output_type": "display_data"
    },
    {
     "name": "stdout",
     "output_type": "stream",
     "text": [
      "\n"
     ]
    },
    {
     "data": {
      "application/vnd.jupyter.widget-view+json": {
       "model_id": "92157799394046d0a2e3a7e759a5b1d6",
       "version_major": 2,
       "version_minor": 0
      },
      "text/plain": [
       "HBox(children=(FloatProgress(value=0.0, description='batch', max=125.0, style=ProgressStyle(description_width=…"
      ]
     },
     "metadata": {},
     "output_type": "display_data"
    },
    {
     "name": "stdout",
     "output_type": "stream",
     "text": [
      "\n"
     ]
    },
    {
     "data": {
      "application/vnd.jupyter.widget-view+json": {
       "model_id": "6827ea72281f4273a3d983cf96e91184",
       "version_major": 2,
       "version_minor": 0
      },
      "text/plain": [
       "HBox(children=(FloatProgress(value=0.0, description='batch', max=125.0, style=ProgressStyle(description_width=…"
      ]
     },
     "metadata": {},
     "output_type": "display_data"
    },
    {
     "name": "stdout",
     "output_type": "stream",
     "text": [
      "\n"
     ]
    },
    {
     "data": {
      "application/vnd.jupyter.widget-view+json": {
       "model_id": "630e87e157924cf080dd26f66e997aaf",
       "version_major": 2,
       "version_minor": 0
      },
      "text/plain": [
       "HBox(children=(FloatProgress(value=0.0, description='batch', max=125.0, style=ProgressStyle(description_width=…"
      ]
     },
     "metadata": {},
     "output_type": "display_data"
    },
    {
     "name": "stdout",
     "output_type": "stream",
     "text": [
      "\n"
     ]
    },
    {
     "data": {
      "application/vnd.jupyter.widget-view+json": {
       "model_id": "abdaa8c043914aa2b777ea800e5ac4f8",
       "version_major": 2,
       "version_minor": 0
      },
      "text/plain": [
       "HBox(children=(FloatProgress(value=0.0, description='batch', max=125.0, style=ProgressStyle(description_width=…"
      ]
     },
     "metadata": {},
     "output_type": "display_data"
    },
    {
     "name": "stdout",
     "output_type": "stream",
     "text": [
      "\n"
     ]
    },
    {
     "data": {
      "application/vnd.jupyter.widget-view+json": {
       "model_id": "48eed39cdf0c48569df7cb99801fbe6a",
       "version_major": 2,
       "version_minor": 0
      },
      "text/plain": [
       "HBox(children=(FloatProgress(value=0.0, description='batch', max=125.0, style=ProgressStyle(description_width=…"
      ]
     },
     "metadata": {},
     "output_type": "display_data"
    },
    {
     "name": "stdout",
     "output_type": "stream",
     "text": [
      "\n"
     ]
    },
    {
     "data": {
      "application/vnd.jupyter.widget-view+json": {
       "model_id": "d3854b23fb444b83b490d9f0d767e4d9",
       "version_major": 2,
       "version_minor": 0
      },
      "text/plain": [
       "HBox(children=(FloatProgress(value=0.0, description='batch', max=125.0, style=ProgressStyle(description_width=…"
      ]
     },
     "metadata": {},
     "output_type": "display_data"
    },
    {
     "name": "stdout",
     "output_type": "stream",
     "text": [
      "\n"
     ]
    },
    {
     "data": {
      "application/vnd.jupyter.widget-view+json": {
       "model_id": "ec88cf0957164ca3b79f94a32e7f10a7",
       "version_major": 2,
       "version_minor": 0
      },
      "text/plain": [
       "HBox(children=(FloatProgress(value=0.0, description='batch', max=125.0, style=ProgressStyle(description_width=…"
      ]
     },
     "metadata": {},
     "output_type": "display_data"
    },
    {
     "name": "stdout",
     "output_type": "stream",
     "text": [
      "\n"
     ]
    },
    {
     "data": {
      "application/vnd.jupyter.widget-view+json": {
       "model_id": "a76476b3179842edaaaa47f4ceb8a382",
       "version_major": 2,
       "version_minor": 0
      },
      "text/plain": [
       "HBox(children=(FloatProgress(value=0.0, description='batch', max=125.0, style=ProgressStyle(description_width=…"
      ]
     },
     "metadata": {},
     "output_type": "display_data"
    },
    {
     "name": "stdout",
     "output_type": "stream",
     "text": [
      "\n"
     ]
    },
    {
     "data": {
      "application/vnd.jupyter.widget-view+json": {
       "model_id": "d3a8f1e357a1469882b18d91118530f5",
       "version_major": 2,
       "version_minor": 0
      },
      "text/plain": [
       "HBox(children=(FloatProgress(value=0.0, description='batch', max=125.0, style=ProgressStyle(description_width=…"
      ]
     },
     "metadata": {},
     "output_type": "display_data"
    },
    {
     "name": "stdout",
     "output_type": "stream",
     "text": [
      "\n"
     ]
    },
    {
     "data": {
      "application/vnd.jupyter.widget-view+json": {
       "model_id": "666ede8814b54ae4a08fc3775ac982d8",
       "version_major": 2,
       "version_minor": 0
      },
      "text/plain": [
       "HBox(children=(FloatProgress(value=0.0, description='batch', max=125.0, style=ProgressStyle(description_width=…"
      ]
     },
     "metadata": {},
     "output_type": "display_data"
    },
    {
     "name": "stdout",
     "output_type": "stream",
     "text": [
      "\n"
     ]
    },
    {
     "data": {
      "application/vnd.jupyter.widget-view+json": {
       "model_id": "c5b98dc1429344a2b4bb4aad5d2805be",
       "version_major": 2,
       "version_minor": 0
      },
      "text/plain": [
       "HBox(children=(FloatProgress(value=0.0, description='batch', max=125.0, style=ProgressStyle(description_width=…"
      ]
     },
     "metadata": {},
     "output_type": "display_data"
    },
    {
     "name": "stdout",
     "output_type": "stream",
     "text": [
      "\n"
     ]
    },
    {
     "data": {
      "application/vnd.jupyter.widget-view+json": {
       "model_id": "6792fc99884c4e9280107beba08bae54",
       "version_major": 2,
       "version_minor": 0
      },
      "text/plain": [
       "HBox(children=(FloatProgress(value=0.0, description='batch', max=125.0, style=ProgressStyle(description_width=…"
      ]
     },
     "metadata": {},
     "output_type": "display_data"
    },
    {
     "name": "stdout",
     "output_type": "stream",
     "text": [
      "\n"
     ]
    },
    {
     "data": {
      "application/vnd.jupyter.widget-view+json": {
       "model_id": "6cb8608985894d919eb8ba9fe3a0ee34",
       "version_major": 2,
       "version_minor": 0
      },
      "text/plain": [
       "HBox(children=(FloatProgress(value=0.0, description='batch', max=125.0, style=ProgressStyle(description_width=…"
      ]
     },
     "metadata": {},
     "output_type": "display_data"
    },
    {
     "name": "stdout",
     "output_type": "stream",
     "text": [
      "\n"
     ]
    },
    {
     "data": {
      "application/vnd.jupyter.widget-view+json": {
       "model_id": "97368e43bbfc47c684abc4931402380e",
       "version_major": 2,
       "version_minor": 0
      },
      "text/plain": [
       "HBox(children=(FloatProgress(value=0.0, description='batch', max=125.0, style=ProgressStyle(description_width=…"
      ]
     },
     "metadata": {},
     "output_type": "display_data"
    },
    {
     "name": "stdout",
     "output_type": "stream",
     "text": [
      "\n"
     ]
    },
    {
     "data": {
      "application/vnd.jupyter.widget-view+json": {
       "model_id": "a88fdeedddb347a58e14c5582c87eb8d",
       "version_major": 2,
       "version_minor": 0
      },
      "text/plain": [
       "HBox(children=(FloatProgress(value=0.0, description='batch', max=125.0, style=ProgressStyle(description_width=…"
      ]
     },
     "metadata": {},
     "output_type": "display_data"
    },
    {
     "name": "stdout",
     "output_type": "stream",
     "text": [
      "\n"
     ]
    },
    {
     "data": {
      "application/vnd.jupyter.widget-view+json": {
       "model_id": "24ea8ae05719458f93fde8036f51cf65",
       "version_major": 2,
       "version_minor": 0
      },
      "text/plain": [
       "HBox(children=(FloatProgress(value=0.0, description='batch', max=125.0, style=ProgressStyle(description_width=…"
      ]
     },
     "metadata": {},
     "output_type": "display_data"
    },
    {
     "name": "stdout",
     "output_type": "stream",
     "text": [
      "\n"
     ]
    },
    {
     "data": {
      "application/vnd.jupyter.widget-view+json": {
       "model_id": "22cb7c57f11f49b3aeefbb95b54cbe9e",
       "version_major": 2,
       "version_minor": 0
      },
      "text/plain": [
       "HBox(children=(FloatProgress(value=0.0, description='batch', max=125.0, style=ProgressStyle(description_width=…"
      ]
     },
     "metadata": {},
     "output_type": "display_data"
    },
    {
     "name": "stdout",
     "output_type": "stream",
     "text": [
      "\n"
     ]
    },
    {
     "data": {
      "application/vnd.jupyter.widget-view+json": {
       "model_id": "b5eabef3fb254afe986fd82b07533f78",
       "version_major": 2,
       "version_minor": 0
      },
      "text/plain": [
       "HBox(children=(FloatProgress(value=0.0, description='batch', max=125.0, style=ProgressStyle(description_width=…"
      ]
     },
     "metadata": {},
     "output_type": "display_data"
    },
    {
     "name": "stdout",
     "output_type": "stream",
     "text": [
      "\n"
     ]
    },
    {
     "data": {
      "application/vnd.jupyter.widget-view+json": {
       "model_id": "ebf0a1a825ae4a04a75f347bc5d24af7",
       "version_major": 2,
       "version_minor": 0
      },
      "text/plain": [
       "HBox(children=(FloatProgress(value=0.0, description='batch', max=125.0, style=ProgressStyle(description_width=…"
      ]
     },
     "metadata": {},
     "output_type": "display_data"
    },
    {
     "name": "stdout",
     "output_type": "stream",
     "text": [
      "\n"
     ]
    },
    {
     "data": {
      "application/vnd.jupyter.widget-view+json": {
       "model_id": "946286d3451c4498a56d1606bc7c7ad7",
       "version_major": 2,
       "version_minor": 0
      },
      "text/plain": [
       "HBox(children=(FloatProgress(value=0.0, description='batch', max=125.0, style=ProgressStyle(description_width=…"
      ]
     },
     "metadata": {},
     "output_type": "display_data"
    },
    {
     "name": "stdout",
     "output_type": "stream",
     "text": [
      "\n"
     ]
    },
    {
     "data": {
      "application/vnd.jupyter.widget-view+json": {
       "model_id": "5a7100e052a540fb861a0b0e5b37c63d",
       "version_major": 2,
       "version_minor": 0
      },
      "text/plain": [
       "HBox(children=(FloatProgress(value=0.0, description='batch', max=125.0, style=ProgressStyle(description_width=…"
      ]
     },
     "metadata": {},
     "output_type": "display_data"
    },
    {
     "name": "stdout",
     "output_type": "stream",
     "text": [
      "\n"
     ]
    },
    {
     "data": {
      "application/vnd.jupyter.widget-view+json": {
       "model_id": "2b3632869c6343218a420c978790b37e",
       "version_major": 2,
       "version_minor": 0
      },
      "text/plain": [
       "HBox(children=(FloatProgress(value=0.0, description='batch', max=125.0, style=ProgressStyle(description_width=…"
      ]
     },
     "metadata": {},
     "output_type": "display_data"
    },
    {
     "name": "stdout",
     "output_type": "stream",
     "text": [
      "\n"
     ]
    },
    {
     "data": {
      "application/vnd.jupyter.widget-view+json": {
       "model_id": "59af225da6784559a94cc69dda5c1972",
       "version_major": 2,
       "version_minor": 0
      },
      "text/plain": [
       "HBox(children=(FloatProgress(value=0.0, description='batch', max=125.0, style=ProgressStyle(description_width=…"
      ]
     },
     "metadata": {},
     "output_type": "display_data"
    },
    {
     "name": "stdout",
     "output_type": "stream",
     "text": [
      "\n"
     ]
    },
    {
     "data": {
      "application/vnd.jupyter.widget-view+json": {
       "model_id": "354a21bc0d664efd9a5e73f5c2acd4c8",
       "version_major": 2,
       "version_minor": 0
      },
      "text/plain": [
       "HBox(children=(FloatProgress(value=0.0, description='batch', max=125.0, style=ProgressStyle(description_width=…"
      ]
     },
     "metadata": {},
     "output_type": "display_data"
    },
    {
     "name": "stdout",
     "output_type": "stream",
     "text": [
      "\n"
     ]
    },
    {
     "data": {
      "application/vnd.jupyter.widget-view+json": {
       "model_id": "4a63f2b5f4d942ac9c191368bdf69e1b",
       "version_major": 2,
       "version_minor": 0
      },
      "text/plain": [
       "HBox(children=(FloatProgress(value=0.0, description='batch', max=125.0, style=ProgressStyle(description_width=…"
      ]
     },
     "metadata": {},
     "output_type": "display_data"
    },
    {
     "name": "stdout",
     "output_type": "stream",
     "text": [
      "\n"
     ]
    },
    {
     "data": {
      "application/vnd.jupyter.widget-view+json": {
       "model_id": "ab90794fd7f342cdbbdc0a22a9786ddf",
       "version_major": 2,
       "version_minor": 0
      },
      "text/plain": [
       "HBox(children=(FloatProgress(value=0.0, description='batch', max=125.0, style=ProgressStyle(description_width=…"
      ]
     },
     "metadata": {},
     "output_type": "display_data"
    },
    {
     "name": "stdout",
     "output_type": "stream",
     "text": [
      "\n"
     ]
    },
    {
     "data": {
      "application/vnd.jupyter.widget-view+json": {
       "model_id": "01712d308db04470a557fc1d03d34ab7",
       "version_major": 2,
       "version_minor": 0
      },
      "text/plain": [
       "HBox(children=(FloatProgress(value=0.0, description='batch', max=125.0, style=ProgressStyle(description_width=…"
      ]
     },
     "metadata": {},
     "output_type": "display_data"
    },
    {
     "name": "stdout",
     "output_type": "stream",
     "text": [
      "\n"
     ]
    },
    {
     "data": {
      "application/vnd.jupyter.widget-view+json": {
       "model_id": "6e2555ce299345b8a4448a8f5d399ea9",
       "version_major": 2,
       "version_minor": 0
      },
      "text/plain": [
       "HBox(children=(FloatProgress(value=0.0, description='batch', max=125.0, style=ProgressStyle(description_width=…"
      ]
     },
     "metadata": {},
     "output_type": "display_data"
    },
    {
     "name": "stdout",
     "output_type": "stream",
     "text": [
      "\n"
     ]
    },
    {
     "data": {
      "application/vnd.jupyter.widget-view+json": {
       "model_id": "a2bf3696ae0945d982f848bece648730",
       "version_major": 2,
       "version_minor": 0
      },
      "text/plain": [
       "HBox(children=(FloatProgress(value=0.0, description='batch', max=125.0, style=ProgressStyle(description_width=…"
      ]
     },
     "metadata": {},
     "output_type": "display_data"
    },
    {
     "name": "stdout",
     "output_type": "stream",
     "text": [
      "\n"
     ]
    },
    {
     "data": {
      "application/vnd.jupyter.widget-view+json": {
       "model_id": "3b4a932c3406424f8c138d3ab687cced",
       "version_major": 2,
       "version_minor": 0
      },
      "text/plain": [
       "HBox(children=(FloatProgress(value=0.0, description='batch', max=125.0, style=ProgressStyle(description_width=…"
      ]
     },
     "metadata": {},
     "output_type": "display_data"
    },
    {
     "name": "stdout",
     "output_type": "stream",
     "text": [
      "\n"
     ]
    },
    {
     "data": {
      "application/vnd.jupyter.widget-view+json": {
       "model_id": "c2063bbdf140495ebca99c47e1b69040",
       "version_major": 2,
       "version_minor": 0
      },
      "text/plain": [
       "HBox(children=(FloatProgress(value=0.0, description='batch', max=125.0, style=ProgressStyle(description_width=…"
      ]
     },
     "metadata": {},
     "output_type": "display_data"
    },
    {
     "name": "stdout",
     "output_type": "stream",
     "text": [
      "\n"
     ]
    },
    {
     "data": {
      "application/vnd.jupyter.widget-view+json": {
       "model_id": "afd88c7706c74326911da35f25a395d5",
       "version_major": 2,
       "version_minor": 0
      },
      "text/plain": [
       "HBox(children=(FloatProgress(value=0.0, description='batch', max=125.0, style=ProgressStyle(description_width=…"
      ]
     },
     "metadata": {},
     "output_type": "display_data"
    },
    {
     "name": "stdout",
     "output_type": "stream",
     "text": [
      "\n"
     ]
    },
    {
     "data": {
      "application/vnd.jupyter.widget-view+json": {
       "model_id": "4c60f4df6f274d828127ab1c93466675",
       "version_major": 2,
       "version_minor": 0
      },
      "text/plain": [
       "HBox(children=(FloatProgress(value=0.0, description='batch', max=125.0, style=ProgressStyle(description_width=…"
      ]
     },
     "metadata": {},
     "output_type": "display_data"
    },
    {
     "name": "stdout",
     "output_type": "stream",
     "text": [
      "\n"
     ]
    },
    {
     "data": {
      "application/vnd.jupyter.widget-view+json": {
       "model_id": "94046a4ac0d14ea8a57dd73a9f8b611e",
       "version_major": 2,
       "version_minor": 0
      },
      "text/plain": [
       "HBox(children=(FloatProgress(value=0.0, description='batch', max=125.0, style=ProgressStyle(description_width=…"
      ]
     },
     "metadata": {},
     "output_type": "display_data"
    },
    {
     "name": "stdout",
     "output_type": "stream",
     "text": [
      "\n"
     ]
    },
    {
     "data": {
      "application/vnd.jupyter.widget-view+json": {
       "model_id": "6bbbb864a5cc4d499d27708809221883",
       "version_major": 2,
       "version_minor": 0
      },
      "text/plain": [
       "HBox(children=(FloatProgress(value=0.0, description='batch', max=125.0, style=ProgressStyle(description_width=…"
      ]
     },
     "metadata": {},
     "output_type": "display_data"
    },
    {
     "name": "stdout",
     "output_type": "stream",
     "text": [
      "\n"
     ]
    },
    {
     "data": {
      "application/vnd.jupyter.widget-view+json": {
       "model_id": "65301fcd5f72453ea3e926591917e8a9",
       "version_major": 2,
       "version_minor": 0
      },
      "text/plain": [
       "HBox(children=(FloatProgress(value=0.0, description='batch', max=125.0, style=ProgressStyle(description_width=…"
      ]
     },
     "metadata": {},
     "output_type": "display_data"
    },
    {
     "name": "stdout",
     "output_type": "stream",
     "text": [
      "\n"
     ]
    },
    {
     "data": {
      "application/vnd.jupyter.widget-view+json": {
       "model_id": "0aa42e4757cf4d8e8f755ab46a1cbaf3",
       "version_major": 2,
       "version_minor": 0
      },
      "text/plain": [
       "HBox(children=(FloatProgress(value=0.0, description='batch', max=125.0, style=ProgressStyle(description_width=…"
      ]
     },
     "metadata": {},
     "output_type": "display_data"
    },
    {
     "name": "stderr",
     "output_type": "stream",
     "text": [
      "IOPub message rate exceeded.\n",
      "The notebook server will temporarily stop sending output\n",
      "to the client in order to avoid crashing it.\n",
      "To change this limit, set the config variable\n",
      "`--NotebookApp.iopub_msg_rate_limit`.\n",
      "\n",
      "Current values:\n",
      "NotebookApp.iopub_msg_rate_limit=1000.0 (msgs/sec)\n",
      "NotebookApp.rate_limit_window=3.0 (secs)\n",
      "\n"
     ]
    },
    {
     "name": "stdout",
     "output_type": "stream",
     "text": [
      "\n"
     ]
    },
    {
     "data": {
      "application/vnd.jupyter.widget-view+json": {
       "model_id": "b942b1907cf743ef8dbd59cfb4a7be32",
       "version_major": 2,
       "version_minor": 0
      },
      "text/plain": [
       "HBox(children=(FloatProgress(value=0.0, description='batch', max=125.0, style=ProgressStyle(description_width=…"
      ]
     },
     "metadata": {},
     "output_type": "display_data"
    },
    {
     "name": "stdout",
     "output_type": "stream",
     "text": [
      "\n"
     ]
    },
    {
     "data": {
      "application/vnd.jupyter.widget-view+json": {
       "model_id": "8e1e413929424baca98f77eff239a9a0",
       "version_major": 2,
       "version_minor": 0
      },
      "text/plain": [
       "HBox(children=(FloatProgress(value=0.0, description='batch', max=125.0, style=ProgressStyle(description_width=…"
      ]
     },
     "metadata": {},
     "output_type": "display_data"
    },
    {
     "name": "stdout",
     "output_type": "stream",
     "text": [
      "\n"
     ]
    },
    {
     "data": {
      "application/vnd.jupyter.widget-view+json": {
       "model_id": "6bec6460022f4fc880bd28ba1dea4339",
       "version_major": 2,
       "version_minor": 0
      },
      "text/plain": [
       "HBox(children=(FloatProgress(value=0.0, description='batch', max=125.0, style=ProgressStyle(description_width=…"
      ]
     },
     "metadata": {},
     "output_type": "display_data"
    },
    {
     "name": "stdout",
     "output_type": "stream",
     "text": [
      "\n"
     ]
    },
    {
     "data": {
      "application/vnd.jupyter.widget-view+json": {
       "model_id": "3c875802bb154b98b84c0c144bc6d61a",
       "version_major": 2,
       "version_minor": 0
      },
      "text/plain": [
       "HBox(children=(FloatProgress(value=0.0, description='batch', max=125.0, style=ProgressStyle(description_width=…"
      ]
     },
     "metadata": {},
     "output_type": "display_data"
    },
    {
     "name": "stdout",
     "output_type": "stream",
     "text": [
      "\n"
     ]
    },
    {
     "data": {
      "application/vnd.jupyter.widget-view+json": {
       "model_id": "ca6bc97c5a814ae3a3a0b4ae877b3197",
       "version_major": 2,
       "version_minor": 0
      },
      "text/plain": [
       "HBox(children=(FloatProgress(value=0.0, description='batch', max=125.0, style=ProgressStyle(description_width=…"
      ]
     },
     "metadata": {},
     "output_type": "display_data"
    },
    {
     "name": "stdout",
     "output_type": "stream",
     "text": [
      "\n"
     ]
    },
    {
     "data": {
      "application/vnd.jupyter.widget-view+json": {
       "model_id": "a40eb0c04e674711bbb1a699375f9d31",
       "version_major": 2,
       "version_minor": 0
      },
      "text/plain": [
       "HBox(children=(FloatProgress(value=0.0, description='batch', max=125.0, style=ProgressStyle(description_width=…"
      ]
     },
     "metadata": {},
     "output_type": "display_data"
    },
    {
     "name": "stdout",
     "output_type": "stream",
     "text": [
      "\n"
     ]
    },
    {
     "data": {
      "application/vnd.jupyter.widget-view+json": {
       "model_id": "3c0d73b3d8a44dc294bab1fd82a53466",
       "version_major": 2,
       "version_minor": 0
      },
      "text/plain": [
       "HBox(children=(FloatProgress(value=0.0, description='batch', max=125.0, style=ProgressStyle(description_width=…"
      ]
     },
     "metadata": {},
     "output_type": "display_data"
    },
    {
     "name": "stdout",
     "output_type": "stream",
     "text": [
      "\n"
     ]
    },
    {
     "data": {
      "application/vnd.jupyter.widget-view+json": {
       "model_id": "c091f90595eb45649479a7a442832aac",
       "version_major": 2,
       "version_minor": 0
      },
      "text/plain": [
       "HBox(children=(FloatProgress(value=0.0, description='batch', max=125.0, style=ProgressStyle(description_width=…"
      ]
     },
     "metadata": {},
     "output_type": "display_data"
    },
    {
     "name": "stderr",
     "output_type": "stream",
     "text": [
      "IOPub message rate exceeded.\n",
      "The notebook server will temporarily stop sending output\n",
      "to the client in order to avoid crashing it.\n",
      "To change this limit, set the config variable\n",
      "`--NotebookApp.iopub_msg_rate_limit`.\n",
      "\n",
      "Current values:\n",
      "NotebookApp.iopub_msg_rate_limit=1000.0 (msgs/sec)\n",
      "NotebookApp.rate_limit_window=3.0 (secs)\n",
      "\n"
     ]
    },
    {
     "name": "stdout",
     "output_type": "stream",
     "text": [
      "\n"
     ]
    },
    {
     "data": {
      "application/vnd.jupyter.widget-view+json": {
       "model_id": "88265d787126483f8c6fd84f9b13c10c",
       "version_major": 2,
       "version_minor": 0
      },
      "text/plain": [
       "HBox(children=(FloatProgress(value=0.0, description='batch', max=125.0, style=ProgressStyle(description_width=…"
      ]
     },
     "metadata": {},
     "output_type": "display_data"
    },
    {
     "name": "stdout",
     "output_type": "stream",
     "text": [
      "\n"
     ]
    },
    {
     "data": {
      "application/vnd.jupyter.widget-view+json": {
       "model_id": "47941c917c4c4c409f5db90b782c3e5c",
       "version_major": 2,
       "version_minor": 0
      },
      "text/plain": [
       "HBox(children=(FloatProgress(value=0.0, description='batch', max=125.0, style=ProgressStyle(description_width=…"
      ]
     },
     "metadata": {},
     "output_type": "display_data"
    },
    {
     "name": "stdout",
     "output_type": "stream",
     "text": [
      "\n"
     ]
    },
    {
     "data": {
      "application/vnd.jupyter.widget-view+json": {
       "model_id": "9b46ebec3c1b4f308fcf685224692111",
       "version_major": 2,
       "version_minor": 0
      },
      "text/plain": [
       "HBox(children=(FloatProgress(value=0.0, description='batch', max=125.0, style=ProgressStyle(description_width=…"
      ]
     },
     "metadata": {},
     "output_type": "display_data"
    },
    {
     "name": "stdout",
     "output_type": "stream",
     "text": [
      "\n"
     ]
    },
    {
     "data": {
      "application/vnd.jupyter.widget-view+json": {
       "model_id": "9980f345828c4eeb925993e9462b927e",
       "version_major": 2,
       "version_minor": 0
      },
      "text/plain": [
       "HBox(children=(FloatProgress(value=0.0, description='batch', max=125.0, style=ProgressStyle(description_width=…"
      ]
     },
     "metadata": {},
     "output_type": "display_data"
    },
    {
     "name": "stdout",
     "output_type": "stream",
     "text": [
      "\n"
     ]
    },
    {
     "data": {
      "application/vnd.jupyter.widget-view+json": {
       "model_id": "00f64cc2fa594693821b3728f06f6194",
       "version_major": 2,
       "version_minor": 0
      },
      "text/plain": [
       "HBox(children=(FloatProgress(value=0.0, description='batch', max=125.0, style=ProgressStyle(description_width=…"
      ]
     },
     "metadata": {},
     "output_type": "display_data"
    },
    {
     "name": "stdout",
     "output_type": "stream",
     "text": [
      "\n"
     ]
    },
    {
     "data": {
      "application/vnd.jupyter.widget-view+json": {
       "model_id": "ad120340af0f475a8cb24966e81d86c0",
       "version_major": 2,
       "version_minor": 0
      },
      "text/plain": [
       "HBox(children=(FloatProgress(value=0.0, description='batch', max=125.0, style=ProgressStyle(description_width=…"
      ]
     },
     "metadata": {},
     "output_type": "display_data"
    },
    {
     "name": "stdout",
     "output_type": "stream",
     "text": [
      "\n"
     ]
    },
    {
     "data": {
      "application/vnd.jupyter.widget-view+json": {
       "model_id": "c295ec0637f9474e88e342674ef82e64",
       "version_major": 2,
       "version_minor": 0
      },
      "text/plain": [
       "HBox(children=(FloatProgress(value=0.0, description='batch', max=125.0, style=ProgressStyle(description_width=…"
      ]
     },
     "metadata": {},
     "output_type": "display_data"
    },
    {
     "name": "stdout",
     "output_type": "stream",
     "text": [
      "\n"
     ]
    },
    {
     "data": {
      "application/vnd.jupyter.widget-view+json": {
       "model_id": "34ad0c2467d24976aa9f6b17369401e6",
       "version_major": 2,
       "version_minor": 0
      },
      "text/plain": [
       "HBox(children=(FloatProgress(value=0.0, description='batch', max=125.0, style=ProgressStyle(description_width=…"
      ]
     },
     "metadata": {},
     "output_type": "display_data"
    },
    {
     "name": "stderr",
     "output_type": "stream",
     "text": [
      "IOPub message rate exceeded.\n",
      "The notebook server will temporarily stop sending output\n",
      "to the client in order to avoid crashing it.\n",
      "To change this limit, set the config variable\n",
      "`--NotebookApp.iopub_msg_rate_limit`.\n",
      "\n",
      "Current values:\n",
      "NotebookApp.iopub_msg_rate_limit=1000.0 (msgs/sec)\n",
      "NotebookApp.rate_limit_window=3.0 (secs)\n",
      "\n"
     ]
    },
    {
     "name": "stdout",
     "output_type": "stream",
     "text": [
      "\n"
     ]
    },
    {
     "data": {
      "application/vnd.jupyter.widget-view+json": {
       "model_id": "617cc4b956ac40b89dcefd0acbfa02ef",
       "version_major": 2,
       "version_minor": 0
      },
      "text/plain": [
       "HBox(children=(FloatProgress(value=0.0, description='batch', max=125.0, style=ProgressStyle(description_width=…"
      ]
     },
     "metadata": {},
     "output_type": "display_data"
    },
    {
     "name": "stdout",
     "output_type": "stream",
     "text": [
      "\n"
     ]
    },
    {
     "data": {
      "application/vnd.jupyter.widget-view+json": {
       "model_id": "a3e6d97e94ed4a3085346d9aa4689f4d",
       "version_major": 2,
       "version_minor": 0
      },
      "text/plain": [
       "HBox(children=(FloatProgress(value=0.0, description='batch', max=125.0, style=ProgressStyle(description_width=…"
      ]
     },
     "metadata": {},
     "output_type": "display_data"
    },
    {
     "name": "stdout",
     "output_type": "stream",
     "text": [
      "\n"
     ]
    },
    {
     "data": {
      "application/vnd.jupyter.widget-view+json": {
       "model_id": "80225058df4b46e092e21a3230b3a225",
       "version_major": 2,
       "version_minor": 0
      },
      "text/plain": [
       "HBox(children=(FloatProgress(value=0.0, description='batch', max=125.0, style=ProgressStyle(description_width=…"
      ]
     },
     "metadata": {},
     "output_type": "display_data"
    },
    {
     "name": "stdout",
     "output_type": "stream",
     "text": [
      "\n"
     ]
    },
    {
     "data": {
      "application/vnd.jupyter.widget-view+json": {
       "model_id": "1f6c696c453a4e15ba952b0982184a98",
       "version_major": 2,
       "version_minor": 0
      },
      "text/plain": [
       "HBox(children=(FloatProgress(value=0.0, description='batch', max=125.0, style=ProgressStyle(description_width=…"
      ]
     },
     "metadata": {},
     "output_type": "display_data"
    },
    {
     "name": "stdout",
     "output_type": "stream",
     "text": [
      "\n",
      "\n",
      "\n"
     ]
    }
   ],
   "source": [
    "for i, Network in enumerate(tqdm.tqdm(Networks, desc='network')):\n",
    "    Network.readyTraining(device, deviceIds)\n",
    "    Network.doTrain(device, epochcount=100, writer=SummaryWriter(os.path.join(RESULTS_DIR,'data',dirname,\"modelset5_noise/\",str(i)), comment='model'+str(i)))"
   ]
  },
  {
   "cell_type": "code",
   "execution_count": null,
   "metadata": {},
   "outputs": [],
   "source": []
  },
  {
   "cell_type": "code",
   "execution_count": null,
   "metadata": {},
   "outputs": [],
   "source": []
  },
  {
   "cell_type": "code",
   "execution_count": null,
   "metadata": {},
   "outputs": [],
   "source": []
  },
  {
   "cell_type": "code",
   "execution_count": null,
   "metadata": {},
   "outputs": [],
   "source": []
  },
  {
   "cell_type": "code",
   "execution_count": null,
   "metadata": {},
   "outputs": [],
   "source": []
  },
  {
   "cell_type": "markdown",
   "metadata": {},
   "source": [
    "## ~~Plot the Results~~"
   ]
  },
  {
   "cell_type": "raw",
   "metadata": {},
   "source": [
    "plt.figure(1)\n",
    "plt.semilogy(stats.training.lossLog, label='Training')\n",
    "plt.semilogy(stats.testing .lossLog, label='Testing')\n",
    "plt.xlabel('Epoch')\n",
    "plt.ylabel('Loss')\n",
    "plt.legend()\n",
    "\n",
    "plt.figure(2)\n",
    "plt.plot(stats.training.accuracyLog, label='Training')\n",
    "plt.plot(stats.testing .accuracyLog, label='Testing')\n",
    "plt.xlabel('Epoch')\n",
    "plt.ylabel('Accuracy')\n",
    "plt.legend()\n",
    "\n",
    "plt.show()"
   ]
  },
  {
   "cell_type": "code",
   "execution_count": null,
   "metadata": {},
   "outputs": [],
   "source": []
  }
 ],
 "metadata": {
  "kernelspec": {
   "display_name": "Python 3",
   "language": "python",
   "name": "python3"
  },
  "language_info": {
   "codemirror_mode": {
    "name": "ipython",
    "version": 3
   },
   "file_extension": ".py",
   "mimetype": "text/x-python",
   "name": "python",
   "nbconvert_exporter": "python",
   "pygments_lexer": "ipython3",
   "version": "3.7.9"
  }
 },
 "nbformat": 4,
 "nbformat_minor": 4
}
