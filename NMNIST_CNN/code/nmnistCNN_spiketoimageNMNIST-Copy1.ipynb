{
 "cells": [
  {
   "cell_type": "markdown",
   "metadata": {},
   "source": [
    "# Example for training Spiking CNN on subset of NMNIST digits\n",
    "\n",
    "## The problem:\n",
    "Training digit classifier(0-9) on a subset(1000 training and 100 testing) of NMNIST digit spikes recorded using DVS camera. Just chagne the training list to for full NMNIST training."
   ]
  },
  {
   "cell_type": "markdown",
   "metadata": {},
   "source": [
    "## Load proper paths for SLAYER Pytorch source modules"
   ]
  },
  {
   "cell_type": "code",
   "execution_count": 7,
   "metadata": {},
   "outputs": [],
   "source": [
    "import sys, os\n",
    "CODE_DIR = os.getcwd()\n",
    "DATA_DIR = os.path.join(CODE_DIR, '../data')\n",
    "RESULTS_DIR = os.path.join(CODE_DIR, '../results')\n",
    "sys.path.append(CODE_DIR + \"/slayerPytorch/src\")"
   ]
  },
  {
   "cell_type": "markdown",
   "metadata": {},
   "source": [
    "## Load required modules\n",
    "\n",
    "SLAYER modules are available as `snn`\n",
    "* The `spike-layer` module will be available as `snn.layer`.\n",
    "* The `yaml-parameter` module will be availabe as `snn.params`.\n",
    "* The `spike-loss` module will be available as `snn.loss`.\n",
    "* The `spike-classifier` module will be available as `snn.predict`.\n",
    "* The `spike-IO` module will be available as `snn.io`.\n"
   ]
  },
  {
   "cell_type": "code",
   "execution_count": 16,
   "metadata": {},
   "outputs": [],
   "source": [
    "from datetime import datetime\n",
    "import tqdm.notebook as tqdm\n",
    "import numpy as np\n",
    "import matplotlib.pyplot as plt\n",
    "import torch\n",
    "from torch.utils.data import Dataset, DataLoader\n",
    "import slayerSNN as snn\n",
    "from learningStats import learningStats\n",
    "from IPython.display import HTML\n",
    "import zipfile\n",
    "from torch.utils.tensorboard import SummaryWriter\n",
    "import torchvision\n",
    "import torch.nn.functional as F"
   ]
  },
  {
   "cell_type": "markdown",
   "metadata": {},
   "source": [
    "## Read SNN configuration from yaml file\n",
    "See the file for all the configuration parameters. This configuration file will be used to describe the SNN. We will ignore the network configuration  describe in the yaml file here."
   ]
  },
  {
   "cell_type": "code",
   "execution_count": 17,
   "metadata": {},
   "outputs": [],
   "source": [
    "netParams = snn.params(os.path.join(CODE_DIR, 'network-moredata.yaml'))"
   ]
  },
  {
   "cell_type": "code",
   "execution_count": 18,
   "metadata": {},
   "outputs": [
    {
     "data": {
      "text/plain": [
       "{'error': {'type': 'NumSpikes',\n",
       "  'probSlidingWin': 20,\n",
       "  'tgtSpikeRegion': {'start': 0, 'stop': 300},\n",
       "  'tgtSpikeCount': {True: 60, False: 10}},\n",
       " 'path': {'train': {'data': 'NMNIST/Train',\n",
       "   'labels': 'NMNIST/Train/labels.txt'},\n",
       "  'test': {'data': 'NMNIST/Test', 'labels': 'NMNIST/Test/labels.txt'}}}"
      ]
     },
     "execution_count": 18,
     "metadata": {},
     "output_type": "execute_result"
    }
   ],
   "source": [
    "netParams['training']"
   ]
  },
  {
   "cell_type": "markdown",
   "metadata": {},
   "source": [
    "# define base of spiking networks"
   ]
  },
  {
   "cell_type": "raw",
   "metadata": {},
   "source": [
    "class PSPLayer(torch.nn.Module):\n",
    "    def __init__(self, netParams=netParams):\n",
    "        super(PSPLayer, self).__init__()\n",
    "        self.slayer = snn.layer(netParams['neuron'], netParams['simulation'])\n",
    "    def forward(self, x):\n",
    "        return self.slayer.psp(x)"
   ]
  },
  {
   "cell_type": "raw",
   "metadata": {},
   "source": [
    "class ApplySpikeLayer(torch.nn.Module):\n",
    "    def __init__(self, netParams=netParams):\n",
    "        super(ApplySpikeLayer, self).__init__()\n",
    "        self.slayer = snn.layer(netParams['neuron'], netParams['simulation'])\n",
    "    def forward(self, x):\n",
    "        return self.slayer.spike(x)"
   ]
  },
  {
   "cell_type": "raw",
   "metadata": {},
   "source": [
    "class SpikingNetwork(torch.nn.Module):\n",
    "    def __init__(self, device=torch.device(\"cuda:0\"), netParams=netParams):\n",
    "        super(SpikingNetwork, self).__init__()\n",
    "       "
   ]
  },
  {
   "cell_type": "markdown",
   "metadata": {},
   "source": [
    "## Defne the dataset class\n",
    "The dataset definition follows standard PyTorch dataset definition.\n",
    "Internally, it utilizes snn.io modules to read spikes and returns the spike in correct tensor format (CHWT).\n",
    "* `datasetPath`: the path where the spike files are stored.\n",
    "* `sampleFile`: the file that contains a list of sample indices and its corresponding clases.\n",
    "* `samplingTime`: the sampling time (in ms) to bin the spikes.\n",
    "* `sampleLength`: the length of the sample (in ms)\n",
    "\n",
    "Note: This is a simple dataset class. A dataset that utilizes the folder hierarchy or xml list is easy to create."
   ]
  },
  {
   "cell_type": "markdown",
   "metadata": {},
   "source": [
    "## classifier datasets"
   ]
  },
  {
   "cell_type": "raw",
   "metadata": {},
   "source": [
    "# Dataset definition\n",
    "class nmnistDataset(Dataset):\n",
    "    def __init__(self, datasetPath, sampleFile, samplingTime, sampleLength):\n",
    "        self.path = os.path.join(DATA_DIR, datasetPath)\n",
    "        self.samples = np.loadtxt(os.path.join(DATA_DIR, sampleFile)).astype('int')\n",
    "        self.samplingTime = samplingTime\n",
    "        self.nTimeBins    = int(sampleLength / samplingTime)\n",
    "\n",
    "    def __getitem__(self, index):\n",
    "        inputIndex  = self.samples[index, 0]\n",
    "        classLabel  = self.samples[index, 1]\n",
    "\n",
    "        inputSpikes = snn.io.read2Dspikes(\n",
    "                        os.path.join(self.path, str(classLabel), format(inputIndex.item(), '05d') + '.bin')\n",
    "                        ).toSpikeTensor(torch.zeros((2,34,34,self.nTimeBins)),\n",
    "                        samplingTime=self.samplingTime)\n",
    "#         sparseInputSpikes = torch.sparse_coo_tensor([inputSpikes.p, inputSpikes.y, inputSpikes.x, inputSpikes.t],\n",
    "#                                                         np.ones_like(inputSpikes.p), (2, 34, 34, 306))\n",
    "\n",
    "        desiredClass = torch.zeros((10, 1, 1, 1))\n",
    "        desiredClass[classLabel,...] = 1\n",
    "        return inputSpikes, desiredClass, classLabel\n",
    "\n",
    "    def __len__(self):\n",
    "        return self.samples.shape[0]"
   ]
  },
  {
   "cell_type": "raw",
   "metadata": {},
   "source": [
    "# Dataset definition\n",
    "class nmnistDatasetNoisy(nmnistDataset):\n",
    "    def __init__(self, datasetPath, sampleFile, samplingTime, sampleLength, percentNoise=0.001):\n",
    "        super().__init__(datasetPath, sampleFile, samplingTime, sampleLength)\n",
    "        self.numNoise = int(percentNoise*2*34*34*300)\n",
    "        # generate binary (boolean) noise with percentNoise 1s\n",
    "#         self.noise = torch.cuda.FloatTensor(len(self.samples), 2, 34, 34, self.nTimeBins).uniform_() < percentNoise\n",
    "    def __getitem__(self, index):\n",
    "        inputSpikes, desiredClass, classLabel = super().__getitem__(index)\n",
    "#         for i in range(int(self.percentNoise*torch.numel(inputSpikes))):\n",
    "        p = torch.randint(0, 2, (self.numNoise,))\n",
    "        x, y = torch.randint(0, 34, (2,self.numNoise))\n",
    "        t = torch.randint(0, 300, (self.numNoise,))\n",
    "        inputSpikes[p, x, y, t] = 1-inputSpikes[p, x, y, t]\n",
    "        # noise = torch.FloatTensor(2, 34, 34, self.nTimeBins).uniform_() < self.percentNoise #self.noise[index] # get pre-generated noise for this example\n",
    "        # inputSpikes[noise] = 1-inputSpikes[noise] # invert 1s and 0s where noise=True\n",
    "        return inputSpikes, desiredClass, classLabel"
   ]
  },
  {
   "cell_type": "markdown",
   "metadata": {},
   "source": [
    "## MNIST and MNIST->MNIST datasets"
   ]
  },
  {
   "cell_type": "code",
   "execution_count": 19,
   "metadata": {
    "scrolled": false
   },
   "outputs": [],
   "source": [
    "trainMNIST = torchvision.datasets.MNIST(\n",
    "    root=os.path.join(DATA_DIR,'MNIST'),\n",
    "    train=True,\n",
    "    download=True,\n",
    "    transform=torchvision.transforms.ToTensor())"
   ]
  },
  {
   "cell_type": "code",
   "execution_count": 20,
   "metadata": {},
   "outputs": [],
   "source": [
    "testMNIST = torchvision.datasets.MNIST(\n",
    "    root=os.path.join(DATA_DIR,'MNIST'),\n",
    "    train=False,\n",
    "    download=True,\n",
    "    transform=torchvision.transforms.ToTensor())"
   ]
  },
  {
   "cell_type": "code",
   "execution_count": 21,
   "metadata": {},
   "outputs": [],
   "source": [
    "# Dataset definition\n",
    "class NMNIST_MNIST(Dataset):\n",
    "    def __init__(self, MNIST, datasetPath, sampleFile, samplingTime, sampleLength):\n",
    "        self.path = os.path.join(DATA_DIR, datasetPath)\n",
    "        self.samples = np.loadtxt(os.path.join(DATA_DIR, sampleFile)).astype('int')\n",
    "        self.samplingTime = samplingTime\n",
    "        self.nTimeBins    = int(sampleLength / samplingTime)\n",
    "        self.MNIST = MNIST\n",
    "\n",
    "    def __getitem__(self, index):\n",
    "        inputIndex  = self.samples[index, 0]\n",
    "        classLabel  = self.samples[index, 1]\n",
    "\n",
    "        inputSpikes = snn.io.read2Dspikes(\n",
    "                        os.path.join(self.path, str(classLabel), format(inputIndex.item(), '05d') + '.bin')\n",
    "                        ).toSpikeTensor(torch.zeros((2,34,34,self.nTimeBins)),\n",
    "                        samplingTime=self.samplingTime)\n",
    "#         sparseInputSpikes = torch.sparse_coo_tensor([inputSpikes.p, inputSpikes.y, inputSpikes.x, inputSpikes.t],\n",
    "#                                                         np.ones_like(inputSpikes.p), (2, 34, 34, 306))\n",
    "\n",
    "#         desiredClass = torch.zeros((10, 1, 1, 1))\n",
    "#         desiredClass[classLabel,...] = 1\n",
    "        return inputSpikes, self.MNIST[inputIndex-1][0].unsqueeze(-1)\n",
    "\n",
    "    def __len__(self):\n",
    "        return self.samples.shape[0]"
   ]
  },
  {
   "cell_type": "code",
   "execution_count": 22,
   "metadata": {},
   "outputs": [],
   "source": [
    "trainNMNIST = NMNIST_MNIST(trainMNIST,\n",
    "                           datasetPath =netParams['training']['path']['train']['data'], \n",
    "                            sampleFile  =netParams['training']['path']['train']['labels'],\n",
    "                            samplingTime=netParams['simulation']['Ts'],\n",
    "                            sampleLength=netParams['simulation']['tSample'])"
   ]
  },
  {
   "cell_type": "code",
   "execution_count": 23,
   "metadata": {},
   "outputs": [],
   "source": [
    "testNMNIST = NMNIST_MNIST(testMNIST,\n",
    "                          datasetPath =netParams['training']['path']['test']['data'], \n",
    "                            sampleFile  =netParams['training']['path']['test']['labels'],\n",
    "                            samplingTime=netParams['simulation']['Ts'],\n",
    "                            sampleLength=netParams['simulation']['tSample'])"
   ]
  },
  {
   "cell_type": "markdown",
   "metadata": {},
   "source": [
    "## Visualize the spike data"
   ]
  },
  {
   "cell_type": "code",
   "execution_count": 24,
   "metadata": {
    "scrolled": false
   },
   "outputs": [
    {
     "data": {
      "text/html": [
       "\n",
       "<link rel=\"stylesheet\"\n",
       "href=\"https://maxcdn.bootstrapcdn.com/font-awesome/4.4.0/css/font-awesome.min.css\">\n",
       "<script language=\"javascript\">\n",
       "  function isInternetExplorer() {\n",
       "    ua = navigator.userAgent;\n",
       "    /* MSIE used to detect old browsers and Trident used to newer ones*/\n",
       "    return ua.indexOf(\"MSIE \") > -1 || ua.indexOf(\"Trident/\") > -1;\n",
       "  }\n",
       "\n",
       "  /* Define the Animation class */\n",
       "  function Animation(frames, img_id, slider_id, interval, loop_select_id){\n",
       "    this.img_id = img_id;\n",
       "    this.slider_id = slider_id;\n",
       "    this.loop_select_id = loop_select_id;\n",
       "    this.interval = interval;\n",
       "    this.current_frame = 0;\n",
       "    this.direction = 0;\n",
       "    this.timer = null;\n",
       "    this.frames = new Array(frames.length);\n",
       "\n",
       "    for (var i=0; i<frames.length; i++)\n",
       "    {\n",
       "     this.frames[i] = new Image();\n",
       "     this.frames[i].src = frames[i];\n",
       "    }\n",
       "    var slider = document.getElementById(this.slider_id);\n",
       "    slider.max = this.frames.length - 1;\n",
       "    if (isInternetExplorer()) {\n",
       "        // switch from oninput to onchange because IE <= 11 does not conform\n",
       "        // with W3C specification. It ignores oninput and onchange behaves\n",
       "        // like oninput. In contrast, Mircosoft Edge behaves correctly.\n",
       "        slider.setAttribute('onchange', slider.getAttribute('oninput'));\n",
       "        slider.setAttribute('oninput', null);\n",
       "    }\n",
       "    this.set_frame(this.current_frame);\n",
       "  }\n",
       "\n",
       "  Animation.prototype.get_loop_state = function(){\n",
       "    var button_group = document[this.loop_select_id].state;\n",
       "    for (var i = 0; i < button_group.length; i++) {\n",
       "        var button = button_group[i];\n",
       "        if (button.checked) {\n",
       "            return button.value;\n",
       "        }\n",
       "    }\n",
       "    return undefined;\n",
       "  }\n",
       "\n",
       "  Animation.prototype.set_frame = function(frame){\n",
       "    this.current_frame = frame;\n",
       "    document.getElementById(this.img_id).src =\n",
       "            this.frames[this.current_frame].src;\n",
       "    document.getElementById(this.slider_id).value = this.current_frame;\n",
       "  }\n",
       "\n",
       "  Animation.prototype.next_frame = function()\n",
       "  {\n",
       "    this.set_frame(Math.min(this.frames.length - 1, this.current_frame + 1));\n",
       "  }\n",
       "\n",
       "  Animation.prototype.previous_frame = function()\n",
       "  {\n",
       "    this.set_frame(Math.max(0, this.current_frame - 1));\n",
       "  }\n",
       "\n",
       "  Animation.prototype.first_frame = function()\n",
       "  {\n",
       "    this.set_frame(0);\n",
       "  }\n",
       "\n",
       "  Animation.prototype.last_frame = function()\n",
       "  {\n",
       "    this.set_frame(this.frames.length - 1);\n",
       "  }\n",
       "\n",
       "  Animation.prototype.slower = function()\n",
       "  {\n",
       "    this.interval /= 0.7;\n",
       "    if(this.direction > 0){this.play_animation();}\n",
       "    else if(this.direction < 0){this.reverse_animation();}\n",
       "  }\n",
       "\n",
       "  Animation.prototype.faster = function()\n",
       "  {\n",
       "    this.interval *= 0.7;\n",
       "    if(this.direction > 0){this.play_animation();}\n",
       "    else if(this.direction < 0){this.reverse_animation();}\n",
       "  }\n",
       "\n",
       "  Animation.prototype.anim_step_forward = function()\n",
       "  {\n",
       "    this.current_frame += 1;\n",
       "    if(this.current_frame < this.frames.length){\n",
       "      this.set_frame(this.current_frame);\n",
       "    }else{\n",
       "      var loop_state = this.get_loop_state();\n",
       "      if(loop_state == \"loop\"){\n",
       "        this.first_frame();\n",
       "      }else if(loop_state == \"reflect\"){\n",
       "        this.last_frame();\n",
       "        this.reverse_animation();\n",
       "      }else{\n",
       "        this.pause_animation();\n",
       "        this.last_frame();\n",
       "      }\n",
       "    }\n",
       "  }\n",
       "\n",
       "  Animation.prototype.anim_step_reverse = function()\n",
       "  {\n",
       "    this.current_frame -= 1;\n",
       "    if(this.current_frame >= 0){\n",
       "      this.set_frame(this.current_frame);\n",
       "    }else{\n",
       "      var loop_state = this.get_loop_state();\n",
       "      if(loop_state == \"loop\"){\n",
       "        this.last_frame();\n",
       "      }else if(loop_state == \"reflect\"){\n",
       "        this.first_frame();\n",
       "        this.play_animation();\n",
       "      }else{\n",
       "        this.pause_animation();\n",
       "        this.first_frame();\n",
       "      }\n",
       "    }\n",
       "  }\n",
       "\n",
       "  Animation.prototype.pause_animation = function()\n",
       "  {\n",
       "    this.direction = 0;\n",
       "    if (this.timer){\n",
       "      clearInterval(this.timer);\n",
       "      this.timer = null;\n",
       "    }\n",
       "  }\n",
       "\n",
       "  Animation.prototype.play_animation = function()\n",
       "  {\n",
       "    this.pause_animation();\n",
       "    this.direction = 1;\n",
       "    var t = this;\n",
       "    if (!this.timer) this.timer = setInterval(function() {\n",
       "        t.anim_step_forward();\n",
       "    }, this.interval);\n",
       "  }\n",
       "\n",
       "  Animation.prototype.reverse_animation = function()\n",
       "  {\n",
       "    this.pause_animation();\n",
       "    this.direction = -1;\n",
       "    var t = this;\n",
       "    if (!this.timer) this.timer = setInterval(function() {\n",
       "        t.anim_step_reverse();\n",
       "    }, this.interval);\n",
       "  }\n",
       "</script>\n",
       "\n",
       "<style>\n",
       ".animation {\n",
       "    display: inline-block;\n",
       "    text-align: center;\n",
       "}\n",
       "input[type=range].anim-slider {\n",
       "    width: 374px;\n",
       "    margin-left: auto;\n",
       "    margin-right: auto;\n",
       "}\n",
       ".anim-buttons {\n",
       "    margin: 8px 0px;\n",
       "}\n",
       ".anim-buttons button {\n",
       "    padding: 0;\n",
       "    width: 36px;\n",
       "}\n",
       ".anim-state label {\n",
       "    margin-right: 8px;\n",
       "}\n",
       ".anim-state input {\n",
       "    margin: 0;\n",
       "    vertical-align: middle;\n",
       "}\n",
       "</style>\n",
       "\n",
       "<div class=\"animation\">\n",
       "  <img id=\"_anim_img1350645ecf2f4e969c508bcb380a2895\">\n",
       "  <div class=\"anim-controls\">\n",
       "    <input id=\"_anim_slider1350645ecf2f4e969c508bcb380a2895\" type=\"range\" class=\"anim-slider\"\n",
       "           name=\"points\" min=\"0\" max=\"1\" step=\"1\" value=\"0\"\n",
       "           oninput=\"anim1350645ecf2f4e969c508bcb380a2895.set_frame(parseInt(this.value));\"></input>\n",
       "    <div class=\"anim-buttons\">\n",
       "      <button title=\"Decrease speed\" onclick=\"anim1350645ecf2f4e969c508bcb380a2895.slower()\">\n",
       "          <i class=\"fa fa-minus\"></i></button>\n",
       "      <button title=\"First frame\" onclick=\"anim1350645ecf2f4e969c508bcb380a2895.first_frame()\">\n",
       "        <i class=\"fa fa-fast-backward\"></i></button>\n",
       "      <button title=\"Previous frame\" onclick=\"anim1350645ecf2f4e969c508bcb380a2895.previous_frame()\">\n",
       "          <i class=\"fa fa-step-backward\"></i></button>\n",
       "      <button title=\"Play backwards\" onclick=\"anim1350645ecf2f4e969c508bcb380a2895.reverse_animation()\">\n",
       "          <i class=\"fa fa-play fa-flip-horizontal\"></i></button>\n",
       "      <button title=\"Pause\" onclick=\"anim1350645ecf2f4e969c508bcb380a2895.pause_animation()\">\n",
       "          <i class=\"fa fa-pause\"></i></button>\n",
       "      <button title=\"Play\" onclick=\"anim1350645ecf2f4e969c508bcb380a2895.play_animation()\">\n",
       "          <i class=\"fa fa-play\"></i></button>\n",
       "      <button title=\"Next frame\" onclick=\"anim1350645ecf2f4e969c508bcb380a2895.next_frame()\">\n",
       "          <i class=\"fa fa-step-forward\"></i></button>\n",
       "      <button title=\"Last frame\" onclick=\"anim1350645ecf2f4e969c508bcb380a2895.last_frame()\">\n",
       "          <i class=\"fa fa-fast-forward\"></i></button>\n",
       "      <button title=\"Increase speed\" onclick=\"anim1350645ecf2f4e969c508bcb380a2895.faster()\">\n",
       "          <i class=\"fa fa-plus\"></i></button>\n",
       "    </div>\n",
       "    <form title=\"Repetition mode\" action=\"#n\" name=\"_anim_loop_select1350645ecf2f4e969c508bcb380a2895\"\n",
       "          class=\"anim-state\">\n",
       "      <input type=\"radio\" name=\"state\" value=\"once\" id=\"_anim_radio1_1350645ecf2f4e969c508bcb380a2895\"\n",
       "             >\n",
       "      <label for=\"_anim_radio1_1350645ecf2f4e969c508bcb380a2895\">Once</label>\n",
       "      <input type=\"radio\" name=\"state\" value=\"loop\" id=\"_anim_radio2_1350645ecf2f4e969c508bcb380a2895\"\n",
       "             checked>\n",
       "      <label for=\"_anim_radio2_1350645ecf2f4e969c508bcb380a2895\">Loop</label>\n",
       "      <input type=\"radio\" name=\"state\" value=\"reflect\" id=\"_anim_radio3_1350645ecf2f4e969c508bcb380a2895\"\n",
       "             >\n",
       "      <label for=\"_anim_radio3_1350645ecf2f4e969c508bcb380a2895\">Reflect</label>\n",
       "    </form>\n",
       "  </div>\n",
       "</div>\n",
       "\n",
       "\n",
       "<script language=\"javascript\">\n",
       "  /* Instantiate the Animation class. */\n",
       "  /* The IDs given should match those used in the template above. */\n",
       "  (function() {\n",
       "    var img_id = \"_anim_img1350645ecf2f4e969c508bcb380a2895\";\n",
       "    var slider_id = \"_anim_slider1350645ecf2f4e969c508bcb380a2895\";\n",
       "    var loop_select_id = \"_anim_loop_select1350645ecf2f4e969c508bcb380a2895\";\n",
       "    var frames = new Array(8);\n",
       "    \n",
       "  frames[0] = \"data:image/png;base64,iVBORw0KGgoAAAANSUhEUgAAAbAAAAEgCAYAAADVKCZpAAAAOXRFWHRTb2Z0d2FyZQBNYXRwbG90\\\n",
       "bGliIHZlcnNpb24zLjMuMiwgaHR0cHM6Ly9tYXRwbG90bGliLm9yZy8vihELAAAACXBIWXMAAAsT\\\n",
       "AAALEwEAmpwYAAAP10lEQVR4nO3dX6hlZ3nH8e+vY0SJASdqwpA/jRXpTZCxHXKjlBRUUikkChFz\\\n",
       "NV5NLhqIdwZvjEJBitreCSkGp1C1gVQTQqkGUaI3MZMQTeL4J8g0jhkyyFTMXInm6cVeQ4/j2Ttz\\\n",
       "Ts5eaz37fD/DYu+9zt7rfddeZ/bvvO96zjqpKiRJ6ubPpu6AJEm7YYBJkloywCRJLRlgkqSWDDBJ\\\n",
       "UksGmCSpJQNMktSSASZJaskAkyS1ZIBJkloywCRJLRlgkqSWDDBJUksGmCSpJQNMktSSASZJaskA\\\n",
       "kyS1ZIBJkloywCRJLRlgkqSWDDBJUksGmCSpJQNMktSSASZJaskAkyS1ZIBJkloywCRJLRlgkqSW\\\n",
       "DDBJUksGmCSpJQNMktSSASZJaskAkyS1ZIDNUJJbkvw0yfNJ7pm6P5I0R6mqqfugLZIcAH4GvB84\\\n",
       "DTwB3FFVP17xGg+itGZVlan7oD/mCGx+bgKer6pfVNXvgK8Bt07cJ0maHQNsfq4Bfrnl8elhnSRp\\\n",
       "i9dN3QH9ie2mKf5kijDJMeDY+rsjSfNkgM3PaeC6LY+vBV68+ElVdR9wH3gOTNL+5BTi/DwBvDPJ\\\n",
       "25O8Hvgo8PDEfZL2VK1YpEvlCGxmqur3Se4CvgkcAO6vqucm7pYkzY5l9BvAKUR1s+obdq616pbR\\\n",
       "z49TiJKklgwwSVJLBpgkqSUDTJLUklWIkkZnNYT2giMwSVJLBpgkqSUDTJLUkgEmSWrJAJMktWQV\\\n",
       "oiRtsd1lro6M3gtdCkdgkqSWDDBJUksGmCSpJQNMktSSASZJaskAkyS1ZBm9JG3hhYb7cAQmSWrJ\\\n",
       "AJMktWSASZJaMsAkSS0ZYJKklqxCnKEkp4CXgT8Av68qryUq7aHtLth7gVWIfRhg8/W3VfXrqTsh\\\n",
       "SXPlFKIkqSUDbJ4K+FaSJ5Mcm7ozkjRHTiHO03uq6sUkVwGPJvlJVT229QlDsBlukvatVK06namp\\\n",
       "JbkXOF9Vn1vxHA+itAO7KeKoKus7ZsYpxJlJcnmSKy7cBz4APDttrxZqyaKdW/ZeznnZJFmxqA+n\\\n",
       "EOfnauDrSWBxfL5SVf89bZckaX6cQtwAY00hLmvEn1p3ruP/uv1+nJ1CnB+nECVJLRlgkqSWDDBJ\\\n",
       "UksGmCSpJasQdck26Qx2xyIKSX/MEZgkqSUDTJLUkgEmSWrJAJMktWSASZJasgpR7fnn4feupnL1\\\n",
       "+7U/3k314QhMktSSASZJaskAkyS1ZIBJkloywCRJLRlgkqSWLKPXrOz1RXZ3+lekx7vI71il79qp\\\n",
       "7Y7MkdF7oUvhCEyS1JIBJklqyQCTJLVkgEmSWjLAJEktWYU4kST3A38PnK2qG4d1VwL/AdwAnAI+\\\n",
       "UlX/O1Ufp7Cqom5vKwStAtzeZu3NbvgO9OEIbDpfBm65aN09wLer6p3At4fHkqRtGGATqarHgHMX\\\n",
       "rb4VOD7cPw7cNmafJKkTA2xerq6qMwDD7VUT90eSZstzYE0lOQYcm7ofkjQVR2Dz8lKSQwDD7dll\\\n",
       "T6yq+6rqSFV5lRtJ+5IBNi8PA0eH+0eBhybsiyTNWqrGu3yp/l+SrwI3A28FXgI+BXwDeAC4HngB\\\n",
       "uL2qLi702G5bszyIqzq1u1Ll7be4eue3bykjXra3l3GKyPf+e2P9qmquXdu3DLANYICtYoDtjAG2\\\n",
       "jAE2P04hSpJaMsAkSS0ZYJKklgwwSVJL/iKz1mbOZ7yrZXHHnN/RndmcPdGUHIFJkloywCRJLRlg\\\n",
       "kqSWDDBJUksGmCSpJQNsA/w1i0vzXLzsF1mx7FSRpcvuWln1up0ukrYywCRJLRlgkqSWDDBJUksG\\\n",
       "mCSpJQNMktSSASZJasmL+WqjLbs477KL+e7Gqm1Z/C6tjyMwSVJLBpgkqSUDTJLUkgEmSWrJAJMk\\\n",
       "tWSATSTJ/UnOJnl2y7p7k/wqydPD8sFL2daT9Lv0ay35t9peXuR2u8sfr25/56+QtE4G2HS+DNyy\\\n",
       "zfp/rqrDw/JfI/dJktowwCZSVY8B56buhyR1ZYDNz11JfjRMMR6cujOSNFcG2Lx8EXgHcBg4A3x+\\\n",
       "2ROTHEtyIsmJkfomSbOSKk9DTyXJDcAjVXXjTr62zXPbHcRlBRvZ5d9R3rtX7G35y9yLaXTpqsrD\\\n",
       "OTOOwGYkyaEtDz8EPLvsuZK033kx34kk+SpwM/DWJKeBTwE3JznMYoBwCrhzqv6t2+5GWsu3ttyy\\\n",
       "kd5Oni1pjpxC3AAdpxDHs7O3Zi+vUg9OIW4SpxDnxylESVJLBpgkqSUDTJLUkgEmSWrJKkRpi6wo\\\n",
       "+tjrAg9Jr40jMElSSwaYJKklA0yS1JIBJklqyQCTJLVkFaI23LRXPVzWivWM0mvnCEyS1JIBJklq\\\n",
       "yQCTJLVkgEmSWjLAJEktGWCSpJYso9+nLO/euWkL8jWW7Y7nkdF7oUvhCEyS1JIBJklqyQCTJLVk\\\n",
       "gEmSWjLAJEktGWATSXJdku8kOZnkuSR3D+uvTPJokp8PtwfX0v6SRavUkmW5Ze/zzreksWx3vJ6c\\\n",
       "tEdaJlX+t5lCkkPAoap6KskVLP6P3AZ8DDhXVZ9Ncg9wsKo+8Srb8iDu2N69ZbUi+ndaeu8PEfNV\\\n",
       "VR6emXEENpGqOlNVTw33XwZOAtcAtwLHh6cdZxFqkqSLGGAzkOQG4N3A48DVVXUGFiEHXDVh1yRp\\\n",
       "trwSx8SSvAl4EPh4Vf02ubRZiiTHgGPr7JskzZnnwCaU5DLgEeCbVfWFYd1PgZur6sxwnuy7VfWX\\\n",
       "r7IdD+KOeQ5MO+M5sPlxCnEiWQy1vgScvBBeg4eBo8P9o8BDY/dNkjpwBDaRJO8Fvgc8A7wyrP4k\\\n",
       "i/NgDwDXAy8At1fVuVfZlgdxz+zmrfQH8/3AEdj8GGAbwADbSwaYtmeAzY9TiJKklgwwSVJLBpgk\\\n",
       "qSUDTJLUkr/IrEnsZdXJXp5Z383vdEmahiMwSVJLBpgkqSUDTJLUkgEmSWrJAJMktWQVoiayd9dj\\\n",
       "H+s6Wl5BXpoXR2CSpJYMMElSSwaYJKklA0yS1JIBJklqyQCTJLVkGb0msbz0fHlR/PKvjFPIvps+\\\n",
       "j9G3aVuXpuMITJLUkgEmSWrJAJMktWSASZJaMsAkSS0ZYBNJcl2S7yQ5meS5JHcP6+9N8qskTw/L\\\n",
       "B6fu63pkybKbV9TEyyq7ec3OLHtfrEDUpkvVWNfy1lZJDgGHquqpJFcATwK3AR8BzlfV53awrQ06\\\n",
       "iDvflbF2fm8DwXjppqo8aDPj74FNpKrOAGeG+y8nOQlcM22vJKkPpxBnIMkNwLuBx4dVdyX5UZL7\\\n",
       "kxycrmeSNF8G2MSSvAl4EPh4Vf0W+CLwDuAwixHa55e87liSE0lOjNVXSZoTz4FNKMllwCPAN6vq\\\n",
       "C9t8/Qbgkaq68VW2s0EH0XNgmifPgc2PI7CJJAnwJeDk1vAaijsu+BDw7Nh9k6QOHIFNJMl7ge8B\\\n",
       "zwCvDKs/CdzBYvqwgFPAnUPBx6ptbdBB3KBdARxpbQ5HYPNjgG0AA2zO/MzbFAbY/DiFKElqyQCT\\\n",
       "JLVkgEmSWjLAJEkteSkpzcyq8+SbVuChqaz6TrJSow9HYJKklgwwSVJLBpgkqSUDTJLUkgEmSWrJ\\\n",
       "AJMktWQZvRpZVuA8dXm9hdfdeMQ2gyMwSVJLBpgkqSUDTJLUkgEmSWrJAJMktWQVojaANWXSfuQI\\\n",
       "TJLUkgEmSWrJAJMktWSASZJaMsAkSS0ZYBNJ8oYkP0jywyTPJfn0sP7KJI8m+flwe3DqvmpMtWKR\\\n",
       "tFWq/I8xhSQBLq+q80kuA74P3A18GDhXVZ9Ncg9wsKo+8Srb8iBujFWH0l8XmFJVeQBmxhHYRGrh\\\n",
       "/PDwsmEp4Fbg+LD+OHDb+L2TpPkzwCaU5ECSp4GzwKNV9ThwdVWdARhur5qwi5I0WwbYhKrqD1V1\\\n",
       "GLgWuCnJjZf62iTHkpxIcmJtHZSkGTPAZqCqfgN8F7gFeCnJIYDh9uyS19xXVUeq6shY/ZSkOTHA\\\n",
       "JpLkbUnePNx/I/A+4CfAw8DR4WlHgYcm6aAkzZxViBNJ8i4WRRoHWPwg8UBVfSbJW4AHgOuBF4Db\\\n",
       "q+rcq2zLg6htLfvG2E053V5uqyOrEOfHANsABpiWMcD2jgE2P04hSpJaMsAkSS0ZYJKklgwwSVJL\\\n",
       "r5u6A5LWZy+rDqxg0Nw4ApMktWSASZJaMsAkSS0ZYJKklgwwSVJLBpgkqSXL6KXmVl0Ic6el73u5\\\n",
       "LWndHIFJkloywCRJLRlgkqSWDDBJUksGmCSpJasQN8Ovgf8Z7r91eDwV2x+5/YuqA19T+3tQabip\\\n",
       "7/+fr2Gbeo1S5V+j3yRJTlTVEdu3fdvXpnMKUZLUkgEmSWrJANs899m+7du+9gPPgUmSWnIEJklq\\\n",
       "yQDbEEluSfLTJM8nuWeC9k8leSbJ00lOjNTm/UnOJnl2y7orkzya5OfD7cGR2783ya+G9+HpJB9c\\\n",
       "U9vXJflOkpNJnkty97B+lP1f0f5Y+/+GJD9I8sOh/U8P60c7/pqeU4gbIMkB4GfA+4HTwBPAHVX1\\\n",
       "4xH7cAo4UlWj/Q5Qkr8BzgP/VlU3Duv+CThXVZ8dgvxgVX1ixPbvBc5X1efW0eaWtg8Bh6rqqSRX\\\n",
       "AE8CtwEfY4T9X9H+Rxhn/wNcXlXnk1wGfB+4G/gwIx1/Tc8R2Ga4CXi+qn5RVb8DvgbcOnGf1q6q\\\n",
       "HgPOXbT6VuD4cP84iw/VMdsfRVWdqaqnhvsvAyeBaxhp/1e0P4paOD88vGxYihGPv6ZngG2Ga4Bf\\\n",
       "bnl8mhE/TAYFfCvJk0mOjdz2VldX1RlYfMgCV03Qh7uS/GiYYlz7FFaSG4B3A48zwf5f1D6MtP9J\\\n",
       "DiR5GjgLPFpVk+y/pmOAbYbtrgA09tzwe6rqr4C/A/5hmF7bj74IvAM4DJwBPr/OxpK8CXgQ+HhV\\\n",
       "/XadbV1i+6Ptf1X9oaoOA9cCNyW5cV1taZ4MsM1wGrhuy+NrgRfH7EBVvTjcngW+zmJacwovDedn\\\n",
       "LpynOTtm41X10vDB+grwr6zxfRjO/TwI/HtV/eewerT93679Mff/gqr6DfBd4BYmPv4alwG2GZ4A\\\n",
       "3pnk7UleD3wUeHisxpNcPpzIJ8nlwAeAZ1e/am0eBo4O948CD43Z+IUPz8GHWNP7MBQxfAk4WVVf\\\n",
       "2PKlUfZ/Wfsj7v/bkrx5uP9G4H3AT5j4+GtcViFuiKFc+V+AA8D9VfWPI7b9FyxGXbD4CwdfGaP9\\\n",
       "JF8FbmZxBfKXgE8B3wAeAK4HXgBur6q1FFosaf9mFtNnBZwC7rxwTmaP234v8D3gGeCVYfUnWZyH\\\n",
       "Wvv+r2j/DsbZ/3exKNI4wOIH8Qeq6jNJ3sJIx1/TM8AkSS05hShJaskAkyS1ZIBJkloywCRJLRlg\\\n",
       "kqSWDDBJUksGmCSpJQNMktSSASZJaskAkyS1ZIBJkloywCRJLRlgkqSWDDBJUksGmCSpJQNMktSS\\\n",
       "ASZJaskAkyS1ZIBJkloywCRJLf0f8LG5A1BWWswAAAAASUVORK5CYII=\\\n",
       "\"\n",
       "  frames[1] = \"data:image/png;base64,iVBORw0KGgoAAAANSUhEUgAAAbAAAAEgCAYAAADVKCZpAAAAOXRFWHRTb2Z0d2FyZQBNYXRwbG90\\\n",
       "bGliIHZlcnNpb24zLjMuMiwgaHR0cHM6Ly9tYXRwbG90bGliLm9yZy8vihELAAAACXBIWXMAAAsT\\\n",
       "AAALEwEAmpwYAAAP80lEQVR4nO3dX8hcd53H8fdn04pSC6ZqS+ifrSuyN0XiGnqjLF1Q6XrTKlTs\\\n",
       "VbyKF1uod5beWIUFWdTdO6GLxSysSqGrLWVZDaJUb2rTUm1q1Bbp1rShWQlicyXa717MCTzG50z6\\\n",
       "pM/MOd953q9wmJmTmfn9zjnJfJ7f73yfM6kqJEnq5q+m7oAkSZfCAJMktWSASZJaMsAkSS0ZYJKk\\\n",
       "lgwwSVJLBpgkqSUDTJLUkgEmSWrJAJMktWSASZJaMsAkSS0ZYJKklgwwSVJLBpgkqSUDTJLUkgEm\\\n",
       "SWrJAJMktWSASZJaMsAkSS0ZYJKklgwwSVJLBpgkqSUDTJLUkgEmSWrJAJMktWSASZJaMsAkSS0Z\\\n",
       "YJKklgwwSVJLBpgkqSUDTJLUkgEmSWrJAJuhJLcm+WWS55PcM3V/JGmOUlVT90FbJNkH/Ar4MHAK\\\n",
       "eAK4s6p+vuQ1HkRpxaoqU/dBf84R2PzcDDxfVb+uqj8A3wJum7hPkjQ7Btj8XAv8ZsvjU8M6SdIW\\\n",
       "l03dAf2F7aYp/mKKMMkR4MjquyNJ82SAzc8p4Potj68DXr7wSVV1P3A/eA5M0t7kFOL8PAG8J8m7\\\n",
       "krwJ+CTwyMR9kqTZcQQ2M1X1xyR3Ad8F9gEPVNWzE3dLkmbHMvoN4BSitHqW0c+PU4iSpJYMMElS\\\n",
       "SwaYJKklA0yS1JIBJklqyQCTJLVkgEmSWjLAJEktGWCSpJYMMElSS14LUZrA2LW/vFaR9Po5ApMk\\\n",
       "tWSASZJaMsAkSS0ZYJKklgwwSVJLBpgkqSXL6KUJWC4vvXGOwCRJLRlgkqSWDDBJUksGmCSpJQNM\\\n",
       "ktSSVYgzlOQF4FXgT8Afq+rQtD2SpPkxwObrH6rqt1N3QpLmyilESVJLBtg8FfC9JE8mOTJ1ZyRp\\\n",
       "jpxCnKcPVNXLSa4GjiX5RVU9tvUJQ7AZbpL2rFSNfTes5iDJfcC5qvrSkud4EKUVqyqvADYzTiHO\\\n",
       "TJIrklx5/j7wEeDEtL2SpPlxCnF+rgG+nQQWx+cbVfU/03ZJkubHKcQN4BSitHpOIc6PU4iSpJYM\\\n",
       "MElSSwaYJKklA0yS1JJViFITY5U6yyoLdlrdY5WCOnEEJklqyQCTJLVkgEmSWjLAJEktGWCSpJas\\\n",
       "QtxgyyrQ9nq12aVce+tS9tk6rvG1m234b0adOAKTJLVkgEmSWjLAJEktGWCSpJYMMElSSwaYJKkl\\\n",
       "y+g32KaVPa+r9H0325e0Oo7AJEktGWCSpJYMMElSSwaYJKklA0yS1JIBNpEkDyQ5k+TElnVXJTmW\\\n",
       "5Lnhdv+UfewiSxaNqUtYpHkxwKbzdeDWC9bdA3y/qt4DfH94LEnahgE2kap6DDh7werbgKPD/aPA\\\n",
       "7evskyR1YoDNyzVVdRpguL164v5I0mx5JY6mkhwBjkzdD0maiiOweXklyQGA4fbM2BOr6v6qOlRV\\\n",
       "h9bWO0maEQNsXh4BDg/3DwMPT9gXSZq1VFkeO4Uk3wRuAd4BvAJ8DvgO8CBwA/AicEdVXVjosd17\\\n",
       "7YmDuFkbObY1y4r/p90D2eO/mFBVe3sHzJABtgEMsI4MsG4MsPlxClGS1JIBJklqyQCTJLVkgEmS\\\n",
       "WvIXmaU/s6xQYuwc/m4WV+xuocbuVh1cSuGJtDqOwCRJLRlgkqSWDDBJUksGmCSpJQNMktSSVYjS\\\n",
       "67Z7FYLW7UlvnCMwSVJLBpgkqSUDTJLUkgEmSWrJAJMktWSASZJasoxejezexWR387K8e6ckfu9s\\\n",
       "qXpwBCZJaskAkyS1ZIBJkloywCRJLRlgkqSWDLCJJHkgyZkkJ7asuy/JS0meHpaPTtnHucnIsqgd\\\n",
       "3H4Ze83YK7L0z1j7czbW60tZNsf4vxh1YoBN5+vArdus/9eqOjgs/73mPklSGwbYRKrqMeDs1P2Q\\\n",
       "pK4MsPm5K8nPhinG/VN3RpLmygCbl68C7wYOAqeBL489McmRJMeTHF9T3yRpVlLlacupJLkReLSq\\\n",
       "btrJ323z3D1yELffzGUbn5Hig0u7KFXH3bxZxRe7Zfm/mZHXVLkzZ8YR2IwkObDl4ceAE2PPlaS9\\\n",
       "zov5TiTJN4FbgHckOQV8DrglyUEWPyC+AHx6qv7N025egndsNDf+Q/bYaG5ddu9SxnKfbQanEDfA\\\n",
       "3plC3F4tCbDxKcSdx8HUH3oG2LScQpwfpxAlSS0ZYJKklgwwSVJLBpgkqSUDbAO8Hy9KOqZG/oxf\\\n",
       "rne+Nv8Su9LOGGCSpJYMMElSSwaYJKklA0yS1JIBJklqyUtJbYC9fimpZZZdZmp7O6/rsxJwb/BS\\\n",
       "UvPjCEyS1JIBJklqyQCTJLVkgEmSWjLAJEktGWCSpJYum7oD0iqN1T1fyrcbj5Xk14y/xVnbW/bL\\\n",
       "FR6zPhyBSZJaMsAkSS0ZYJKklgwwSVJLBpgkqSUDbCJJrk/ygyQnkzyb5O5h/VVJjiV5brjdP3Vf\\\n",
       "e8u2y/ZrF5WGY3/G1egy9jea1tjxtwKxF69GP5EkB4ADVfVUkiuBJ4HbgU8BZ6vqi0nuAfZX1Wcv\\\n",
       "8l4exB0bK4nfbdt/JPpB2Y9Xo58fR2ATqarTVfXUcP9V4CRwLXAbcHR42lEWoSZJuoABNgNJbgTe\\\n",
       "BzwOXFNVp2ERcsDVE3ZNkmbLK3FMLMlbgYeAz1TV75PXN0uR5AhwZJV9k6Q58xzYhJJcDjwKfLeq\\\n",
       "vjKs+yVwS1WdHs6T/bCq/vYi7+NB3DHPgWlnPAc2P04hTiSLodbXgJPnw2vwCHB4uH8YeHjdfZOk\\\n",
       "DhyBTSTJB4EfAc8Arw2r72VxHuxB4AbgReCOqjq77L0OJXV8uzZ2r7sbZ3lZ/PYyskeXv9fOjoLH\\\n",
       "bL4cgc2PAbYBDLCdM8C0UwbY/DiFKElqyQCTJLVkgEmSWjLAJEktWcSxAfw9sPUY38m7VxCi+bKI\\\n",
       "Y34cgUmSWjLAJEktGWCSpJYMMElSSwaYJKklv05Fs7J7F2Xa/fbHLK8otEBUWhVHYJKklgwwSVJL\\\n",
       "BpgkqSUDTJLUkgEmSWrJAJMktWSAbYD3syjWvnCZs+36e7E+7+ZrLuW9LqWNnb9K0utlgEmSWjLA\\\n",
       "JEktGWCSpJYMMElSSwaYJKklA2wiSa5P8oMkJ5M8m+TuYf19SV5K8vSwfPRi7/UkiwvdXrjM2+5V\\\n",
       "4e12VWHHHkh7Uar8TzaFJAeAA1X1VJIrWeTQ7cAngHNV9aUdvFe7g1ijH+7zj96/NL77d741Hbd/\\\n",
       "b6gqD87M+HUqE6mq08Dp4f6rSU4C107bK0nqwynEGUhyI/A+4PFh1V1JfpbkgST7p+uZJM2XATax\\\n",
       "JG8FHgI+U1W/B74KvBs4yGKE9uWR1x1JcjzJ8XX1VZLmxHNgE0pyOfAo8N2q+so2f38j8GhV3XSR\\\n",
       "92l3ED0Htnuv0Hp4Dmx+HIFNJEmArwEnt4bXUNxx3seAE+vumyR14AhsIkk+CPwIeAZ4bVh9L3An\\\n",
       "i+nDAl4APj0UfCx7r3YHcXwEtsxcfwDe2yOwZUey39aMcwQ2PwbYBjDApmaAjem3NeMMsPlxClGS\\\n",
       "1JIBJklqyQCTJLVkgEmSWvJSUppERk/vj5cEXFrhx3gPdtr+euyVkgjpjXMEJklqyQCTJLVkgEmS\\\n",
       "WjLAJEktGWCSpJYMMElSS5bRq43dLXyfulx+TL9S+X491qZwBCZJaskAkyS1ZIBJkloywCRJLRlg\\\n",
       "kqSWrELUzFzKdxjPtaJQ0io5ApMktWSASZJaMsAkSS0ZYJKklgwwSVJLBthEkrw5yU+S/DTJs0k+\\\n",
       "P6y/KsmxJM8Nt/un7uv8ZcmyvRpZpjfWs3n0TpqTVPkfYwpJAlxRVeeSXA78GLgb+Dhwtqq+mOQe\\\n",
       "YH9VffYi7+VBHLX9rhnbYfO+MO28e7fpqsoDMDOOwCZSC+eGh5cPSwG3AUeH9UeB29ffO0maPwNs\\\n",
       "Qkn2JXkaOAMcq6rHgWuq6jTAcHv1hF2UpNkywCZUVX+qqoPAdcDNSW56va9NciTJ8STHV9ZBSZox\\\n",
       "A2wGqup3wA+BW4FXkhwAGG7PjLzm/qo6VFWH1tVPSZoTA2wiSd6Z5G3D/bcAHwJ+ATwCHB6edhh4\\\n",
       "eJIOStLMWYU4kSTvZVGksY/FDxIPVtUXkrwdeBC4AXgRuKOqzl7kvTyIu+ZSdqXFaXuBVYjzY4Bt\\\n",
       "AANsNxlg2p4BNj9OIUqSWjLAJEktGWCSpJYMMElSS5dN3QFpXuZ7nr7n9Rul1XEEJklqyQCTJLVk\\\n",
       "gEmSWjLAJEktGWCSpJYMMElSSwbYBng/ixLrCxdtlows0l5lgEmSWjLAJEktGWCSpJYMMElSSwaY\\\n",
       "JKklv5F5AyT5P+B/h4fvAH47YXds3/Y3sf2/rqp3ruB99QYYYBsmyfGqOmT7tm/72nROIUqSWjLA\\\n",
       "JEktGWCb537bt33b117gOTBJUkuOwCRJLRlgGyLJrUl+meT5JPdM0P4LSZ5J8nSS42tq84EkZ5Kc\\\n",
       "2LLuqiTHkjw33O5fc/v3JXlp2A9PJ/noitq+PskPkpxM8mySu4f1a9n+Je2va/vfnOQnSX46tP/5\\\n",
       "Yf3ajr+m5xTiBkiyD/gV8GHgFPAEcGdV/XyNfXgBOFRVa/sdoCR/D5wD/qOqbhrW/Qtwtqq+OAT5\\\n",
       "/qr67Brbvw84V1VfWkWbW9o+AByoqqeSXAk8CdwOfIo1bP+S9j/BerY/wBVVdS7J5cCPgbuBj7Om\\\n",
       "46/pOQLbDDcDz1fVr6vqD8C3gNsm7tPKVdVjwNkLVt8GHB3uH2XxobrO9teiqk5X1VPD/VeBk8C1\\\n",
       "rGn7l7S/FrVwbnh4+bAUazz+mp4BthmuBX6z5fEp1vhhMijge0meTHJkzW1vdU1VnYbFhyxw9QR9\\\n",
       "uCvJz4YpxpVPYSW5EXgf8DgTbP8F7cOatj/JviRPA2eAY1U1yfZrOgbYZtjuew3XPTf8gar6O+Af\\\n",
       "gX8aptf2oq8C7wYOAqeBL6+ysSRvBR4CPlNVv19lW6+z/bVtf1X9qaoOAtcBNye5aVVtaZ4MsM1w\\\n",
       "Crh+y+PrgJfX2YGqenm4PQN8m8W05hReGc7PnD9Pc2adjVfVK8MH62vAv7PC/TCc+3kI+M+q+q9h\\\n",
       "9dq2f7v217n951XV74AfArcy8fHXehlgm+EJ4D1J3pXkTcAngUfW1XiSK4YT+SS5AvgIcGL5q1bm\\\n",
       "EeDwcP8w8PA6Gz//4Tn4GCvaD0MRw9eAk1X1lS1/tZbtH2t/jdv/ziRvG+6/BfgQ8AsmPv5aL6sQ\\\n",
       "N8RQrvxvwD7ggar65zW2/TcsRl0AlwHfWEf7Sb4J3MLiCuSvAJ8DvgM8CNwAvAjcUVUrKbQYaf8W\\\n",
       "FtNnBbwAfPr8OZldbvuDwI+AZ4DXhtX3sjgPtfLtX9L+naxn+9/LokhjH4sfxB+sqi8keTtrOv6a\\\n",
       "ngEmSWrJKURJUksGmCSpJQNMktSSASZJaskAkyS1ZIBJkloywCRJLRlgkqSWDDBJUksGmCSpJQNM\\\n",
       "ktSSASZJaskAkyS1ZIBJkloywCRJLRlgkqSWDDBJUksGmCSpJQNMktSSASZJaun/AUiD1ubXc2Ly\\\n",
       "AAAAAElFTkSuQmCC\\\n",
       "\"\n",
       "  frames[2] = \"data:image/png;base64,iVBORw0KGgoAAAANSUhEUgAAAbAAAAEgCAYAAADVKCZpAAAAOXRFWHRTb2Z0d2FyZQBNYXRwbG90\\\n",
       "bGliIHZlcnNpb24zLjMuMiwgaHR0cHM6Ly9tYXRwbG90bGliLm9yZy8vihELAAAACXBIWXMAAAsT\\\n",
       "AAALEwEAmpwYAAAPeUlEQVR4nO3dT4hlZ5kH4N87bQYlBmz/JDT5M3FEZhMkDiEbZciASsZNohAx\\\n",
       "q3bVLiYQdwY3RmFABnVmJ2Qw2AOjEshoQhhGgyjRTUwnRJPYaoJkYkyTRhoxvRLNO4s6gTL2rU5V\\\n",
       "qu453+3ngcO999Q99/vOOUX96vvOW6equwMAo/mruTsAAHshwAAYkgADYEgCDIAhCTAAhiTAABiS\\\n",
       "AANgSAIMgCEJMACGJMAAGJIAA2BIAgyAIQkwAIYkwAAYkgADYEgCDIAhCTAAhiTAABiSAANgSAIM\\\n",
       "gCEJMACGJMAAGJIAA2BIAgyAIQkwAIYkwAAYkgADYEgCDIAhCTAAhiTAABiSAANgSAIMgCEJMACG\\\n",
       "JMAWqKpurKpfVNUzVXXH3P0BWKLq7rn7wDZVdSjJL5N8MMnzSR5Jcmt3/2yHbZxEOGDdXXP3gT9n\\\n",
       "BLY81yd5prt/1d1/SPLNJDfN3CeAxRFgy3N5kl9ve/38tA6Abd4wdwf4C+eapviLKcKqOpbk2MF3\\\n",
       "B2CZBNjyPJ/kym2vr0jywqvf1N13JbkrcQ0MuDCZQlyeR5K8u6reWVV/neTjSe6fuU8Ai2MEtjDd\\\n",
       "/cequi3Jd5IcSnJ3dz81c7cAFkcZ/QYwhQgHTxn98phCBGBIAgyAIQkwAIYkwAAYkgADYEgCDIAh\\\n",
       "CTAAhiTAABiSAANgSAIMgCG5FyIcoFX3+HJPInj9jMAAGJIAA2BIAgyAIQkwAIYkwAAYkgADYEjK\\\n",
       "6OEAKZeHg2MEBsCQBBgAQxJgAAxJgAEwJAEGwJBUIS5QVT2b5KUkf0ryx+6+bt4eASyPAFuuf+zu\\\n",
       "387dCYClMoUIwJAE2DJ1ku9W1aNVdWzuzgAskSnEZXpfd79QVZcmebCqft7dD21/wxRswg24YFX3\\\n",
       "qv8ZyxJU1Z1Jznb3F3d4j5MIB6y73RlsYUwhLkxVXVxVl7zyPMmHkjw5b69ItuZ1z7UA8zCFuDyX\\\n",
       "JflWVSVb5+fr3f2/83YJYHlMIW4AU4jrseogm1e6MJhCXB5TiAAMSYABMCQBBsCQBBgAQ1KFCK+R\\\n",
       "K/iwLEZgAAxJgAEwJAEGwJAEGABDEmAADEkVIsNwKydgOyMwAIYkwAAYkgADYEgCDIAhCTAAhiTA\\\n",
       "ABiSMnqGoVwe2M4IDIAhCTAAhiTAABiSAANgSAIMgCEJsJlU1d1Vdbqqnty27q1V9WBVPT09Hp6z\\\n",
       "jxycXrEAr50Am8/Xktz4qnV3JPled787yfem1wCcgwCbSXc/lOTMq1bflOT49Px4kpvX2SeAkQiw\\\n",
       "Zbmsu08lyfR46cz9AVgsd+IYVFUdS3Js7n4AzMUIbFlerKojSTI9nl71xu6+q7uv6+7r1tY7gAUR\\\n",
       "YMtyf5Kj0/OjSe6bsS8Ai1bdinfnUFXfSHJDkrcneTHJZ5N8O8k9Sa5K8lySW7r71YUe5/qsC/ok\\\n",
       "7rTzS70B8Ko+79TfvWyzv/bybbbUM7B73b05O7MhBNgGEGCrLfUnjgAbjwBbHlOIAAxJgAEwJAEG\\\n",
       "wJAEGABD8ofMXJDmLojYSzvr6dt+1wPNfaTZZEZgAAxJgAEwJAEGwJAEGABDEmAADEkVIsNbV0Xf\\\n",
       "/DdS2n1FX6/YplZus5ebWe1EtSEHxwgMgCEJMACGJMAAGJIAA2BIAgyAIQkwAIakjJ6Ntlm3kt19\\\n",
       "r/d3P8c8aucy4n/x5i8ZgQEwJAEGwJAEGABDEmAADEmAATAkATaTqrq7qk5X1ZPb1t1ZVb+pqsen\\\n",
       "5cNz9nEUvcOy+61WqxXL/trb3qy2nl6PZtVRcWTGIsDm87UkN55j/b9197XT8j9r7hPAMATYTLr7\\\n",
       "oSRn5u4HwKgE2PLcVlU/naYYD8/dGYClEmDL8pUk70pybZJTSb606o1VdayqTlTViTX1DWBRqnuv\\\n",
       "F4d5varq6iQPdPc1u/naOd57QZ/Evf2f4P27ydT+3pbITY6WqrudgIUxAluQqjqy7eVHkjy56r0A\\\n",
       "Fzo3851JVX0jyQ1J3l5Vzyf5bJIbqurabP0a/myST87Vv93YrBvm7n4E5Ia5MA9TiBtg7inEuQNs\\\n",
       "f6cQd96KC5cpxOUxhQjAkAQYAEMSYAAMSYABMCRViLxuc1/Z3qn9VaUavbKicKfijrnLVYDtjMAA\\\n",
       "GJIAA2BIAgyAIQkwAIYkwAAYkipE2GZv94LfvzvIuxf97jlmFy4jMACGJMAAGJIAA2BIAgyAIQkw\\\n",
       "AIYkwAAYkjJ6NtqqMurVpdd7uTXw/lH2vXuO2YXLCAyAIQkwAIYkwAAYkgADYEgCDIAhCbCZVNWV\\\n",
       "VfX9qjpZVU9V1e3T+rdW1YNV9fT0eHjuvq5T77DMrVPnXM631TL3Zrl2+h5wJNmuun0LzKGqjiQ5\\\n",
       "0t2PVdUlSR5NcnOSTyQ5091fqKo7khzu7k+f57M25iSu687i+3nAak+fpvh7ld0ezXUdye520hbG\\\n",
       "CGwm3X2qux+bnr+U5GSSy5PclOT49Lbj2Qo1AF5FgC1AVV2d5L1JHk5yWXefSrZCLsmlM3YNYLHc\\\n",
       "iWNmVfXmJPcm+VR3/77qtc1SVNWxJMcOsm8AS+Ya2Iyq6qIkDyT5Tnd/eVr3iyQ3dPep6TrZD7r7\\\n",
       "787zORtzEl0DwzUwXitTiDOpraHWV5OcfCW8JvcnOTo9P5rkvnX3DWAERmAzqar3J/lhkieSvDyt\\\n",
       "/ky2roPdk+SqJM8luaW7z5zns5zEfbK3sdT+judYJiOw5RFgG0CA7R8BxioCbHlMIQIwJAEGwJAE\\\n",
       "GABDEmAADMkfMjO8df3t2Or2V7eyvwUewHZGYAAMSYABMCQBBsCQBBgAQxJgAAxJFSLD289Kw50+\\\n",
       "az31hHPXVG6WVUfTkdwMRmAADEmAATAkAQbAkAQYAEMSYAAMSYABMCRl9HCAlHHPy3HebEZgAAxJ\\\n",
       "gAEwJAEGwJAEGABDEmAADEmAzaSqrqyq71fVyap6qqpun9bfWVW/qarHp+XDc/eVLbViOYitgPOr\\\n",
       "7vXcY5s/V1VHkhzp7seq6pIkjya5OcnHkpzt7i/u4rOcxBnt5eDXHrdiPt3tBCyMvwObSXefSnJq\\\n",
       "ev5SVZ1Mcvm8vQIYhynEBaiqq5O8N8nD06rbquqnVXV3VR2er2cAyyXAZlZVb05yb5JPdffvk3wl\\\n",
       "ybuSXJutEdqXVmx3rKpOVNWJdfUVYElcA5tRVV2U5IEk3+nuL5/j61cneaC7rznP5ziJM3IN7MLg\\\n",
       "GtjyGIHNpKoqyVeTnNweXlNxxys+kuTJdfcNYARGYDOpqvcn+WGSJ5K8PK3+TJJbszV92EmeTfLJ\\\n",
       "qeBjp8/amJO4047M/evvfh5kI7DxGIEtjwDbAAJsPQTYhU2ALY8pRACGJMAAGJIAA2BIAgyAIbmV\\\n",
       "FMNYVfawn1fW97saxlX/3VvHeWYzGIEBMCQBBsCQBBgAQxJgAAxJgAEwJAEGwJCU0bMoO5VKryqv\\\n",
       "3vn+ibsryt5LqfbG3IhyIZTL81oZgQEwJAEGwJAEGABDEmAADEmAATAkVYgMY1V12k5VgL2P1Yar\\\n",
       "qJqDeRiBATAkAQbAkAQYAEMSYAAMSYABMCQBNpOqemNV/biqflJVT1XV56b1b62qB6vq6enx8Nx9\\\n",
       "XbraYVmlVyz7b3ctdWrlAvy56nYr0jlUVSW5uLvPVtVFSX6U5PYkH01ypru/UFV3JDnc3Z8+z2c5\\\n",
       "iSvs9sDsf0zsrgc7BZUIm1d3OwULYwQ2k95ydnp50bR0kpuSHJ/WH09y8/p7B7B8AmxGVXWoqh5P\\\n",
       "cjrJg939cJLLuvtUkkyPl87YRYDFEmAz6u4/dfe1Sa5Icn1VXfNat62qY1V1oqpOHFgHARZMgC1A\\\n",
       "d/8uyQ+S3Jjkxao6kiTT4+kV29zV3dd193Xr6ifAkgiwmVTVO6rqLdPzNyX5QJKfJ7k/ydHpbUeT\\\n",
       "3DdLBwEWThXiTKrqPdkq0jiUrV8k7unuz1fV25Lck+SqJM8luaW7z5zns5xEOGCqEJdHgG0AAQYH\\\n",
       "T4AtjylEAIYkwAAYkgADYEgCDIAhCTAAhiTAABiSAANgSAIMgCEJMACGJMAAGJIAA2BIAgyAIQkw\\\n",
       "AIYkwAAYkgADYEgCDIAhCTAAhvSGuTvAvvhtkv+bnr99ej0X7Wt/E9v/mwP4TF6n6vbf6DdJVZ3o\\\n",
       "7uu0r33ts+lMIQIwJAEGwJAE2Oa5S/va1z4XAtfAABiSERgAQxJgG6KqbqyqX1TVM1V1xwztP1tV\\\n",
       "T1TV41V1Yk1t3l1Vp6vqyW3r3lpVD1bV09Pj4TW3f2dV/WY6Do9X1YcPqO0rq+r7VXWyqp6qqtun\\\n",
       "9WvZ/x3aX9f+v7GqflxVP5na/9y0fm3nn/mZQtwAVXUoyS+TfDDJ80keSXJrd/9sjX14Nsl13b22\\\n",
       "vwGqqn9IcjbJf3b3NdO6f01ypru/MAX54e7+9BrbvzPJ2e7+4kG0ua3tI0mOdPdjVXVJkkeT3Jzk\\\n",
       "E1nD/u/Q/seynv2vJBd399mquijJj5LcnuSjWdP5Z35GYJvh+iTPdPevuvsPSb6Z5KaZ+3Tguvuh\\\n",
       "JGdetfqmJMen58ez9UN1ne2vRXef6u7HpucvJTmZ5PKsaf93aH8tesvZ6eVF09JZ4/lnfgJsM1ye\\\n",
       "5NfbXj+fNf4wmXSS71bVo1V1bM1tb3dZd59Ktn7IJrl0hj7cVlU/naYYD3wKq6quTvLeJA9nhv1/\\\n",
       "VfvJmva/qg5V1eNJTid5sLtn2X/mI8A2Q51j3brnht/X3X+f5J+S/PM0vXYh+kqSdyW5NsmpJF86\\\n",
       "yMaq6s1J7k3yqe7+/UG29RrbX9v+d/efuvvaJFckub6qrjmotlgmAbYZnk9y5bbXVyR5YZ0d6O4X\\\n",
       "psfTSb6VrWnNObw4XZ955TrN6XU23t0vTj9YX07yHznA4zBd+7k3yX91939Pq9e2/+dqf537/4ru\\\n",
       "/l2SHyS5MTOff9ZLgG2GR5K8u6reWVV/neTjSe5fV+NVdfF0IT9VdXGSDyV5cuetDsz9SY5Oz48m\\\n",
       "uW+djb/yw3PykRzQcZiKGL6a5GR3f3nbl9ay/6vaX+P+v6Oq3jI9f1OSDyT5eWY+/6yXKsQNMZUr\\\n",
       "/3uSQ0nu7u5/WWPbf5utUVey9R8Ovr6O9qvqG0luyNYdyF9M8tkk305yT5KrkjyX5JbuPpBCixXt\\\n",
       "35Ct6bNO8myST75yTWaf235/kh8meSLJy9Pqz2TrOtSB7/8O7d+a9ez/e7JVpHEoW7+I39Pdn6+q\\\n",
       "t2VN55/5CTAAhmQKEYAhCTAAhiTAABiSAANgSAIMgCEJMACGJMAAGJIAA2BIAgyAIQkwAIYkwAAY\\\n",
       "kgADYEgCDIAhCTAAhiTAABiSAANgSAIMgCEJMACGJMAAGJIAA2BI/w/VGm2d9tQNWQAAAABJRU5E\\\n",
       "rkJggg==\\\n",
       "\"\n",
       "  frames[3] = \"data:image/png;base64,iVBORw0KGgoAAAANSUhEUgAAAbAAAAEgCAYAAADVKCZpAAAAOXRFWHRTb2Z0d2FyZQBNYXRwbG90\\\n",
       "bGliIHZlcnNpb24zLjMuMiwgaHR0cHM6Ly9tYXRwbG90bGliLm9yZy8vihELAAAACXBIWXMAAAsT\\\n",
       "AAALEwEAmpwYAAAPgklEQVR4nO3dX6hlZ3nH8e+vY4oSA07UhCF/GiuhN0HGdsiNoaSgknqTKERM\\\n",
       "b8ar8cJAcmfIjVEohBJt7wIpBqdQlUCqCaFUB0mI3sRMQkwmjjFBpnGSIUMYxMxV0Ty9OGvocTz7\\\n",
       "zJzTfdZazz7fDyz23mv2Xu+71ppzfud913PWSVUhSVI3fzZ1ByRJ2g4DTJLUkgEmSWrJAJMktWSA\\\n",
       "SZJaMsAkSS0ZYJKklgwwSVJLBpgkqSUDTJLUkgEmSWrJAJMktWSASZJaMsAkSS0ZYJKklgwwSVJL\\\n",
       "BpgkqSUDTJLUkgEmSWrJAJMktWSASZJaMsAkSS0ZYJKklgwwSVJLBpgkqSUDTJLUkgEmSWrJAJMk\\\n",
       "tWSASZJaMsAkSS0ZYJKklgwwSVJLBpgkqSUDbIaS3JLklSSvJbln6v5I0hylqqbug9ZJsgf4FfAp\\\n",
       "4CTwLHBHVf1ik894EjVLf7Ng/XOj9mJrNurzCeDtqozcFV3Ae6bugP7EjcBrVfVrgCTfA24FFgaY\\\n",
       "NFdHF6yfcxJs1OcDo/dCF8MpxPm5CvjNutcnh3WSpHUcgc3PRj+c/skUYZJDwKGd744kzZMBNj8n\\\n",
       "gWvWvb4aePP8N1XVQ8BD4DUwSbuTATY/zwLXJ/kI8AbwBeAfpu2StD1zvta1SMc+71YG2MxU1e+T\\\n",
       "3An8ENgDPFxVL0/cLUmaHcvoV4BTiNLOK8voZ8cqRElSSwaYJKklA0yS1JIBJklqyQCTJLVkgEmS\\\n",
       "WjLAJEktGWCSpJYMMElSSwaYJKkl74UoaWUtusea94RaDY7AJEktGWCSpJYMMElSSwaYJKklA0yS\\\n",
       "1JIBJklqyTJ6SSvLcvnV5ghMktSSASZJaskAkyS1ZIBJkloywCRJLVmFOENJTgDvAH8Afl9VB6bt\\\n",
       "kVaPt7lVfwbYfP1dVb09dSckaa6cQpQktWSAzVMBP0ryXJJDU3dGkubIKcR5+kRVvZnkCuBIkl9W\\\n",
       "1dPr3zAEm+EmaddK1aKLuZqDJPcBZ6vqgU3e40nUFlnEsVVV5cGZGacQZybJpUkuO/cc+DRwbNpe\\\n",
       "afVkwSL14RTi/FwJfD8JrJ2f71TVf03bJUmaH6cQV4BTiNLOcwpxfpxClCS1ZIBJkloywCRJLRlg\\\n",
       "kqSWrEKUdqU51/1YK6GL4whMktSSASZJaskAkyS1ZIBJkloywCRJLVmFKF2k5d6/fc5VgFIPjsAk\\\n",
       "SS0ZYJKklgwwSVJLBpgkqSUDTJLUkgEmSWrJMnrpIu32W8wus/B/tx9LLYcjMElSSwaYJKklA0yS\\\n",
       "1JIBJklqyQCTJLVkgE0kycNJTic5tm7d5UmOJHl1eNw7ZR93p9rGsp3tjWM7ezNOj7PJIl0cA2w6\\\n",
       "3wZuOW/dPcCPq+p64MfDa0nSBgywiVTV08CZ81bfChwenh8GbhuzT5LUiQE2L1dW1SmA4fGKifsj\\\n",
       "SbPlnTiaSnIIODR1PyRpKo7A5uWtJPsAhsfTi95YVQ9V1YGqOjBa7yRpRgyweXkcODg8Pwg8NmFf\\\n",
       "JGnWUjVeSa/+T5LvAjcDHwLeAr4K/AB4BLgWeB24varOL/TYaFujnMRFjaxW4fN2DuVmR2Br29st\\\n",
       "X41p+L+mqvp1esUZYCvAAFsmA2wMBpiWwSlESVJLBpgkqSUDTJLUkgEmSWrJX2TWRdsNV7A3K6JY\\\n",
       "vP+LP1ULPzXXco3tnOW57otWnSMwSVJLBpgkqSUDTJLUkgEmSWrJAJMktWQVolbaZvWBy9vWdj41\\\n",
       "Vk3ntO13vGWU+nAEJklqyQCTJLVkgEmSWjLAJEktGWCSpJYMMElSS5bRq73tlbd3u8nudi2vjH3x\\\n",
       "liyV1zQcgUmSWjLAJEktGWCSpJYMMElSSwaYJKklA2wiSR5OcjrJsXXr7kvyRpIXhuUzU/axi2yy\\\n",
       "zFctWJZrs2Oz1UWaGwNsOt8Gbtlg/T9X1f5h+c+R+yRJbRhgE6mqp4EzU/dDkroywObnziQvDlOM\\\n",
       "e6fujCTNlQE2Lw8CHwX2A6eAbyx6Y5JDSY4mOTpS3yRpVlK1arfO6SPJdcATVXXDVv5tg/d6EhcY\\\n",
       "6+8uL89yyyUsvlieqvJwzowjsBlJsm/dy88Cxxa9V5J2O2/mO5Ek3wVuBj6U5CTwVeDmJPtZGwac\\\n",
       "AL40Vf+0HFv/kX2zEaADAGk9pxBXgFOIi009heiE4OpwCnF+nEKUJLVkgEmSWjLAJEktGWCSpJas\\\n",
       "QtRKW3TVfXGpxmbX6ZdXErK9aoDlbk3qzhGYJKklA0yS1JIBJklqyQCTJLVkgEmSWrIKUbpoW69p\\\n",
       "XCZrEKU/5ghMktSSASZJaskAkyS1ZIBJkloywCRJLRlgkqSWLKOXmlhcLr9ZGb9F9lpdjsAkSS0Z\\\n",
       "YJKklgwwSVJLBpgkqSUDTJLUkgE2kSTXJHkyyfEkLye5a1h/eZIjSV4dHvdO3VddSDZZNlYLFkkX\\\n",
       "L1V+2UwhyT5gX1U9n+Qy4DngNuCLwJmquj/JPcDeqvrKBbblSdyi8Q7Y1lpaftG7ZfTLUlUezJlx\\\n",
       "BDaRqjpVVc8Pz98BjgNXAbcCh4e3HWYt1CRJ5zHAZiDJdcDHgWeAK6vqFKyFHHDFhF2TpNnyThwT\\\n",
       "S/J+4FHg7qr6XXJxsxRJDgGHdrJvkjRnXgObUJJLgCeAH1bVN4d1rwA3V9Wp4TrZU1X1VxfYjidx\\\n",
       "i7wGpq3yGtj8OIU4kawNtb4FHD8XXoPHgYPD84PAY2P3TZI6cAQ2kSQ3AT8BXgLeHVbfy9p1sEeA\\\n",
       "a4HXgdur6swFtuVJXJLlH0hHYKvCEdj8GGArwABbHgNMixhg8+MUoiSpJQNMktSSASZJaskAkyS1\\\n",
       "5C8ySztq0XX/jYs7Niv5sIJA+mOOwCRJLRlgkqSWDDBJUksGmCSpJQNMktSSVYhaccu7OVQW1AEu\\\n",
       "8/ZTVhpKF88RmCSpJQNMktSSASZJaskAkyS1ZIBJkloywCRJLVlGL62zeRm7f/hamhNHYJKklgww\\\n",
       "SVJLBpgkqSUDTJLUkgEmSWrJAJtIkmuSPJnkeJKXk9w1rL8vyRtJXhiWz0zd196y4VKw5UXSvKTK\\\n",
       "L80pJNkH7Kuq55NcBjwH3AZ8HjhbVQ9sYVuexC2qbUTSohL7ed+N3vvbL0tVeTBnxt8Dm0hVnQJO\\\n",
       "Dc/fSXIcuGraXklSH04hzkCS64CPA88Mq+5M8mKSh5Psna5nkjRfBtjEkrwfeBS4u6p+BzwIfBTY\\\n",
       "z9oI7RsLPncoydEkR8fqqyTNidfAJpTkEuAJ4IdV9c0N/v064ImquuEC2/EkbpHXwLRVXgObH0dg\\\n",
       "E0kS4FvA8fXhNRR3nPNZ4NjYfZOkDhyBTSTJTcBPgJeAd4fV9wJ3sDZ9WMAJ4EtDwcdm29rVJ3E7\\\n",
       "o6mpZcHIaHsjQwcGY3AENj8G2AowwPrtvgHWjwE2P04hSpJaMsAkSS0ZYJKklgwwSVJL3kpKbfQr\\\n",
       "1Vhst+yLVQ/aSY7AJEktGWCSpJYMMElSSwaYJKklA0yS1JIBJklqyTJ6zcr2ysu3U6w9ViH76heS\\\n",
       "T72HlvHvXo7AJEktGWCSpJYMMElSSwaYJKklA0yS1JJViJqV8eoJ+9Wn9evxODwuu5cjMElSSwaY\\\n",
       "JKklA0yS1JIBJklqyQCTJLVkgE0kyXuT/CzJz5O8nORrw/rLkxxJ8urwuHfqvs5dNln62WxvVmcv\\\n",
       "pWVI1Vg3NdV6SQJcWlVnk1wC/BS4C/gccKaq7k9yD7C3qr5ygW15EhdYpQNjVE2rqjwFM+MIbCK1\\\n",
       "5uzw8pJhKeBW4PCw/jBw2/i9k6T5M8AmlGRPkheA08CRqnoGuLKqTgEMj1dM2EVJmi0DbEJV9Yeq\\\n",
       "2g9cDdyY5IaL/WySQ0mOJjm6Yx2UpBkzwGagqn4LPAXcAryVZB/A8Hh6wWceqqoDVXVgrH5K0pwY\\\n",
       "YBNJ8uEkHxievw/4JPBL4HHg4PC2g8Bjk3RQkmbOKsSJJPkYa0Uae1j7QeKRqvp6kg8CjwDXAq8D\\\n",
       "t1fVmQtsy5O4JNs5kJam7Q5WIc6PAbYCDLDlMcC0iAE2P04hSpJaMsAkSS0ZYJKklgwwSVJL75m6\\\n",
       "A9KceJVe6sMRmCSpJQNMktSSASZJaskAkyS1ZIBJkloywCRJLRlgkqSWDDBJUksGmCSpJQNMktSS\\\n",
       "ASZJaskAkyS15M18V8PbwH8Pzz80vJ6K7dv+Krb/FzuwTf0/pcq/Rr9KkhytqgO2b/u2r1XnFKIk\\\n",
       "qSUDTJLUkgG2eh6yfdu3fe0GXgOTJLXkCEyS1JIBtiKS3JLklSSvJblngvZPJHkpyQtJjo7U5sNJ\\\n",
       "Tic5tm7d5UmOJHl1eNw7cvv3JXljOA4vJPnMDrV9TZInkxxP8nKSu4b1o+z/Ju2Ptf/vTfKzJD8f\\\n",
       "2v/asH6086/pOYW4ApLsAX4FfAo4CTwL3FFVvxixDyeAA1U12u8AJflb4Czwb1V1w7Dun4AzVXX/\\\n",
       "EOR7q+orI7Z/H3C2qh7YiTbXtb0P2FdVzye5DHgOuA34IiPs/ybtf55x9j/ApVV1NsklwE+Bu4DP\\\n",
       "MdL51/Qcga2GG4HXqurXVfU/wPeAWyfu046rqqeBM+etvhU4PDw/zNo31THbH0VVnaqq54fn7wDH\\\n",
       "gasYaf83aX8Utebs8PKSYSlGPP+angG2Gq4CfrPu9UlG/GYyKOBHSZ5Lcmjktte7sqpOwdo3WeCK\\\n",
       "CfpwZ5IXhynGHZ/CSnId8HHgGSbY//Pah5H2P8meJC8Ap4EjVTXJ/ms6BthqyAbrxp4b/kRV/TXw\\\n",
       "98CXh+m13ehB4KPAfuAU8I2dbCzJ+4FHgbur6nc72dZFtj/a/lfVH6pqP3A1cGOSG3aqLc2TAbYa\\\n",
       "TgLXrHt9NfDmmB2oqjeHx9PA91mb1pzCW8P1mXPXaU6P2XhVvTV8Y30X+Fd28DgM134eBf69qv5j\\\n",
       "WD3a/m/U/pj7f05V/RZ4CriFic+/xmWArYZngeuTfCTJnwNfAB4fq/Eklw4X8klyKfBp4Njmn9ox\\\n",
       "jwMHh+cHgcfGbPzcN8/BZ9mh4zAUMXwLOF5V31z3T6Ps/6L2R9z/Dyf5wPD8fcAngV8y8fnXuKxC\\\n",
       "XBFDufK/AHuAh6vqH0ds+y9ZG3XB2l84+M4Y7Sf5LnAza3cgfwv4KvAD4BHgWuB14Paq2pFCiwXt\\\n",
       "38za9FkBJ4Avnbsms+S2bwJ+ArwEvDusvpe161A7vv+btH8H4+z/x1gr0tjD2g/ij1TV15N8kJHO\\\n",
       "v6ZngEmSWnIKUZLUkgEmSWrJAJMktWSASZJaMsAkSS0ZYJKklgwwSVJLBpgkqSUDTJLUkgEmSWrJ\\\n",
       "AJMktWSASZJaMsAkSS0ZYJKklgwwSVJLBpgkqSUDTJLUkgEmSWrJAJMktWSASZJa+l+Fu1bzijOS\\\n",
       "2QAAAABJRU5ErkJggg==\\\n",
       "\"\n",
       "  frames[4] = \"data:image/png;base64,iVBORw0KGgoAAAANSUhEUgAAAbAAAAEgCAYAAADVKCZpAAAAOXRFWHRTb2Z0d2FyZQBNYXRwbG90\\\n",
       "bGliIHZlcnNpb24zLjMuMiwgaHR0cHM6Ly9tYXRwbG90bGliLm9yZy8vihELAAAACXBIWXMAAAsT\\\n",
       "AAALEwEAmpwYAAAPpElEQVR4nO3dX6xdZZnH8e9vKkaDJBYV0vBncIjxhpgyabjRTJhEDeMNaIKR\\\n",
       "q3pVL4YE7iDciCaTkIk6c2fCRGInGTUkjELIZLQxGvQGKQShWBFiGCw0NKYx0CsjPHNxVpPTevah\\\n",
       "53Sftdazz/fTrOy9V/da77v2gvPr+67nrJ2qQpKkbv5m6g5IkrQdBpgkqSUDTJLUkgEmSWrJAJMk\\\n",
       "tWSASZJaMsAkSS0ZYJKklgwwSVJLBpgkqSUDTJLUkgEmSWrJAJMktWSASZJaMsAkSS0ZYJKklgww\\\n",
       "SVJLBpgkqSUDTJLUkgEmSWrJAJMktWSASZJaMsAkSS0ZYJKklgwwSVJLBpgkqSUDTJLUkgEmSWrJ\\\n",
       "AJMktWSASZJaMsAkSS0ZYJKklgwwSVJLBtgMJbklyYtJXk5y79T9kaQ5SlVN3Qetk2QP8DvgM8AJ\\\n",
       "4Cngjqr6zSbbeBKlHVZVmboPOpcjsPm5CXi5qn5fVX8GfgDcOnGfJGl2DLD5uQr4w7rXJ4Z1kqR1\\\n",
       "3jN1B/RXNpqm+KspwiSHgEM73x1JmicDbH5OANese3018Pr5b6qqB4EHwWtgknYnpxDn5yngY0k+\\\n",
       "muS9wJeAxybu08zVJoukVeUIbGaq6i9J7gR+DOwBHqqqFybuliTNjmX0K8ApxM0O38pnLYdl9PPj\\\n",
       "FKIkqSUDTJLUkgEmSWrJAJMktWQVoi7adipIlns13Gvr0m7kCEyS1JIBJklqyQCTJLVkgEmSWjLA\\\n",
       "JEktWYWoi2YNoKbkjcR2L0dgkqSWDDBJUksGmCSpJQNMktSSASZJaskAkyS1ZBm9pNYsld+9HIFJ\\\n",
       "kloywCRJLRlgkqSWDDBJUksGmCSpJasQZyjJK8BbwNvAX6rqwLQ9kqT5McDm6x+r6o9Td0KS5sop\\\n",
       "RElSSwbYPBXwkyRPJzk0dWckaY6cQpynT1bV60muAI4k+W1VPbH+DUOwGW6Sdq1UbfZ9pppakvuB\\\n",
       "M1X1jU3e40mUdlhVedeqmXEKcWaSXJrksrPPgc8Cx6btlVZPNVykczmFOD9XAj9MAmvn53tV9b/T\\\n",
       "dkmS5scpxBXgFKK2ruN/MtPO4DmFOD9OIUqSWjLAJEktGWCSpJYMMElSS1YhShdoUdnDcq/sL7e4\\\n",
       "Ypw+S9NwBCZJaskAkyS1ZIBJkloywCRJLRlgkqSWrEKULtAyK/dqG9WG22l/nGrD7bQyzq2srMJc\\\n",
       "bY7AJEktGWCSpJYMMElSSwaYJKklA0yS1JIBJklqyTJ6aZ3ll7cv+ttF6zdrf3nbbOc4lykzLvBX\\\n",
       "H47AJEktGWCSpJYMMElSSwaYJKklA0yS1JIBNpEkDyU5leTYunWXJzmS5KXhce+UfdydssmyHbVg\\\n",
       "2Xr7i/ZUZJNl4z/bO/5lfi7SxTPApvNd4Jbz1t0L/LSqPgb8dHgtSdqAATaRqnoCOH3e6luBw8Pz\\\n",
       "w8BtY/ZJkjoxwOblyqo6CTA8XjFxfyRptrwTR1NJDgGHpu6HJE3FEdi8vJFkH8DweGrRG6vqwao6\\\n",
       "UFUHRuudJM2IATYvjwEHh+cHgUcn7IskzVqqpr2p526V5PvAzcCHgTeArwI/Ah4GrgVeBW6vqvML\\\n",
       "PTbalydxSbbzQWYbW1XD8vNl3n64o6papcNZCQbYCjDAlscAW8wAM8DmxilESVJLBpgkqSUDTJLU\\\n",
       "kgEmSWrJX2SWLtL2ihg23irbKHuYuojCygZNxRGYJKklA0yS1JIBJklqyQCTJLVkgEmSWrIKUbpo\\\n",
       "m9UaLqo2XLzFVtvZrApw0d62Uzm4zH1Jy+AITJLUkgEmSWrJAJMktWSASZJaMsAkSS0ZYJKkliyj\\\n",
       "l9bZTkn6eLZeyL7MEnfL5TU3jsAkSS0ZYJKklgwwSVJLBpgkqSUDTJLUkgE2kSQPJTmV5Ni6dfcn\\\n",
       "eS3Js8PyuSn7uJNqwZ/Vkw2Xgg0XSRfOAJvOd4FbNlj/b1W1f1j+Z+Q+SVIbBthEquoJ4PTU/ZCk\\\n",
       "rgyw+bkzyXPDFOPeqTsjSXNlgM3Lt4Hrgf3ASeCbi96Y5FCSo0mOjtQ3SZqVVHnpeCpJrgMer6ob\\\n",
       "tvJ3G7y33Ulc/E3F871h0XI/5K1+U/Nm5vuZrZKq8oOeGUdgM5Jk37qXnweOLXqvJO123sx3Ikm+\\\n",
       "D9wMfDjJCeCrwM1J9rP2z/NXgK9M1b+dNueR1iKLery9kdky97bZNv0+Z+lCOYW4AjpOIa6SZX74\\\n",
       "Wfpvgxlgy+IU4vw4hShJaskAkyS1ZIBJkloywCRJLVmFKK0zdT3f1O1LnTgCkyS1ZIBJkloywCRJ\\\n",
       "LRlgkqSWDDBJUktWIUrrbFbpN879upbdg0XbWNOo/hyBSZJaMsAkSS0ZYJKklgwwSVJLBpgkqSUD\\\n",
       "TJLUkmX00gVaVHg+1tdhWxAvncsRmCSpJQNMktSSASZJaskAkyS1ZIBJkloywCaS5JokP0tyPMkL\\\n",
       "Se4a1l+e5EiSl4bHvVP3VZvLJss4LW1HLVikPlLlf7RTSLIP2FdVzyS5DHgauA34MnC6qh5Ici+w\\\n",
       "t6rueZd9eRJnaowTk6W2YlH+IlXlhzMzjsAmUlUnq+qZ4flbwHHgKuBW4PDwtsOshZok6TwG2Awk\\\n",
       "uQ64EXgSuLKqTsJayAFXTNg1SZot78QxsSQfAB4B7q6qN5MLm6VIcgg4tJN9k6Q58xrYhJJcAjwO\\\n",
       "/LiqvjWsexG4uapODtfJfl5VH3+X/XgSZ8prYKvDa2Dz4xTiRLI21PoOcPxseA0eAw4Ozw8Cj47d\\\n",
       "N0nqwBHYRJJ8CvgF8DzwzrD6Ptaugz0MXAu8CtxeVaffZV+exJma7wjMwcRWOQKbHwNsBRhg82WA\\\n",
       "rQ4DbH6cQpQktWSASZJaMsAkSS0ZYJKklvxFZu1S/u6U1J0jMElSSwaYJKklA0yS1JIBJklqyQCT\\\n",
       "JLVkFaJW2uJaw0WVg1vfYnvbLNrT4i2sdZTO5QhMktSSASZJaskAkyS1ZIBJkloywCRJLRlgkqSW\\\n",
       "LKOXzrH1YvntfSPyVluXdD5HYJKklgwwSVJLBpgkqSUDTJLUkgEmSWrJAJtIkmuS/CzJ8SQvJLlr\\\n",
       "WH9/kteSPDssn5u6r6soC5btKLLEhU2Wjf8sPprNFqm/VC2vBFgXLsk+YF9VPZPkMuBp4Dbgi8CZ\\\n",
       "qvrGFvblSVxgcen71t4/Dxv3LgbSKKrKD3pm/D2wiVTVSeDk8PytJMeBq6btlST14RTiDCS5DrgR\\\n",
       "eHJYdWeS55I8lGTvdD2TpPkywCaW5APAI8DdVfUm8G3gemA/ayO0by7Y7lCSo0mOjtVXSZoTr4FN\\\n",
       "KMklwOPAj6vqWxv8/XXA41V1w7vsx5O4gNfAtCxeA5sfR2ATSRLgO8Dx9eE1FHec9Xng2Nh9k6QO\\\n",
       "HIFNJMmngF8AzwPvDKvvA+5gbfqwgFeArwwFH5vta1ecxK2OppbZxpw5LBiHI7D5McBWgAG2823M\\\n",
       "mT9Vx2GAzY9TiJKklgwwSVJLBpgkqSUDTJLUkreSUhu7/Qr6bj9+6XyOwCRJLRlgkqSWDDBJUksG\\\n",
       "mCSpJQNMktSSASZJaskyemmd7ZSqb+f+iZbESxfPEZgkqSUDTJLUkgEmSWrJAJMktWSASZJasgpR\\\n",
       "WmfqisLN2rdyUTqXIzBJUksGmCSpJQNMktSSASZJaskAkyS1ZIBNJMn7kvwqya+TvJDka8P6y5Mc\\\n",
       "SfLS8Lh36r6uolqwZBvLMoVauEg6V6r8H2MKSQJcWlVnklwC/BK4C/gCcLqqHkhyL7C3qu55l315\\\n",
       "Erdo0Qc2fam6hfRzVVWegJlxBDaRWnNmeHnJsBRwK3B4WH8YuG383knS/BlgE0qyJ8mzwCngSFU9\\\n",
       "CVxZVScBhscrJuyiJM2WATahqnq7qvYDVwM3JbnhQrdNcijJ0SRHd6yDkjRjBtgMVNWfgJ8DtwBv\\\n",
       "JNkHMDyeWrDNg1V1oKoOjNVPSZoTA2wiST6S5IPD8/cDnwZ+CzwGHBzedhB4dJIOStLMWYU4kSSf\\\n",
       "YK1IYw9r/5B4uKq+nuRDwMPAtcCrwO1Vdfpd9uVJVCsday2tQpwfA2wFGGDqxgDTMjiFKElqyQCT\\\n",
       "JLVkgEmSWjLAJEktvWfqDkga39T3grQaQsvgCEyS1JIBJklqyQCTJLVkgEmSWjLAJEktGWCSpJYs\\\n",
       "o5d2oWWWsXe8r6FWgyMwSVJLBpgkqSUDTJLUkgEmSWrJAJMktWQV4mr4I/B/w/MPD6+nYvu7rP3z\\\n",
       "Kg1X9fj/dgf2qYuUKr+NfpUkOVpVB2zf9m1fq84pRElSSwaYJKklA2z1PGj7tm/72g28BiZJaskR\\\n",
       "mCSpJQNsRSS5JcmLSV5Ocu8E7b+S5PkkzyY5OlKbDyU5leTYunWXJzmS5KXhce/I7d+f5LXhc3g2\\\n",
       "yed2qO1rkvwsyfEkLyS5a1g/yvFv0v5Yx/++JL9K8uuh/a8N60c7/5qeU4grIMke4HfAZ4ATwFPA\\\n",
       "HVX1mxH78ApwoKpG+x2gJP8AnAH+s6puGNb9K3C6qh4YgnxvVd0zYvv3A2eq6hs70ea6tvcB+6rq\\\n",
       "mSSXAU8DtwFfZoTj36T9LzLO8Qe4tKrOJLkE+CVwF/AFRjr/mp4jsNVwE/ByVf2+qv4M/AC4deI+\\\n",
       "7biqegI4fd7qW4HDw/PDrP1QHbP9UVTVyap6Znj+FnAcuIqRjn+T9kdRa84MLy8ZlmLE86/pGWCr\\\n",
       "4SrgD+ten2DEHyaDAn6S5Okkh0Zue70rq+okrP2QBa6YoA93JnlumGLc8SmsJNcBNwJPMsHxn9c+\\\n",
       "jHT8SfYkeRY4BRypqkmOX9MxwFbDRt8bOPbc8Cer6u+BfwL+eZhe242+DVwP7AdOAt/cycaSfAB4\\\n",
       "BLi7qt7cybYusP3Rjr+q3q6q/cDVwE1JbtiptjRPBthqOAFcs+711cDrY3agql4fHk8BP2RtWnMK\\\n",
       "bwzXZ85epzk1ZuNV9cbwg/Ud4D/Ywc9huPbzCPBfVfXfw+rRjn+j9sc8/rOq6k/Az4FbmPj8a1wG\\\n",
       "2Gp4CvhYko8meS/wJeCxsRpPculwIZ8klwKfBY5tvtWOeQw4ODw/CDw6ZuNnf3gOPs8OfQ5DEcN3\\\n",
       "gONV9a11fzXK8S9qf8Tj/0iSDw7P3w98GvgtE59/jcsqxBUxlCv/O7AHeKiq/mXEtv+OtVEXrH3D\\\n",
       "wffGaD/J94GbWbsD+RvAV4EfAQ8D1wKvArdX1Y4UWixo/2bWps8KeAX4ytlrMktu+1PAL4DngXeG\\\n",
       "1fexdh1qx49/k/bvYJzj/wRrRRp7WPuH+MNV9fUkH2Kk86/pGWCSpJacQpQktWSASZJaMsAkSS0Z\\\n",
       "YJKklgwwSVJLBpgkqSUDTJLUkgEmSWrJAJMktWSASZJaMsAkSS0ZYJKklgwwSVJLBpgkqSUDTJLU\\\n",
       "kgEmSWrJAJMktWSASZJaMsAkSS0ZYJKklv4fwuy9k/Q+2yUAAAAASUVORK5CYII=\\\n",
       "\"\n",
       "  frames[5] = \"data:image/png;base64,iVBORw0KGgoAAAANSUhEUgAAAbAAAAEgCAYAAADVKCZpAAAAOXRFWHRTb2Z0d2FyZQBNYXRwbG90\\\n",
       "bGliIHZlcnNpb24zLjMuMiwgaHR0cHM6Ly9tYXRwbG90bGliLm9yZy8vihELAAAACXBIWXMAAAsT\\\n",
       "AAALEwEAmpwYAAAPwElEQVR4nO3dT4hlZ5nH8e9v2ogSA3aMCU3+TBwRN0HaocnGMGRAJeMmUYiY\\\n",
       "VbtqFxOIO0M2icKADOrMLpDBYA+MSiCjCWEYbUSJbmI6IZqObUyQTOykSSONmF6J5plFnYZKW/em\\\n",
       "66bqnPPc+n6Kw7331L33fc85VfWr9z1PnUpVIUlSN38zdQckSVqFASZJaskAkyS1ZIBJkloywCRJ\\\n",
       "LRlgkqSWDDBJUksGmCSpJQNMktSSASZJaskAkyS1ZIBJkloywCRJLRlgkqSWDDBJUksGmCSpJQNM\\\n",
       "ktSSASZJaskAkyS1ZIBJkloywCRJLRlgkqSWDDBJUksGmCSpJQNMktSSASZJaskAkyS1ZIBJkloy\\\n",
       "wCRJLRlgkqSWDDBJUksGmCSpJQNMktSSATZDSW5J8nySF5PcPXV/JGmOUlVT90GbJNkH/Ab4BHAK\\\n",
       "eBK4o6p+teQ1HkRpl1VVpu6D3swR2PzcCLxYVb+tqj8B3wVunbhPkjQ7Btj8XA38btPjU8M6SdIm\\\n",
       "75i6A/orW01T/NUUYZIjwJHd744kzZMBNj+ngGs3Pb4GePXCJ1XVA8AD4DkwSXuTU4jz8yTwoSQf\\\n",
       "SPJO4HPAoxP3qa1asEjqzxHYzFTVn5PcCfwA2Ac8WFXPTdwtSZody+jXgFOIiy3aMdZDa7sso58f\\\n",
       "pxAlSS0ZYJKklgwwSVJLBpgkqSWrELXWPOsurS9HYJKklgwwSVJLBpgkqSUDTJLUkgEmSWrJAJMk\\\n",
       "tWSASZJaMsAkSS0ZYJKklgwwSVJLBpgkqSUDTJLUkgEmSWrJAJMktWSASZJaMsAkSS0ZYJKklgww\\\n",
       "SVJL75i6A/prSV4CXgf+Avy5qg6N1XYt+VzG6oQkXQQDbL7+sap+P3UnJGmunEKUJLVkgM1TAT9M\\\n",
       "8lSSI1N3RpLmyCnEefpYVb2a5ErgWJJfV9Xjm58wBJvhJmnPStWy0/aaWpL7gHNV9bUlz9mxg2gR\\\n",
       "h7S1qvJbYGacQpyZJJcmuez8feCTwInR2l+yqKPa1rLsY7peLf/FSnuXU4jzcxXwvSSwcXy+XVX/\\\n",
       "O22XJGl+nEJcAzs5hah1s70vjeVTyDs3Dl/lC3bqWQCnEOfHKURJUksGmCSpJQNMktSSASZJaskq\\\n",
       "RGkSW5cxjPV3eIva2clCjWXt9Czj0Nw4ApMktWSASZJaMsAkSS0ZYJKklgwwSVJLViHuUYur0LSz\\\n",
       "tldtt2z/72Tl4CrHeWevV7bKlkpv5ghMktSSASZJaskAkyS1ZIBJkloywCRJLRlgkqSWLKPfoyyX\\\n",
       "37mLya5yAd5V/oxhlXL5qQvSt7v9G6/xq1MXxxGYJKklA0yS1JIBJklqyQCTJLVkgEmSWjLAJpLk\\\n",
       "wSRnkpzYtO7yJMeSvDDc7p+yj3qzWvCx/DVbL1mwrNavxct2LerXqssq7UgXywCbzreAWy5Ydzfw\\\n",
       "o6r6EPCj4bEkaQsG2ESq6nHg7AWrbwWODvePAreN2SdJ6sQAm5erquo0wHB75cT9kaTZ8kocTSU5\\\n",
       "AhyZuh+SNBVHYPPyWpIDAMPtmUVPrKoHqupQVR0arXeSNCMG2Lw8Chwe7h8GHpmwL5I0a6ma+nKf\\\n",
       "e1OS7wA3A1cArwH3At8HHgKuA14Gbq+qCws9tnovD+KO2f6uXP6K7RWGW0Y+X1Xl4ZkZA2wNGGA7\\\n",
       "yQDT1gyw+XEKUZLUkgEmSWrJAJMktWSASZJa8g+Zpbdp2Zn9xQUeiz5jnYB0sRyBSZJaMsAkSS0Z\\\n",
       "YJKklgwwSVJLBpgkqSWrENfasosc7X6127Str6aW9CwLtmj5paS2V21YK+y1ue5Labc5ApMktWSA\\\n",
       "SZJaMsAkSS0ZYJKklgwwSVJLBpgkqSXL6NfatAXWHcu7V+nzKq9Z7V9oewFgaTNHYJKklgwwSVJL\\\n",
       "BpgkqSUDTJLUkgEmSWrJAJtIkgeTnElyYtO6+5K8kuSZYfnUlH3cTbXgY96yYFnlnWrLZXEbVhpK\\\n",
       "FzLApvMt4JYt1v9bVR0clv8ZuU+S1IYBNpGqehw4O3U/JKkrA2x+7kzyy2GKcf/UnZGkuTLA5uV+\\\n",
       "4IPAQeA08PVFT0xyJMnxJMdH6pskzUqq5n7ifH0luR54rKpu2M7ntnhuu4O4qGAjLYsVdm73L/uP\\\n",
       "0Iva6bnP+qkqd/TMOAKbkSQHNj38NHBi0XMlaa/zYr4TSfId4GbgiiSngHuBm5McZONX7ZeAL0zV\\\n",
       "v93mqGHnLBv/uZe1zpxCXAMdpxDXy7RTiMtiygDbOU4hzo9TiJKklgwwSVJLBpgkqSUDTJLUklWI\\\n",
       "0tu2SuHFKs+3hkDazBGYJKklA0yS1JIBJklqyQCTJLVkgEmSWrIKUVpj63XVf+nNHIFJkloywCRJ\\\n",
       "LRlgkqSWDDBJUksGmCSpJQNMktSSZfTSrlpUrr7Kf3He/n9kltaZIzBJUksGmCSpJQNMktSSASZJ\\\n",
       "askAkyS1ZIBNJMm1SX6c5GSS55LcNay/PMmxJC8Mt/un7qs6y4JF6i9Vq5Tz6u1KcgA4UFVPJ7kM\\\n",
       "eAq4Dfg8cLaqvprkbmB/VX3pLd7Lg9jO1odstQO5/UAywravqtxtM+MIbCJVdbqqnh7uvw6cBK4G\\\n",
       "bgWODk87ykaoSZIuYIDNQJLrgY8CTwBXVdVp2Ag54MoJuyZJs+WVOCaW5D3Aw8AXq+qPycXNUiQ5\\\n",
       "AhzZzb5J0px5DmxCSS4BHgN+UFXfGNY9D9xcVaeH82Q/qaoPv8X7eBDb8RxYN54Dmx+nECeSjaHW\\\n",
       "N4GT58Nr8ChweLh/GHhk7L5JUgeOwCaS5Cbgp8CzwBvD6nvYOA/2EHAd8DJwe1WdfYv32vZB9LKw\\\n",
       "U9v+993iVyw7attrJ0vea69/zTgCmx8DbA0YYB0ZYN0YYPPjFKIkqSUDTJLUkgEmSWrJAJMkteQf\\\n",
       "Mu9R63U2epVCpK33wLJ3Wm2fzbNIalmxxuLXSPPiCEyS1JIBJklqyQCTJLVkgEmSWjLAJEktWYWo\\\n",
       "NbDKpZS2Xr9apd2yVy363M5VTq7ymlq4/dYaqg9HYJKklgwwSVJLBpgkqSUDTJLUkgEmSWrJAJMk\\\n",
       "tWQZvdbcTpaxL7LKJYAtV5feLkdgkqSWDDBJUksGmCSpJQNMktSSASZJaskAm0iSa5P8OMnJJM8l\\\n",
       "uWtYf1+SV5I8Myyfmrqv6ykLlnHUCssq77ZoK7PgQ+okVTtZTqyLleQAcKCqnk5yGfAUcBvwWeBc\\\n",
       "VX1tG+/lQdwxO70rF10NfictfjdDaedUlTtzZvw7sIlU1Wng9HD/9SQngaun7ZUk9eEU4gwkuR74\\\n",
       "KPDEsOrOJL9M8mCS/dP1TJLmywCbWJL3AA8DX6yqPwL3Ax8EDrIxQvv6gtcdSXI8yfGx+ipJc+I5\\\n",
       "sAkluQR4DPhBVX1ji89fDzxWVTe8xft4EHeM58C0Nc+BzY8jsIkkCfBN4OTm8BqKO877NHBi7L5J\\\n",
       "UgeOwCaS5Cbgp8CzwBvD6nuAO9iYPizgJeALQ8HHsvfyIG7Toh227FfsVV6zk6Zuf69zBDY/Btga\\\n",
       "MMC2zwDTdhlg8+MUoiSpJQNMktSSASZJaskAkyS15KWktNZ2svBh6jP4U7cvzY0jMElSSwaYJKkl\\\n",
       "A0yS1JIBJklqyQCTJLVkgEmSWrKMXmttUem51xWU+nMEJklqyQCTJLVkgEmSWjLAJEktGWCSpJas\\\n",
       "QtSeZLWh1J8jMElSSwaYJKklA0yS1JIBJklqyQCTJLVkgE0kybuS/DzJL5I8l+TLw/rLkxxL8sJw\\\n",
       "u3/qvmpMtWSRtFmq/MaYQpIAl1bVuSSXAD8D7gI+A5ytqq8muRvYX1Vfeov38iCujWWH0uL/KVWV\\\n",
       "B2BmHIFNpDacGx5eMiwF3AocHdYfBW4bv3eSNH8G2ISS7EvyDHAGOFZVTwBXVdVpgOH2ygm7KEmz\\\n",
       "ZYBNqKr+UlUHgWuAG5PccLGvTXIkyfEkx3etg5I0YwbYDFTVH4CfALcAryU5ADDcnlnwmgeq6lBV\\\n",
       "HRqrn5I0JwbYRJK8P8l7h/vvBj4O/Bp4FDg8PO0w8MgkHZSkmbMKcSJJPsJGkcY+Nn6ReKiqvpLk\\\n",
       "fcBDwHXAy8DtVXX2Ld7Lgzgh6wb3BqsQ58cAWwMG2LQMsL3BAJsfpxAlSS0ZYJKklgwwSVJLBpgk\\\n",
       "qaV3TN0BqTvP7EvTcAQmSWrJAJMktWSASZJaMsAkSS0ZYJKklgwwSVJLBpgkqSUDTJLUkgEmSWrJ\\\n",
       "AJMktWSASZJaMsAkSS15Md/18Hvg/4b7VwyPp2L7tr+O7f/tLryn3qZU+d/o10mS41V1yPZt3/a1\\\n",
       "7pxClCS1ZIBJkloywNbPA7Zv+7avvcBzYJKklhyBSZJaMsDWRJJbkjyf5MUkd0/Q/ktJnk3yTJLj\\\n",
       "I7X5YJIzSU5sWnd5kmNJXhhu94/c/n1JXhn2wzNJPrVLbV+b5MdJTiZ5Lsldw/pRtn9J+2Nt/7uS\\\n",
       "/DzJL4b2vzysH+34a3pOIa6BJPuA3wCfAE4BTwJ3VNWvRuzDS8Chqhrtb4CS/ANwDvjPqrphWPev\\\n",
       "wNmq+uoQ5Pur6ksjtn8fcK6qvrYbbW5q+wBwoKqeTnIZ8BRwG/B5Rtj+Je1/lnG2P8ClVXUuySXA\\\n",
       "z4C7gM8w0vHX9ByBrYcbgRer6rdV9Sfgu8CtE/dp11XV48DZC1bfChwd7h9l44fqmO2PoqpOV9XT\\\n",
       "w/3XgZPA1Yy0/UvaH0VtODc8vGRYihGPv6ZngK2Hq4HfbXp8ihF/mAwK+GGSp5IcGbntza6qqtOw\\\n",
       "8UMWuHKCPtyZ5JfDFOOuT2EluR74KPAEE2z/Be3DSNufZF+SZ4AzwLGqmmT7NR0DbD1ki3Vjzw1/\\\n",
       "rKr+Hvgn4J+H6bW96H7gg8BB4DTw9d1sLMl7gIeBL1bVH3ezrYtsf7Ttr6q/VNVB4BrgxiQ37FZb\\\n",
       "micDbD2cAq7d9Pga4NUxO1BVrw63Z4DvsTGtOYXXhvMz58/TnBmz8ap6bfjB+gbwH+zifhjO/TwM\\\n",
       "/FdV/fewerTt36r9Mbf/vKr6A/AT4BYmPv4alwG2Hp4EPpTkA0neCXwOeHSsxpNcOpzIJ8mlwCeB\\\n",
       "E8tftWseBQ4P9w8Dj4zZ+PkfnoNPs0v7YShi+CZwsqq+selTo2z/ovZH3P73J3nvcP/dwMeBXzPx\\\n",
       "8de4rEJcE0O58r8D+4AHq+pfRmz779gYdcHGfzj49hjtJ/kOcDMbVyB/DbgX+D7wEHAd8DJwe1Xt\\\n",
       "SqHFgvZvZmP6rICXgC+cPyezw23fBPwUeBZ4Y1h9DxvnoXZ9+5e0fwfjbP9H2CjS2MfGL+IPVdVX\\\n",
       "kryPkY6/pmeASZJacgpRktSSASZJaskAkyS1ZIBJkloywCRJLRlgkqSWDDBJUksGmCSpJQNMktSS\\\n",
       "ASZJaskAkyS1ZIBJkloywCRJLRlgkqSWDDBJUksGmCSpJQNMktSSASZJaskAkyS1ZIBJklr6f2VP\\\n",
       "mqNeG9z0AAAAAElFTkSuQmCC\\\n",
       "\"\n",
       "  frames[6] = \"data:image/png;base64,iVBORw0KGgoAAAANSUhEUgAAAbAAAAEgCAYAAADVKCZpAAAAOXRFWHRTb2Z0d2FyZQBNYXRwbG90\\\n",
       "bGliIHZlcnNpb24zLjMuMiwgaHR0cHM6Ly9tYXRwbG90bGliLm9yZy8vihELAAAACXBIWXMAAAsT\\\n",
       "AAALEwEAmpwYAAAPOUlEQVR4nO3dX6huZZ0H8O9vTkZhQsdKOfhnbCK6kbBBvCkGByqcbrTAyKvT\\\n",
       "1eliBLtLusmCgRiqmbvAIekMTIXglCLDlERh3ZhHsdROpYRj5sFDHCLPVZS/udhLONrZW89p77XW\\\n",
       "8+7PRxbv+679vut51lqe97ufZ/32+1Z3BwBG8zdLdwAAzocAA2BIAgyAIQkwAIYkwAAYkgADYEgC\\\n",
       "DIAhCTAAhiTAABiSAANgSAIMgCEJMACGJMAAGJIAA2BIAgyAIQkwAIYkwAAYkgADYEgCDIAhCTAA\\\n",
       "hiTAABiSAANgSAIMgCEJMACGJMAAGJIAA2BIAgyAIQkwAIYkwAAYkgADYEgCDIAhCTAAhiTAABiS\\\n",
       "AFuhqrqhqn5ZVU9X1e1L9wdgjaq7l+4DZ6iqA0l+leRDSZ5L8nCSW7r75zu8xkmEPdbdtXQfeCUj\\\n",
       "sPW5LsnT3f3r7v5jkm8luXHhPgGsjgBbn8uS/OaMx89N6wA4wxuW7gB/4WzTFH8xRVhVR5Ic2fvu\\\n",
       "AKyTAFuf55Jcccbjy5M8/+ondfedSe5MXAMD9idTiOvzcJJ3V9U7q+qNST6R5L6F+wSwOkZgK9Pd\\\n",
       "f6qqW5N8N8mBJHd195MLdwtgdZTRbwBTiLD3lNGvjylEAIYkwAAYkgADYEgCDIAhCTAAhiTAABiS\\\n",
       "AANgSAIMgCEJMACGJMAAGJIAA2BIAgyAIQkwAIYkwAAYkgADYEgCDIAhCTAAhiTAABiSAANgSAIM\\\n",
       "gCEJMACGJMAAGJIAA2BIb1i6A/ylqnomyYtJ/pzkT9197bI9AlgfAbZe/9jdv1u6EwBrZQoRgCEJ\\\n",
       "sHXqJN+rqkeq6sjSnQFYI1OI6/T+7n6+qi5J8kBV/aK7HzzzCVOwCTdg36ruXroP7KCq7khyuru/\\\n",
       "tMNznETYY91dS/eBVzKFuDJVdWFVXfTy/SQfTvLEsr1i9/VKl3l6DLvBFOL6XJrk21WVbJ2fb3T3\\\n",
       "/y7bJYD1MYW4AUwhjmitp2z7WbLd7PGIc3GmENfHFCIAQxJgAAxJgAEwJAEGwJBUIcIrrLW4Yh5z\\\n",
       "7f1O7aiU4PUyAgNgSAIMgCEJMACGJMAAGJIAA2BIqhBhGGevz9vfdZMqGvczIzAAhiTAABiSAANg\\\n",
       "SAIMgCEJMACGJMAAGJIyegayewXjS3+78Pbtb1bh9xx7s1lHjHNhBAbAkAQYAEMSYAAMSYABMCQB\\\n",
       "BsCQBNhCququqjpZVU+cse7iqnqgqp6abg8u2cdN0Nss26vzWHaz/Xmc+57s9pGBv54AW87Xk9zw\\\n",
       "qnW3J/l+d787yfenxwCchQBbSHc/mOTUq1bfmOTodP9okpvm7BPASATYulza3SeSZLq9ZOH+AKyW\\\n",
       "T+IYVFUdSXJk6X4ALMUIbF1eqKpDSTLdntzuid19Z3df293XztY7gBURYOtyX5LD0/3DSe5dsC8A\\\n",
       "q1bdayjq3X+q6ptJrk/y9iQvJPlcku8kuTvJlUmeTXJzd7+60ONs29rnJ/Hcd//8Dti5F4af6yvO\\\n",
       "p1/K1efR3Q71ygiwDSDABBh7T4CtjylEAIYkwAAYkgADYEgCDIAh+UNm2EPnWpShSgBePyMwAIYk\\\n",
       "wAAYkgADYEgCDIAhCTAAhqQKkX1pu2q/nasGt/up2kFYghEYAEMSYAAMSYABMCQBBsCQBBgAQxJg\\\n",
       "AAxJGT0bYKcy9nP7ON3z29JObZxbif35bGn3WoexGIEBMCQBBsCQBBgAQxJgAAxJgAEwJAG2kKq6\\\n",
       "q6pOVtUTZ6y7o6p+W1WPTctHluzjXuptFra33TGrHRbYZAJsOV9PcsNZ1v9bd18zLf8zc58AhiHA\\\n",
       "FtLdDyY5tXQ/AEYlwNbn1qr62TTFeHDpzgCslQBbl68meVeSa5KcSPLl7Z5YVUeq6lhVHZupbwCr\\\n",
       "Ut0unS+lqq5Kcn93X30uPzvLc4c7ifN9t/HuHZrz29Lel1Io1phHdzvUK2MEtiJVdeiMhx9N8sR2\\\n",
       "zwXY73yY70Kq6ptJrk/y9qp6LsnnklxfVddk65f9Z5J8aqn+7bX5fpU9n4/A3c0tzTfWhP3GFOIG\\\n",
       "GHEKcXmbM7UoCudhCnF9TCECMCQBBsCQBBgAQxJgAAxJFSKv4Ovpx+OcsV8ZgQEwJAEGwJAEGABD\\\n",
       "EmAADEmAATAkVYi8wv6pWtv7z0jceWs+IxH+WkZgAAxJgAEwJAEGwJAEGABDEmAADEmAATAkZfQw\\\n",
       "OIX37FdGYAAMSYABMCQBBsCQBBgAQxJgAAxJgC2kqq6oqh9U1fGqerKqbpvWX1xVD1TVU9PtwaX7\\\n",
       "yrr1Dgtssur2v/kSqupQkkPd/WhVXZTkkSQ3JflkklPd/cWquj3Jwe7+zGtsy0ncNbt7KHf3s+3P\\\n",
       "nRL73dPdDufKGIEtpLtPdPej0/0XkxxPclmSG5McnZ52NFuhBsCrCLAVqKqrkrwvyUNJLu3uE8lW\\\n",
       "yCW5ZMGuAayWT+JYWFW9Jck9ST7d3X+oen2zFFV1JMmRvewbwJq5Bragqrogyf1JvtvdX5nW/TLJ\\\n",
       "9d19YrpO9sPufs9rbMdJ3DWugXF2roGtjynEhdTWUOtrSY6/HF6T+5Icnu4fTnLv3H0DGIER2EKq\\\n",
       "6gNJfpTk8SQvTas/m63rYHcnuTLJs0lu7u5Tr7EtJ3HXGIFxdkZg6yPANoAA200CjLMTYOtjChGA\\\n",
       "IQkwAIYkwAAYkgADYEj+kJmV2e0iit277j7iFfzdPJoj7j+bzQgMgCEJMACGJMAAGJIAA2BIAgyA\\\n",
       "IalCZKPVLlc17p55avpUDrLJjMAAGJIAA2BIAgyAIQkwAIYkwAAYkgADYEjK6FmZnQq/ly6JP3vf\\\n",
       "lu7VbtppX5TkszZGYAAMSYABMCQBBsCQBBgAQxJgAAxJgC2kqq6oqh9U1fGqerKqbpvW31FVv62q\\\n",
       "x6blI0v3dT1qm2Uevc1/2XEZy3ZHWAUia1Td4/0j2wRVdSjJoe5+tKouSvJIkpuSfDzJ6e7+0jls\\\n",
       "a5+fxHl2//xaWfatX/Dsnu52OFfG34EtpLtPJDkx3X+xqo4nuWzZXgGMwxTiClTVVUnel+ShadWt\\\n",
       "VfWzqrqrqg4u1zOA9RJgC6uqtyS5J8mnu/sPSb6a5F1JrsnWCO3L27zuSFUdq6pjc/UVYE1cA1tQ\\\n",
       "VV2Q5P4k3+3ur5zl51club+7r36N7ezzk+ga2Dpb3yyuga2PEdhCqqqSfC3J8TPDayrueNlHkzwx\\\n",
       "d98ARmAEtpCq+kCSHyV5PMlL0+rPJrklW9OHneSZJJ+aCj522paTuFK7eWJ289f/7fpliLE9I7D1\\\n",
       "EWAbQICtlwDbHAJsfUwhAjAkAQbAkAQYAEMSYAAMyUdJbTBfD7+8tR7ntfYLzoURGABDEmAADEmA\\\n",
       "ATAkAQbAkAQYAEMSYAAMSRn9BlMqDWwyIzAAhiTAABiSAANgSAIMgCEJMACGpAoRNphvXmaTGYEB\\\n",
       "MCQBBsCQBBgAQxJgAAxJgAEwJAG2kKp6U1X9pKp+WlVPVtXnp/UXV9UDVfXUdHtw6b6ypbdZ5mjj\\\n",
       "fNupbRbYBNW92/8EeT2qqpJc2N2nq+qCJD9OcluSjyU51d1frKrbkxzs7s+8xracxBnMUZK+04kU\\\n",
       "PMvqbqdgZYzAFtJbTk8PL5iWTnJjkqPT+qNJbpq/dwDrJ8AWVFUHquqxJCeTPNDdDyW5tLtPJMl0\\\n",
       "e8mCXQRYLQG2oO7+c3dfk+TyJNdV1dWv97VVdaSqjlXVsT3rIMCKCbAV6O7fJ/lhkhuSvFBVh5Jk\\\n",
       "uj25zWvu7O5ru/vaufoJsCYCbCFV9Y6qeut0/81JPpjkF0nuS3J4etrhJPcu0kGAlVOFuJCqem+2\\\n",
       "ijQOZOsXibu7+wtV9bYkdye5MsmzSW7u7lOvsS0ncR/wwbzLUoW4PgJsAwiw/UGALUuArY8pRACG\\\n",
       "JMAAGJIAA2BIAgyAIb1h6Q4Ar48KAnglIzAAhiTAABiSAANgSAIMgCEJMACGJMAAGJIAA2BIAgyA\\\n",
       "IQkwAIYkwAAYkgADYEgCDIAh+TDfzfC7JP833X/79Hgp2tf+Jrb/t3uwTf5K1e3b6DdJVR3r7mu1\\\n",
       "r33ts+lMIQIwJAEGwJAE2Oa5U/va1z77gWtgAAzJCAyAIQmwDVFVN1TVL6vq6aq6fYH2n6mqx6vq\\\n",
       "sao6NlObd1XVyap64ox1F1fVA1X11HR7cOb276iq307H4bGq+sgetX1FVf2gqo5X1ZNVddu0fpb9\\\n",
       "36H9ufb/TVX1k6r66dT+56f1s51/lmcKcQNU1YEkv0ryoSTPJXk4yS3d/fMZ+/BMkmu7e7a/Aaqq\\\n",
       "f0hyOsl/dvfV07p/TXKqu784BfnB7v7MjO3fkeR0d39pL9o8o+1DSQ5196NVdVGSR5LclOSTmWH/\\\n",
       "d2j/45ln/yvJhd19uqouSPLjJLcl+VhmOv8szwhsM1yX5Onu/nV3/zHJt5LcuHCf9lx3P5jk1KtW\\\n",
       "35jk6HT/aLbeVOdsfxbdfaK7H53uv5jkeJLLMtP+79D+LHrL6enhBdPSmfH8szwBthkuS/KbMx4/\\\n",
       "lxnfTCad5HtV9UhVHZm57TNd2t0nkq032SSXLNCHW6vqZ9MU455PYVXVVUnel+ShLLD/r2o/mWn/\\\n",
       "q+pAVT2W5GSSB7p7kf1nOQJsM9RZ1s09N/z+7v77JP+U5J+n6bX96KtJ3pXkmiQnknx5Lxurqrck\\\n",
       "uSfJp7v7D3vZ1utsf7b97+4/d/c1SS5Pcl1VXb1XbbFOAmwzPJfkijMeX57k+Tk70N3PT7cnk3w7\\\n",
       "W9OaS3hhuj7z8nWak3M23t0vTG+sLyX5j+zhcZiu/dyT5L+6+7+n1bPt/9nan3P/X9bdv0/ywyQ3\\\n",
       "ZOHzz7wE2GZ4OMm7q+qdVfXGJJ9Ict9cjVfVhdOF/FTVhUk+nOSJnV+1Z+5Lcni6fzjJvXM2/vKb\\\n",
       "5+Sj2aPjMBUxfC3J8e7+yhk/mmX/t2t/xv1/R1W9dbr/5iQfTPKLLHz+mZcqxA0xlSv/e5IDSe7q\\\n",
       "7n+Zse2/y9aoK9n6hoNvzNF+VX0zyfXZ+gTyF5J8Lsl3ktyd5Mokzya5ubv3pNBim/avz9b0WSd5\\\n",
       "JsmnXr4ms8ttfyDJj5I8nuSlafVns3Udas/3f4f2b8k8+//ebBVpHMjWL+J3d/cXquptmen8szwB\\\n",
       "BsCQTCECMCQBBsCQBBgAQxJgAAxJgAEwJAEGwJAEGABDEmAADEmAATAkAQbAkAQYAEMSYAAMSYAB\\\n",
       "MCQBBsCQBBgAQxJgAAxJgAEwJAEGwJAEGABDEmAADOn/ATcLhHAZSeSgAAAAAElFTkSuQmCC\\\n",
       "\"\n",
       "  frames[7] = \"data:image/png;base64,iVBORw0KGgoAAAANSUhEUgAAAbAAAAEgCAYAAADVKCZpAAAAOXRFWHRTb2Z0d2FyZQBNYXRwbG90\\\n",
       "bGliIHZlcnNpb24zLjMuMiwgaHR0cHM6Ly9tYXRwbG90bGliLm9yZy8vihELAAAACXBIWXMAAAsT\\\n",
       "AAALEwEAmpwYAAAOlklEQVR4nO3dT4hlV50H8O9v2ogSA3bUhCZ/Jo6ImyDt0GSjDBlQybhJFCJm\\\n",
       "1a7axQTizuDGKAzIoM7shAwGe2BUAhlNCMNoI0p0E9MJ0SS2miCZ2KZJI42YXonmN4u6DZW2q/LH\\\n",
       "fu/e8+rzgcu77/are373naS+dc499aq6OwAwmr+ZuwAAeD0EGABDEmAADEmAATAkAQbAkAQYAEMS\\\n",
       "YAAMSYABMCQBBsCQBBgAQxJgAAxJgAEwJAEGwJAEGABDEmAADEmAATAkAQbAkAQYAEMSYAAMSYAB\\\n",
       "MCQBBsCQBBgAQxJgAAxJgAEwJAEGwJAEGABDEmAADEmAATAkAQbAkAQYAEMSYAAMSYABMCQBBsCQ\\\n",
       "BNgCVdVNVfXLqnqmqu6cux6AJarunrsGtqmqfUl+leRDSU4meSTJbd39812+RifCinV3zV0DL2cE\\\n",
       "tjw3JHmmu3/d3X9M8q0kN89cE8DiCLDluSrJb7Y9PzkdA2CbN8xdAH/hQtMUfzFFWFVHkhxZfTkA\\\n",
       "yyTAludkkmu2Pb86yfPnv6i7705yd+IeGLA3mUJcnkeSvLuq3llVb0zyiSQPzFwTa9K7bMDLGYEt\\\n",
       "THf/qapuT/LdJPuS3NPdT81cFsDiWEa/AUwhbo7dOtIa7nlZRr88phABGJIAA2BIAgyAIQkwAIZk\\\n",
       "FSIsiFUC8OoZgQEwJAEGwJAEGABDEmAADEmAATAkAQbAkAQYAEMSYAAMSYABMCQBBsCQBBgAQxJg\\\n",
       "AAxJgAEwJAEGwJAEGABDEmAADEmAATAkAQbAkN4wdwH8pap6NsmLSf6c5E/dfWjeigCWR4At1z92\\\n",
       "9+/mLgJgqUwhAjAkAbZMneR7VfVoVR2ZuxiAJTKFuEzv7+7nq+qKJMeq6hfd/dD2F0zBJtyAPau6\\\n",
       "e+4a2EVV3ZXkbHd/aZfX6ERYse6uuWvg5UwhLkxVXVpVl53bT/LhJE/OWxXr07ts47U+35WwF5hC\\\n",
       "XJ4rk3y7qpKt/vlGd//vvCUBLI8pxA1gCnGT7NaVq5/Butit73S+EefiTCEujylEAIYkwAAYkgAD\\\n",
       "YEgCDIAhWYUIizLvOoHdWn89CzKsemCVjMAAGJIAA2BIAgyAIQkwAIYkwAAYklWI7FGv59O3Nn9N\\\n",
       "3bwfZAWvjREYAEMSYAAMSYABMCQBBsCQBBgAQxJgAAzJMnr2qL3994U350rYy4zAABiSAANgSAIM\\\n",
       "gCEJMACGJMAAGJIAm0lV3VNVp6vqyW3HLq+qY1X19PS4f84al6d32NaldtjGszlXwl4mwObz9SQ3\\\n",
       "nXfsziTf7+53J/n+9ByACxBgM+nuh5KcOe/wzUmOTvtHk9yyzpoARiLAluXK7j6VJNPjFTPXA7BY\\\n",
       "PoljUFV1JMmRuesAmIsR2LK8UFUHkmR6PL3TC7v77u4+1N2H1lYdwIIIsGV5IMnhaf9wkvtnrAVg\\\n",
       "0ap7ncuQOaeqvpnkxiRvT/JCks8l+U6Se5Ncm+S5JLd29/kLPS50rj3eibtd/mtbHH7xzsSm6W7/\\\n",
       "CSyMANsAAkyAsXoCbHlMIQIwJAEGwJAEGABDEmAADMkvMsM27tLDOIzAABiSAANgSAIMgCEJMACG\\\n",
       "JMAAGJJViGwAawdhLzICA2BIAgyAIQkwAIYkwAAYkgADYEgCDIAhWUYPr9JOf63ZIn6YhxEYAEMS\\\n",
       "YAAMSYABMCQBBsCQBBgAQxJgM6mqe6rqdFU9ue3YXVX126p6fNo+MmeNS9M7bOtSO2w71bXO2mAv\\\n",
       "EmDz+XqSmy5w/N+6++C0/c+aawIYhgCbSXc/lOTM3HUAjEqALc/tVfWzaYpx/9zFACyVAFuWryZ5\\\n",
       "V5KDSU4l+fJOL6yqI1V1vKqOr6k2gEWpbrea51JV1yV5sLuvfy3/doHX7olOXOpHOe325s9dGxdP\\\n",
       "d+vOhTECW5CqOrDt6UeTPLnTawH2Oh/mO5Oq+maSG5O8vapOJvlckhur6mC2fqh/Nsmn5qpvieb+\\\n",
       "8XdPDHNhIKYQN8BemUKc2+t5k+cOXS4eU4jLYwoRgCEJMACGJMAAGJIAA2BIViHCq+QOPiyLERgA\\\n",
       "QxJgAAxJgAEwJAEGwJAEGABDEmAADEmAATAkAQbAkAQYAEMSYAAMSYABMCQBBsCQfJgvrNBOf8XZ\\\n",
       "BwPDX88IDIAhCTAAhiTAABiSAANgSAIMgCEJsJlU1TVV9YOqOlFVT1XVHdPxy6vqWFU9PT3un7tW\\\n",
       "gCWq7p0W+rJKVXUgyYHufqyqLkvyaJJbknwyyZnu/mJV3Zlkf3d/5hXOpRMXyjL6zdHdum1hjMBm\\\n",
       "0t2nuvuxaf/FJCeSXJXk5iRHp5cdzVaoAXAeAbYAVXVdkvcleTjJld19KtkKuSRXzFgawGL5JI6Z\\\n",
       "VdVbktyX5NPd/YeqVzdLUVVHkhxZZW0AS+Ye2Iyq6pIkDyb5bnd/ZTr2yyQ3dvep6T7ZD7v7Pa9w\\\n",
       "Hp24UO6BbQ73wJbHFOJMamuo9bUkJ86F1+SBJIen/cNJ7l93bQAjMAKbSVV9IMmPkjyR5KXp8Gez\\\n",
       "dR/s3iTXJnkuya3dfeYVzqUTF+q1jsB260g//s/LCGx5BNgGEGDLJcA2hwBbHlOIAAxJgAEwJAEG\\\n",
       "wJAEGABD8ovMzGSpvyE17zKKua8eRmIEBsCQBBgAQxJgAAxJgAEwJAEGwJCsQmQmS11vd3Hreq0f\\\n",
       "GbXUdwWWyAgMgCEJMACGJMAAGJIAA2BIAgyAIQkwAIZkGT0DWebi89fz8b+Wy8NfzwgMgCEJMACG\\\n",
       "JMAAGJIAA2BIAgyAIQmwmVTVNVX1g6o6UVVPVdUd0/G7quq3VfX4tH1k7lqXo3bY1qN32IB5VLf/\\\n",
       "BedQVQeSHOjux6rqsiSPJrklyceTnO3uL72Gc+nENXg9b7Ll8puju3Xnwvg9sJl096kkp6b9F6vq\\\n",
       "RJKr5q0KYBymEBegqq5L8r4kD0+Hbq+qn1XVPVW1f77KAJZLgM2sqt6S5L4kn+7uPyT5apJ3JTmY\\\n",
       "rRHal3f4uiNVdbyqjq+rVoAlcQ9sRlV1SZIHk3y3u79ygX+/LsmD3X39K5xHJ66Be2B7m3tgy2ME\\\n",
       "NpOqqiRfS3Jie3hNizvO+WiSJ9ddG8AIjMBmUlUfSPKjJE8keWk6/Nkkt2Vr+rCTPJvkU9OCj93O\\\n",
       "pRNhxYzAlkeAbQABBqsnwJbHFCIAQxJgAAxJgAEwJAEGwJAEGABDEmAADEmAATAkAQbAkAQYAEMS\\\n",
       "YAAMSYABMCQBBsCQBBgAQxJgAAxJgAEwJAEGwJAEGABDEmAADEmAATAkAQbAkAQYAEMSYAAMSYAB\\\n",
       "MCQBNpOqelNV/aSqflpVT1XV56fjl1fVsap6enrcP3etAEtU3T13DXtSVVWSS7v7bFVdkuTHSe5I\\\n",
       "8rEkZ7r7i1V1Z5L93f2ZVziXToQV6+6auwZezghsJr3l7PT0kmnrJDcnOTodP5rklvVXB7B8AmxG\\\n",
       "VbWvqh5PcjrJse5+OMmV3X0qSabHK2YsEWCxBNiMuvvP3X0wydVJbqiq61/t11bVkao6XlXHV1Yg\\\n",
       "wIIJsAXo7t8n+WGSm5K8UFUHkmR6PL3D19zd3Ye6+9C66gRYEgE2k6p6R1W9ddp/c5IPJvlFkgeS\\\n",
       "HJ5edjjJ/bMUCLBwViHOpKrem61FGvuy9YPEvd39hap6W5J7k1yb5Lkkt3b3mVc4l06EFbMKcXkE\\\n",
       "2AYQYLB6Amx5TCECMCQBBsCQBBgAQxJgAAxJgAEwJAEGwJAEGABDEmAADEmAATAkAQbAkAQYAEMS\\\n",
       "YAAMSYABMCQBBsCQBBgAQxJgAAxJgAEwpDfMXQAXxe+S/N+0//bp+Vy0r/1NbP9vV3BO/krV7a/R\\\n",
       "b5KqOt7dh7Svfe2z6UwhAjAkAQbAkATY5rlb+9rXPnuBe2AADMkIDIAhCbANUVU3VdUvq+qZqrpz\\\n",
       "hvafraonqurxqjq+pjbvqarTVfXktmOXV9Wxqnp6ety/5vbvqqrfTu/D41X1kRW1fU1V/aCqTlTV\\\n",
       "U1V1x3R8Lde/S/vruv43VdVPquqnU/ufn46vrf+ZnynEDVBV+5L8KsmHkpxM8kiS27r752us4dkk\\\n",
       "h7p7bb8DVFX/kORskv/s7uunY/+a5Ex3f3EK8v3d/Zk1tn9XkrPd/aVVtLmt7QNJDnT3Y1V1WZJH\\\n",
       "k9yS5JNZw/Xv0v7Hs57rrySXdvfZqrokyY+T3JHkY1lT/zM/I7DNcEOSZ7r71939xyTfSnLzzDWt\\\n",
       "XHc/lOTMeYdvTnJ02j+arW+q62x/Lbr7VHc/Nu2/mOREkquypuvfpf216C1np6eXTFtnjf3P/ATY\\\n",
       "ZrgqyW+2PT+ZNX4zmXSS71XVo1V1ZM1tb3dld59Ktr7JJrlihhpur6qfTVOMK5/CqqrrkrwvycOZ\\\n",
       "4frPaz9Z0/VX1b6qejzJ6STHunuW62c+Amwz1AWOrXtu+P3d/fdJ/inJP0/Ta3vRV5O8K8nBJKeS\\\n",
       "fHmVjVXVW5Lcl+TT3f2HVbb1Kttf2/V395+7+2CSq5PcUFXXr6otlkmAbYaTSa7Z9vzqJM+vs4Du\\\n",
       "fn56PJ3k29ma1pzDC9P9mXP3aU6vs/HufmH6xvpSkv/ICt+H6d7PfUn+q7v/ezq8tuu/UPvrvP5z\\\n",
       "uvv3SX6Y5KbM3P+slwDbDI8keXdVvbOq3pjkE0keWFfjVXXpdCM/VXVpkg8neXL3r1qZB5IcnvYP\\\n",
       "J7l/nY2f++Y5+WhW9D5Mixi+luREd39l2z+t5fp3an+N1/+OqnrrtP/mJB9M8ovM3P+sl1WIG2Ja\\\n",
       "rvzvSfYluae7/2WNbf9dtkZdydZfOPjGOtqvqm8muTFbn0D+QpLPJflOknuTXJvkuSS3dvdKFlrs\\\n",
       "0P6N2Zo+6yTPJvnUuXsyF7ntDyT5UZInkrw0Hf5stu5Drfz6d2n/tqzn+t+brUUa+7L1g/i93f2F\\\n",
       "qnpb1tT/zE+AATAkU4gADEmAATAkAQbAkAQYAEMSYAAMSYABMCQBBsCQBBgAQxJgAAxJgAEwJAEG\\\n",
       "wJAEGABDEmAADEmAATAkAQbAkAQYAEMSYAAMSYABMCQBBsCQBBgAQ/p/YPQej3qjGKQAAAAASUVO\\\n",
       "RK5CYII=\\\n",
       "\"\n",
       "\n",
       "\n",
       "    /* set a timeout to make sure all the above elements are created before\n",
       "       the object is initialized. */\n",
       "    setTimeout(function() {\n",
       "        anim1350645ecf2f4e969c508bcb380a2895 = new Animation(frames, img_id, slider_id, 41.0,\n",
       "                                 loop_select_id);\n",
       "    }, 0);\n",
       "  })()\n",
       "</script>\n"
      ],
      "text/plain": [
       "<IPython.core.display.HTML object>"
      ]
     },
     "execution_count": 24,
     "metadata": {},
     "output_type": "execute_result"
    }
   ],
   "source": [
    "spikes, image = testNMNIST[5234]\n",
    "anim = snn.io.animTD(snn.io.spikeArrayToEvent(spikes.reshape((2, 34, 34, -1)).cpu().data.numpy()))\n",
    "# anim = snn.io.animTD(snn.io.spikeArrayToEvent(input.to_dense().reshape((2, 34, 34, -1)).cpu().data.numpy()))\n",
    "HTML(anim.to_jshtml())"
   ]
  },
  {
   "cell_type": "code",
   "execution_count": 25,
   "metadata": {},
   "outputs": [
    {
     "data": {
      "text/plain": [
       "<matplotlib.image.AxesImage at 0x7fbbebae6748>"
      ]
     },
     "execution_count": 25,
     "metadata": {},
     "output_type": "execute_result"
    },
    {
     "data": {
      "image/png": "[encoded data removed]",
      "text/plain": [
       "<Figure size 432x288 with 1 Axes>"
      ]
     },
     "metadata": {
      "needs_background": "light"
     },
     "output_type": "display_data"
    }
   ],
   "source": [
    "plt.imshow(image.numpy()[0,:,:,0], cmap='gray')"
   ]
  },
  {
   "cell_type": "markdown",
   "metadata": {},
   "source": [
    "## Noisy data"
   ]
  },
  {
   "cell_type": "raw",
   "metadata": {},
   "source": [
    "trainingSetNoisy = nmnistDatasetNoisy(datasetPath =netParams['training']['path']['train']['data'], \n",
    "                            sampleFile  =netParams['training']['path']['train']['labels'],\n",
    "                            samplingTime=netParams['simulation']['Ts'],\n",
    "                            sampleLength=netParams['simulation']['tSample'],\n",
    "                            percentNoise = 0.001)"
   ]
  },
  {
   "cell_type": "raw",
   "metadata": {
    "scrolled": false
   },
   "source": [
    "input2, target2, label2 = trainingSetNoisy[4]\n",
    "anim = snn.io.animTD(snn.io.spikeArrayToEvent(input2.reshape((2, 34, 34, -1)).cpu().data.numpy()))\n",
    "HTML(anim.to_jshtml())"
   ]
  },
  {
   "cell_type": "code",
   "execution_count": 26,
   "metadata": {},
   "outputs": [],
   "source": [
    "# Delete the rogue temp-file\n",
    "try:\n",
    "    os.remove('None0000000.png')\n",
    "except FileNotFoundError:\n",
    "    pass"
   ]
  },
  {
   "cell_type": "code",
   "execution_count": 27,
   "metadata": {},
   "outputs": [],
   "source": [
    "# Define the cuda device to run the code on.\n",
    "# device = torch.device('cuda')\n",
    "# Use multiple GPU's if available\n",
    "device = torch.device('cuda:0')#:2') # should be the first GPU of deviceIDs \n",
    "deviceIds = [0]#2, 3]"
   ]
  },
  {
   "cell_type": "markdown",
   "metadata": {},
   "source": [
    "## Define the network\n",
    "The network definition follows similar style as standard PyTorch network definition, but it utilizes snn modules."
   ]
  },
  {
   "cell_type": "code",
   "execution_count": 28,
   "metadata": {},
   "outputs": [],
   "source": [
    "class SpikeToImageNMNIST(torch.nn.Module):\n",
    "    def __init__(self, netParams=netParams):\n",
    "        super(SpikeToImageNMNIST, self).__init__()\n",
    "         # initialize slayer\n",
    "        self.slayer = snn.layer(netParams['neuron'], netParams['simulation'])\n",
    "        \n",
    "        # Create snn loss instance.\n",
    "        self.error = snn.loss(netParams).to(device)\n",
    "        \n",
    "        # define layers\n",
    "        self.conv1 = self.slayer.conv(2, 4, 5, padding=2)\n",
    "        self.conv2 = self.slayer.conv(4, 2, 3, padding=2)\n",
    "        self.conv3 = self.slayer.conv(2, 1, 3)\n",
    "        # \"latent\" layer\n",
    "        self.conv4 = self.slayer.conv(1, 4, 3, padding=1)\n",
    "        self.conv5 = self.slayer.conv(4, 2, 3, padding=1)\n",
    "        \n",
    "    def forward(self, x):\n",
    "        x = self.slayer.spike(self.conv1(self.slayer.psp(x)))\n",
    "        x = self.slayer.spike(self.conv2(self.slayer.psp(x)))\n",
    "        x = self.slayer.spike(self.conv3(self.slayer.psp(x)))\n",
    "        y = x # \"latent\" layer\n",
    "        x = self.slayer.spike(self.conv4(self.slayer.psp(x)))\n",
    "        x = self.slayer.spike(self.conv5(self.slayer.psp(x)))\n",
    "        return y, x"
   ]
  },
  {
   "cell_type": "markdown",
   "metadata": {},
   "source": [
    "# create instance of network, dataloaders, and optimizer"
   ]
  },
  {
   "cell_type": "code",
   "execution_count": 29,
   "metadata": {},
   "outputs": [],
   "source": [
    "def numSpikesAnalogConv(self, spikeOut, desiredSpikes, numSpikesScale=1):\n",
    "        '''\n",
    "        Calculates spike loss based on number of spikes within a `target region`.\n",
    "        The `target region` and `desired spike count` is specified in ``error.errorDescriptor['tgtSpikeRegion']``\n",
    "        Any spikes outside the target region are penalized with ``error.spikeTime`` loss..\n",
    "\n",
    "        .. math::\n",
    "            e(t) &= \n",
    "            \\\\begin{cases}\n",
    "            \\\\frac{acutalSpikeCount - desiredSpikeCount}{targetRegionLength} & \\\\text{for }t \\in targetRegion\\\\\\\\\n",
    "            \\\\left(\\\\varepsilon * (output - desired)\\\\right)(t) & \\\\text{otherwise}\n",
    "            \\\\end{cases}\n",
    "            \n",
    "            E &= \\\\int_0^T e(t)^2 \\\\text{d}t\n",
    "\n",
    "        Arguments:\n",
    "            * ``spikeOut`` (``torch.tensor``): spike tensor\n",
    "            * ``desiredClass`` (``torch.tensor``): one-hot encoded desired class tensor.\n",
    "                Time dimension should be 1 and rest of the tensor dimensions should be same as ``spikeOut``.\n",
    "\n",
    "        Usage:\n",
    "\n",
    "        >>> loss = error.numSpikes(spikeOut, target)\n",
    "        '''\n",
    "        # Tested with autograd, it works\n",
    "        assert self.errorDescriptor['type'] == 'NumSpikes', \"Error type is not NumSpikes\"\n",
    "        # desiredClass should be one-hot tensor with 5th dimension 1\n",
    "        tgtSpikeRegion = self.errorDescriptor['tgtSpikeRegion']\n",
    "        tgtSpikeCount  = self.errorDescriptor['tgtSpikeCount']\n",
    "        startID = np.rint( tgtSpikeRegion['start'] / self.simulation['Ts'] ).astype(int)\n",
    "        stopID  = np.rint( tgtSpikeRegion['stop' ] / self.simulation['Ts'] ).astype(int)\n",
    "        \n",
    "        actualSpikes = torch.sigmoid(torch.sum(spikeOut[...,startID:stopID],\n",
    "                                               dim=4, keepdim=True)/10-3.5) * self.simulation['Ts']\n",
    "        #          .cpu().detach().numpy()\n",
    "        # MNIST uses values from 0 to 1. Dividing by 10 and subtracting 3.5 then taking the sigmoid means\n",
    "        # the center of the sigmoid will occur at around 35 spikes, and it will reach over 90% by 60 spikes,\n",
    "        # and less than 10% by less than 10 spikes.\n",
    "        \n",
    "        # desiredSpikes = np.where(desiredClass.cpu() == True, tgtSpikeCount[True], tgtSpikeCount[False])\n",
    "#         desiredSpikes = desiredSpikes.cpu().numpy()\n",
    "        # print('actualSpikes :', actualSpikes.flatten())\n",
    "        # print('desiredSpikes:', desiredSpikes.flatten())\n",
    "#         print(actualSpikes.shape, desiredSpikes.shape)\n",
    "        # print(actualSpikes.size(), desiredSpikes.size())\n",
    "        errorSpikeCount = F.conv2d(actualSpikes.squeeze().unsqueeze(0),\n",
    "                                   desiredSpikes.squeeze().unsqueeze(1), stride=1, groups=desiredSpikes.size()[0]) \\\n",
    "                            / (stopID - startID) * numSpikesScale\n",
    "        peak  = torch.amax(errorSpikeCount, dim=(2,3))\n",
    "        total = torch.sum(errorSpikeCount, dim=(2,3))\n",
    "        error = total-peak\n",
    "        # print(errorSpikeCount.size())\n",
    "#         print(errorSpikeCount.shape)\n",
    "#         targetRegion = np.zeros(spikeOut.shape)\n",
    "#         targetRegion[:,:,:,:,startID:stopID] = 1;\n",
    "#         spikeDesired = torch.FloatTensor(targetRegion * spikeOut.cpu().data.numpy()).to(spikeOut.device)\n",
    "        \n",
    "        # error = self.psp(spikeOut - spikeDesired)\n",
    "#         error = self.slayer.psp(spikeOut - spikeDesired)\n",
    "#         error += torch.FloatTensor(errorSpikeCount * targetRegion).to(spikeOut.device)\n",
    "        \n",
    "        return 1/2 * torch.sum(error**2) * self.simulation['Ts']"
   ]
  },
  {
   "cell_type": "code",
   "execution_count": 30,
   "metadata": {},
   "outputs": [],
   "source": [
    "# Instantiate network\n",
    "net = SpikeToImageNMNIST()\n",
    "device = torch.device(\"cuda:0\") # for training on GPU\n",
    "net = net.to(device) # move it to device\n",
    "\n",
    "# Dataset and dataLoader instances.\n",
    "trainingSet = trainNMNIST\n",
    "trainingsubset = torch.LongTensor(6000).random_(0, len(trainingSet))\n",
    "trainLoader = DataLoader(dataset=trainingSet, batch_size=8, # shuffle=True,\n",
    "                         sampler=torch.utils.data.SubsetRandomSampler(trainingsubset),\n",
    "                         num_workers=4)\n",
    "\n",
    "testingSet = testNMNIST\n",
    "testingsubset = torch.LongTensor(10).random_(0, len(testingSet))\n",
    "testLoader = DataLoader(dataset=testingSet, batch_size=10, # shuffle=True, \n",
    "                        sampler=torch.utils.data.SubsetRandomSampler(testingsubset),\n",
    "                        num_workers=4)\n",
    "\n",
    "# Set the loss function\n",
    "error = snn.loss(netParams).to(device)\n",
    "\n",
    "# Define optimizer module.\n",
    "optimizer = torch.optim.Adam(net.parameters(), lr = 0.01, amsgrad = True)"
   ]
  },
  {
   "cell_type": "code",
   "execution_count": 31,
   "metadata": {},
   "outputs": [
    {
     "data": {
      "text/plain": [
       "(torch.Size([1, 1, 34, 34, 300]), torch.Size([1, 2, 34, 34, 300]))"
      ]
     },
     "execution_count": 31,
     "metadata": {},
     "output_type": "execute_result"
    }
   ],
   "source": [
    "spikes, image = trainingSet[0]\n",
    "spikes = spikes.unsqueeze(0).to(device)\n",
    "image = image.unsqueeze(0).to(device)\n",
    "\n",
    "output = net(spikes)\n",
    "output[0].size(), output[1].size()"
   ]
  },
  {
   "cell_type": "markdown",
   "metadata": {},
   "source": [
    "# Train it!"
   ]
  },
  {
   "cell_type": "code",
   "execution_count": 33,
   "metadata": {
    "scrolled": false
   },
   "outputs": [
    {
     "data": {
      "application/vnd.jupyter.widget-view+json": {
       "model_id": "1c674cd1536a43a2883e033b74a44fb1",
       "version_major": 2,
       "version_minor": 0
      },
      "text/plain": [
       "HBox(children=(HTML(value='epochs'), FloatProgress(value=0.0), HTML(value='')))"
      ]
     },
     "metadata": {},
     "output_type": "display_data"
    },
    {
     "data": {
      "application/vnd.jupyter.widget-view+json": {
       "model_id": "",
       "version_major": 2,
       "version_minor": 0
      },
      "text/plain": [
       "HBox(children=(HTML(value='training loop'), FloatProgress(value=0.0, max=750.0), HTML(value='')))"
      ]
     },
     "metadata": {},
     "output_type": "display_data"
    },
    {
     "data": {
      "application/vnd.jupyter.widget-view+json": {
       "model_id": "",
       "version_major": 2,
       "version_minor": 0
      },
      "text/plain": [
       "HBox(children=(HTML(value='training loop'), FloatProgress(value=0.0, max=750.0), HTML(value='')))"
      ]
     },
     "metadata": {},
     "output_type": "display_data"
    },
    {
     "data": {
      "application/vnd.jupyter.widget-view+json": {
       "model_id": "",
       "version_major": 2,
       "version_minor": 0
      },
      "text/plain": [
       "HBox(children=(HTML(value='training loop'), FloatProgress(value=0.0, max=750.0), HTML(value='')))"
      ]
     },
     "metadata": {},
     "output_type": "display_data"
    },
    {
     "data": {
      "application/vnd.jupyter.widget-view+json": {
       "model_id": "",
       "version_major": 2,
       "version_minor": 0
      },
      "text/plain": [
       "HBox(children=(HTML(value='training loop'), FloatProgress(value=0.0, max=750.0), HTML(value='')))"
      ]
     },
     "metadata": {},
     "output_type": "display_data"
    },
    {
     "data": {
      "application/vnd.jupyter.widget-view+json": {
       "model_id": "",
       "version_major": 2,
       "version_minor": 0
      },
      "text/plain": [
       "HBox(children=(HTML(value='training loop'), FloatProgress(value=0.0, max=750.0), HTML(value='')))"
      ]
     },
     "metadata": {},
     "output_type": "display_data"
    },
    {
     "data": {
      "application/vnd.jupyter.widget-view+json": {
       "model_id": "",
       "version_major": 2,
       "version_minor": 0
      },
      "text/plain": [
       "HBox(children=(HTML(value='training loop'), FloatProgress(value=0.0, max=750.0), HTML(value='')))"
      ]
     },
     "metadata": {},
     "output_type": "display_data"
    },
    {
     "data": {
      "application/vnd.jupyter.widget-view+json": {
       "model_id": "",
       "version_major": 2,
       "version_minor": 0
      },
      "text/plain": [
       "HBox(children=(HTML(value='training loop'), FloatProgress(value=0.0, max=750.0), HTML(value='')))"
      ]
     },
     "metadata": {},
     "output_type": "display_data"
    },
    {
     "data": {
      "application/vnd.jupyter.widget-view+json": {
       "model_id": "",
       "version_major": 2,
       "version_minor": 0
      },
      "text/plain": [
       "HBox(children=(HTML(value='training loop'), FloatProgress(value=0.0, max=750.0), HTML(value='')))"
      ]
     },
     "metadata": {},
     "output_type": "display_data"
    },
    {
     "data": {
      "application/vnd.jupyter.widget-view+json": {
       "model_id": "",
       "version_major": 2,
       "version_minor": 0
      },
      "text/plain": [
       "HBox(children=(HTML(value='training loop'), FloatProgress(value=0.0, max=750.0), HTML(value='')))"
      ]
     },
     "metadata": {},
     "output_type": "display_data"
    },
    {
     "data": {
      "application/vnd.jupyter.widget-view+json": {
       "model_id": "",
       "version_major": 2,
       "version_minor": 0
      },
      "text/plain": [
       "HBox(children=(HTML(value='training loop'), FloatProgress(value=0.0, max=750.0), HTML(value='')))"
      ]
     },
     "metadata": {},
     "output_type": "display_data"
    },
    {
     "data": {
      "application/vnd.jupyter.widget-view+json": {
       "model_id": "",
       "version_major": 2,
       "version_minor": 0
      },
      "text/plain": [
       "HBox(children=(HTML(value='training loop'), FloatProgress(value=0.0, max=750.0), HTML(value='')))"
      ]
     },
     "metadata": {},
     "output_type": "display_data"
    },
    {
     "data": {
      "application/vnd.jupyter.widget-view+json": {
       "model_id": "",
       "version_major": 2,
       "version_minor": 0
      },
      "text/plain": [
       "HBox(children=(HTML(value='training loop'), FloatProgress(value=0.0, max=750.0), HTML(value='')))"
      ]
     },
     "metadata": {},
     "output_type": "display_data"
    },
    {
     "data": {
      "application/vnd.jupyter.widget-view+json": {
       "model_id": "",
       "version_major": 2,
       "version_minor": 0
      },
      "text/plain": [
       "HBox(children=(HTML(value='training loop'), FloatProgress(value=0.0, max=750.0), HTML(value='')))"
      ]
     },
     "metadata": {},
     "output_type": "display_data"
    },
    {
     "data": {
      "application/vnd.jupyter.widget-view+json": {
       "model_id": "",
       "version_major": 2,
       "version_minor": 0
      },
      "text/plain": [
       "HBox(children=(HTML(value='training loop'), FloatProgress(value=0.0, max=750.0), HTML(value='')))"
      ]
     },
     "metadata": {},
     "output_type": "display_data"
    },
    {
     "data": {
      "application/vnd.jupyter.widget-view+json": {
       "model_id": "41a6e14042a34dde93901bb193e499a9",
       "version_major": 2,
       "version_minor": 0
      },
      "text/plain": [
       "HBox(children=(HTML(value='training loop'), FloatProgress(value=0.0, max=750.0), HTML(value='')))"
      ]
     },
     "metadata": {},
     "output_type": "display_data"
    },
    {
     "name": "stderr",
     "output_type": "stream",
     "text": [
      "IOPub message rate exceeded.\n",
      "The notebook server will temporarily stop sending output\n",
      "to the client in order to avoid crashing it.\n",
      "To change this limit, set the config variable\n",
      "`--NotebookApp.iopub_msg_rate_limit`.\n",
      "\n",
      "Current values:\n",
      "NotebookApp.iopub_msg_rate_limit=1000.0 (msgs/sec)\n",
      "NotebookApp.rate_limit_window=3.0 (secs)\n",
      "\n"
     ]
    },
    {
     "data": {
      "application/vnd.jupyter.widget-view+json": {
       "model_id": "",
       "version_major": 2,
       "version_minor": 0
      },
      "text/plain": [
       "HBox(children=(HTML(value='training loop'), FloatProgress(value=0.0, max=750.0), HTML(value='')))"
      ]
     },
     "metadata": {},
     "output_type": "display_data"
    },
    {
     "data": {
      "application/vnd.jupyter.widget-view+json": {
       "model_id": "",
       "version_major": 2,
       "version_minor": 0
      },
      "text/plain": [
       "HBox(children=(HTML(value='training loop'), FloatProgress(value=0.0, max=750.0), HTML(value='')))"
      ]
     },
     "metadata": {},
     "output_type": "display_data"
    },
    {
     "data": {
      "application/vnd.jupyter.widget-view+json": {
       "model_id": "",
       "version_major": 2,
       "version_minor": 0
      },
      "text/plain": [
       "HBox(children=(HTML(value='training loop'), FloatProgress(value=0.0, max=750.0), HTML(value='')))"
      ]
     },
     "metadata": {},
     "output_type": "display_data"
    },
    {
     "data": {
      "application/vnd.jupyter.widget-view+json": {
       "model_id": "6401828605b4497b9adf5b05606cb2df",
       "version_major": 2,
       "version_minor": 0
      },
      "text/plain": [
       "HBox(children=(HTML(value='training loop'), FloatProgress(value=0.0, max=750.0), HTML(value='')))"
      ]
     },
     "metadata": {},
     "output_type": "display_data"
    },
    {
     "name": "stderr",
     "output_type": "stream",
     "text": [
      "IOPub message rate exceeded.\n",
      "The notebook server will temporarily stop sending output\n",
      "to the client in order to avoid crashing it.\n",
      "To change this limit, set the config variable\n",
      "`--NotebookApp.iopub_msg_rate_limit`.\n",
      "\n",
      "Current values:\n",
      "NotebookApp.iopub_msg_rate_limit=1000.0 (msgs/sec)\n",
      "NotebookApp.rate_limit_window=3.0 (secs)\n",
      "\n"
     ]
    },
    {
     "data": {
      "application/vnd.jupyter.widget-view+json": {
       "model_id": "",
       "version_major": 2,
       "version_minor": 0
      },
      "text/plain": [
       "HBox(children=(HTML(value='training loop'), FloatProgress(value=0.0, max=750.0), HTML(value='')))"
      ]
     },
     "metadata": {},
     "output_type": "display_data"
    },
    {
     "data": {
      "application/vnd.jupyter.widget-view+json": {
       "model_id": "4f8d56575ce7458c9745c5bcb5b2e31c",
       "version_major": 2,
       "version_minor": 0
      },
      "text/plain": [
       "HBox(children=(HTML(value='training loop'), FloatProgress(value=0.0, max=750.0), HTML(value='')))"
      ]
     },
     "metadata": {},
     "output_type": "display_data"
    },
    {
     "name": "stderr",
     "output_type": "stream",
     "text": [
      "IOPub message rate exceeded.\n",
      "The notebook server will temporarily stop sending output\n",
      "to the client in order to avoid crashing it.\n",
      "To change this limit, set the config variable\n",
      "`--NotebookApp.iopub_msg_rate_limit`.\n",
      "\n",
      "Current values:\n",
      "NotebookApp.iopub_msg_rate_limit=1000.0 (msgs/sec)\n",
      "NotebookApp.rate_limit_window=3.0 (secs)\n",
      "\n"
     ]
    },
    {
     "data": {
      "application/vnd.jupyter.widget-view+json": {
       "model_id": "",
       "version_major": 2,
       "version_minor": 0
      },
      "text/plain": [
       "HBox(children=(HTML(value='training loop'), FloatProgress(value=0.0, max=750.0), HTML(value='')))"
      ]
     },
     "metadata": {},
     "output_type": "display_data"
    },
    {
     "data": {
      "application/vnd.jupyter.widget-view+json": {
       "model_id": "",
       "version_major": 2,
       "version_minor": 0
      },
      "text/plain": [
       "HBox(children=(HTML(value='training loop'), FloatProgress(value=0.0, max=750.0), HTML(value='')))"
      ]
     },
     "metadata": {},
     "output_type": "display_data"
    },
    {
     "data": {
      "application/vnd.jupyter.widget-view+json": {
       "model_id": "",
       "version_major": 2,
       "version_minor": 0
      },
      "text/plain": [
       "HBox(children=(HTML(value='training loop'), FloatProgress(value=0.0, max=750.0), HTML(value='')))"
      ]
     },
     "metadata": {},
     "output_type": "display_data"
    },
    {
     "data": {
      "application/vnd.jupyter.widget-view+json": {
       "model_id": "",
       "version_major": 2,
       "version_minor": 0
      },
      "text/plain": [
       "HBox(children=(HTML(value='training loop'), FloatProgress(value=0.0, max=750.0), HTML(value='')))"
      ]
     },
     "metadata": {},
     "output_type": "display_data"
    },
    {
     "data": {
      "application/vnd.jupyter.widget-view+json": {
       "model_id": "",
       "version_major": 2,
       "version_minor": 0
      },
      "text/plain": [
       "HBox(children=(HTML(value='training loop'), FloatProgress(value=0.0, max=750.0), HTML(value='')))"
      ]
     },
     "metadata": {},
     "output_type": "display_data"
    },
    {
     "data": {
      "application/vnd.jupyter.widget-view+json": {
       "model_id": "0f2e83016a694eb0bc9345054fc8a08c",
       "version_major": 2,
       "version_minor": 0
      },
      "text/plain": [
       "HBox(children=(HTML(value='training loop'), FloatProgress(value=0.0, max=750.0), HTML(value='')))"
      ]
     },
     "metadata": {},
     "output_type": "display_data"
    },
    {
     "name": "stderr",
     "output_type": "stream",
     "text": [
      "IOPub message rate exceeded.\n",
      "The notebook server will temporarily stop sending output\n",
      "to the client in order to avoid crashing it.\n",
      "To change this limit, set the config variable\n",
      "`--NotebookApp.iopub_msg_rate_limit`.\n",
      "\n",
      "Current values:\n",
      "NotebookApp.iopub_msg_rate_limit=1000.0 (msgs/sec)\n",
      "NotebookApp.rate_limit_window=3.0 (secs)\n",
      "\n"
     ]
    },
    {
     "data": {
      "application/vnd.jupyter.widget-view+json": {
       "model_id": "",
       "version_major": 2,
       "version_minor": 0
      },
      "text/plain": [
       "HBox(children=(HTML(value='training loop'), FloatProgress(value=0.0, max=750.0), HTML(value='')))"
      ]
     },
     "metadata": {},
     "output_type": "display_data"
    },
    {
     "data": {
      "application/vnd.jupyter.widget-view+json": {
       "model_id": "9b2f559805d54286a83e1440758cebda",
       "version_major": 2,
       "version_minor": 0
      },
      "text/plain": [
       "HBox(children=(HTML(value='training loop'), FloatProgress(value=0.0, max=750.0), HTML(value='')))"
      ]
     },
     "metadata": {},
     "output_type": "display_data"
    },
    {
     "name": "stderr",
     "output_type": "stream",
     "text": [
      "IOPub message rate exceeded.\n",
      "The notebook server will temporarily stop sending output\n",
      "to the client in order to avoid crashing it.\n",
      "To change this limit, set the config variable\n",
      "`--NotebookApp.iopub_msg_rate_limit`.\n",
      "\n",
      "Current values:\n",
      "NotebookApp.iopub_msg_rate_limit=1000.0 (msgs/sec)\n",
      "NotebookApp.rate_limit_window=3.0 (secs)\n",
      "\n"
     ]
    },
    {
     "data": {
      "application/vnd.jupyter.widget-view+json": {
       "model_id": "",
       "version_major": 2,
       "version_minor": 0
      },
      "text/plain": [
       "HBox(children=(HTML(value='training loop'), FloatProgress(value=0.0, max=750.0), HTML(value='')))"
      ]
     },
     "metadata": {},
     "output_type": "display_data"
    },
    {
     "data": {
      "application/vnd.jupyter.widget-view+json": {
       "model_id": "",
       "version_major": 2,
       "version_minor": 0
      },
      "text/plain": [
       "HBox(children=(HTML(value='training loop'), FloatProgress(value=0.0, max=750.0), HTML(value='')))"
      ]
     },
     "metadata": {},
     "output_type": "display_data"
    },
    {
     "data": {
      "application/vnd.jupyter.widget-view+json": {
       "model_id": "",
       "version_major": 2,
       "version_minor": 0
      },
      "text/plain": [
       "HBox(children=(HTML(value='training loop'), FloatProgress(value=0.0, max=750.0), HTML(value='')))"
      ]
     },
     "metadata": {},
     "output_type": "display_data"
    },
    {
     "data": {
      "application/vnd.jupyter.widget-view+json": {
       "model_id": "",
       "version_major": 2,
       "version_minor": 0
      },
      "text/plain": [
       "HBox(children=(HTML(value='training loop'), FloatProgress(value=0.0, max=750.0), HTML(value='')))"
      ]
     },
     "metadata": {},
     "output_type": "display_data"
    },
    {
     "data": {
      "application/vnd.jupyter.widget-view+json": {
       "model_id": "945cea8cdd994979a85060463bde2baf",
       "version_major": 2,
       "version_minor": 0
      },
      "text/plain": [
       "HBox(children=(HTML(value='training loop'), FloatProgress(value=0.0, max=750.0), HTML(value='')))"
      ]
     },
     "metadata": {},
     "output_type": "display_data"
    },
    {
     "name": "stdout",
     "output_type": "stream",
     "text": [
      "\n"
     ]
    },
    {
     "ename": "KeyboardInterrupt",
     "evalue": "",
     "output_type": "error",
     "traceback": [
      "\u001b[0;31m---------------------------------------------------------------------------\u001b[0m",
      "\u001b[0;31mKeyboardInterrupt\u001b[0m                         Traceback (most recent call last)",
      "\u001b[0;32m<ipython-input-33-3afb2a433ee3>\u001b[0m in \u001b[0;36m<module>\u001b[0;34m\u001b[0m\n\u001b[1;32m     40\u001b[0m \u001b[0;34m\u001b[0m\u001b[0m\n\u001b[1;32m     41\u001b[0m             \u001b[0;31m# Gather training loss stats.\u001b[0m\u001b[0;34m\u001b[0m\u001b[0;34m\u001b[0m\u001b[0;34m\u001b[0m\u001b[0m\n\u001b[0;32m---> 42\u001b[0;31m             \u001b[0mtrainLoss\u001b[0m \u001b[0;34m+=\u001b[0m \u001b[0mloss\u001b[0m\u001b[0;34m.\u001b[0m\u001b[0mcpu\u001b[0m\u001b[0;34m(\u001b[0m\u001b[0;34m)\u001b[0m\u001b[0;34m.\u001b[0m\u001b[0mdata\u001b[0m\u001b[0;34m.\u001b[0m\u001b[0mitem\u001b[0m\u001b[0;34m(\u001b[0m\u001b[0;34m)\u001b[0m\u001b[0;34m\u001b[0m\u001b[0;34m\u001b[0m\u001b[0m\n\u001b[0m\u001b[1;32m     43\u001b[0m \u001b[0;34m\u001b[0m\u001b[0m\n\u001b[1;32m     44\u001b[0m             \u001b[0;31m# Display training stats. (Suitable for normal python implementation)\u001b[0m\u001b[0;34m\u001b[0m\u001b[0;34m\u001b[0m\u001b[0;34m\u001b[0m\u001b[0m\n",
      "\u001b[0;31mKeyboardInterrupt\u001b[0m: "
     ]
    }
   ],
   "source": [
    "# Create writer for logging to tensorboard\n",
    "writer = SummaryWriter(os.path.join(RESULTS_DIR, 'trainingstats', 'spiketoimagetospike2', 'model1'))\n",
    "\n",
    "# epoch loop.\n",
    "for epoch in tqdm.trange(100, desc='epochs'):\n",
    "        # Reset training stats.\n",
    "#         stats.training.reset()\n",
    "#         tSt = datetime.now()\n",
    "#         trainCorrectSamples = 0\n",
    "#         trainNumSamples = 0\n",
    "        trainLoss = 0\n",
    "        # Training loop.\n",
    "        for i, (spikes, image) in enumerate(tqdm.tqdm(trainLoader, desc='training loop', leave=False), 0):\n",
    "            # Move the input and target to correct GPU.\n",
    "            spikes = spikes.to(device)\n",
    "            image  = image.to(device)\n",
    "\n",
    "            # Forward pass of the network.\n",
    "            intermediate, output = net.forward(spikes)\n",
    "            \n",
    "#             print(output.size(), image.size())\n",
    "\n",
    "            # Gather the training stats.\n",
    "#             trainCorrectSamples += torch.sum( snn.predict.getClass(output) == label ).data.item()\n",
    "#             trainNumSamples     += len(label)\n",
    "\n",
    "            # Calculate loss.\n",
    "            loss1 = numSpikesAnalogConv(error, intermediate, image) # intermediate layer should look like image\n",
    "            loss2 = torch.sum((spikes-output)**2) # output should be same as input\n",
    "            loss = loss1+loss2\n",
    "            \n",
    "            # Reset gradients to zero.\n",
    "            optimizer.zero_grad()\n",
    "\n",
    "            # Backward pass of the network.\n",
    "            loss.backward()\n",
    "\n",
    "            # Update weights.\n",
    "            optimizer.step()\n",
    "\n",
    "            # Gather training loss stats.\n",
    "            trainLoss += loss.cpu().data.item()\n",
    "\n",
    "            # Display training stats. (Suitable for normal python implementation)\n",
    "            # stats.print(epoch, i, (datetime.now() - tSt).total_seconds())\n",
    "\n",
    "            \n",
    "\n",
    "            if i%100 == 0:\n",
    "                # Update training stats.\n",
    "#                 try: stats.training.update()\n",
    "#                 except TypeError: print('train acc should be 0', TypeError)\n",
    "                # Reset testing stats.\n",
    "#                 stats.testing.reset()\n",
    "                \n",
    "                testLoss = 0\n",
    "                \n",
    "                # Testing loop.\n",
    "                # Same steps as Training loops except loss backpropagation and weight update.\n",
    "                \n",
    "                # for i, (spikes, image) in tqdm.tqdm(enumerate(testLoader, 0), desc='testing loop', leave=False):\n",
    "                spikes, image = next(iter(trainLoader))\n",
    "                spikes = spikes.to(device)\n",
    "                image = image.to(device)\n",
    "                intermediate, output = net.forward(spikes)\n",
    "\n",
    "                # testCorrectSamples += torch.sum( snn.predict.getClass(output) == label ).data.item()\n",
    "                # testNumSamples     += len(label)\n",
    "\n",
    "                loss1 = numSpikesAnalogConv(error, intermediate, image) # intermediate layer should look like image\n",
    "                loss2 = torch.sum((spikes-output)**2) # output should be same as input\n",
    "                loss = loss1+loss2\n",
    "                testLoss += loss.cpu().data.item()\n",
    "                writer.add_scalar('Loss/train',     trainLoss,     epoch+i/len(trainLoader))\n",
    "                writer.add_scalar('Loss/test',      testLoss,      epoch+i/len(trainLoader))\n",
    "\n",
    "                # display sample output in tensorboard\n",
    "                spikegrid = torchvision.utils.make_grid(intermediate.sum(dim=4)) # output spikes summed in time\n",
    "                mnistgrid = torchvision.utils.make_grid(image.squeeze(dim=4)) # all mnist images in the batch\n",
    "                writer.add_image('Middle/Total intermediate spikes', spikegrid, epoch+i/len(trainLoader))\n",
    "                writer.add_image('Middle/MNIST refrence', mnistgrid, epoch+i/len(trainLoader))\n",
    "                \n",
    "                outspikegrid  = torchvision.utils.make_grid(\n",
    "                                    output[...,:50].sum(dim=4)[:,1]-output[...,:50].sum(dim=4)[:,0])\n",
    "                truespikegrid = torchvision.utils.make_grid(\n",
    "                                    spikes[...,:50].sum(dim=4)[:,1]-spikes[...,:50].sum(dim=4)[:,0])\n",
    "                writer.add_image('Spikes/Total output (first 50 bins)', spikegrid, epoch+i/len(trainLoader))\n",
    "                writer.add_image('Spikes/Total input (first 50 bins)', mnistgrid, epoch+i/len(trainLoader))\n",
    "                # stats.print(epoch, i)\n",
    "                \n",
    "                \n",
    "                # Update testing stats.\n",
    "#                 try: stats.testing.update()\n",
    "#                 except TypeError: print('test acc should be 0?', TypeError)\n",
    "#                 writer.add_scalar('Accuracy/train', stats.training.accuracy() or 0, epoch+i/60000)\n",
    "#                 writer.add_scalar('Accuracy/test',  stats.testing.accuracy() or 0,  epoch+i/60000)\n",
    "                \n",
    "                \n",
    "                \n",
    "\n",
    "                # Reset training stats.\n",
    "#                 stats.training.reset()\n",
    "writer.close()"
   ]
  },
  {
   "cell_type": "code",
   "execution_count": 340,
   "metadata": {},
   "outputs": [],
   "source": [
    "spikes, image = next(iter(trainLoader))\n",
    "spikes = spikes.to(device)\n",
    "output = net.forward(spikes)\n",
    "\n",
    "# testCorrectSamples += torch.sum( snn.predict.getClass(output) == label ).data.item()\n",
    "# testNumSamples     += len(label)\n",
    "\n",
    "loss = net.error.numSpikes(output, image)\n",
    "testLoss += loss.cpu().data.item()\n",
    "\n",
    "# display sample output in tensorboard\n",
    "spikegrid = torchvision.utils.make_grid(output.sum(dim=4)) # output spikes summed in time\n",
    "mnistgrid = torchvision.utils.make_grid(image.squeeze(dim=4)) # all mnist images in the batch\n",
    "\n",
    "writer.add_image('Total spikes', spikegrid, epoch+i/len(trainLoader))\n",
    "writer.add_image('MNIST refrence', mnistgrid, epoch+i/len(trainLoader))\n",
    "writer.add_scalar('Loss/train',     trainLoss,     epoch+i/len(trainLoader))\n",
    "writer.add_scalar('Loss/test',      testLoss,      epoch+i/len(trainLoader))"
   ]
  },
  {
   "cell_type": "code",
   "execution_count": 349,
   "metadata": {},
   "outputs": [
    {
     "data": {
      "text/plain": [
       "(array([6260,    4,    3,    1,    0,    1,    0,    1,    1,    1]),\n",
       " array([ 0. ,  3.2,  6.4,  9.6, 12.8, 16. , 19.2, 22.4, 25.6, 28.8, 32. ],\n",
       "       dtype=float32))"
      ]
     },
     "execution_count": 349,
     "metadata": {},
     "output_type": "execute_result"
    }
   ],
   "source": [
    "np.histogram(output.sum(dim=4).squeeze().cpu().detach().numpy())"
   ]
  },
  {
   "cell_type": "code",
   "execution_count": 350,
   "metadata": {},
   "outputs": [
    {
     "data": {
      "text/plain": [
       "(array([5110,   74,   54,   72,   83,   49,   74,   55,  101,  600]),\n",
       " array([0. , 0.1, 0.2, 0.3, 0.4, 0.5, 0.6, 0.7, 0.8, 0.9, 1. ],\n",
       "       dtype=float32))"
      ]
     },
     "execution_count": 350,
     "metadata": {},
     "output_type": "execute_result"
    }
   ],
   "source": [
    "np.histogram(image)"
   ]
  },
  {
   "cell_type": "code",
   "execution_count": null,
   "metadata": {},
   "outputs": [],
   "source": []
  },
  {
   "cell_type": "code",
   "execution_count": null,
   "metadata": {},
   "outputs": [],
   "source": []
  },
  {
   "cell_type": "code",
   "execution_count": null,
   "metadata": {},
   "outputs": [],
   "source": []
  },
  {
   "cell_type": "markdown",
   "metadata": {},
   "source": [
    "# create networks"
   ]
  },
  {
   "cell_type": "code",
   "execution_count": 118,
   "metadata": {},
   "outputs": [],
   "source": [
    "Network0 = SpikingNetwork()\n",
    "slayer = Network0.slayer\n",
    "Network0.setLayers([\n",
    "            slayer.conv(2, 10, 5, padding=1),\n",
    "            slayer.conv(10, 20, 3, padding=1),\n",
    "            slayer.conv(20, 10, 3, padding=1),\n",
    "            slayer.conv(10, 5, 3, padding=1),\n",
    "            slayer.conv(5, 1, 3, padding=1)\n",
    "        ])"
   ]
  },
  {
   "cell_type": "code",
   "execution_count": 45,
   "metadata": {},
   "outputs": [],
   "source": [
    "Network1 = SpikingNetwork()\n",
    "slayer = Network1.slayer\n",
    "Network1.setLayers([\n",
    "            slayer.conv(2, 6, 5, padding=1),\n",
    "            slayer.pool(2),\n",
    "            slayer.conv(6, 12, 3, padding=1),\n",
    "            slayer.pool(2),\n",
    "            slayer.conv(12, 12, 3, padding=1),\n",
    "            slayer.dense((8,8,12), 10)\n",
    "        ])"
   ]
  },
  {
   "cell_type": "code",
   "execution_count": 127,
   "metadata": {},
   "outputs": [
    {
     "ename": "TypeError",
     "evalue": "readyTraining() missing 2 required positional arguments: 'device' and 'deviceIds'",
     "output_type": "error",
     "traceback": [
      "\u001b[0;31m---------------------------------------------------------------------------\u001b[0m",
      "\u001b[0;31mTypeError\u001b[0m                                 Traceback (most recent call last)",
      "\u001b[0;32m<ipython-input-127-6eb70dc5b5ca>\u001b[0m in \u001b[0;36m<module>\u001b[0;34m\u001b[0m\n\u001b[0;32m----> 1\u001b[0;31m \u001b[0mNetwork0\u001b[0m\u001b[0;34m.\u001b[0m\u001b[0mreadyTraining\u001b[0m\u001b[0;34m(\u001b[0m\u001b[0;34m)\u001b[0m\u001b[0;34m\u001b[0m\u001b[0;34m\u001b[0m\u001b[0m\n\u001b[0m",
      "\u001b[0;31mTypeError\u001b[0m: readyTraining() missing 2 required positional arguments: 'device' and 'deviceIds'"
     ]
    }
   ],
   "source": [
    "Network0.readyTraining()"
   ]
  },
  {
   "cell_type": "code",
   "execution_count": 126,
   "metadata": {
    "scrolled": false
   },
   "outputs": [
    {
     "ename": "RuntimeError",
     "evalue": "input.type().is_cuda() INTERNAL ASSERT FAILED at src/cuda/slayerKernels.cu:43, please report a bug to PyTorch. input must be a CUDA tensor (convCuda at src/cuda/slayerKernels.cu:43)\nframe #0: c10::Error::Error(c10::SourceLocation, std::string const&) + 0x47 (0x7fc348981627 in /home/rrs/anaconda3/envs/snn3/lib/python3.7/site-packages/torch/lib/libc10.so)\nframe #1: convCuda(at::Tensor, at::Tensor, float) + 0x57b (0x7fc32e7ec4bb in /home/rrs/anaconda3/envs/snn3/lib/python3.7/site-packages/slayerCuda-0.0.0-py3.7-linux-x86_64.egg/slayerCuda.cpython-37m-x86_64-linux-gnu.so)\nframe #2: <unknown function> + 0x2ad9d (0x7fc32e806d9d in /home/rrs/anaconda3/envs/snn3/lib/python3.7/site-packages/slayerCuda-0.0.0-py3.7-linux-x86_64.egg/slayerCuda.cpython-37m-x86_64-linux-gnu.so)\nframe #3: <unknown function> + 0x26965 (0x7fc32e802965 in /home/rrs/anaconda3/envs/snn3/lib/python3.7/site-packages/slayerCuda-0.0.0-py3.7-linux-x86_64.egg/slayerCuda.cpython-37m-x86_64-linux-gnu.so)\nframe #4: _PyMethodDef_RawFastCallKeywords + 0x274 (0x5588884a7914 in /home/rrs/anaconda3/envs/snn3/bin/python)\nframe #5: _PyCFunction_FastCallKeywords + 0x21 (0x5588884a7a31 in /home/rrs/anaconda3/envs/snn3/bin/python)\nframe #6: _PyEval_EvalFrameDefault + 0x4e1d (0x558888513ebd in /home/rrs/anaconda3/envs/snn3/bin/python)\nframe #7: _PyFunction_FastCallDict + 0x10b (0x55888845785b in /home/rrs/anaconda3/envs/snn3/bin/python)\nframe #8: THPFunction_apply(_object*, _object*) + 0xa0f (0x7fc3800b9a3f in /home/rrs/anaconda3/envs/snn3/lib/python3.7/site-packages/torch/lib/libtorch_python.so)\nframe #9: _PyMethodDef_RawFastCallKeywords + 0x1e4 (0x5588884a7884 in /home/rrs/anaconda3/envs/snn3/bin/python)\nframe #10: _PyCFunction_FastCallKeywords + 0x21 (0x5588884a7a31 in /home/rrs/anaconda3/envs/snn3/bin/python)\nframe #11: _PyEval_EvalFrameDefault + 0x4e1d (0x558888513ebd in /home/rrs/anaconda3/envs/snn3/bin/python)\nframe #12: _PyFunction_FastCallKeywords + 0xfb (0x5588884a6e7b in /home/rrs/anaconda3/envs/snn3/bin/python)\nframe #13: _PyEval_EvalFrameDefault + 0x4a89 (0x558888513b29 in /home/rrs/anaconda3/envs/snn3/bin/python)\nframe #14: _PyFunction_FastCallDict + 0x10b (0x55888845785b in /home/rrs/anaconda3/envs/snn3/bin/python)\nframe #15: _PyObject_Call_Prepend + 0x63 (0x5588884764d3 in /home/rrs/anaconda3/envs/snn3/bin/python)\nframe #16: PyObject_Call + 0x6e (0x558888468ffe in /home/rrs/anaconda3/envs/snn3/bin/python)\nframe #17: _PyEval_EvalFrameDefault + 0x1e4a (0x558888510eea in /home/rrs/anaconda3/envs/snn3/bin/python)\nframe #18: _PyEval_EvalCodeWithName + 0x2f9 (0x558888456829 in /home/rrs/anaconda3/envs/snn3/bin/python)\nframe #19: _PyFunction_FastCallDict + 0x1d5 (0x558888457925 in /home/rrs/anaconda3/envs/snn3/bin/python)\nframe #20: _PyObject_Call_Prepend + 0x63 (0x5588884764d3 in /home/rrs/anaconda3/envs/snn3/bin/python)\nframe #21: <unknown function> + 0x16be1a (0x5588884ade1a in /home/rrs/anaconda3/envs/snn3/bin/python)\nframe #22: _PyObject_FastCallKeywords + 0x48b (0x5588884aeccb in /home/rrs/anaconda3/envs/snn3/bin/python)\nframe #23: _PyEval_EvalFrameDefault + 0x49e6 (0x558888513a86 in /home/rrs/anaconda3/envs/snn3/bin/python)\nframe #24: _PyFunction_FastCallDict + 0x10b (0x55888845785b in /home/rrs/anaconda3/envs/snn3/bin/python)\nframe #25: _PyObject_Call_Prepend + 0x63 (0x5588884764d3 in /home/rrs/anaconda3/envs/snn3/bin/python)\nframe #26: PyObject_Call + 0x6e (0x558888468ffe in /home/rrs/anaconda3/envs/snn3/bin/python)\nframe #27: _PyEval_EvalFrameDefault + 0x1e4a (0x558888510eea in /home/rrs/anaconda3/envs/snn3/bin/python)\nframe #28: _PyEval_EvalCodeWithName + 0x2f9 (0x558888456829 in /home/rrs/anaconda3/envs/snn3/bin/python)\nframe #29: _PyFunction_FastCallDict + 0x1d5 (0x558888457925 in /home/rrs/anaconda3/envs/snn3/bin/python)\nframe #30: _PyObject_Call_Prepend + 0x63 (0x5588884764d3 in /home/rrs/anaconda3/envs/snn3/bin/python)\nframe #31: <unknown function> + 0x16be1a (0x5588884ade1a in /home/rrs/anaconda3/envs/snn3/bin/python)\nframe #32: _PyObject_FastCallKeywords + 0x48b (0x5588884aeccb in /home/rrs/anaconda3/envs/snn3/bin/python)\nframe #33: _PyEval_EvalFrameDefault + 0x52fe (0x55888851439e in /home/rrs/anaconda3/envs/snn3/bin/python)\nframe #34: _PyFunction_FastCallDict + 0x10b (0x55888845785b in /home/rrs/anaconda3/envs/snn3/bin/python)\nframe #35: _PyObject_Call_Prepend + 0x63 (0x5588884764d3 in /home/rrs/anaconda3/envs/snn3/bin/python)\nframe #36: PyObject_Call + 0x6e (0x558888468ffe in /home/rrs/anaconda3/envs/snn3/bin/python)\nframe #37: _PyEval_EvalFrameDefault + 0x1e4a (0x558888510eea in /home/rrs/anaconda3/envs/snn3/bin/python)\nframe #38: _PyEval_EvalCodeWithName + 0x2f9 (0x558888456829 in /home/rrs/anaconda3/envs/snn3/bin/python)\nframe #39: _PyFunction_FastCallDict + 0x1d5 (0x558888457925 in /home/rrs/anaconda3/envs/snn3/bin/python)\nframe #40: _PyObject_Call_Prepend + 0x63 (0x5588884764d3 in /home/rrs/anaconda3/envs/snn3/bin/python)\nframe #41: <unknown function> + 0x16be1a (0x5588884ade1a in /home/rrs/anaconda3/envs/snn3/bin/python)\nframe #42: _PyObject_FastCallKeywords + 0x48b (0x5588884aeccb in /home/rrs/anaconda3/envs/snn3/bin/python)\nframe #43: _PyEval_EvalFrameDefault + 0x49e6 (0x558888513a86 in /home/rrs/anaconda3/envs/snn3/bin/python)\nframe #44: _PyEval_EvalCodeWithName + 0x2f9 (0x558888456829 in /home/rrs/anaconda3/envs/snn3/bin/python)\nframe #45: PyEval_EvalCodeEx + 0x44 (0x558888457714 in /home/rrs/anaconda3/envs/snn3/bin/python)\nframe #46: PyEval_EvalCode + 0x1c (0x55888845773c in /home/rrs/anaconda3/envs/snn3/bin/python)\nframe #47: <unknown function> + 0x1dcf1d (0x55888851ef1d in /home/rrs/anaconda3/envs/snn3/bin/python)\nframe #48: _PyMethodDef_RawFastCallKeywords + 0xe9 (0x5588884a7789 in /home/rrs/anaconda3/envs/snn3/bin/python)\nframe #49: _PyCFunction_FastCallKeywords + 0x21 (0x5588884a7a31 in /home/rrs/anaconda3/envs/snn3/bin/python)\nframe #50: _PyEval_EvalFrameDefault + 0x46f5 (0x558888513795 in /home/rrs/anaconda3/envs/snn3/bin/python)\nframe #51: _PyGen_Send + 0x2a2 (0x5588884af982 in /home/rrs/anaconda3/envs/snn3/bin/python)\nframe #52: _PyEval_EvalFrameDefault + 0x1a84 (0x558888510b24 in /home/rrs/anaconda3/envs/snn3/bin/python)\nframe #53: _PyGen_Send + 0x2a2 (0x5588884af982 in /home/rrs/anaconda3/envs/snn3/bin/python)\nframe #54: _PyEval_EvalFrameDefault + 0x1a84 (0x558888510b24 in /home/rrs/anaconda3/envs/snn3/bin/python)\nframe #55: _PyGen_Send + 0x2a2 (0x5588884af982 in /home/rrs/anaconda3/envs/snn3/bin/python)\nframe #56: _PyMethodDef_RawFastCallKeywords + 0x8d (0x5588884a772d in /home/rrs/anaconda3/envs/snn3/bin/python)\nframe #57: _PyMethodDescr_FastCallKeywords + 0x4f (0x5588884ae7af in /home/rrs/anaconda3/envs/snn3/bin/python)\nframe #58: _PyEval_EvalFrameDefault + 0x4bdc (0x558888513c7c in /home/rrs/anaconda3/envs/snn3/bin/python)\nframe #59: _PyFunction_FastCallKeywords + 0xfb (0x5588884a6e7b in /home/rrs/anaconda3/envs/snn3/bin/python)\nframe #60: _PyEval_EvalFrameDefault + 0x416 (0x55888850f4b6 in /home/rrs/anaconda3/envs/snn3/bin/python)\nframe #61: _PyFunction_FastCallKeywords + 0xfb (0x5588884a6e7b in /home/rrs/anaconda3/envs/snn3/bin/python)\nframe #62: _PyEval_EvalFrameDefault + 0x6a0 (0x55888850f740 in /home/rrs/anaconda3/envs/snn3/bin/python)\nframe #63: _PyEval_EvalCodeWithName + 0x2f9 (0x558888456829 in /home/rrs/anaconda3/envs/snn3/bin/python)\n",
     "output_type": "error",
     "traceback": [
      "\u001b[0;31m---------------------------------------------------------------------------\u001b[0m",
      "\u001b[0;31mRuntimeError\u001b[0m                              Traceback (most recent call last)",
      "\u001b[0;32m<ipython-input-126-3121a1dd34a7>\u001b[0m in \u001b[0;36m<module>\u001b[0;34m\u001b[0m\n\u001b[0;32m----> 1\u001b[0;31m \u001b[0mNetwork0\u001b[0m\u001b[0;34m(\u001b[0m\u001b[0mtrainNMNIST\u001b[0m\u001b[0;34m[\u001b[0m\u001b[0;36m0\u001b[0m\u001b[0;34m]\u001b[0m\u001b[0;34m[\u001b[0m\u001b[0;36m0\u001b[0m\u001b[0;34m]\u001b[0m\u001b[0;34m)\u001b[0m\u001b[0;34m\u001b[0m\u001b[0;34m\u001b[0m\u001b[0m\n\u001b[0m",
      "\u001b[0;32m~/anaconda3/envs/snn3/lib/python3.7/site-packages/torch/nn/modules/module.py\u001b[0m in \u001b[0;36m__call__\u001b[0;34m(self, *input, **kwargs)\u001b[0m\n\u001b[1;32m    530\u001b[0m             \u001b[0mresult\u001b[0m \u001b[0;34m=\u001b[0m \u001b[0mself\u001b[0m\u001b[0;34m.\u001b[0m\u001b[0m_slow_forward\u001b[0m\u001b[0;34m(\u001b[0m\u001b[0;34m*\u001b[0m\u001b[0minput\u001b[0m\u001b[0;34m,\u001b[0m \u001b[0;34m**\u001b[0m\u001b[0mkwargs\u001b[0m\u001b[0;34m)\u001b[0m\u001b[0;34m\u001b[0m\u001b[0;34m\u001b[0m\u001b[0m\n\u001b[1;32m    531\u001b[0m         \u001b[0;32melse\u001b[0m\u001b[0;34m:\u001b[0m\u001b[0;34m\u001b[0m\u001b[0;34m\u001b[0m\u001b[0m\n\u001b[0;32m--> 532\u001b[0;31m             \u001b[0mresult\u001b[0m \u001b[0;34m=\u001b[0m \u001b[0mself\u001b[0m\u001b[0;34m.\u001b[0m\u001b[0mforward\u001b[0m\u001b[0;34m(\u001b[0m\u001b[0;34m*\u001b[0m\u001b[0minput\u001b[0m\u001b[0;34m,\u001b[0m \u001b[0;34m**\u001b[0m\u001b[0mkwargs\u001b[0m\u001b[0;34m)\u001b[0m\u001b[0;34m\u001b[0m\u001b[0;34m\u001b[0m\u001b[0m\n\u001b[0m\u001b[1;32m    533\u001b[0m         \u001b[0;32mfor\u001b[0m \u001b[0mhook\u001b[0m \u001b[0;32min\u001b[0m \u001b[0mself\u001b[0m\u001b[0;34m.\u001b[0m\u001b[0m_forward_hooks\u001b[0m\u001b[0;34m.\u001b[0m\u001b[0mvalues\u001b[0m\u001b[0;34m(\u001b[0m\u001b[0;34m)\u001b[0m\u001b[0;34m:\u001b[0m\u001b[0;34m\u001b[0m\u001b[0;34m\u001b[0m\u001b[0m\n\u001b[1;32m    534\u001b[0m             \u001b[0mhook_result\u001b[0m \u001b[0;34m=\u001b[0m \u001b[0mhook\u001b[0m\u001b[0;34m(\u001b[0m\u001b[0mself\u001b[0m\u001b[0;34m,\u001b[0m \u001b[0minput\u001b[0m\u001b[0;34m,\u001b[0m \u001b[0mresult\u001b[0m\u001b[0;34m)\u001b[0m\u001b[0;34m\u001b[0m\u001b[0;34m\u001b[0m\u001b[0m\n",
      "\u001b[0;32m<ipython-input-116-1ad6a202dade>\u001b[0m in \u001b[0;36mforward\u001b[0;34m(self, spikeInput)\u001b[0m\n\u001b[1;32m     13\u001b[0m \u001b[0;31m#             x = self.slayer.spike(layer(self.slayer.psp(x)))\u001b[0m\u001b[0;34m\u001b[0m\u001b[0;34m\u001b[0m\u001b[0;34m\u001b[0m\u001b[0m\n\u001b[1;32m     14\u001b[0m \u001b[0;31m#         return x\u001b[0m\u001b[0;34m\u001b[0m\u001b[0;34m\u001b[0m\u001b[0;34m\u001b[0m\u001b[0m\n\u001b[0;32m---> 15\u001b[0;31m         \u001b[0;32mreturn\u001b[0m \u001b[0mself\u001b[0m\u001b[0;34m.\u001b[0m\u001b[0mlayers\u001b[0m\u001b[0;34m(\u001b[0m\u001b[0mspikeInput\u001b[0m\u001b[0;34m)\u001b[0m\u001b[0;34m\u001b[0m\u001b[0;34m\u001b[0m\u001b[0m\n\u001b[0m\u001b[1;32m     16\u001b[0m \u001b[0;34m\u001b[0m\u001b[0m\n\u001b[1;32m     17\u001b[0m     \u001b[0;32mdef\u001b[0m \u001b[0msetLayers\u001b[0m\u001b[0;34m(\u001b[0m\u001b[0mself\u001b[0m\u001b[0;34m,\u001b[0m \u001b[0mlayers\u001b[0m\u001b[0;34m)\u001b[0m\u001b[0;34m:\u001b[0m\u001b[0;34m\u001b[0m\u001b[0;34m\u001b[0m\u001b[0m\n",
      "\u001b[0;32m~/anaconda3/envs/snn3/lib/python3.7/site-packages/torch/nn/modules/module.py\u001b[0m in \u001b[0;36m__call__\u001b[0;34m(self, *input, **kwargs)\u001b[0m\n\u001b[1;32m    530\u001b[0m             \u001b[0mresult\u001b[0m \u001b[0;34m=\u001b[0m \u001b[0mself\u001b[0m\u001b[0;34m.\u001b[0m\u001b[0m_slow_forward\u001b[0m\u001b[0;34m(\u001b[0m\u001b[0;34m*\u001b[0m\u001b[0minput\u001b[0m\u001b[0;34m,\u001b[0m \u001b[0;34m**\u001b[0m\u001b[0mkwargs\u001b[0m\u001b[0;34m)\u001b[0m\u001b[0;34m\u001b[0m\u001b[0;34m\u001b[0m\u001b[0m\n\u001b[1;32m    531\u001b[0m         \u001b[0;32melse\u001b[0m\u001b[0;34m:\u001b[0m\u001b[0;34m\u001b[0m\u001b[0;34m\u001b[0m\u001b[0m\n\u001b[0;32m--> 532\u001b[0;31m             \u001b[0mresult\u001b[0m \u001b[0;34m=\u001b[0m \u001b[0mself\u001b[0m\u001b[0;34m.\u001b[0m\u001b[0mforward\u001b[0m\u001b[0;34m(\u001b[0m\u001b[0;34m*\u001b[0m\u001b[0minput\u001b[0m\u001b[0;34m,\u001b[0m \u001b[0;34m**\u001b[0m\u001b[0mkwargs\u001b[0m\u001b[0;34m)\u001b[0m\u001b[0;34m\u001b[0m\u001b[0;34m\u001b[0m\u001b[0m\n\u001b[0m\u001b[1;32m    533\u001b[0m         \u001b[0;32mfor\u001b[0m \u001b[0mhook\u001b[0m \u001b[0;32min\u001b[0m \u001b[0mself\u001b[0m\u001b[0;34m.\u001b[0m\u001b[0m_forward_hooks\u001b[0m\u001b[0;34m.\u001b[0m\u001b[0mvalues\u001b[0m\u001b[0;34m(\u001b[0m\u001b[0;34m)\u001b[0m\u001b[0;34m:\u001b[0m\u001b[0;34m\u001b[0m\u001b[0;34m\u001b[0m\u001b[0m\n\u001b[1;32m    534\u001b[0m             \u001b[0mhook_result\u001b[0m \u001b[0;34m=\u001b[0m \u001b[0mhook\u001b[0m\u001b[0;34m(\u001b[0m\u001b[0mself\u001b[0m\u001b[0;34m,\u001b[0m \u001b[0minput\u001b[0m\u001b[0;34m,\u001b[0m \u001b[0mresult\u001b[0m\u001b[0;34m)\u001b[0m\u001b[0;34m\u001b[0m\u001b[0;34m\u001b[0m\u001b[0m\n",
      "\u001b[0;32m~/anaconda3/envs/snn3/lib/python3.7/site-packages/torch/nn/modules/container.py\u001b[0m in \u001b[0;36mforward\u001b[0;34m(self, input)\u001b[0m\n\u001b[1;32m     98\u001b[0m     \u001b[0;32mdef\u001b[0m \u001b[0mforward\u001b[0m\u001b[0;34m(\u001b[0m\u001b[0mself\u001b[0m\u001b[0;34m,\u001b[0m \u001b[0minput\u001b[0m\u001b[0;34m)\u001b[0m\u001b[0;34m:\u001b[0m\u001b[0;34m\u001b[0m\u001b[0;34m\u001b[0m\u001b[0m\n\u001b[1;32m     99\u001b[0m         \u001b[0;32mfor\u001b[0m \u001b[0mmodule\u001b[0m \u001b[0;32min\u001b[0m \u001b[0mself\u001b[0m\u001b[0;34m:\u001b[0m\u001b[0;34m\u001b[0m\u001b[0;34m\u001b[0m\u001b[0m\n\u001b[0;32m--> 100\u001b[0;31m             \u001b[0minput\u001b[0m \u001b[0;34m=\u001b[0m \u001b[0mmodule\u001b[0m\u001b[0;34m(\u001b[0m\u001b[0minput\u001b[0m\u001b[0;34m)\u001b[0m\u001b[0;34m\u001b[0m\u001b[0;34m\u001b[0m\u001b[0m\n\u001b[0m\u001b[1;32m    101\u001b[0m         \u001b[0;32mreturn\u001b[0m \u001b[0minput\u001b[0m\u001b[0;34m\u001b[0m\u001b[0;34m\u001b[0m\u001b[0m\n\u001b[1;32m    102\u001b[0m \u001b[0;34m\u001b[0m\u001b[0m\n",
      "\u001b[0;32m~/anaconda3/envs/snn3/lib/python3.7/site-packages/torch/nn/modules/module.py\u001b[0m in \u001b[0;36m__call__\u001b[0;34m(self, *input, **kwargs)\u001b[0m\n\u001b[1;32m    530\u001b[0m             \u001b[0mresult\u001b[0m \u001b[0;34m=\u001b[0m \u001b[0mself\u001b[0m\u001b[0;34m.\u001b[0m\u001b[0m_slow_forward\u001b[0m\u001b[0;34m(\u001b[0m\u001b[0;34m*\u001b[0m\u001b[0minput\u001b[0m\u001b[0;34m,\u001b[0m \u001b[0;34m**\u001b[0m\u001b[0mkwargs\u001b[0m\u001b[0;34m)\u001b[0m\u001b[0;34m\u001b[0m\u001b[0;34m\u001b[0m\u001b[0m\n\u001b[1;32m    531\u001b[0m         \u001b[0;32melse\u001b[0m\u001b[0;34m:\u001b[0m\u001b[0;34m\u001b[0m\u001b[0;34m\u001b[0m\u001b[0m\n\u001b[0;32m--> 532\u001b[0;31m             \u001b[0mresult\u001b[0m \u001b[0;34m=\u001b[0m \u001b[0mself\u001b[0m\u001b[0;34m.\u001b[0m\u001b[0mforward\u001b[0m\u001b[0;34m(\u001b[0m\u001b[0;34m*\u001b[0m\u001b[0minput\u001b[0m\u001b[0;34m,\u001b[0m \u001b[0;34m**\u001b[0m\u001b[0mkwargs\u001b[0m\u001b[0;34m)\u001b[0m\u001b[0;34m\u001b[0m\u001b[0;34m\u001b[0m\u001b[0m\n\u001b[0m\u001b[1;32m    533\u001b[0m         \u001b[0;32mfor\u001b[0m \u001b[0mhook\u001b[0m \u001b[0;32min\u001b[0m \u001b[0mself\u001b[0m\u001b[0;34m.\u001b[0m\u001b[0m_forward_hooks\u001b[0m\u001b[0;34m.\u001b[0m\u001b[0mvalues\u001b[0m\u001b[0;34m(\u001b[0m\u001b[0;34m)\u001b[0m\u001b[0;34m:\u001b[0m\u001b[0;34m\u001b[0m\u001b[0;34m\u001b[0m\u001b[0m\n\u001b[1;32m    534\u001b[0m             \u001b[0mhook_result\u001b[0m \u001b[0;34m=\u001b[0m \u001b[0mhook\u001b[0m\u001b[0;34m(\u001b[0m\u001b[0mself\u001b[0m\u001b[0;34m,\u001b[0m \u001b[0minput\u001b[0m\u001b[0;34m,\u001b[0m \u001b[0mresult\u001b[0m\u001b[0;34m)\u001b[0m\u001b[0;34m\u001b[0m\u001b[0;34m\u001b[0m\u001b[0m\n",
      "\u001b[0;32m<ipython-input-103-e104fc323493>\u001b[0m in \u001b[0;36mforward\u001b[0;34m(self, x)\u001b[0m\n\u001b[1;32m      4\u001b[0m         \u001b[0mself\u001b[0m\u001b[0;34m.\u001b[0m\u001b[0mslayer\u001b[0m \u001b[0;34m=\u001b[0m \u001b[0msnn\u001b[0m\u001b[0;34m.\u001b[0m\u001b[0mlayer\u001b[0m\u001b[0;34m(\u001b[0m\u001b[0mnetParams\u001b[0m\u001b[0;34m[\u001b[0m\u001b[0;34m'neuron'\u001b[0m\u001b[0;34m]\u001b[0m\u001b[0;34m,\u001b[0m \u001b[0mnetParams\u001b[0m\u001b[0;34m[\u001b[0m\u001b[0;34m'simulation'\u001b[0m\u001b[0;34m]\u001b[0m\u001b[0;34m)\u001b[0m\u001b[0;34m\u001b[0m\u001b[0;34m\u001b[0m\u001b[0m\n\u001b[1;32m      5\u001b[0m     \u001b[0;32mdef\u001b[0m \u001b[0mforward\u001b[0m\u001b[0;34m(\u001b[0m\u001b[0mself\u001b[0m\u001b[0;34m,\u001b[0m \u001b[0mx\u001b[0m\u001b[0;34m)\u001b[0m\u001b[0;34m:\u001b[0m\u001b[0;34m\u001b[0m\u001b[0;34m\u001b[0m\u001b[0m\n\u001b[0;32m----> 6\u001b[0;31m         \u001b[0;32mreturn\u001b[0m \u001b[0mself\u001b[0m\u001b[0;34m.\u001b[0m\u001b[0mslayer\u001b[0m\u001b[0;34m.\u001b[0m\u001b[0mpsp\u001b[0m\u001b[0;34m(\u001b[0m\u001b[0mx\u001b[0m\u001b[0;34m)\u001b[0m\u001b[0;34m\u001b[0m\u001b[0;34m\u001b[0m\u001b[0m\n\u001b[0m",
      "\u001b[0;32m~/anaconda3/envs/snn3/lib/python3.7/site-packages/slayerSNN-0.0.0-py3.7.egg/slayerSNN/slayer.py\u001b[0m in \u001b[0;36mpsp\u001b[0;34m(self, spike)\u001b[0m\n\u001b[1;32m    140\u001b[0m         \u001b[0;34m>>\u001b[0m\u001b[0;34m>\u001b[0m \u001b[0mfilteredSpike\u001b[0m \u001b[0;34m=\u001b[0m \u001b[0msnnLayer\u001b[0m\u001b[0;34m.\u001b[0m\u001b[0mpsp\u001b[0m\u001b[0;34m(\u001b[0m\u001b[0mspike\u001b[0m\u001b[0;34m)\u001b[0m\u001b[0;34m\u001b[0m\u001b[0;34m\u001b[0m\u001b[0m\n\u001b[1;32m    141\u001b[0m         '''\n\u001b[0;32m--> 142\u001b[0;31m         \u001b[0;32mreturn\u001b[0m \u001b[0m_pspFunction\u001b[0m\u001b[0;34m.\u001b[0m\u001b[0mapply\u001b[0m\u001b[0;34m(\u001b[0m\u001b[0mspike\u001b[0m\u001b[0;34m,\u001b[0m \u001b[0mself\u001b[0m\u001b[0;34m.\u001b[0m\u001b[0msrmKernel\u001b[0m\u001b[0;34m,\u001b[0m \u001b[0mself\u001b[0m\u001b[0;34m.\u001b[0m\u001b[0msimulation\u001b[0m\u001b[0;34m[\u001b[0m\u001b[0;34m'Ts'\u001b[0m\u001b[0;34m]\u001b[0m\u001b[0;34m)\u001b[0m\u001b[0;34m\u001b[0m\u001b[0;34m\u001b[0m\u001b[0m\n\u001b[0m\u001b[1;32m    143\u001b[0m \u001b[0;34m\u001b[0m\u001b[0m\n\u001b[1;32m    144\u001b[0m     \u001b[0;32mdef\u001b[0m \u001b[0mpspLayer\u001b[0m\u001b[0;34m(\u001b[0m\u001b[0mself\u001b[0m\u001b[0;34m)\u001b[0m\u001b[0;34m:\u001b[0m\u001b[0;34m\u001b[0m\u001b[0;34m\u001b[0m\u001b[0m\n",
      "\u001b[0;32m~/anaconda3/envs/snn3/lib/python3.7/site-packages/slayerSNN-0.0.0-py3.7.egg/slayerSNN/slayer.py\u001b[0m in \u001b[0;36mforward\u001b[0;34m(ctx, spike, filter, Ts)\u001b[0m\n\u001b[1;32m    880\u001b[0m         \u001b[0mdevice\u001b[0m \u001b[0;34m=\u001b[0m \u001b[0mspike\u001b[0m\u001b[0;34m.\u001b[0m\u001b[0mdevice\u001b[0m\u001b[0;34m\u001b[0m\u001b[0;34m\u001b[0m\u001b[0m\n\u001b[1;32m    881\u001b[0m         \u001b[0mdtype\u001b[0m  \u001b[0;34m=\u001b[0m \u001b[0mspike\u001b[0m\u001b[0;34m.\u001b[0m\u001b[0mdtype\u001b[0m\u001b[0;34m\u001b[0m\u001b[0;34m\u001b[0m\u001b[0m\n\u001b[0;32m--> 882\u001b[0;31m         \u001b[0mpsp\u001b[0m \u001b[0;34m=\u001b[0m \u001b[0mslayerCuda\u001b[0m\u001b[0;34m.\u001b[0m\u001b[0mconv\u001b[0m\u001b[0;34m(\u001b[0m\u001b[0mspike\u001b[0m\u001b[0;34m.\u001b[0m\u001b[0mcontiguous\u001b[0m\u001b[0;34m(\u001b[0m\u001b[0;34m)\u001b[0m\u001b[0;34m,\u001b[0m \u001b[0mfilter\u001b[0m\u001b[0;34m,\u001b[0m \u001b[0mTs\u001b[0m\u001b[0;34m)\u001b[0m\u001b[0;34m\u001b[0m\u001b[0;34m\u001b[0m\u001b[0m\n\u001b[0m\u001b[1;32m    883\u001b[0m         \u001b[0mTs\u001b[0m \u001b[0;34m=\u001b[0m \u001b[0mtorch\u001b[0m\u001b[0;34m.\u001b[0m\u001b[0mautograd\u001b[0m\u001b[0;34m.\u001b[0m\u001b[0mVariable\u001b[0m\u001b[0;34m(\u001b[0m\u001b[0mtorch\u001b[0m\u001b[0;34m.\u001b[0m\u001b[0mtensor\u001b[0m\u001b[0;34m(\u001b[0m\u001b[0mTs\u001b[0m\u001b[0;34m,\u001b[0m \u001b[0mdevice\u001b[0m\u001b[0;34m=\u001b[0m\u001b[0mdevice\u001b[0m\u001b[0;34m,\u001b[0m \u001b[0mdtype\u001b[0m\u001b[0;34m=\u001b[0m\u001b[0mdtype\u001b[0m\u001b[0;34m)\u001b[0m\u001b[0;34m,\u001b[0m \u001b[0mrequires_grad\u001b[0m\u001b[0;34m=\u001b[0m\u001b[0;32mFalse\u001b[0m\u001b[0;34m)\u001b[0m\u001b[0;34m\u001b[0m\u001b[0;34m\u001b[0m\u001b[0m\n\u001b[1;32m    884\u001b[0m         \u001b[0mctx\u001b[0m\u001b[0;34m.\u001b[0m\u001b[0msave_for_backward\u001b[0m\u001b[0;34m(\u001b[0m\u001b[0mfilter\u001b[0m\u001b[0;34m,\u001b[0m \u001b[0mTs\u001b[0m\u001b[0;34m)\u001b[0m\u001b[0;34m\u001b[0m\u001b[0;34m\u001b[0m\u001b[0m\n",
      "\u001b[0;31mRuntimeError\u001b[0m: input.type().is_cuda() INTERNAL ASSERT FAILED at src/cuda/slayerKernels.cu:43, please report a bug to PyTorch. input must be a CUDA tensor (convCuda at src/cuda/slayerKernels.cu:43)\nframe #0: c10::Error::Error(c10::SourceLocation, std::string const&) + 0x47 (0x7fc348981627 in /home/rrs/anaconda3/envs/snn3/lib/python3.7/site-packages/torch/lib/libc10.so)\nframe #1: convCuda(at::Tensor, at::Tensor, float) + 0x57b (0x7fc32e7ec4bb in /home/rrs/anaconda3/envs/snn3/lib/python3.7/site-packages/slayerCuda-0.0.0-py3.7-linux-x86_64.egg/slayerCuda.cpython-37m-x86_64-linux-gnu.so)\nframe #2: <unknown function> + 0x2ad9d (0x7fc32e806d9d in /home/rrs/anaconda3/envs/snn3/lib/python3.7/site-packages/slayerCuda-0.0.0-py3.7-linux-x86_64.egg/slayerCuda.cpython-37m-x86_64-linux-gnu.so)\nframe #3: <unknown function> + 0x26965 (0x7fc32e802965 in /home/rrs/anaconda3/envs/snn3/lib/python3.7/site-packages/slayerCuda-0.0.0-py3.7-linux-x86_64.egg/slayerCuda.cpython-37m-x86_64-linux-gnu.so)\nframe #4: _PyMethodDef_RawFastCallKeywords + 0x274 (0x5588884a7914 in /home/rrs/anaconda3/envs/snn3/bin/python)\nframe #5: _PyCFunction_FastCallKeywords + 0x21 (0x5588884a7a31 in /home/rrs/anaconda3/envs/snn3/bin/python)\nframe #6: _PyEval_EvalFrameDefault + 0x4e1d (0x558888513ebd in /home/rrs/anaconda3/envs/snn3/bin/python)\nframe #7: _PyFunction_FastCallDict + 0x10b (0x55888845785b in /home/rrs/anaconda3/envs/snn3/bin/python)\nframe #8: THPFunction_apply(_object*, _object*) + 0xa0f (0x7fc3800b9a3f in /home/rrs/anaconda3/envs/snn3/lib/python3.7/site-packages/torch/lib/libtorch_python.so)\nframe #9: _PyMethodDef_RawFastCallKeywords + 0x1e4 (0x5588884a7884 in /home/rrs/anaconda3/envs/snn3/bin/python)\nframe #10: _PyCFunction_FastCallKeywords + 0x21 (0x5588884a7a31 in /home/rrs/anaconda3/envs/snn3/bin/python)\nframe #11: _PyEval_EvalFrameDefault + 0x4e1d (0x558888513ebd in /home/rrs/anaconda3/envs/snn3/bin/python)\nframe #12: _PyFunction_FastCallKeywords + 0xfb (0x5588884a6e7b in /home/rrs/anaconda3/envs/snn3/bin/python)\nframe #13: _PyEval_EvalFrameDefault + 0x4a89 (0x558888513b29 in /home/rrs/anaconda3/envs/snn3/bin/python)\nframe #14: _PyFunction_FastCallDict + 0x10b (0x55888845785b in /home/rrs/anaconda3/envs/snn3/bin/python)\nframe #15: _PyObject_Call_Prepend + 0x63 (0x5588884764d3 in /home/rrs/anaconda3/envs/snn3/bin/python)\nframe #16: PyObject_Call + 0x6e (0x558888468ffe in /home/rrs/anaconda3/envs/snn3/bin/python)\nframe #17: _PyEval_EvalFrameDefault + 0x1e4a (0x558888510eea in /home/rrs/anaconda3/envs/snn3/bin/python)\nframe #18: _PyEval_EvalCodeWithName + 0x2f9 (0x558888456829 in /home/rrs/anaconda3/envs/snn3/bin/python)\nframe #19: _PyFunction_FastCallDict + 0x1d5 (0x558888457925 in /home/rrs/anaconda3/envs/snn3/bin/python)\nframe #20: _PyObject_Call_Prepend + 0x63 (0x5588884764d3 in /home/rrs/anaconda3/envs/snn3/bin/python)\nframe #21: <unknown function> + 0x16be1a (0x5588884ade1a in /home/rrs/anaconda3/envs/snn3/bin/python)\nframe #22: _PyObject_FastCallKeywords + 0x48b (0x5588884aeccb in /home/rrs/anaconda3/envs/snn3/bin/python)\nframe #23: _PyEval_EvalFrameDefault + 0x49e6 (0x558888513a86 in /home/rrs/anaconda3/envs/snn3/bin/python)\nframe #24: _PyFunction_FastCallDict + 0x10b (0x55888845785b in /home/rrs/anaconda3/envs/snn3/bin/python)\nframe #25: _PyObject_Call_Prepend + 0x63 (0x5588884764d3 in /home/rrs/anaconda3/envs/snn3/bin/python)\nframe #26: PyObject_Call + 0x6e (0x558888468ffe in /home/rrs/anaconda3/envs/snn3/bin/python)\nframe #27: _PyEval_EvalFrameDefault + 0x1e4a (0x558888510eea in /home/rrs/anaconda3/envs/snn3/bin/python)\nframe #28: _PyEval_EvalCodeWithName + 0x2f9 (0x558888456829 in /home/rrs/anaconda3/envs/snn3/bin/python)\nframe #29: _PyFunction_FastCallDict + 0x1d5 (0x558888457925 in /home/rrs/anaconda3/envs/snn3/bin/python)\nframe #30: _PyObject_Call_Prepend + 0x63 (0x5588884764d3 in /home/rrs/anaconda3/envs/snn3/bin/python)\nframe #31: <unknown function> + 0x16be1a (0x5588884ade1a in /home/rrs/anaconda3/envs/snn3/bin/python)\nframe #32: _PyObject_FastCallKeywords + 0x48b (0x5588884aeccb in /home/rrs/anaconda3/envs/snn3/bin/python)\nframe #33: _PyEval_EvalFrameDefault + 0x52fe (0x55888851439e in /home/rrs/anaconda3/envs/snn3/bin/python)\nframe #34: _PyFunction_FastCallDict + 0x10b (0x55888845785b in /home/rrs/anaconda3/envs/snn3/bin/python)\nframe #35: _PyObject_Call_Prepend + 0x63 (0x5588884764d3 in /home/rrs/anaconda3/envs/snn3/bin/python)\nframe #36: PyObject_Call + 0x6e (0x558888468ffe in /home/rrs/anaconda3/envs/snn3/bin/python)\nframe #37: _PyEval_EvalFrameDefault + 0x1e4a (0x558888510eea in /home/rrs/anaconda3/envs/snn3/bin/python)\nframe #38: _PyEval_EvalCodeWithName + 0x2f9 (0x558888456829 in /home/rrs/anaconda3/envs/snn3/bin/python)\nframe #39: _PyFunction_FastCallDict + 0x1d5 (0x558888457925 in /home/rrs/anaconda3/envs/snn3/bin/python)\nframe #40: _PyObject_Call_Prepend + 0x63 (0x5588884764d3 in /home/rrs/anaconda3/envs/snn3/bin/python)\nframe #41: <unknown function> + 0x16be1a (0x5588884ade1a in /home/rrs/anaconda3/envs/snn3/bin/python)\nframe #42: _PyObject_FastCallKeywords + 0x48b (0x5588884aeccb in /home/rrs/anaconda3/envs/snn3/bin/python)\nframe #43: _PyEval_EvalFrameDefault + 0x49e6 (0x558888513a86 in /home/rrs/anaconda3/envs/snn3/bin/python)\nframe #44: _PyEval_EvalCodeWithName + 0x2f9 (0x558888456829 in /home/rrs/anaconda3/envs/snn3/bin/python)\nframe #45: PyEval_EvalCodeEx + 0x44 (0x558888457714 in /home/rrs/anaconda3/envs/snn3/bin/python)\nframe #46: PyEval_EvalCode + 0x1c (0x55888845773c in /home/rrs/anaconda3/envs/snn3/bin/python)\nframe #47: <unknown function> + 0x1dcf1d (0x55888851ef1d in /home/rrs/anaconda3/envs/snn3/bin/python)\nframe #48: _PyMethodDef_RawFastCallKeywords + 0xe9 (0x5588884a7789 in /home/rrs/anaconda3/envs/snn3/bin/python)\nframe #49: _PyCFunction_FastCallKeywords + 0x21 (0x5588884a7a31 in /home/rrs/anaconda3/envs/snn3/bin/python)\nframe #50: _PyEval_EvalFrameDefault + 0x46f5 (0x558888513795 in /home/rrs/anaconda3/envs/snn3/bin/python)\nframe #51: _PyGen_Send + 0x2a2 (0x5588884af982 in /home/rrs/anaconda3/envs/snn3/bin/python)\nframe #52: _PyEval_EvalFrameDefault + 0x1a84 (0x558888510b24 in /home/rrs/anaconda3/envs/snn3/bin/python)\nframe #53: _PyGen_Send + 0x2a2 (0x5588884af982 in /home/rrs/anaconda3/envs/snn3/bin/python)\nframe #54: _PyEval_EvalFrameDefault + 0x1a84 (0x558888510b24 in /home/rrs/anaconda3/envs/snn3/bin/python)\nframe #55: _PyGen_Send + 0x2a2 (0x5588884af982 in /home/rrs/anaconda3/envs/snn3/bin/python)\nframe #56: _PyMethodDef_RawFastCallKeywords + 0x8d (0x5588884a772d in /home/rrs/anaconda3/envs/snn3/bin/python)\nframe #57: _PyMethodDescr_FastCallKeywords + 0x4f (0x5588884ae7af in /home/rrs/anaconda3/envs/snn3/bin/python)\nframe #58: _PyEval_EvalFrameDefault + 0x4bdc (0x558888513c7c in /home/rrs/anaconda3/envs/snn3/bin/python)\nframe #59: _PyFunction_FastCallKeywords + 0xfb (0x5588884a6e7b in /home/rrs/anaconda3/envs/snn3/bin/python)\nframe #60: _PyEval_EvalFrameDefault + 0x416 (0x55888850f4b6 in /home/rrs/anaconda3/envs/snn3/bin/python)\nframe #61: _PyFunction_FastCallKeywords + 0xfb (0x5588884a6e7b in /home/rrs/anaconda3/envs/snn3/bin/python)\nframe #62: _PyEval_EvalFrameDefault + 0x6a0 (0x55888850f740 in /home/rrs/anaconda3/envs/snn3/bin/python)\nframe #63: _PyEval_EvalCodeWithName + 0x2f9 (0x558888456829 in /home/rrs/anaconda3/envs/snn3/bin/python)\n"
     ]
    }
   ],
   "source": [
    "Network0(trainNMNIST[0][0])"
   ]
  },
  {
   "cell_type": "code",
   "execution_count": 46,
   "metadata": {},
   "outputs": [],
   "source": [
    "Network0.readyTraining(device, deviceIds)"
   ]
  },
  {
   "cell_type": "code",
   "execution_count": 47,
   "metadata": {},
   "outputs": [
    {
     "data": {
      "text/plain": [
       "125"
      ]
     },
     "execution_count": 47,
     "metadata": {},
     "output_type": "execute_result"
    }
   ],
   "source": [
    "len(Network0.netVars['testLoader'])"
   ]
  },
  {
   "cell_type": "markdown",
   "metadata": {},
   "source": [
    "# Train the network\n",
    "Train the network for 100 epochs."
   ]
  },
  {
   "cell_type": "code",
   "execution_count": 49,
   "metadata": {},
   "outputs": [],
   "source": [
    "# first move to a new directory to not overwrite anything\n",
    "dt_string = datetime.now().strftime(\"%d-%m-%Y_%Hh%Mm%S\")\n",
    "dirname = dt_string\n",
    "i = 0\n",
    "while os.path.exists(os.path.join(RESULTS_DIR, 'data', dirname)):\n",
    "    dirname = dt_string + '_' + str(++i)\n",
    "os.mkdir(os.path.join(RESULTS_DIR, 'data', dirname))"
   ]
  },
  {
   "cell_type": "code",
   "execution_count": 50,
   "metadata": {
    "scrolled": false
   },
   "outputs": [
    {
     "data": {
      "application/vnd.jupyter.widget-view+json": {
       "model_id": "0fa62c3b8526428781b325484483c1e8",
       "version_major": 2,
       "version_minor": 0
      },
      "text/plain": [
       "HBox(children=(FloatProgress(value=0.0, description='epochs', max=20.0, style=ProgressStyle(description_width=…"
      ]
     },
     "metadata": {},
     "output_type": "display_data"
    },
    {
     "data": {
      "application/vnd.jupyter.widget-view+json": {
       "model_id": "2cb5dcd7d1b948dba33c83fc59bbac0e",
       "version_major": 2,
       "version_minor": 0
      },
      "text/plain": [
       "HBox(children=(FloatProgress(value=0.0, description='training loop', max=7500.0, style=ProgressStyle(descripti…"
      ]
     },
     "metadata": {},
     "output_type": "display_data"
    },
    {
     "data": {
      "application/vnd.jupyter.widget-view+json": {
       "model_id": "",
       "version_major": 2,
       "version_minor": 0
      },
      "text/plain": [
       "HBox(children=(FloatProgress(value=1.0, bar_style='info', description='testing loop', max=1.0, style=ProgressS…"
      ]
     },
     "metadata": {},
     "output_type": "display_data"
    },
    {
     "data": {
      "application/vnd.jupyter.widget-view+json": {
       "model_id": "",
       "version_major": 2,
       "version_minor": 0
      },
      "text/plain": [
       "HBox(children=(FloatProgress(value=1.0, bar_style='info', description='testing loop', max=1.0, style=ProgressS…"
      ]
     },
     "metadata": {},
     "output_type": "display_data"
    },
    {
     "data": {
      "application/vnd.jupyter.widget-view+json": {
       "model_id": "",
       "version_major": 2,
       "version_minor": 0
      },
      "text/plain": [
       "HBox(children=(FloatProgress(value=1.0, bar_style='info', description='testing loop', max=1.0, style=ProgressS…"
      ]
     },
     "metadata": {},
     "output_type": "display_data"
    },
    {
     "name": "stderr",
     "output_type": "stream",
     "text": [
      "IOPub message rate exceeded.\n",
      "The notebook server will temporarily stop sending output\n",
      "to the client in order to avoid crashing it.\n",
      "To change this limit, set the config variable\n",
      "`--NotebookApp.iopub_msg_rate_limit`.\n",
      "\n",
      "Current values:\n",
      "NotebookApp.iopub_msg_rate_limit=1000.0 (msgs/sec)\n",
      "NotebookApp.rate_limit_window=3.0 (secs)\n",
      "\n"
     ]
    },
    {
     "data": {
      "application/vnd.jupyter.widget-view+json": {
       "model_id": "",
       "version_major": 2,
       "version_minor": 0
      },
      "text/plain": [
       "HBox(children=(FloatProgress(value=1.0, bar_style='info', description='testing loop', max=1.0, style=ProgressS…"
      ]
     },
     "metadata": {},
     "output_type": "display_data"
    },
    {
     "data": {
      "application/vnd.jupyter.widget-view+json": {
       "model_id": "",
       "version_major": 2,
       "version_minor": 0
      },
      "text/plain": [
       "HBox(children=(FloatProgress(value=1.0, bar_style='info', description='testing loop', max=1.0, style=ProgressS…"
      ]
     },
     "metadata": {},
     "output_type": "display_data"
    },
    {
     "data": {
      "application/vnd.jupyter.widget-view+json": {
       "model_id": "",
       "version_major": 2,
       "version_minor": 0
      },
      "text/plain": [
       "HBox(children=(FloatProgress(value=1.0, bar_style='info', description='testing loop', max=1.0, style=ProgressS…"
      ]
     },
     "metadata": {},
     "output_type": "display_data"
    },
    {
     "name": "stderr",
     "output_type": "stream",
     "text": [
      "IOPub message rate exceeded.\n",
      "The notebook server will temporarily stop sending output\n",
      "to the client in order to avoid crashing it.\n",
      "To change this limit, set the config variable\n",
      "`--NotebookApp.iopub_msg_rate_limit`.\n",
      "\n",
      "Current values:\n",
      "NotebookApp.iopub_msg_rate_limit=1000.0 (msgs/sec)\n",
      "NotebookApp.rate_limit_window=3.0 (secs)\n",
      "\n"
     ]
    },
    {
     "data": {
      "application/vnd.jupyter.widget-view+json": {
       "model_id": "",
       "version_major": 2,
       "version_minor": 0
      },
      "text/plain": [
       "HBox(children=(FloatProgress(value=1.0, bar_style='info', description='testing loop', max=1.0, style=ProgressS…"
      ]
     },
     "metadata": {},
     "output_type": "display_data"
    },
    {
     "data": {
      "application/vnd.jupyter.widget-view+json": {
       "model_id": "",
       "version_major": 2,
       "version_minor": 0
      },
      "text/plain": [
       "HBox(children=(FloatProgress(value=1.0, bar_style='info', description='testing loop', max=1.0, style=ProgressS…"
      ]
     },
     "metadata": {},
     "output_type": "display_data"
    },
    {
     "data": {
      "application/vnd.jupyter.widget-view+json": {
       "model_id": "",
       "version_major": 2,
       "version_minor": 0
      },
      "text/plain": [
       "HBox(children=(FloatProgress(value=1.0, bar_style='info', description='testing loop', max=1.0, style=ProgressS…"
      ]
     },
     "metadata": {},
     "output_type": "display_data"
    },
    {
     "name": "stderr",
     "output_type": "stream",
     "text": [
      "IOPub message rate exceeded.\n",
      "The notebook server will temporarily stop sending output\n",
      "to the client in order to avoid crashing it.\n",
      "To change this limit, set the config variable\n",
      "`--NotebookApp.iopub_msg_rate_limit`.\n",
      "\n",
      "Current values:\n",
      "NotebookApp.iopub_msg_rate_limit=1000.0 (msgs/sec)\n",
      "NotebookApp.rate_limit_window=3.0 (secs)\n",
      "\n"
     ]
    },
    {
     "data": {
      "application/vnd.jupyter.widget-view+json": {
       "model_id": "",
       "version_major": 2,
       "version_minor": 0
      },
      "text/plain": [
       "HBox(children=(FloatProgress(value=1.0, bar_style='info', description='testing loop', max=1.0, style=ProgressS…"
      ]
     },
     "metadata": {},
     "output_type": "display_data"
    },
    {
     "data": {
      "application/vnd.jupyter.widget-view+json": {
       "model_id": "",
       "version_major": 2,
       "version_minor": 0
      },
      "text/plain": [
       "HBox(children=(FloatProgress(value=1.0, bar_style='info', description='testing loop', max=1.0, style=ProgressS…"
      ]
     },
     "metadata": {},
     "output_type": "display_data"
    },
    {
     "name": "stderr",
     "output_type": "stream",
     "text": [
      "IOPub message rate exceeded.\n",
      "The notebook server will temporarily stop sending output\n",
      "to the client in order to avoid crashing it.\n",
      "To change this limit, set the config variable\n",
      "`--NotebookApp.iopub_msg_rate_limit`.\n",
      "\n",
      "Current values:\n",
      "NotebookApp.iopub_msg_rate_limit=1000.0 (msgs/sec)\n",
      "NotebookApp.rate_limit_window=3.0 (secs)\n",
      "\n"
     ]
    },
    {
     "data": {
      "application/vnd.jupyter.widget-view+json": {
       "model_id": "",
       "version_major": 2,
       "version_minor": 0
      },
      "text/plain": [
       "HBox(children=(FloatProgress(value=1.0, bar_style='info', description='testing loop', max=1.0, style=ProgressS…"
      ]
     },
     "metadata": {},
     "output_type": "display_data"
    },
    {
     "data": {
      "application/vnd.jupyter.widget-view+json": {
       "model_id": "",
       "version_major": 2,
       "version_minor": 0
      },
      "text/plain": [
       "HBox(children=(FloatProgress(value=1.0, bar_style='info', description='testing loop', max=1.0, style=ProgressS…"
      ]
     },
     "metadata": {},
     "output_type": "display_data"
    },
    {
     "name": "stderr",
     "output_type": "stream",
     "text": [
      "IOPub message rate exceeded.\n",
      "The notebook server will temporarily stop sending output\n",
      "to the client in order to avoid crashing it.\n",
      "To change this limit, set the config variable\n",
      "`--NotebookApp.iopub_msg_rate_limit`.\n",
      "\n",
      "Current values:\n",
      "NotebookApp.iopub_msg_rate_limit=1000.0 (msgs/sec)\n",
      "NotebookApp.rate_limit_window=3.0 (secs)\n",
      "\n"
     ]
    },
    {
     "data": {
      "application/vnd.jupyter.widget-view+json": {
       "model_id": "",
       "version_major": 2,
       "version_minor": 0
      },
      "text/plain": [
       "HBox(children=(FloatProgress(value=1.0, bar_style='info', description='testing loop', max=1.0, style=ProgressS…"
      ]
     },
     "metadata": {},
     "output_type": "display_data"
    },
    {
     "data": {
      "application/vnd.jupyter.widget-view+json": {
       "model_id": "",
       "version_major": 2,
       "version_minor": 0
      },
      "text/plain": [
       "HBox(children=(FloatProgress(value=1.0, bar_style='info', description='testing loop', max=1.0, style=ProgressS…"
      ]
     },
     "metadata": {},
     "output_type": "display_data"
    },
    {
     "name": "stderr",
     "output_type": "stream",
     "text": [
      "IOPub message rate exceeded.\n",
      "The notebook server will temporarily stop sending output\n",
      "to the client in order to avoid crashing it.\n",
      "To change this limit, set the config variable\n",
      "`--NotebookApp.iopub_msg_rate_limit`.\n",
      "\n",
      "Current values:\n",
      "NotebookApp.iopub_msg_rate_limit=1000.0 (msgs/sec)\n",
      "NotebookApp.rate_limit_window=3.0 (secs)\n",
      "\n"
     ]
    },
    {
     "data": {
      "application/vnd.jupyter.widget-view+json": {
       "model_id": "",
       "version_major": 2,
       "version_minor": 0
      },
      "text/plain": [
       "HBox(children=(FloatProgress(value=1.0, bar_style='info', description='testing loop', max=1.0, style=ProgressS…"
      ]
     },
     "metadata": {},
     "output_type": "display_data"
    },
    {
     "ename": "KeyboardInterrupt",
     "evalue": "",
     "output_type": "error",
     "traceback": [
      "\u001b[0;31m---------------------------------------------------------------------------\u001b[0m",
      "\u001b[0;31mKeyboardInterrupt\u001b[0m                         Traceback (most recent call last)",
      "\u001b[0;32m<ipython-input-50-78dad0846a5a>\u001b[0m in \u001b[0;36m<module>\u001b[0;34m\u001b[0m\n\u001b[1;32m      1\u001b[0m \u001b[0mNetwork0\u001b[0m\u001b[0;34m.\u001b[0m\u001b[0mreadyTraining\u001b[0m\u001b[0;34m(\u001b[0m\u001b[0mdevice\u001b[0m\u001b[0;34m,\u001b[0m \u001b[0mdeviceIds\u001b[0m\u001b[0;34m)\u001b[0m\u001b[0;34m\u001b[0m\u001b[0;34m\u001b[0m\u001b[0m\n\u001b[0;32m----> 2\u001b[0;31m \u001b[0mNetwork0\u001b[0m\u001b[0;34m.\u001b[0m\u001b[0mdoTrain\u001b[0m\u001b[0;34m(\u001b[0m\u001b[0mdevice\u001b[0m\u001b[0;34m,\u001b[0m \u001b[0mepochcount\u001b[0m\u001b[0;34m=\u001b[0m\u001b[0;36m20\u001b[0m\u001b[0;34m,\u001b[0m \u001b[0mwriter\u001b[0m\u001b[0;34m=\u001b[0m\u001b[0mSummaryWriter\u001b[0m\u001b[0;34m(\u001b[0m\u001b[0mos\u001b[0m\u001b[0;34m.\u001b[0m\u001b[0mpath\u001b[0m\u001b[0;34m.\u001b[0m\u001b[0mjoin\u001b[0m\u001b[0;34m(\u001b[0m\u001b[0mRESULTS_DIR\u001b[0m\u001b[0;34m,\u001b[0m\u001b[0;34m'data'\u001b[0m\u001b[0;34m,\u001b[0m\u001b[0mdirname\u001b[0m\u001b[0;34m,\u001b[0m\u001b[0;34m\"moredata\"\u001b[0m\u001b[0;34m)\u001b[0m\u001b[0;34m)\u001b[0m\u001b[0;34m)\u001b[0m\u001b[0;34m\u001b[0m\u001b[0;34m\u001b[0m\u001b[0m\n\u001b[0m",
      "\u001b[0;32m<ipython-input-43-2f0c98f89c93>\u001b[0m in \u001b[0;36mdoTrain\u001b[0;34m(self, device, epochcount, writer)\u001b[0m\n\u001b[1;32m     86\u001b[0m             \u001b[0;32mfor\u001b[0m \u001b[0mi\u001b[0m\u001b[0;34m,\u001b[0m \u001b[0;34m(\u001b[0m\u001b[0minput\u001b[0m\u001b[0;34m,\u001b[0m \u001b[0mtarget\u001b[0m\u001b[0;34m,\u001b[0m \u001b[0mlabel\u001b[0m\u001b[0;34m)\u001b[0m \u001b[0;32min\u001b[0m \u001b[0menumerate\u001b[0m\u001b[0;34m(\u001b[0m\u001b[0mtqdm\u001b[0m\u001b[0;34m.\u001b[0m\u001b[0mtqdm\u001b[0m\u001b[0;34m(\u001b[0m\u001b[0mtrainLoader\u001b[0m\u001b[0;34m,\u001b[0m \u001b[0mdesc\u001b[0m\u001b[0;34m=\u001b[0m\u001b[0;34m'training loop'\u001b[0m\u001b[0;34m,\u001b[0m \u001b[0mleave\u001b[0m\u001b[0;34m=\u001b[0m\u001b[0;32mFalse\u001b[0m\u001b[0;34m)\u001b[0m\u001b[0;34m,\u001b[0m \u001b[0;36m0\u001b[0m\u001b[0;34m)\u001b[0m\u001b[0;34m:\u001b[0m\u001b[0;34m\u001b[0m\u001b[0;34m\u001b[0m\u001b[0m\n\u001b[1;32m     87\u001b[0m                 \u001b[0;31m# Move the input and target to correct GPU.\u001b[0m\u001b[0;34m\u001b[0m\u001b[0;34m\u001b[0m\u001b[0;34m\u001b[0m\u001b[0m\n\u001b[0;32m---> 88\u001b[0;31m                 \u001b[0minput\u001b[0m  \u001b[0;34m=\u001b[0m \u001b[0minput\u001b[0m\u001b[0;34m.\u001b[0m\u001b[0mto\u001b[0m\u001b[0;34m(\u001b[0m\u001b[0mdevice\u001b[0m\u001b[0;34m)\u001b[0m\u001b[0;34m\u001b[0m\u001b[0;34m\u001b[0m\u001b[0m\n\u001b[0m\u001b[1;32m     89\u001b[0m                 \u001b[0mtarget\u001b[0m \u001b[0;34m=\u001b[0m \u001b[0mtarget\u001b[0m\u001b[0;34m.\u001b[0m\u001b[0mto\u001b[0m\u001b[0;34m(\u001b[0m\u001b[0mdevice\u001b[0m\u001b[0;34m)\u001b[0m\u001b[0;34m\u001b[0m\u001b[0;34m\u001b[0m\u001b[0m\n\u001b[1;32m     90\u001b[0m \u001b[0;34m\u001b[0m\u001b[0m\n",
      "\u001b[0;31mKeyboardInterrupt\u001b[0m: "
     ]
    }
   ],
   "source": [
    "Network0.readyTraining(device, deviceIds)\n",
    "Network0.doTrain(device, epochcount=20, writer=SummaryWriter(os.path.join(RESULTS_DIR,'data',dirname,\"moredata\")))"
   ]
  },
  {
   "cell_type": "code",
   "execution_count": 51,
   "metadata": {},
   "outputs": [],
   "source": [
    "os.makedirs(os.path.join(RESULTS_DIR, 'models', dirname, 'moredata'))"
   ]
  },
  {
   "cell_type": "code",
   "execution_count": 52,
   "metadata": {},
   "outputs": [],
   "source": [
    "torch.save(Network0.state_dict(), os.path.join(RESULTS_DIR, 'models', dirname, 'moredata', 'originalmodel'))"
   ]
  },
  {
   "cell_type": "code",
   "execution_count": null,
   "metadata": {
    "scrolled": true
   },
   "outputs": [],
   "source": [
    "Network1.readyTraining(device, deviceIds)\n",
    "Network1.doTrain(device, epochcount=20, writer=SummaryWriter(os.path.join(RESULTS_DIR,'data',dirname,\"moredata2\")))"
   ]
  },
  {
   "cell_type": "code",
   "execution_count": null,
   "metadata": {},
   "outputs": [],
   "source": [
    "os.makedirs(os.path.join(RESULTS_DIR, 'models', dirname, 'moredata2'))"
   ]
  },
  {
   "cell_type": "code",
   "execution_count": null,
   "metadata": {},
   "outputs": [],
   "source": [
    "torch.save(Network1.state_dict(), os.path.join(RESULTS_DIR, 'models', dirname, 'moredata2', 'model1'))"
   ]
  },
  {
   "cell_type": "code",
   "execution_count": null,
   "metadata": {},
   "outputs": [],
   "source": []
  },
  {
   "cell_type": "code",
   "execution_count": null,
   "metadata": {},
   "outputs": [],
   "source": []
  },
  {
   "cell_type": "code",
   "execution_count": null,
   "metadata": {},
   "outputs": [],
   "source": []
  },
  {
   "cell_type": "code",
   "execution_count": null,
   "metadata": {},
   "outputs": [],
   "source": []
  },
  {
   "cell_type": "code",
   "execution_count": null,
   "metadata": {},
   "outputs": [],
   "source": []
  },
  {
   "cell_type": "code",
   "execution_count": null,
   "metadata": {},
   "outputs": [],
   "source": []
  },
  {
   "cell_type": "markdown",
   "metadata": {},
   "source": [
    "# testing newly trained network with old testing set to make sure accuracy results are valid and comparable"
   ]
  },
  {
   "cell_type": "code",
   "execution_count": 68,
   "metadata": {},
   "outputs": [],
   "source": [
    "netParamsOld = snn.params('network.yaml')"
   ]
  },
  {
   "cell_type": "code",
   "execution_count": 59,
   "metadata": {},
   "outputs": [],
   "source": [
    "with zipfile.ZipFile('../data/NMNISTsmall.zip') as zip_file:\n",
    "    for member in zip_file.namelist():\n",
    "        if not os.path.exists('./' + member):\n",
    "            zip_file.extract(member, '../data/')"
   ]
  },
  {
   "cell_type": "code",
   "execution_count": 60,
   "metadata": {},
   "outputs": [],
   "source": [
    "# Dataset definition\n",
    "class nmnistDatasetOld(Dataset):\n",
    "    def __init__(self, datasetPath, sampleFile, samplingTime, sampleLength):\n",
    "        self.path = datasetPath \n",
    "        self.samples = np.loadtxt(sampleFile).astype('int')\n",
    "        self.samplingTime = samplingTime\n",
    "        self.nTimeBins    = int(sampleLength / samplingTime)\n",
    "\n",
    "    def __getitem__(self, index):\n",
    "        inputIndex  = self.samples[index, 0]\n",
    "        classLabel  = self.samples[index, 1]\n",
    "\n",
    "        inputSpikes = snn.io.read2Dspikes(\n",
    "                        self.path + str(inputIndex.item()) + '.bs2'\n",
    "                        ).toSpikeTensor(torch.zeros((2,34,34,self.nTimeBins)),\n",
    "                        samplingTime=self.samplingTime)\n",
    "        desiredClass = torch.zeros((10, 1, 1, 1))\n",
    "        desiredClass[classLabel,...] = 1\n",
    "        return inputSpikes, desiredClass, classLabel\n",
    "\n",
    "    def __len__(self):\n",
    "        return self.samples.shape[0]"
   ]
  },
  {
   "cell_type": "code",
   "execution_count": 67,
   "metadata": {},
   "outputs": [],
   "source": [
    "net = Network0.netVars['net']\n",
    "stats = Network0.netVars['stats']\n",
    "error = Network0.netVars['error']"
   ]
  },
  {
   "cell_type": "code",
   "execution_count": 69,
   "metadata": {},
   "outputs": [],
   "source": [
    "testingSet = nmnistDatasetOld(datasetPath  =netParamsOld['training']['path']['in'], \n",
    "                            sampleFile  =netParamsOld['training']['path']['test'],\n",
    "                            samplingTime=netParamsOld['simulation']['Ts'],\n",
    "                            sampleLength=netParamsOld['simulation']['tSample'])\n",
    "testLoader = DataLoader(dataset=testingSet, batch_size=8, shuffle=False, num_workers=4)"
   ]
  },
  {
   "cell_type": "code",
   "execution_count": 70,
   "metadata": {},
   "outputs": [
    {
     "data": {
      "application/vnd.jupyter.widget-view+json": {
       "model_id": "b59dc8896c0e408a83bb5626a59c0429",
       "version_major": 2,
       "version_minor": 0
      },
      "text/plain": [
       "HBox(children=(FloatProgress(value=0.0, description='test', max=13.0, style=ProgressStyle(description_width='i…"
      ]
     },
     "metadata": {},
     "output_type": "display_data"
    },
    {
     "name": "stdout",
     "output_type": "stream",
     "text": [
      "\n"
     ]
    }
   ],
   "source": [
    "# Reset testing stats.\n",
    "stats.testing.reset()\n",
    "\n",
    "# Testing loop.\n",
    "# Same steps as Training loops except loss backpropagation and weight update.\n",
    "for i, (input, target, label) in enumerate(tqdm.tqdm(testLoader, desc='test'), 0):\n",
    "    input  = input.to(device)\n",
    "    target = target.to(device) \n",
    "\n",
    "    output = net.forward(input)\n",
    "\n",
    "    stats.testing.correctSamples += torch.sum( snn.predict.getClass(output) == label ).data.item()\n",
    "    stats.testing.numSamples     += len(label)\n",
    "\n",
    "    loss = error.numSpikes(output, target)\n",
    "    stats.testing.lossSum += loss.cpu().data.item()\n",
    "    # stats.print(epoch, i)\n",
    "\n",
    "# Update testing stats.\n",
    "stats.testing.update()"
   ]
  },
  {
   "cell_type": "code",
   "execution_count": 71,
   "metadata": {},
   "outputs": [
    {
     "name": "stdout",
     "output_type": "stream",
     "text": [
      "\u001b[0A\n",
      "Epoch :          0(i =       0)\n",
      "loss = 1.0278      (min = 0.51917    )    accuracy = 0.87023  (max = 1       )\n",
      "loss = 0.9149      (min = 0.9149     )    accuracy = 0.88     (max = 0.88    )\n"
     ]
    }
   ],
   "source": [
    "stats.print(0, 0)"
   ]
  },
  {
   "cell_type": "code",
   "execution_count": null,
   "metadata": {},
   "outputs": [],
   "source": []
  },
  {
   "cell_type": "code",
   "execution_count": null,
   "metadata": {},
   "outputs": [],
   "source": []
  },
  {
   "cell_type": "code",
   "execution_count": null,
   "metadata": {},
   "outputs": [],
   "source": []
  },
  {
   "cell_type": "code",
   "execution_count": null,
   "metadata": {},
   "outputs": [],
   "source": []
  },
  {
   "cell_type": "markdown",
   "metadata": {},
   "source": [
    "## ~~Plot the Results~~"
   ]
  },
  {
   "cell_type": "raw",
   "metadata": {},
   "source": [
    "plt.figure(1)\n",
    "plt.semilogy(stats.training.lossLog, label='Training')\n",
    "plt.semilogy(stats.testing .lossLog, label='Testing')\n",
    "plt.xlabel('Epoch')\n",
    "plt.ylabel('Loss')\n",
    "plt.legend()\n",
    "\n",
    "plt.figure(2)\n",
    "plt.plot(stats.training.accuracyLog, label='Training')\n",
    "plt.plot(stats.testing .accuracyLog, label='Testing')\n",
    "plt.xlabel('Epoch')\n",
    "plt.ylabel('Accuracy')\n",
    "plt.legend()\n",
    "\n",
    "plt.show()"
   ]
  },
  {
   "cell_type": "code",
   "execution_count": null,
   "metadata": {},
   "outputs": [],
   "source": []
  }
 ],
 "metadata": {
  "kernelspec": {
   "display_name": "Python 3",
   "language": "python",
   "name": "python3"
  },
  "language_info": {
   "codemirror_mode": {
    "name": "ipython",
    "version": 3
   },
   "file_extension": ".py",
   "mimetype": "text/x-python",
   "name": "python",
   "nbconvert_exporter": "python",
   "pygments_lexer": "ipython3",
   "version": "3.6.12"
  }
 },
 "nbformat": 4,
 "nbformat_minor": 4
}
